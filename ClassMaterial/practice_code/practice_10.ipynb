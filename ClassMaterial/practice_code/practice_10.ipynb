{
 "cells": [
  {
   "cell_type": "markdown",
   "id": "634596d9-39ac-431a-bb17-c7fbef8562ef",
   "metadata": {},
   "source": [
    "Welcome to Preceptor Practice Session 10! "
   ]
  },
  {
   "cell_type": "code",
   "execution_count": 17,
   "id": "abf7de5e-63ec-475f-8b0e-49ee6a79e2b6",
   "metadata": {},
   "outputs": [],
   "source": [
    "import YData \n",
    "\n",
    "\n",
    "#YData.download_practice_code(10)              # Without Answers. \n",
    "#YData.download_practice_code(10, True)        # With Answers. \n",
    "\n",
    "\n",
    "\n",
    "import pandas as pd \n",
    "import numpy as np\n",
    "\n",
    "#YData.download_data(\"loan_data.csv\")\n"
   ]
  },
  {
   "cell_type": "code",
   "execution_count": 18,
   "id": "cb75740b-870c-4b9d-962c-97215671a309",
   "metadata": {},
   "outputs": [
    {
     "data": {
      "text/html": [
       "<div>\n",
       "<style scoped>\n",
       "    .dataframe tbody tr th:only-of-type {\n",
       "        vertical-align: middle;\n",
       "    }\n",
       "\n",
       "    .dataframe tbody tr th {\n",
       "        vertical-align: top;\n",
       "    }\n",
       "\n",
       "    .dataframe thead th {\n",
       "        text-align: right;\n",
       "    }\n",
       "</style>\n",
       "<table border=\"1\" class=\"dataframe\">\n",
       "  <thead>\n",
       "    <tr style=\"text-align: right;\">\n",
       "      <th></th>\n",
       "      <th>person_age</th>\n",
       "      <th>person_gender</th>\n",
       "      <th>person_education</th>\n",
       "      <th>person_income</th>\n",
       "      <th>person_emp_exp</th>\n",
       "      <th>person_home_ownership</th>\n",
       "      <th>loan_amnt</th>\n",
       "      <th>loan_intent</th>\n",
       "      <th>loan_int_rate</th>\n",
       "      <th>cb_person_cred_hist_length</th>\n",
       "      <th>credit_score</th>\n",
       "      <th>previous_loan_defaults_on_file</th>\n",
       "      <th>loan_status</th>\n",
       "    </tr>\n",
       "  </thead>\n",
       "  <tbody>\n",
       "    <tr>\n",
       "      <th>0</th>\n",
       "      <td>22.0</td>\n",
       "      <td>female</td>\n",
       "      <td>Master</td>\n",
       "      <td>71948.0</td>\n",
       "      <td>0</td>\n",
       "      <td>RENT</td>\n",
       "      <td>35000.0</td>\n",
       "      <td>PERSONAL</td>\n",
       "      <td>16.02</td>\n",
       "      <td>3.0</td>\n",
       "      <td>561</td>\n",
       "      <td>No</td>\n",
       "      <td>1</td>\n",
       "    </tr>\n",
       "    <tr>\n",
       "      <th>1</th>\n",
       "      <td>21.0</td>\n",
       "      <td>female</td>\n",
       "      <td>High School</td>\n",
       "      <td>12282.0</td>\n",
       "      <td>0</td>\n",
       "      <td>OWN</td>\n",
       "      <td>1000.0</td>\n",
       "      <td>EDUCATION</td>\n",
       "      <td>11.14</td>\n",
       "      <td>2.0</td>\n",
       "      <td>504</td>\n",
       "      <td>Yes</td>\n",
       "      <td>0</td>\n",
       "    </tr>\n",
       "    <tr>\n",
       "      <th>2</th>\n",
       "      <td>25.0</td>\n",
       "      <td>female</td>\n",
       "      <td>High School</td>\n",
       "      <td>12438.0</td>\n",
       "      <td>3</td>\n",
       "      <td>MORTGAGE</td>\n",
       "      <td>5500.0</td>\n",
       "      <td>MEDICAL</td>\n",
       "      <td>12.87</td>\n",
       "      <td>3.0</td>\n",
       "      <td>635</td>\n",
       "      <td>No</td>\n",
       "      <td>1</td>\n",
       "    </tr>\n",
       "  </tbody>\n",
       "</table>\n",
       "</div>"
      ],
      "text/plain": [
       "   person_age person_gender person_education  person_income  person_emp_exp  \\\n",
       "0        22.0        female           Master        71948.0               0   \n",
       "1        21.0        female      High School        12282.0               0   \n",
       "2        25.0        female      High School        12438.0               3   \n",
       "\n",
       "  person_home_ownership  loan_amnt loan_intent  loan_int_rate  \\\n",
       "0                  RENT    35000.0    PERSONAL          16.02   \n",
       "1                   OWN     1000.0   EDUCATION          11.14   \n",
       "2              MORTGAGE     5500.0     MEDICAL          12.87   \n",
       "\n",
       "   cb_person_cred_hist_length  credit_score previous_loan_defaults_on_file  \\\n",
       "0                         3.0           561                             No   \n",
       "1                         2.0           504                            Yes   \n",
       "2                         3.0           635                             No   \n",
       "\n",
       "   loan_status  \n",
       "0            1  \n",
       "1            0  \n",
       "2            1  "
      ]
     },
     "metadata": {},
     "output_type": "display_data"
    },
    {
     "data": {
      "text/plain": [
       "(45000, 13)"
      ]
     },
     "metadata": {},
     "output_type": "display_data"
    }
   ],
   "source": [
    "loans = pd.read_csv(\"loan_data.csv\")\n",
    "loans = loans.drop(columns = \"loan_percent_income\")\n",
    "display(loans.head(3), loans.shape)"
   ]
  },
  {
   "cell_type": "markdown",
   "id": "7576a313-d360-49d7-8e2f-96e277abe090",
   "metadata": {},
   "source": [
    "## 1. Linear regression\n",
    "\n",
    "In regression, we try to predict a quantitative variable y, from a set of features X. \n",
    "\n",
    "Let's explore this by predicting the person's income (in USD) from other quantitative features in the above dataset. \n",
    "\n",
    "- You are free to choose your own set of features; I am following closely the setup from the class.\n",
    "- Remark: When working with salaries, usually one takes `log transform`. You can use `np.log()` function for this. \n"
   ]
  },
  {
   "cell_type": "code",
   "execution_count": 1,
   "id": "89a8c1e6-6a52-4f96-8560-be26b9b52233",
   "metadata": {},
   "outputs": [],
   "source": [
    "# get the features and the labels\n",
    "\n",
    "\n",
    "\n"
   ]
  },
  {
   "cell_type": "markdown",
   "id": "5433af2b-bcce-4ba2-882d-dae5c1f555d0",
   "metadata": {},
   "source": [
    "- Let's use scikit-learn to generate training and test data (as we did previously for our KNN classifier). "
   ]
  },
  {
   "cell_type": "code",
   "execution_count": 2,
   "id": "7f9a3f46-e4f5-4b9a-9b63-ba539e80587d",
   "metadata": {},
   "outputs": [],
   "source": [
    "from sklearn.model_selection import train_test_split\n",
    "\n",
    "# split data into a training and test set\n",
    "\n",
    "\n"
   ]
  },
  {
   "cell_type": "markdown",
   "id": "0588b0d6-d6a2-411d-a8a5-51663d5fd6d1",
   "metadata": {},
   "source": [
    "- We can now create a new linear regression model, fit it to data, and make predictions. The method names are again very similar to what we used for the KNN classifier (i.e., the `fit()` and predict()` methods). "
   ]
  },
  {
   "cell_type": "code",
   "execution_count": 3,
   "id": "9c01d345-1548-4183-9d04-7c09675579cf",
   "metadata": {},
   "outputs": [],
   "source": [
    "from sklearn.linear_model import LinearRegression\n",
    "\n",
    "# create a new linear regression modedl\n"
   ]
  },
  {
   "cell_type": "code",
   "execution_count": 4,
   "id": "5a5601b0-463b-4d47-bc1c-0a517330d0ea",
   "metadata": {},
   "outputs": [],
   "source": [
    "# fit the model to our training data\n",
    "\n"
   ]
  },
  {
   "cell_type": "code",
   "execution_count": 5,
   "id": "d245d768-cf23-4431-8a1a-f2cd3393b244",
   "metadata": {},
   "outputs": [],
   "source": [
    "# make predictions of the salaries on the test data\n",
    "\n"
   ]
  },
  {
   "cell_type": "markdown",
   "id": "0b745944-4bfa-4631-b8b7-dbf1a69d0b0c",
   "metadata": {},
   "source": [
    "- We can assess the accuracy of our predictons using the root mean squared error which is defined as: \n",
    "\n",
    "$$RMSE = \\sqrt{ \\frac{1}{n}\\sum_{i=1}^{n} (y_i - \\hat{y}_i)^2}$$\n",
    "\n",
    "- Here $\\hat{y}$ is the predictions made by our linear model on the test data (i.e., the predicted salary) and y is the actual salary for the points in our test set.\n"
   ]
  },
  {
   "cell_type": "code",
   "execution_count": null,
   "id": "f963fb6a-b397-4cab-b492-a1d65c17184a",
   "metadata": {},
   "outputs": [],
   "source": []
  },
  {
   "cell_type": "code",
   "execution_count": 7,
   "id": "10a4f688-1476-4e04-89a0-e1bcc9fd9129",
   "metadata": {},
   "outputs": [],
   "source": [
    "# test the RMSE on the test data\n",
    "\n",
    "\n",
    "\n",
    "\n"
   ]
  },
  {
   "cell_type": "code",
   "execution_count": null,
   "id": "f78e1be3-113a-475b-b47c-3f2dab43a02b",
   "metadata": {},
   "outputs": [],
   "source": []
  },
  {
   "cell_type": "markdown",
   "id": "4f8afb94-8dd0-4890-bb27-e4b62a156dd2",
   "metadata": {},
   "source": [
    "- We can also use scikit-learn's `mean_squared_error()` to get the MSE, and we can use the `cross_val_score` to run k-fold cross-validation (again, in a very similar way to what we did for our KNN classifier). "
   ]
  },
  {
   "cell_type": "code",
   "execution_count": 8,
   "id": "6f21879d-9be8-4e24-9ea8-c8b67f324c9d",
   "metadata": {},
   "outputs": [],
   "source": [
    "from sklearn.metrics import mean_squared_error\n",
    "\n",
    "# Use scikit-learn's mean_squared_error() function to get the RMSE\n",
    "\n"
   ]
  },
  {
   "cell_type": "code",
   "execution_count": 11,
   "id": "ef2b65a8-8a01-442d-b625-b52f7c23b683",
   "metadata": {},
   "outputs": [],
   "source": [
    "# using cross-validation\n",
    "from sklearn.model_selection import cross_val_score\n",
    "\n"
   ]
  },
  {
   "cell_type": "markdown",
   "id": "ed6bfdb3-167b-480f-b98d-2c4065ca6b7e",
   "metadata": {},
   "source": [
    "- What does RMSE measures? \n",
    "- Answer: \n"
   ]
  },
  {
   "cell_type": "markdown",
   "id": "0b74db13-e8bb-40cf-a649-c8c0e548b0ea",
   "metadata": {},
   "source": [
    "### Regression model equation\n",
    "\n",
    "In linear regression, our predicted $\\hat{y}$ values are given by the equation: $\\hat{y} = b_0 + b_1 x_1 + ... + + b_k x_k$.\n",
    "\n",
    "Let's fill out this equation for prediciting salary. \n",
    "\n",
    "To do this, let's start by extracting the intercept ($b_0$) and slope coefficients ($b_i's$) from our scikit-learn model.\n"
   ]
  },
  {
   "cell_type": "code",
   "execution_count": 12,
   "id": "fbe99d74-05ad-4b56-b570-2d152512e2e2",
   "metadata": {},
   "outputs": [],
   "source": [
    "\n",
    "# fit the linear regression model to our training data\n",
    "\n",
    "\n",
    "# get the intercept and slope coefficients\n",
    "\n",
    "\n",
    "# print out the coefficient values\n",
    " \n"
   ]
  },
  {
   "cell_type": "markdown",
   "id": "ffde2a52-c4af-434c-b317-6517aa74a942",
   "metadata": {},
   "source": [
    "- Given these coefficient values can you write our the regression equation for predicting person's salary? \n",
    "- Answer: "
   ]
  },
  {
   "cell_type": "markdown",
   "id": "2cf14416-ac73-46bc-a2f0-aa6caef5eb15",
   "metadata": {},
   "source": [
    "#### Writing our own prediction function\n",
    "\n",
    "Let's also write our own function called `get_predictions(b0_intercept, b_coefficients, X_data)` that takes the coefficient values and X values and returns predicted $\\hat{y}$ values for each X value. In particular, the arguments to the function are:\n",
    "\n",
    "1. `b0_intercept`: The linear regression intercept\n",
    "2. `b_coefficients`: The linear regression slope coefficients\n",
    "3. `X_data`: The X data values \n",
    "\n",
    "The returned value is a numpy ndarray of predictions for each X data point. \n"
   ]
  },
  {
   "cell_type": "code",
   "execution_count": 13,
   "id": "14b2b320-91c4-4444-beaf-88190f31fd52",
   "metadata": {},
   "outputs": [],
   "source": [
    "# write a function to get the predictions\n",
    "\n",
    "\n",
    "# get the predicted values on the test data\n",
    "\n",
    "\n",
    "\n",
    "# see the it matches the scikit-learn predictions\n",
    "\n"
   ]
  },
  {
   "cell_type": "markdown",
   "id": "4a23e92f-3595-4b95-9291-821ba9c408a9",
   "metadata": {},
   "source": [
    "## Inference on regression coefficients\n",
    "\n",
    "We can also run inference procedures on our regression model using the statsmodel package. In particular, we can run hypothesis tests and create confidence intervals for our regression coefficents. \n",
    "\n",
    "When running a hypothesis test, our hypotheses are:\n",
    "\n",
    "$H_0: \\beta_i = 0$  \n",
    "$H_A: \\beta_i \\ne 0$\n"
   ]
  },
  {
   "cell_type": "code",
   "execution_count": 14,
   "id": "7106a411-7e49-444c-9e29-a6be35827a29",
   "metadata": {},
   "outputs": [],
   "source": [
    "# Hypothesis test on regression coeffients - which coefficients are statistically significantly different from zero? \n",
    "# (and confidence interval)\n",
    "\n",
    "import statsmodels.api as sm\n",
    "\n",
    "# add a constant value of 1 to our data\n",
    "\n",
    "\n",
    "# fit the linear regression model using the OLS function\n",
    "\n",
    "\n",
    "# get information on the regression coefficients found\n",
    "\n"
   ]
  },
  {
   "cell_type": "markdown",
   "id": "38f48182-dd31-4a6e-b570-befe4f9d2067",
   "metadata": {},
   "source": [
    "- Would you drop `credit_score`? Why?\n",
    "- Answer: "
   ]
  },
  {
   "cell_type": "markdown",
   "id": "8a4a3b7f-0b47-4fb0-bfab-f6a216665ef2",
   "metadata": {},
   "source": [
    "# 2. Linear Regression with categorical features. "
   ]
  },
  {
   "cell_type": "code",
   "execution_count": 19,
   "id": "1da3a1a5-be75-4515-87e6-28e0a1959565",
   "metadata": {},
   "outputs": [
    {
     "data": {
      "text/html": [
       "<div>\n",
       "<style scoped>\n",
       "    .dataframe tbody tr th:only-of-type {\n",
       "        vertical-align: middle;\n",
       "    }\n",
       "\n",
       "    .dataframe tbody tr th {\n",
       "        vertical-align: top;\n",
       "    }\n",
       "\n",
       "    .dataframe thead th {\n",
       "        text-align: right;\n",
       "    }\n",
       "</style>\n",
       "<table border=\"1\" class=\"dataframe\">\n",
       "  <thead>\n",
       "    <tr style=\"text-align: right;\">\n",
       "      <th></th>\n",
       "      <th>person_age</th>\n",
       "      <th>person_gender</th>\n",
       "      <th>person_education</th>\n",
       "      <th>person_income</th>\n",
       "      <th>person_emp_exp</th>\n",
       "      <th>person_home_ownership</th>\n",
       "      <th>loan_amnt</th>\n",
       "      <th>loan_intent</th>\n",
       "      <th>loan_int_rate</th>\n",
       "      <th>cb_person_cred_hist_length</th>\n",
       "      <th>credit_score</th>\n",
       "      <th>previous_loan_defaults_on_file</th>\n",
       "      <th>loan_status</th>\n",
       "    </tr>\n",
       "  </thead>\n",
       "  <tbody>\n",
       "    <tr>\n",
       "      <th>44997</th>\n",
       "      <td>33.0</td>\n",
       "      <td>male</td>\n",
       "      <td>Associate</td>\n",
       "      <td>56942.0</td>\n",
       "      <td>7</td>\n",
       "      <td>RENT</td>\n",
       "      <td>2771.0</td>\n",
       "      <td>DEBTCONSOLIDATION</td>\n",
       "      <td>10.02</td>\n",
       "      <td>10.0</td>\n",
       "      <td>668</td>\n",
       "      <td>No</td>\n",
       "      <td>1</td>\n",
       "    </tr>\n",
       "    <tr>\n",
       "      <th>44998</th>\n",
       "      <td>29.0</td>\n",
       "      <td>male</td>\n",
       "      <td>Bachelor</td>\n",
       "      <td>33164.0</td>\n",
       "      <td>4</td>\n",
       "      <td>RENT</td>\n",
       "      <td>12000.0</td>\n",
       "      <td>EDUCATION</td>\n",
       "      <td>13.23</td>\n",
       "      <td>6.0</td>\n",
       "      <td>604</td>\n",
       "      <td>No</td>\n",
       "      <td>1</td>\n",
       "    </tr>\n",
       "    <tr>\n",
       "      <th>44999</th>\n",
       "      <td>24.0</td>\n",
       "      <td>male</td>\n",
       "      <td>High School</td>\n",
       "      <td>51609.0</td>\n",
       "      <td>1</td>\n",
       "      <td>RENT</td>\n",
       "      <td>6665.0</td>\n",
       "      <td>DEBTCONSOLIDATION</td>\n",
       "      <td>17.05</td>\n",
       "      <td>3.0</td>\n",
       "      <td>628</td>\n",
       "      <td>No</td>\n",
       "      <td>1</td>\n",
       "    </tr>\n",
       "  </tbody>\n",
       "</table>\n",
       "</div>"
      ],
      "text/plain": [
       "       person_age person_gender person_education  person_income  \\\n",
       "44997        33.0          male        Associate        56942.0   \n",
       "44998        29.0          male         Bachelor        33164.0   \n",
       "44999        24.0          male      High School        51609.0   \n",
       "\n",
       "       person_emp_exp person_home_ownership  loan_amnt        loan_intent  \\\n",
       "44997               7                  RENT     2771.0  DEBTCONSOLIDATION   \n",
       "44998               4                  RENT    12000.0          EDUCATION   \n",
       "44999               1                  RENT     6665.0  DEBTCONSOLIDATION   \n",
       "\n",
       "       loan_int_rate  cb_person_cred_hist_length  credit_score  \\\n",
       "44997          10.02                        10.0           668   \n",
       "44998          13.23                         6.0           604   \n",
       "44999          17.05                         3.0           628   \n",
       "\n",
       "      previous_loan_defaults_on_file  loan_status  \n",
       "44997                             No            1  \n",
       "44998                             No            1  \n",
       "44999                             No            1  "
      ]
     },
     "execution_count": 19,
     "metadata": {},
     "output_type": "execute_result"
    }
   ],
   "source": [
    "# Let us recall our dataset. \n",
    "\n",
    "loans.tail(3)"
   ]
  },
  {
   "cell_type": "code",
   "execution_count": 20,
   "id": "25e4abf7-429f-4283-b30e-6ae54eea5677",
   "metadata": {},
   "outputs": [],
   "source": [
    "# Let us code Male = 0 and Female = 1. \n",
    "\n",
    "\n",
    "\n"
   ]
  },
  {
   "cell_type": "markdown",
   "id": "cf139f0c-024f-45c4-bb5c-7a9ddd2929ab",
   "metadata": {},
   "source": [
    "## Run Linear Regression with your choice of features but make sure to include `gender` as one of your features. "
   ]
  },
  {
   "cell_type": "code",
   "execution_count": null,
   "id": "b9e6ded4-b70c-44ef-97d4-3ab16f10cf58",
   "metadata": {},
   "outputs": [],
   "source": []
  },
  {
   "cell_type": "code",
   "execution_count": 21,
   "id": "6cf0dac9-ab19-4078-a4b1-8bcbf001e77d",
   "metadata": {},
   "outputs": [],
   "source": [
    "# get the features and the labels\n",
    "\n",
    "\n",
    "\n"
   ]
  },
  {
   "cell_type": "code",
   "execution_count": null,
   "id": "4a53abbb-33b4-47e1-9aba-f32d20bd6780",
   "metadata": {},
   "outputs": [],
   "source": []
  },
  {
   "cell_type": "code",
   "execution_count": 22,
   "id": "d6da3f7f-8ea7-4889-af33-d7a60df79fff",
   "metadata": {},
   "outputs": [],
   "source": [
    "from sklearn.model_selection import train_test_split\n",
    "\n",
    "# split data into a training and test set\n",
    "\n",
    "\n"
   ]
  },
  {
   "cell_type": "code",
   "execution_count": null,
   "id": "3d760a97-06ed-417f-8681-fdc10794a601",
   "metadata": {},
   "outputs": [],
   "source": []
  },
  {
   "cell_type": "code",
   "execution_count": 23,
   "id": "7c4e02ac-8283-4ae6-8140-e6e809eb6575",
   "metadata": {},
   "outputs": [],
   "source": [
    "from sklearn.linear_model import LinearRegression\n",
    "\n",
    "# create a new linear regression modedl\n"
   ]
  },
  {
   "cell_type": "code",
   "execution_count": null,
   "id": "bbbd1c3e-dcae-46ca-8ff4-28ac24160d74",
   "metadata": {},
   "outputs": [],
   "source": []
  },
  {
   "cell_type": "code",
   "execution_count": 24,
   "id": "0b7b525a-125a-4bc5-9904-2cd92d335c21",
   "metadata": {},
   "outputs": [],
   "source": [
    "# fit the model to our training data\n",
    "\n"
   ]
  },
  {
   "cell_type": "code",
   "execution_count": null,
   "id": "30a258c3-0fec-43a5-8356-74144313228d",
   "metadata": {},
   "outputs": [],
   "source": []
  },
  {
   "cell_type": "code",
   "execution_count": 25,
   "id": "15ba4407-0576-457a-8579-45fd8ebbffc8",
   "metadata": {},
   "outputs": [],
   "source": [
    "# Hypothesis test on regression coeffients - which coefficients are statistically significantly different from zero? \n",
    "# (and confidence interval)\n",
    "\n",
    "import statsmodels.api as sm\n",
    "\n",
    "# add a constant value of 1 to our data\n",
    "\n",
    "\n",
    "# fit the linear regression model using the OLS function\n",
    "\n",
    "\n",
    "# get information on the regression coefficients found\n",
    "\n"
   ]
  },
  {
   "cell_type": "markdown",
   "id": "13aa06d6-a5ee-4f48-9e10-532b4ca5a0b1",
   "metadata": {},
   "source": [
    "-  Gender coefficient is $-1390.6578$. What does this mean?\n",
    "-  Answer: "
   ]
  },
  {
   "cell_type": "markdown",
   "id": "8b3cc6af-caa5-4d37-a628-29040f75e2e8",
   "metadata": {},
   "source": [
    "- What is the p-value associated with Gender coefficient and how to interpret it?\n",
    "- Answer: "
   ]
  },
  {
   "cell_type": "markdown",
   "id": "ae4b9769-0562-48f1-b5b6-ac84ef0aa5dd",
   "metadata": {},
   "source": [
    "# 3. Open Ended: Build a predictive model to predict salaries using the dataset `loans` from above. "
   ]
  },
  {
   "cell_type": "code",
   "execution_count": null,
   "id": "bc0a9816-1d47-4ff9-a374-e06c63463400",
   "metadata": {},
   "outputs": [],
   "source": []
  }
 ],
 "metadata": {
  "kernelspec": {
   "display_name": "Python 3 (ipykernel)",
   "language": "python",
   "name": "python3"
  },
  "language_info": {
   "codemirror_mode": {
    "name": "ipython",
    "version": 3
   },
   "file_extension": ".py",
   "mimetype": "text/x-python",
   "name": "python",
   "nbconvert_exporter": "python",
   "pygments_lexer": "ipython3",
   "version": "3.11.7"
  }
 },
 "nbformat": 4,
 "nbformat_minor": 5
}
