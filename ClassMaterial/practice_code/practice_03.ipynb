{
 "cells": [
  {
   "cell_type": "markdown",
   "id": "fe5fb875-b891-46a4-a004-db279f1bf8ae",
   "metadata": {},
   "source": [
    "**Practice Session 3**"
   ]
  },
  {
   "cell_type": "code",
   "execution_count": 100,
   "id": "5d21ee26-88f9-4f83-8b68-8c6661ea41ee",
   "metadata": {},
   "outputs": [],
   "source": [
    "import YData \n",
    "\n",
    "\n",
    "#### Download Practice 3 Jupyter Notebook #### \n",
    "#YData.download_practice_code(3)              # Without answers\n",
    "#YData.download_practice_code(3, True)        # With Answers (won't work until Friday eve)\n",
    "\n",
    "\n",
    "\n",
    "#### Download Data #### \n",
    "YData.download_data(\"apple_25.csv\")\n",
    "YData.download_data(\"rick_morty.jpeg\")\n",
    "\n"
   ]
  },
  {
   "cell_type": "markdown",
   "id": "5aef2d79-ea7b-46ff-beef-064edf0e95bb",
   "metadata": {},
   "source": [
    "The next few cells contain some of the important functions/methods related to the NumPy package. "
   ]
  },
  {
   "cell_type": "code",
   "execution_count": null,
   "id": "e1770576-0f00-4d7d-9a3b-2d8732422ae7",
   "metadata": {},
   "outputs": [],
   "source": [
    "# In what follows X_1, X_2, .... are arbitrary/placeholder lists, and \n",
    "# N is an arbitrary/placeholder ndarray. \n",
    "\n",
    "\n",
    "\n",
    "# For importing the NumPy package as np. \n",
    "import numpy as np\n",
    "\n",
    "\n",
    "\n",
    "\n",
    "# Creating NumPy arrays (ndarrays).\n",
    "\n",
    "np.array(X_1)                          # For creating one dimensional ndarray from the list X_1. \n",
    "\n",
    "np.arange(j,k)                         # Will create an ndarray with integers j through (k-1).\n",
    "\n",
    "np.array([X_1, X_2 ,...., X_m])        # For creating a matrix with m rows and n = len(X_1) columns where \n",
    "                                       # row 1 contains entries from X_1, row 2 contains entries from X_2\n",
    "                                       # and so on. (We require lengths of X_1, ...., X_m be equal.)\n",
    "\n",
    "np.zeros(X_1)                          # For creating a tensor with all entries equal to zero where \n",
    "                                       # the list X_1 contain information about the dimensions. \n",
    "\n",
    "\n",
    "\n",
    "\n",
    "\n",
    "\n",
    "\n",
    "\n",
    "# For extraction/slicing. \n",
    "N[j:k]                                 # For extracting elements j through (k-1).\n",
    "N[j:k, m:n, ...., r:s]                 # For extracting elements from different axes (provided N \n",
    "                                       # is a higher dimensional ndarray).\n",
    "\n",
    "\n",
    "\n",
    "\n",
    "\n",
    "# Some important functions and methods for ndarrays. \n",
    "\n",
    "np.sum(N)                              # Computes sum of the entries. \n",
    "np.sum(N, index = k)                   # Computes sum along axis k.\n",
    "np.mean(N)                             # Computes average of the entries.\n",
    "np.mean(N, index = k)                  # Computes average along axis k.\n",
    "np.median(N)                           # Computes median of the entries. \n",
    "np.max(N)                              # Computes maximum of the entries. \n",
    "np.min(N)                              # Computes minimum of the entries. \n",
    "np.std(N)                              # Computes standard deviation of the entries. \n",
    "np.percentile(N, [25, 50, 75])         # Computes 25th, 50th, and 75th percentiles. \n",
    "np.cumsum(N)                           # Returns ndarray with cumulative sums. \n",
    "np.diff(N)                             # Returns ndarray with differences of adjacent elements. \n",
    "np.prod(N)                             # Returns the product of array elements over a given axis.\n",
    "\n",
    "N.dtype                                # Returns the type of the ndarray N. \n",
    "N.shape                                # Returns the size (dimension) of the ndarray N. \n",
    "N.astype(\"\")                           # For converting between dtypes. \n",
    "\n",
    "\n",
    "np.random.rand(n)                      # Generates n random numbers bewtween 0 and 1. \n",
    "np.repeat                              # For repeating each element of the array after themselves. \n",
    "np.concatenate                         # To join a sequence of arrays along an existing axis. \n",
    "np.random.permutation                  # Randomly permutes a sequence. \n",
    "np.unique                              # Returns a sorted unique elements of an array. \n",
    "\n"
   ]
  },
  {
   "cell_type": "markdown",
   "id": "8de1c46b-9788-43fa-a8f4-098008ddb41a",
   "metadata": {},
   "source": [
    "<br>\n",
    "<br>\n",
    "<br>\n",
    "<br>"
   ]
  },
  {
   "cell_type": "markdown",
   "id": "3bc6f432-7b57-4594-85e5-487589a157f0",
   "metadata": {},
   "source": [
    "***Please complete this notebook by filling in the cells provided.***"
   ]
  },
  {
   "cell_type": "markdown",
   "id": "5bb26f4e-26bd-419f-89a0-1e2f24327bf9",
   "metadata": {},
   "source": [
    "# 1. NumPy - Basics "
   ]
  },
  {
   "cell_type": "code",
   "execution_count": 101,
   "id": "b9ece1d3-cbf5-4dee-ba1c-ff0872d425b1",
   "metadata": {},
   "outputs": [],
   "source": [
    "# Import the package numpy as np. \n",
    "\n",
    "import numpy as np\n",
    "\n"
   ]
  },
  {
   "cell_type": "code",
   "execution_count": 102,
   "id": "1233eee4-b83a-4e44-b246-36763fc8f528",
   "metadata": {},
   "outputs": [],
   "source": [
    "# Create an ndarray containing first five prime numbers starting with 2. Store it as\n",
    "# first_five_primes. \n",
    "\n",
    "\n"
   ]
  },
  {
   "cell_type": "code",
   "execution_count": 103,
   "id": "81dff7c6-c3c2-4abd-af27-8268b6787237",
   "metadata": {},
   "outputs": [],
   "source": [
    "# Create an ndarry containing first five alphabets. Store it as first_five_alpha. \n",
    "\n"
   ]
  },
  {
   "cell_type": "code",
   "execution_count": 104,
   "id": "c29421af-15f7-4f5b-a91c-a5837757033c",
   "metadata": {},
   "outputs": [],
   "source": [
    "# Create an ndarry containing boolean entries True and False. Store it as \n",
    "# boolean_array. \n",
    "\n"
   ]
  },
  {
   "cell_type": "code",
   "execution_count": 105,
   "id": "54445f18-5660-406e-935c-88e74331531d",
   "metadata": {},
   "outputs": [],
   "source": [
    "# Print the dtypes of above three ndarrays. \n",
    "\n",
    "\n"
   ]
  },
  {
   "cell_type": "code",
   "execution_count": 106,
   "id": "bd1ce484-2450-40e7-9295-a247c9a5c9d8",
   "metadata": {},
   "outputs": [],
   "source": [
    "# Replace the number 2 in first_five_primes with the boolean True. \n",
    "\n",
    "\n",
    "\n",
    "\n",
    "# Print the modified ndarray and its dtype. \n",
    "\n",
    "\n",
    "\n",
    "\n"
   ]
  },
  {
   "cell_type": "code",
   "execution_count": 107,
   "id": "aa581510-cd53-43f7-977b-ad50c1ccb702",
   "metadata": {},
   "outputs": [],
   "source": [
    "# Replace the alphabet b in first_five_alphabets with the element 2. \n",
    "\n",
    "\n",
    "\n",
    "\n",
    "# Print the modified ndarray and its type. \n",
    "\n",
    "\n",
    "\n"
   ]
  },
  {
   "cell_type": "code",
   "execution_count": 108,
   "id": "8350c647-6b1f-440c-8080-cb4b43d1562e",
   "metadata": {},
   "outputs": [],
   "source": [
    "# In the above modified ndarray, check if 2 is a number or a string?\n",
    "\n",
    "\n",
    "# You can also use following: \n",
    "#type(first_five_alpha[1])\n",
    "\n"
   ]
  },
  {
   "cell_type": "code",
   "execution_count": 109,
   "id": "e9afe0a0-2db1-4dff-a7b7-6a3a0dfec2b0",
   "metadata": {},
   "outputs": [],
   "source": [
    "# Print an ndarray of first 100 positive integers. \n",
    "\n",
    "\n"
   ]
  },
  {
   "cell_type": "markdown",
   "id": "ff107657-89e9-4a0d-b26f-39c38df1c22a",
   "metadata": {},
   "source": [
    "# 2. How is your \"favorite\" tech company doing in stock markets?"
   ]
  },
  {
   "cell_type": "markdown",
   "id": "71711d7b-ae72-4969-82f5-a355253662fe",
   "metadata": {},
   "source": [
    "##### Let us analyze the performance of the Apple stock in the year 2025 so far. \n",
    "- Data source: <https://www.marketwatch.com>"
   ]
  },
  {
   "cell_type": "code",
   "execution_count": 110,
   "id": "d0a1c8ed-4582-4479-a0b8-39afd13f492c",
   "metadata": {},
   "outputs": [
    {
     "data": {
      "text/html": [
       "<div>\n",
       "<style scoped>\n",
       "    .dataframe tbody tr th:only-of-type {\n",
       "        vertical-align: middle;\n",
       "    }\n",
       "\n",
       "    .dataframe tbody tr th {\n",
       "        vertical-align: top;\n",
       "    }\n",
       "\n",
       "    .dataframe thead th {\n",
       "        text-align: right;\n",
       "    }\n",
       "</style>\n",
       "<table border=\"1\" class=\"dataframe\">\n",
       "  <thead>\n",
       "    <tr style=\"text-align: right;\">\n",
       "      <th></th>\n",
       "      <th>Date</th>\n",
       "      <th>Open</th>\n",
       "      <th>High</th>\n",
       "      <th>Low</th>\n",
       "      <th>Close</th>\n",
       "      <th>Volume</th>\n",
       "    </tr>\n",
       "  </thead>\n",
       "  <tbody>\n",
       "    <tr>\n",
       "      <th>0</th>\n",
       "      <td>2025-01-02</td>\n",
       "      <td>248.93</td>\n",
       "      <td>249.10</td>\n",
       "      <td>241.82</td>\n",
       "      <td>243.85</td>\n",
       "      <td>55,740,727</td>\n",
       "    </tr>\n",
       "    <tr>\n",
       "      <th>1</th>\n",
       "      <td>2025-01-03</td>\n",
       "      <td>243.36</td>\n",
       "      <td>244.18</td>\n",
       "      <td>241.89</td>\n",
       "      <td>243.36</td>\n",
       "      <td>40,244,113</td>\n",
       "    </tr>\n",
       "    <tr>\n",
       "      <th>2</th>\n",
       "      <td>2025-01-06</td>\n",
       "      <td>244.31</td>\n",
       "      <td>247.33</td>\n",
       "      <td>243.20</td>\n",
       "      <td>245.00</td>\n",
       "      <td>45,045,566</td>\n",
       "    </tr>\n",
       "    <tr>\n",
       "      <th>3</th>\n",
       "      <td>2025-01-07</td>\n",
       "      <td>242.98</td>\n",
       "      <td>245.55</td>\n",
       "      <td>241.35</td>\n",
       "      <td>242.21</td>\n",
       "      <td>40,855,961</td>\n",
       "    </tr>\n",
       "    <tr>\n",
       "      <th>4</th>\n",
       "      <td>2025-01-08</td>\n",
       "      <td>241.92</td>\n",
       "      <td>243.71</td>\n",
       "      <td>240.05</td>\n",
       "      <td>242.70</td>\n",
       "      <td>37,628,941</td>\n",
       "    </tr>\n",
       "    <tr>\n",
       "      <th>...</th>\n",
       "      <td>...</td>\n",
       "      <td>...</td>\n",
       "      <td>...</td>\n",
       "      <td>...</td>\n",
       "      <td>...</td>\n",
       "      <td>...</td>\n",
       "    </tr>\n",
       "    <tr>\n",
       "      <th>171</th>\n",
       "      <td>2025-09-10</td>\n",
       "      <td>232.19</td>\n",
       "      <td>232.42</td>\n",
       "      <td>225.95</td>\n",
       "      <td>226.79</td>\n",
       "      <td>83,440,805</td>\n",
       "    </tr>\n",
       "    <tr>\n",
       "      <th>172</th>\n",
       "      <td>2025-09-11</td>\n",
       "      <td>226.88</td>\n",
       "      <td>230.45</td>\n",
       "      <td>226.65</td>\n",
       "      <td>230.03</td>\n",
       "      <td>50,208,578</td>\n",
       "    </tr>\n",
       "    <tr>\n",
       "      <th>173</th>\n",
       "      <td>2025-09-12</td>\n",
       "      <td>229.22</td>\n",
       "      <td>234.51</td>\n",
       "      <td>229.02</td>\n",
       "      <td>234.07</td>\n",
       "      <td>55,824,219</td>\n",
       "    </tr>\n",
       "    <tr>\n",
       "      <th>174</th>\n",
       "      <td>2025-09-15</td>\n",
       "      <td>237.00</td>\n",
       "      <td>238.19</td>\n",
       "      <td>235.03</td>\n",
       "      <td>236.70</td>\n",
       "      <td>42,699,520</td>\n",
       "    </tr>\n",
       "    <tr>\n",
       "      <th>175</th>\n",
       "      <td>2025-09-16</td>\n",
       "      <td>237.18</td>\n",
       "      <td>241.22</td>\n",
       "      <td>236.32</td>\n",
       "      <td>238.15</td>\n",
       "      <td>63,421,102</td>\n",
       "    </tr>\n",
       "  </tbody>\n",
       "</table>\n",
       "<p>176 rows × 6 columns</p>\n",
       "</div>"
      ],
      "text/plain": [
       "          Date    Open    High     Low   Close      Volume\n",
       "0   2025-01-02  248.93  249.10  241.82  243.85  55,740,727\n",
       "1   2025-01-03  243.36  244.18  241.89  243.36  40,244,113\n",
       "2   2025-01-06  244.31  247.33  243.20  245.00  45,045,566\n",
       "3   2025-01-07  242.98  245.55  241.35  242.21  40,855,961\n",
       "4   2025-01-08  241.92  243.71  240.05  242.70  37,628,941\n",
       "..         ...     ...     ...     ...     ...         ...\n",
       "171 2025-09-10  232.19  232.42  225.95  226.79  83,440,805\n",
       "172 2025-09-11  226.88  230.45  226.65  230.03  50,208,578\n",
       "173 2025-09-12  229.22  234.51  229.02  234.07  55,824,219\n",
       "174 2025-09-15  237.00  238.19  235.03  236.70  42,699,520\n",
       "175 2025-09-16  237.18  241.22  236.32  238.15  63,421,102\n",
       "\n",
       "[176 rows x 6 columns]"
      ]
     },
     "execution_count": 110,
     "metadata": {},
     "output_type": "execute_result"
    }
   ],
   "source": [
    "# Import pandas as pd.\n",
    "\n",
    "import pandas as pd \n",
    "\n",
    "\n",
    "# The following code will read in the data \"apple_sp_25.csv\" as pandas dataframe.\n",
    "# All the prices are in USD ($). \n",
    "\n",
    "apple = pd.read_csv(\"apple_25.csv\", parse_dates = [0])\n",
    "apple = apple.sort_values(\"Date\").reset_index().drop(columns = [\"index\"])\n",
    "apple"
   ]
  },
  {
   "cell_type": "code",
   "execution_count": 111,
   "id": "4c5662eb-25a6-4af8-a2f3-a769d24278d7",
   "metadata": {},
   "outputs": [],
   "source": [
    "# Let us extract some variables that we want to analyze. \n",
    "\n",
    "apple_open = apple[\"Open\"]\n",
    "apple_close = apple[\"Close\"]\n",
    "apple_dates = apple[\"Date\"]\n",
    "apple_volume = apple[\"Volume\"]\n",
    "\n",
    "# Let us also convert these variables into ndarrays. \n",
    "\n",
    "apple_open = apple_open.to_numpy()\n",
    "apple_close = apple_close.to_numpy()\n",
    "apple_dates = apple_dates.to_numpy()\n",
    "apple_volume = apple_volume.to_numpy()"
   ]
  },
  {
   "cell_type": "code",
   "execution_count": 112,
   "id": "10a2e915-54f0-45c3-b51d-18e5c6601475",
   "metadata": {},
   "outputs": [
    {
     "name": "stdout",
     "output_type": "stream",
     "text": [
      "float64\n",
      "float64\n",
      "datetime64[ns]\n",
      "object\n"
     ]
    }
   ],
   "source": [
    "# Print dtypes of above ndarrays. \n",
    "\n",
    "print(apple_open.dtype)\n",
    "print(apple_close.dtype)\n",
    "print(apple_dates.dtype)    \n",
    "print(apple_volume.dtype)\n"
   ]
  },
  {
   "cell_type": "code",
   "execution_count": 113,
   "id": "690dc4eb-57f7-49f3-845a-b657eb14ec24",
   "metadata": {},
   "outputs": [
    {
     "data": {
      "image/png": "[encoded data removed]",
      "text/plain": [
       "<Figure size 1200x400 with 1 Axes>"
      ]
     },
     "metadata": {},
     "output_type": "display_data"
    }
   ],
   "source": [
    "# When working with a financial time series, it is always a good idea to start \n",
    "# with a time series plot of closing prices.      \n",
    "\n",
    "import matplotlib.pyplot as plt \n",
    "%matplotlib inline\n",
    "\n",
    "plt.figure(figsize = (12, 4));\n",
    "plt.plot(apple_dates, apple_close,);    \n",
    "plt.xlabel(\"Date\");\n",
    "plt.ylabel(\"Price ($)\");\n",
    "plt.title(\"Time Series of Apple Stock\");"
   ]
  },
  {
   "cell_type": "code",
   "execution_count": 114,
   "id": "251024d1-d4f2-4b2d-8d23-4bba41d854c2",
   "metadata": {},
   "outputs": [],
   "source": [
    "# Let us now compute some basic statistics for closing price of Apple stock. \n",
    "\n",
    "# Print maximum closing price for Apple stock.\n",
    "\n",
    "\n",
    "\n",
    "\n",
    "\n",
    "# Print minimum closing price for Apply stock.\n",
    "\n",
    "\n",
    "\n",
    "\n",
    "\n",
    "# Print average closing price for Apple stock.\n",
    "\n",
    "\n",
    "\n",
    "\n",
    "\n",
    "# Print standard deviation for closing price of Apple stock.\n",
    "\n",
    "\n",
    "\n"
   ]
  },
  {
   "cell_type": "code",
   "execution_count": 115,
   "id": "41993594-e433-48fe-8e15-6a1aae619ad3",
   "metadata": {},
   "outputs": [],
   "source": [
    "# Daily variability is defined to be the standard deviation of the time series \n",
    "# formed by taking the differences of opening and closing prices for each day. \n",
    "\n",
    "# Let us first compute a new time series with all the differences and store it as intra_diff. \n",
    "\n",
    "\n",
    "\n",
    "\n",
    "\n",
    "# Print the standard deviation for this new time series. \n",
    "\n",
    "\n",
    "\n",
    "\n",
    "\n",
    "# Print the number of days the closing price was greater than the opening price.\n",
    "\n",
    "\n",
    "\n",
    "\n",
    "\n",
    "# Print the proportion of days the close price was greater than the opening price.\n",
    "\n",
    "\n",
    "\n",
    "\n",
    "\n",
    "# Print volume (number of shares traded) for days when the closing price was greater than the opening price. \n",
    "\n",
    "\n",
    "\n",
    "\n"
   ]
  },
  {
   "cell_type": "markdown",
   "id": "b3aecf4a-0c6a-49bf-b80c-db13ed578d0c",
   "metadata": {},
   "source": [
    "# 3. Numpy: Matrices and Tensors (Higher Order ndarrays)"
   ]
  },
  {
   "cell_type": "code",
   "execution_count": 116,
   "id": "22487ef0-3998-47b2-9ad2-eb85681f0c4c",
   "metadata": {},
   "outputs": [],
   "source": [
    "# Create a 3x2 (3 rows and 2 columns) matrix with first row containing first two even numbers \n",
    "# starting with the number 2, second row containing the next two even numbers, and so on. \n",
    "# Store you answer as even_matrix. \n",
    "\n",
    "\n",
    "\n",
    "\n",
    "\n",
    "\n"
   ]
  },
  {
   "cell_type": "code",
   "execution_count": 117,
   "id": "ae611e48-e51d-4355-a06c-04aeeaf11767",
   "metadata": {},
   "outputs": [],
   "source": [
    "# Extract second element in the second row of the above matrix. \n",
    "\n",
    "\n",
    "\n"
   ]
  },
  {
   "cell_type": "code",
   "execution_count": 118,
   "id": "7493460d-47eb-4449-8e7b-dbe47a5dd49d",
   "metadata": {},
   "outputs": [],
   "source": [
    "# Extract the sub-matrix formed by last two rows. \n",
    "\n",
    "\n"
   ]
  },
  {
   "cell_type": "code",
   "execution_count": 119,
   "id": "183f0818-c9f6-4fae-bda6-de2ef2ea7d6e",
   "metadata": {},
   "outputs": [],
   "source": [
    "# Change all the entries in the sceond row of the matrix to 99. \n",
    "\n",
    "\n"
   ]
  },
  {
   "cell_type": "code",
   "execution_count": 120,
   "id": "4a0c7469-64b8-4e3e-aae2-65e789fae7df",
   "metadata": {},
   "outputs": [],
   "source": [
    "# Print the sum of all the entries in the above matrix. \n",
    "\n",
    "\n"
   ]
  },
  {
   "cell_type": "code",
   "execution_count": 121,
   "id": "6a5fd075-2bd1-447c-8ec3-4d17266569a5",
   "metadata": {},
   "outputs": [],
   "source": [
    "# Print the sum down the rows. \n",
    "\n",
    "\n"
   ]
  },
  {
   "cell_type": "code",
   "execution_count": 122,
   "id": "3755ff9e-e87f-46ff-876c-9b9b27936942",
   "metadata": {},
   "outputs": [],
   "source": [
    "# Print the sum across the columns. \n",
    "\n",
    "\n"
   ]
  },
  {
   "cell_type": "code",
   "execution_count": 123,
   "id": "06c4ac10-2310-4d3e-8665-16c08ff7ec1b",
   "metadata": {},
   "outputs": [],
   "source": [
    "# Count the numbers of entires that are greater than 50. \n",
    "\n",
    "\n"
   ]
  },
  {
   "cell_type": "code",
   "execution_count": 124,
   "id": "ad38931a-2613-4460-8696-b264f00e965f",
   "metadata": {},
   "outputs": [],
   "source": [
    "# Create a 100x100 matrix with all entries zero. \n",
    "\n"
   ]
  },
  {
   "cell_type": "code",
   "execution_count": 125,
   "id": "3d6c7bfa-c711-4a83-ac92-0468e61dccfd",
   "metadata": {},
   "outputs": [],
   "source": [
    "# Change middle 20 rows and columns of the above matrix to 1.\n",
    "# Store it as zero_matrix. \n",
    "\n",
    "\n",
    "\n",
    "# Output an image of the above matrix using plt.imshow() function. \n",
    "\n"
   ]
  },
  {
   "cell_type": "code",
   "execution_count": 126,
   "id": "873a18ff-c5c2-4a43-b99b-ab83eb8bb5b1",
   "metadata": {},
   "outputs": [],
   "source": [
    "# Change the above matrix to a boolean matrix. Store your answer as bool_matrix. \n",
    "\n",
    "\n",
    "\n",
    "# Output an image of the above matrix using plt.imshow() function. \n",
    "\n",
    "\n",
    "\n"
   ]
  },
  {
   "cell_type": "code",
   "execution_count": 127,
   "id": "3cd9edb1-0f4d-466e-a68e-c741a54398fe",
   "metadata": {},
   "outputs": [],
   "source": [
    "# What does ~bool.matrix do?\n",
    "\n",
    "#plt.imshow(~bool_matrix, cmap = \"grey\");\n",
    "#plt.colorbar();\n"
   ]
  },
  {
   "cell_type": "markdown",
   "id": "b60a73c6-8aab-4af4-b576-b358265f67f6",
   "metadata": {},
   "source": [
    "# 4. Image Manipulation"
   ]
  },
  {
   "cell_type": "markdown",
   "id": "ab94fe49-dcff-4547-a291-c2e6830a464a",
   "metadata": {},
   "source": [
    "Data source: <https://www.adultswim.com>"
   ]
  },
  {
   "cell_type": "code",
   "execution_count": 128,
   "id": "c85143fb-3bea-47df-8510-cf25c6164c25",
   "metadata": {},
   "outputs": [],
   "source": [
    "# To pull in the image, we will take help of imageio package. \n",
    "\n",
    "from imageio.v3 import imread\n",
    "\n",
    "Im = imread(\"rick_morty.jpeg\")\n",
    "\n",
    "#plt.imshow(Im);\n",
    "#plt.colorbar();"
   ]
  },
  {
   "cell_type": "code",
   "execution_count": 129,
   "id": "cf5918dc-8074-4856-bad9-9860a5f85438",
   "metadata": {},
   "outputs": [],
   "source": [
    "# What is the dtype and shape of the image?\n",
    "# One can think of an image as an concatenation of three 1000x1000 matrices. \n",
    "# Mathematically, this is an order 3 tensor with size 1000x1000x3. \n",
    "\n",
    "     "
   ]
  },
  {
   "cell_type": "code",
   "execution_count": 130,
   "id": "9fc1ec43-8fe0-45d3-ba04-f48f6dbc31f2",
   "metadata": {},
   "outputs": [],
   "source": [
    "# Similar to what we did in lecture, let us try to switch green and blue channels. \n",
    "# RGB Image Manipulation. \n",
    "\n",
    "# First extract each color channel as a matrix.\n",
    "\n",
    "\n",
    "\n",
    "\n",
    "\n",
    "\n",
    "# Next create new image (tensor of equal size with all entries zero)\n",
    "# where color channels will be swapped. Store it as new_Im.\n",
    "             \n",
    "\n",
    "\n",
    "\n",
    "\n",
    "\n",
    "# Swap channels.\n",
    "\n",
    "\n",
    "\n",
    "\n",
    "\n",
    "# Convert to ints. Why? \n",
    "\n",
    "\n",
    "\n",
    "\n",
    "\n",
    "\n",
    "# Display the image using plt.imshow() function. \n",
    "\n",
    "\n",
    "\n"
   ]
  },
  {
   "cell_type": "code",
   "execution_count": 131,
   "id": "3b1eaa94-b97e-443c-b759-bdd63125bc16",
   "metadata": {},
   "outputs": [],
   "source": [
    "# To create a grayscale image - use the average value in all three r, g, b channels.\n",
    "# You need to average with respect to the axis = 2. \n",
    "\n"
   ]
  },
  {
   "cell_type": "code",
   "execution_count": 132,
   "id": "f14a8435-103a-4215-8c21-e83c26fd3734",
   "metadata": {},
   "outputs": [],
   "source": [
    "# Image masking - turn white to black. \n",
    "\n",
    "# copy the image and create a darkening mask\n",
    "\n",
    "# darken the pixels and display the image\n"
   ]
  },
  {
   "cell_type": "markdown",
   "id": "c4e0b6aa-2481-462a-8f08-20e709982b0a",
   "metadata": {},
   "source": [
    "<br>\n",
    "<br>\n",
    "<br>\n",
    "<br>"
   ]
  },
  {
   "cell_type": "markdown",
   "id": "2c780e50-5e24-4f77-85de-11f5274a90d1",
   "metadata": {},
   "source": [
    "# 5. Take Home Problem: ***Financial Moving Averages (FMA)***"
   ]
  },
  {
   "cell_type": "markdown",
   "id": "04d6e54c-b32e-4142-898a-81eeb587968a",
   "metadata": {},
   "source": [
    "Have you ever tried to spot patterns/trends in a **financial time series**, only to feel overwhelmed by the ups and downs? That’s where a moving average comes to the rescue. A moving average smooths out fluctuations in data, giving you a clearer view of trends. Think of it as zooming out to see the forest instead of focusing on every tree. \n",
    "\n",
    "**Example:** Imagine you’re analyzing stock prices over six days: $[10, 20, 30, 40, 50, 60]$. A 3-day moving average would look at the first three prices, calculate the average, then move to the next three, and so on. Here’s the result: $[20, 30, 40, 50]$. It’s simple, yet incredibly powerful for uncovering trends.\n",
    "\n",
    "In financial data analysis, moving averages are commonly used for smoothing time series data like stock prices, etc. By taking the average of data points within a specific range (a “window”), we can highlight the overall trend and reduce noise.\n",
    "\n",
    "Let us implement $10$ (window size) days moving averages strategy for the Apple Stock using NumPy! "
   ]
  },
  {
   "cell_type": "markdown",
   "id": "00a9662b-21c8-4014-bbdd-b9805e23aef1",
   "metadata": {},
   "source": [
    "**Step 1**: \n",
    "\n",
    "Define the Window Size and weights: Decide how many data points you want in each average. For instance, a window size of 3 means you’ll average every three consecutive numbers. We can accomplish this step using `np.ones()` method. \n",
    "\n",
    "In particular, `np.ones(window_size) / window_size`: This creates an array of equal weights for averaging. For a window size of 3, it looks like this: $[1/3, 1/3, 1/3]$."
   ]
  },
  {
   "cell_type": "code",
   "execution_count": 133,
   "id": "455afcd6-ec7b-4d53-83d2-b711f4b7044e",
   "metadata": {},
   "outputs": [
    {
     "data": {
      "text/plain": [
       "array([0.1, 0.1, 0.1, 0.1, 0.1, 0.1, 0.1, 0.1, 0.1, 0.1])"
      ]
     },
     "execution_count": 133,
     "metadata": {},
     "output_type": "execute_result"
    }
   ],
   "source": [
    "# Define the window size\n",
    "\n",
    "window_size = 10\n",
    "weights = np.ones(window_size) / window_size\n",
    "weights"
   ]
  },
  {
   "cell_type": "markdown",
   "id": "89fd76c0-8452-4bc6-9408-653d34354469",
   "metadata": {},
   "source": [
    "**Step 2:**\n",
    "\n",
    "Apply `np.convolve()` to calculate the moving averages. \n",
    "\n",
    "Syntax: `np.convolve(arr, arr1, mode='')`\n",
    "\n",
    "\n",
    "`arr` - array_like, the first one-dimensional input array.\n",
    "\n",
    "`arr1` - array_like, second one-dimensional input array.\n",
    "\n",
    "`mode - {‘full’, ‘valid’, ‘same’}` (optional)\n",
    "\n",
    "We only need to use `valid` – Mode. (That is, the convolution product is only given when arr1 and arr1 completely overlap each other.) \n",
    "\n",
    "See below for an example:"
   ]
  },
  {
   "cell_type": "code",
   "execution_count": 134,
   "id": "32a1be1d-fedf-43b9-b0f2-4a80a8b51f21",
   "metadata": {},
   "outputs": [
    {
     "name": "stdout",
     "output_type": "stream",
     "text": [
      "Full convolution result:\n",
      " [13 26 47 66]\n"
     ]
    }
   ],
   "source": [
    "# Create input arrays\n",
    "arr = np.array([5, 3])\n",
    "arr1 = np.array([1, 2, 4, 7, 9])\n",
    " \n",
    "# Use convolve() method when mode is 'valid'\n",
    "arr2 = np.convolve(arr, arr1, mode='valid')\n",
    "print(\"Full convolution result:\\n\",arr2)"
   ]
  },
  {
   "cell_type": "code",
   "execution_count": 135,
   "id": "6ea278a1-ba5a-4cac-9d03-40094bacb3a6",
   "metadata": {},
   "outputs": [],
   "source": [
    "# Create the moving average using np.convolve() and store your answer as apple_moving_average\n",
    "\n",
    "\n",
    "\n",
    "\n",
    "\n",
    "# Create time series plot of apple_close and apple_moving_average superimposed on each other. \n",
    "\n",
    "\n"
   ]
  },
  {
   "cell_type": "code",
   "execution_count": 136,
   "id": "32800fa6-dc8a-4395-a3e6-48d9e845c633",
   "metadata": {},
   "outputs": [],
   "source": [
    "# Experiment with different windows sizes 50, 100, etc. and see which one is most informative \n",
    "# of the \"trend\" in apple stock price?\n",
    "\n",
    "\n"
   ]
  },
  {
   "cell_type": "markdown",
   "id": "5d7cbb53-d552-4edb-b4ea-57606d58eded",
   "metadata": {},
   "source": [
    "Which moving average (10 days, 50 days, 100 days, etc.) did you choose and why?\n",
    "\n",
    "Answer: ...."
   ]
  }
 ],
 "metadata": {
  "kernelspec": {
   "display_name": "Python 3 (ipykernel)",
   "language": "python",
   "name": "python3"
  },
  "language_info": {
   "codemirror_mode": {
    "name": "ipython",
    "version": 3
   },
   "file_extension": ".py",
   "mimetype": "text/x-python",
   "name": "python",
   "nbconvert_exporter": "python",
   "pygments_lexer": "ipython3",
   "version": "3.13.5"
  }
 },
 "nbformat": 4,
 "nbformat_minor": 5
}
