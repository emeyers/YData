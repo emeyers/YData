{
 "cells": [
  {
   "cell_type": "markdown",
   "id": "fe5fb875-b891-46a4-a004-db279f1bf8ae",
   "metadata": {},
   "source": [
    "##### Welcome to the Preceptor Practice Session 3!"
   ]
  },
  {
   "cell_type": "code",
   "execution_count": 1,
   "id": "5d21ee26-88f9-4f83-8b68-8c6661ea41ee",
   "metadata": {},
   "outputs": [],
   "source": [
    "\n",
    "# Codes for downloading practice session 3 notebook. \n",
    "\n",
    "#import YData \n",
    "\n",
    "#YData.download_practice_code(3)              # without answers. \n",
    "\n",
    "#YData.download_practice_code(3, True)        # with answers. \n",
    "\n",
    "\n",
    "\n",
    "\n",
    "\n",
    "# Codes for downloading data. \n",
    "\n",
    "#YData.download_data(\"apple_2024.csv\")\n",
    "\n",
    "#YData.download_data(\"rick_morty.jpeg\")\n",
    "\n",
    "\n",
    "\n"
   ]
  },
  {
   "cell_type": "markdown",
   "id": "5bb26f4e-26bd-419f-89a0-1e2f24327bf9",
   "metadata": {},
   "source": [
    "# 1. NumPy - Basics "
   ]
  },
  {
   "cell_type": "code",
   "execution_count": 2,
   "id": "b9ece1d3-cbf5-4dee-ba1c-ff0872d425b1",
   "metadata": {},
   "outputs": [],
   "source": [
    "# Import the package numpy as np. \n",
    "\n",
    "import numpy as np\n",
    "\n"
   ]
  },
  {
   "cell_type": "code",
   "execution_count": 3,
   "id": "1233eee4-b83a-4e44-b246-36763fc8f528",
   "metadata": {},
   "outputs": [],
   "source": [
    "# Create an ndarray containing first five prime numbers starting with 2. Store it as\n",
    "# first_five_primes. \n",
    "\n"
   ]
  },
  {
   "cell_type": "code",
   "execution_count": 4,
   "id": "81dff7c6-c3c2-4abd-af27-8268b6787237",
   "metadata": {},
   "outputs": [],
   "source": [
    "# Create an ndarry containing first five alphabets. Store it as first_five_alpha. \n",
    "\n",
    "\n"
   ]
  },
  {
   "cell_type": "code",
   "execution_count": 5,
   "id": "c29421af-15f7-4f5b-a91c-a5837757033c",
   "metadata": {},
   "outputs": [],
   "source": [
    "# Create an ndarry containing boolean entries True and False. Store it as \n",
    "# boolean_array. \n",
    "\n",
    "\n"
   ]
  },
  {
   "cell_type": "code",
   "execution_count": 6,
   "id": "54445f18-5660-406e-935c-88e74331531d",
   "metadata": {},
   "outputs": [],
   "source": [
    "# Print the dtypes of above three ndarrays. \n",
    "\n",
    "\n"
   ]
  },
  {
   "cell_type": "code",
   "execution_count": 7,
   "id": "bd1ce484-2450-40e7-9295-a247c9a5c9d8",
   "metadata": {},
   "outputs": [],
   "source": [
    "# Replace the number 2 in first_five_primes with the boolean True. \n",
    "\n",
    "\n",
    "\n",
    "\n",
    "# Print the modified ndarray and its dtype. \n",
    "\n",
    "\n",
    "\n"
   ]
  },
  {
   "cell_type": "code",
   "execution_count": 8,
   "id": "aa581510-cd53-43f7-977b-ad50c1ccb702",
   "metadata": {},
   "outputs": [],
   "source": [
    "# Replace the alphabet b in first_five_alphabets with the element 2. \n",
    "\n",
    "\n",
    "\n",
    "# Print the modified ndarray and its type. \n",
    "\n",
    "\n",
    "\n"
   ]
  },
  {
   "cell_type": "code",
   "execution_count": 9,
   "id": "8350c647-6b1f-440c-8080-cb4b43d1562e",
   "metadata": {},
   "outputs": [],
   "source": [
    "# In the above modified ndarray, check if 2 is a number or a string?\n",
    "\n",
    "\n",
    "\n",
    "# type(first_five_alpha[1])\n",
    "\n"
   ]
  },
  {
   "cell_type": "code",
   "execution_count": 10,
   "id": "e9afe0a0-2db1-4dff-a7b7-6a3a0dfec2b0",
   "metadata": {},
   "outputs": [],
   "source": [
    "# Print an ndarray of first 100 positive integers. \n",
    "\n",
    "\n"
   ]
  },
  {
   "cell_type": "markdown",
   "id": "ff107657-89e9-4a0d-b26f-39c38df1c22a",
   "metadata": {},
   "source": [
    "# 2. How is your \"favorite\" tech company doing in stock markets?"
   ]
  },
  {
   "cell_type": "markdown",
   "id": "71711d7b-ae72-4969-82f5-a355253662fe",
   "metadata": {},
   "source": [
    "##### Let us analyze the performance of the Apple stock so far this year (2024). \n",
    "- Data source: <https://www.nasdaq.com>"
   ]
  },
  {
   "cell_type": "code",
   "execution_count": 11,
   "id": "d0a1c8ed-4582-4479-a0b8-39afd13f492c",
   "metadata": {},
   "outputs": [
    {
     "data": {
      "text/html": [
       "<div>\n",
       "<style scoped>\n",
       "    .dataframe tbody tr th:only-of-type {\n",
       "        vertical-align: middle;\n",
       "    }\n",
       "\n",
       "    .dataframe tbody tr th {\n",
       "        vertical-align: top;\n",
       "    }\n",
       "\n",
       "    .dataframe thead th {\n",
       "        text-align: right;\n",
       "    }\n",
       "</style>\n",
       "<table border=\"1\" class=\"dataframe\">\n",
       "  <thead>\n",
       "    <tr style=\"text-align: right;\">\n",
       "      <th></th>\n",
       "      <th>Date</th>\n",
       "      <th>Close/Last</th>\n",
       "      <th>Volume</th>\n",
       "      <th>Open</th>\n",
       "      <th>High</th>\n",
       "      <th>Low</th>\n",
       "    </tr>\n",
       "  </thead>\n",
       "  <tbody>\n",
       "    <tr>\n",
       "      <th>0</th>\n",
       "      <td>2024-01-02</td>\n",
       "      <td>185.64</td>\n",
       "      <td>82488670</td>\n",
       "      <td>187.15</td>\n",
       "      <td>188.44</td>\n",
       "      <td>183.89</td>\n",
       "    </tr>\n",
       "    <tr>\n",
       "      <th>1</th>\n",
       "      <td>2024-01-03</td>\n",
       "      <td>184.25</td>\n",
       "      <td>58414460</td>\n",
       "      <td>184.22</td>\n",
       "      <td>185.88</td>\n",
       "      <td>183.43</td>\n",
       "    </tr>\n",
       "    <tr>\n",
       "      <th>2</th>\n",
       "      <td>2024-01-04</td>\n",
       "      <td>181.91</td>\n",
       "      <td>71983570</td>\n",
       "      <td>182.15</td>\n",
       "      <td>183.09</td>\n",
       "      <td>180.88</td>\n",
       "    </tr>\n",
       "    <tr>\n",
       "      <th>3</th>\n",
       "      <td>2024-01-05</td>\n",
       "      <td>181.18</td>\n",
       "      <td>62379660</td>\n",
       "      <td>181.99</td>\n",
       "      <td>182.76</td>\n",
       "      <td>180.17</td>\n",
       "    </tr>\n",
       "    <tr>\n",
       "      <th>4</th>\n",
       "      <td>2024-01-08</td>\n",
       "      <td>185.56</td>\n",
       "      <td>59144470</td>\n",
       "      <td>182.09</td>\n",
       "      <td>185.60</td>\n",
       "      <td>181.50</td>\n",
       "    </tr>\n",
       "    <tr>\n",
       "      <th>...</th>\n",
       "      <td>...</td>\n",
       "      <td>...</td>\n",
       "      <td>...</td>\n",
       "      <td>...</td>\n",
       "      <td>...</td>\n",
       "      <td>...</td>\n",
       "    </tr>\n",
       "    <tr>\n",
       "      <th>174</th>\n",
       "      <td>2024-09-11</td>\n",
       "      <td>222.66</td>\n",
       "      <td>44587070</td>\n",
       "      <td>221.46</td>\n",
       "      <td>223.09</td>\n",
       "      <td>217.89</td>\n",
       "    </tr>\n",
       "    <tr>\n",
       "      <th>175</th>\n",
       "      <td>2024-09-12</td>\n",
       "      <td>222.77</td>\n",
       "      <td>37498230</td>\n",
       "      <td>222.50</td>\n",
       "      <td>223.55</td>\n",
       "      <td>219.82</td>\n",
       "    </tr>\n",
       "    <tr>\n",
       "      <th>176</th>\n",
       "      <td>2024-09-13</td>\n",
       "      <td>222.50</td>\n",
       "      <td>36766620</td>\n",
       "      <td>223.58</td>\n",
       "      <td>224.04</td>\n",
       "      <td>221.91</td>\n",
       "    </tr>\n",
       "    <tr>\n",
       "      <th>177</th>\n",
       "      <td>2024-09-16</td>\n",
       "      <td>216.32</td>\n",
       "      <td>59357430</td>\n",
       "      <td>216.54</td>\n",
       "      <td>217.22</td>\n",
       "      <td>213.92</td>\n",
       "    </tr>\n",
       "    <tr>\n",
       "      <th>178</th>\n",
       "      <td>2024-09-17</td>\n",
       "      <td>216.79</td>\n",
       "      <td>45519340</td>\n",
       "      <td>215.75</td>\n",
       "      <td>216.90</td>\n",
       "      <td>214.50</td>\n",
       "    </tr>\n",
       "  </tbody>\n",
       "</table>\n",
       "<p>179 rows × 6 columns</p>\n",
       "</div>"
      ],
      "text/plain": [
       "          Date  Close/Last    Volume    Open    High     Low\n",
       "0   2024-01-02      185.64  82488670  187.15  188.44  183.89\n",
       "1   2024-01-03      184.25  58414460  184.22  185.88  183.43\n",
       "2   2024-01-04      181.91  71983570  182.15  183.09  180.88\n",
       "3   2024-01-05      181.18  62379660  181.99  182.76  180.17\n",
       "4   2024-01-08      185.56  59144470  182.09  185.60  181.50\n",
       "..         ...         ...       ...     ...     ...     ...\n",
       "174 2024-09-11      222.66  44587070  221.46  223.09  217.89\n",
       "175 2024-09-12      222.77  37498230  222.50  223.55  219.82\n",
       "176 2024-09-13      222.50  36766620  223.58  224.04  221.91\n",
       "177 2024-09-16      216.32  59357430  216.54  217.22  213.92\n",
       "178 2024-09-17      216.79  45519340  215.75  216.90  214.50\n",
       "\n",
       "[179 rows x 6 columns]"
      ]
     },
     "execution_count": 11,
     "metadata": {},
     "output_type": "execute_result"
    }
   ],
   "source": [
    "# Import pandas as pd.\n",
    "\n",
    "import pandas as pd \n",
    "\n",
    "\n",
    "# The following code will read in the data \"apple_2024.csv\" as pandas dataframe.\n",
    "# All the prices are in USD ($). \n",
    "\n",
    "apple_2024 = pd.read_csv(\"apple_2024.csv\", parse_dates = [0])\n",
    "apple_2024\n"
   ]
  },
  {
   "cell_type": "code",
   "execution_count": 12,
   "id": "4c5662eb-25a6-4af8-a2f3-a769d24278d7",
   "metadata": {},
   "outputs": [],
   "source": [
    "# Let us extract some variables that we want to analyze. \n",
    "\n",
    "apple_2024_open = apple_2024[\"Open\"]\n",
    "apple_2024_close = apple_2024[\"Close/Last\"]\n",
    "apple_2024_dates = apple_2024[\"Date\"]\n",
    "apple_2024_volume = apple_2024[\"Volume\"]\n",
    "\n",
    "# Let us also convert these variables into ndarrays. \n",
    "\n",
    "apple_2024_open = apple_2024_open.values\n",
    "apple_2024_close = apple_2024_close.values\n",
    "apple_2024_dates = apple_2024_dates.values\n",
    "apple_2024_volume = apple_2024_volume.values"
   ]
  },
  {
   "cell_type": "code",
   "execution_count": 13,
   "id": "10a2e915-54f0-45c3-b51d-18e5c6601475",
   "metadata": {},
   "outputs": [
    {
     "name": "stdout",
     "output_type": "stream",
     "text": [
      "float64\n",
      "float64\n",
      "datetime64[ns]\n",
      "int64\n"
     ]
    }
   ],
   "source": [
    "# Print dtypes of above ndarrays. \n",
    "\n",
    "print(apple_2024_open.dtype)\n",
    "print(apple_2024_close.dtype)\n",
    "print(apple_2024_dates.dtype)    # Ignore this dtype for now. \n",
    "print(apple_2024_volume.dtype)"
   ]
  },
  {
   "cell_type": "code",
   "execution_count": 14,
   "id": "690dc4eb-57f7-49f3-845a-b657eb14ec24",
   "metadata": {},
   "outputs": [
    {
     "data": {
      "image/png": "[encoded data removed]",
      "text/plain": [
       "<Figure size 640x480 with 1 Axes>"
      ]
     },
     "metadata": {},
     "output_type": "display_data"
    }
   ],
   "source": [
    "# When working with a financial time series, it is always a good idea to start \n",
    "# with a time series plot of closing prices.      \n",
    "\n",
    "import matplotlib.pyplot as plt \n",
    "%matplotlib inline \n",
    "\n",
    "plt.plot(apple_2024_dates, apple_2024_close,);    \n",
    "plt.xlabel(\"Date\");\n",
    "plt.ylabel(\"Price ($)\");\n",
    "plt.title(\"Time Series of Apple Stock in 2024\");"
   ]
  },
  {
   "cell_type": "code",
   "execution_count": 16,
   "id": "251024d1-d4f2-4b2d-8d23-4bba41d854c2",
   "metadata": {},
   "outputs": [],
   "source": [
    "# Let us now compute some basic statistics for closing price of Apple stock. \n",
    "\n",
    "# Print maximum closing price for Apple stock in 2024\n",
    "\n",
    "\n",
    "\n",
    "\n",
    "\n",
    "# Print minimum closing price for Apply stock in 2024. \n",
    "\n",
    "\n",
    "\n",
    "\n",
    "\n",
    "# Print average closing price for Apple stock in 2024. \n",
    "\n",
    "\n",
    "\n",
    "\n",
    "\n",
    "# Print standard deviation for closing price of Apple stock in 2024. \n",
    "\n",
    "\n",
    "\n"
   ]
  },
  {
   "cell_type": "code",
   "execution_count": 18,
   "id": "41993594-e433-48fe-8e15-6a1aae619ad3",
   "metadata": {},
   "outputs": [],
   "source": [
    "# Daily variability is defined to be the standard deviation of the time series \n",
    "# formed by taking the differences of opening and closing prices for each day. \n",
    "\n",
    "# Let us first compute a new time series with all the differences and store it as intra_diff. \n",
    "\n",
    "\n",
    "\n",
    "\n",
    "\n",
    "# Print the standard deviation for this new time series. \n",
    "\n",
    "\n",
    "\n",
    "\n",
    "\n",
    "# Print the number of days the closing price was greater than the opening price.\n",
    "\n",
    "\n",
    "\n",
    "\n",
    "\n",
    "# Print the proportion of days the close price was greater than the opening price.\n",
    "\n",
    "\n",
    "\n",
    "\n",
    "\n",
    "# Print volume (number of shares traded) for days when the closing price was greater than the opening price. \n",
    "\n",
    "\n",
    "\n",
    "\n"
   ]
  },
  {
   "cell_type": "markdown",
   "id": "b3aecf4a-0c6a-49bf-b80c-db13ed578d0c",
   "metadata": {},
   "source": [
    "# 3. Numpy - Matrices and Tensors (Higher Order ndarrays)"
   ]
  },
  {
   "cell_type": "code",
   "execution_count": 19,
   "id": "22487ef0-3998-47b2-9ad2-eb85681f0c4c",
   "metadata": {},
   "outputs": [],
   "source": [
    "# Create a 3x2 (3 rows and 2 columns) matrix with first row containing first two even numbers \n",
    "# starting with the number 2, second row containing the next two even numbers, and so on. \n",
    "# Store you answer as even_matrix. \n",
    "\n",
    "\n",
    "\n"
   ]
  },
  {
   "cell_type": "code",
   "execution_count": 32,
   "id": "ae611e48-e51d-4355-a06c-04aeeaf11767",
   "metadata": {},
   "outputs": [],
   "source": [
    "# Extract second element in the second row of the above matrix. \n",
    "\n",
    "\n"
   ]
  },
  {
   "cell_type": "code",
   "execution_count": 33,
   "id": "7493460d-47eb-4449-8e7b-dbe47a5dd49d",
   "metadata": {},
   "outputs": [],
   "source": [
    "# Extract the sub-matrix formed by last two rows. \n",
    "\n",
    "\n"
   ]
  },
  {
   "cell_type": "code",
   "execution_count": 22,
   "id": "183f0818-c9f6-4fae-bda6-de2ef2ea7d6e",
   "metadata": {},
   "outputs": [],
   "source": [
    "# Change all the entries in the sceond row of the matrix to 99. \n",
    "\n",
    "\n"
   ]
  },
  {
   "cell_type": "code",
   "execution_count": 34,
   "id": "4a0c7469-64b8-4e3e-aae2-65e789fae7df",
   "metadata": {},
   "outputs": [],
   "source": [
    "# Print the sum of all the entries in the above matrix. \n",
    "\n",
    "\n"
   ]
  },
  {
   "cell_type": "code",
   "execution_count": 35,
   "id": "6a5fd075-2bd1-447c-8ec3-4d17266569a5",
   "metadata": {},
   "outputs": [],
   "source": [
    "# Print the sum down the rows. \n",
    "\n",
    "\n"
   ]
  },
  {
   "cell_type": "code",
   "execution_count": 36,
   "id": "3755ff9e-e87f-46ff-876c-9b9b27936942",
   "metadata": {},
   "outputs": [],
   "source": [
    "# Print the sum across the columns. \n",
    "\n",
    "\n"
   ]
  },
  {
   "cell_type": "code",
   "execution_count": 37,
   "id": "06c4ac10-2310-4d3e-8665-16c08ff7ec1b",
   "metadata": {},
   "outputs": [],
   "source": [
    "# Count the numbers of entires that are greater than 50. \n",
    "\n",
    "\n"
   ]
  },
  {
   "cell_type": "code",
   "execution_count": 27,
   "id": "ad38931a-2613-4460-8696-b264f00e965f",
   "metadata": {},
   "outputs": [],
   "source": [
    "# Create a 100x100 matrix with all entries zero. \n",
    "\n",
    "\n"
   ]
  },
  {
   "cell_type": "code",
   "execution_count": 29,
   "id": "3d6c7bfa-c711-4a83-ac92-0468e61dccfd",
   "metadata": {},
   "outputs": [],
   "source": [
    "# Change middle 20 rows and columns of the above matrix to 1.\n",
    "# Store it as zero_matrix. \n",
    "\n",
    "\n",
    "\n",
    "# Output an image of the above matrix using plt.imshow() function. \n",
    "\n",
    "#plt.imshow(zero_matrix); \n",
    "#plt.colorbar();"
   ]
  },
  {
   "cell_type": "code",
   "execution_count": 30,
   "id": "873a18ff-c5c2-4a43-b99b-ab83eb8bb5b1",
   "metadata": {},
   "outputs": [],
   "source": [
    "# Change the above matrix to a boolean matrix. Store your answer as bool_matrix. \n",
    "\n",
    "\n",
    "\n",
    "# Output an image of the above matrix using plt.imshow() function. \n",
    "\n",
    "#plt.imshow(bool_matrix);\n",
    "#plt.colorbar();\n",
    "\n"
   ]
  },
  {
   "cell_type": "code",
   "execution_count": 31,
   "id": "3cd9edb1-0f4d-466e-a68e-c741a54398fe",
   "metadata": {},
   "outputs": [],
   "source": [
    "# What does ~zero.matrix do?\n",
    "\n",
    "#plt.imshow(~bool_matrix);\n",
    "#plt.colorbar();\n"
   ]
  },
  {
   "cell_type": "markdown",
   "id": "b60a73c6-8aab-4af4-b576-b358265f67f6",
   "metadata": {},
   "source": [
    "# 4. Image Manipulation"
   ]
  },
  {
   "cell_type": "markdown",
   "id": "ab94fe49-dcff-4547-a291-c2e6830a464a",
   "metadata": {},
   "source": [
    "Data source: <https://www.adultswim.com>"
   ]
  },
  {
   "cell_type": "code",
   "execution_count": 1,
   "id": "c85143fb-3bea-47df-8510-cf25c6164c25",
   "metadata": {},
   "outputs": [],
   "source": [
    "# To pull in the image, we will take help of imageio package. \n",
    "\n",
    "from imageio.v3 import imread\n",
    "\n",
    "Im = imread(\"rick_morty.jpeg\")\n",
    "\n",
    "#plt.imshow(Im);\n",
    "#plt.colorbar();"
   ]
  },
  {
   "cell_type": "code",
   "execution_count": 2,
   "id": "cf5918dc-8074-4856-bad9-9860a5f85438",
   "metadata": {},
   "outputs": [
    {
     "name": "stdout",
     "output_type": "stream",
     "text": [
      "uint8\n"
     ]
    },
    {
     "data": {
      "text/plain": [
       "(1000, 1000, 3)"
      ]
     },
     "execution_count": 2,
     "metadata": {},
     "output_type": "execute_result"
    }
   ],
   "source": [
    "# What is the dtype and shape of the image?\n",
    "# One can think of an image as an concatenation of three 1000x1000 matrices. \n",
    "# Mathematically, this is an order 3 tensor with size 1000x1000x3. \n",
    "\n",
    "print(Im.dtype)\n",
    "Im.shape       "
   ]
  },
  {
   "cell_type": "code",
   "execution_count": null,
   "id": "4b6b6a30-dda6-426b-bcd3-5e7202b57486",
   "metadata": {},
   "outputs": [],
   "source": []
  },
  {
   "cell_type": "code",
   "execution_count": 4,
   "id": "9fc1ec43-8fe0-45d3-ba04-f48f6dbc31f2",
   "metadata": {},
   "outputs": [],
   "source": [
    "# Similar to what we did in lecture, let us try to switch green and blue channels. \n",
    "# RGB Image Manipulation. \n",
    "\n",
    "# First extract each color channel as a matrix.\n",
    "\n",
    "\n",
    "\n",
    "\n",
    "\n",
    "\n",
    "\n",
    "# Next create new image (tensor of equal size with all entries zero)\n",
    "# where color channels will be swapped. Store it as new_Im.\n",
    "             \n",
    "\n",
    "\n",
    "\n",
    "\n",
    "\n",
    "\n",
    "# Swap channels.\n",
    "\n",
    "\n",
    "\n",
    "\n",
    "\n",
    "# Convert to ints. Why? \n",
    "\n",
    "#new_Im = new_Im.astype(\"int\")\n",
    "\n",
    "\n",
    "\n",
    "\n",
    "# Display the image using plt.imshow() function. \n",
    "\n",
    "\n",
    "\n"
   ]
  },
  {
   "cell_type": "code",
   "execution_count": null,
   "id": "e3224db3-5416-45a6-be64-6f9d9b117d77",
   "metadata": {},
   "outputs": [],
   "source": []
  },
  {
   "cell_type": "code",
   "execution_count": 5,
   "id": "3b1eaa94-b97e-443c-b759-bdd63125bc16",
   "metadata": {},
   "outputs": [],
   "source": [
    "# To create a grayscale image - use the average value in all three r, g, b channels.\n",
    "\n",
    "#mean_image = np.mean(Im, axis = 2)\n",
    "\n",
    "#plt.imshow(mean_image, cmap='gray');"
   ]
  },
  {
   "cell_type": "code",
   "execution_count": null,
   "id": "ab4bc52a-2eff-47f8-af9c-4f0a1ed423a8",
   "metadata": {},
   "outputs": [],
   "source": []
  },
  {
   "cell_type": "code",
   "execution_count": 6,
   "id": "f14a8435-103a-4215-8c21-e83c26fd3734",
   "metadata": {},
   "outputs": [],
   "source": [
    "# Image masking - turn white to black. \n",
    "\n",
    "# copy the image and create a darkening mask\n",
    "#darken = Im.copy()\n",
    "#darken_mask = darken == 255\n",
    "#print(darken_mask.shape)\n",
    "\n",
    "# darken the pixels and display the image\n",
    "#darken[darken_mask] = 0\n",
    "#plt.imshow(darken);"
   ]
  },
  {
   "cell_type": "code",
   "execution_count": null,
   "id": "83f9f95b-c26e-496e-a309-19fa483f5e4a",
   "metadata": {},
   "outputs": [],
   "source": []
  }
 ],
 "metadata": {
  "kernelspec": {
   "display_name": "Python 3 (ipykernel)",
   "language": "python",
   "name": "python3"
  },
  "language_info": {
   "codemirror_mode": {
    "name": "ipython",
    "version": 3
   },
   "file_extension": ".py",
   "mimetype": "text/x-python",
   "name": "python",
   "nbconvert_exporter": "python",
   "pygments_lexer": "ipython3",
   "version": "3.11.7"
  }
 },
 "nbformat": 4,
 "nbformat_minor": 5
}
