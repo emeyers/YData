{
 "cells": [
  {
   "cell_type": "markdown",
   "id": "6cf6cb45-845e-4207-b46f-d341b4efd0ad",
   "metadata": {},
   "source": [
    "Welcome to Preceptor practice session 11! "
   ]
  },
  {
   "cell_type": "code",
   "execution_count": 25,
   "id": "4e9da109-2515-435f-a743-dc52d78b7680",
   "metadata": {},
   "outputs": [],
   "source": [
    "import YData \n",
    "\n",
    "#YData.download_practice_code(11)              # Without Answers. \n",
    "#YData.download_practice_code(11, True)        # With Answers (won't work before Friday eve.)\n",
    "\n",
    "#YData.download_data(\"loan_data.csv\")\n",
    "\n",
    "import statistics\n",
    "import pandas as pd\n",
    "import numpy as np\n",
    "import seaborn as sns\n",
    "import plotly.express as px\n",
    "from urllib.request import urlopen\n",
    "\n",
    "import matplotlib.pyplot as plt\n",
    "%matplotlib inline\n",
    "\n",
    "# Suppress ConvergenceWarning - please ignore this code \n",
    "import warnings\n",
    "warnings.filterwarnings(\"ignore\", category=FutureWarning)\n",
    "\n"
   ]
  },
  {
   "cell_type": "code",
   "execution_count": 26,
   "id": "a015c76c-15b3-4352-94a0-e89ca9601072",
   "metadata": {},
   "outputs": [
    {
     "data": {
      "text/html": [
       "<div>\n",
       "<style scoped>\n",
       "    .dataframe tbody tr th:only-of-type {\n",
       "        vertical-align: middle;\n",
       "    }\n",
       "\n",
       "    .dataframe tbody tr th {\n",
       "        vertical-align: top;\n",
       "    }\n",
       "\n",
       "    .dataframe thead th {\n",
       "        text-align: right;\n",
       "    }\n",
       "</style>\n",
       "<table border=\"1\" class=\"dataframe\">\n",
       "  <thead>\n",
       "    <tr style=\"text-align: right;\">\n",
       "      <th></th>\n",
       "      <th>person_age</th>\n",
       "      <th>person_gender</th>\n",
       "      <th>person_education</th>\n",
       "      <th>person_income</th>\n",
       "      <th>person_emp_exp</th>\n",
       "      <th>person_home_ownership</th>\n",
       "      <th>loan_amnt</th>\n",
       "      <th>loan_intent</th>\n",
       "      <th>loan_int_rate</th>\n",
       "      <th>loan_percent_income</th>\n",
       "      <th>cb_person_cred_hist_length</th>\n",
       "      <th>credit_score</th>\n",
       "      <th>previous_loan_defaults_on_file</th>\n",
       "      <th>loan_status</th>\n",
       "    </tr>\n",
       "  </thead>\n",
       "  <tbody>\n",
       "    <tr>\n",
       "      <th>0</th>\n",
       "      <td>22.0</td>\n",
       "      <td>female</td>\n",
       "      <td>Master</td>\n",
       "      <td>71948.0</td>\n",
       "      <td>0</td>\n",
       "      <td>RENT</td>\n",
       "      <td>35000.0</td>\n",
       "      <td>PERSONAL</td>\n",
       "      <td>16.02</td>\n",
       "      <td>0.49</td>\n",
       "      <td>3.0</td>\n",
       "      <td>561</td>\n",
       "      <td>No</td>\n",
       "      <td>1</td>\n",
       "    </tr>\n",
       "    <tr>\n",
       "      <th>1</th>\n",
       "      <td>21.0</td>\n",
       "      <td>female</td>\n",
       "      <td>High School</td>\n",
       "      <td>12282.0</td>\n",
       "      <td>0</td>\n",
       "      <td>OWN</td>\n",
       "      <td>1000.0</td>\n",
       "      <td>EDUCATION</td>\n",
       "      <td>11.14</td>\n",
       "      <td>0.08</td>\n",
       "      <td>2.0</td>\n",
       "      <td>504</td>\n",
       "      <td>Yes</td>\n",
       "      <td>0</td>\n",
       "    </tr>\n",
       "    <tr>\n",
       "      <th>2</th>\n",
       "      <td>25.0</td>\n",
       "      <td>female</td>\n",
       "      <td>High School</td>\n",
       "      <td>12438.0</td>\n",
       "      <td>3</td>\n",
       "      <td>MORTGAGE</td>\n",
       "      <td>5500.0</td>\n",
       "      <td>MEDICAL</td>\n",
       "      <td>12.87</td>\n",
       "      <td>0.44</td>\n",
       "      <td>3.0</td>\n",
       "      <td>635</td>\n",
       "      <td>No</td>\n",
       "      <td>1</td>\n",
       "    </tr>\n",
       "    <tr>\n",
       "      <th>3</th>\n",
       "      <td>23.0</td>\n",
       "      <td>female</td>\n",
       "      <td>Bachelor</td>\n",
       "      <td>79753.0</td>\n",
       "      <td>0</td>\n",
       "      <td>RENT</td>\n",
       "      <td>35000.0</td>\n",
       "      <td>MEDICAL</td>\n",
       "      <td>15.23</td>\n",
       "      <td>0.44</td>\n",
       "      <td>2.0</td>\n",
       "      <td>675</td>\n",
       "      <td>No</td>\n",
       "      <td>1</td>\n",
       "    </tr>\n",
       "    <tr>\n",
       "      <th>4</th>\n",
       "      <td>24.0</td>\n",
       "      <td>male</td>\n",
       "      <td>Master</td>\n",
       "      <td>66135.0</td>\n",
       "      <td>1</td>\n",
       "      <td>RENT</td>\n",
       "      <td>35000.0</td>\n",
       "      <td>MEDICAL</td>\n",
       "      <td>14.27</td>\n",
       "      <td>0.53</td>\n",
       "      <td>4.0</td>\n",
       "      <td>586</td>\n",
       "      <td>No</td>\n",
       "      <td>1</td>\n",
       "    </tr>\n",
       "  </tbody>\n",
       "</table>\n",
       "</div>"
      ],
      "text/plain": [
       "   person_age person_gender person_education  person_income  person_emp_exp  \\\n",
       "0        22.0        female           Master        71948.0               0   \n",
       "1        21.0        female      High School        12282.0               0   \n",
       "2        25.0        female      High School        12438.0               3   \n",
       "3        23.0        female         Bachelor        79753.0               0   \n",
       "4        24.0          male           Master        66135.0               1   \n",
       "\n",
       "  person_home_ownership  loan_amnt loan_intent  loan_int_rate  \\\n",
       "0                  RENT    35000.0    PERSONAL          16.02   \n",
       "1                   OWN     1000.0   EDUCATION          11.14   \n",
       "2              MORTGAGE     5500.0     MEDICAL          12.87   \n",
       "3                  RENT    35000.0     MEDICAL          15.23   \n",
       "4                  RENT    35000.0     MEDICAL          14.27   \n",
       "\n",
       "   loan_percent_income  cb_person_cred_hist_length  credit_score  \\\n",
       "0                 0.49                         3.0           561   \n",
       "1                 0.08                         2.0           504   \n",
       "2                 0.44                         3.0           635   \n",
       "3                 0.44                         2.0           675   \n",
       "4                 0.53                         4.0           586   \n",
       "\n",
       "  previous_loan_defaults_on_file  loan_status  \n",
       "0                             No            1  \n",
       "1                            Yes            0  \n",
       "2                             No            1  \n",
       "3                             No            1  \n",
       "4                             No            1  "
      ]
     },
     "execution_count": 26,
     "metadata": {},
     "output_type": "execute_result"
    }
   ],
   "source": [
    "# Get our loan data.\n",
    "\n",
    "loans = pd.read_csv(\"loan_data.csv\")\n",
    "loans.head()\n",
    "\n",
    "\n",
    "\n"
   ]
  },
  {
   "cell_type": "code",
   "execution_count": 1,
   "id": "bc247584-7dec-4202-a66a-90d3e4103996",
   "metadata": {},
   "outputs": [],
   "source": [
    "# Get the features and the labels.\n",
    "\n"
   ]
  },
  {
   "cell_type": "markdown",
   "id": "562c1d77-8dfa-467d-a3a1-c86e86cec2b6",
   "metadata": {},
   "source": [
    "# 1. Unsupervised learning: k-means clustering\n",
    "\n",
    "We can do k-means clustering in scikit-learn using the `KMeans()` object.\n"
   ]
  },
  {
   "cell_type": "code",
   "execution_count": 2,
   "id": "3b6a5678-0370-4248-8681-bc7db961d2d0",
   "metadata": {},
   "outputs": [],
   "source": [
    "from sklearn.cluster import KMeans\n",
    "\n",
    "# fit k-means with 2 clusters. \n",
    "\n"
   ]
  },
  {
   "cell_type": "code",
   "execution_count": 3,
   "id": "a9dd9848-a161-4113-a681-2c800c50666a",
   "metadata": {},
   "outputs": [],
   "source": [
    "# see which cluster each point belongs to \n",
    "\n"
   ]
  },
  {
   "cell_type": "code",
   "execution_count": 4,
   "id": "9c446cd0-1277-4f9e-81bb-6740531f059e",
   "metadata": {},
   "outputs": [],
   "source": [
    "# look at a matrix of which loan types (approved or denied) end up in which cluster. \n",
    "\n"
   ]
  },
  {
   "cell_type": "markdown",
   "id": "0bcc289a-f186-4fd5-81a8-a5d732ffcde8",
   "metadata": {},
   "source": [
    "- Let us now do clustering with feature normalization. "
   ]
  },
  {
   "cell_type": "code",
   "execution_count": 5,
   "id": "e42f0ee4-7780-4942-a0e7-de1ced73aa81",
   "metadata": {},
   "outputs": [],
   "source": [
    "from sklearn.preprocessing import StandardScaler\n",
    "from sklearn.pipeline import make_pipeline\n",
    "\n",
    "# do clustering with feature normalization \n"
   ]
  },
  {
   "cell_type": "code",
   "execution_count": 6,
   "id": "916e9758-5e52-4d6c-b772-6c2fecc492cd",
   "metadata": {},
   "outputs": [],
   "source": [
    "# see which cluster each (normalized) point belongs to\n",
    "\n",
    "\n"
   ]
  },
  {
   "cell_type": "code",
   "execution_count": 7,
   "id": "f5d6ddf6-6025-40fc-8377-869bc3efc13f",
   "metadata": {},
   "outputs": [],
   "source": [
    "# look at a matrix of which loan types (denied or approved) end up in which cluster \n",
    "\n"
   ]
  },
  {
   "cell_type": "markdown",
   "id": "db3e10be-c8f9-4b2f-8f09-bf4fd7385cdf",
   "metadata": {},
   "source": [
    "# 2. Unsupervised learning: Hierarchical clustering"
   ]
  },
  {
   "cell_type": "code",
   "execution_count": 34,
   "id": "8bde082d-998e-4d2c-ba1b-af301191b31e",
   "metadata": {},
   "outputs": [],
   "source": [
    "from sklearn.cluster import AgglomerativeClustering\n",
    "from scipy.cluster import hierarchy\n",
    "\n",
    "#  Ward's method adds points to a cluster that minimizes the sum of squared differences \n",
    "#  within all clusters\n",
    "clusters = hierarchy.linkage(X_loans_features[0:10000], method=\"ward\")   "
   ]
  },
  {
   "cell_type": "code",
   "execution_count": 8,
   "id": "7c58fe7c-ce62-4292-97fb-35497f139379",
   "metadata": {},
   "outputs": [],
   "source": [
    "# display a dendrogram\n"
   ]
  },
  {
   "cell_type": "code",
   "execution_count": 9,
   "id": "78a20774-2c01-4540-b3ee-fb04a14ae607",
   "metadata": {},
   "outputs": [],
   "source": [
    "# cluster points into 2 clusters \n",
    "\n",
    "\n",
    "# get the predicted cluster for each point\n"
   ]
  },
  {
   "cell_type": "code",
   "execution_count": 10,
   "id": "3eb461f0-2568-4f56-8788-e28ec6112a22",
   "metadata": {},
   "outputs": [],
   "source": [
    "# visualize how well the clustering matches the loan types (denied or approved)\n",
    "\n",
    "\n"
   ]
  },
  {
   "cell_type": "markdown",
   "id": "5a7ae61b-8897-474d-8150-d362b9317ace",
   "metadata": {},
   "source": [
    "# Object-oriented programming\n",
    "\n",
    "[Object-oriented programming (OOP)](https://en.wikipedia.org/wiki/Object-oriented_programming) is a programming paradigm based on the concept of objects, which can contain data and code: data in the form of fields (often known as attributes or properties), and code in the form of procedures (often known as methods). In OOP, computer programs are designed by making them out of objects that interact with one another.\n",
    "\n"
   ]
  },
  {
   "cell_type": "markdown",
   "id": "b9dea9fe-3f04-4229-992a-b080f1c178b3",
   "metadata": {},
   "source": [
    "1. Write a Python program to create a Vehicle class with max_speed and mileage instance attributes."
   ]
  },
  {
   "cell_type": "code",
   "execution_count": null,
   "id": "9e324097-b8dc-47bd-9e4e-1d6d78a1fcd3",
   "metadata": {},
   "outputs": [],
   "source": []
  },
  {
   "cell_type": "markdown",
   "id": "f2d8d082-f05e-4e7b-8f44-8f9110703558",
   "metadata": {},
   "source": [
    "2. Write a Python program to create a class representing a Circle. Include methods to calculate its area and perimeter."
   ]
  },
  {
   "cell_type": "code",
   "execution_count": 13,
   "id": "cda33d18-fb26-4f84-b8e7-569242cf7b47",
   "metadata": {},
   "outputs": [],
   "source": [
    "# Import the math module to access mathematical functions like pi\n",
    "import math\n",
    "\n",
    "# Define a class called Circle to represent a circle\n",
    " class Circle:\n",
    "    # Initialize the Circle object with a given radius\n",
    "    \n",
    "    \n",
    "    # Calculate and return the area of the circle using the formula: π * r^2\n",
    "    \n",
    "    \n",
    "    # Calculate and return the perimeter (circumference) of the circle using the formula: 2π * r\n",
    "    \n",
    "\n",
    "# Example usage\n",
    "# Prompt the user to input the radius of the circle and convert it to a floating-point number\n",
    " radius = float(input(\"Input the radius of the circle: \"))\n",
    "\n",
    "# Create a Circle object with the provided radius\n",
    "\n",
    "\n",
    "# Calculate the area of the circle using the calculate_circle_area method\n",
    "\n",
    "\n",
    "# Calculate the perimeter of the circle using the calculate_circle_perimeter method\n",
    "\n",
    "\n",
    "# Display the calculated area and perimeter of the circle\n",
    "\n"
   ]
  },
  {
   "cell_type": "code",
   "execution_count": null,
   "id": "3a501014-3926-4af2-8a84-c44dffa40133",
   "metadata": {},
   "outputs": [],
   "source": []
  }
 ],
 "metadata": {
  "kernelspec": {
   "display_name": "Python 3 (ipykernel)",
   "language": "python",
   "name": "python3"
  },
  "language_info": {
   "codemirror_mode": {
    "name": "ipython",
    "version": 3
   },
   "file_extension": ".py",
   "mimetype": "text/x-python",
   "name": "python",
   "nbconvert_exporter": "python",
   "pygments_lexer": "ipython3",
   "version": "3.11.7"
  }
 },
 "nbformat": 4,
 "nbformat_minor": 5
}
