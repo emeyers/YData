{
 "cells": [
  {
   "cell_type": "markdown",
   "id": "76e3eb88-62f7-42a4-a9e0-3693889f9865",
   "metadata": {},
   "source": [
    "Practice 6"
   ]
  },
  {
   "cell_type": "code",
   "execution_count": 1,
   "id": "4e396339-7b1d-4b05-8327-34c78bf12b37",
   "metadata": {},
   "outputs": [],
   "source": [
    "import YData \n",
    "\n",
    "\n",
    "#### Download Practice 6 Jupyter Notebook ####  \n",
    "#YData.download_practice_code(6)           # Without Answers. \n",
    "#YData.download_practice_code(6, True)     # With Answers. (Won't work until Friday eve.)\n",
    "\n",
    "\n",
    "\n",
    "#### Download Data #### \n",
    "YData.download_data(\"apple_2025.csv\")\n",
    "YData.download_data(\"google_2025.csv\")\n",
    "YData.download.download_data(\"States_shapefile.geojson\")\n",
    "YData.download.download_data(\"state_demographics.csv\")\n",
    "\n",
    "\n",
    "\n",
    "#### Import Packages #### \n",
    "import pandas as pd \n",
    "import numpy as np \n",
    "import matplotlib.pyplot as plt \n",
    "\n"
   ]
  },
  {
   "cell_type": "markdown",
   "id": "41f8cf96-3bd8-495a-8d7b-e7b064a4636e",
   "metadata": {},
   "source": [
    "<br>\n",
    "<br>\n",
    "<br>"
   ]
  },
  {
   "cell_type": "markdown",
   "id": "e25160ab-75df-4578-95cd-bcfe4aa6d2d2",
   "metadata": {},
   "source": [
    "## Choropleth Maps - Bachelors Degree\n",
    "\n",
    "Let's first do a practice problem of creating a choropleth map of the percentage of people who have bachelors degree in each state. \n",
    "\n",
    "Data with the state boundaries and the demographic information are loaded below. Please do the following steps:\n",
    "\n",
    "1. Join/merge the map data with the demographic data to create a new geoDataFrame called `state_map_demo`.\n",
    "2. Create a new column in `state_map_demo` called `with_bachelors` that has the percentage of people with bachelors (i.e., we are normalizing our choropleth map).\n",
    "3. Plot the choropleth showing the percentage with bachelors. Does this map look like you would expect? \n"
   ]
  },
  {
   "cell_type": "code",
   "execution_count": 2,
   "id": "a78ab6bd-f429-4435-a9b2-77390a487399",
   "metadata": {},
   "outputs": [
    {
     "name": "stdout",
     "output_type": "stream",
     "text": [
      "EPSG:4326\n"
     ]
    },
    {
     "data": {
      "text/html": [
       "<div>\n",
       "<style scoped>\n",
       "    .dataframe tbody tr th:only-of-type {\n",
       "        vertical-align: middle;\n",
       "    }\n",
       "\n",
       "    .dataframe tbody tr th {\n",
       "        vertical-align: top;\n",
       "    }\n",
       "\n",
       "    .dataframe thead th {\n",
       "        text-align: right;\n",
       "    }\n",
       "</style>\n",
       "<table border=\"1\" class=\"dataframe\">\n",
       "  <thead>\n",
       "    <tr style=\"text-align: right;\">\n",
       "      <th></th>\n",
       "      <th>FID</th>\n",
       "      <th>Program</th>\n",
       "      <th>State_Code</th>\n",
       "      <th>State_Name</th>\n",
       "      <th>Flowing_St</th>\n",
       "      <th>FID_1</th>\n",
       "      <th>geometry</th>\n",
       "    </tr>\n",
       "  </thead>\n",
       "  <tbody>\n",
       "    <tr>\n",
       "      <th>0</th>\n",
       "      <td>1</td>\n",
       "      <td>PERMIT TRACKING</td>\n",
       "      <td>AL</td>\n",
       "      <td>ALABAMA</td>\n",
       "      <td>F</td>\n",
       "      <td>919</td>\n",
       "      <td>POLYGON ((-85.07007 31.9807, -85.11515 31.9074...</td>\n",
       "    </tr>\n",
       "    <tr>\n",
       "      <th>1</th>\n",
       "      <td>2</td>\n",
       "      <td></td>\n",
       "      <td>AK</td>\n",
       "      <td>ALASKA</td>\n",
       "      <td>N</td>\n",
       "      <td>920</td>\n",
       "      <td>MULTIPOLYGON (((-161.33379 58.73325, -161.3824...</td>\n",
       "    </tr>\n",
       "    <tr>\n",
       "      <th>2</th>\n",
       "      <td>3</td>\n",
       "      <td>AZURITE</td>\n",
       "      <td>AZ</td>\n",
       "      <td>ARIZONA</td>\n",
       "      <td>F</td>\n",
       "      <td>921</td>\n",
       "      <td>POLYGON ((-114.52063 33.02771, -114.55909 33.0...</td>\n",
       "    </tr>\n",
       "  </tbody>\n",
       "</table>\n",
       "</div>"
      ],
      "text/plain": [
       "   FID          Program State_Code State_Name Flowing_St  FID_1  \\\n",
       "0    1  PERMIT TRACKING         AL    ALABAMA          F    919   \n",
       "1    2                          AK     ALASKA          N    920   \n",
       "2    3          AZURITE         AZ    ARIZONA          F    921   \n",
       "\n",
       "                                            geometry  \n",
       "0  POLYGON ((-85.07007 31.9807, -85.11515 31.9074...  \n",
       "1  MULTIPOLYGON (((-161.33379 58.73325, -161.3824...  \n",
       "2  POLYGON ((-114.52063 33.02771, -114.55909 33.0...  "
      ]
     },
     "execution_count": 2,
     "metadata": {},
     "output_type": "execute_result"
    }
   ],
   "source": [
    "import geopandas as gpd\n",
    "\n",
    "# The state boundaries data\n",
    "state_map = gpd.read_file(\"States_shapefile.geojson\")\n",
    "print(state_map.crs)\n",
    "state_map.head(3)"
   ]
  },
  {
   "cell_type": "code",
   "execution_count": 3,
   "id": "9abcc73a-285c-4897-81d1-214deec7f584",
   "metadata": {},
   "outputs": [
    {
     "data": {
      "text/html": [
       "<div>\n",
       "<style scoped>\n",
       "    .dataframe tbody tr th:only-of-type {\n",
       "        vertical-align: middle;\n",
       "    }\n",
       "\n",
       "    .dataframe tbody tr th {\n",
       "        vertical-align: top;\n",
       "    }\n",
       "\n",
       "    .dataframe thead th {\n",
       "        text-align: right;\n",
       "    }\n",
       "</style>\n",
       "<table border=\"1\" class=\"dataframe\">\n",
       "  <thead>\n",
       "    <tr style=\"text-align: right;\">\n",
       "      <th></th>\n",
       "      <th>State</th>\n",
       "      <th>under_5</th>\n",
       "      <th>over_64</th>\n",
       "      <th>bachelors_degree</th>\n",
       "      <th>total</th>\n",
       "    </tr>\n",
       "  </thead>\n",
       "  <tbody>\n",
       "    <tr>\n",
       "      <th>0</th>\n",
       "      <td>ALABAMA</td>\n",
       "      <td>295811.997</td>\n",
       "      <td>741954.681</td>\n",
       "      <td>1095959.202</td>\n",
       "      <td>4849377</td>\n",
       "    </tr>\n",
       "    <tr>\n",
       "      <th>1</th>\n",
       "      <td>ALASKA</td>\n",
       "      <td>54518.168</td>\n",
       "      <td>69252.808</td>\n",
       "      <td>202601.300</td>\n",
       "      <td>736732</td>\n",
       "    </tr>\n",
       "    <tr>\n",
       "      <th>2</th>\n",
       "      <td>ARIZONA</td>\n",
       "      <td>430814.976</td>\n",
       "      <td>1070305.956</td>\n",
       "      <td>1810769.196</td>\n",
       "      <td>6731484</td>\n",
       "    </tr>\n",
       "  </tbody>\n",
       "</table>\n",
       "</div>"
      ],
      "text/plain": [
       "     State     under_5      over_64  bachelors_degree    total\n",
       "0  ALABAMA  295811.997   741954.681       1095959.202  4849377\n",
       "1   ALASKA   54518.168    69252.808        202601.300   736732\n",
       "2  ARIZONA  430814.976  1070305.956       1810769.196  6731484"
      ]
     },
     "execution_count": 3,
     "metadata": {},
     "output_type": "execute_result"
    }
   ],
   "source": [
    "# The state demographic information \n",
    "state_demographics = pd.read_csv(\"state_demographics.csv\")\n",
    "state_demographics[\"State\"] = state_demographics[\"State\"].apply(str.upper)\n",
    "state_demographics.head(3)"
   ]
  },
  {
   "cell_type": "code",
   "execution_count": 4,
   "id": "cb70ac8c-63f7-47ba-a2e2-99b9f4ab03e9",
   "metadata": {},
   "outputs": [],
   "source": [
    "# Join/merge the state map with the state demographic data\n",
    "\n",
    "state_map_demo = state_map.merge(state_demographics, \n",
    "                                 left_on = \"State_Name\", right_on = \"State\", how = \"left\")"
   ]
  },
  {
   "cell_type": "code",
   "execution_count": 5,
   "id": "da0a3333-942d-4f06-90c0-dcfcb555d4df",
   "metadata": {},
   "outputs": [],
   "source": [
    "# Add a new column called \"with_bachelors\" to \"normalize your map\"\n",
    "\n",
    "state_map_demo[\"with_bachelors\"] = 100 * state_map_demo[\"bachelors_degree\"]/state_map_demo[\"total\"]\n"
   ]
  },
  {
   "cell_type": "code",
   "execution_count": 6,
   "id": "e2ded46f-fc3b-4cea-ba10-8e5965eff430",
   "metadata": {},
   "outputs": [
    {
     "data": {
      "image/png": "[encoded data removed]",
      "text/plain": [
       "<Figure size 640x480 with 2 Axes>"
      ]
     },
     "metadata": {},
     "output_type": "display_data"
    }
   ],
   "source": [
    "# Plot the choropleth map\n",
    "\n",
    "state_map_demo.plot(column = \"with_bachelors\", cmap='viridis', legend = True,\n",
    "                   legend_kwds={'label': \"Percentage of people with Bachelors Degree by state\",\n",
    "                        'orientation': \"horizontal\"});\n"
   ]
  },
  {
   "cell_type": "markdown",
   "id": "56cc2b6f-9a14-4ce2-b737-d73e78e0a8f1",
   "metadata": {},
   "source": [
    "<br>\n",
    "<br>\n",
    "<br>\n",
    "<br\n",
    "<br>\n",
    "<br>\n",
    "<br>\n",
    "<br>"
   ]
  },
  {
   "cell_type": "markdown",
   "id": "3b5c708a-a00d-4290-8f60-28950cc5ab7c",
   "metadata": {},
   "source": [
    "# **For Loops in Python**"
   ]
  },
  {
   "cell_type": "code",
   "execution_count": 3,
   "id": "0a66f089-20fb-4aa3-b164-00f617bf4593",
   "metadata": {},
   "outputs": [],
   "source": [
    "# Generic Syntax. (Don't run this cell.)\n",
    "\n",
    "for {iteration variable} in {iterable}:\n",
    "           # do things"
   ]
  },
  {
   "cell_type": "markdown",
   "id": "116ae207-6b5c-4b9b-8e98-6007ed0c2ad4",
   "metadata": {},
   "source": [
    "- Each for loop starts with the keyword `for`.\n",
    "\n",
    "- The `iteration variable` is a variable that is declared only in the scope of the loop that is used to 'point' at the elements in the sequence.\n",
    "\n",
    "- The `iterable` is a data structure that contains the sequence of elements we are going to perform tasks on, for example a list or a dictionary. "
   ]
  },
  {
   "cell_type": "markdown",
   "id": "931d7287-f7d5-401f-b5af-6207be7ab910",
   "metadata": {},
   "source": [
    "<br>\n",
    "<br>"
   ]
  },
  {
   "cell_type": "markdown",
   "id": "fed1a715-30f0-4c7d-8645-6c27101f5356",
   "metadata": {},
   "source": [
    "### 1. Some Skills Builder Exercises"
   ]
  },
  {
   "cell_type": "code",
   "execution_count": 7,
   "id": "972865b7-b037-40ef-afb3-ded660b72f99",
   "metadata": {},
   "outputs": [
    {
     "name": "stdout",
     "output_type": "stream",
     "text": [
      "first\n",
      "second\n",
      "third\n",
      "forth\n"
     ]
    }
   ],
   "source": [
    "# 1.A \n",
    "# Loop over items in a list.\n",
    "# Write a for loop to print every element of a_list. \n",
    "\n",
    "a_list = [\"first\", \"second\", \"third\", \"forth\"]\n",
    "\n",
    "for item in a_list:\n",
    "    print(item)\n",
    "\n"
   ]
  },
  {
   "cell_type": "code",
   "execution_count": 8,
   "id": "323ca0c1-e2c1-4c0d-ab0f-596376bb8c02",
   "metadata": {},
   "outputs": [
    {
     "name": "stdout",
     "output_type": "stream",
     "text": [
      "first\n",
      "third\n"
     ]
    }
   ],
   "source": [
    "# 1.B\n",
    "# Loop over every other item in the list.\n",
    "# Write a for loop to print every other element of a_list. \n",
    "\n",
    "a_list = [\"first\", \"second\", \"third\", \"forth\"]\n",
    "\n",
    "for item in a_list[::2]:\n",
    "    print(item)\n"
   ]
  },
  {
   "cell_type": "markdown",
   "id": "dc1ecde5-eeb2-415f-b935-e2b767f657a9",
   "metadata": {},
   "source": [
    "<br>\n"
   ]
  },
  {
   "cell_type": "markdown",
   "id": "6a44cad9-25cc-4a1a-bafb-b620337713f5",
   "metadata": {},
   "source": [
    "**Remark: When you call range, its value is not a list nor sequence of numbers. Loosely speaking, `range()` saves the instruction to iterate over a range of numbers. For example, `range(5)` defines the instruction to iterate over the first 5 numbers (starting at 0). That is why, used in a loop, it seems as if it is iterating over a list.**"
   ]
  },
  {
   "cell_type": "code",
   "execution_count": 9,
   "id": "84d2c76c-7be0-47e0-a28b-b81130d1b9f9",
   "metadata": {},
   "outputs": [
    {
     "name": "stdout",
     "output_type": "stream",
     "text": [
      "0\n",
      "3\n",
      "6\n",
      "9\n"
     ]
    }
   ],
   "source": [
    "# 1.C\n",
    "# Loop over mulptiples of 3 (from 0 through 10) using the range() function.\n",
    "# Write a for loop to print all the multiples of 3 from 0 through 10.\n",
    "\n",
    "\n",
    "for i in range(0,10)[::3]:\n",
    "    print(i)\n",
    "\n",
    "\n",
    "\n",
    "    \n"
   ]
  },
  {
   "cell_type": "code",
   "execution_count": 10,
   "id": "187c634e-a237-4919-94f7-68f01fdcbfa2",
   "metadata": {},
   "outputs": [
    {
     "name": "stdout",
     "output_type": "stream",
     "text": [
      "0\n",
      "3\n",
      "6\n",
      "9\n"
     ]
    }
   ],
   "source": [
    "# 1.D\n",
    "# Can you print every other square of the numbers from 1 to 6? \n",
    "\n",
    "for i in range(0,10)[::3]:\n",
    "    print(i)\n"
   ]
  },
  {
   "cell_type": "code",
   "execution_count": 11,
   "id": "a48885bc-00b3-4b7c-be5c-2c44a4e34bb7",
   "metadata": {},
   "outputs": [
    {
     "data": {
      "text/plain": [
       "[1.0,\n",
       " 1.4142135623730951,\n",
       " 1.7320508075688772,\n",
       " 2.0,\n",
       " 2.23606797749979,\n",
       " 2.449489742783178,\n",
       " 2.6457513110645907,\n",
       " 2.8284271247461903,\n",
       " 3.0,\n",
       " 3.1622776601683795]"
      ]
     },
     "execution_count": 11,
     "metadata": {},
     "output_type": "execute_result"
    }
   ],
   "source": [
    "# 1.E\n",
    "# Create a list that has square roots of numbers from 1 through 10. \n",
    "# hint: the .append() method will be useful.\n",
    "\n",
    "sqrt = []\n",
    "\n",
    "for i in range(1, 11):\n",
    "    \n",
    "    sqrt.append(i** (1/2))\n",
    "\n",
    "\n",
    "sqrt"
   ]
  },
  {
   "cell_type": "code",
   "execution_count": 12,
   "id": "88bd4b2c-23f5-4f01-a9c5-b64a92a56ee2",
   "metadata": {},
   "outputs": [
    {
     "data": {
      "text/plain": [
       "385"
      ]
     },
     "execution_count": 12,
     "metadata": {},
     "output_type": "execute_result"
    }
   ],
   "source": [
    "# 1.F\n",
    "# Compute sum squares of numbers from 1 to 10.\n",
    "my_sum = 0\n",
    "\n",
    "for i in range(1, 11):\n",
    "    my_sum = my_sum + (i ** 2)\n",
    "\n",
    "my_sum\n",
    "\n",
    "\n",
    "\n",
    "\n"
   ]
  },
  {
   "cell_type": "markdown",
   "id": "e6aecae8-84d2-4330-a640-7d00350ff060",
   "metadata": {},
   "source": [
    "<br>\n",
    "<br>\n",
    "<br>\n"
   ]
  },
  {
   "cell_type": "markdown",
   "id": "eeb9750f-130e-4c60-bc3e-9daca54472b2",
   "metadata": {},
   "source": [
    "### 2. The Enumerate function\n",
    "\n",
    "**The `enumerate()` function adds a counter to each item in a list or other iterable. It turns the iterable into something we can loop through, where each item comes with its number/index (starting from 0 by default).**"
   ]
  },
  {
   "cell_type": "code",
   "execution_count": 13,
   "id": "5d103d3d-998d-4892-9c6e-01813e74b236",
   "metadata": {},
   "outputs": [
    {
     "name": "stdout",
     "output_type": "stream",
     "text": [
      "0 first\n",
      "1 second\n",
      "2 third\n",
      "3 forth\n"
     ]
    }
   ],
   "source": [
    "# Example 2.A\n",
    "# We can use enumerate(my_list) to get both values from a list and sequential index numbers.\n",
    "\n",
    "\n",
    "a_list = [\"first\", \"second\", \"third\", \"forth\"]\n",
    "\n",
    "for index, curr_val in enumerate(a_list):\n",
    "    print(str(index)  + \" \" + curr_val)\n"
   ]
  },
  {
   "cell_type": "code",
   "execution_count": 14,
   "id": "fd2934f2-3ab7-483d-866f-09e81570c76f",
   "metadata": {},
   "outputs": [
    {
     "name": "stdout",
     "output_type": "stream",
     "text": [
      "Index 0: I\n",
      "Index 1: love\n",
      "Index 2: YData\n"
     ]
    }
   ],
   "source": [
    "# Example 2.B\n",
    "\n",
    "b_list = [\"I\", \"love\", \"YData\"]\n",
    "\n",
    "# Iterating list using enumerate to get both index and element.\n",
    "for i, name in enumerate(b_list):\n",
    "    print(f\"Index {i}: {name}\")"
   ]
  },
  {
   "cell_type": "markdown",
   "id": "0001a053-4c21-4d32-b0c0-4e5432ed6b8f",
   "metadata": {},
   "source": [
    "<br>"
   ]
  },
  {
   "cell_type": "markdown",
   "id": "a52a262d-8eaf-4e4e-96ec-5b1aa3a0be78",
   "metadata": {},
   "source": [
    "**Question 2.C**: Explain (in about two lines or so) the Python code in Examples 2.A and 2.B, and what it accomplishes?\n",
    "\n",
    "Answer: ....\n"
   ]
  },
  {
   "cell_type": "markdown",
   "id": "1e59b7c8-2afb-4db4-b99f-7cd8bc468b3e",
   "metadata": {},
   "source": [
    "<br>\n",
    "<br>\n",
    "<br>"
   ]
  },
  {
   "cell_type": "markdown",
   "id": "4a4cd822-3711-4273-8b83-0c04297590e3",
   "metadata": {},
   "source": [
    "### 3. The zip function"
   ]
  },
  {
   "cell_type": "markdown",
   "id": "ac2a38a1-5c3e-4a85-8f1f-0df41ad86d95",
   "metadata": {},
   "source": [
    "**The `zip()` function in Python is a built-in function that aggregates elements from multiple iterables (such as lists, tuples, or strings) and returns an iterator of tuples. Each tuple contains elements from the input iterables at the same corresponding position.** "
   ]
  },
  {
   "cell_type": "code",
   "execution_count": 15,
   "id": "4341f193-f24e-4880-964d-5ad5284434c4",
   "metadata": {},
   "outputs": [
    {
     "name": "stdout",
     "output_type": "stream",
     "text": [
      "a x\n",
      "b y\n",
      "c z\n"
     ]
    }
   ],
   "source": [
    "# Example 3.A\n",
    "# Zip example from class. \n",
    "list_1 = [\"a\", \"b\", \"c\"]\n",
    "list_2 = [\"x\", \"y\", \"z\"]\n",
    "\n",
    "for item1, item2 in zip(list_1, list_2):\n",
    "    print(item1, item2)\n"
   ]
  },
  {
   "cell_type": "markdown",
   "id": "8a2621f1-1f46-403e-9285-24b355847f30",
   "metadata": {},
   "source": [
    "**Question 3.B**: Explain (in about two lines or so) the Python code in Example 3.A and what it accomplishes?\n",
    "\n",
    "Answer: ....\n"
   ]
  },
  {
   "cell_type": "code",
   "execution_count": 17,
   "id": "e5a72452-be85-4f38-abfd-908740bf5651",
   "metadata": {},
   "outputs": [
    {
     "name": "stdout",
     "output_type": "stream",
     "text": [
      "0 first\n",
      "1 second\n",
      "2 third\n",
      "3 forth\n"
     ]
    }
   ],
   "source": [
    "# Question 3.C\n",
    "# Use the zip function to print the same output as in Example 2.A above.  \n",
    "\n",
    "c_list = [\"0\", \"1\", \"2\", \"3\"]\n",
    "\n",
    "for i, j in zip(c_list, a_list):\n",
    "    print(i,j)"
   ]
  },
  {
   "cell_type": "markdown",
   "id": "8a80ea40-0587-4549-b21f-c60cc4fb4290",
   "metadata": {},
   "source": [
    "<br>\n",
    "<br>\n",
    "<br>"
   ]
  },
  {
   "cell_type": "markdown",
   "id": "92440daf-279f-4bf5-b079-5c837fabcbdc",
   "metadata": {},
   "source": [
    "### 4. An Application: For loops\n",
    "\n",
    "The code below extracts closing prices of Google and Apple stocks for Jan 01 through Sep 30. Please use for loops to create a list called `daily_diff` that has the `Google closing price - Apple closing price` for each day.\n",
    "\n",
    "***There are a few ways to do this, so see if you can come up with a solution that works. Try to do this without using numpy, and once you have a solution, see if you can get the same result using numpy.***  \n",
    "\n"
   ]
  },
  {
   "cell_type": "code",
   "execution_count": 18,
   "id": "d8b40f80-c2b3-4496-9a0b-90a0741cfb10",
   "metadata": {},
   "outputs": [],
   "source": [
    "apple = pd.read_csv(\"apple_2025.csv\")\n",
    "google = pd.read_csv(\"google_2025.csv\")\n",
    "\n",
    "apple_close = apple[\"Close\"].to_list()\n",
    "google_close = google[\"Close\"].to_list()\n"
   ]
  },
  {
   "cell_type": "markdown",
   "id": "b5ab3dc8-6ccb-45da-bb78-ccf319ac49c1",
   "metadata": {},
   "source": [
    "**1. First way to solve the problem without using the zip function and numpy.**"
   ]
  },
  {
   "cell_type": "code",
   "execution_count": 20,
   "id": "c10b9bdb-6447-46e5-83bf-99920ea26d1b",
   "metadata": {},
   "outputs": [
    {
     "data": {
      "image/png": "[encoded data removed]",
      "text/plain": [
       "<Figure size 640x480 with 1 Axes>"
      ]
     },
     "metadata": {},
     "output_type": "display_data"
    }
   ],
   "source": [
    "# Start with an empty list.\n",
    "daily_diff = [];\n",
    "\n",
    "\n",
    "\n",
    "\n",
    "# Use a for loop to add the closing price for each day to the list \"daily_list\".\n",
    "for i in range(len(google_close)):\n",
    "\n",
    "    google = google_close[i]\n",
    "    apple = apple_close[i]\n",
    "    daily_diff.append(google - apple)\n",
    "\n",
    "\n",
    "\n",
    "# Plot daily differences.\n",
    "\n",
    "plt.plot(daily_diff);\n"
   ]
  },
  {
   "cell_type": "markdown",
   "id": "4c625489-2f19-48f0-9758-fc67301f8029",
   "metadata": {},
   "source": [
    "**2. Alternative solution using the zip function.**"
   ]
  },
  {
   "cell_type": "code",
   "execution_count": 21,
   "id": "00e5b2fb-13bf-44bd-ad08-4ed177f9c5dd",
   "metadata": {},
   "outputs": [
    {
     "data": {
      "image/png": "[encoded data removed]",
      "text/plain": [
       "<Figure size 640x480 with 1 Axes>"
      ]
     },
     "metadata": {},
     "output_type": "display_data"
    }
   ],
   "source": [
    "# Start with an empty list.\n",
    "daily_diff2 = [];\n",
    "\n",
    "\n",
    "\n",
    "\n",
    "# Use a for loop (along with the zip function) to add the closing price for each to the list \"daily_list2\".\n",
    "for i, j in zip(google_close, apple_close):\n",
    "\n",
    "    daily_diff2.append(i - j)\n",
    "\n",
    "\n",
    "\n",
    "# Plot daily differences.\n",
    "plt.plot(daily_diff2);\n",
    "\n"
   ]
  },
  {
   "cell_type": "markdown",
   "id": "7c1d726d-04d8-4d86-891f-12fd761ed46c",
   "metadata": {},
   "source": [
    "<br>\n",
    "<br>\n",
    "<br>"
   ]
  },
  {
   "cell_type": "markdown",
   "id": "4e4a5f34-3018-44cd-a062-ad390bac414f",
   "metadata": {},
   "source": [
    "##  5. Conditional Statements \n",
    "\n",
    "**Conditional statements allow you to excecute particular pieces of code when certain conditions are met; that is, they execute a piece of code when a Boolean value is True. Let's explore!**"
   ]
  },
  {
   "cell_type": "code",
   "execution_count": 22,
   "id": "e764932d-3048-4395-b60a-0e4b7958538d",
   "metadata": {},
   "outputs": [
    {
     "name": "stdout",
     "output_type": "stream",
     "text": [
      "Sophomore\n"
     ]
    }
   ],
   "source": [
    "# Let us quickly take a look at the following conditional statement. \n",
    "\n",
    "num_semesters = 3\n",
    "\n",
    "if num_semesters <= 0:\n",
    "    print('Not a valid input')\n",
    "elif num_semesters <= 2:\n",
    "    print('Freshman')\n",
    "elif num_semesters <= 4:\n",
    "    print('Sophomore')\n",
    "elif num_semesters <= 6:\n",
    "    print('Junior')\n",
    "elif num_semesters <= 8:\n",
    "    print('Senior')\n",
    "else:\n",
    "    print(\"NA\")\n"
   ]
  },
  {
   "cell_type": "markdown",
   "id": "16cd48e9-a07c-47cf-a756-893b6efa9c7d",
   "metadata": {},
   "source": [
    "**Question 5.A: Unlike above, the code in the cell below doesn't print ***\"Sophomore\"***, why?**\n",
    "\n",
    "Answer: (Hint: The code terminates after `elif num_semesters <= 3:`)"
   ]
  },
  {
   "cell_type": "code",
   "execution_count": 59,
   "id": "258bc693-65d6-411b-b146-23a882f3e84c",
   "metadata": {},
   "outputs": [
    {
     "name": "stdout",
     "output_type": "stream",
     "text": [
      "Freshman\n"
     ]
    }
   ],
   "source": [
    "# 5.A \n",
    "\n",
    "num_semesters = 3 \n",
    "\n",
    "if num_semesters <= 0:\n",
    "    print(\"Not a valid input\")\n",
    "elif num_semesters <= 3:\n",
    "    print(\"Freshman\")\n",
    "elif num_semesters <= 4:\n",
    "    print(\"Sophomore\")\n",
    "else: \n",
    "    print(\"NA\")\n"
   ]
  },
  {
   "cell_type": "markdown",
   "id": "f8212944-4b43-4e5b-886b-5630597c7331",
   "metadata": {},
   "source": [
    "**Question 5.B: Unlike above, the code in the cell below does print ***\"Sophomore\"***, why?**\n",
    "\n",
    "Answer: (Hint: `if num_semesters <= 4:` is an `if` statement and not `elif` statemebt like in the cell above)"
   ]
  },
  {
   "cell_type": "code",
   "execution_count": 60,
   "id": "83ebda97-5ccf-4345-9923-3540d895d752",
   "metadata": {},
   "outputs": [
    {
     "name": "stdout",
     "output_type": "stream",
     "text": [
      "Freshman\n",
      "Sophomore\n"
     ]
    }
   ],
   "source": [
    "# 5.B\n",
    "\n",
    "num_semesters = 3 \n",
    "\n",
    "if num_semesters <= 0:\n",
    "    print(\"Not a valid input\")\n",
    "elif num_semesters <= 3:\n",
    "    print(\"Freshman\")\n",
    "if num_semesters <= 4:\n",
    "    print(\"Sophomore\")\n",
    "else: \n",
    "    print(\"NA\")"
   ]
  },
  {
   "cell_type": "markdown",
   "id": "39de2df7-8493-40f0-a200-ed38ca945dd0",
   "metadata": {},
   "source": [
    "<br>\n",
    "<br>"
   ]
  },
  {
   "cell_type": "code",
   "execution_count": 23,
   "id": "2141aa66-ff7b-4dc4-ba0d-c68a7ac5a745",
   "metadata": {},
   "outputs": [
    {
     "name": "stdout",
     "output_type": "stream",
     "text": [
      "0\n",
      "Not a valid input\n",
      "1\n",
      "First Year\n",
      "2\n",
      "First Year\n",
      "3\n",
      "Sophomore\n",
      "4\n",
      "Sophomore\n",
      "5\n",
      "Junior\n",
      "6\n",
      "Junior\n",
      "7\n",
      "Senior\n",
      "8\n",
      "Senior\n",
      "9\n",
      "NA\n"
     ]
    }
   ],
   "source": [
    "# Let us now look at a conditional statement in a loop from the class. \n",
    "\n",
    "for num_semesters in range(10):\n",
    "    \n",
    "    print(num_semesters)\n",
    "\n",
    "    if num_semesters <= 0:\n",
    "        print('Not a valid input')\n",
    "    elif num_semesters <= 2:\n",
    "        print('First Year')\n",
    "    elif num_semesters <= 4:\n",
    "        print('Sophomore')\n",
    "    elif num_semesters <= 6:\n",
    "        print('Junior')\n",
    "    elif num_semesters <= 8:\n",
    "        print('Senior')\n",
    "    else:\n",
    "        print(\"NA\")\n"
   ]
  },
  {
   "cell_type": "markdown",
   "id": "e9a9dfda-0bf7-4b7a-bb90-73df8c86ab7c",
   "metadata": {},
   "source": [
    "**Question 5.C: Unlike above, the code in the cell below doesn't print strings `Not a valid input` through `Senior`, however, it does print `NA` why?**\n",
    "\n",
    "Answer: (Hint: Compare the indentation below with the indentation in above)"
   ]
  },
  {
   "cell_type": "code",
   "execution_count": 62,
   "id": "aeaf335f-a313-4349-83c5-2ceff76fb40b",
   "metadata": {},
   "outputs": [
    {
     "name": "stdout",
     "output_type": "stream",
     "text": [
      "0\n",
      "1\n",
      "2\n",
      "3\n",
      "4\n",
      "5\n",
      "6\n",
      "7\n",
      "8\n",
      "9\n",
      "NA\n"
     ]
    }
   ],
   "source": [
    "for num_semesters in range(10):\n",
    "    \n",
    "    print(num_semesters)\n",
    "\n",
    "if num_semesters <= 0:\n",
    "    print('Not a valid input')\n",
    "elif num_semesters <= 2:\n",
    "    print('First Year')\n",
    "elif num_semesters <= 4:\n",
    "    print('Sophomore')\n",
    "elif num_semesters <= 6:\n",
    "    print('Junior')\n",
    "elif num_semesters <= 8:\n",
    "    print('Senior')\n",
    "else:\n",
    "    print(\"NA\")\n"
   ]
  },
  {
   "cell_type": "markdown",
   "id": "dc316a94-b37a-4ff9-8989-a15baf0db633",
   "metadata": {},
   "source": [
    "<br>\n",
    "<br>\n",
    "<br>"
   ]
  },
  {
   "cell_type": "markdown",
   "id": "43cc3fe7-a923-4c3d-9a49-3f558cdcf4da",
   "metadata": {},
   "source": [
    "## 6. ***Take Home Exercise***\n",
    "\n",
    "**Write a Python program to find those numbers which are divisible by $7$ and multiples of $5$, between $1500$ and $2700$ (both included). Recall `%` symbol in Python is called the Modulo Operator. It returns the remainder of dividing the left hand operand by right hand operand.**"
   ]
  },
  {
   "cell_type": "code",
   "execution_count": 24,
   "id": "77680d00-b1c9-48c6-a09c-3764df5f071b",
   "metadata": {},
   "outputs": [
    {
     "name": "stdout",
     "output_type": "stream",
     "text": [
      "1505,1540,1575,1610,1645,1680,1715,1750,1785,1820,1855,1890,1925,1960,1995,2030,2065,2100,2135,2170,2205,2240,2275,2310,2345,2380,2415,2450,2485,2520,2555,2590,2625,2660,2695\n"
     ]
    }
   ],
   "source": [
    "# Create an empty list to store numbers that meet the given conditions.\n",
    "new_list = []\n",
    "\n",
    "\n",
    "\n",
    "# Iterate through numbers from 1500 to 2700 (inclusive)\n",
    "for i in range(1500, 2701):\n",
    "    # Check if the number is divisible by 7 and 5 without any remainder\n",
    "    if (i % 7 == 0) and (i % 5 == 0):\n",
    "        # If the conditions are met, convert the number to a string and append it to the list\n",
    "        new_list.append(str(i))\n",
    "\n",
    "# Join the numbers in the list with a comma and print the result\n",
    "print(','.join(new_list))\n"
   ]
  }
 ],
 "metadata": {
  "kernelspec": {
   "display_name": "Python 3 (ipykernel)",
   "language": "python",
   "name": "python3"
  },
  "language_info": {
   "codemirror_mode": {
    "name": "ipython",
    "version": 3
   },
   "file_extension": ".py",
   "mimetype": "text/x-python",
   "name": "python",
   "nbconvert_exporter": "python",
   "pygments_lexer": "ipython3",
   "version": "3.13.5"
  }
 },
 "nbformat": 4,
 "nbformat_minor": 5
}
