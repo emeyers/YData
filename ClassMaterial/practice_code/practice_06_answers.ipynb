{
 "cells": [
  {
   "cell_type": "markdown",
   "id": "e3290aae-a896-49dc-b946-ac1d4dabbd66",
   "metadata": {},
   "source": [
    "Welcome to (Preceptor) practice session 6! "
   ]
  },
  {
   "cell_type": "code",
   "execution_count": 1,
   "id": "2ff52744-52ad-485d-96b9-df6c3a2a40f8",
   "metadata": {},
   "outputs": [],
   "source": [
    "import YData \n",
    "\n",
    "YData.download_practice_code(6)           # Without Answers. \n",
    "YData.download_practice_code(6, True)     # With Answers. \n",
    "\n",
    "import pandas as pd \n",
    "import numpy as np \n",
    "import matplotlib.pyplot as plt \n",
    "\n",
    "\n",
    "YData.download.download_data(\"States_shapefile.geojson\")\n",
    "YData.download.download_data(\"state_demographics.csv\")\n",
    "\n",
    "YData.download_data(\"apple_2024.csv\")\n",
    "YData.download_data(\"google_2024.csv\")\n"
   ]
  },
  {
   "cell_type": "code",
   "execution_count": null,
   "id": "dfde1907-cd38-4356-bd9a-19849d7a48d4",
   "metadata": {},
   "outputs": [],
   "source": []
  },
  {
   "cell_type": "markdown",
   "id": "84d626f6-3b4b-46de-a014-a551c4dfca50",
   "metadata": {},
   "source": [
    "## Choropleth map - Bachelors degreee. \n",
    "\n",
    "Let's do a little more practice creating maps by creating a choropleth map of the percentage of people who have bachelors degree in each state. \n",
    "\n",
    "Data with the state boundaries and the demographic information are loaded below. Please do the following steps:\n",
    "\n",
    "1. Join/merge the map data with the demographic data to create a new geoDataFrame called `state_map_demo`.\n",
    "2. Create a new column in `state_map_demo` called `with_bachelors` that has the percentage of people with bachelors (i.e., we are normalizing our choropleth map).\n",
    "3. Plot the choropleth showing the percentage with bachelors. Does this map look like you would expect? \n"
   ]
  },
  {
   "cell_type": "code",
   "execution_count": 2,
   "id": "0df2b217-2419-456f-9d8f-d749112e6755",
   "metadata": {},
   "outputs": [
    {
     "name": "stdout",
     "output_type": "stream",
     "text": [
      "EPSG:4326\n"
     ]
    },
    {
     "data": {
      "text/html": [
       "<div>\n",
       "<style scoped>\n",
       "    .dataframe tbody tr th:only-of-type {\n",
       "        vertical-align: middle;\n",
       "    }\n",
       "\n",
       "    .dataframe tbody tr th {\n",
       "        vertical-align: top;\n",
       "    }\n",
       "\n",
       "    .dataframe thead th {\n",
       "        text-align: right;\n",
       "    }\n",
       "</style>\n",
       "<table border=\"1\" class=\"dataframe\">\n",
       "  <thead>\n",
       "    <tr style=\"text-align: right;\">\n",
       "      <th></th>\n",
       "      <th>FID</th>\n",
       "      <th>Program</th>\n",
       "      <th>State_Code</th>\n",
       "      <th>State_Name</th>\n",
       "      <th>Flowing_St</th>\n",
       "      <th>FID_1</th>\n",
       "      <th>geometry</th>\n",
       "    </tr>\n",
       "  </thead>\n",
       "  <tbody>\n",
       "    <tr>\n",
       "      <th>0</th>\n",
       "      <td>1</td>\n",
       "      <td>PERMIT TRACKING</td>\n",
       "      <td>AL</td>\n",
       "      <td>ALABAMA</td>\n",
       "      <td>F</td>\n",
       "      <td>919</td>\n",
       "      <td>POLYGON ((-85.07007 31.98070, -85.11515 31.907...</td>\n",
       "    </tr>\n",
       "    <tr>\n",
       "      <th>1</th>\n",
       "      <td>2</td>\n",
       "      <td></td>\n",
       "      <td>AK</td>\n",
       "      <td>ALASKA</td>\n",
       "      <td>N</td>\n",
       "      <td>920</td>\n",
       "      <td>MULTIPOLYGON (((-161.33379 58.73325, -161.3824...</td>\n",
       "    </tr>\n",
       "    <tr>\n",
       "      <th>2</th>\n",
       "      <td>3</td>\n",
       "      <td>AZURITE</td>\n",
       "      <td>AZ</td>\n",
       "      <td>ARIZONA</td>\n",
       "      <td>F</td>\n",
       "      <td>921</td>\n",
       "      <td>POLYGON ((-114.52063 33.02771, -114.55909 33.0...</td>\n",
       "    </tr>\n",
       "  </tbody>\n",
       "</table>\n",
       "</div>"
      ],
      "text/plain": [
       "   FID          Program State_Code State_Name Flowing_St  FID_1  \\\n",
       "0    1  PERMIT TRACKING         AL    ALABAMA          F    919   \n",
       "1    2                          AK     ALASKA          N    920   \n",
       "2    3          AZURITE         AZ    ARIZONA          F    921   \n",
       "\n",
       "                                            geometry  \n",
       "0  POLYGON ((-85.07007 31.98070, -85.11515 31.907...  \n",
       "1  MULTIPOLYGON (((-161.33379 58.73325, -161.3824...  \n",
       "2  POLYGON ((-114.52063 33.02771, -114.55909 33.0...  "
      ]
     },
     "execution_count": 2,
     "metadata": {},
     "output_type": "execute_result"
    }
   ],
   "source": [
    "import geopandas as gpd\n",
    "\n",
    "# The state boundaries data\n",
    "state_map = gpd.read_file(\"States_shapefile.geojson\")\n",
    "print(state_map.crs)\n",
    "state_map.head(3)"
   ]
  },
  {
   "cell_type": "code",
   "execution_count": 3,
   "id": "de78d8bf-6f1d-4a8d-8f95-68d6c6e882ce",
   "metadata": {},
   "outputs": [
    {
     "data": {
      "text/html": [
       "<div>\n",
       "<style scoped>\n",
       "    .dataframe tbody tr th:only-of-type {\n",
       "        vertical-align: middle;\n",
       "    }\n",
       "\n",
       "    .dataframe tbody tr th {\n",
       "        vertical-align: top;\n",
       "    }\n",
       "\n",
       "    .dataframe thead th {\n",
       "        text-align: right;\n",
       "    }\n",
       "</style>\n",
       "<table border=\"1\" class=\"dataframe\">\n",
       "  <thead>\n",
       "    <tr style=\"text-align: right;\">\n",
       "      <th></th>\n",
       "      <th>State</th>\n",
       "      <th>under_5</th>\n",
       "      <th>over_64</th>\n",
       "      <th>bachelors_degree</th>\n",
       "      <th>total</th>\n",
       "    </tr>\n",
       "  </thead>\n",
       "  <tbody>\n",
       "    <tr>\n",
       "      <th>0</th>\n",
       "      <td>ALABAMA</td>\n",
       "      <td>295811.997</td>\n",
       "      <td>741954.681</td>\n",
       "      <td>1095959.202</td>\n",
       "      <td>4849377</td>\n",
       "    </tr>\n",
       "    <tr>\n",
       "      <th>1</th>\n",
       "      <td>ALASKA</td>\n",
       "      <td>54518.168</td>\n",
       "      <td>69252.808</td>\n",
       "      <td>202601.300</td>\n",
       "      <td>736732</td>\n",
       "    </tr>\n",
       "    <tr>\n",
       "      <th>2</th>\n",
       "      <td>ARIZONA</td>\n",
       "      <td>430814.976</td>\n",
       "      <td>1070305.956</td>\n",
       "      <td>1810769.196</td>\n",
       "      <td>6731484</td>\n",
       "    </tr>\n",
       "  </tbody>\n",
       "</table>\n",
       "</div>"
      ],
      "text/plain": [
       "     State     under_5      over_64  bachelors_degree    total\n",
       "0  ALABAMA  295811.997   741954.681       1095959.202  4849377\n",
       "1   ALASKA   54518.168    69252.808        202601.300   736732\n",
       "2  ARIZONA  430814.976  1070305.956       1810769.196  6731484"
      ]
     },
     "execution_count": 3,
     "metadata": {},
     "output_type": "execute_result"
    }
   ],
   "source": [
    "# The state demographic information \n",
    "state_demographics = pd.read_csv(\"state_demographics.csv\")\n",
    "state_demographics[\"State\"] = state_demographics[\"State\"].apply(str.upper)\n",
    "state_demographics.head(3)"
   ]
  },
  {
   "cell_type": "code",
   "execution_count": 4,
   "id": "02d817b0-4554-4e38-9b98-947b6dc3f3b2",
   "metadata": {},
   "outputs": [],
   "source": [
    "# Join/merge the state map with the state demographic data\n",
    "\n",
    "state_map_demo = state_map.merge(state_demographics, \n",
    "                                 left_on = \"State_Name\", right_on = \"State\", how = \"left\")"
   ]
  },
  {
   "cell_type": "code",
   "execution_count": 5,
   "id": "1f438bf1-8cea-4145-bbb1-b054ad85fc08",
   "metadata": {},
   "outputs": [],
   "source": [
    "# Add a new column called \"with_bachelors\" to \"normalize your map\"\n",
    "\n",
    "state_map_demo[\"with_bachelors\"] = 100 * state_map_demo[\"bachelors_degree\"]/state_map_demo[\"total\"]\n"
   ]
  },
  {
   "cell_type": "code",
   "execution_count": 6,
   "id": "64ed2d51-a5ad-4829-8223-8d245794d450",
   "metadata": {},
   "outputs": [
    {
     "data": {
      "image/png": "[encoded data removed]",
      "text/plain": [
       "<Figure size 640x480 with 2 Axes>"
      ]
     },
     "metadata": {},
     "output_type": "display_data"
    }
   ],
   "source": [
    "# Plot the choropleth map\n",
    "\n",
    "state_map_demo.plot(column = \"with_bachelors\", cmap='viridis', legend = True,\n",
    "                   legend_kwds={'label': \"Percentage of people with Bachelors Degree by state\",\n",
    "                        'orientation': \"horizontal\"});\n"
   ]
  },
  {
   "cell_type": "code",
   "execution_count": null,
   "id": "7135cf68-2b20-414a-9dfa-50ead6633871",
   "metadata": {},
   "outputs": [],
   "source": []
  },
  {
   "cell_type": "markdown",
   "id": "ebd0a588-67bf-4f25-a803-4826639b2177",
   "metadata": {},
   "source": [
    "# For Loops in Python. "
   ]
  },
  {
   "cell_type": "code",
   "execution_count": 7,
   "id": "2c63cbaa-2e7c-4869-a2b8-43977fb0ce04",
   "metadata": {},
   "outputs": [
    {
     "name": "stdout",
     "output_type": "stream",
     "text": [
      "first\n",
      "second\n",
      "third\n",
      "forth\n"
     ]
    }
   ],
   "source": [
    "# Loop over items in a list\n",
    "a_list = [\"first\", \"second\", \"third\", \"forth\"]\n",
    "\n",
    "\n",
    "for item in a_list:\n",
    "    print(item)\n"
   ]
  },
  {
   "cell_type": "code",
   "execution_count": 8,
   "id": "d956dba3-34cb-4111-9918-394059f7a68c",
   "metadata": {},
   "outputs": [
    {
     "name": "stdout",
     "output_type": "stream",
     "text": [
      "first\n",
      "third\n"
     ]
    }
   ],
   "source": [
    "# Loop over every other item in the list\n",
    "a_list = [\"first\", \"second\", \"third\", \"forth\"]\n",
    "\n",
    "\n",
    "for item in a_list[::2]:\n",
    "    print(item)\n"
   ]
  },
  {
   "cell_type": "code",
   "execution_count": null,
   "id": "9065593b-0456-466f-a2b1-d924744ebcdd",
   "metadata": {},
   "outputs": [],
   "source": []
  },
  {
   "cell_type": "code",
   "execution_count": 9,
   "id": "e6f34e7f-665d-4614-abcd-e24ba46dc491",
   "metadata": {},
   "outputs": [
    {
     "name": "stdout",
     "output_type": "stream",
     "text": [
      "0\n",
      "3\n",
      "6\n",
      "9\n"
     ]
    }
   ],
   "source": [
    "# Loop over mulptiples of 3 (from 0 through 10) using the range() function.\n",
    "\n",
    "for i in range(0,10)[::3]:\n",
    "    print(i)\n"
   ]
  },
  {
   "cell_type": "code",
   "execution_count": 10,
   "id": "010a8912-84ff-4c18-ab55-edfffd66694e",
   "metadata": {},
   "outputs": [
    {
     "name": "stdout",
     "output_type": "stream",
     "text": [
      "1\n",
      "9\n",
      "25\n"
     ]
    }
   ],
   "source": [
    "# Can you print every other square of the numbers from 1 to 6? \n",
    "\n",
    "for i in range(1, 7)[::2]: \n",
    "    print(i**2)"
   ]
  },
  {
   "cell_type": "code",
   "execution_count": null,
   "id": "2873ac07-1a5b-445f-a265-1751d97d8961",
   "metadata": {},
   "outputs": [],
   "source": []
  },
  {
   "cell_type": "code",
   "execution_count": 28,
   "id": "5c467e26-1a8f-4f77-87f6-9cde61206925",
   "metadata": {},
   "outputs": [
    {
     "data": {
      "text/plain": [
       "[1.0,\n",
       " 1.4142135623730951,\n",
       " 1.7320508075688772,\n",
       " 2.0,\n",
       " 2.23606797749979,\n",
       " 2.449489742783178,\n",
       " 2.6457513110645907,\n",
       " 2.8284271247461903,\n",
       " 3.0,\n",
       " 3.1622776601683795]"
      ]
     },
     "execution_count": 28,
     "metadata": {},
     "output_type": "execute_result"
    }
   ],
   "source": [
    "# Create a list that has square roots of numbers from 1 through 10. \n",
    "# hint: the .append() method will be useful\n",
    "\n",
    "sqrt = []\n",
    "\n",
    "for i in range(1, 11):\n",
    "    \n",
    "    sqrt.append(i** (1/2))\n",
    "\n",
    "\n",
    "sqrt\n"
   ]
  },
  {
   "cell_type": "code",
   "execution_count": 12,
   "id": "624a951e-9efd-4f63-880e-14cca3499884",
   "metadata": {},
   "outputs": [
    {
     "data": {
      "text/plain": [
       "385"
      ]
     },
     "execution_count": 12,
     "metadata": {},
     "output_type": "execute_result"
    }
   ],
   "source": [
    "# Sum squares of numbers from 1 to 10.\n",
    "my_sum = 0\n",
    "\n",
    "for i in range(1, 11):\n",
    "    my_sum = my_sum + (i ** 2)\n",
    "\n",
    "my_sum"
   ]
  },
  {
   "cell_type": "markdown",
   "id": "c1b4abb6-ee80-487c-aa92-a8b29ed05526",
   "metadata": {},
   "source": [
    "### The enumerate function. "
   ]
  },
  {
   "cell_type": "code",
   "execution_count": 13,
   "id": "c21dc9d2-a20e-4a5a-9eee-380289572d76",
   "metadata": {},
   "outputs": [
    {
     "name": "stdout",
     "output_type": "stream",
     "text": [
      "0 first\n",
      "1 second\n",
      "2 third\n",
      "3 forth\n"
     ]
    }
   ],
   "source": [
    "# We can use enumerate(my_list) to get both values from a list \n",
    "# and sequential index numbers\n",
    "\n",
    "a_list = [\"first\", \"second\", \"third\", \"forth\"]\n",
    "\n",
    "for i, curr_val in enumerate(a_list):\n",
    "    print(str(i)  + \" \" + curr_val)\n"
   ]
  },
  {
   "cell_type": "markdown",
   "id": "8526bc79-7f8d-46f4-b476-9e5b694cff84",
   "metadata": {},
   "source": [
    "### The zip function. "
   ]
  },
  {
   "cell_type": "code",
   "execution_count": 14,
   "id": "8e8db533-4747-4a45-b8b0-3bc93082cf7f",
   "metadata": {},
   "outputs": [
    {
     "name": "stdout",
     "output_type": "stream",
     "text": [
      "0 first\n",
      "1 second\n",
      "2 third\n",
      "3 forth\n"
     ]
    }
   ],
   "source": [
    "# Use the zip function to print the same output as in the cell above.  \n",
    "\n",
    "b_list = [\"0\", \"1\", \"2\", \"3\"]\n",
    "\n",
    "for i, j in zip(b_list, a_list):\n",
    "    print(i,j)"
   ]
  },
  {
   "cell_type": "code",
   "execution_count": 15,
   "id": "f18d1c33-9ca1-4a49-a337-c1e2d3527649",
   "metadata": {},
   "outputs": [
    {
     "name": "stdout",
     "output_type": "stream",
     "text": [
      "a x\n",
      "b y\n",
      "c z\n"
     ]
    }
   ],
   "source": [
    "# Zip example from class. \n",
    "list_1 = [\"a\", \"b\", \"c\"]\n",
    "list_2 = [\"x\", \"y\", \"z\"]\n",
    "\n",
    "for item1, item2 in zip(list_1, list_2):\n",
    "    print(item1, item2)\n"
   ]
  },
  {
   "cell_type": "code",
   "execution_count": null,
   "id": "cce5e34c-ca21-4713-84e3-07663328734e",
   "metadata": {},
   "outputs": [],
   "source": []
  },
  {
   "cell_type": "markdown",
   "id": "940a0c58-2e20-4911-b913-3eb88588aaa0",
   "metadata": {},
   "source": [
    "### Exercise \n",
    "\n",
    "The code below extracts closing prices of apple and google stocks for the year 2024.\n",
    "\n",
    "Please use for loops to create a list called `daily_diff` that has the apple closing price - google closing price for each day.\n",
    "\n",
    "There are a few ways to do this, so see if you can come up with a solution that works. Try to do this without using numpy, and once you have a solution, see if you can get the same result using numpy.  \n",
    "\n"
   ]
  },
  {
   "cell_type": "code",
   "execution_count": 16,
   "id": "d5eece94-ec92-484f-8ef8-c8bff0282ac1",
   "metadata": {},
   "outputs": [],
   "source": [
    "apple = pd.read_csv(\"apple_2024.csv\")\n",
    "google = pd.read_csv(\"google_2024.csv\")"
   ]
  },
  {
   "cell_type": "code",
   "execution_count": 17,
   "id": "2593faf3-ad52-4aa5-97bc-a5ebd11d153b",
   "metadata": {},
   "outputs": [],
   "source": [
    "apple_close = apple[\"Close\"].to_list()\n",
    "google_close = google[\"Close\"].to_list()"
   ]
  },
  {
   "cell_type": "code",
   "execution_count": null,
   "id": "b08cb7bb-ae46-4a29-a276-80594bd159a0",
   "metadata": {},
   "outputs": [],
   "source": [
    "# First way to solve the problem. "
   ]
  },
  {
   "cell_type": "code",
   "execution_count": 18,
   "id": "59a66178-38c8-4584-acdc-fe61537ad29c",
   "metadata": {},
   "outputs": [
    {
     "data": {
      "image/png": "[encoded data removed]",
      "text/plain": [
       "<Figure size 640x480 with 1 Axes>"
      ]
     },
     "metadata": {},
     "output_type": "display_data"
    }
   ],
   "source": [
    "\n",
    "\n",
    "# Start with an empty list\n",
    "daily_diff = [];\n",
    "\n",
    "\n",
    "# Use a for loop to add the closing price for each day\n",
    "for i in range(len(google_close)):\n",
    "\n",
    "    google = google_close[i]\n",
    "    apple = apple_close[i]\n",
    "    daily_diff.append(apple - google)\n",
    "\n",
    "\n",
    "\n",
    "# Plot the range of temperatures\n",
    "plt.plot(daily_diff);\n"
   ]
  },
  {
   "cell_type": "code",
   "execution_count": null,
   "id": "5a47a515-d58b-4bf0-b4a9-17d769af9d69",
   "metadata": {},
   "outputs": [],
   "source": [
    "# Alternative solution using the zip function. "
   ]
  },
  {
   "cell_type": "code",
   "execution_count": 19,
   "id": "f993d75d-9518-4b64-9da5-32e0c3eb12d0",
   "metadata": {},
   "outputs": [
    {
     "data": {
      "image/png": "[encoded data removed]",
      "text/plain": [
       "<Figure size 640x480 with 1 Axes>"
      ]
     },
     "metadata": {},
     "output_type": "display_data"
    }
   ],
   "source": [
    "# Alternative solution using the zip function...\n",
    "\n",
    "# Start with an empty list\n",
    "daily_diff2 = [];\n",
    "\n",
    "\n",
    "# Use a for loop to add the temperature range for each day\n",
    "for i, j in zip(apple_close, google_close):\n",
    "\n",
    "    daily_diff2.append(i - j)\n",
    "\n",
    "\n",
    "\n",
    "# Plot the range of temperatures\n",
    "plt.plot(daily_diff2);\n"
   ]
  },
  {
   "cell_type": "markdown",
   "id": "cc002a2a-9766-4c24-bc0b-1009eddb27fc",
   "metadata": {},
   "source": [
    "##  Conditional Statements \n",
    "\n",
    "Conditional statements allow use to excecute particular pieces of code when certain conditions are met; i.e., they execute a piece of code when a Boolean value is True. \n",
    "\n",
    "Let's explore!"
   ]
  },
  {
   "cell_type": "code",
   "execution_count": 20,
   "id": "6aa20d5b-7666-469c-aaac-281521eedb07",
   "metadata": {},
   "outputs": [
    {
     "name": "stdout",
     "output_type": "stream",
     "text": [
      "Sophomore\n"
     ]
    }
   ],
   "source": [
    "# Let us quickly take a look at the following from the class. \n",
    "\n",
    "num_semesters = 3\n",
    "\n",
    "if num_semesters <= 0:\n",
    "    print('Not a valid input')\n",
    "elif num_semesters <= 2:\n",
    "    print('First Year')\n",
    "elif num_semesters <= 4:\n",
    "    print('Sophomore')\n",
    "elif num_semesters <= 6:\n",
    "    print('Junior')\n",
    "elif num_semesters <= 8:\n",
    "    print('Senior')\n",
    "else:\n",
    "    print(\"NA\")\n"
   ]
  },
  {
   "cell_type": "code",
   "execution_count": 21,
   "id": "8fb1ab1a-0740-429b-a458-d49c419699ec",
   "metadata": {},
   "outputs": [
    {
     "name": "stdout",
     "output_type": "stream",
     "text": [
      "0\n",
      "Not a valid input\n",
      "1\n",
      "First Year\n",
      "2\n",
      "First Year\n",
      "3\n",
      "Sophomore\n",
      "4\n",
      "Sophomore\n",
      "5\n",
      "Junior\n",
      "6\n",
      "Junior\n",
      "7\n",
      "Senior\n",
      "8\n",
      "Senior\n",
      "9\n",
      "NA\n"
     ]
    }
   ],
   "source": [
    "# Let us alaos look at a conditional statement in a loop from the class. \n",
    "\n",
    "for num_semesters in range(10):\n",
    "    \n",
    "    print(num_semesters)\n",
    "\n",
    "    if num_semesters <= 0:\n",
    "        print('Not a valid input')\n",
    "    elif num_semesters <= 2:\n",
    "        print('First Year')\n",
    "    elif num_semesters <= 4:\n",
    "        print('Sophomore')\n",
    "    elif num_semesters <= 6:\n",
    "        print('Junior')\n",
    "    elif num_semesters <= 8:\n",
    "        print('Senior')\n",
    "    else:\n",
    "        print(\"NA\")\n"
   ]
  },
  {
   "cell_type": "markdown",
   "id": "c7a9e8c5-5719-45dd-9f59-fcc31df7b11b",
   "metadata": {},
   "source": [
    "## Exercise. \n",
    "## Write a Python program to find those numbers which are divisible by 7 and multiples of 5, between 1500 and 2700 (both included).\n",
    "Recall `%` symbol in Python is called the Modulo Operator. It returns the remainder of dividing the left hand operand by right hand operand."
   ]
  },
  {
   "cell_type": "code",
   "execution_count": 22,
   "id": "2e4c9d38-f61f-4f61-9354-d8ee2a5fe561",
   "metadata": {},
   "outputs": [
    {
     "name": "stdout",
     "output_type": "stream",
     "text": [
      "1505,1540,1575,1610,1645,1680,1715,1750,1785,1820,1855,1890,1925,1960,1995,2030,2065,2100,2135,2170,2205,2240,2275,2310,2345,2380,2415,2450,2485,2520,2555,2590,2625,2660,2695\n"
     ]
    }
   ],
   "source": [
    "# Create an empty list to store numbers that meet the given conditions\n",
    "new_list = []\n",
    "\n",
    "# Iterate through numbers from 1500 to 2700 (inclusive)\n",
    "for i in range(1500, 2701):\n",
    "    # Check if the number is divisible by 7 and 5 without any remainder\n",
    "    if (i % 7 == 0) and (i % 5 == 0):\n",
    "        # If the conditions are met, convert the number to a string and append it to the list\n",
    "        new_list.append(str(i))\n",
    "\n",
    "# Join the numbers in the list with a comma and print the result\n",
    "print(','.join(new_list))"
   ]
  },
  {
   "cell_type": "code",
   "execution_count": null,
   "id": "16695ad0-78a5-4554-87b0-845fdf7e94ff",
   "metadata": {},
   "outputs": [],
   "source": []
  },
  {
   "cell_type": "markdown",
   "id": "fd340ee0-d7d2-42e8-be85-494c88e7b45d",
   "metadata": {},
   "source": [
    "## 4. Functions!\n",
    "\n",
    "We have already used many functions in this class that are built into Python or are imported from different modules/packages. \n",
    "\n",
    "Let's now write some new functions outselves! \n"
   ]
  },
  {
   "cell_type": "markdown",
   "id": "0ea7c44b-212c-43df-81b1-ccadb6aa85b8",
   "metadata": {},
   "source": [
    "Write a Python function that squares the input. "
   ]
  },
  {
   "cell_type": "code",
   "execution_count": 23,
   "id": "cdd2782d-e54a-4df0-be80-ff824cbd3799",
   "metadata": {},
   "outputs": [],
   "source": [
    "# Write a function that doubles a value.\n",
    "def double(x):\n",
    "    return x * 2"
   ]
  },
  {
   "cell_type": "markdown",
   "id": "ec181596-7022-473b-9230-2a805cd42771",
   "metadata": {},
   "source": [
    "Write a Python function to find the maximum of two numbers."
   ]
  },
  {
   "cell_type": "code",
   "execution_count": 24,
   "id": "bbd6b6e2-d68a-425a-9072-ef104edb4815",
   "metadata": {},
   "outputs": [],
   "source": [
    "def max_of_two(x, y):\n",
    "    # Check if x is greater than y\n",
    "    if x > y:\n",
    "    # If x is greater, return x\n",
    "     return x\n",
    "    # If y is greater or equal to x, return y\n",
    "    return y\n",
    "\n"
   ]
  },
  {
   "cell_type": "code",
   "execution_count": 25,
   "id": "4624f4c6-a7ab-4e4a-83f9-b7a19da22f48",
   "metadata": {},
   "outputs": [
    {
     "data": {
      "text/plain": [
       "5"
      ]
     },
     "execution_count": 25,
     "metadata": {},
     "output_type": "execute_result"
    }
   ],
   "source": [
    "# Let us check our function. \n",
    "\n",
    "max_of_two(5, -100)"
   ]
  },
  {
   "cell_type": "markdown",
   "id": "0d239a9e-84dd-40b5-aa01-d764fb1e80ca",
   "metadata": {},
   "source": [
    "Write a Python function to find the maximum of two numbers."
   ]
  },
  {
   "cell_type": "code",
   "execution_count": 26,
   "id": "7610307d-8751-474c-b7e3-799397d8c8dd",
   "metadata": {},
   "outputs": [],
   "source": [
    "# Define a function that returns the maximum of three numbers\n",
    "def max_of_three(x, y, z):\n",
    "    # Call max_of_two function to find the maximum of y and z,\n",
    "    # then compare it with x to find the overall maximum\n",
    "    return max_of_two(x, max_of_two(y, z))\n",
    "\n",
    "\n"
   ]
  },
  {
   "cell_type": "code",
   "execution_count": 27,
   "id": "75ff210b-f28e-44c4-92d4-851b5089d614",
   "metadata": {},
   "outputs": [
    {
     "name": "stdout",
     "output_type": "stream",
     "text": [
      "6\n"
     ]
    }
   ],
   "source": [
    "# Print the result of calling max_of_three function with arguments 3, 6, and -5\n",
    "print(max_of_three(3, 6, -5)) "
   ]
  },
  {
   "cell_type": "code",
   "execution_count": null,
   "id": "a2a9504a-d06f-469f-9ec7-c5154d1648cd",
   "metadata": {},
   "outputs": [],
   "source": []
  }
 ],
 "metadata": {
  "kernelspec": {
   "display_name": "Python 3 (ipykernel)",
   "language": "python",
   "name": "python3"
  },
  "language_info": {
   "codemirror_mode": {
    "name": "ipython",
    "version": 3
   },
   "file_extension": ".py",
   "mimetype": "text/x-python",
   "name": "python",
   "nbconvert_exporter": "python",
   "pygments_lexer": "ipython3",
   "version": "3.11.7"
  }
 },
 "nbformat": 4,
 "nbformat_minor": 5
}
