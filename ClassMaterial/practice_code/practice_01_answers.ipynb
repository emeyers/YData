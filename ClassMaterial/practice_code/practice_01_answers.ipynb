{
 "cells": [
  {
   "cell_type": "markdown",
   "id": "5beca053-eff1-4935-87d4-4a70bfaaf8ca",
   "metadata": {},
   "source": [
    "**Practice Session 1**\n",
    "\n"
   ]
  },
  {
   "cell_type": "code",
   "execution_count": 1,
   "id": "32fee334-18a7-460f-9db2-261d417506f3",
   "metadata": {},
   "outputs": [],
   "source": [
    "import YData\n",
    "\n",
    "\n",
    "\n",
    "#### Download Practice 1 Jupyter Notebook #### \n",
    "#YData.download_practice_code(1)             Without Answers \n",
    "#YData.download_practice_code(1, True)       With Answers (won't work until Friday eve)\n",
    "\n",
    "\n",
    "\n",
    "#### Download Data ####\n",
    "YData.download_data(\"book_mark_twain.txt\")\n",
    "YData.download_data(\"jpmorgan_global_equity.pdf\")\n",
    "\n"
   ]
  },
  {
   "cell_type": "markdown",
   "id": "84ecbfff-0baa-49ea-950b-6ac360099c4c",
   "metadata": {},
   "source": [
    "The next few cells contain some of the important functions/methods related to ints/floats, Lists,\n",
    "and String. "
   ]
  },
  {
   "cell_type": "markdown",
   "id": "2f28d12a-334c-4941-9c9c-7fa8741181a3",
   "metadata": {},
   "source": [
    "### Some global functions"
   ]
  },
  {
   "cell_type": "code",
   "execution_count": null,
   "id": "e1c36842-0e97-44ce-ba79-b862afa06287",
   "metadata": {},
   "outputs": [],
   "source": [
    "type(x)             # returns the data type held in x. "
   ]
  },
  {
   "cell_type": "markdown",
   "id": "27549410-4200-4d5e-bc58-3d9f5436c1ee",
   "metadata": {},
   "source": [
    "### Numbers (Integers and Floats)"
   ]
  },
  {
   "cell_type": "code",
   "execution_count": null,
   "id": "619b7eae-f490-49c2-87a1-dcf4de11c713",
   "metadata": {},
   "outputs": [],
   "source": [
    "# Some important functions. \n",
    "\n",
    "abs()               # computes absolute value of a number. \n",
    "min(x,y,....,z)     # computes the minimum of numbers x through z. \n",
    "max(x,y,....,z)     # computes the maximum of numbers x through z. \n",
    "round(x,n)          # rounds the number x to n decimal places. \n",
    "int(x)              # returns integer part of the number x. \n",
    "float(x)            # converts the number x into a float. \n",
    "\n",
    "\n",
    "\n",
    "\n"
   ]
  },
  {
   "cell_type": "markdown",
   "id": "260e7100-9418-47d5-b5e6-03cfe35e07b3",
   "metadata": {},
   "source": [
    "### Lists "
   ]
  },
  {
   "cell_type": "code",
   "execution_count": null,
   "id": "be5330d4-88ab-4c81-ba7c-2e1351e52772",
   "metadata": {},
   "outputs": [],
   "source": [
    "# Some important functions, methods, and operations. In what follows, we suppose\n",
    "# that Z and W are two lists and m, n, k are integers. \n",
    "\n",
    "Z[n], Z[m:n], Z[m:], Z[:n], Z[m:n:k], etc.   # for slicing, replacing, and extracting various \n",
    "                                             # elements of the list Z.\n",
    "\n",
    "len(Z)                                       # for counting the number of elements in the list Z.\n",
    "\n",
    "Z.count(x)                                   # for counting the number of times element x appears\n",
    "                                             # in the list Z.\n",
    "\n",
    "Z + W, Z * n                                 # for concatenating and replicating. \n",
    "\n",
    "sum(), max(), min(), etc.                    # make sure the list contains all numbers before using these. \n",
    "\n",
    "Z.append(x)                                  # for adding element x at the end of the list Z.\n",
    "\n",
    "Z.index(x)                                   # will return the index of the element x in the list Z. \n",
    "\n",
    "Z.sort()                                     # will sort the entries of the original list Z (thereby modifying  \n",
    "                                             # the original list Z)\n",
    "\n",
    "\n",
    "Z_copy = Z.copy()                            # will create of replica of the original list Z and\n",
    "                                             # store it under the name Z_copy. \n",
    "\n",
    "Z_sorted = sorted(Z)                         # will sort the entries of the list Z \n",
    "                                             # return a new list called Z_sorted.  \n",
    "\n",
    "\n",
    "\n",
    "\n",
    "\n"
   ]
  },
  {
   "cell_type": "markdown",
   "id": "8a052573-e170-48f3-bad1-d935a5d2a481",
   "metadata": {},
   "source": [
    "### Strings "
   ]
  },
  {
   "cell_type": "code",
   "execution_count": null,
   "id": "4956bedb-0076-4a53-b29b-26574d29cccb",
   "metadata": {},
   "outputs": [],
   "source": [
    "# Some important functions, methods, and operations. \n",
    "# In what follows, we suppose that a and b are strings, and Z is a list.  \n",
    "\n",
    "a + b, a * 2                 # for concatenating and replicating. \n",
    "int(), float(), and str()    # for conversions from one data type to another. \n",
    "len(a)                       # for counting number of letters (characters) held in the string a. \n",
    "\n",
    "\n",
    "\n",
    "# Changing capitalization. (a is some arbitrary/placeholder string.)\n",
    "\n",
    "a.capitalize()               # Converts the first character to upper case.\n",
    "a.lower()                    # Converts a string into lower case.\n",
    "a.upper()                    # Converts a string into upper case.\n",
    "a.title()                    # Converts the first character of each word to upper case.\n",
    "a.swapcase()                 # Swaps cases, lower case becomes upper case and vice versa.\n",
    "\n",
    "\n",
    "\n",
    "# Splitting and joining strings. (a is some arbitrary/placeholder string.)\n",
    "\n",
    "a.split(separator_string)    # Splits the string at the specified separator, and returns a list.\n",
    "a.splitlines()               # Splits the string at line breaks (\\n) and returns a list.\n",
    "\"\".join(Z)                   # Converts the elements of the list Z into a string (joined by spaces). \n",
    "\n",
    "\n",
    "\n",
    "# Finding and replacing substrings. (a is some arbitrary/placeholder string.)\n",
    "\n",
    "a.count(substring)           # Returns the number of times a specified substring occurs in the string a.\n",
    "a.replace(old_str, new_str)  # Replaces a substring with a different substring. \n",
    "a.startswith(substring)      # Returns true if the string starts with the specified value.\n",
    "a.endswith(substring)        # Returns true if the string ends with the specified value.\n",
    "\n",
    "\n",
    "\n",
    "# Checking string properties. (a is some arbitrary/placeholder string.)\n",
    "\n",
    "a.isalnum()                  # Returns True if all characters in the string are alphanumeric.\n",
    "a.isalpha()                  # Returns True if all characters in the string are in the alphabet.\n",
    "a.isnumeric()                # Returns True if all characters in the string are numeric.\n",
    "\n",
    "a.isspace()                  # Returns True if all characters in the string are whitespaces.\n",
    "\n",
    "a.islower()                  # Returns True if all characters in the string are lower case.\n",
    "a.isupper()                  # Returns True if all characters in the string are upper case.\n",
    "a.istitle()                  # Returns True if the string follows the rules of a title.\n",
    "\n",
    "\n",
    "\n",
    "# String trimming and padding. (a is some arbitrary/placeholder string.)\n",
    "\n",
    "a.strip()                    # Returns a trimmed version of the string with no leading or trailing white space. \n",
    "a.center(k)                  # Returns a centered string with equal padding on both sides \n",
    "                             # so that the total length of the new string is k. \n",
    "a.zfill(k)                   # Fills the string with a specified number of 0 values at the beginning.\n",
    "\n",
    "\n",
    "\n",
    "# f string. (a is some arbitrary/placeholder string.)\n",
    "# The following will fill in \"a\" into the string.\n",
    "\n",
    "value_to_fill = \"a\"\n",
    "f\"my string {value_to_fill} will be filled in.\"   \n",
    "\n",
    "\n",
    "\n",
    "\n"
   ]
  },
  {
   "cell_type": "markdown",
   "id": "be5bee2d-82ae-4a11-bdc5-8bfc28c17334",
   "metadata": {},
   "source": [
    "<br>\n",
    "<br>\n",
    "<br>\n",
    "<br>\n",
    "<br>\n",
    "<br>"
   ]
  },
  {
   "cell_type": "markdown",
   "id": "0f7d5587-783b-4b14-9bff-737c3e14435f",
   "metadata": {},
   "source": [
    "***Please complete this notebook by filling in the cells provided.***"
   ]
  },
  {
   "cell_type": "markdown",
   "id": "1d5a6c0e-124e-48f1-b929-cce1142a2e3c",
   "metadata": {},
   "source": [
    "# 1. Names, Assignment Statements, and Error Messages"
   ]
  },
  {
   "cell_type": "markdown",
   "id": "0674cb56-2101-43ff-8bec-a5ac994c501a",
   "metadata": {},
   "source": [
    "Question 1.1: What is wrong with the following code?"
   ]
  },
  {
   "cell_type": "code",
   "execution_count": 24,
   "id": "42e0d746-2d54-4647-93e4-c94c2e38d16c",
   "metadata": {
    "scrolled": true
   },
   "outputs": [
    {
     "ename": "SyntaxError",
     "evalue": "invalid syntax (3086352036.py, line 1)",
     "output_type": "error",
     "traceback": [
      "  \u001b[36mCell\u001b[39m\u001b[36m \u001b[39m\u001b[32mIn[24]\u001b[39m\u001b[32m, line 1\u001b[39m\n\u001b[31m    \u001b[39m\u001b[31mx = ydata 123\u001b[39m\n              ^\n\u001b[31mSyntaxError\u001b[39m\u001b[31m:\u001b[39m invalid syntax\n"
     ]
    }
   ],
   "source": [
    "x = ydata 123"
   ]
  },
  {
   "cell_type": "markdown",
   "id": "fe7e88ca-b48d-4b5a-bc42-71dbddec9298",
   "metadata": {},
   "source": [
    "Answer 1.1: If we mean to define x to be the string \"ydata 123\", then the code is missing these inverted commas."
   ]
  },
  {
   "cell_type": "markdown",
   "id": "c92184bc-ea10-4692-8ab0-33f1a6a96105",
   "metadata": {},
   "source": [
    "Question 1.2: What is wrong with the following code?"
   ]
  },
  {
   "cell_type": "code",
   "execution_count": 25,
   "id": "8337f0f6-5a44-4fa2-b7a8-35ac0b5c2868",
   "metadata": {},
   "outputs": [
    {
     "ename": "NameError",
     "evalue": "name 'x' is not defined",
     "output_type": "error",
     "traceback": [
      "\u001b[31m---------------------------------------------------------------------------\u001b[39m",
      "\u001b[31mNameError\u001b[39m                                 Traceback (most recent call last)",
      "\u001b[36mCell\u001b[39m\u001b[36m \u001b[39m\u001b[32mIn[25]\u001b[39m\u001b[32m, line 1\u001b[39m\n\u001b[32m----> \u001b[39m\u001b[32m1\u001b[39m u = \u001b[43mx\u001b[49m * q\n",
      "\u001b[31mNameError\u001b[39m: name 'x' is not defined"
     ]
    }
   ],
   "source": [
    "u = x * q"
   ]
  },
  {
   "cell_type": "markdown",
   "id": "75ce040a-1b9f-476a-acdc-1a03d39050e4",
   "metadata": {},
   "source": [
    "Answer 1.2: q is not defined. "
   ]
  },
  {
   "cell_type": "markdown",
   "id": "233e552c-e0d2-4477-966b-96d46856443f",
   "metadata": {},
   "source": [
    "Question 1.3: What is wrong with the following code?"
   ]
  },
  {
   "cell_type": "code",
   "execution_count": 26,
   "id": "6541b5da-f7e4-4fd0-8a01-76f45ddcdb38",
   "metadata": {},
   "outputs": [
    {
     "ename": "TypeError",
     "evalue": "bad operand type for abs(): 'str'",
     "output_type": "error",
     "traceback": [
      "\u001b[31m---------------------------------------------------------------------------\u001b[39m",
      "\u001b[31mTypeError\u001b[39m                                 Traceback (most recent call last)",
      "\u001b[36mCell\u001b[39m\u001b[36m \u001b[39m\u001b[32mIn[26]\u001b[39m\u001b[32m, line 1\u001b[39m\n\u001b[32m----> \u001b[39m\u001b[32m1\u001b[39m \u001b[38;5;28;43mabs\u001b[39;49m\u001b[43m(\u001b[49m\u001b[33;43m\"\u001b[39;49m\u001b[33;43mhello\u001b[39;49m\u001b[33;43m\"\u001b[39;49m\u001b[43m)\u001b[49m\n",
      "\u001b[31mTypeError\u001b[39m: bad operand type for abs(): 'str'"
     ]
    }
   ],
   "source": [
    "abs(\"hello\")\n"
   ]
  },
  {
   "cell_type": "markdown",
   "id": "4be7e36c-9a2d-4311-88d0-a0839197fc97",
   "metadata": {},
   "source": [
    "Answer 1.3: The function `abs` takes numbers as inputs. \"hello\" is a string."
   ]
  },
  {
   "cell_type": "markdown",
   "id": "2cf9134b-94ef-464b-ad1b-0eaebdcbac4b",
   "metadata": {},
   "source": [
    "Question 1.4: Write one line code to check if 4.1 is an int or a float."
   ]
  },
  {
   "cell_type": "code",
   "execution_count": 2,
   "id": "8a4b33d2-6640-4cd5-906a-b69a4ffd7104",
   "metadata": {},
   "outputs": [
    {
     "data": {
      "text/plain": [
       "float"
      ]
     },
     "execution_count": 2,
     "metadata": {},
     "output_type": "execute_result"
    }
   ],
   "source": [
    "type(4.1)"
   ]
  },
  {
   "cell_type": "markdown",
   "id": "c199e967-4442-4ec5-ba97-f9415a1201f1",
   "metadata": {},
   "source": [
    "Question 1.5: Round 4.1 to the nearest integer and store your answer as `x`."
   ]
  },
  {
   "cell_type": "code",
   "execution_count": 3,
   "id": "254a9ffa-7abb-4529-b619-675d89efbe00",
   "metadata": {},
   "outputs": [
    {
     "data": {
      "text/plain": [
       "4"
      ]
     },
     "execution_count": 3,
     "metadata": {},
     "output_type": "execute_result"
    }
   ],
   "source": [
    "x = round(4.1)\n",
    "x"
   ]
  },
  {
   "cell_type": "markdown",
   "id": "9f15117d-8854-4149-8bbd-028569ff53fa",
   "metadata": {},
   "source": [
    "Question 1.6: Write one line code to check if `x` from the previous step is a float or an int. "
   ]
  },
  {
   "cell_type": "code",
   "execution_count": 4,
   "id": "2247cb6b-5810-4601-8348-83ff48c5d387",
   "metadata": {},
   "outputs": [
    {
     "data": {
      "text/plain": [
       "int"
      ]
     },
     "execution_count": 4,
     "metadata": {},
     "output_type": "execute_result"
    }
   ],
   "source": [
    "type(x)"
   ]
  },
  {
   "cell_type": "markdown",
   "id": "5157eb14-1f50-4a72-9b6b-b6f44e6569f9",
   "metadata": {},
   "source": [
    "# 2. Basic Statistics "
   ]
  },
  {
   "cell_type": "markdown",
   "id": "c563d21c-e480-40ff-b685-e95a0bbccbc1",
   "metadata": {},
   "source": [
    "Let us try to compute (estimate) the volume of Earth. \n",
    "You may use the following data:\n",
    "- The equatorial radius of Earth is 3963.2 miles.\n",
    "- The polar radius of Earth is 3949.9 miles.\n",
    "\n",
    "Also, recall volume `V` is given by the formula $ V = \\frac{4}{3} \\pi r^3 $ where $r$ is the radius. \n",
    "\n",
    "\n",
    "\n",
    "Data source: https://sciencing.com/what-volume-earth-4689019.html"
   ]
  },
  {
   "cell_type": "markdown",
   "id": "e592f797-f08f-426f-b68d-51a60d4bea0f",
   "metadata": {},
   "source": [
    "Question 2.1: Let us first compute the average radius and store our answer as `r`."
   ]
  },
  {
   "cell_type": "code",
   "execution_count": 5,
   "id": "4dc294af-c36b-484f-b651-2b5113358b3b",
   "metadata": {},
   "outputs": [],
   "source": [
    "r = (3963.2 + 3949.9)/2"
   ]
  },
  {
   "cell_type": "markdown",
   "id": "0cdd9536-d862-43d8-836d-810b18db83e9",
   "metadata": {},
   "source": [
    "Question 2.2: Now compute volume using the formula above and save your answer as `V`. (you may use $ \\pi = 3.14 $)"
   ]
  },
  {
   "cell_type": "code",
   "execution_count": 6,
   "id": "83420f91-1992-46c3-a7dc-d6d8b66da958",
   "metadata": {},
   "outputs": [
    {
     "data": {
      "text/plain": [
       "259309459458.6643"
      ]
     },
     "execution_count": 6,
     "metadata": {},
     "output_type": "execute_result"
    }
   ],
   "source": [
    "V = (4/3) * (3.14) * (r ** 3)\n",
    "V"
   ]
  },
  {
   "cell_type": "markdown",
   "id": "42620cd9-ef6a-4554-8d7b-25dfcdbd58e8",
   "metadata": {},
   "source": [
    "Question 2.3: Round your answer to two decimal places. "
   ]
  },
  {
   "cell_type": "code",
   "execution_count": 7,
   "id": "6edbe1d6-be17-4b31-9d26-8aa2160b4777",
   "metadata": {},
   "outputs": [
    {
     "data": {
      "text/plain": [
       "259309459458.66"
      ]
     },
     "execution_count": 7,
     "metadata": {},
     "output_type": "execute_result"
    }
   ],
   "source": [
    "round(V,2)"
   ]
  },
  {
   "cell_type": "markdown",
   "id": "c9da6100-d0e8-479c-8d79-5d8f56ea6ddf",
   "metadata": {},
   "source": [
    "# 3. Lists"
   ]
  },
  {
   "cell_type": "markdown",
   "id": "6b191079-2772-4830-863e-f13481f65c66",
   "metadata": {},
   "source": [
    "One of the most widely use data structures in Python is the list. As we discussed in class, lists can hold any type of item, and we can use square brackets `[]` to create, set, and extract elements from lists."
   ]
  },
  {
   "cell_type": "markdown",
   "id": "606d250b-cbe5-4032-aa82-5b8b1bc067d3",
   "metadata": {},
   "source": [
    "Question 3.1: Create a list called `ivy` consisting of 8 items (strings) in the order specified here: Dartmouth, Harvard, Brown, Yale, Columbia, Cornell, UPenn, and Princeton. "
   ]
  },
  {
   "cell_type": "code",
   "execution_count": 8,
   "id": "3071d8e1-bec0-4106-87b0-0aef9e25131f",
   "metadata": {},
   "outputs": [],
   "source": [
    "ivy = [\"Dartmouth\", \"Harvard\", \"Brown\", \"Yale\", \"Columbia\", \"Cornell\", \"UPenn\", \"Princeton\"]"
   ]
  },
  {
   "cell_type": "markdown",
   "id": "1131948e-014d-470a-8fe9-49be22602c24",
   "metadata": {},
   "source": [
    "Question 3.2: Write code to print the list and count the number of objects it contains."
   ]
  },
  {
   "cell_type": "code",
   "execution_count": 9,
   "id": "5b0ec211-29cf-4bbf-a322-b7a500740e10",
   "metadata": {},
   "outputs": [
    {
     "name": "stdout",
     "output_type": "stream",
     "text": [
      "['Dartmouth', 'Harvard', 'Brown', 'Yale', 'Columbia', 'Cornell', 'UPenn', 'Princeton']\n"
     ]
    }
   ],
   "source": [
    "print(ivy)"
   ]
  },
  {
   "cell_type": "code",
   "execution_count": 10,
   "id": "23ab6a44-3db9-4c80-b503-13b7569d4dd0",
   "metadata": {},
   "outputs": [
    {
     "data": {
      "text/plain": [
       "8"
      ]
     },
     "execution_count": 10,
     "metadata": {},
     "output_type": "execute_result"
    }
   ],
   "source": [
    "len(ivy)"
   ]
  },
  {
   "cell_type": "markdown",
   "id": "8aeeec89-e6b4-4a3f-8e7e-df08d5b0b119",
   "metadata": {},
   "source": [
    "Question 3.3: Write one line code to extract the third item in the list.  "
   ]
  },
  {
   "cell_type": "code",
   "execution_count": 11,
   "id": "a861bbf9-53b6-49e5-ad02-13b6a9020483",
   "metadata": {},
   "outputs": [
    {
     "data": {
      "text/plain": [
       "'Brown'"
      ]
     },
     "execution_count": 11,
     "metadata": {},
     "output_type": "execute_result"
    }
   ],
   "source": [
    "ivy[2]"
   ]
  },
  {
   "cell_type": "markdown",
   "id": "050c922f-b55b-40ab-a996-efc513cd2f35",
   "metadata": {},
   "source": [
    "Question 3.4: Write one line code to extract all the items from Harvard through UPenn. "
   ]
  },
  {
   "cell_type": "code",
   "execution_count": 12,
   "id": "cb309f26-21da-48d9-90f1-d5a77f042938",
   "metadata": {},
   "outputs": [
    {
     "data": {
      "text/plain": [
       "['Harvard', 'Brown', 'Yale', 'Columbia', 'Cornell', 'UPenn']"
      ]
     },
     "execution_count": 12,
     "metadata": {},
     "output_type": "execute_result"
    }
   ],
   "source": [
    "ivy[1:7]"
   ]
  },
  {
   "cell_type": "markdown",
   "id": "8ddc50f1-72e8-4e5e-9089-78c53705f9a2",
   "metadata": {},
   "source": [
    "Question 3.5: Write a one line code to extract all the items but the last item in the list. "
   ]
  },
  {
   "cell_type": "code",
   "execution_count": 13,
   "id": "490cf4ca-4f49-4d41-9597-72f6adee5cbc",
   "metadata": {},
   "outputs": [
    {
     "data": {
      "text/plain": [
       "['Dartmouth', 'Harvard', 'Brown', 'Yale', 'Columbia', 'Cornell', 'UPenn']"
      ]
     },
     "execution_count": 13,
     "metadata": {},
     "output_type": "execute_result"
    }
   ],
   "source": [
    "ivy[:7]"
   ]
  },
  {
   "cell_type": "markdown",
   "id": "1f4e231d-16a2-4a76-aa6d-57ee8beb35f5",
   "metadata": {},
   "source": [
    "Question 3.6: Write a one line code to extract all the items starting from Brown. "
   ]
  },
  {
   "cell_type": "code",
   "execution_count": 14,
   "id": "51f0dfe8-d410-454e-8367-e047f72953c3",
   "metadata": {},
   "outputs": [
    {
     "data": {
      "text/plain": [
       "['Brown', 'Yale', 'Columbia', 'Cornell', 'UPenn', 'Princeton']"
      ]
     },
     "execution_count": 14,
     "metadata": {},
     "output_type": "execute_result"
    }
   ],
   "source": [
    "ivy[2:]"
   ]
  },
  {
   "cell_type": "markdown",
   "id": "852ee8e3-cf37-499b-b93e-41ac2cc7ab74",
   "metadata": {},
   "source": [
    "Question 3.7: Write a one line code to replace the string 'Dartmouth' with 'MIT' in the list. Then print out the modified list. "
   ]
  },
  {
   "cell_type": "code",
   "execution_count": 15,
   "id": "7e105b14-d2c9-4649-a63f-64831f0e6186",
   "metadata": {},
   "outputs": [],
   "source": [
    "ivy[0] = \"MIT\""
   ]
  },
  {
   "cell_type": "code",
   "execution_count": 16,
   "id": "a9c39190-8c3b-4497-96c3-0cd18ffc7a55",
   "metadata": {},
   "outputs": [
    {
     "name": "stdout",
     "output_type": "stream",
     "text": [
      "['MIT', 'Harvard', 'Brown', 'Yale', 'Columbia', 'Cornell', 'UPenn', 'Princeton']\n"
     ]
    }
   ],
   "source": [
    "print(ivy)"
   ]
  },
  {
   "cell_type": "markdown",
   "id": "de770384-05ba-4209-83e1-31053b6dd02e",
   "metadata": {},
   "source": [
    "Question 3.8: Write a one line to add Dartmouth back to the list. "
   ]
  },
  {
   "cell_type": "code",
   "execution_count": 18,
   "id": "8f770abf-19df-4b14-90ec-a9a991cd3126",
   "metadata": {},
   "outputs": [],
   "source": [
    "ivy.append(\"Dartmouth\")\n"
   ]
  },
  {
   "cell_type": "code",
   "execution_count": 19,
   "id": "c1297a4f-ace0-4433-9bad-daa659cd983a",
   "metadata": {},
   "outputs": [
    {
     "name": "stdout",
     "output_type": "stream",
     "text": [
      "['MIT', 'Harvard', 'Brown', 'Yale', 'Columbia', 'Cornell', 'UPenn', 'Princeton', 'Dartmouth']\n"
     ]
    }
   ],
   "source": [
    "print(ivy)"
   ]
  },
  {
   "cell_type": "markdown",
   "id": "2297fb68-b640-4730-84d7-cfe9a21303e7",
   "metadata": {},
   "source": [
    "Question 3.9: Wtie a one line code to add Yale at the end of the list. "
   ]
  },
  {
   "cell_type": "code",
   "execution_count": 20,
   "id": "e71c79ac-74fc-4e24-957f-842b888bfb85",
   "metadata": {},
   "outputs": [],
   "source": [
    "ivy.append(\"Yale\")"
   ]
  },
  {
   "cell_type": "code",
   "execution_count": 21,
   "id": "381d332c-a89e-422c-99df-925f14b2f4e5",
   "metadata": {},
   "outputs": [
    {
     "name": "stdout",
     "output_type": "stream",
     "text": [
      "['MIT', 'Harvard', 'Brown', 'Yale', 'Columbia', 'Cornell', 'UPenn', 'Princeton', 'Dartmouth', 'Yale']\n"
     ]
    }
   ],
   "source": [
    "print(ivy)"
   ]
  },
  {
   "cell_type": "markdown",
   "id": "7ec2cd18-954a-4029-a5a0-9a7e752b5ba8",
   "metadata": {},
   "source": [
    "Question 3.10: Write a one line code to count the number of times Yale appears in the above list. "
   ]
  },
  {
   "cell_type": "code",
   "execution_count": 22,
   "id": "6d1794d5-dbcc-48bb-8500-7d5e988f9cf3",
   "metadata": {},
   "outputs": [
    {
     "data": {
      "text/plain": [
       "2"
      ]
     },
     "execution_count": 22,
     "metadata": {},
     "output_type": "execute_result"
    }
   ],
   "source": [
    "ivy.count(\"Yale\")"
   ]
  },
  {
   "cell_type": "markdown",
   "id": "eb785512-3c6f-4941-adac-9467e3e9ceac",
   "metadata": {},
   "source": [
    "# 4. Strings"
   ]
  },
  {
   "cell_type": "markdown",
   "id": "89e51833-511d-4d37-b522-bc7676a1bcd2",
   "metadata": {},
   "source": [
    "As discussed during the lecture, text in Python is held in character strings. Let's explore some of the basics of manipulating character strings by looking at the book \"What is Man? And Other Stories\" which was written by Mark Twain.\n",
    "\n"
   ]
  },
  {
   "cell_type": "code",
   "execution_count": 23,
   "id": "9776507b-5803-464f-a80f-6d8ef3bbbe5b",
   "metadata": {},
   "outputs": [],
   "source": [
    "file = open('book_mark_twain.txt', 'r', encoding=\"utf8\")\n",
    "mtbook_data = file.read()"
   ]
  },
  {
   "cell_type": "markdown",
   "id": "ad7a7df2-aa67-46cd-b69c-c27e3230bd86",
   "metadata": {},
   "source": [
    "Question 4.1: What is the type of data in mtbook_data?"
   ]
  },
  {
   "cell_type": "code",
   "execution_count": 24,
   "id": "19ffc9bc-9d6a-44fe-b12e-8d86ab7db492",
   "metadata": {},
   "outputs": [
    {
     "data": {
      "text/plain": [
       "str"
      ]
     },
     "execution_count": 24,
     "metadata": {},
     "output_type": "execute_result"
    }
   ],
   "source": [
    "type(mtbook_data)"
   ]
  },
  {
   "cell_type": "markdown",
   "id": "a9e8622f-4ef2-4986-887c-102f78754e7e",
   "metadata": {},
   "source": [
    "Question 4.2: Write a code to extract first 10 characters(letters) in the book."
   ]
  },
  {
   "cell_type": "code",
   "execution_count": 25,
   "id": "15336c29-cc39-417b-9735-d02ad3a97b85",
   "metadata": {},
   "outputs": [
    {
     "data": {
      "text/plain": [
       "'\\n\\nTitle: W'"
      ]
     },
     "execution_count": 25,
     "metadata": {},
     "output_type": "execute_result"
    }
   ],
   "source": [
    "mtbook_data[0:10]"
   ]
  },
  {
   "cell_type": "markdown",
   "id": "16aaa8b9-8005-4227-b429-382fa4043912",
   "metadata": {},
   "source": [
    "Question 4.3: Write a code to extract first 100 characters (letters) in the book. "
   ]
  },
  {
   "cell_type": "code",
   "execution_count": 26,
   "id": "bad193ca-17fe-4051-9794-20011b474073",
   "metadata": {},
   "outputs": [
    {
     "data": {
      "text/plain": [
       "'\\n\\nTitle: What Is Man? And Other Stories\\n\\nAuthor: Mark Twain (Samuel Clemens)\\n\\nRelease Date: June, 19'"
      ]
     },
     "execution_count": 26,
     "metadata": {},
     "output_type": "execute_result"
    }
   ],
   "source": [
    "first_100 = mtbook_data[0:100]\n",
    "first_100"
   ]
  },
  {
   "cell_type": "markdown",
   "id": "e858eebd-bbbb-4ec6-9807-5276da846b91",
   "metadata": {},
   "source": [
    "Question 4.4: Write a one line code to make first 100 characters lower case."
   ]
  },
  {
   "cell_type": "code",
   "execution_count": 27,
   "id": "bb67ffb3-f32d-4a28-901e-19aa3c2aa024",
   "metadata": {},
   "outputs": [
    {
     "data": {
      "text/plain": [
       "'\\n\\ntitle: what is man? and other stories\\n\\nauthor: mark twain (samuel clemens)\\n\\nrelease date: june, 19'"
      ]
     },
     "execution_count": 27,
     "metadata": {},
     "output_type": "execute_result"
    }
   ],
   "source": [
    "first_100.lower()"
   ]
  },
  {
   "cell_type": "markdown",
   "id": "48ff5002-26d5-4b1c-b05b-67d07d46205c",
   "metadata": {},
   "source": [
    "##### Let's now examine how many times the symbol \"?\" appears in the book?. To do this, let's count how many times the substring \"?\" occurs in the book. In particular, we can use the `my_string.count(my_substring`) method where:\n",
    "- `my_string`: refers to the longer piece of text we want to search through.\n",
    "- `count()` is the name of the method we are using to count how many times my_substring occurs.\n",
    "- `my_substring` is the string we are searching for and counting in the longer piece of text given by my_string.\n"
   ]
  },
  {
   "cell_type": "markdown",
   "id": "04dca51f-b265-461e-9fa0-94e5ca3c3d76",
   "metadata": {},
   "source": [
    "Question 4.5: Write a code to count the number of times the string \"?\" appears in the book."
   ]
  },
  {
   "cell_type": "code",
   "execution_count": 28,
   "id": "0cb2c40e-946c-4427-8937-872bb23947c7",
   "metadata": {},
   "outputs": [
    {
     "data": {
      "text/plain": [
       "577"
      ]
     },
     "execution_count": 28,
     "metadata": {},
     "output_type": "execute_result"
    }
   ],
   "source": [
    "mtbook_data.count(\"?\")"
   ]
  },
  {
   "cell_type": "markdown",
   "id": "4c71dbfd-7797-4063-8020-44ded6f29e8f",
   "metadata": {},
   "source": [
    "Question 4.6: Write a one line code to count the number of new lines. "
   ]
  },
  {
   "cell_type": "code",
   "execution_count": 29,
   "id": "eb46b19b-81fb-4dcf-a0ef-3b07836be35b",
   "metadata": {},
   "outputs": [
    {
     "data": {
      "text/plain": [
       "10649"
      ]
     },
     "execution_count": 29,
     "metadata": {},
     "output_type": "execute_result"
    }
   ],
   "source": [
    "mtbook_data.count(\"\\n\")"
   ]
  },
  {
   "cell_type": "markdown",
   "id": "6c1ee716-e580-4eaf-813b-68eac2864433",
   "metadata": {},
   "source": [
    "Question 4.7: Write one line code to count the number of times the string \"man\" appears. "
   ]
  },
  {
   "cell_type": "code",
   "execution_count": 30,
   "id": "db6d5d3f-210a-498e-abad-3f494416908b",
   "metadata": {},
   "outputs": [
    {
     "data": {
      "text/plain": [
       "679"
      ]
     },
     "execution_count": 30,
     "metadata": {},
     "output_type": "execute_result"
    }
   ],
   "source": [
    "mtbook_data.count(\"man\")"
   ]
  },
  {
   "cell_type": "markdown",
   "id": "89672cda-8ada-4a61-8fc2-a0959683660c",
   "metadata": {},
   "source": [
    "Question 4.8: Now let us split the book up into a list named `bins_of_man`, where first item of the list consists of the text upto first occurance of \"man\", the second item consists of the text upto second occurance of \"man\", and so on.\n",
    "\n",
    "Hint: the `my_string.split(my_substring)` could be useful here."
   ]
  },
  {
   "cell_type": "code",
   "execution_count": 31,
   "id": "8fd4c1a8-2465-4b64-b071-d19d3fa84cff",
   "metadata": {},
   "outputs": [],
   "source": [
    "bins_of_man = mtbook_data.split(\"man\")"
   ]
  },
  {
   "cell_type": "markdown",
   "id": "646dc8d4-b860-4e06-a1f7-84928e89568e",
   "metadata": {},
   "source": [
    "Question 4.9: Write a one line code to check that `bins_of_man` is indeed a list. "
   ]
  },
  {
   "cell_type": "code",
   "execution_count": 32,
   "id": "88b60bc0-7568-474a-9006-ce7cb5dded8f",
   "metadata": {},
   "outputs": [
    {
     "data": {
      "text/plain": [
       "list"
      ]
     },
     "execution_count": 32,
     "metadata": {},
     "output_type": "execute_result"
    }
   ],
   "source": [
    "type(bins_of_man)"
   ]
  },
  {
   "cell_type": "markdown",
   "id": "79b72f78-ff13-4265-b7d8-3739a4ba635a",
   "metadata": {},
   "source": [
    "Question 4.10: Write a one line code to count the number of items in the list. "
   ]
  },
  {
   "cell_type": "code",
   "execution_count": 33,
   "id": "36fea1a9-0a6b-42b2-9f96-4ea8d22eeec7",
   "metadata": {},
   "outputs": [
    {
     "data": {
      "text/plain": [
       "680"
      ]
     },
     "execution_count": 33,
     "metadata": {},
     "output_type": "execute_result"
    }
   ],
   "source": [
    "len(bins_of_man)"
   ]
  },
  {
   "cell_type": "markdown",
   "id": "c4352fb9-7ed9-4942-bafe-fc12dd3228f3",
   "metadata": {},
   "source": [
    "Question 4.11: Write a one line code to extract the first item in the above list. "
   ]
  },
  {
   "cell_type": "code",
   "execution_count": 34,
   "id": "f844c3aa-22ba-4530-9129-8756de9c7986",
   "metadata": {},
   "outputs": [
    {
     "data": {
      "text/plain": [
       "'\\n\\nTitle: What Is Man? And Other Stories\\n\\nAuthor: Mark Twain (Samuel Clemens)\\n\\nRelease Date: June, 1993 [eBook #70]\\n[Most recently updated: May 26, 2022]\\n\\nLanguage: English\\n\\n\\nProduced by: An Anonymous Volunteer and David Widger\\n\\n*** START OF THE PROJECT GUTENBERG EBOOK WHAT IS MAN? AND OTHER STORIES ***\\n\\n\\n\\n\\nWHAT IS MAN?\\nAND OTHER ESSAYS\\n\\nBy Mark Twain\\n\\n(Samuel Langhorne Clemens, 1835-1910)\\n\\n\\nCONTENTS\\n\\n WHAT IS MAN?\\n THE DEATH OF JEAN\\n THE TURNING-POINT OF MY LIFE\\n HOW TO MAKE HISTORY DATES STICK\\n THE MEMORABLE ASSASSINATION\\n A SCRAP OF CURIOUS HISTORY\\n SWITZERLAND, THE CRADLE OF LIBERTY\\n AT THE SHRINE OF ST. WAGNER\\n WILLIAM DEAN HOWELLS\\n ENGLISH AS SHE IS TAUGHT\\n A SIMPLIFIED ALPHABET\\n AS CONCERNS INTERPRETING THE DEITY\\n CONCERNING TOBACCO\\n THE BEE\\n TAMING THE BICYCLE\\n IS SHAKESPEARE DEAD?\\n\\n\\n\\n\\n\\nWHAT IS MAN?\\n\\nI\\n\\na. Man the Machine. b. Personal Merit\\n\\n[The Old Man and the Young Man had been conversing. The Old Man had\\nasserted that the hu'"
      ]
     },
     "execution_count": 34,
     "metadata": {},
     "output_type": "execute_result"
    }
   ],
   "source": [
    "bins_of_man[0]"
   ]
  },
  {
   "cell_type": "markdown",
   "id": "0a966720-de38-4d54-8059-74864dfe10a3",
   "metadata": {},
   "source": [
    "Question 4.12: Write a one line code to extract the first three items in the above list. "
   ]
  },
  {
   "cell_type": "code",
   "execution_count": 35,
   "id": "b266d413-f497-407f-994a-b648e8ded1f6",
   "metadata": {},
   "outputs": [
    {
     "data": {
      "text/plain": [
       "['\\n\\nTitle: What Is Man? And Other Stories\\n\\nAuthor: Mark Twain (Samuel Clemens)\\n\\nRelease Date: June, 1993 [eBook #70]\\n[Most recently updated: May 26, 2022]\\n\\nLanguage: English\\n\\n\\nProduced by: An Anonymous Volunteer and David Widger\\n\\n*** START OF THE PROJECT GUTENBERG EBOOK WHAT IS MAN? AND OTHER STORIES ***\\n\\n\\n\\n\\nWHAT IS MAN?\\nAND OTHER ESSAYS\\n\\nBy Mark Twain\\n\\n(Samuel Langhorne Clemens, 1835-1910)\\n\\n\\nCONTENTS\\n\\n WHAT IS MAN?\\n THE DEATH OF JEAN\\n THE TURNING-POINT OF MY LIFE\\n HOW TO MAKE HISTORY DATES STICK\\n THE MEMORABLE ASSASSINATION\\n A SCRAP OF CURIOUS HISTORY\\n SWITZERLAND, THE CRADLE OF LIBERTY\\n AT THE SHRINE OF ST. WAGNER\\n WILLIAM DEAN HOWELLS\\n ENGLISH AS SHE IS TAUGHT\\n A SIMPLIFIED ALPHABET\\n AS CONCERNS INTERPRETING THE DEITY\\n CONCERNING TOBACCO\\n THE BEE\\n TAMING THE BICYCLE\\n IS SHAKESPEARE DEAD?\\n\\n\\n\\n\\n\\nWHAT IS MAN?\\n\\nI\\n\\na. Man the Machine. b. Personal Merit\\n\\n[The Old Man and the Young Man had been conversing. The Old Man had\\nasserted that the hu',\n",
       " ' being is merely a machine, and nothing more.\\nThe Young Man objected, and asked him to go into particulars and\\nfurnish his reasons for his position.]\\n\\nOld Man. What are the materials of which a steam-engine is made?\\n\\nYoung Man. Iron, steel, brass, white-metal, and so on.\\n\\nO.M. Where are these found?\\n\\nY.M. In the rocks.\\n\\nO.M. In a pure state?\\n\\nY.M. No—in ores.\\n\\nO.M. Are the metals suddenly deposited in the ores?\\n\\nY.M. No—it is the patient work of countless ages.\\n\\nO.M. You could make the engine out of the rocks themselves?\\n\\nY.M. Yes, a brittle one and not valuable.\\n\\nO.M. You would not require much, of such an engine as that?\\n\\nY.M. No—substantially nothing.\\n\\nO.M. To make a fine and capable engine, how would you proceed?\\n\\nY.M. Drive tunnels and shafts into the hills; blast out the iron ore;\\ncrush it, smelt it, reduce it to pig-iron; put some of it through the\\nBessemer process and make steel of it. Mine and treat and combine\\nseveral metals of which brass is made.\\n\\nO.M. Then?\\n\\nY.M. Out of the perfected result, build the fine engine.\\n\\nO.M. You would require much of this one?\\n\\nY.M. Oh, indeed yes.\\n\\nO.M. It could drive lathes, drills, planers, punches, polishers, in a\\nword all the cunning machines of a great factory?\\n\\nY.M. It could.\\n\\nO.M. What could the stone engine do?\\n\\nY.M. Drive a sewing-machine, possibly—nothing more, perhaps.\\n\\nO.M. Men would admire the other engine and rapturously praise it?\\n\\nY.M. Yes.\\n\\nO.M. But not the stone one?\\n\\nY.M. No.\\n\\nO.M. The merits of the metal machine would be far above those of the\\nstone one?\\n\\nY.M. Of course.\\n\\nO.M. Personal merits?\\n\\nY.M. _Personal_ merits? How do you mean?\\n\\nO.M. It would be personally entitled to the credit of its own\\nperfor',\n",
       " 'ce?\\n\\nY.M. The engine? Certainly not.\\n\\nO.M. Why not?\\n\\nY.M. Because its perfor']"
      ]
     },
     "execution_count": 35,
     "metadata": {},
     "output_type": "execute_result"
    }
   ],
   "source": [
    "bins_of_man[0:3]"
   ]
  },
  {
   "cell_type": "markdown",
   "id": "1cf19c4e-87c4-4296-8efb-16c59db50e79",
   "metadata": {},
   "source": [
    "Question 4.13: Let us now extract all the text in the first entry of the list and store it as bin_1."
   ]
  },
  {
   "cell_type": "code",
   "execution_count": 36,
   "id": "05c3a28d-ec21-4117-af78-7d263d250fb1",
   "metadata": {},
   "outputs": [
    {
     "data": {
      "text/plain": [
       "'\\n\\nTitle: What Is Man? And Other Stories\\n\\nAuthor: Mark Twain (Samuel Clemens)\\n\\nRelease Date: June, 1993 [eBook #70]\\n[Most recently updated: May 26, 2022]\\n\\nLanguage: English\\n\\n\\nProduced by: An Anonymous Volunteer and David Widger\\n\\n*** START OF THE PROJECT GUTENBERG EBOOK WHAT IS MAN? AND OTHER STORIES ***\\n\\n\\n\\n\\nWHAT IS MAN?\\nAND OTHER ESSAYS\\n\\nBy Mark Twain\\n\\n(Samuel Langhorne Clemens, 1835-1910)\\n\\n\\nCONTENTS\\n\\n WHAT IS MAN?\\n THE DEATH OF JEAN\\n THE TURNING-POINT OF MY LIFE\\n HOW TO MAKE HISTORY DATES STICK\\n THE MEMORABLE ASSASSINATION\\n A SCRAP OF CURIOUS HISTORY\\n SWITZERLAND, THE CRADLE OF LIBERTY\\n AT THE SHRINE OF ST. WAGNER\\n WILLIAM DEAN HOWELLS\\n ENGLISH AS SHE IS TAUGHT\\n A SIMPLIFIED ALPHABET\\n AS CONCERNS INTERPRETING THE DEITY\\n CONCERNING TOBACCO\\n THE BEE\\n TAMING THE BICYCLE\\n IS SHAKESPEARE DEAD?\\n\\n\\n\\n\\n\\nWHAT IS MAN?\\n\\nI\\n\\na. Man the Machine. b. Personal Merit\\n\\n[The Old Man and the Young Man had been conversing. The Old Man had\\nasserted that the hu'"
      ]
     },
     "execution_count": 36,
     "metadata": {},
     "output_type": "execute_result"
    }
   ],
   "source": [
    "bin_1 = bins_of_man[0]\n",
    "bin_1"
   ]
  },
  {
   "cell_type": "markdown",
   "id": "8dda6b82-d889-4f14-8ab4-93df91a62d88",
   "metadata": {},
   "source": [
    "Question 4.14: Write one line code that removes the string \"Man\" from the first 100 characters (letters) of the text and replaces it with the string \"Monkey\". Store this as`nfirst_100`. "
   ]
  },
  {
   "cell_type": "code",
   "execution_count": 37,
   "id": "0fdfd79e-6652-4a6b-b520-9dc3b2c5a755",
   "metadata": {},
   "outputs": [
    {
     "data": {
      "text/plain": [
       "'\\n\\nTitle: What Is Man? And Other Stories\\n\\nAuthor: Mark Twain (Samuel Clemens)\\n\\nRelease Date: June, 19'"
      ]
     },
     "execution_count": 37,
     "metadata": {},
     "output_type": "execute_result"
    }
   ],
   "source": [
    "first_100"
   ]
  },
  {
   "cell_type": "code",
   "execution_count": 38,
   "id": "43e10736-3bed-4395-834d-066bcfa4f42a",
   "metadata": {},
   "outputs": [
    {
     "data": {
      "text/plain": [
       "'\\n\\nTitle: What Is Monkey? And Other Stories\\n\\nAuthor: Mark Twain (Samuel Clemens)\\n\\nRelease Date: June, 19'"
      ]
     },
     "execution_count": 38,
     "metadata": {},
     "output_type": "execute_result"
    }
   ],
   "source": [
    "nfirst_100 = first_100.replace(\"Man\", \"Monkey\")\n",
    "nfirst_100"
   ]
  },
  {
   "cell_type": "markdown",
   "id": "01a60c50-ac71-4258-9784-db88f407280c",
   "metadata": {},
   "source": [
    "Question 4.15: What this does? `first_100[::2]`"
   ]
  },
  {
   "cell_type": "code",
   "execution_count": 40,
   "id": "4053fd79-829e-449f-8109-378c61e574c0",
   "metadata": {},
   "outputs": [
    {
     "data": {
      "text/plain": [
       "'\\nTte htI a?AdOhrSois\\nuhr akTan(aulCees\\nRlaeDt:Jn,1'"
      ]
     },
     "execution_count": 40,
     "metadata": {},
     "output_type": "execute_result"
    }
   ],
   "source": [
    "first_100[::2]"
   ]
  },
  {
   "cell_type": "markdown",
   "id": "e61eb681-e562-4fbf-bafe-fb412c0061e3",
   "metadata": {},
   "source": [
    "Question 4.16: Write a code to extract characters (letters) 1 through 5 from the 10th item of the list `bins_of_man` and store it as `sentence`. "
   ]
  },
  {
   "cell_type": "code",
   "execution_count": 41,
   "id": "7d0203e2-3cf7-4843-9da6-b02212aed3fd",
   "metadata": {},
   "outputs": [
    {
     "data": {
      "text/plain": [
       "' the '"
      ]
     },
     "execution_count": 41,
     "metadata": {},
     "output_type": "execute_result"
    }
   ],
   "source": [
    "sentence = bins_of_man[9][0:5]\n",
    "sentence "
   ]
  },
  {
   "cell_type": "markdown",
   "id": "3b15ded9-0589-49c6-8a80-c0cad21713fa",
   "metadata": {},
   "source": [
    "<br>\n",
    "<br>"
   ]
  },
  {
   "cell_type": "markdown",
   "id": "509a2f89-8036-4778-b42f-ea3397c35805",
   "metadata": {},
   "source": [
    "# 5. Take Home Exercise: ***Sentiment Analysis***"
   ]
  },
  {
   "cell_type": "markdown",
   "id": "bc913c34-1f97-4c48-b4fa-3d26b91f8317",
   "metadata": {},
   "source": [
    "Let us now apply string methods to solve a real life problem. In particular, we will next use string\n",
    "methods to guess/estimate ***\"financial market sentiment\"***. Financial Market Sentiment Analysis is a very popular (and important) technique to predict market movements (up or down) for various investors and traders."
   ]
  },
  {
   "cell_type": "markdown",
   "id": "d3fef47c-9b88-46aa-ae0d-09e3fb3087ea",
   "metadata": {},
   "source": [
    "Let us predict Equity markets sentiment based on the latest third quarter \"Global Equity Views\" by\n",
    "J.P. Morgan Assest Management <https://am.jpmorgan.com/us/en/asset-management/adv/insights/portfolio-insights/asset-class-views/equity/>.\n",
    "\n",
    "Please run the cells below. It will convert the pdf data (J.P. Morgan's `Global Equity Views` report) to a Python string named `pdf_string`."
   ]
  },
  {
   "cell_type": "code",
   "execution_count": 42,
   "id": "65a3f146-a41d-493d-b21c-39c475ff1fe0",
   "metadata": {},
   "outputs": [
    {
     "name": "stdout",
     "output_type": "stream",
     "text": [
      "Requirement already satisfied: pypdf in /nfs/roberts/project/ydata1230f/shared/conda_envs/ydata1230_env/lib/python3.13/site-packages (6.0.0)\n",
      "Note: you may need to restart the kernel to use updated packages.\n"
     ]
    }
   ],
   "source": [
    "pip install pypdf"
   ]
  },
  {
   "cell_type": "code",
   "execution_count": 43,
   "id": "0a364079-1b72-48b1-812e-3c39f4e7676b",
   "metadata": {},
   "outputs": [],
   "source": [
    "\n",
    "import pypdf\n",
    "\n",
    "# Define coverter function\n",
    "def pdf_to_string(pdf_path):\n",
    "    text = \"\"\n",
    "    with open(pdf_path, 'rb') as file:\n",
    "        reader = pypdf.PdfReader(file)\n",
    "        for page in reader.pages:\n",
    "            text += page.extract_text()\n",
    "    return text\n",
    "\n",
    "# Use function \n",
    "pdf_string = pdf_to_string(\"jpmorgan_global_equity.pdf\")\n"
   ]
  },
  {
   "cell_type": "code",
   "execution_count": 45,
   "id": "9e415e74-b7e4-4c72-9d7d-714c0d054138",
   "metadata": {},
   "outputs": [
    {
     "name": "stdout",
     "output_type": "stream",
     "text": [
      "<class 'str'>\n",
      "Asset Class Views\n",
      "Global Equity Views 3Q 2025\n",
      "In brief\n",
      "Since our last Global Equity Investors Quarte\n"
     ]
    }
   ],
   "source": [
    "# Check the type of pdf_string and print first 100 characters \n",
    "\n",
    "print(type(pdf_string))\n",
    "print(pdf_string[0:100])\n"
   ]
  },
  {
   "cell_type": "markdown",
   "id": "ea82f7ce-64a9-45a7-8879-128675010159",
   "metadata": {},
   "source": [
    "**Step 1. The first step in sentiment analysis (based on text data) is to define \"positive\" and \"negative\" keywords.**"
   ]
  },
  {
   "cell_type": "code",
   "execution_count": 46,
   "id": "4b46fe1d-8958-4c62-ba5e-fab8a6ca623e",
   "metadata": {},
   "outputs": [],
   "source": [
    "# Construct two lists namely \"positive_words\" and \"negative_words\" containing postive \n",
    "# and negative words respectively in the context of financial markets. \n",
    "\n",
    "# add more positive words....\n",
    "positive_words = [\"up\", \"bullish\", \"great\", \"high\"]\n",
    "\n",
    "# add more negative words....\n",
    "negative_words = [\"low\", \"bearish\", \"flop\", \"low\"]"
   ]
  },
  {
   "cell_type": "markdown",
   "id": "8c0a94a2-efc6-4411-8d04-832605f0a3c4",
   "metadata": {},
   "source": [
    "**Step 2. Let us now count how many times these positive and negative words show up in the J.P. Morgan report. Save your counts as `positive_score` and `negative_score`.**"
   ]
  },
  {
   "cell_type": "code",
   "execution_count": 47,
   "id": "8efa2863-f1fc-480f-80c3-54c65e769a0e",
   "metadata": {},
   "outputs": [],
   "source": [
    "\n",
    "\n",
    "# Convert text to lowercase for case-insensitive matching\n",
    "text_lower = pdf_string.lower()\n",
    "\n",
    "\n",
    "# Count positive sentiment \n",
    "positive_score = text_lower.count(\"up\") + \\\n",
    "                 text_lower.count(\"bullish\") + \\\n",
    "                 text_lower.count(\"great\") + \\\n",
    "                 text_lower.count(\"high\") \n",
    "                 \n",
    "\n",
    "# Count negative sentiment\n",
    "negative_score = text_lower.count(\"low\") + \\\n",
    "                 text_lower.count(\"bearish\") + \\\n",
    "                 text_lower.count(\"flop\") + \\\n",
    "                 text_lower.count(\"low\") \n",
    "                 \n",
    "\n"
   ]
  },
  {
   "cell_type": "markdown",
   "id": "d21070cf-27bb-4c46-a8d9-92423ebb09b6",
   "metadata": {},
   "source": [
    "**Step 3. Compute Sentiment Score where sentiment score is defined as `sentiment_score = positive_score - negative_score`.**"
   ]
  },
  {
   "cell_type": "code",
   "execution_count": 48,
   "id": "7c2a2022-2729-4fbf-aba1-9292d33dc32f",
   "metadata": {},
   "outputs": [],
   "source": [
    "# Compute Sentiment Score \n",
    "\n",
    "sentiment_score = positive_score - negative_score"
   ]
  },
  {
   "cell_type": "markdown",
   "id": "d6db7c00-2540-4551-adb3-466b47e117c2",
   "metadata": {},
   "source": [
    "**Step 4. Predict Sentiment**\n",
    "\n",
    "- If `sentiment_score > 0`, then predicted sentiment is positive.\n",
    "- If `sentiment_score < 0`, then predicted sentiment is negative.\n",
    "- If `sentiment_score = 0`, then predicted sentiment is neutral."
   ]
  },
  {
   "cell_type": "code",
   "execution_count": 50,
   "id": "7f27bd7b-ee75-4f6a-aa91-a7b11d44c4e3",
   "metadata": {},
   "outputs": [
    {
     "name": "stdout",
     "output_type": "stream",
     "text": [
      "3\n",
      "Predicted Sentiment is Positive\n"
     ]
    }
   ],
   "source": [
    "# Print sentiment score\n",
    "\n",
    "print(sentiment_score)\n",
    "\n",
    "# Print sentiment prediction based on the score above\n",
    "\n",
    "print(\"Predicted Sentiment is Positive\")\n"
   ]
  },
  {
   "cell_type": "markdown",
   "id": "de6f1d38-1d97-4449-a5c4-4be98b60ba99",
   "metadata": {},
   "source": [
    "**Open Question: Based on your Sentiment Prediction above, will you invest money in the Equity markets \n",
    "in the near future? Justify your answer below in 2 or 3 lines.** \n",
    "\n",
    "Maybe not. We need a more detailed and thorough sentiment analysis which takes into account mutiple sources (news, SEC filings, etc.) to predict sentiment, among other things. Additionally, Sentiment Analysis is one factor that one might consider before investing/trading. There are more factors such as momentum, market fundamentals, etc. that might play an equally important role in investing/trading decisions. "
   ]
  },
  {
   "cell_type": "markdown",
   "id": "18cce6e5-4a7f-46f7-a8dc-2f6e5ff863ab",
   "metadata": {},
   "source": [
    "***Note: Later in the semester, we will come back to this topic of Sentiment Analysis and learn how to predict sentiment based on multiple documents and sources (news, twitter feed, SEC filings, etc.). In particular, we will need to learn how to write our own functions/for loops in Python.***"
   ]
  }
 ],
 "metadata": {
  "kernelspec": {
   "display_name": "Python 3 (ipykernel)",
   "language": "python",
   "name": "python3"
  },
  "language_info": {
   "codemirror_mode": {
    "name": "ipython",
    "version": 3
   },
   "file_extension": ".py",
   "mimetype": "text/x-python",
   "name": "python",
   "nbconvert_exporter": "python",
   "pygments_lexer": "ipython3",
   "version": "3.13.5"
  }
 },
 "nbformat": 4,
 "nbformat_minor": 5
}
