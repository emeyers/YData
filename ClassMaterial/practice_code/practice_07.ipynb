{
 "cells": [
  {
   "cell_type": "markdown",
   "id": "a796fa08-5241-4dfd-94aa-f7950466010e",
   "metadata": {},
   "source": [
    "Welcome to (Preceptor) session 7! "
   ]
  },
  {
   "cell_type": "code",
   "execution_count": 14,
   "id": "cc4b3ba6-b975-4612-a8a6-6682006aa27b",
   "metadata": {},
   "outputs": [],
   "source": [
    "import YData \n",
    "\n",
    "#YData.download_practice_code(7)                  # Without Answers. \n",
    "#YData.download_practice_code(7, True)            # With Answers (won't work until Friday eve).\n",
    "\n",
    "import numpy as np\n",
    "import pandas as pd\n",
    "import matplotlib.pyplot as plt\n",
    "\n",
    "%matplotlib inline\n",
    "\n",
    "\n",
    "\n"
   ]
  },
  {
   "cell_type": "markdown",
   "id": "44aec279-f24b-4360-9e4d-165ae8b55a62",
   "metadata": {},
   "source": [
    "# Functions"
   ]
  },
  {
   "cell_type": "markdown",
   "id": "e26854a8-18ae-470a-ae2f-c66fa2308de9",
   "metadata": {},
   "source": [
    "#### 1. Write a function that takes in two real numbers `x` and `y`, and computes $ |x-y| $. "
   ]
  },
  {
   "cell_type": "code",
   "execution_count": 2,
   "id": "9a2a303e-0a69-4a0b-8bd6-02bab3d49c34",
   "metadata": {},
   "outputs": [],
   "source": [
    "# Write your code here.\n",
    "\n",
    "\n",
    "\n",
    "\n",
    "\n",
    "\n",
    "\n"
   ]
  },
  {
   "cell_type": "code",
   "execution_count": 3,
   "id": "852415e1-1cd0-42b3-8ff1-18043c1d2642",
   "metadata": {},
   "outputs": [],
   "source": [
    "# Check your function. \n",
    "\n",
    "\n",
    "\n"
   ]
  },
  {
   "cell_type": "markdown",
   "id": "6a227597-0ff6-4176-ba52-82232fdc2e0e",
   "metadata": {},
   "source": [
    "#### 2. Given a real number `x`, write a function to compute its distance to zero on the real number line. \n",
    "\n",
    "\n",
    "\n",
    "\n"
   ]
  },
  {
   "cell_type": "code",
   "execution_count": 4,
   "id": "271cf3c4-d9bb-43de-9bcd-acfa879f09d7",
   "metadata": {},
   "outputs": [],
   "source": [
    "# Write your code here: \n",
    "\n",
    "\n",
    "\n",
    "\n",
    "\n",
    "\n"
   ]
  },
  {
   "cell_type": "code",
   "execution_count": 5,
   "id": "ef67019e-b346-4adf-834f-8b556c2d807e",
   "metadata": {},
   "outputs": [],
   "source": [
    "# Check your function. \n",
    "\n",
    "\n",
    "\n"
   ]
  },
  {
   "cell_type": "markdown",
   "id": "51bff697-2590-4282-8bfe-f304b003143b",
   "metadata": {},
   "source": [
    "#### 3. Given a real number `x`, write a function that would output: \n",
    "- its type (int or float),\n",
    "- and its square root, provided `x` is non-negative and \"NA\" otherwise. "
   ]
  },
  {
   "cell_type": "code",
   "execution_count": 13,
   "id": "4647d3ac-8fc9-47b1-bbcb-feef5af41ef6",
   "metadata": {},
   "outputs": [],
   "source": [
    "# Write your code here: \n",
    "\n",
    "\n",
    "\n",
    "\n",
    "\n",
    "     \n",
    "    "
   ]
  },
  {
   "cell_type": "code",
   "execution_count": 6,
   "id": "1f300d10-0e0d-458b-bc3c-0add65217306",
   "metadata": {},
   "outputs": [],
   "source": [
    "# Check your function here. \n",
    "\n",
    "\n",
    "\n",
    "\n"
   ]
  },
  {
   "cell_type": "markdown",
   "id": "4a4a6394-f1cf-444a-a076-f79108c4b2f7",
   "metadata": {},
   "source": [
    "#### 4. Consider a list `my_list = [2, 3, 5, 7, 11]`. Write a function that will take in an `np.` function (for example, `np.sum`) and output its application on `my_list`."
   ]
  },
  {
   "cell_type": "code",
   "execution_count": 15,
   "id": "47759eaa-4ac6-4454-ae2a-8f03184f7b0d",
   "metadata": {},
   "outputs": [],
   "source": [
    "# Write your code here. \n",
    "\n",
    "\n",
    "\n",
    "\n",
    "\n",
    "\n",
    "\n"
   ]
  },
  {
   "cell_type": "code",
   "execution_count": 7,
   "id": "ce26690b-f4be-4d85-996c-cd51bce41774",
   "metadata": {},
   "outputs": [],
   "source": [
    "# Apply np.median to my_list. \n",
    "\n"
   ]
  },
  {
   "cell_type": "markdown",
   "id": "11720b99-e8a1-4697-9f4e-b2f20d349e66",
   "metadata": {},
   "source": [
    "#### 5. Create a function `flip_coins(n, prob)` that generates `n` random numbers (between 0 and 1) and returns the proportion of numbers that are less than `prob`. "
   ]
  },
  {
   "cell_type": "code",
   "execution_count": 8,
   "id": "36cf9fdf-b081-4241-835b-b1558532b7f5",
   "metadata": {},
   "outputs": [],
   "source": [
    "# Wtite your code here. \n",
    "\n",
    "\n",
    "\n",
    "\n",
    "\n",
    "\n",
    "\n"
   ]
  },
  {
   "cell_type": "code",
   "execution_count": 9,
   "id": "b9b4cbc7-700a-4157-bc78-ac443d901748",
   "metadata": {},
   "outputs": [],
   "source": [
    "# Check your function here. \n",
    "# Try large values of \"n\" and see if the output agrees with your intuition. \n",
    "\n",
    "\n"
   ]
  },
  {
   "cell_type": "markdown",
   "id": "fa9f336c-b6b2-4862-9d72-e363dac9d158",
   "metadata": {},
   "source": [
    "#### 6. Write a Python function that takes a string as input and returns a dictionary containing the number of uppercase and lowercase characters in the string. Any characters that cannot be categorized as uppercase or lowercase (e.g., symbols) should be counted as \"other\".\n",
    "- Hint: Use may want to use `my_string.isupper()` and `my_string.islower()` methods that we learnt earlier in the semester.\n",
    "- Hint: The plus-equals operator `+=` provides a convenient way to add a value to an existing variable and assign the new value back to the same variable. \n",
    "\n"
   ]
  },
  {
   "cell_type": "code",
   "execution_count": 10,
   "id": "f608fc38-cf8a-4974-b7dd-b86d590dbe78",
   "metadata": {},
   "outputs": [],
   "source": [
    "# Write your code here. \n",
    "\n",
    "\n",
    "\n",
    "\n",
    "\n",
    "\n",
    "\n",
    "# Check your function here. \n",
    " \n",
    "\n",
    "\n"
   ]
  },
  {
   "cell_type": "markdown",
   "id": "c7d36d27-b255-45f4-a9e2-71dbde383e35",
   "metadata": {},
   "source": [
    "#### 7. Write a Python function that takes a list of strings as input and returns another list containing the unique elements from the input list, sorted in alphabetical order.\n",
    "Hints: \n",
    "- First, create a set from the input list using `set(input_list)`. Since Python sets have no duplicates in them, this automatically removes duplicate entries from the list.\n",
    "- Afterwards, sort the unique elements using the `sorted()`, which always returns a list. "
   ]
  },
  {
   "cell_type": "code",
   "execution_count": 11,
   "id": "0164401c-a7bc-4142-8547-6e0381766beb",
   "metadata": {},
   "outputs": [],
   "source": [
    "# Write your code here. \n",
    "\n",
    "\n",
    "\n",
    "\n",
    "\n",
    "\n",
    "\n",
    "# Check your code here. \n",
    " \n",
    "\n",
    "\n",
    "\n"
   ]
  },
  {
   "cell_type": "markdown",
   "id": "5bcb0f6c-ff6b-48ea-8b7e-2aee98371966",
   "metadata": {},
   "source": [
    "## 8. Let us write our own relplot() function! "
   ]
  },
  {
   "cell_type": "code",
   "execution_count": 12,
   "id": "b04cf48e-d64e-4374-978b-f911cb5c52ae",
   "metadata": {},
   "outputs": [
    {
     "data": {
      "text/html": [
       "<div>\n",
       "<style scoped>\n",
       "    .dataframe tbody tr th:only-of-type {\n",
       "        vertical-align: middle;\n",
       "    }\n",
       "\n",
       "    .dataframe tbody tr th {\n",
       "        vertical-align: top;\n",
       "    }\n",
       "\n",
       "    .dataframe thead th {\n",
       "        text-align: right;\n",
       "    }\n",
       "</style>\n",
       "<table border=\"1\" class=\"dataframe\">\n",
       "  <thead>\n",
       "    <tr style=\"text-align: right;\">\n",
       "      <th></th>\n",
       "      <th>country</th>\n",
       "      <th>continent</th>\n",
       "      <th>year</th>\n",
       "      <th>lifeExp</th>\n",
       "      <th>pop</th>\n",
       "      <th>gdpPercap</th>\n",
       "      <th>iso_alpha</th>\n",
       "      <th>iso_num</th>\n",
       "    </tr>\n",
       "  </thead>\n",
       "  <tbody>\n",
       "    <tr>\n",
       "      <th>11</th>\n",
       "      <td>Afghanistan</td>\n",
       "      <td>Asia</td>\n",
       "      <td>2007</td>\n",
       "      <td>43.828</td>\n",
       "      <td>31889923</td>\n",
       "      <td>974.580338</td>\n",
       "      <td>AFG</td>\n",
       "      <td>4</td>\n",
       "    </tr>\n",
       "    <tr>\n",
       "      <th>23</th>\n",
       "      <td>Albania</td>\n",
       "      <td>Europe</td>\n",
       "      <td>2007</td>\n",
       "      <td>76.423</td>\n",
       "      <td>3600523</td>\n",
       "      <td>5937.029526</td>\n",
       "      <td>ALB</td>\n",
       "      <td>8</td>\n",
       "    </tr>\n",
       "    <tr>\n",
       "      <th>35</th>\n",
       "      <td>Algeria</td>\n",
       "      <td>Africa</td>\n",
       "      <td>2007</td>\n",
       "      <td>72.301</td>\n",
       "      <td>33333216</td>\n",
       "      <td>6223.367465</td>\n",
       "      <td>DZA</td>\n",
       "      <td>12</td>\n",
       "    </tr>\n",
       "  </tbody>\n",
       "</table>\n",
       "</div>"
      ],
      "text/plain": [
       "        country continent  year  lifeExp       pop    gdpPercap iso_alpha  \\\n",
       "11  Afghanistan      Asia  2007   43.828  31889923   974.580338       AFG   \n",
       "23      Albania    Europe  2007   76.423   3600523  5937.029526       ALB   \n",
       "35      Algeria    Africa  2007   72.301  33333216  6223.367465       DZA   \n",
       "\n",
       "    iso_num  \n",
       "11        4  \n",
       "23        8  \n",
       "35       12  "
      ]
     },
     "execution_count": 12,
     "metadata": {},
     "output_type": "execute_result"
    }
   ],
   "source": [
    "import plotly.express as px\n",
    "\n",
    "gapminder = px.data.gapminder()   # the plotly package comes with the gapminder data\n",
    "\n",
    "gapminder_2007 = gapminder.query(\"year==2007\")\n",
    "\n",
    "gapminder_2007.head(3)"
   ]
  },
  {
   "cell_type": "code",
   "execution_count": 15,
   "id": "8d3a5de9-b806-4b6e-93e8-61a7c227d12f",
   "metadata": {},
   "outputs": [
    {
     "data": {
      "image/png": "[encoded data removed]",
      "text/plain": [
       "<Figure size 640x480 with 1 Axes>"
      ]
     },
     "metadata": {},
     "output_type": "display_data"
    }
   ],
   "source": [
    "# Since relplot() is built on top of plt.scatter() function, \n",
    "# let us first use plt.scatter to create a plot. \n",
    "\n",
    "plt.scatter(gapminder_2007[\"gdpPercap\"], \n",
    "            gapminder_2007[\"lifeExp\"],\n",
    "            s = gapminder_2007[\"pop\"]/10**6,\n",
    "            alpha = .5);\n",
    "\n",
    "plt.xlabel(\"GDP per capita\");\n",
    "plt.ylabel(\"Life expectancy\");\n"
   ]
  },
  {
   "cell_type": "code",
   "execution_count": 16,
   "id": "6c2d82ae-bc7b-484a-ad9d-fce9cedfbcba",
   "metadata": {},
   "outputs": [],
   "source": [
    "# Step 1.\n",
    "\n",
    "# Write a Python function called \"my_relplot_1\" that will \n",
    "# create a scatter plot with GDP per capita on the x-axis \n",
    "# and Life Expectancy on the y-axis. \n",
    "\n",
    "\n",
    "\n",
    "\n",
    "\n",
    "\n",
    "\n",
    "\n",
    "\n"
   ]
  },
  {
   "cell_type": "code",
   "execution_count": 17,
   "id": "cef2880f-e88b-483a-a187-d0e99cf92c30",
   "metadata": {},
   "outputs": [],
   "source": [
    "# Step 2. \n",
    "\n",
    "# Write down a Python function called \"my_relplot_2\" that will \n",
    "# create scatter plots with dots of different sizes with respect to\n",
    "# column \"pop\".\n",
    "# In other words, you need add functionality of \"s = \" in plt.plot() to your \n",
    "# function called \"my_relplot_2\".\n",
    "\n",
    "\n",
    "\n",
    "\n",
    "\n",
    "\n",
    "\n",
    "\n"
   ]
  },
  {
   "cell_type": "code",
   "execution_count": 18,
   "id": "c5083371-21d8-458f-9221-6369c968a028",
   "metadata": {},
   "outputs": [],
   "source": [
    "# Step 3. \n",
    "\n",
    "# Finally, write down a function called \"my_relplot_3\" that will Group \n",
    "# variable that will produce elements with different colors with respect to \n",
    "# the column \"continent\".\n",
    "\n",
    "# In other words, you need to add functionality of \"hue = \" in plt.plot() to your function \n",
    "# called \"my_relplot_3\".\n",
    "\n",
    "\n",
    "\n",
    "\n",
    "\n",
    "\n",
    "\n",
    "\n",
    "\n",
    "\n",
    "\n",
    "\n",
    "    "
   ]
  },
  {
   "cell_type": "markdown",
   "id": "4a8f9f58-27f2-4e4a-86d1-876341c80fa2",
   "metadata": {},
   "source": [
    "# Sampling Distribution. "
   ]
  },
  {
   "cell_type": "code",
   "execution_count": null,
   "id": "e60938f7-d38b-4005-8148-53b957982f33",
   "metadata": {},
   "outputs": [],
   "source": []
  }
 ],
 "metadata": {
  "kernelspec": {
   "display_name": "Python 3 (ipykernel)",
   "language": "python",
   "name": "python3"
  },
  "language_info": {
   "codemirror_mode": {
    "name": "ipython",
    "version": 3
   },
   "file_extension": ".py",
   "mimetype": "text/x-python",
   "name": "python",
   "nbconvert_exporter": "python",
   "pygments_lexer": "ipython3",
   "version": "3.11.7"
  }
 },
 "nbformat": 4,
 "nbformat_minor": 5
}
