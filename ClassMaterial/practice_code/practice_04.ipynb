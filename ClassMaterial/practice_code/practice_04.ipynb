{
 "cells": [
  {
   "cell_type": "markdown",
   "id": "f430f056-a72b-440b-8392-090e9dbd87f5",
   "metadata": {},
   "source": [
    "**Practice Session 4**"
   ]
  },
  {
   "cell_type": "code",
   "execution_count": 1,
   "id": "51d37dc2-c47f-4b50-bdc1-d626f0cd310f",
   "metadata": {},
   "outputs": [],
   "source": [
    "import YData\n",
    "\n",
    "\n",
    "#### Download Practice 4 Jupyter Notebook #### \n",
    "#YData.download.download_practice_code(4)                       # Without Answers. \n",
    "#YData.download.download_practice_code(4, true)                 # With Answers (won't work until Friday eve).\n",
    "\n",
    "\n",
    "\n",
    "#### Download Data #### \n",
    "YData.download_data(\"data_science_salaries_2.csv\")\n",
    "YData.download_data(\"GDP.csv\")\n",
    "\n",
    "\n",
    "\n",
    "#### Import Packages #### \n",
    "import matplotlib.pyplot as plt \n",
    "import numpy as np\n",
    "import pandas as pd"
   ]
  },
  {
   "cell_type": "markdown",
   "id": "3896bbe0-e919-4150-8c0c-fcc5d1c7790e",
   "metadata": {},
   "source": [
    "The next few cells contain some of the important functions/methods related to the Pandas package."
   ]
  },
  {
   "cell_type": "code",
   "execution_count": null,
   "id": "1d26e40c-e310-47ba-95ca-f9a9a5b45949",
   "metadata": {},
   "outputs": [],
   "source": [
    "# In what follows, X_df and Y_df are arbitrary/placeholder \n",
    "# Pandas DataFrames. z_series is an abrbitrary/placeholder Pandas Series.  \n",
    "# Most of the functions and methods below work for both DataFrames and Series. \n",
    "\n",
    "\n",
    "\n",
    "\n",
    "\n",
    "# For importing Pandas Library as pd. \n",
    "\n",
    "import pandas as pd\n",
    "\n",
    "\n",
    "\n",
    "\n",
    "\n",
    "\n",
    "\n",
    "# For reading data into the notebook as Pandas DataFrame from a .csv file. \n",
    "\n",
    "pd.read_csv(\"file_name.csv\")                                # With default index. \n",
    "pd.read_csv(\"file_name.csv\", index_col = \"\")                # With index set to your choice of column in the DataFrame. \n",
    "\n",
    "\n",
    "\n",
    "\n",
    "\n",
    "\n",
    "# For checking some basic features of the DataFrame. \n",
    "\n",
    "X_df.head()                                                 # First five rows.                       \n",
    "X_df.tail()                                                 # Last five rows. \n",
    "X_df                                                        # First five and the last five rows. \n",
    "display(type(X_df), X_df.dytpes, X_df.shape)                # To check type, dtypes, and shape of the DataFrame.\n",
    "X_df.info                                                   # Will return basic information about the DataFrame.\n",
    "\n",
    "\n",
    "\n",
    "\n",
    "\n",
    "\n",
    "\n",
    "# Columns. \n",
    "\n",
    "X_df.columns                                                # Will return columns names. \n",
    "\n",
    "X_df.columns.to_numpy()                                     # Will return an ndarray containing column names. \n",
    "col_array = np.array(X_df.columns)                          # Will retuen an ndarray col_array containing column names. \n",
    "\n",
    "X_df.rename(columns = {\"old_name\": \"new_name\"})             # For changing column names. (Doesn't change the original DataFrame.)\n",
    "X_df[\"col_name\"] or X_df.col_name                           # For extracting a column as a Pandas Series.\n",
    "\n",
    "X_df.set_index(\"col_name\")                                  # Deletes old index and sets col_name as the new index.\n",
    "X_df.reset_index()                                          # Will add the index as a separate column and the default index\n",
    "                                                            # as the new index.\n",
    "X_df[\"new_column\"] = z_series                               # Adds z_series as a column to the DataFrame X_df.\n",
    "X_df[[\"\",\"\",....,\"\"]]                                       # Extracts multiple columns as a DataFrame. \n",
    "\n",
    "\n",
    "\n",
    "\n",
    "\n",
    "\n",
    "\n",
    "# Rows.\n",
    "\n",
    "X_df.iloc[]                                  # For extracting via default indexing (0,1,2,....).\n",
    "X_df.loc[]                                   # For extracting via the index. \n",
    "X_df[bool_mask]                              # For extracting via (correctly constructed) boolean mask. \n",
    "\n",
    "\n",
    "\n",
    "\n",
    "\n",
    "\n",
    "\n",
    "\n",
    "# Joining/Merging Dataframes.\n",
    "\n",
    "\n",
    "X_df.join(Y_df, how = \"\")                                       # When there is a common index. \n",
    "                                                                # Will join Dataframes X_df and Y_df using how = \"\" method.\n",
    "                                                                # (how could be \"left\", \"right\", \"inner\", and \"outer\".)\n",
    "\n",
    "\n",
    "                                          \n",
    "X_df.merge(Y_df, how = \"\")                                      # When there is No common index but a common column.\n",
    "\n",
    "                                           \n",
    "X_df.merge(Y_df, how = \"\", left_on = \"\", right_on = \"\")         # When there is No common index nor a common column.\n",
    "                                                                # One needs to specify which columns to align by using\n",
    "                                                                # left_on = \"\" and right_on = \"\".\n",
    "\n",
    "\n",
    "\n",
    "\n",
    "\n",
    "\n",
    "\n",
    "\n",
    "\n",
    "\n",
    "# Computing basic statistics. \n",
    "\n",
    "X_df.sort_values(\"col_name\")                                   # For sorting values with respect to the column col_name. \n",
    "X_df.describe().round()                                        # Returns various statistics for quantitative variables in\n",
    "                                                               # the DataFrame.\n",
    "\n",
    "X_df.groupby(\"col_name\").agg(\"statistic_name\")                 # Computes statistic_name for quantitative variables for \n",
    "                                                               # various groups in col_name. \n",
    "\n",
    "X_df.groupby(\"col_name\").agg(                                  # For computing different statistics for different columns          \n",
    "   new_col1 = (\"col_name1\", \"statistic_name1\"),                # with respect to the same grups in col_name. \n",
    "   new_col2 = (\"col_name2\", \"statistic_name2\"),\n",
    "   new_col3 = (\"col_name3\", \"statistic_name3\")\n",
    ")                                                              \n",
    "\n",
    "\n",
    "\n",
    "\n",
    "pd.Dataframe # For creating a Pandas DataFrame from a dictionary, for example. \n",
    "my_df.sample(n = ) # Returns a random sample of items from an axis of object. \n",
    "\n",
    "\n",
    "\n"
   ]
  },
  {
   "cell_type": "markdown",
   "id": "5db547fd-8094-4431-9a8a-65c91341c09b",
   "metadata": {},
   "source": [
    "<br>\n",
    "<br>\n",
    "<br>\n",
    "<br>\n",
    "<br>\n",
    "<br>"
   ]
  },
  {
   "cell_type": "markdown",
   "id": "e8b17dbc-65f2-4a64-a115-33b835abe283",
   "metadata": {},
   "source": [
    "***Please complete this notebook by filling in the cells provided.***"
   ]
  },
  {
   "cell_type": "markdown",
   "id": "28c11156-dfcf-4f13-8570-d5184f8c1788",
   "metadata": {},
   "source": [
    "# 1. Pandas DataFrame - Basics "
   ]
  },
  {
   "cell_type": "code",
   "execution_count": 54,
   "id": "db843afb-1c18-4c55-8a39-1cdf271d6159",
   "metadata": {},
   "outputs": [],
   "source": [
    "# Read the data (data_science_salaries_2.csv) as Pandas DataFrame. \n",
    "# Store it as salaries_df.\n",
    "\n",
    "\n",
    "\n",
    "\n"
   ]
  },
  {
   "cell_type": "code",
   "execution_count": 55,
   "id": "192cae6b-3f77-43a2-b966-470af8db9134",
   "metadata": {},
   "outputs": [],
   "source": [
    "# First 5 rows of the DataFrame.\n",
    "\n",
    "#salaries_df.head()"
   ]
  },
  {
   "cell_type": "code",
   "execution_count": 56,
   "id": "b3cc9fba-6810-4d99-b8f5-89e00b7bf421",
   "metadata": {},
   "outputs": [],
   "source": [
    "# Last 3 rows of the DataFrame.  \n",
    "\n",
    "#salaries_df.tail(3)"
   ]
  },
  {
   "cell_type": "code",
   "execution_count": 57,
   "id": "17009c0d-dfe9-4e1e-8d01-f1a15e5e76f0",
   "metadata": {},
   "outputs": [],
   "source": [
    "# First 5 and last 5 rows of the DataFrame.\n",
    "\n",
    "#salaries_df"
   ]
  },
  {
   "cell_type": "code",
   "execution_count": 58,
   "id": "90cfba03-6582-4ab4-9212-383af9e3ac08",
   "metadata": {},
   "outputs": [],
   "source": [
    "# Let us explore some basic features of the DataFrame.  \n",
    "\n",
    "\n",
    "#display(type(salaries_df), salaries_df.dtypes, salaries_df.shape)\n",
    "\n"
   ]
  },
  {
   "cell_type": "code",
   "execution_count": 2,
   "id": "b6407fa1-3854-4e67-aa80-16c4454dbf31",
   "metadata": {},
   "outputs": [],
   "source": [
    "# What does salaries_df.info do?\n",
    "\n",
    "\n"
   ]
  },
  {
   "cell_type": "code",
   "execution_count": null,
   "id": "b34b63b7-3335-45a9-98d8-7499ba18a986",
   "metadata": {},
   "outputs": [],
   "source": [
    "# How to set a column as an index (instead of default index coding 0,1,2,....)?\n",
    "# Write a code to read the data as a Pandas DataFrame and store it as \"salaries_df_copy\". \n",
    "# Also ensure the column work_year is the index. \n",
    "\n",
    "\n",
    "\n",
    "\n",
    "\n",
    "\n",
    "\n",
    "## Comments ##\n",
    "# For this data set it \"may\" be better to work with default index coding since we don't have a column \n",
    "# that has unique entries for different rows. However, it also depends on the context and the problem \n",
    "# we are trying to solve using the DataFrame. \n"
   ]
  },
  {
   "cell_type": "code",
   "execution_count": null,
   "id": "d89471ca-98a3-446f-b2c6-62d8190a3a0e",
   "metadata": {},
   "outputs": [],
   "source": [
    "# Suppose now you want to reset the index (work_year) to a different column (job_title)? \n",
    "# There are two distinct questions one could ask in this context.\n",
    "\n",
    "\n",
    "# First Question: \n",
    "# Delete the index \"work_year\" from the DataFrame \"salaries_df_copy\" and set the column \"job_title\" as the new index. \n",
    "# Display first three rows of your resulting DataFrame. \n",
    "# Write your code inside the display function so that DataFrame (salaries_df_copy) remains unaltered. \n",
    "# Hint: Use .set_index() method.                              \n",
    "\n",
    "#display()\n",
    "\n",
    "\n",
    "\n",
    "\n",
    "\n",
    "# Second Question: \n",
    "# Set the column \"job_title\" as the new index. However, make sure to retain the old index (work_year) as a column in your DataFrame.\n",
    "# Display first three rows of your resulting DataFrame. \n",
    "# Write your code inside the display function so that DataFrame (salaries_df_copy) remains unaltered. \n",
    "# Hint: Use .set_index() and .reset_index() methods. \n",
    "\n",
    "#display()\n",
    "\n",
    "\n",
    "\n",
    "\n",
    "\n",
    "# Third Question: \n",
    "# Explain in plain English what is the differnce between .set_index() and .reset_index() methods. \n",
    "# Answer: \n",
    "\n",
    "\n",
    "\n",
    "\n",
    "\n"
   ]
  },
  {
   "cell_type": "markdown",
   "id": "5fded666-dd1a-4a47-8feb-a7f709719401",
   "metadata": {},
   "source": [
    "\n",
    "\n",
    "\n",
    "\n",
    "\n",
    "\n",
    "\n",
    "\n"
   ]
  },
  {
   "cell_type": "markdown",
   "id": "8cdcba73-833f-46dc-bde6-a1dba66e84e8",
   "metadata": {},
   "source": [
    "# 2. Pandas DataFrame - Columns"
   ]
  },
  {
   "cell_type": "code",
   "execution_count": 60,
   "id": "4884ce42-d153-40b9-a903-e40aac8175e0",
   "metadata": {},
   "outputs": [],
   "source": [
    "# Let us explore columns names.\n",
    "\n",
    "#salaries_df.columns"
   ]
  },
  {
   "cell_type": "code",
   "execution_count": 3,
   "id": "f3c8927f-e2c0-4627-a76a-03db80c9a52d",
   "metadata": {},
   "outputs": [],
   "source": [
    "# Store columns of the DataFrame as an ndarray called data_columns. (There are at least two ways.)\n",
    "# Also make sure to check the type of data_columns to ensure it is indeed an ndarray. \n",
    "\n",
    "\n",
    "\n",
    "\n",
    "\n"
   ]
  },
  {
   "cell_type": "code",
   "execution_count": 62,
   "id": "6154bcaa-1599-4076-892d-e55f894e4d47",
   "metadata": {},
   "outputs": [],
   "source": [
    "# How to change names of columns?\n",
    "# Rename \"work_models\" to \"work_mode\". \n",
    "# Store your answer as \"salaries_df\" and print the first three rows of the new DataFrame. \n",
    "\n",
    "\n",
    "\n",
    "\n",
    "\n"
   ]
  },
  {
   "cell_type": "code",
   "execution_count": 64,
   "id": "0cc811f1-de6a-4c66-9e26-fb795ba29169",
   "metadata": {},
   "outputs": [],
   "source": [
    "# Extracting a given column as a Pandas Series. \n",
    "# Extract \"hours_per_week\" as a Pandas Series called \"col_1\".\n",
    "# Make sure to check the type of \"col_1\". \n",
    "\n",
    "\n",
    "\n"
   ]
  },
  {
   "cell_type": "code",
   "execution_count": 65,
   "id": "a139e0be-f9fd-495d-9ea4-ca04b8f13392",
   "metadata": {},
   "outputs": [],
   "source": [
    "# Pandas Series is almost like an ndarray. Hence, all \"np.\" functions work on a Pandas Series as well. \n",
    "# We will exploit this fact later in the semester. \n",
    "\n",
    "#display(col_1.head(3), col_1.dtype, col_1.shape)"
   ]
  },
  {
   "cell_type": "code",
   "execution_count": 66,
   "id": "6baa7a5c-70a9-4f95-aca3-24518a40a164",
   "metadata": {},
   "outputs": [],
   "source": [
    "# Another way. \n",
    "\n",
    "#col_1_copy = salaries_df.hours_per_week\n",
    "#col_1 == col_1_copy\n"
   ]
  },
  {
   "cell_type": "code",
   "execution_count": 70,
   "id": "348404b9-17a3-469f-ae14-14b02f2fde4e",
   "metadata": {},
   "outputs": [],
   "source": [
    "# Can you convert a Pandas Series to a Pandas DataFrame?\n",
    "# The following code will turn the original index to a new separate column, and will set Pandas default index\n",
    "# 0,1,2,... to be the new index. Thereby, creating a Pandas DataFrame. \n",
    "\n",
    "\n",
    "\n",
    "#col_1_df = col_1.reset_index()\n",
    "\n",
    "#display(type(col_1_df), col_1_df.head(3))"
   ]
  },
  {
   "cell_type": "code",
   "execution_count": 71,
   "id": "89538cd8-845e-4599-8b52-d82744c93822",
   "metadata": {},
   "outputs": [],
   "source": [
    "# How to add a Pandas Series as a column to a Pandas DataFrame?\n",
    "\n",
    "# Create a Pandas Series containing information about salary earned per hour. \n",
    "# Store your series as \"salary_every_hour\". \n",
    "\n",
    "\n",
    "\n",
    "\n",
    "\n",
    "\n",
    "\n",
    "# Let us now add the Pandas Series \"salary_every_hour\" as a column (with the name \n",
    "# salary_per_hour) to the DataFrame \"salaries_df\". \n",
    "\n",
    "\n",
    "\n",
    "\n",
    "\n",
    "\n",
    "#salaries_df.head(3)\n",
    "\n",
    "\n"
   ]
  },
  {
   "cell_type": "code",
   "execution_count": 74,
   "id": "4eeb071f-5587-4cf0-b576-18afa998b0c3",
   "metadata": {},
   "outputs": [],
   "source": [
    "# How to extract mulptiple columns as a (smaller) DataFrame?\n",
    "# Extract \"salary_in_usd\", \"hours_per_week\", and \"job_title\" as a separate (smaller) Pandas DataFrame.\n",
    "# Store it as \"salaries_subset_df\". \n",
    "\n",
    "\n",
    "\n",
    "\n",
    "#display(type(salaries_subset_df), salaries_subset_df.head(3))\n",
    "\n"
   ]
  },
  {
   "cell_type": "markdown",
   "id": "ad2c76dc-996e-45ff-822a-118b0a872369",
   "metadata": {},
   "source": [
    "\n",
    "\n",
    "\n",
    "\n",
    "\n",
    "\n",
    "\n"
   ]
  },
  {
   "cell_type": "markdown",
   "id": "43a32ed8-b0de-41f0-b2c2-1591080d06d6",
   "metadata": {},
   "source": [
    "# 3. Pandas DataFrame - Extracting Rows "
   ]
  },
  {
   "cell_type": "code",
   "execution_count": 75,
   "id": "798b7736-be07-4c77-9f8c-52e55832d0ac",
   "metadata": {},
   "outputs": [],
   "source": [
    "# Let us look at DataFrames \"salaries_df\" and \"salaries_df_copy\". \n",
    "\n",
    "#display(salaries_df.head(2), salaries_df_copy.head(2))"
   ]
  },
  {
   "cell_type": "code",
   "execution_count": 76,
   "id": "47b22f16-6f4d-4839-a507-1cd070c77c23",
   "metadata": {},
   "outputs": [],
   "source": [
    "# Extract rows 100 through 103 from the DataFrame \"salaries_df\". (index number)\n",
    "\n",
    "\n",
    "\n"
   ]
  },
  {
   "cell_type": "code",
   "execution_count": 77,
   "id": "6123663a-ee33-4aef-8e09-10d3db183c0b",
   "metadata": {},
   "outputs": [],
   "source": [
    "# Extract all rows with \"work_year\" = 2024 from the DataFrame \"salaries_df_copy\". (index name)\n",
    "\n",
    "\n",
    "\n"
   ]
  },
  {
   "cell_type": "code",
   "execution_count": 78,
   "id": "febaa2a5-9ede-4255-bad0-e0d777b87db6",
   "metadata": {},
   "outputs": [],
   "source": [
    "# Extract all rows with \"work_year\" = 2024 from the DataFrame \"salaries_df\".\n",
    "# Hint: Use a boolean mask \"bool_mask\".\n",
    "\n",
    "\n",
    "\n"
   ]
  },
  {
   "cell_type": "code",
   "execution_count": 79,
   "id": "06cfc89a-7776-4fa6-8380-91a68c6e390f",
   "metadata": {},
   "outputs": [],
   "source": [
    "# From the Pandas DataFrame \"salaries_df\", extract rows corresponding to 2024 from the column\n",
    "# \"salary_in_usd\" and store it as \"salary_2024_srs\". \n",
    "\n",
    "\n",
    "\n",
    "\n"
   ]
  },
  {
   "cell_type": "code",
   "execution_count": 68,
   "id": "cf64597d-6a1a-4adf-90e7-34aae9279ba9",
   "metadata": {},
   "outputs": [],
   "source": [
    "# From the Pandas DataFrame \"salaries_df_copy\", extract rows corresponsding to 2024 from the column \n",
    "# \"salary_in_usd\" and store it as \"salary_2024_srs_copy\". \n",
    "\n",
    "#salary_2024_srs_copy = salaries_df_copy[\"salary_in_usd\"].filter(like = \"2024\")\n",
    "#salary_2024_srs_copy "
   ]
  },
  {
   "cell_type": "markdown",
   "id": "06542896-970c-4e0b-a055-a9c63aba47c5",
   "metadata": {},
   "source": [
    "\n",
    "\n",
    "\n",
    "\n",
    "\n",
    "\n",
    "\n"
   ]
  },
  {
   "cell_type": "markdown",
   "id": "df23b403-37dd-47fe-b849-bb5976168fe0",
   "metadata": {},
   "source": [
    "\n",
    "\n",
    "\n",
    "\n"
   ]
  },
  {
   "cell_type": "markdown",
   "id": "e77b8694-5445-4703-8fad-da0f5b134cd9",
   "metadata": {},
   "source": [
    "# 3. Pandas DataFrame - Combining and Joining DataFrames"
   ]
  },
  {
   "cell_type": "code",
   "execution_count": 29,
   "id": "048d0ef1-67fc-4f11-87cb-fd44df1d4c3b",
   "metadata": {},
   "outputs": [],
   "source": [
    "# Read GDP data as Pandas DataFrame. \n",
    "\n",
    "#gdp_1 = pd.read_csv(\"GDP.csv\", index_col = \"work_year\")\n",
    "#gdp_1"
   ]
  },
  {
   "cell_type": "code",
   "execution_count": 30,
   "id": "a5f1b2e7-676c-4418-ab2c-d060f146aabc",
   "metadata": {},
   "outputs": [],
   "source": [
    "# Create a smaller DataFrame called \"df_1\".\n",
    "\n",
    "#df_1 = salaries_df_copy.loc[[2023,2024]]             \n",
    "#df_1 = df_1[[\"employee_residence\", \"salary_in_usd\"]]\n",
    "\n",
    "#df_1\n",
    "\n"
   ]
  },
  {
   "cell_type": "code",
   "execution_count": 31,
   "id": "31c1fd60-6342-4dd0-81fd-77ec6caca18e",
   "metadata": {},
   "outputs": [],
   "source": [
    "# Joining works when the index of the two DataFrames are the same.  \n",
    "\n",
    "\n",
    "# Join df_1 and gdp_1 with how = \"left\" to create DataFrame called \"joined_df_1\". \n",
    "\n",
    "#joined_df_1"
   ]
  },
  {
   "cell_type": "code",
   "execution_count": 32,
   "id": "8b28e0ad-749d-4356-9130-bf41a35d2a94",
   "metadata": {},
   "outputs": [],
   "source": [
    "# Joining works when the index of the two DataFrames are the same. \n",
    "\n",
    "\n",
    "# Join df_1 and gdp_1 with how = \"right\" to create DataFrame called \"joined_df_2\".\n",
    "\n",
    "#joined_df_2\n"
   ]
  },
  {
   "cell_type": "code",
   "execution_count": 33,
   "id": "a42740d6-7310-491c-9a4e-06afbb038578",
   "metadata": {},
   "outputs": [],
   "source": [
    "# Merging two DataFrames using a common column (rather than common index). \n",
    "\n",
    "#df_2 = df_1.reset_index()\n",
    "#gdp_2 = gdp_1.reset_index()\n",
    "\n",
    "#display(df_2, gdp_2)"
   ]
  },
  {
   "cell_type": "code",
   "execution_count": 34,
   "id": "f1a67267-25c7-457d-9e16-451bfe5cd0c0",
   "metadata": {},
   "outputs": [],
   "source": [
    "# Merge df_2 and gdp_2 to create DataFrame called \"merged_df_1\"\n",
    "\n",
    "\n",
    "#merged_df_1"
   ]
  },
  {
   "cell_type": "code",
   "execution_count": 35,
   "id": "5f7dca34-21a7-4d4c-998b-5b8ccfaccad4",
   "metadata": {},
   "outputs": [],
   "source": [
    "# What if columns we want to use to join have different names?\n",
    "\n",
    "#gdp_2 = gdp_2.rename(columns = {\"work_year\": \"year\"})\n",
    "#gdp_2"
   ]
  },
  {
   "cell_type": "code",
   "execution_count": 1,
   "id": "15611e25-f113-4b47-96f5-022ddb3a8c13",
   "metadata": {},
   "outputs": [],
   "source": [
    "# Merging with different column names.\n",
    "# We can use the left_on and right_on arguments to specify which columns should be used to align the two DataFrames.\n",
    "# Merge \"df_2\" and \"gdp_2\" with how = \"left\". \n",
    "# Use \"work_year\" and \"year\" to align two DataFrames. \n",
    "# Store your output as \"merged_df_2\".\n",
    "\n",
    "\n",
    "\n",
    "#merged_df_2"
   ]
  },
  {
   "cell_type": "markdown",
   "id": "8be88a8a-9d8c-4887-a9df-16e376304054",
   "metadata": {},
   "source": [
    "\n",
    "\n",
    "\n",
    "\n"
   ]
  },
  {
   "cell_type": "markdown",
   "id": "e3ba4fa5-d55d-40ab-ae5a-c0eb9133134a",
   "metadata": {},
   "source": [
    "# 4. Pandas DataFrame - Let us do some statistics! "
   ]
  },
  {
   "cell_type": "code",
   "execution_count": 37,
   "id": "af5b6327-05f2-4393-b7e9-f2fb69e9e609",
   "metadata": {},
   "outputs": [],
   "source": [
    "# Let us recall salaries_df. \n",
    "\n",
    "#salaries_df.head() "
   ]
  },
  {
   "cell_type": "code",
   "execution_count": 70,
   "id": "3936c9d9-8788-440b-a596-43a178fa2761",
   "metadata": {},
   "outputs": [],
   "source": [
    "## Sorting values ##\n",
    "# Sorted values of a quantiative variable is an important example of multi-variable statistic. \n",
    "\n",
    "\n",
    "\n",
    "\n",
    "# Sort Dataframe salaries_df so that salary_in_usd is arranged smallest to largest. \n",
    "# Store your answer as sorted_1\n",
    "\n",
    "\n",
    "\n",
    "\n",
    "# Sort Dataframe salaries_df so that salary_in_usd is arranged largest to smallest. \n",
    "# Store your answer as sorted_2\n",
    "\n",
    "\n",
    "\n",
    "\n",
    "\n",
    "\n"
   ]
  },
  {
   "cell_type": "code",
   "execution_count": 39,
   "id": "881cd540-0e73-489e-8d13-0b3e456b15ea",
   "metadata": {},
   "outputs": [],
   "source": [
    "# A \"cool\" function for Pandas DataFrame to compute various statistics. \n",
    "\n",
    "#salaries_df.describe().round()  "
   ]
  },
  {
   "cell_type": "code",
   "execution_count": 40,
   "id": "5b87737a-7b4d-463f-8467-06514fd928ad",
   "metadata": {},
   "outputs": [],
   "source": [
    "# What if we want to compute statistics for various groups? \n",
    "\n",
    "# Which groups? Let us work with \"work_mode\".\n",
    "# Compute means for the columns \"salary_in_usd\", \"salary_per_hour\", and \"hours_per_week\" using the grouping \n",
    "# \"work_mode\". Store your as \"stats_1\". \n",
    "\n",
    "\n",
    "\n",
    "\n",
    "\n",
    "\n"
   ]
  },
  {
   "cell_type": "code",
   "execution_count": 41,
   "id": "c06a1c56-79d5-4a16-96c4-65b1cf216e22",
   "metadata": {},
   "outputs": [],
   "source": [
    "# What if we want to compute different statistics for different columns with respect \n",
    "# to the same groups?\n",
    "# Compute mean \"salary_in_usd\", median \"salary_per_hour\", and maximum \"hours_per_week\"\n",
    "# all with respect to the group \"work_mode\". Store your answer as \"stats_2\"\n",
    "\n",
    "\n"
   ]
  },
  {
   "cell_type": "markdown",
   "id": "d518eed9-aaa2-49a4-8eb5-9d550b9ba1c2",
   "metadata": {},
   "source": [
    "<br>\n",
    "<br>"
   ]
  },
  {
   "cell_type": "markdown",
   "id": "07c996af-1edf-4882-aac0-a341ba10f54d",
   "metadata": {},
   "source": [
    "# 5. Take Home Problem: ***Delving Deeper into `.join()` and `.merge()` methods!***"
   ]
  },
  {
   "cell_type": "code",
   "execution_count": 5,
   "id": "ce966da6-9f7b-4280-99af-8d6aaac21622",
   "metadata": {},
   "outputs": [
    {
     "data": {
      "text/html": [
       "<div>\n",
       "<style scoped>\n",
       "    .dataframe tbody tr th:only-of-type {\n",
       "        vertical-align: middle;\n",
       "    }\n",
       "\n",
       "    .dataframe tbody tr th {\n",
       "        vertical-align: top;\n",
       "    }\n",
       "\n",
       "    .dataframe thead th {\n",
       "        text-align: right;\n",
       "    }\n",
       "</style>\n",
       "<table border=\"1\" class=\"dataframe\">\n",
       "  <thead>\n",
       "    <tr style=\"text-align: right;\">\n",
       "      <th></th>\n",
       "      <th>GDP</th>\n",
       "    </tr>\n",
       "    <tr>\n",
       "      <th>Country</th>\n",
       "      <th></th>\n",
       "    </tr>\n",
       "  </thead>\n",
       "  <tbody>\n",
       "    <tr>\n",
       "      <th>USA</th>\n",
       "      <td>28.78</td>\n",
       "    </tr>\n",
       "    <tr>\n",
       "      <th>Canada</th>\n",
       "      <td>2.24</td>\n",
       "    </tr>\n",
       "    <tr>\n",
       "      <th>France</th>\n",
       "      <td>3.13</td>\n",
       "    </tr>\n",
       "    <tr>\n",
       "      <th>Australia</th>\n",
       "      <td>1.79</td>\n",
       "    </tr>\n",
       "    <tr>\n",
       "      <th>India</th>\n",
       "      <td>3.94</td>\n",
       "    </tr>\n",
       "    <tr>\n",
       "      <th>China</th>\n",
       "      <td>18.53</td>\n",
       "    </tr>\n",
       "  </tbody>\n",
       "</table>\n",
       "</div>"
      ],
      "text/plain": [
       "             GDP\n",
       "Country         \n",
       "USA        28.78\n",
       "Canada      2.24\n",
       "France      3.13\n",
       "Australia   1.79\n",
       "India       3.94\n",
       "China      18.53"
      ]
     },
     "metadata": {},
     "output_type": "display_data"
    },
    {
     "data": {
      "text/html": [
       "<div>\n",
       "<style scoped>\n",
       "    .dataframe tbody tr th:only-of-type {\n",
       "        vertical-align: middle;\n",
       "    }\n",
       "\n",
       "    .dataframe tbody tr th {\n",
       "        vertical-align: top;\n",
       "    }\n",
       "\n",
       "    .dataframe thead th {\n",
       "        text-align: right;\n",
       "    }\n",
       "</style>\n",
       "<table border=\"1\" class=\"dataframe\">\n",
       "  <thead>\n",
       "    <tr style=\"text-align: right;\">\n",
       "      <th></th>\n",
       "      <th>Population</th>\n",
       "    </tr>\n",
       "    <tr>\n",
       "      <th>Country</th>\n",
       "      <th></th>\n",
       "    </tr>\n",
       "  </thead>\n",
       "  <tbody>\n",
       "    <tr>\n",
       "      <th>USA</th>\n",
       "      <td>345427000</td>\n",
       "    </tr>\n",
       "    <tr>\n",
       "      <th>India</th>\n",
       "      <td>1450940000</td>\n",
       "    </tr>\n",
       "    <tr>\n",
       "      <th>Russia</th>\n",
       "      <td>144820000</td>\n",
       "    </tr>\n",
       "    <tr>\n",
       "      <th>England</th>\n",
       "      <td>69138200</td>\n",
       "    </tr>\n",
       "    <tr>\n",
       "      <th>Germany</th>\n",
       "      <td>84552200</td>\n",
       "    </tr>\n",
       "    <tr>\n",
       "      <th>China</th>\n",
       "      <td>1419320000</td>\n",
       "    </tr>\n",
       "  </tbody>\n",
       "</table>\n",
       "</div>"
      ],
      "text/plain": [
       "         Population\n",
       "Country            \n",
       "USA       345427000\n",
       "India    1450940000\n",
       "Russia    144820000\n",
       "England    69138200\n",
       "Germany    84552200\n",
       "China    1419320000"
      ]
     },
     "metadata": {},
     "output_type": "display_data"
    }
   ],
   "source": [
    "# GDP (in trillions USD) and Population of various counrties in 2024 as per IMF. \n",
    "\n",
    "GDP = {\n",
    "            'Country' : ['USA', 'Canada', 'France', 'Australia', 'India', 'China'],\n",
    "            'GDP' : [28.78, 2.24, 3.13, 1.79, 3.94, 18.53]\n",
    "            }\n",
    "\n",
    "POP = {\n",
    "            'Country': ['USA', 'India', 'Russia', 'England', 'Germany', 'China'],\n",
    "            'Population': [345427000, 1450940000, 144820000, 69138200, 84552200, 1419320000]\n",
    "            }\n",
    "\n",
    "GDP_df = pd.DataFrame(GDP)\n",
    "POP_df = pd.DataFrame(POP)\n",
    "\n",
    "\n",
    "GDP_df = GDP_df.set_index(\"Country\")\n",
    "POP_df = POP_df.set_index(\"Country\")\n",
    "\n",
    "\n",
    "# Display DataFrames GDP_df and POP_df. \n",
    "\n",
    "display(GDP_df, POP_df)"
   ]
  },
  {
   "cell_type": "markdown",
   "id": "52637902-6f98-4726-9edc-6629dcc380a0",
   "metadata": {},
   "source": [
    "## Level 1"
   ]
  },
  {
   "cell_type": "markdown",
   "id": "f51b1ca3-4e42-4530-a2d1-99831bd0afe8",
   "metadata": {},
   "source": [
    "##### Do `GDP_df` and `POP_df` have a common (\"meaningful\") index ?\n",
    "##### Answer: \n",
    "\n",
    "\n",
    "##### Based on your answer above, what should we use `.join()` or `.merge()` ?\n",
    "##### Answer: \n",
    "\n",
    "##### To avoid confusion, let us call `GDP_df` to be the \"left\" DataFrame and `POP_df` to be the \"right\" DataFrame. "
   ]
  },
  {
   "cell_type": "code",
   "execution_count": 14,
   "id": "bf9b02ea-46ae-44c9-80be-ff3726a5ead6",
   "metadata": {},
   "outputs": [],
   "source": [
    "# Write a one line code to join/merge GDP_df and POP_df so that all the information in GDP_df remains intact. \n",
    "# Store the new DataFrame as join_1_df. \n",
    "\n",
    "\n"
   ]
  },
  {
   "cell_type": "code",
   "execution_count": 15,
   "id": "1f0a8eb4-77f7-41e7-9291-7ea5ef0bdd36",
   "metadata": {},
   "outputs": [],
   "source": [
    "# Write a one line code to join/merge GDP_df and POP_df so that all the information in POP_df remains intact. \n",
    "# Store the new DataFrame as join_2_df. \n",
    "\n"
   ]
  },
  {
   "cell_type": "code",
   "execution_count": 16,
   "id": "99943e16-1dae-44cb-b199-20b7f76a3f0c",
   "metadata": {},
   "outputs": [],
   "source": [
    "# Write a one line code to join/merge GDP_df and POP_df so that all the information in both the DataFrames is preserved. \n",
    "# Store the new DataFrame as join_3_df. \n",
    "\n"
   ]
  },
  {
   "cell_type": "code",
   "execution_count": 17,
   "id": "69b17b66-6533-495c-b4e0-dca34efdb627",
   "metadata": {},
   "outputs": [],
   "source": [
    "# Write a one line code to join/merge GDP_df and POP_df so that only the common information is preserved. \n",
    "# Store the new DataFrame as join_4_df. \n"
   ]
  },
  {
   "cell_type": "markdown",
   "id": "5d3d8efb-8686-4e0a-b4d5-067b7d921314",
   "metadata": {},
   "source": [
    "## Level 2"
   ]
  },
  {
   "cell_type": "code",
   "execution_count": 6,
   "id": "195f0cbc-9611-48bd-9b1f-625ccb8cf90e",
   "metadata": {},
   "outputs": [
    {
     "data": {
      "text/html": [
       "<div>\n",
       "<style scoped>\n",
       "    .dataframe tbody tr th:only-of-type {\n",
       "        vertical-align: middle;\n",
       "    }\n",
       "\n",
       "    .dataframe tbody tr th {\n",
       "        vertical-align: top;\n",
       "    }\n",
       "\n",
       "    .dataframe thead th {\n",
       "        text-align: right;\n",
       "    }\n",
       "</style>\n",
       "<table border=\"1\" class=\"dataframe\">\n",
       "  <thead>\n",
       "    <tr style=\"text-align: right;\">\n",
       "      <th></th>\n",
       "      <th>Country</th>\n",
       "      <th>GDP</th>\n",
       "    </tr>\n",
       "  </thead>\n",
       "  <tbody>\n",
       "    <tr>\n",
       "      <th>0</th>\n",
       "      <td>USA</td>\n",
       "      <td>28.78</td>\n",
       "    </tr>\n",
       "    <tr>\n",
       "      <th>1</th>\n",
       "      <td>Canada</td>\n",
       "      <td>2.24</td>\n",
       "    </tr>\n",
       "    <tr>\n",
       "      <th>2</th>\n",
       "      <td>France</td>\n",
       "      <td>3.13</td>\n",
       "    </tr>\n",
       "    <tr>\n",
       "      <th>3</th>\n",
       "      <td>Australia</td>\n",
       "      <td>1.79</td>\n",
       "    </tr>\n",
       "    <tr>\n",
       "      <th>4</th>\n",
       "      <td>India</td>\n",
       "      <td>3.94</td>\n",
       "    </tr>\n",
       "    <tr>\n",
       "      <th>5</th>\n",
       "      <td>China</td>\n",
       "      <td>18.53</td>\n",
       "    </tr>\n",
       "  </tbody>\n",
       "</table>\n",
       "</div>"
      ],
      "text/plain": [
       "     Country    GDP\n",
       "0        USA  28.78\n",
       "1     Canada   2.24\n",
       "2     France   3.13\n",
       "3  Australia   1.79\n",
       "4      India   3.94\n",
       "5      China  18.53"
      ]
     },
     "metadata": {},
     "output_type": "display_data"
    },
    {
     "data": {
      "text/html": [
       "<div>\n",
       "<style scoped>\n",
       "    .dataframe tbody tr th:only-of-type {\n",
       "        vertical-align: middle;\n",
       "    }\n",
       "\n",
       "    .dataframe tbody tr th {\n",
       "        vertical-align: top;\n",
       "    }\n",
       "\n",
       "    .dataframe thead th {\n",
       "        text-align: right;\n",
       "    }\n",
       "</style>\n",
       "<table border=\"1\" class=\"dataframe\">\n",
       "  <thead>\n",
       "    <tr style=\"text-align: right;\">\n",
       "      <th></th>\n",
       "      <th>Country</th>\n",
       "      <th>Population</th>\n",
       "    </tr>\n",
       "  </thead>\n",
       "  <tbody>\n",
       "    <tr>\n",
       "      <th>0</th>\n",
       "      <td>USA</td>\n",
       "      <td>345427000</td>\n",
       "    </tr>\n",
       "    <tr>\n",
       "      <th>1</th>\n",
       "      <td>India</td>\n",
       "      <td>1450940000</td>\n",
       "    </tr>\n",
       "    <tr>\n",
       "      <th>2</th>\n",
       "      <td>Russia</td>\n",
       "      <td>144820000</td>\n",
       "    </tr>\n",
       "    <tr>\n",
       "      <th>3</th>\n",
       "      <td>England</td>\n",
       "      <td>69138200</td>\n",
       "    </tr>\n",
       "    <tr>\n",
       "      <th>4</th>\n",
       "      <td>Germany</td>\n",
       "      <td>84552200</td>\n",
       "    </tr>\n",
       "    <tr>\n",
       "      <th>5</th>\n",
       "      <td>China</td>\n",
       "      <td>1419320000</td>\n",
       "    </tr>\n",
       "  </tbody>\n",
       "</table>\n",
       "</div>"
      ],
      "text/plain": [
       "   Country  Population\n",
       "0      USA   345427000\n",
       "1    India  1450940000\n",
       "2   Russia   144820000\n",
       "3  England    69138200\n",
       "4  Germany    84552200\n",
       "5    China  1419320000"
      ]
     },
     "metadata": {},
     "output_type": "display_data"
    }
   ],
   "source": [
    "# Let us modify GDP_df and POP_df. \n",
    "\n",
    "GDP_new_df = GDP_df.reset_index()\n",
    "POP_new_df = POP_df.reset_index()\n",
    "\n",
    "\n",
    "display(GDP_new_df, POP_new_df)"
   ]
  },
  {
   "cell_type": "markdown",
   "id": "ed44ffe0-b430-41e8-a71c-491c168055eb",
   "metadata": {},
   "source": [
    "##### Do `GDP_new_df` and `POP_new_df` have a common (\"meaningful\") index ?\n",
    "##### Answer: \n",
    "\n",
    "\n",
    "##### Based on your answer above, what should we use `.join()` or `.merge()` ?\n",
    "##### Answer: \n",
    "\n",
    "##### To avoid confusion, let us call `GDP_new_df` to be the \"left\" DataFrame and `POP_new_df` to be the \"right\" DataFrame. "
   ]
  },
  {
   "cell_type": "code",
   "execution_count": 18,
   "id": "68a13187-83db-4c94-875b-a005d58f41d5",
   "metadata": {},
   "outputs": [],
   "source": [
    "# Write a one line code to join/merge GDP_new_df and POP_new_df so that all the information in GDP_new_df remains intact. \n",
    "# Store the new DataFrame as merge_1_df. \n",
    "\n",
    "\n"
   ]
  },
  {
   "cell_type": "code",
   "execution_count": 10,
   "id": "74f82930-93a0-4421-bb3d-5ff60f64f366",
   "metadata": {},
   "outputs": [],
   "source": [
    "# Next try how = \"right\" option in the above code. \n",
    "\n",
    "\n",
    "\n",
    "\n",
    "\n",
    "\n",
    "\n",
    "# Now try how = \"outer\" option in the above code. \n",
    "\n",
    "\n",
    "\n",
    "\n",
    "\n",
    "\n",
    "\n",
    "# Finally try how = \"inner\" option in the above code. \n",
    "\n",
    "\n",
    "\n",
    "\n"
   ]
  },
  {
   "cell_type": "markdown",
   "id": "8e1db0f9-9ed3-40fb-b79e-da975d713f7b",
   "metadata": {},
   "source": [
    "## Level 3"
   ]
  },
  {
   "cell_type": "code",
   "execution_count": 11,
   "id": "2b5b850a-773d-42ee-b751-e3989c9efca7",
   "metadata": {},
   "outputs": [
    {
     "data": {
      "text/html": [
       "<div>\n",
       "<style scoped>\n",
       "    .dataframe tbody tr th:only-of-type {\n",
       "        vertical-align: middle;\n",
       "    }\n",
       "\n",
       "    .dataframe tbody tr th {\n",
       "        vertical-align: top;\n",
       "    }\n",
       "\n",
       "    .dataframe thead th {\n",
       "        text-align: right;\n",
       "    }\n",
       "</style>\n",
       "<table border=\"1\" class=\"dataframe\">\n",
       "  <thead>\n",
       "    <tr style=\"text-align: right;\">\n",
       "      <th></th>\n",
       "      <th>country_name</th>\n",
       "      <th>GDP</th>\n",
       "    </tr>\n",
       "  </thead>\n",
       "  <tbody>\n",
       "    <tr>\n",
       "      <th>0</th>\n",
       "      <td>USA</td>\n",
       "      <td>28.78</td>\n",
       "    </tr>\n",
       "    <tr>\n",
       "      <th>1</th>\n",
       "      <td>Canada</td>\n",
       "      <td>2.24</td>\n",
       "    </tr>\n",
       "    <tr>\n",
       "      <th>2</th>\n",
       "      <td>France</td>\n",
       "      <td>3.13</td>\n",
       "    </tr>\n",
       "    <tr>\n",
       "      <th>3</th>\n",
       "      <td>Australia</td>\n",
       "      <td>1.79</td>\n",
       "    </tr>\n",
       "    <tr>\n",
       "      <th>4</th>\n",
       "      <td>India</td>\n",
       "      <td>3.94</td>\n",
       "    </tr>\n",
       "    <tr>\n",
       "      <th>5</th>\n",
       "      <td>China</td>\n",
       "      <td>18.53</td>\n",
       "    </tr>\n",
       "  </tbody>\n",
       "</table>\n",
       "</div>"
      ],
      "text/plain": [
       "  country_name    GDP\n",
       "0          USA  28.78\n",
       "1       Canada   2.24\n",
       "2       France   3.13\n",
       "3    Australia   1.79\n",
       "4        India   3.94\n",
       "5        China  18.53"
      ]
     },
     "execution_count": 11,
     "metadata": {},
     "output_type": "execute_result"
    }
   ],
   "source": [
    "# Let us change the column name \"Country\" to \"country_name\" for the GDP_new_df DataFrame. \n",
    "# Store your answer as GDP_newest_df. \n",
    "\n",
    "GDP_newest_df = GDP_new_df.rename(columns = {\"Country\": \"country_name\"})\n",
    "\n",
    "GDP_newest_df\n"
   ]
  },
  {
   "cell_type": "markdown",
   "id": "ac47283c-8fad-43e8-bbc7-2df969173466",
   "metadata": {},
   "source": [
    "##### Do `GDP_newest_df` and `POP_new_df` have a common (\"meaningful\") index ?\n",
    "##### Answer: \n",
    "\n",
    "\n",
    "##### Based on your answer above, what should be use `.join()` or `.merge()` ?\n",
    "##### Answer: \n",
    "\n",
    "##### To avoid confusion, let us call `GDP_newest_df` to be the \"left\" DataFrame and `POP_new_df` to be the \"right\" DataFrame. "
   ]
  },
  {
   "cell_type": "code",
   "execution_count": 19,
   "id": "9fed0fba-877a-4980-84de-356654d4aae7",
   "metadata": {},
   "outputs": [],
   "source": [
    "# Write a one line code to join/merge GDP_newest_df and POP_new_df so that all the information in GDP_newest_df remains intact. \n",
    "# Store the new DataFrame as merge_2_df. \n",
    "\n",
    "\n",
    "\n"
   ]
  },
  {
   "cell_type": "code",
   "execution_count": 13,
   "id": "78e0b752-bbab-46c3-921d-12d30e96ce43",
   "metadata": {},
   "outputs": [],
   "source": [
    "# Next try how = \"right\" option in the above code. \n",
    "\n",
    "\n",
    "\n",
    "\n",
    "\n",
    "\n",
    "\n",
    "# Now try how = \"outer\" option in the above code. \n",
    "\n",
    "\n",
    "\n",
    "\n",
    "\n",
    "\n",
    "\n",
    "# Finally try how = \"inner\" option in the above code. \n",
    "\n",
    "\n",
    "\n",
    "\n"
   ]
  }
 ],
 "metadata": {
  "kernelspec": {
   "display_name": "Python 3 (ipykernel)",
   "language": "python",
   "name": "python3"
  },
  "language_info": {
   "codemirror_mode": {
    "name": "ipython",
    "version": 3
   },
   "file_extension": ".py",
   "mimetype": "text/x-python",
   "name": "python",
   "nbconvert_exporter": "python",
   "pygments_lexer": "ipython3",
   "version": "3.13.5"
  }
 },
 "nbformat": 4,
 "nbformat_minor": 5
}
