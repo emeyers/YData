{
 "cells": [
  {
   "cell_type": "markdown",
   "id": "634596d9-39ac-431a-bb17-c7fbef8562ef",
   "metadata": {},
   "source": [
    "Welcome to Preceptor Practice Session 10! "
   ]
  },
  {
   "cell_type": "code",
   "execution_count": 1,
   "id": "abf7de5e-63ec-475f-8b0e-49ee6a79e2b6",
   "metadata": {},
   "outputs": [],
   "source": [
    "import YData \n",
    "\n",
    "\n",
    "#YData.download_practice_code(10)              # Without Answers. \n",
    "#YData.download_practice_code(10, True)        # With Answers. \n",
    "\n",
    "\n",
    "\n",
    "import pandas as pd \n",
    "import numpy as np\n",
    "\n",
    "#YData.download_data(\"loan_data.csv\")\n"
   ]
  },
  {
   "cell_type": "code",
   "execution_count": 2,
   "id": "cb75740b-870c-4b9d-962c-97215671a309",
   "metadata": {},
   "outputs": [
    {
     "data": {
      "text/html": [
       "<div>\n",
       "<style scoped>\n",
       "    .dataframe tbody tr th:only-of-type {\n",
       "        vertical-align: middle;\n",
       "    }\n",
       "\n",
       "    .dataframe tbody tr th {\n",
       "        vertical-align: top;\n",
       "    }\n",
       "\n",
       "    .dataframe thead th {\n",
       "        text-align: right;\n",
       "    }\n",
       "</style>\n",
       "<table border=\"1\" class=\"dataframe\">\n",
       "  <thead>\n",
       "    <tr style=\"text-align: right;\">\n",
       "      <th></th>\n",
       "      <th>person_age</th>\n",
       "      <th>person_gender</th>\n",
       "      <th>person_education</th>\n",
       "      <th>person_income</th>\n",
       "      <th>person_emp_exp</th>\n",
       "      <th>person_home_ownership</th>\n",
       "      <th>loan_amnt</th>\n",
       "      <th>loan_intent</th>\n",
       "      <th>loan_int_rate</th>\n",
       "      <th>cb_person_cred_hist_length</th>\n",
       "      <th>credit_score</th>\n",
       "      <th>previous_loan_defaults_on_file</th>\n",
       "      <th>loan_status</th>\n",
       "    </tr>\n",
       "  </thead>\n",
       "  <tbody>\n",
       "    <tr>\n",
       "      <th>0</th>\n",
       "      <td>22.0</td>\n",
       "      <td>female</td>\n",
       "      <td>Master</td>\n",
       "      <td>71948.0</td>\n",
       "      <td>0</td>\n",
       "      <td>RENT</td>\n",
       "      <td>35000.0</td>\n",
       "      <td>PERSONAL</td>\n",
       "      <td>16.02</td>\n",
       "      <td>3.0</td>\n",
       "      <td>561</td>\n",
       "      <td>No</td>\n",
       "      <td>1</td>\n",
       "    </tr>\n",
       "    <tr>\n",
       "      <th>1</th>\n",
       "      <td>21.0</td>\n",
       "      <td>female</td>\n",
       "      <td>High School</td>\n",
       "      <td>12282.0</td>\n",
       "      <td>0</td>\n",
       "      <td>OWN</td>\n",
       "      <td>1000.0</td>\n",
       "      <td>EDUCATION</td>\n",
       "      <td>11.14</td>\n",
       "      <td>2.0</td>\n",
       "      <td>504</td>\n",
       "      <td>Yes</td>\n",
       "      <td>0</td>\n",
       "    </tr>\n",
       "    <tr>\n",
       "      <th>2</th>\n",
       "      <td>25.0</td>\n",
       "      <td>female</td>\n",
       "      <td>High School</td>\n",
       "      <td>12438.0</td>\n",
       "      <td>3</td>\n",
       "      <td>MORTGAGE</td>\n",
       "      <td>5500.0</td>\n",
       "      <td>MEDICAL</td>\n",
       "      <td>12.87</td>\n",
       "      <td>3.0</td>\n",
       "      <td>635</td>\n",
       "      <td>No</td>\n",
       "      <td>1</td>\n",
       "    </tr>\n",
       "  </tbody>\n",
       "</table>\n",
       "</div>"
      ],
      "text/plain": [
       "   person_age person_gender person_education  person_income  person_emp_exp  \\\n",
       "0        22.0        female           Master        71948.0               0   \n",
       "1        21.0        female      High School        12282.0               0   \n",
       "2        25.0        female      High School        12438.0               3   \n",
       "\n",
       "  person_home_ownership  loan_amnt loan_intent  loan_int_rate  \\\n",
       "0                  RENT    35000.0    PERSONAL          16.02   \n",
       "1                   OWN     1000.0   EDUCATION          11.14   \n",
       "2              MORTGAGE     5500.0     MEDICAL          12.87   \n",
       "\n",
       "   cb_person_cred_hist_length  credit_score previous_loan_defaults_on_file  \\\n",
       "0                         3.0           561                             No   \n",
       "1                         2.0           504                            Yes   \n",
       "2                         3.0           635                             No   \n",
       "\n",
       "   loan_status  \n",
       "0            1  \n",
       "1            0  \n",
       "2            1  "
      ]
     },
     "metadata": {},
     "output_type": "display_data"
    },
    {
     "data": {
      "text/plain": [
       "(45000, 13)"
      ]
     },
     "metadata": {},
     "output_type": "display_data"
    }
   ],
   "source": [
    "loans = pd.read_csv(\"loan_data.csv\")\n",
    "loans = loans.drop(columns = \"loan_percent_income\")\n",
    "display(loans.head(3), loans.shape)"
   ]
  },
  {
   "cell_type": "markdown",
   "id": "7576a313-d360-49d7-8e2f-96e277abe090",
   "metadata": {},
   "source": [
    "## 1. Linear regression\n",
    "\n",
    "In regression, we try to predict a quantitative variable y, from a set of features X. \n",
    "\n",
    "Let's explore this by predicting the person's income (in USD) from other quantitative features in the above dataset. \n",
    "\n",
    "- You are free to choose your own set of features; I am following closely the setup from the class.\n",
    "- Remark: When working with salaries, usually one takes `log transform`. You can use `np.log()` function for this. \n"
   ]
  },
  {
   "cell_type": "code",
   "execution_count": 3,
   "id": "89a8c1e6-6a52-4f96-8560-be26b9b52233",
   "metadata": {},
   "outputs": [],
   "source": [
    "# get the features and the labels\n",
    "\n",
    "X_features = loans[[\n",
    "                    'loan_amnt', \n",
    "                    'person_emp_exp',\n",
    "                    'credit_score'\n",
    "                   ]]\n",
    "\n",
    "y_salary = loans['person_income']\n",
    "\n",
    "\n"
   ]
  },
  {
   "cell_type": "markdown",
   "id": "5433af2b-bcce-4ba2-882d-dae5c1f555d0",
   "metadata": {},
   "source": [
    "- Let's use scikit-learn to generate training and test data (as we did previously for our KNN classifier). "
   ]
  },
  {
   "cell_type": "code",
   "execution_count": 4,
   "id": "7f9a3f46-e4f5-4b9a-9b63-ba539e80587d",
   "metadata": {},
   "outputs": [
    {
     "name": "stdout",
     "output_type": "stream",
     "text": [
      "(33750, 3)\n",
      "(11250, 3)\n"
     ]
    },
    {
     "data": {
      "text/html": [
       "<div>\n",
       "<style scoped>\n",
       "    .dataframe tbody tr th:only-of-type {\n",
       "        vertical-align: middle;\n",
       "    }\n",
       "\n",
       "    .dataframe tbody tr th {\n",
       "        vertical-align: top;\n",
       "    }\n",
       "\n",
       "    .dataframe thead th {\n",
       "        text-align: right;\n",
       "    }\n",
       "</style>\n",
       "<table border=\"1\" class=\"dataframe\">\n",
       "  <thead>\n",
       "    <tr style=\"text-align: right;\">\n",
       "      <th></th>\n",
       "      <th>loan_amnt</th>\n",
       "      <th>person_emp_exp</th>\n",
       "      <th>credit_score</th>\n",
       "    </tr>\n",
       "  </thead>\n",
       "  <tbody>\n",
       "    <tr>\n",
       "      <th>34761</th>\n",
       "      <td>15912.0</td>\n",
       "      <td>3</td>\n",
       "      <td>645</td>\n",
       "    </tr>\n",
       "    <tr>\n",
       "      <th>17827</th>\n",
       "      <td>1500.0</td>\n",
       "      <td>3</td>\n",
       "      <td>610</td>\n",
       "    </tr>\n",
       "    <tr>\n",
       "      <th>8937</th>\n",
       "      <td>8000.0</td>\n",
       "      <td>2</td>\n",
       "      <td>572</td>\n",
       "    </tr>\n",
       "    <tr>\n",
       "      <th>26508</th>\n",
       "      <td>14500.0</td>\n",
       "      <td>10</td>\n",
       "      <td>597</td>\n",
       "    </tr>\n",
       "    <tr>\n",
       "      <th>36846</th>\n",
       "      <td>6000.0</td>\n",
       "      <td>8</td>\n",
       "      <td>565</td>\n",
       "    </tr>\n",
       "  </tbody>\n",
       "</table>\n",
       "</div>"
      ],
      "text/plain": [
       "       loan_amnt  person_emp_exp  credit_score\n",
       "34761    15912.0               3           645\n",
       "17827     1500.0               3           610\n",
       "8937      8000.0               2           572\n",
       "26508    14500.0              10           597\n",
       "36846     6000.0               8           565"
      ]
     },
     "execution_count": 4,
     "metadata": {},
     "output_type": "execute_result"
    }
   ],
   "source": [
    "from sklearn.model_selection import train_test_split\n",
    "\n",
    "# split data into a training and test set\n",
    "\n",
    "X_train, X_test, y_train, y_test = train_test_split(X_features,  \n",
    "                                                    y_salary, \n",
    "                                                    random_state = 0)\n",
    "\n",
    "print(X_train.shape)\n",
    "print(X_test.shape)\n",
    "\n",
    "X_train.head(5)\n"
   ]
  },
  {
   "cell_type": "markdown",
   "id": "0588b0d6-d6a2-411d-a8a5-51663d5fd6d1",
   "metadata": {},
   "source": [
    "- We can now create a new linear regression model, fit it to data, and make predictions. The method names are again very similar to what we used for the KNN classifier (i.e., the `fit()` and predict()` methods). "
   ]
  },
  {
   "cell_type": "code",
   "execution_count": 5,
   "id": "9c01d345-1548-4183-9d04-7c09675579cf",
   "metadata": {},
   "outputs": [],
   "source": [
    "from sklearn.linear_model import LinearRegression\n",
    "\n",
    "# create a new linear regression modedl\n",
    "linear_model = LinearRegression()"
   ]
  },
  {
   "cell_type": "code",
   "execution_count": 6,
   "id": "5a5601b0-463b-4d47-bc1c-0a517330d0ea",
   "metadata": {},
   "outputs": [
    {
     "data": {
      "text/html": [
       "<style>#sk-container-id-1 {color: black;}#sk-container-id-1 pre{padding: 0;}#sk-container-id-1 div.sk-toggleable {background-color: white;}#sk-container-id-1 label.sk-toggleable__label {cursor: pointer;display: block;width: 100%;margin-bottom: 0;padding: 0.3em;box-sizing: border-box;text-align: center;}#sk-container-id-1 label.sk-toggleable__label-arrow:before {content: \"▸\";float: left;margin-right: 0.25em;color: #696969;}#sk-container-id-1 label.sk-toggleable__label-arrow:hover:before {color: black;}#sk-container-id-1 div.sk-estimator:hover label.sk-toggleable__label-arrow:before {color: black;}#sk-container-id-1 div.sk-toggleable__content {max-height: 0;max-width: 0;overflow: hidden;text-align: left;background-color: #f0f8ff;}#sk-container-id-1 div.sk-toggleable__content pre {margin: 0.2em;color: black;border-radius: 0.25em;background-color: #f0f8ff;}#sk-container-id-1 input.sk-toggleable__control:checked~div.sk-toggleable__content {max-height: 200px;max-width: 100%;overflow: auto;}#sk-container-id-1 input.sk-toggleable__control:checked~label.sk-toggleable__label-arrow:before {content: \"▾\";}#sk-container-id-1 div.sk-estimator input.sk-toggleable__control:checked~label.sk-toggleable__label {background-color: #d4ebff;}#sk-container-id-1 div.sk-label input.sk-toggleable__control:checked~label.sk-toggleable__label {background-color: #d4ebff;}#sk-container-id-1 input.sk-hidden--visually {border: 0;clip: rect(1px 1px 1px 1px);clip: rect(1px, 1px, 1px, 1px);height: 1px;margin: -1px;overflow: hidden;padding: 0;position: absolute;width: 1px;}#sk-container-id-1 div.sk-estimator {font-family: monospace;background-color: #f0f8ff;border: 1px dotted black;border-radius: 0.25em;box-sizing: border-box;margin-bottom: 0.5em;}#sk-container-id-1 div.sk-estimator:hover {background-color: #d4ebff;}#sk-container-id-1 div.sk-parallel-item::after {content: \"\";width: 100%;border-bottom: 1px solid gray;flex-grow: 1;}#sk-container-id-1 div.sk-label:hover label.sk-toggleable__label {background-color: #d4ebff;}#sk-container-id-1 div.sk-serial::before {content: \"\";position: absolute;border-left: 1px solid gray;box-sizing: border-box;top: 0;bottom: 0;left: 50%;z-index: 0;}#sk-container-id-1 div.sk-serial {display: flex;flex-direction: column;align-items: center;background-color: white;padding-right: 0.2em;padding-left: 0.2em;position: relative;}#sk-container-id-1 div.sk-item {position: relative;z-index: 1;}#sk-container-id-1 div.sk-parallel {display: flex;align-items: stretch;justify-content: center;background-color: white;position: relative;}#sk-container-id-1 div.sk-item::before, #sk-container-id-1 div.sk-parallel-item::before {content: \"\";position: absolute;border-left: 1px solid gray;box-sizing: border-box;top: 0;bottom: 0;left: 50%;z-index: -1;}#sk-container-id-1 div.sk-parallel-item {display: flex;flex-direction: column;z-index: 1;position: relative;background-color: white;}#sk-container-id-1 div.sk-parallel-item:first-child::after {align-self: flex-end;width: 50%;}#sk-container-id-1 div.sk-parallel-item:last-child::after {align-self: flex-start;width: 50%;}#sk-container-id-1 div.sk-parallel-item:only-child::after {width: 0;}#sk-container-id-1 div.sk-dashed-wrapped {border: 1px dashed gray;margin: 0 0.4em 0.5em 0.4em;box-sizing: border-box;padding-bottom: 0.4em;background-color: white;}#sk-container-id-1 div.sk-label label {font-family: monospace;font-weight: bold;display: inline-block;line-height: 1.2em;}#sk-container-id-1 div.sk-label-container {text-align: center;}#sk-container-id-1 div.sk-container {/* jupyter's `normalize.less` sets `[hidden] { display: none; }` but bootstrap.min.css set `[hidden] { display: none !important; }` so we also need the `!important` here to be able to override the default hidden behavior on the sphinx rendered scikit-learn.org. See: https://github.com/scikit-learn/scikit-learn/issues/21755 */display: inline-block !important;position: relative;}#sk-container-id-1 div.sk-text-repr-fallback {display: none;}</style><div id=\"sk-container-id-1\" class=\"sk-top-container\"><div class=\"sk-text-repr-fallback\"><pre>LinearRegression()</pre><b>In a Jupyter environment, please rerun this cell to show the HTML representation or trust the notebook. <br />On GitHub, the HTML representation is unable to render, please try loading this page with nbviewer.org.</b></div><div class=\"sk-container\" hidden><div class=\"sk-item\"><div class=\"sk-estimator sk-toggleable\"><input class=\"sk-toggleable__control sk-hidden--visually\" id=\"sk-estimator-id-1\" type=\"checkbox\" checked><label for=\"sk-estimator-id-1\" class=\"sk-toggleable__label sk-toggleable__label-arrow\">LinearRegression</label><div class=\"sk-toggleable__content\"><pre>LinearRegression()</pre></div></div></div></div></div>"
      ],
      "text/plain": [
       "LinearRegression()"
      ]
     },
     "execution_count": 6,
     "metadata": {},
     "output_type": "execute_result"
    }
   ],
   "source": [
    "# fit the model to our training data\n",
    "\n",
    "linear_model.fit(X_train, y_train)"
   ]
  },
  {
   "cell_type": "code",
   "execution_count": 7,
   "id": "d245d768-cf23-4431-8a1a-f2cd3393b244",
   "metadata": {},
   "outputs": [
    {
     "data": {
      "text/plain": [
       "array([121936.68858977,  83081.28740642,  77116.35322228,  81225.87801384,\n",
       "        64403.79526245])"
      ]
     },
     "execution_count": 7,
     "metadata": {},
     "output_type": "execute_result"
    }
   ],
   "source": [
    "# make predictions of the salaries on the test data\n",
    "\n",
    "predictions = linear_model.predict(X_test)\n",
    "predictions[0:5]"
   ]
  },
  {
   "cell_type": "markdown",
   "id": "0b745944-4bfa-4631-b8b7-dbf1a69d0b0c",
   "metadata": {},
   "source": [
    "- We can assess the accuracy of our predictons using the root mean squared error which is defined as: \n",
    "\n",
    "$$RMSE = \\sqrt{ \\frac{1}{n}\\sum_{i=1}^{n} (y_i - \\hat{y}_i)^2}$$\n",
    "\n",
    "- Here $\\hat{y}$ is the predictions made by our linear model on the test data (i.e., the predicted body weight) and y is the actual body weights for the points in our test set.\n"
   ]
  },
  {
   "cell_type": "code",
   "execution_count": null,
   "id": "f963fb6a-b397-4cab-b492-a1d65c17184a",
   "metadata": {},
   "outputs": [],
   "source": []
  },
  {
   "cell_type": "code",
   "execution_count": 8,
   "id": "10a4f688-1476-4e04-89a0-e1bcc9fd9129",
   "metadata": {},
   "outputs": [
    {
     "data": {
      "text/plain": [
       "84763.8003991134"
      ]
     },
     "execution_count": 8,
     "metadata": {},
     "output_type": "execute_result"
    }
   ],
   "source": [
    "# test the RMSE on the test data\n",
    "\n",
    "RMSE = np.sqrt(np.mean((y_test - predictions)**2))\n",
    "\n",
    "RMSE   \n"
   ]
  },
  {
   "cell_type": "code",
   "execution_count": null,
   "id": "f78e1be3-113a-475b-b47c-3f2dab43a02b",
   "metadata": {},
   "outputs": [],
   "source": []
  },
  {
   "cell_type": "markdown",
   "id": "4f8afb94-8dd0-4890-bb27-e4b62a156dd2",
   "metadata": {},
   "source": [
    "- We can also use scikit-learn's `mean_squared_error()` to get the MSE, and we can use the `cross_val_score` to run k-fold cross-validation (again, in a very similar way to what we did for our KNN classifier). "
   ]
  },
  {
   "cell_type": "code",
   "execution_count": 9,
   "id": "6f21879d-9be8-4e24-9ea8-c8b67f324c9d",
   "metadata": {},
   "outputs": [
    {
     "data": {
      "text/plain": [
       "84763.8003991134"
      ]
     },
     "execution_count": 9,
     "metadata": {},
     "output_type": "execute_result"
    }
   ],
   "source": [
    "from sklearn.metrics import mean_squared_error\n",
    "\n",
    "# Use scikit-learn's mean_squared_error() function to get the RMSE\n",
    "np.sqrt(mean_squared_error(y_test, predictions))\n"
   ]
  },
  {
   "cell_type": "code",
   "execution_count": 10,
   "id": "ef2b65a8-8a01-442d-b625-b52f7c23b683",
   "metadata": {},
   "outputs": [
    {
     "data": {
      "text/plain": [
       "77266.7406390397"
      ]
     },
     "execution_count": 10,
     "metadata": {},
     "output_type": "execute_result"
    }
   ],
   "source": [
    "# using cross-validation\n",
    "from sklearn.model_selection import cross_val_score\n",
    "\n",
    "linear_model = LinearRegression()\n",
    "\n",
    "scores = cross_val_score(linear_model, \n",
    "                         X_features,  \n",
    "                         y_salary, \n",
    "                         cv = 5, \n",
    "                         scoring='neg_mean_squared_error')\n",
    "\n",
    "np.sqrt(np.mean(-1 * scores))"
   ]
  },
  {
   "cell_type": "markdown",
   "id": "ed6bfdb3-167b-480f-b98d-2c4065ca6b7e",
   "metadata": {},
   "source": [
    "- What does RMSE measures? \n",
    "- Answer: \n"
   ]
  },
  {
   "cell_type": "markdown",
   "id": "0b74db13-e8bb-40cf-a649-c8c0e548b0ea",
   "metadata": {},
   "source": [
    "### Regression model equation\n",
    "\n",
    "In linear regression, our predicted $\\hat{y}$ values are given by the equation: $\\hat{y} = b_0 + b_1 x_1 + ... + + b_k x_k$.\n",
    "\n",
    "Let's fill out this equation for prediciting salary. \n",
    "\n",
    "To do this, let's start by extracting the intercept ($b_0$) and slope coefficients ($b_i's$) from our scikit-learn model.\n"
   ]
  },
  {
   "cell_type": "code",
   "execution_count": 11,
   "id": "fbe99d74-05ad-4b56-b570-2d152512e2e2",
   "metadata": {},
   "outputs": [
    {
     "data": {
      "text/plain": [
       "(40883.04610068797, array([ 3.07899709e+00,  2.06997650e+03, -1.82767685e+00]))"
      ]
     },
     "execution_count": 11,
     "metadata": {},
     "output_type": "execute_result"
    }
   ],
   "source": [
    "\n",
    "# fit the linear regression model to our training data\n",
    "linear_model.fit(X_train, y_train)\n",
    "\n",
    "# get the intercept and slope coefficients\n",
    "sklearn_intercept = linear_model.intercept_\n",
    "sklearn_coefficients = linear_model.coef_\n",
    "\n",
    "# print out the coefficient values\n",
    "(sklearn_intercept, sklearn_coefficients)  \n"
   ]
  },
  {
   "cell_type": "markdown",
   "id": "ffde2a52-c4af-434c-b317-6517aa74a942",
   "metadata": {},
   "source": [
    "- Given these coefficient values can you write our the regression equation for predicting person's salary? \n",
    "- Answer: "
   ]
  },
  {
   "cell_type": "markdown",
   "id": "2cf14416-ac73-46bc-a2f0-aa6caef5eb15",
   "metadata": {},
   "source": [
    "#### Writing our own prediction function\n",
    "\n",
    "Let's also write our own function called `get_predictions(b0_intercept, b_coefficients, X_data)` that takes the coefficient values and X values and returns predicted $\\hat{y}$ values for each X value. In particular, the arguments to the function are:\n",
    "\n",
    "1. `b0_intercept`: The linear regression intercept\n",
    "2. `b_coefficients`: The linear regression slope coefficients\n",
    "3. `X_data`: The X data values \n",
    "\n",
    "The returned value is a numpy ndarray of predictions for each X data point. \n"
   ]
  },
  {
   "cell_type": "code",
   "execution_count": 12,
   "id": "14b2b320-91c4-4444-beaf-88190f31fd52",
   "metadata": {},
   "outputs": [
    {
     "data": {
      "text/plain": [
       "array([ True,  True,  True, ...,  True,  True,  True])"
      ]
     },
     "execution_count": 12,
     "metadata": {},
     "output_type": "execute_result"
    }
   ],
   "source": [
    "# write a function to get the predictions\n",
    "def get_predictions(b0_intercept, b_coefficients, X_data):\n",
    "    return np.sum(X_data.to_numpy() * b_coefficients, axis = 1) + b0_intercept \n",
    "\n",
    "\n",
    "# get the predicted values on the test data\n",
    "predicted_vals = get_predictions(sklearn_intercept, sklearn_coefficients, X_test)\n",
    "\n",
    "\n",
    "# see the it matches the scikit-learn predictions\n",
    "predicted_vals_sklearn = linear_model.predict(X_test)\n",
    "predicted_vals == predicted_vals_sklearn\n"
   ]
  },
  {
   "cell_type": "markdown",
   "id": "4a23e92f-3595-4b95-9291-821ba9c408a9",
   "metadata": {},
   "source": [
    "## Inference on regression coefficients\n",
    "\n",
    "We can also run inference procedures on our regression model using the statsmodel package. In particular, we can run hypothesis tests and create confidence intervals for our regression coefficents. \n",
    "\n",
    "When running a hypothesis test, our hypotheses are:\n",
    "\n",
    "$H_0: \\beta_i = 0$  \n",
    "$H_A: \\beta_i \\ne 0$\n"
   ]
  },
  {
   "cell_type": "code",
   "execution_count": 13,
   "id": "7106a411-7e49-444c-9e29-a6be35827a29",
   "metadata": {},
   "outputs": [
    {
     "name": "stdout",
     "output_type": "stream",
     "text": [
      "                            OLS Regression Results                            \n",
      "==============================================================================\n",
      "Dep. Variable:          person_income   R-squared:                       0.092\n",
      "Model:                            OLS   Adj. R-squared:                  0.092\n",
      "Method:                 Least Squares   F-statistic:                     1144.\n",
      "Date:                Thu, 21 Nov 2024   Prob (F-statistic):               0.00\n",
      "Time:                        16:17:21   Log-Likelihood:            -4.2624e+05\n",
      "No. Observations:               33750   AIC:                         8.525e+05\n",
      "Df Residuals:                   33746   BIC:                         8.525e+05\n",
      "Df Model:                           3                                         \n",
      "Covariance Type:            nonrobust                                         \n",
      "==================================================================================\n",
      "                     coef    std err          t      P>|t|      [0.025      0.975]\n",
      "----------------------------------------------------------------------------------\n",
      "const           4.088e+04   5118.944      7.987      0.000    3.08e+04    5.09e+04\n",
      "loan_amnt          3.0790      0.064     48.349      0.000       2.954       3.204\n",
      "person_emp_exp  2069.9765     67.952     30.462      0.000    1936.788    2203.165\n",
      "credit_score      -1.8277      8.105     -0.226      0.822     -17.713      14.058\n",
      "==============================================================================\n",
      "Omnibus:                    85983.331   Durbin-Watson:                   1.995\n",
      "Prob(Omnibus):                  0.000   Jarque-Bera (JB):       4097970918.352\n",
      "Skew:                          28.252   Prob(JB):                         0.00\n",
      "Kurtosis:                    1709.142   Cond. No.                     1.47e+05\n",
      "==============================================================================\n",
      "\n",
      "Notes:\n",
      "[1] Standard Errors assume that the covariance matrix of the errors is correctly specified.\n",
      "[2] The condition number is large, 1.47e+05. This might indicate that there are\n",
      "strong multicollinearity or other numerical problems.\n"
     ]
    }
   ],
   "source": [
    "# Hypothesis test on regression coeffients - which coefficients are statistically significantly different from zero? \n",
    "# (and confidence interval)\n",
    "\n",
    "import statsmodels.api as sm\n",
    "\n",
    "# add a constant value of 1 to our data\n",
    "X_train_with_constant = sm.add_constant(X_train) \n",
    "\n",
    "# fit the linear regression model using the OLS function\n",
    "sm_linear_model = sm.OLS(y_train, X_train_with_constant).fit()\n",
    "\n",
    "# get information on the regression coefficients found\n",
    "print(sm_linear_model.summary())\n"
   ]
  },
  {
   "cell_type": "markdown",
   "id": "38f48182-dd31-4a6e-b570-befe4f9d2067",
   "metadata": {},
   "source": [
    "- Would you drop `credit_score`? Why?\n",
    "- Answer: "
   ]
  },
  {
   "cell_type": "markdown",
   "id": "8a4a3b7f-0b47-4fb0-bfab-f6a216665ef2",
   "metadata": {},
   "source": [
    "# 2. Linear Regression with categorical features. "
   ]
  },
  {
   "cell_type": "code",
   "execution_count": 14,
   "id": "1da3a1a5-be75-4515-87e6-28e0a1959565",
   "metadata": {},
   "outputs": [
    {
     "data": {
      "text/html": [
       "<div>\n",
       "<style scoped>\n",
       "    .dataframe tbody tr th:only-of-type {\n",
       "        vertical-align: middle;\n",
       "    }\n",
       "\n",
       "    .dataframe tbody tr th {\n",
       "        vertical-align: top;\n",
       "    }\n",
       "\n",
       "    .dataframe thead th {\n",
       "        text-align: right;\n",
       "    }\n",
       "</style>\n",
       "<table border=\"1\" class=\"dataframe\">\n",
       "  <thead>\n",
       "    <tr style=\"text-align: right;\">\n",
       "      <th></th>\n",
       "      <th>person_age</th>\n",
       "      <th>person_gender</th>\n",
       "      <th>person_education</th>\n",
       "      <th>person_income</th>\n",
       "      <th>person_emp_exp</th>\n",
       "      <th>person_home_ownership</th>\n",
       "      <th>loan_amnt</th>\n",
       "      <th>loan_intent</th>\n",
       "      <th>loan_int_rate</th>\n",
       "      <th>cb_person_cred_hist_length</th>\n",
       "      <th>credit_score</th>\n",
       "      <th>previous_loan_defaults_on_file</th>\n",
       "      <th>loan_status</th>\n",
       "    </tr>\n",
       "  </thead>\n",
       "  <tbody>\n",
       "    <tr>\n",
       "      <th>44997</th>\n",
       "      <td>33.0</td>\n",
       "      <td>male</td>\n",
       "      <td>Associate</td>\n",
       "      <td>56942.0</td>\n",
       "      <td>7</td>\n",
       "      <td>RENT</td>\n",
       "      <td>2771.0</td>\n",
       "      <td>DEBTCONSOLIDATION</td>\n",
       "      <td>10.02</td>\n",
       "      <td>10.0</td>\n",
       "      <td>668</td>\n",
       "      <td>No</td>\n",
       "      <td>1</td>\n",
       "    </tr>\n",
       "    <tr>\n",
       "      <th>44998</th>\n",
       "      <td>29.0</td>\n",
       "      <td>male</td>\n",
       "      <td>Bachelor</td>\n",
       "      <td>33164.0</td>\n",
       "      <td>4</td>\n",
       "      <td>RENT</td>\n",
       "      <td>12000.0</td>\n",
       "      <td>EDUCATION</td>\n",
       "      <td>13.23</td>\n",
       "      <td>6.0</td>\n",
       "      <td>604</td>\n",
       "      <td>No</td>\n",
       "      <td>1</td>\n",
       "    </tr>\n",
       "    <tr>\n",
       "      <th>44999</th>\n",
       "      <td>24.0</td>\n",
       "      <td>male</td>\n",
       "      <td>High School</td>\n",
       "      <td>51609.0</td>\n",
       "      <td>1</td>\n",
       "      <td>RENT</td>\n",
       "      <td>6665.0</td>\n",
       "      <td>DEBTCONSOLIDATION</td>\n",
       "      <td>17.05</td>\n",
       "      <td>3.0</td>\n",
       "      <td>628</td>\n",
       "      <td>No</td>\n",
       "      <td>1</td>\n",
       "    </tr>\n",
       "  </tbody>\n",
       "</table>\n",
       "</div>"
      ],
      "text/plain": [
       "       person_age person_gender person_education  person_income  \\\n",
       "44997        33.0          male        Associate        56942.0   \n",
       "44998        29.0          male         Bachelor        33164.0   \n",
       "44999        24.0          male      High School        51609.0   \n",
       "\n",
       "       person_emp_exp person_home_ownership  loan_amnt        loan_intent  \\\n",
       "44997               7                  RENT     2771.0  DEBTCONSOLIDATION   \n",
       "44998               4                  RENT    12000.0          EDUCATION   \n",
       "44999               1                  RENT     6665.0  DEBTCONSOLIDATION   \n",
       "\n",
       "       loan_int_rate  cb_person_cred_hist_length  credit_score  \\\n",
       "44997          10.02                        10.0           668   \n",
       "44998          13.23                         6.0           604   \n",
       "44999          17.05                         3.0           628   \n",
       "\n",
       "      previous_loan_defaults_on_file  loan_status  \n",
       "44997                             No            1  \n",
       "44998                             No            1  \n",
       "44999                             No            1  "
      ]
     },
     "execution_count": 14,
     "metadata": {},
     "output_type": "execute_result"
    }
   ],
   "source": [
    "# Let us recall our dataset. \n",
    "\n",
    "loans.tail(3)"
   ]
  },
  {
   "cell_type": "code",
   "execution_count": 15,
   "id": "25e4abf7-429f-4283-b30e-6ae54eea5677",
   "metadata": {},
   "outputs": [
    {
     "data": {
      "text/html": [
       "<div>\n",
       "<style scoped>\n",
       "    .dataframe tbody tr th:only-of-type {\n",
       "        vertical-align: middle;\n",
       "    }\n",
       "\n",
       "    .dataframe tbody tr th {\n",
       "        vertical-align: top;\n",
       "    }\n",
       "\n",
       "    .dataframe thead th {\n",
       "        text-align: right;\n",
       "    }\n",
       "</style>\n",
       "<table border=\"1\" class=\"dataframe\">\n",
       "  <thead>\n",
       "    <tr style=\"text-align: right;\">\n",
       "      <th></th>\n",
       "      <th>person_age</th>\n",
       "      <th>person_gender</th>\n",
       "      <th>person_education</th>\n",
       "      <th>person_income</th>\n",
       "      <th>person_emp_exp</th>\n",
       "      <th>person_home_ownership</th>\n",
       "      <th>loan_amnt</th>\n",
       "      <th>loan_intent</th>\n",
       "      <th>loan_int_rate</th>\n",
       "      <th>cb_person_cred_hist_length</th>\n",
       "      <th>credit_score</th>\n",
       "      <th>previous_loan_defaults_on_file</th>\n",
       "      <th>loan_status</th>\n",
       "      <th>gender</th>\n",
       "    </tr>\n",
       "  </thead>\n",
       "  <tbody>\n",
       "    <tr>\n",
       "      <th>0</th>\n",
       "      <td>22.0</td>\n",
       "      <td>female</td>\n",
       "      <td>Master</td>\n",
       "      <td>71948.0</td>\n",
       "      <td>0</td>\n",
       "      <td>RENT</td>\n",
       "      <td>35000.0</td>\n",
       "      <td>PERSONAL</td>\n",
       "      <td>16.02</td>\n",
       "      <td>3.0</td>\n",
       "      <td>561</td>\n",
       "      <td>No</td>\n",
       "      <td>1</td>\n",
       "      <td>1</td>\n",
       "    </tr>\n",
       "    <tr>\n",
       "      <th>1</th>\n",
       "      <td>21.0</td>\n",
       "      <td>female</td>\n",
       "      <td>High School</td>\n",
       "      <td>12282.0</td>\n",
       "      <td>0</td>\n",
       "      <td>OWN</td>\n",
       "      <td>1000.0</td>\n",
       "      <td>EDUCATION</td>\n",
       "      <td>11.14</td>\n",
       "      <td>2.0</td>\n",
       "      <td>504</td>\n",
       "      <td>Yes</td>\n",
       "      <td>0</td>\n",
       "      <td>1</td>\n",
       "    </tr>\n",
       "    <tr>\n",
       "      <th>2</th>\n",
       "      <td>25.0</td>\n",
       "      <td>female</td>\n",
       "      <td>High School</td>\n",
       "      <td>12438.0</td>\n",
       "      <td>3</td>\n",
       "      <td>MORTGAGE</td>\n",
       "      <td>5500.0</td>\n",
       "      <td>MEDICAL</td>\n",
       "      <td>12.87</td>\n",
       "      <td>3.0</td>\n",
       "      <td>635</td>\n",
       "      <td>No</td>\n",
       "      <td>1</td>\n",
       "      <td>1</td>\n",
       "    </tr>\n",
       "    <tr>\n",
       "      <th>3</th>\n",
       "      <td>23.0</td>\n",
       "      <td>female</td>\n",
       "      <td>Bachelor</td>\n",
       "      <td>79753.0</td>\n",
       "      <td>0</td>\n",
       "      <td>RENT</td>\n",
       "      <td>35000.0</td>\n",
       "      <td>MEDICAL</td>\n",
       "      <td>15.23</td>\n",
       "      <td>2.0</td>\n",
       "      <td>675</td>\n",
       "      <td>No</td>\n",
       "      <td>1</td>\n",
       "      <td>1</td>\n",
       "    </tr>\n",
       "    <tr>\n",
       "      <th>4</th>\n",
       "      <td>24.0</td>\n",
       "      <td>male</td>\n",
       "      <td>Master</td>\n",
       "      <td>66135.0</td>\n",
       "      <td>1</td>\n",
       "      <td>RENT</td>\n",
       "      <td>35000.0</td>\n",
       "      <td>MEDICAL</td>\n",
       "      <td>14.27</td>\n",
       "      <td>4.0</td>\n",
       "      <td>586</td>\n",
       "      <td>No</td>\n",
       "      <td>1</td>\n",
       "      <td>0</td>\n",
       "    </tr>\n",
       "  </tbody>\n",
       "</table>\n",
       "</div>"
      ],
      "text/plain": [
       "   person_age person_gender person_education  person_income  person_emp_exp  \\\n",
       "0        22.0        female           Master        71948.0               0   \n",
       "1        21.0        female      High School        12282.0               0   \n",
       "2        25.0        female      High School        12438.0               3   \n",
       "3        23.0        female         Bachelor        79753.0               0   \n",
       "4        24.0          male           Master        66135.0               1   \n",
       "\n",
       "  person_home_ownership  loan_amnt loan_intent  loan_int_rate  \\\n",
       "0                  RENT    35000.0    PERSONAL          16.02   \n",
       "1                   OWN     1000.0   EDUCATION          11.14   \n",
       "2              MORTGAGE     5500.0     MEDICAL          12.87   \n",
       "3                  RENT    35000.0     MEDICAL          15.23   \n",
       "4                  RENT    35000.0     MEDICAL          14.27   \n",
       "\n",
       "   cb_person_cred_hist_length  credit_score previous_loan_defaults_on_file  \\\n",
       "0                         3.0           561                             No   \n",
       "1                         2.0           504                            Yes   \n",
       "2                         3.0           635                             No   \n",
       "3                         2.0           675                             No   \n",
       "4                         4.0           586                             No   \n",
       "\n",
       "   loan_status  gender  \n",
       "0            1       1  \n",
       "1            0       1  \n",
       "2            1       1  \n",
       "3            1       1  \n",
       "4            1       0  "
      ]
     },
     "execution_count": 15,
     "metadata": {},
     "output_type": "execute_result"
    }
   ],
   "source": [
    "# Let us code Male = 0 and Female = 1. \n",
    "\n",
    "loans[\"gender\"] = 1\n",
    "gender_bool = loans[\"person_gender\"] == \"male\"\n",
    "loans.loc[gender_bool, 'gender'] = 0 \n",
    "loans.head()\n",
    "\n",
    "\n"
   ]
  },
  {
   "cell_type": "markdown",
   "id": "cf139f0c-024f-45c4-bb5c-7a9ddd2929ab",
   "metadata": {},
   "source": [
    "## Run Linear Regression with your choice of features but make sure to include `gender` as one of your features. "
   ]
  },
  {
   "cell_type": "code",
   "execution_count": null,
   "id": "b9e6ded4-b70c-44ef-97d4-3ab16f10cf58",
   "metadata": {},
   "outputs": [],
   "source": []
  },
  {
   "cell_type": "code",
   "execution_count": 16,
   "id": "6cf0dac9-ab19-4078-a4b1-8bcbf001e77d",
   "metadata": {},
   "outputs": [],
   "source": [
    "# get the features and the labels\n",
    "\n",
    "X_features_2 = loans[[\n",
    "                    'loan_amnt', \n",
    "                    'person_emp_exp',\n",
    "                    'gender'\n",
    "                   ]]\n",
    "\n",
    "y_salary_2 = loans['person_income']\n",
    "\n",
    "\n"
   ]
  },
  {
   "cell_type": "code",
   "execution_count": null,
   "id": "4a53abbb-33b4-47e1-9aba-f32d20bd6780",
   "metadata": {},
   "outputs": [],
   "source": []
  },
  {
   "cell_type": "code",
   "execution_count": 17,
   "id": "d6da3f7f-8ea7-4889-af33-d7a60df79fff",
   "metadata": {},
   "outputs": [
    {
     "name": "stdout",
     "output_type": "stream",
     "text": [
      "(33750, 3)\n",
      "(11250, 3)\n"
     ]
    },
    {
     "data": {
      "text/html": [
       "<div>\n",
       "<style scoped>\n",
       "    .dataframe tbody tr th:only-of-type {\n",
       "        vertical-align: middle;\n",
       "    }\n",
       "\n",
       "    .dataframe tbody tr th {\n",
       "        vertical-align: top;\n",
       "    }\n",
       "\n",
       "    .dataframe thead th {\n",
       "        text-align: right;\n",
       "    }\n",
       "</style>\n",
       "<table border=\"1\" class=\"dataframe\">\n",
       "  <thead>\n",
       "    <tr style=\"text-align: right;\">\n",
       "      <th></th>\n",
       "      <th>loan_amnt</th>\n",
       "      <th>person_emp_exp</th>\n",
       "      <th>gender</th>\n",
       "    </tr>\n",
       "  </thead>\n",
       "  <tbody>\n",
       "    <tr>\n",
       "      <th>34761</th>\n",
       "      <td>15912.0</td>\n",
       "      <td>3</td>\n",
       "      <td>0</td>\n",
       "    </tr>\n",
       "    <tr>\n",
       "      <th>17827</th>\n",
       "      <td>1500.0</td>\n",
       "      <td>3</td>\n",
       "      <td>1</td>\n",
       "    </tr>\n",
       "    <tr>\n",
       "      <th>8937</th>\n",
       "      <td>8000.0</td>\n",
       "      <td>2</td>\n",
       "      <td>0</td>\n",
       "    </tr>\n",
       "    <tr>\n",
       "      <th>26508</th>\n",
       "      <td>14500.0</td>\n",
       "      <td>10</td>\n",
       "      <td>1</td>\n",
       "    </tr>\n",
       "    <tr>\n",
       "      <th>36846</th>\n",
       "      <td>6000.0</td>\n",
       "      <td>8</td>\n",
       "      <td>1</td>\n",
       "    </tr>\n",
       "  </tbody>\n",
       "</table>\n",
       "</div>"
      ],
      "text/plain": [
       "       loan_amnt  person_emp_exp  gender\n",
       "34761    15912.0               3       0\n",
       "17827     1500.0               3       1\n",
       "8937      8000.0               2       0\n",
       "26508    14500.0              10       1\n",
       "36846     6000.0               8       1"
      ]
     },
     "execution_count": 17,
     "metadata": {},
     "output_type": "execute_result"
    }
   ],
   "source": [
    "from sklearn.model_selection import train_test_split\n",
    "\n",
    "# split data into a training and test set\n",
    "\n",
    "X_train, X_test, y_train, y_test = train_test_split(X_features_2,  \n",
    "                                                    y_salary_2, \n",
    "                                                    random_state = 0)\n",
    "\n",
    "print(X_train.shape)\n",
    "print(X_test.shape)\n",
    "\n",
    "X_train.head(5)\n"
   ]
  },
  {
   "cell_type": "code",
   "execution_count": null,
   "id": "3d760a97-06ed-417f-8681-fdc10794a601",
   "metadata": {},
   "outputs": [],
   "source": []
  },
  {
   "cell_type": "code",
   "execution_count": 18,
   "id": "7c4e02ac-8283-4ae6-8140-e6e809eb6575",
   "metadata": {},
   "outputs": [],
   "source": [
    "from sklearn.linear_model import LinearRegression\n",
    "\n",
    "# create a new linear regression modedl\n",
    "linear_model = LinearRegression()"
   ]
  },
  {
   "cell_type": "code",
   "execution_count": null,
   "id": "bbbd1c3e-dcae-46ca-8ff4-28ac24160d74",
   "metadata": {},
   "outputs": [],
   "source": []
  },
  {
   "cell_type": "code",
   "execution_count": 19,
   "id": "0b7b525a-125a-4bc5-9904-2cd92d335c21",
   "metadata": {},
   "outputs": [
    {
     "data": {
      "text/html": [
       "<style>#sk-container-id-2 {color: black;}#sk-container-id-2 pre{padding: 0;}#sk-container-id-2 div.sk-toggleable {background-color: white;}#sk-container-id-2 label.sk-toggleable__label {cursor: pointer;display: block;width: 100%;margin-bottom: 0;padding: 0.3em;box-sizing: border-box;text-align: center;}#sk-container-id-2 label.sk-toggleable__label-arrow:before {content: \"▸\";float: left;margin-right: 0.25em;color: #696969;}#sk-container-id-2 label.sk-toggleable__label-arrow:hover:before {color: black;}#sk-container-id-2 div.sk-estimator:hover label.sk-toggleable__label-arrow:before {color: black;}#sk-container-id-2 div.sk-toggleable__content {max-height: 0;max-width: 0;overflow: hidden;text-align: left;background-color: #f0f8ff;}#sk-container-id-2 div.sk-toggleable__content pre {margin: 0.2em;color: black;border-radius: 0.25em;background-color: #f0f8ff;}#sk-container-id-2 input.sk-toggleable__control:checked~div.sk-toggleable__content {max-height: 200px;max-width: 100%;overflow: auto;}#sk-container-id-2 input.sk-toggleable__control:checked~label.sk-toggleable__label-arrow:before {content: \"▾\";}#sk-container-id-2 div.sk-estimator input.sk-toggleable__control:checked~label.sk-toggleable__label {background-color: #d4ebff;}#sk-container-id-2 div.sk-label input.sk-toggleable__control:checked~label.sk-toggleable__label {background-color: #d4ebff;}#sk-container-id-2 input.sk-hidden--visually {border: 0;clip: rect(1px 1px 1px 1px);clip: rect(1px, 1px, 1px, 1px);height: 1px;margin: -1px;overflow: hidden;padding: 0;position: absolute;width: 1px;}#sk-container-id-2 div.sk-estimator {font-family: monospace;background-color: #f0f8ff;border: 1px dotted black;border-radius: 0.25em;box-sizing: border-box;margin-bottom: 0.5em;}#sk-container-id-2 div.sk-estimator:hover {background-color: #d4ebff;}#sk-container-id-2 div.sk-parallel-item::after {content: \"\";width: 100%;border-bottom: 1px solid gray;flex-grow: 1;}#sk-container-id-2 div.sk-label:hover label.sk-toggleable__label {background-color: #d4ebff;}#sk-container-id-2 div.sk-serial::before {content: \"\";position: absolute;border-left: 1px solid gray;box-sizing: border-box;top: 0;bottom: 0;left: 50%;z-index: 0;}#sk-container-id-2 div.sk-serial {display: flex;flex-direction: column;align-items: center;background-color: white;padding-right: 0.2em;padding-left: 0.2em;position: relative;}#sk-container-id-2 div.sk-item {position: relative;z-index: 1;}#sk-container-id-2 div.sk-parallel {display: flex;align-items: stretch;justify-content: center;background-color: white;position: relative;}#sk-container-id-2 div.sk-item::before, #sk-container-id-2 div.sk-parallel-item::before {content: \"\";position: absolute;border-left: 1px solid gray;box-sizing: border-box;top: 0;bottom: 0;left: 50%;z-index: -1;}#sk-container-id-2 div.sk-parallel-item {display: flex;flex-direction: column;z-index: 1;position: relative;background-color: white;}#sk-container-id-2 div.sk-parallel-item:first-child::after {align-self: flex-end;width: 50%;}#sk-container-id-2 div.sk-parallel-item:last-child::after {align-self: flex-start;width: 50%;}#sk-container-id-2 div.sk-parallel-item:only-child::after {width: 0;}#sk-container-id-2 div.sk-dashed-wrapped {border: 1px dashed gray;margin: 0 0.4em 0.5em 0.4em;box-sizing: border-box;padding-bottom: 0.4em;background-color: white;}#sk-container-id-2 div.sk-label label {font-family: monospace;font-weight: bold;display: inline-block;line-height: 1.2em;}#sk-container-id-2 div.sk-label-container {text-align: center;}#sk-container-id-2 div.sk-container {/* jupyter's `normalize.less` sets `[hidden] { display: none; }` but bootstrap.min.css set `[hidden] { display: none !important; }` so we also need the `!important` here to be able to override the default hidden behavior on the sphinx rendered scikit-learn.org. See: https://github.com/scikit-learn/scikit-learn/issues/21755 */display: inline-block !important;position: relative;}#sk-container-id-2 div.sk-text-repr-fallback {display: none;}</style><div id=\"sk-container-id-2\" class=\"sk-top-container\"><div class=\"sk-text-repr-fallback\"><pre>LinearRegression()</pre><b>In a Jupyter environment, please rerun this cell to show the HTML representation or trust the notebook. <br />On GitHub, the HTML representation is unable to render, please try loading this page with nbviewer.org.</b></div><div class=\"sk-container\" hidden><div class=\"sk-item\"><div class=\"sk-estimator sk-toggleable\"><input class=\"sk-toggleable__control sk-hidden--visually\" id=\"sk-estimator-id-2\" type=\"checkbox\" checked><label for=\"sk-estimator-id-2\" class=\"sk-toggleable__label sk-toggleable__label-arrow\">LinearRegression</label><div class=\"sk-toggleable__content\"><pre>LinearRegression()</pre></div></div></div></div></div>"
      ],
      "text/plain": [
       "LinearRegression()"
      ]
     },
     "execution_count": 19,
     "metadata": {},
     "output_type": "execute_result"
    }
   ],
   "source": [
    "# fit the model to our training data\n",
    "\n",
    "linear_model.fit(X_train, y_train)"
   ]
  },
  {
   "cell_type": "code",
   "execution_count": null,
   "id": "30a258c3-0fec-43a5-8356-74144313228d",
   "metadata": {},
   "outputs": [],
   "source": []
  },
  {
   "cell_type": "code",
   "execution_count": 20,
   "id": "15ba4407-0576-457a-8579-45fd8ebbffc8",
   "metadata": {},
   "outputs": [
    {
     "name": "stdout",
     "output_type": "stream",
     "text": [
      "                            OLS Regression Results                            \n",
      "==============================================================================\n",
      "Dep. Variable:          person_income   R-squared:                       0.092\n",
      "Model:                            OLS   Adj. R-squared:                  0.092\n",
      "Method:                 Least Squares   F-statistic:                     1145.\n",
      "Date:                Thu, 21 Nov 2024   Prob (F-statistic):               0.00\n",
      "Time:                        16:17:57   Log-Likelihood:            -4.2624e+05\n",
      "No. Observations:               33750   AIC:                         8.525e+05\n",
      "Df Residuals:                   33746   BIC:                         8.525e+05\n",
      "Df Model:                           3                                         \n",
      "Covariance Type:            nonrobust                                         \n",
      "==================================================================================\n",
      "                     coef    std err          t      P>|t|      [0.025      0.975]\n",
      "----------------------------------------------------------------------------------\n",
      "const           4.038e+04    887.554     45.501      0.000    3.86e+04    4.21e+04\n",
      "loan_amnt          3.0779      0.064     48.332      0.000       2.953       3.203\n",
      "person_emp_exp  2065.6968     66.777     30.934      0.000    1934.811    2196.583\n",
      "gender         -1390.6578    808.916     -1.719      0.086   -2976.161     194.846\n",
      "==============================================================================\n",
      "Omnibus:                    85978.692   Durbin-Watson:                   1.995\n",
      "Prob(Omnibus):                  0.000   Jarque-Bera (JB):       4096359828.532\n",
      "Skew:                          28.248   Prob(JB):                         0.00\n",
      "Kurtosis:                    1708.806   Cond. No.                     2.90e+04\n",
      "==============================================================================\n",
      "\n",
      "Notes:\n",
      "[1] Standard Errors assume that the covariance matrix of the errors is correctly specified.\n",
      "[2] The condition number is large, 2.9e+04. This might indicate that there are\n",
      "strong multicollinearity or other numerical problems.\n"
     ]
    }
   ],
   "source": [
    "# Hypothesis test on regression coeffients - which coefficients are statistically significantly different from zero? \n",
    "# (and confidence interval)\n",
    "\n",
    "import statsmodels.api as sm\n",
    "\n",
    "# add a constant value of 1 to our data\n",
    "X_train_with_constant = sm.add_constant(X_train) \n",
    "\n",
    "# fit the linear regression model using the OLS function\n",
    "sm_linear_model = sm.OLS(y_train, X_train_with_constant).fit()\n",
    "\n",
    "# get information on the regression coefficients found\n",
    "print(sm_linear_model.summary())\n"
   ]
  },
  {
   "cell_type": "markdown",
   "id": "13aa06d6-a5ee-4f48-9e10-532b4ca5a0b1",
   "metadata": {},
   "source": [
    "-  Gender coefficient is $-1390.6578$. What does this mean?\n",
    "-  Answer: "
   ]
  },
  {
   "cell_type": "markdown",
   "id": "8b3cc6af-caa5-4d37-a628-29040f75e2e8",
   "metadata": {},
   "source": [
    "- What is the p-value associated with Gender coefficient and how to interpret it?\n",
    "- Answer: "
   ]
  },
  {
   "cell_type": "markdown",
   "id": "ae4b9769-0562-48f1-b5b6-ac84ef0aa5dd",
   "metadata": {},
   "source": [
    "# 3. Open Ended: Build a predictive model to predict salaries using the dataset `loans` from above. "
   ]
  },
  {
   "cell_type": "code",
   "execution_count": null,
   "id": "bc0a9816-1d47-4ff9-a374-e06c63463400",
   "metadata": {},
   "outputs": [],
   "source": []
  }
 ],
 "metadata": {
  "kernelspec": {
   "display_name": "Python 3 (ipykernel)",
   "language": "python",
   "name": "python3"
  },
  "language_info": {
   "codemirror_mode": {
    "name": "ipython",
    "version": 3
   },
   "file_extension": ".py",
   "mimetype": "text/x-python",
   "name": "python",
   "nbconvert_exporter": "python",
   "pygments_lexer": "ipython3",
   "version": "3.11.7"
  }
 },
 "nbformat": 4,
 "nbformat_minor": 5
}
