{
 "cells": [
  {
   "cell_type": "markdown",
   "metadata": {
    "id": "V7W0zBsnVk8A"
   },
   "source": [
    "# Homework 1: Intro to Python\n",
    "\n",
    "Welcome to homework 1!  Please complete this notebook by filling in the cells provided. "
   ]
  },
  {
   "cell_type": "markdown",
   "metadata": {
    "id": "ndCqyJPYVk8E"
   },
   "source": [
    "\n",
    "**Required Reading:**\n",
    "- [Excerpt from \"Data and the American Dream\"](https://github.com/emeyers/YData/raw/main/ClassMaterial/reading/data_and_the_american_dream_reading.pdf)\n",
    "\n",
    "\n",
    "**Recommended Reading:**\n",
    "- [Chapter 1: What is Data Science](https://matthew-brett.github.io/dsfe/chapters/01/what-is-data-science)\n",
    "- [Chapter 2: Programming in Python](https://matthew-brett.github.io/dsfe/chapters/02/to_code)\n",
    "\n",
    "For all problems that you must write explanations and sentences for, please provide your answer in the designated space. Moreover, throughout this homework and all future ones, please be sure to not re-assign variables throughout the notebook! For example, if you use `max_temperature` in your answer to one question, do not reassign it later on. \n",
    "\n",
    "**Deadline:**\n",
    "\n",
    "This assignment is due **Sunday January 28th at 11pm.** You can turn in the assignment up to 24 hours late for 90% credit (after that, the homework will only be accepted with a dean's excuse). \n",
    "\n",
    "Directly sharing answers is not okay, but discussing problems with the course staff or with other students is encouraged. Refer to the policies page to learn more about how to learn cooperatively.\n",
    "\n",
    "You should start early so that you have time to get help if you're stuck. The drop-in office hours schedule can be found on [Canvas](https://yale.instructure.com/courses/95068/pages/office-hours).  You can also post questions or start discussions on [Ed Discussion](https://edstem.org/us/courses/49549/discussion/).\n"
   ]
  },
  {
   "cell_type": "markdown",
   "metadata": {},
   "source": [
    "## Getting started\n",
    "\n",
    "In order to complete the homework it is necessary to download a few files. Please run the code below **only once** to download data needed to complete the homework. To run the code, click in the cell below and press the play buttom (or press shift-enter). \n"
   ]
  },
  {
   "cell_type": "code",
   "execution_count": null,
   "metadata": {},
   "outputs": [],
   "source": [
    "# if you are running this notebook in Google colab, please uncomment and run the following line\n",
    "# (if you are using Anaconda on your own computer or the YCRC Jupyter noteboks you can ignore it)\n",
    "\n",
    "# !pip install https://github.com/emeyers/YData_package/tarball/master"
   ]
  },
  {
   "cell_type": "code",
   "execution_count": 3,
   "metadata": {},
   "outputs": [
    {
     "name": "stdout",
     "output_type": "stream",
     "text": [
      "The file `ACS_2017_sample_01.csv` already exists.\n",
      "If you would like to download a new copy of the file, please rename the existing copy of the file.\n",
      "The file `ACS_2017_sample_02.csv` already exists.\n",
      "If you would like to download a new copy of the file, please rename the existing copy of the file.\n"
     ]
    }
   ],
   "source": [
    "# Please run this code once to download the files you will need to complete the homework \n",
    "\n",
    "import YData \n",
    "\n",
    "YData.download.download_data(\"ACS_2017_sample_01.csv\")\n"
   ]
  },
  {
   "cell_type": "markdown",
   "metadata": {
    "id": "5QMtVeoHVk8H"
   },
   "source": [
    "## 1. The American Community Survey (ACS)\n",
    "\n",
    "The book \"Data and the American Dream\" by Matthew Holian replicates results from several published papers that analyzed the American Community Survey (ACS). Please read the excerpt from this book [found here](https://github.com/emeyers/YData/raw/main/ClassMaterial/reading/data_and_the_american_dream_reading.pdf) in order to understand the ACS dataset, which is a dataset we will use on this, and a few subsequent homework assignments. \n",
    "\n",
    "While you are reading, please also write down one quote that you find interesting from the chapter. Then in the space below, write down the quote as well as a one paragraph description for why you thought the quote was interesting. "
   ]
  },
  {
   "cell_type": "markdown",
   "metadata": {
    "id": "lp_jPUJmVk8M"
   },
   "source": [
    "**Question 1.1 (8 points)**  Please write down your \"quote and reaction\" here.\n",
    "\n",
    "*Quote:*  ...\n",
    "\n",
    "Reaction: ... \n",
    "\n"
   ]
  },
  {
   "cell_type": "markdown",
   "metadata": {},
   "source": [
    "**Question 1.2 (3 points):** Is the ACS dataset experimental or observational data? Please assign either 1, or 2 to the name `acs_q1` below to indicate your choice. \n",
    "\n",
    "1. The ACS is observational data\n",
    "2. The ACS is experimental data\n"
   ]
  },
  {
   "cell_type": "code",
   "execution_count": 2,
   "metadata": {},
   "outputs": [],
   "source": [
    "acs_q1 = ..."
   ]
  },
  {
   "cell_type": "markdown",
   "metadata": {},
   "source": [
    "**Question 1.3 (3 points):** Which statement is most accurate about conclusions that can be drawn from the ACS data? Please assign either 1, 2, or 3, to the name `acs_q2` below to indicate your choice. \n",
    "\n",
    "1. One can draw causal conclusions from the ACS data\n",
    "2. One can come up with theories about causal relationships that might exist but one needs experimental data to be sure there is a causal relationship \n",
    "3. One can not get insights into causal relationships from this data. \n",
    "\n"
   ]
  },
  {
   "cell_type": "code",
   "execution_count": 3,
   "metadata": {},
   "outputs": [],
   "source": [
    "acs_q2 = ..."
   ]
  },
  {
   "cell_type": "markdown",
   "metadata": {},
   "source": [
    "**Question 1.4 (3 points):** Please write down 3 *interesting* quesitons that could potentially be addressed using the ACS data. "
   ]
  },
  {
   "cell_type": "markdown",
   "metadata": {},
   "source": [
    "**ANSWER**: \n",
    "\n",
    "1. ...\n",
    "\n",
    "2. ...\n",
    "\n",
    "3. ...\n",
    "\n"
   ]
  },
  {
   "cell_type": "markdown",
   "metadata": {
    "id": "WlDp07E4Vk8M"
   },
   "source": [
    "## 2. Names, Assignment Statements and Error Messages\n",
    "\n",
    "Let's now start looking at Python programming! \n",
    "\n",
    "When programming in Python one often makes mistakes which leads to the Python interpreter returning an error message. While at first these might look scary, soon you should be able to make sense of what the message is telling you and learn how to fix your code to remove the mistakes. \n",
    "\n",
    "Let's start by exploring some error messages! Please look at the code below and answer the question about what is causing the error message. \n"
   ]
  },
  {
   "cell_type": "markdown",
   "metadata": {
    "id": "OY2_QehbVk8M"
   },
   "source": [
    "**Question 2.1 (3 points)** When you run the following cell, Python produces a cryptic error message."
   ]
  },
  {
   "cell_type": "code",
   "execution_count": 5,
   "metadata": {
    "colab": {
     "base_uri": "https://localhost:8080/",
     "height": 130
    },
    "executionInfo": {
     "elapsed": 178,
     "status": "error",
     "timestamp": 1642628350026,
     "user": {
      "displayName": "Ethan Meyers",
      "photoUrl": "https://lh3.googleusercontent.com/a/default-user=s64",
      "userId": "07248665459445774281"
     },
     "user_tz": 300
    },
    "id": "MNVw7LNUVk8M",
    "outputId": "2d0e5a5f-729b-4afd-e969-836f3e051b97"
   },
   "outputs": [
    {
     "ename": "SyntaxError",
     "evalue": "ignored",
     "output_type": "error",
     "traceback": [
      "\u001b[0;36m  File \u001b[0;32m\"<ipython-input-5-4c8b769209ad>\"\u001b[0;36m, line \u001b[0;32m1\u001b[0m\n\u001b[0;31m    4 = 2 + 2\u001b[0m\n\u001b[0m             ^\u001b[0m\n\u001b[0;31mSyntaxError\u001b[0m\u001b[0;31m:\u001b[0m can't assign to literal\n"
     ]
    }
   ],
   "source": [
    "4 = 2 + 2"
   ]
  },
  {
   "cell_type": "markdown",
   "metadata": {
    "id": "05HV4SHhVk8N"
   },
   "source": [
    "Choose the best explanation of what's wrong with the code, and then assign 1, 2, 3, or 4 to `names_q1` below to indicate your answer.\n",
    "\n",
    "1. Python is smart and already knows `4 = 2 + 2`.\n",
    "\n",
    "2. `4` is already a defined number, and it doesn't make sense to make a number be a name for something else. In Python, \"`x = 2 + 2`\" means \"assign `x` as the name for the value of `2 + 2`.\"\n",
    "\n",
    "3. It should be `2 + 2 = 4`.\n",
    "\n",
    "4. I don't get an error message. This is a trick question."
   ]
  },
  {
   "cell_type": "code",
   "execution_count": null,
   "metadata": {
    "id": "3YZQzGO-Vk8N"
   },
   "outputs": [],
   "source": [
    "names_q1 = ..."
   ]
  },
  {
   "cell_type": "markdown",
   "metadata": {
    "id": "pL4x19XFVk8N"
   },
   "source": [
    "**Question 2.2 (3 points)** When you run the following cell, Python will produce another cryptic error message."
   ]
  },
  {
   "cell_type": "code",
   "execution_count": 4,
   "metadata": {
    "colab": {
     "base_uri": "https://localhost:8080/",
     "height": 130
    },
    "executionInfo": {
     "elapsed": 138,
     "status": "error",
     "timestamp": 1642628346773,
     "user": {
      "displayName": "Ethan Meyers",
      "photoUrl": "https://lh3.googleusercontent.com/a/default-user=s64",
      "userId": "07248665459445774281"
     },
     "user_tz": 300
    },
    "id": "XraFgm8OVk8N",
    "outputId": "507a3e9d-1e48-4ede-9401-8e4df180c1fe"
   },
   "outputs": [
    {
     "ename": "SyntaxError",
     "evalue": "ignored",
     "output_type": "error",
     "traceback": [
      "\u001b[0;36m  File \u001b[0;32m\"<ipython-input-4-820d4d61e3dd>\"\u001b[0;36m, line \u001b[0;32m2\u001b[0m\n\u001b[0;31m    six = two plus two\u001b[0m\n\u001b[0m                 ^\u001b[0m\n\u001b[0;31mSyntaxError\u001b[0m\u001b[0;31m:\u001b[0m invalid syntax\n"
     ]
    }
   ],
   "source": [
    "two = 3\n",
    "six = two plus two"
   ]
  },
  {
   "cell_type": "markdown",
   "metadata": {
    "id": "mzFSrP_WVk8O"
   },
   "source": [
    "Choose the best explanation of what's wrong with the code and assign 1, 2, 3, or 4 to `names_q2` below to indicate your answer.\n",
    "\n",
    "1. The `plus` operation only applies to numbers, not the word \"two\".\n",
    "\n",
    "2. The name \"two\" cannot be assigned to the number 3.\n",
    "\n",
    "3. Two plus two is four, not six.\n",
    "\n",
    "4. The name `plus` is not defined as an operator here. "
   ]
  },
  {
   "cell_type": "code",
   "execution_count": null,
   "metadata": {
    "id": "lRIxWwT9Vk8O"
   },
   "outputs": [],
   "source": [
    "names_q2 = ..."
   ]
  },
  {
   "cell_type": "markdown",
   "metadata": {
    "id": "Bf8whQlfVk8O"
   },
   "source": [
    "**Question 2.3 (3 point)** When you run the following cell, Python will, yet again, produce another cryptic error message."
   ]
  },
  {
   "cell_type": "code",
   "execution_count": 3,
   "metadata": {
    "colab": {
     "base_uri": "https://localhost:8080/",
     "height": 200
    },
    "executionInfo": {
     "elapsed": 155,
     "status": "error",
     "timestamp": 1642628343885,
     "user": {
      "displayName": "Ethan Meyers",
      "photoUrl": "https://lh3.googleusercontent.com/a/default-user=s64",
      "userId": "07248665459445774281"
     },
     "user_tz": 300
    },
    "id": "XVecwpZZVk8O",
    "outputId": "4aa1675a-3631-4b84-b444-6cb76f34c47d"
   },
   "outputs": [
    {
     "name": "stdout",
     "output_type": "stream",
     "text": [
      "5\n"
     ]
    },
    {
     "ename": "TypeError",
     "evalue": "ignored",
     "output_type": "error",
     "traceback": [
      "\u001b[0;31m---------------------------------------------------------------------------\u001b[0m",
      "\u001b[0;31mTypeError\u001b[0m                                 Traceback (most recent call last)",
      "\u001b[0;32m<ipython-input-3-94f783b16b3e>\u001b[0m in \u001b[0;36m<module>\u001b[0;34m()\u001b[0m\n\u001b[1;32m      1\u001b[0m \u001b[0mx\u001b[0m \u001b[0;34m=\u001b[0m \u001b[0mprint\u001b[0m\u001b[0;34m(\u001b[0m\u001b[0;36m5\u001b[0m\u001b[0;34m)\u001b[0m\u001b[0;34m\u001b[0m\u001b[0;34m\u001b[0m\u001b[0m\n\u001b[0;32m----> 2\u001b[0;31m \u001b[0my\u001b[0m \u001b[0;34m=\u001b[0m \u001b[0mx\u001b[0m \u001b[0;34m+\u001b[0m \u001b[0;36m2\u001b[0m\u001b[0;34m\u001b[0m\u001b[0;34m\u001b[0m\u001b[0m\n\u001b[0m",
      "\u001b[0;31mTypeError\u001b[0m: unsupported operand type(s) for +: 'NoneType' and 'int'"
     ]
    }
   ],
   "source": [
    "x = print(5)\n",
    "y = x + 2"
   ]
  },
  {
   "cell_type": "markdown",
   "metadata": {
    "id": "gbeSPleoVk8O"
   },
   "source": [
    "Choose the best explanation of what's wrong with the code and assign 1, 2, 3, or 4 to `names_q3` below to indicate your answer.\n",
    "\n",
    "1. You cannot add the letter x with 2.\n",
    "\n",
    "2. The `print` operation is meant for displaying values to the programmer, not for assigning values.\n",
    "\n",
    "3. Python doesn't want `y` to be assigned.\n",
    "\n",
    "4. What error message?"
   ]
  },
  {
   "cell_type": "code",
   "execution_count": 2,
   "metadata": {
    "executionInfo": {
     "elapsed": 255,
     "status": "ok",
     "timestamp": 1642628335361,
     "user": {
      "displayName": "Ethan Meyers",
      "photoUrl": "https://lh3.googleusercontent.com/a/default-user=s64",
      "userId": "07248665459445774281"
     },
     "user_tz": 300
    },
    "id": "U7tQFPUVVk8O"
   },
   "outputs": [],
   "source": [
    "names_q3 = ..."
   ]
  },
  {
   "cell_type": "markdown",
   "metadata": {
    "id": "rMiH5VKSVk8Q"
   },
   "source": [
    "## 3. Basic statistics: Differences between Universities\n"
   ]
  },
  {
   "cell_type": "markdown",
   "metadata": {
    "id": "757Dag_fVk8Q"
   },
   "source": [
    "**Question 3.1 (8 points)** Suppose you'd like to *quantify* how *dissimilar* two universities are, using three quantitative characteristics.  The US Department of Education data on [Yale](https://collegescorecard.ed.gov/school/?130794-Yale-University) and [Cal](https://collegescorecard.ed.gov/school/?110635-University-of-California-Berkeley) describes the following three traits (among many others):\n",
    "\n",
    "| Trait                                | Yale   | Cal    |\n",
    "|--------------------------------------|--------|--------|\n",
    "| Average annual cost to attend ($)    | 16,341 | 15,240 |\n",
    "| Graduation rate (percentage)         | 97     | 94     |\n",
    "| Socioeconomic Diversity (percentage) | 20     | 23     |\n",
    "\n",
    "You decide to define the dissimilarity between two universities as the maximum of the absolute values of the 3 differences in their respective trait values.\n",
    "\n",
    "Using this method, compute the dissimilarity between Yale and CAL.  Name the result `dissimilarity`. Use a single expression (a single line of code) to compute the answer.  Let Python perform all the arithmetic (like subtracting 97 from 93) rather than simplifying the expression yourself. Be sure that the final answer is printed out in the .pdf file you upload to show that you have the correct answer. \n",
    "\n",
    "Hint: The built-in `abs()` function takes absolute values."
   ]
  },
  {
   "cell_type": "code",
   "execution_count": null,
   "metadata": {
    "colab": {
     "base_uri": "https://localhost:8080/"
    },
    "executionInfo": {
     "elapsed": 141,
     "status": "ok",
     "timestamp": 1642628673968,
     "user": {
      "displayName": "Ethan Meyers",
      "photoUrl": "https://lh3.googleusercontent.com/a/default-user=s64",
      "userId": "07248665459445774281"
     },
     "user_tz": 300
    },
    "id": "75jOjml0Vk8Q",
    "outputId": "bfdaf64d-7fc3-42fc-a424-634e811130cb"
   },
   "outputs": [],
   "source": [
    "\n",
    "\n"
   ]
  },
  {
   "cell_type": "markdown",
   "metadata": {
    "id": "T2j6gEFpVk8R"
   },
   "source": [
    "## 4. Calculating statistics on the American Community Survey (ACS) data\n",
    "\n",
    "In part 1 of this homework you read an excerpt from \"Data and the American Dream\" which described the American Community Survey (ACS) data. Let's now calculate some statistics on this data. \n",
    "\n",
    "The code below loads ACS data from 10,000 randomly sampled participants into a \"pandas DataFrame\" which is a data structure that is useful for Table data (we will discuss pandas DataFrames in a couple of weeks). There is also code that converts this data into Python lists, which hopefully you are now familiar with. In particular, the code creates three lists which are: \n",
    "\n",
    "- `incomes`: contains the household income for each of the 10,000 randomly selected participants\n",
    "- `ages`: contains the ages for each of the 10,000 randomly selected participants\n",
    "- `sex`: contains the sex for each of the 10,000 randomly selected participants\n",
    "\n",
    "Note: these Python lists are in order, so that, for example, the first item of the `incomes` list comes from the same person as the first item in the `sex` list. \n"
   ]
  },
  {
   "cell_type": "code",
   "execution_count": 1,
   "metadata": {
    "deletable": false,
    "id": "3wCzxt2MVk8R",
    "manual_problem_id": "nearsightedness_1"
   },
   "outputs": [
    {
     "data": {
      "text/html": [
       "<div>\n",
       "<style scoped>\n",
       "    .dataframe tbody tr th:only-of-type {\n",
       "        vertical-align: middle;\n",
       "    }\n",
       "\n",
       "    .dataframe tbody tr th {\n",
       "        vertical-align: top;\n",
       "    }\n",
       "\n",
       "    .dataframe thead th {\n",
       "        text-align: right;\n",
       "    }\n",
       "</style>\n",
       "<table border=\"1\" class=\"dataframe\">\n",
       "  <thead>\n",
       "    <tr style=\"text-align: right;\">\n",
       "      <th></th>\n",
       "      <th>YEAR</th>\n",
       "      <th>SAMPLE</th>\n",
       "      <th>SERIAL</th>\n",
       "      <th>CBSERIAL</th>\n",
       "      <th>NUMPREC</th>\n",
       "      <th>HHWT</th>\n",
       "      <th>HHTYPE</th>\n",
       "      <th>CLUSTER</th>\n",
       "      <th>CPI99</th>\n",
       "      <th>STATEFIP</th>\n",
       "      <th>...</th>\n",
       "      <th>CLASSWKR</th>\n",
       "      <th>CLASSWKRD</th>\n",
       "      <th>WKSWORK2</th>\n",
       "      <th>UHRSWORK</th>\n",
       "      <th>INCBUS00</th>\n",
       "      <th>INCEARN</th>\n",
       "      <th>SEI</th>\n",
       "      <th>MOVEDIN</th>\n",
       "      <th>QBPL</th>\n",
       "      <th>QINCWAGE</th>\n",
       "    </tr>\n",
       "  </thead>\n",
       "  <tbody>\n",
       "    <tr>\n",
       "      <th>0</th>\n",
       "      <td>2017</td>\n",
       "      <td>201701</td>\n",
       "      <td>250395</td>\n",
       "      <td>2017000834943</td>\n",
       "      <td>2</td>\n",
       "      <td>79</td>\n",
       "      <td>2</td>\n",
       "      <td>2017002503951</td>\n",
       "      <td>0.679</td>\n",
       "      <td>9</td>\n",
       "      <td>...</td>\n",
       "      <td>2</td>\n",
       "      <td>28</td>\n",
       "      <td>0</td>\n",
       "      <td>0</td>\n",
       "      <td>0</td>\n",
       "      <td>0</td>\n",
       "      <td>72</td>\n",
       "      <td>7</td>\n",
       "      <td>0</td>\n",
       "      <td>0</td>\n",
       "    </tr>\n",
       "    <tr>\n",
       "      <th>1</th>\n",
       "      <td>2017</td>\n",
       "      <td>201701</td>\n",
       "      <td>1062813</td>\n",
       "      <td>2017000532479</td>\n",
       "      <td>2</td>\n",
       "      <td>27</td>\n",
       "      <td>1</td>\n",
       "      <td>2017010628131</td>\n",
       "      <td>0.679</td>\n",
       "      <td>42</td>\n",
       "      <td>...</td>\n",
       "      <td>0</td>\n",
       "      <td>0</td>\n",
       "      <td>0</td>\n",
       "      <td>0</td>\n",
       "      <td>0</td>\n",
       "      <td>0</td>\n",
       "      <td>0</td>\n",
       "      <td>5</td>\n",
       "      <td>0</td>\n",
       "      <td>0</td>\n",
       "    </tr>\n",
       "    <tr>\n",
       "      <th>2</th>\n",
       "      <td>2017</td>\n",
       "      <td>201701</td>\n",
       "      <td>1235164</td>\n",
       "      <td>2017001001296</td>\n",
       "      <td>1</td>\n",
       "      <td>48</td>\n",
       "      <td>6</td>\n",
       "      <td>2017012351641</td>\n",
       "      <td>0.679</td>\n",
       "      <td>48</td>\n",
       "      <td>...</td>\n",
       "      <td>1</td>\n",
       "      <td>13</td>\n",
       "      <td>1</td>\n",
       "      <td>2</td>\n",
       "      <td>50</td>\n",
       "      <td>150</td>\n",
       "      <td>22</td>\n",
       "      <td>4</td>\n",
       "      <td>0</td>\n",
       "      <td>0</td>\n",
       "    </tr>\n",
       "    <tr>\n",
       "      <th>3</th>\n",
       "      <td>2017</td>\n",
       "      <td>201701</td>\n",
       "      <td>142278</td>\n",
       "      <td>2017000769070</td>\n",
       "      <td>3</td>\n",
       "      <td>50</td>\n",
       "      <td>1</td>\n",
       "      <td>2017001422781</td>\n",
       "      <td>0.679</td>\n",
       "      <td>6</td>\n",
       "      <td>...</td>\n",
       "      <td>2</td>\n",
       "      <td>22</td>\n",
       "      <td>3</td>\n",
       "      <td>35</td>\n",
       "      <td>0</td>\n",
       "      <td>17900</td>\n",
       "      <td>68</td>\n",
       "      <td>0</td>\n",
       "      <td>0</td>\n",
       "      <td>4</td>\n",
       "    </tr>\n",
       "    <tr>\n",
       "      <th>4</th>\n",
       "      <td>2017</td>\n",
       "      <td>201701</td>\n",
       "      <td>954089</td>\n",
       "      <td>2017000012970</td>\n",
       "      <td>5</td>\n",
       "      <td>15</td>\n",
       "      <td>1</td>\n",
       "      <td>2017009540891</td>\n",
       "      <td>0.679</td>\n",
       "      <td>39</td>\n",
       "      <td>...</td>\n",
       "      <td>1</td>\n",
       "      <td>13</td>\n",
       "      <td>2</td>\n",
       "      <td>21</td>\n",
       "      <td>1800</td>\n",
       "      <td>1800</td>\n",
       "      <td>26</td>\n",
       "      <td>0</td>\n",
       "      <td>0</td>\n",
       "      <td>0</td>\n",
       "    </tr>\n",
       "  </tbody>\n",
       "</table>\n",
       "<p>5 rows × 61 columns</p>\n",
       "</div>"
      ],
      "text/plain": [
       "   YEAR  SAMPLE   SERIAL       CBSERIAL  NUMPREC  HHWT  HHTYPE        CLUSTER  \\\n",
       "0  2017  201701   250395  2017000834943        2    79       2  2017002503951   \n",
       "1  2017  201701  1062813  2017000532479        2    27       1  2017010628131   \n",
       "2  2017  201701  1235164  2017001001296        1    48       6  2017012351641   \n",
       "3  2017  201701   142278  2017000769070        3    50       1  2017001422781   \n",
       "4  2017  201701   954089  2017000012970        5    15       1  2017009540891   \n",
       "\n",
       "   CPI99  STATEFIP  ...  CLASSWKR  CLASSWKRD  WKSWORK2  UHRSWORK  INCBUS00  \\\n",
       "0  0.679         9  ...         2         28         0         0         0   \n",
       "1  0.679        42  ...         0          0         0         0         0   \n",
       "2  0.679        48  ...         1         13         1         2        50   \n",
       "3  0.679         6  ...         2         22         3        35         0   \n",
       "4  0.679        39  ...         1         13         2        21      1800   \n",
       "\n",
       "   INCEARN  SEI  MOVEDIN  QBPL  QINCWAGE  \n",
       "0        0   72        7     0         0  \n",
       "1        0    0        5     0         0  \n",
       "2      150   22        4     0         0  \n",
       "3    17900   68        0     0         4  \n",
       "4     1800   26        0     0         0  \n",
       "\n",
       "[5 rows x 61 columns]"
      ]
     },
     "execution_count": 1,
     "metadata": {},
     "output_type": "execute_result"
    }
   ],
   "source": [
    "# This load the ACS data into a pandas DataFrame. \n",
    "# The cell contains code that hasn't yet been covered in the course but we will discuss it soon. \n",
    "\n",
    "import pandas as pd\n",
    "acs_data1 = pd.read_csv(\"ACS_2017_sample_01.csv\")\n",
    "acs_data1.head()\n"
   ]
  },
  {
   "cell_type": "code",
   "execution_count": 2,
   "metadata": {
    "deletable": false,
    "id": "TBeS0rPxVk8R",
    "manual_problem_id": "nearsightedness_1"
   },
   "outputs": [],
   "source": [
    "# This code converts pandas DataFrame data into Python lists so that we can analyze the data\n",
    "\n",
    "incomes = acs_data1[\"HHINCOME\"].to_list()\n",
    "ages = acs_data1[\"AGE\"].to_list()\n",
    "sex = acs_data1[\"SEX\"].to_list()"
   ]
  },
  {
   "cell_type": "markdown",
   "metadata": {},
   "source": [
    "**Question 4.1 (5 points)** To start, let's get a little sense of the data. To do this, simply print the first 5 values from the `incomes`, `ages` and `sex` lists. Be sure to print exactly 5 elements."
   ]
  },
  {
   "cell_type": "code",
   "execution_count": 1,
   "metadata": {
    "deletable": false,
    "id": "EO1jtIv7Vk8R",
    "manual_problem_id": "nearsightedness_2"
   },
   "outputs": [],
   "source": [
    "# print the incomes, ages and sex of the first 5 people (and exactly 5)\n",
    "\n",
    "\n"
   ]
  },
  {
   "cell_type": "markdown",
   "metadata": {
    "deletable": false,
    "id": "OBipRaYXVk8R",
    "manual_problem_id": "nearsightedness_2"
   },
   "source": [
    "**Question 4.2 (9 points)** Let's now calculate some statistics on the ACS data. In particular, let's calculate the mean and the median of the `incomes` values. \n",
    "\n",
    "To calculate the values of mean and the median, we can use the `statistics` module which comes with current version of The Python Standard Library (if you are interested, a list of all the modules that come with current version of Python can be [found here](https://docs.python.org/3/library/)). The code below imports the `statistics` module, which will allow you to use the functions `statistics.mean()` and `statistics.median()` to calculate these statistics. \n",
    "\n",
    "Use the code section below to calculate and print these statistics. Then, in the text answer section below, report:\n",
    "1. The value of these statistics.\n",
    "2. Which gives a better sense of what one might describe as the \"typical\" income.\n",
    "3. Give (the most compelling) reason for why these statistics appear to be quite different using information from the \"Data and the American Dream\" reading. Creating a histogram of the income data could also be useful for gaining some insight into why the mean and median are different. \n"
   ]
  },
  {
   "cell_type": "code",
   "execution_count": 2,
   "metadata": {
    "deletable": false,
    "id": "r_WfYxLvVk8R",
    "manual_problem_id": "nearsightedness_3"
   },
   "outputs": [],
   "source": [
    "import statistics\n",
    "\n",
    "\n",
    "\n"
   ]
  },
  {
   "cell_type": "markdown",
   "metadata": {},
   "source": [
    "**ANSWERS**: \n",
    "    \n",
    "1. ...\n",
    "    \n",
    "2. ...\n",
    "    \n",
    "3. ...\n"
   ]
  },
  {
   "cell_type": "markdown",
   "metadata": {},
   "source": [
    "**Question 4.3 (8 points)** Now let's calculate the median **age** without using `median()` function. To do this, sort the values in the `ages` list using the list's `sort()` method, and then calculate the median from this sorted list. \n",
    "\n",
    "Note: the `list.sort()` method sorts the data \"in place\" where it overwrites the original data with the sorted data. If you wanted to keep the data in the original order, you would have to create a copy of the list using the lists' `copy()` method."
   ]
  },
  {
   "cell_type": "code",
   "execution_count": null,
   "metadata": {},
   "outputs": [],
   "source": [
    "\n",
    "\n",
    "\n",
    "\n",
    "\n"
   ]
  },
  {
   "cell_type": "markdown",
   "metadata": {},
   "source": [
    "## 5. Further explorations of the ACS data using dictionaries and visualizations\n",
    "\n",
    "Let's explore the ACS data further by using matplotlib to visualize the data!"
   ]
  },
  {
   "cell_type": "markdown",
   "metadata": {},
   "source": [
    "**Question 5.1 (3 points)** Let's start by creating a histogram of the all the ages of people in the data set. As always, be sure to label your axes!\n"
   ]
  },
  {
   "cell_type": "code",
   "execution_count": null,
   "metadata": {},
   "outputs": [],
   "source": [
    "import matplotlib.pyplot as plt\n",
    "%matplotlib inline\n",
    "\n",
    "\n",
    "\n",
    "\n",
    "\n",
    "\n"
   ]
  },
  {
   "cell_type": "markdown",
   "metadata": {},
   "source": [
    "**Question 5.2 (3 points)** Next create a name called `num_males` that has the number of males in the data set, and a name called `num_females` that has the number of females in the data set, and print these values out to \"show your work\". \n",
    "\n",
    "Hint: Suppose you had a list called `my_list` with the following values: `my_list = [\"a\", \"b\", \"a\", \"a\", \"b\", \"a\", \"a\"]`. You could count how many times `\"a\"` occurs in this list using the following syntax: `my_list.count(\"a\")`\n"
   ]
  },
  {
   "cell_type": "code",
   "execution_count": null,
   "metadata": {},
   "outputs": [],
   "source": [
    "\n",
    "\n",
    "\n",
    "\n"
   ]
  },
  {
   "cell_type": "markdown",
   "metadata": {},
   "source": [
    "**Question 5.3 (3 points)** Now create a bar chart that plots the counts of the the number of males and females in the data set. As always, label your axes!"
   ]
  },
  {
   "cell_type": "code",
   "execution_count": null,
   "metadata": {},
   "outputs": [],
   "source": [
    "\n",
    "\n",
    "\n"
   ]
  },
  {
   "cell_type": "markdown",
   "metadata": {},
   "source": [
    "**Question 5.4 (3 points)** Finally, create a pie chart that displays the number of males and females. Also make sure that the sections of the pie chart are labeled to indicate which section corresponds to makes and which corresponds to females. \n",
    "\n",
    "In the answer section below, report whether you think it is better to use a chart or the pie chart to visualize this data and explain your reason(s) why. "
   ]
  },
  {
   "cell_type": "code",
   "execution_count": null,
   "metadata": {},
   "outputs": [],
   "source": [
    "\n",
    "\n"
   ]
  },
  {
   "cell_type": "markdown",
   "metadata": {},
   "source": [
    "**ANSWER**: \n",
    "\n",
    "\n"
   ]
  },
  {
   "cell_type": "markdown",
   "metadata": {},
   "source": [
    "## Part 6: Explore your own question on the ACS data (5 points)\n",
    " \n",
    "In part 1 of this homework you wrote down three interesting questions that could be addressed using the ACS dataset. Now, please use Python to give some insight into one of the questions you posed by calculating statistics and/or creating plots of the data.   \n",
    "\n",
    "In the answer section below, describe the question you are addressing and how your analysis gives insight into the question. As always, be sure to \"show your work\" by printing out relevant values, and also make sure you code is easy to understand by using meaningful names and by adding comments. Also, discuss any limitations of your analysis and how they could be addressed.\n",
    "\n",
    "\n",
    "Notes: \n",
    "\n",
    "1. To better understand the data, please refer to the codebooks in \"Data and the American Dream\" the more comprehensive codebook found at: https://usa.ipums.org/usa/volii/codebooks.shtml. Also, note that sometimes the information in these cookbooks does not exactly correspond to the data we have, so if it is unclear what levels of particular variables mean, you can just say this when you describe your results. \n",
    "\n",
    "2. It could be useful to extract additional lists of data from the `acs_data1` DataFrame. For example, you might want to create a list that has the number of rooms in each person's house. To do this, please look at the code that created the list of `incomes`, `ages`, `sex` above, and if you can't figure it out please ask questions on Ed. Later in the semseter we will discuss exactly how this code works, but for how you can \"hack\" your way to creating relevant lists of data without fully understanding this one piece of code. \n",
    "\n",
    "3. There is a fair amount freedom to the degree that you challenge yourself here, and we will be relatively relaxed on the grading of this question. If you find the questions in this homework were easy, feel free to read about additional features of Python (e.g., how to change the colors in plots, etc.) and experiment with these features to challenge yourself. At the moment we are a bit limited in the types of analyses since we have just started learning the basics of Python, but soon we will learn more methods that will allow you to answer much more interesting questions. "
   ]
  },
  {
   "cell_type": "code",
   "execution_count": null,
   "metadata": {
    "deletable": false,
    "id": "coijsTshVk8R",
    "manual_problem_id": "nearsightedness_3"
   },
   "outputs": [],
   "source": [
    "\n",
    "\n",
    "\n",
    "\n",
    "\n",
    "\n",
    "\n"
   ]
  },
  {
   "cell_type": "markdown",
   "metadata": {
    "deletable": false,
    "id": "H5G9j4rxVk8S",
    "manual_problem_id": "nearsightedness_4"
   },
   "source": [
    "**ANSWERS**: \n",
    "    \n",
    "\n",
    "\n",
    "\n"
   ]
  },
  {
   "cell_type": "markdown",
   "metadata": {
    "deletable": false,
    "id": "lNYoHNjeVk8S",
    "manual_problem_id": "nearsightedness_4"
   },
   "source": [
    "## 7. Reflection (3 points)\n",
    "\n",
    "Please reflect on how the homework went by going to Canvas, going to the Quizzes link, and clicking on \n",
    "[Reflection on homework 1](https://yale.instructure.com/courses/95068/quizzes/69731)\n"
   ]
  },
  {
   "cell_type": "markdown",
   "metadata": {},
   "source": [
    "## 8. Submission\n",
    "\n",
    "Once you're finished filling in and running all cells, you should submit your assignment as a .pdf on Gradescope. You can access Gradescope through Canvas on the left-side of the class home page. The problems in each homework assignment are numbered. **NOTE:** When submitting on Gradescope, please select the correct pages of your pdf that correspond to each problem. Failure to mark pages correctly will result in points being deducted from your homework score.\n",
    "\n",
    "If you are running Jupyter Notebooks through an Anaconda installation on your own computer, you can produce the .pdf by completing the following steps:  \n",
    "1.  Go to \"File\" at the top-left of your Jupyter Notebook\n",
    "2.  Under \"Download as\" (or \"Save and Export Notebook As...\") and select \"HTML (.html)\"\n",
    "3.  After the .html has downloaded, open it and then select \"File\" and \"Print\" (note you will not actually be printing)\n",
    "4.  From the print window, select the option to save as a .pdf\n",
    "\n",
    "If you are running the assignment in a Google Colabs, you can use the following instructions: \n",
    "1.  Go to \"File\" at the top-left of your Jupyter Notebook and select \"File\" and \"Print\" (note you will not actually be printing)\n",
    "2. From the print window, select the option to save as a .pdf\n",
    "3. Be sure to look over the pdf file to make sure all your code and written work is saved in a clear way.\n",
    "\n"
   ]
  }
 ],
 "metadata": {
  "colab": {
   "collapsed_sections": [],
   "name": "hw01_sol.ipynb",
   "provenance": [
    {
     "file_id": "1u10xWcG7BLsUY4IeXRdARimb8IQu5TeS",
     "timestamp": 1642627884057
    }
   ]
  },
  "kernelspec": {
   "display_name": "Python 3 (ipykernel)",
   "language": "python",
   "name": "python3"
  },
  "language_info": {
   "codemirror_mode": {
    "name": "ipython",
    "version": 3
   },
   "file_extension": ".py",
   "mimetype": "text/x-python",
   "name": "python",
   "nbconvert_exporter": "python",
   "pygments_lexer": "ipython3",
   "version": "3.11.7"
  }
 },
 "nbformat": 4,
 "nbformat_minor": 4
}
