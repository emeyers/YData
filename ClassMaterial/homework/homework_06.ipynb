{
 "cells": [
  {
   "cell_type": "markdown",
   "metadata": {},
   "source": [
    "# Homework 6: Data visualization continued and text manipulation\n",
    "\n",
    "Welcome to the sixth homework! \n",
    "\n",
    "In this homework you practice visualizing data using seaborn and manipulating text data. \n",
    "\n",
    "Please complete this notebook by filling in the cells provided. "
   ]
  },
  {
   "cell_type": "markdown",
   "metadata": {},
   "source": [
    "\n",
    "For all problems that you must write explanations and sentences for, please provide your answer in the designated space. Moreover, throughout this homework and all future ones, please be sure to not re-assign variables throughout the notebook! For example, if you use `max_temperature` in your answer to one question, do not reassign it later on. \n",
    "\n",
    "**Deadline:**\n",
    "\n",
    "This assignment is due **Sunday March 5th at 11pm.** You can turn in the assignment up to 24 hours late for 90% credit (after that, the homework will only be accepted with a dean's excuse). \n",
    "\n",
    "Directly sharing answers is not okay, but discussing problems with the course staff or with other students is encouraged. Refer to the policies page to learn more about how to learn cooperatively.\n",
    "\n",
    "You should start early so that you have time to get help if you're stuck. The drop-in office hours schedule can be found on [Canvas](https://yale.instructure.com/courses/84847/pages/office-hours).  You can also post questions or start discussions on [Ed Discussion](https://edstem.org/us/courses/30902/discussion/).\n",
    "\n",
    "\n",
    "**Note on chatGPT:**\n",
    "\n",
    "<font color='red'>NOTE: You are not allowed to use chatGPT (or copilot) for this, or any other homework assignments in this class. While chatGPT can be helpful for writing code, it is important that you understand all the concepts yourself (and if you rely on chatGPT you will have a difficult time on the exam, so it really won't be beneficial to your learning or grade). </font>\n",
    "</font>\n",
    "\n",
    "**Submission:**\n",
    "\n",
    "Submit your assignment as a .pdf on Gradescope. You can access Gradescope through Canvas on the left hand side of the class home page. The problems in each homework assignment are numbered. **NOTE:** When submitting on Gradescope, please select the correct pages of your pdf that correspond to each problem. Failure to mark pages correctly will result in points being deducted from your homework score.\n",
    "\n",
    "If you are running Jupyter Notebooks through an Anaconda installation on your own computer, you can produce the .pdf by completing the following steps:  \n",
    "1.  Go to \"File\" at the top-left of your Jupyter Notebook\n",
    "2.  Under \"Download as\", select \"HTML (.html)\"\n",
    "3.  After the .html has downloaded, open it and then select \"File\" and \"Print\" (note you will not actually be printing)\n",
    "4.  From the print window, select the option to save as a .pdf\n",
    "\n",
    "If you are running the assignment in a Google Colabs, you can use the following instructions: \n",
    "1.  Go to \"File\" at the top-left of your Jupyter Notebook and select \"File\" and \"Print\" (note you will not actually be printing)\n",
    "2. From the print window, select the option to save as a .pdf\n",
    "3. Be sure to look over the pdf file to make sure all your code and written work is saved in a clear way. "
   ]
  },
  {
   "cell_type": "markdown",
   "metadata": {},
   "source": [
    "## Getting started\n",
    "\n",
    "In order to complete the homework, it is necessary to download a few files. Please run the code below **only once** to download data needed to complete the homework. To run the code, click in the cell below and press the play button (or press shift-enter). "
   ]
  },
  {
   "cell_type": "code",
   "execution_count": 4,
   "metadata": {},
   "outputs": [],
   "source": [
    "# if you are running this notebook in colabs, please uncomment and run the following two lines\n",
    "# !pip install polars\n",
    "# !pip install https://github.com/emeyers/YData_package/tarball/master"
   ]
  },
  {
   "cell_type": "code",
   "execution_count": 5,
   "metadata": {},
   "outputs": [
    {
     "name": "stdout",
     "output_type": "stream",
     "text": [
      "The file `gapminder_data.csv` already exists.\n",
      "If you would like to download a new copy of the file, please rename the existing copy of the file.\n",
      "The file `moby_dick.txt` already exists.\n",
      "If you would like to download a new copy of the file, please rename the existing copy of the file.\n"
     ]
    }
   ],
   "source": [
    "# Please run this code once to download the files you will need to complete the homework \n",
    "\n",
    "import YData \n",
    "\n",
    "YData.download.download_data(\"gapminder_data.csv\")\n",
    "YData.download.download_data(\"moby_dick.txt\")\n",
    "    "
   ]
  },
  {
   "cell_type": "markdown",
   "metadata": {},
   "source": [
    "## 0. Quote and Reaction\n",
    "\n",
    "While I do have a great paper to read that discusses what makes a data visualization memorable, we will suspend the quote and reaction this week so that you have a little more time for this homework and to study for the midterm exam. You will do a quote and reaction on this paper after the break! \n"
   ]
  },
  {
   "cell_type": "code",
   "execution_count": 6,
   "metadata": {},
   "outputs": [],
   "source": [
    "# This cell imports functions from packages we will use below.\n",
    "# Please run it each time you load the Jupyter notebook\n",
    "\n",
    "import numpy as np\n",
    "import pandas as pd\n",
    "import matplotlib.pyplot as plt\n",
    "import seaborn as sns\n",
    "\n",
    "%matplotlib inline"
   ]
  },
  {
   "cell_type": "markdown",
   "metadata": {},
   "source": [
    "## 1. Visualizing the Gapminder data using seaborn\n",
    "\n",
    "For the first problem, let's revisit visualizing the Gapminder data but this time using seaborn. As you will recall, the Gapminder data consists of information about different countries in the world for several different years.  \n",
    "\n",
    "The cell below loads the Gapminder data and prints the first three rows. As you hopefully remember, the columns of this DataFrame are: \n",
    "\n",
    "- `country`: The name of the country\n",
    "- `year`: The year that the measurements correspond to\n",
    "- `pop`: Population size of a country\n",
    "- `content`: Continent name that the country is in\n",
    "- `lifeExp`: The average life expectancy \n",
    "- `gdpPercap`: The GDP per capita for that country (which is a measure of wealth) \n"
   ]
  },
  {
   "cell_type": "code",
   "execution_count": 7,
   "metadata": {},
   "outputs": [
    {
     "data": {
      "text/html": [
       "<div>\n",
       "<style scoped>\n",
       "    .dataframe tbody tr th:only-of-type {\n",
       "        vertical-align: middle;\n",
       "    }\n",
       "\n",
       "    .dataframe tbody tr th {\n",
       "        vertical-align: top;\n",
       "    }\n",
       "\n",
       "    .dataframe thead th {\n",
       "        text-align: right;\n",
       "    }\n",
       "</style>\n",
       "<table border=\"1\" class=\"dataframe\">\n",
       "  <thead>\n",
       "    <tr style=\"text-align: right;\">\n",
       "      <th></th>\n",
       "      <th>country</th>\n",
       "      <th>year</th>\n",
       "      <th>pop</th>\n",
       "      <th>continent</th>\n",
       "      <th>lifeExp</th>\n",
       "      <th>gdpPercap</th>\n",
       "    </tr>\n",
       "  </thead>\n",
       "  <tbody>\n",
       "    <tr>\n",
       "      <th>0</th>\n",
       "      <td>Afghanistan</td>\n",
       "      <td>1952</td>\n",
       "      <td>8425333.0</td>\n",
       "      <td>Asia</td>\n",
       "      <td>28.801</td>\n",
       "      <td>779.445314</td>\n",
       "    </tr>\n",
       "    <tr>\n",
       "      <th>1</th>\n",
       "      <td>Afghanistan</td>\n",
       "      <td>1957</td>\n",
       "      <td>9240934.0</td>\n",
       "      <td>Asia</td>\n",
       "      <td>30.332</td>\n",
       "      <td>820.853030</td>\n",
       "    </tr>\n",
       "    <tr>\n",
       "      <th>2</th>\n",
       "      <td>Afghanistan</td>\n",
       "      <td>1962</td>\n",
       "      <td>10267083.0</td>\n",
       "      <td>Asia</td>\n",
       "      <td>31.997</td>\n",
       "      <td>853.100710</td>\n",
       "    </tr>\n",
       "  </tbody>\n",
       "</table>\n",
       "</div>"
      ],
      "text/plain": [
       "       country  year         pop continent  lifeExp   gdpPercap\n",
       "0  Afghanistan  1952   8425333.0      Asia   28.801  779.445314\n",
       "1  Afghanistan  1957   9240934.0      Asia   30.332  820.853030\n",
       "2  Afghanistan  1962  10267083.0      Asia   31.997  853.100710"
      ]
     },
     "execution_count": 7,
     "metadata": {},
     "output_type": "execute_result"
    }
   ],
   "source": [
    "gapminder = pd.read_csv(\"gapminder_data.csv\")\n",
    "\n",
    "gapminder.head(3)"
   ]
  },
  {
   "cell_type": "markdown",
   "metadata": {},
   "source": [
    "**Question 1.1 (1 points)**:  For these exercises, let's again restrict our analyses to only data from 2007. To do this, please recreate the `gapminder_2007` DataFrame which has data from all the countries for only the year 2007. Also print out how many rows this DataFrame has and show the first 3 rows of this DataFrame.\n"
   ]
  },
  {
   "cell_type": "code",
   "execution_count": 8,
   "metadata": {},
   "outputs": [],
   "source": [
    "# Get only data from 2007\n",
    "\n",
    "\n",
    "\n",
    "\n"
   ]
  },
  {
   "cell_type": "markdown",
   "metadata": {},
   "source": [
    "**Question 1.2 (4 points)**: For a first visualization, let's use seaborn to recreate our bar chart that shows how many countries are in each continent; i.e., there is one bar for each continent and the height of each bar is the number of countries in each continent. \n",
    "\n",
    "To do this you can use the `sns.catplot()` method, where the following arguments should be set:\n",
    "\n",
    "- `data`: should be the `gapminder_2007` DataFrame\n",
    "- `x` should be the appropriate label name from the `gapminder_2007` DataFrame\n",
    "- `kind` should be set to `\"count\"`. \n",
    "\n",
    "\n",
    "For this, and all subsequent figures, be sure to [label your axes](https://flowingdata.com/wp-content/uploads/2012/06/label-your-axes.png). Since seaborn is built on top of matplotlib, you can use the same `plt.` methods to set the axes (e.g., `plt.xlabel()` etc.). \n"
   ]
  },
  {
   "cell_type": "code",
   "execution_count": null,
   "metadata": {},
   "outputs": [],
   "source": [
    "\n",
    "\n",
    "\n",
    "\n"
   ]
  },
  {
   "cell_type": "markdown",
   "metadata": {},
   "source": [
    "**Question 1.3 (4 points)**: Continuing with our visualizations using seaborn, let's visualize the GDP per capita from all the countries in our 2007 dataset.\n",
    "\n",
    "To do this, you can use the `sns.displot()` method. Experiment with the `kind` argument, and pick the value for the argument that you think gives the clearest pictures of how GDP per capita differs across different countries. In the answer section below, in 1-5 sentences, please justify your choice. \n",
    "\n",
    "Hint: the values that the `kind` argument can take are: `'hist'`, `'kde'`, or `'ecdf'`. "
   ]
  },
  {
   "cell_type": "code",
   "execution_count": null,
   "metadata": {},
   "outputs": [],
   "source": [
    "\n",
    "\n",
    "\n"
   ]
  },
  {
   "cell_type": "markdown",
   "metadata": {},
   "source": [
    "**Answer**: \n",
    "\n",
    "\n",
    "\n"
   ]
  },
  {
   "cell_type": "markdown",
   "metadata": {},
   "source": [
    "**Question 1.4 (4 points)**: Now let's visualize the life expectancy for the all the countries grouped by the continent the country is in. To do this we should use the `sns.catplot()` function which plots quantitative data as a function of a categorical variable. \n",
    "\n",
    "Please go ahead and create this plot, and again choose the value for the `kind` argument that you think makes the most sense. In the answer section, please explain why you think the value you choose for the `kind` argument creates the best plot.    \n",
    "\n",
    "Hint: the values that the `kind` argument can take are: `“strip”`, `“swarm”`, `“box”`, `“violin”`, `“boxen”`, `“point”`, or `“bar”`.\n"
   ]
  },
  {
   "cell_type": "code",
   "execution_count": null,
   "metadata": {},
   "outputs": [],
   "source": [
    "\n",
    "\n"
   ]
  },
  {
   "cell_type": "markdown",
   "metadata": {},
   "source": [
    "**Answer**\n",
    "\n",
    "\n",
    "\n",
    "\n"
   ]
  },
  {
   "cell_type": "markdown",
   "metadata": {},
   "source": [
    "**Question 1.5 (5 points)**: Let's now explore faceting by plotting GDP per capita as a function of the year with a separate subplot for each continent. In particular, please use `sns.catplot()` and the `gapminder` DataFrame (i.e., the DataFrame with data from all years) to create a plot that has the following features:\n",
    "\n",
    "1. The x-axis should plot the year.\n",
    "2. The y-axis should be the GDP per capita.\n",
    "3. There should be a separate subplot/facet (as a column) for each continent.\n",
    "4. There should be a maximum of 3 columns before the facteting is wrapped (hint: the `col_wrap` argument will be useful). \n",
    "5. You should create boxplots for each year. \n",
    "\n",
    "In the answer section, please answer the following questions:\n",
    "\n",
    "1. In 1-3 sentences, explain if the trends seen in the data make sense. \n",
    "\n",
    "2. Report if you notice any strange features of the data in this plot. \n",
    "\n",
    "Hint: If you want to change the axes labels for for plots will faceting, you need to save the plot to a name (such as the name `g`). You can then use `g.set(ylabel = \"blah\")` to set the y-label, etc.\n"
   ]
  },
  {
   "cell_type": "code",
   "execution_count": null,
   "metadata": {},
   "outputs": [],
   "source": [
    "\n",
    "\n",
    "\n",
    "\n"
   ]
  },
  {
   "cell_type": "markdown",
   "metadata": {},
   "source": [
    "**Answer**: \n",
    "\n",
    "1. \n",
    "\n",
    "\n",
    "\n",
    "2. \n",
    "\n",
    "\n",
    "\n"
   ]
  },
  {
   "cell_type": "markdown",
   "metadata": {},
   "source": [
    "**Question 1.6 (5 points)**: Now let's recreate a plot that this is similar to plots in Hans Rosling's video, where we plot life expectancy, as a function of GDP per capita. Since we are plotting two quantitative variables, we should use seaborn's `sns.relplot()` with the following features:\n",
    "\n",
    "1. The x-axis variable should be GDP per capita (as before)\n",
    "2. The y-axis variable should be life expectancy (as before)\n",
    "3. The size of each point should be the country's population\n",
    "4. The color should be a country's continent color \n",
    "5. Also make the transparent (alpha) set to .5 so that we can see overlapping points.\n",
    "\n",
    "As we did in the previous homework, please only use data from 2007 for this plot. \n",
    "\n",
    "\n",
    "In the answer section, in 1-5 sentences, describe any features that are better and/or worse than the similar plot you created in homework 5.  \n"
   ]
  },
  {
   "cell_type": "code",
   "execution_count": null,
   "metadata": {},
   "outputs": [],
   "source": [
    "\n",
    "\n",
    "\n",
    "\n",
    "\n",
    "\n",
    "\n",
    "\n",
    "\n"
   ]
  },
  {
   "cell_type": "markdown",
   "metadata": {},
   "source": [
    "**Answer**  \n",
    "\n",
    "\n",
    "\n",
    "\n"
   ]
  },
  {
   "cell_type": "markdown",
   "metadata": {},
   "source": [
    "**Question 1.7 (5 points)**: \n",
    "\n",
    "Please create your own visualization using seaborn here. It could be a reconstruction of a data visualization you made on the last homework using seaborn, or a new visualization using one of the class datasets or your own dataset. What might be particularly useful would be to use the dataset you plan to use for your final project since it could potentially save you time later in the semester. \n",
    "\n",
    "In the answer section, describe what your visualization is showing. \n"
   ]
  },
  {
   "cell_type": "code",
   "execution_count": 9,
   "metadata": {},
   "outputs": [],
   "source": [
    "# Create your own data visualization here\n",
    "\n",
    "\n",
    "\n",
    "\n",
    "\n",
    "\n",
    "\n"
   ]
  },
  {
   "cell_type": "markdown",
   "metadata": {},
   "source": [
    "**Answer**:\n",
    "\n",
    "\n",
    "\n",
    "\n"
   ]
  },
  {
   "cell_type": "markdown",
   "metadata": {},
   "source": [
    "## 2. Text manipulation\n",
    "\n",
    "A large part of Data Scientists' time is spent cleaning data, and a large part of data cleaning consists of manipulating text. \n",
    "\n",
    "To gain practice manipulating text, let's try to convert the text of the book Moby Dick from English back into (its original) [Pig Latin](https://en.wikipedia.org/wiki/Pig_Latin). \n",
    " \n",
    "\n",
    "The rules to convert an English word into Pig Latin are as follows:\n",
    "\n",
    "1. If a word starts with a vowel, add the suffix \"way\" to the end of the word. For example, \"eat\" would become \"eatway\"\n",
    "\n",
    "2. If a word starts with a consonant, remove the first letter and add it to the end of the word followed by the string \"ay\". For example, \"pig\" would become \"igpay\"\"   \n",
    "\n",
    "The following exercises will walk to through the process of doing this conversion. The skills you practice on these exercises might be useful for cleaning data for your class project, and will also be a good practice to prepare for the midterm exam. \n"
   ]
  },
  {
   "cell_type": "markdown",
   "metadata": {},
   "source": [
    "**Question 2.1 (4 points)**: To begin, let's write a function calle `convert_vowel_word_to_pig_latin(word)` that converts a word that starts with a vowel into its Pig Latin translation. \n",
    "\n",
    "As described above, a word that starts with a vowel can be converted to Pig Latin simply by appending the string \"way\" to the end of the word.\n",
    "\n",
    "Please write the function and test it on the test code code given below to show that it works. \n",
    "\n",
    "Hint: We can append to strings together using: \"string1\" + \"string2\""
   ]
  },
  {
   "cell_type": "code",
   "execution_count": 10,
   "metadata": {},
   "outputs": [],
   "source": [
    "def convert_vowel_word_to_pig_latin(word):\n",
    "    ...\n",
    "\n",
    "    \n",
    "\n",
    "# Test function\n",
    "convert_vowel_word_to_pig_latin(\"owl\") \n"
   ]
  },
  {
   "cell_type": "markdown",
   "metadata": {},
   "source": [
    "**Question 2.2 (5 points)**: Now let's write a function called `convert_consonant_word_to_pig_latin(word)` that converts a word that starts with a consonant into its Pig Latin translation. \n",
    "\n",
    "As described above, a word that starts with a consonant can be converted to Pig Latin simply by:\n",
    "\n",
    "1. Removing the first letter from the word.\n",
    "2. Appending this removed letter to the end of the word.\n",
    "3. Appending the string \"ay\" very end of the word.\n",
    "\n",
    "Please write the function and test it on the test code code given below to show that it works. \n",
    "\n",
    "Hint 1: We can access letters of a string in the same way as we can access elements of an array. For example, we can access the 3rd letter of the string `my_string = \"hello\"` using `my_string[2]`.  \n",
    "\n",
    "Hint 2: It could be useful to experiment with manipulating strings outside of the body of the function (e.g., in another experiment code cell), and once you have code that works you can put it inside the function body. \n"
   ]
  },
  {
   "cell_type": "code",
   "execution_count": 11,
   "metadata": {},
   "outputs": [],
   "source": [
    "def convert_consonant_word_to_pig_latin(word):\n",
    "    ...\n",
    "\n",
    "\n",
    "    \n",
    "\n",
    "convert_consonant_word_to_pig_latin(\"bird\") "
   ]
  },
  {
   "cell_type": "markdown",
   "metadata": {},
   "source": [
    "**Question 2.3 (2 points)**: Ok, now that we have functions that can convert individual words into Pig Latin we are ready to begin converting Moby Dick into Pig Latin. \n",
    "\n",
    "The code below loads Moby Dick into the name `book_data`. Please start by simply printing out the first 150 characters of this book. "
   ]
  },
  {
   "cell_type": "code",
   "execution_count": 12,
   "metadata": {},
   "outputs": [],
   "source": [
    "file = open('moby_dick.txt', 'r', encoding=\"utf8\")\n",
    "book_data = file.read()\n",
    "\n",
    "# print the first 150 characters.\n",
    "\n"
   ]
  },
  {
   "cell_type": "markdown",
   "metadata": {},
   "source": [
    "**Question 2.4 (3 points)**: From looking at the print out of the first 150 characters, you will notice several strange characters such as `\\n`. These characters are adding formatting to the text. For example, the character `\\n` adds a new line to the text. \n",
    "\n",
    "Let's remove the special characters `\\n`, `\\r` and `\\f` and replace in instance of these characters with a single space. Please save the results of your text that do not have these special characters in the name `book_data2` and print the first 150 characters to show your work. \n",
    "\n",
    "Hint: The `.replace(old_word, new_word)` method will be useful here. It could also be useful to use several lines of code to achieve this goal.\n",
    "\n"
   ]
  },
  {
   "cell_type": "code",
   "execution_count": 13,
   "metadata": {},
   "outputs": [],
   "source": [
    "book_data2 = ...\n",
    "\n",
    "\n",
    "\n",
    "\n",
    "\n"
   ]
  },
  {
   "cell_type": "markdown",
   "metadata": {},
   "source": [
    "**Question 2.5 (3 points)**: Now let's also get rid of punctuation (the period (.) the comma (,), and the semicolon (;)) from the text and replace it with nothing (i.e., replace the punctuation with the empty string `\"\"`). \n",
    "\n",
    "Store the results to the name `the_book3` and again print the first 150 characters to show your work. \n"
   ]
  },
  {
   "cell_type": "code",
   "execution_count": 14,
   "metadata": {},
   "outputs": [],
   "source": [
    "book_data3 = ...\n",
    "\n",
    "\n",
    "\n",
    "\n"
   ]
  },
  {
   "cell_type": "markdown",
   "metadata": {},
   "source": [
    "**Question 2.6 (3 points)**: Finally, let's also replace all double spaces `\"   \"`, with single spaces `\" \"`. Store the results to the name `the_book4` and again print the first 150 characters to show your work. \n"
   ]
  },
  {
   "cell_type": "code",
   "execution_count": 15,
   "metadata": {},
   "outputs": [],
   "source": [
    "book_data4 = ...\n",
    "\n",
    "\n",
    "\n",
    "\n"
   ]
  },
  {
   "cell_type": "markdown",
   "metadata": {},
   "source": [
    "**Question 2.7 (3 points)**: Let's now split our our one long book string into a list, where each element of the list is a word. \n",
    "\n",
    "To do this you can use the `.split(separator)` method where the `separator` argument should be set to be a space (i.e., `\" \"`). Please store the results in the name `moby_words` and print the first 10 elements of the list. \n"
   ]
  },
  {
   "cell_type": "code",
   "execution_count": 16,
   "metadata": {},
   "outputs": [],
   "source": [
    "moby_words = ...\n",
    "\n"
   ]
  },
  {
   "cell_type": "markdown",
   "metadata": {},
   "source": [
    "**Question 2.8 (2 points)**: Now that we have all the words of Moby Dick in a list we are ready to convert them into Pig Latin!  \n",
    "\n",
    "As a first step, it would be useful to check whether a word starts with a vowel or a consonant so that we can use the `convert_vowel_word_to_pig_latin(word)` and `convert_consonant_word_to_pig_latin(word)` functions above on the appropriate type of word. \n",
    "\n",
    "Fortunately, I have written functions that do this for you below! In particular, I have written a function called `starts_with_vowel(word)` which return `True` if a word starts with a vowel and `False` otherwise. Likewise, I have written a function called `starts_with_consonant(word)` which return `True` if a word does not start with a vowel, and `True` otherwise. \n",
    "\n",
    "Please write code to test both of these function by running them with the inputs `owl` and `bird` (i.e., write 4 lines of code that tests both functions on both words). In the answer section report if these functions work as expected. \n"
   ]
  },
  {
   "cell_type": "code",
   "execution_count": 17,
   "metadata": {},
   "outputs": [],
   "source": [
    "import re\n",
    "\n",
    "def starts_with_vowel(word):\n",
    "    return bool(re.match(\"^[aeiouAEIOU]\", word))\n",
    "\n",
    "def starts_with_consonant(word):\n",
    "    return bool(re.match(\"^[^aeiouAEIOU]\", word))\n",
    "\n",
    "\n",
    "\n",
    "# Test the functions written above\n",
    "\n",
    "\n",
    "\n",
    "\n",
    "\n",
    "\n",
    "\n"
   ]
  },
  {
   "cell_type": "markdown",
   "metadata": {},
   "source": [
    "**Answer**: \n",
    "\n",
    "\n",
    "\n"
   ]
  },
  {
   "cell_type": "markdown",
   "metadata": {},
   "source": [
    "**Question 2.9 (5 points)**: Ok, we are ready to convert our list of words into Pig Latin. You can do this with the following steps.\n",
    "\n",
    "1. Create an empty list called `pig_words` that will contain all our words converted into Pig Latin.\n",
    "\n",
    "2. Use a for loop to loop through each word in `moby_word`. If a word starts with a vowel use the `convert_vowel_word_to_pig_latin(word)` to convert it to Pig Latin, and similarly, if a word starts with a consonant, use the `convert_consonant_word_to_pig_latin(word)` function. \n",
    "\n",
    "3. After each word has been converted, append it to the `pig_words` list. \n",
    "\n",
    "At the end of the cell below, print out the first 10 words in the `pig_words` list to show your work. \n"
   ]
  },
  {
   "cell_type": "code",
   "execution_count": 18,
   "metadata": {},
   "outputs": [],
   "source": [
    "pig_words = ...\n",
    "\n",
    "\n",
    "# add your for loop here...\n",
    "\n",
    "\n",
    "\n",
    "\n",
    "\n",
    "\n",
    "\n",
    "\n",
    "\n"
   ]
  },
  {
   "cell_type": "markdown",
   "metadata": {},
   "source": [
    "**Question 2.10 (4 points)**: As a final step, let's join all the words in the `pig_words` list into a single string. To do this you can use the string's `.join(a_list`, method. Revisiting homework 2, question 1.3 could be useful here). \n",
    "\n",
    "Print out the first 100 charachters of the string that has your translation to show your work. In the answer section below, describe if there is anything missing from your translation. \n",
    "\n",
    "Note: Herman Melville would be proud.\n"
   ]
  },
  {
   "cell_type": "code",
   "execution_count": null,
   "metadata": {},
   "outputs": [],
   "source": [
    "\n"
   ]
  },
  {
   "cell_type": "markdown",
   "metadata": {},
   "source": [
    "**Answer**:  \n",
    "\n",
    "\n",
    "\n"
   ]
  },
  {
   "cell_type": "markdown",
   "metadata": {
    "tags": []
   },
   "source": [
    "## 3. Thoughts on your class project  (4 points)\n",
    "\n",
    "As I mentioned on the last homework, it's time to start thinking about your class project. Your class project will consist of a 6-10 page analysis (done in Jupyter) where you find a data set on your own and apply the methods we have discussed in class to show some interesting insights. \n",
    "\n",
    "In the Markdown section below, please briefly describe what you are thinking your project is going to be on. Also, if you have found data for your project, please load it below. If you have not found data yet, start looking for relevant data since this can be one of the more challenging aspects of the project. On the first homework after the break you will have to load your data into Jupyter so I recommend you get started looking for data now. \n",
    "\n"
   ]
  },
  {
   "cell_type": "markdown",
   "metadata": {},
   "source": [
    "### Please briefly describe what your questions your project will address\n",
    "\n",
    "\n",
    "\n"
   ]
  },
  {
   "cell_type": "code",
   "execution_count": 19,
   "metadata": {},
   "outputs": [],
   "source": [
    "# If you have found data for your project, \n",
    "# please load it below and print the first few rows of the data\n",
    "\n",
    "\n",
    "\n",
    "\n"
   ]
  },
  {
   "cell_type": "markdown",
   "metadata": {},
   "source": [
    "## 4. Crowdsourcing practice exam question (3 points)\n",
    "\n",
    "In order to try to give everyone more material to practice for the midterm exam, please post a practice problem to Canvas that you think is a good question for the exam. In particular, please post your question under the Canvas Discussions link on the left side of Canvas (which is the link right below the link to the Ed Discussions forum). Also, please write your practice problem below.\n",
    "\n",
    "You can then try the practice problems posted by others in order to get ready for the exam. As extra incentive, I will select one (or perhaps more) of these problems to be on the actual exam. \n"
   ]
  },
  {
   "cell_type": "markdown",
   "metadata": {},
   "source": [
    "**Please write down your practice exam problem here**: \n",
    "\n",
    "\n",
    "\n"
   ]
  },
  {
   "cell_type": "markdown",
   "metadata": {},
   "source": [
    "## 5. Reflection (3 points)\n",
    "\n",
    "Please reflect on how the homework went by going to Canvas, going to the Quizzes link, and clicking on reflection on homework 6. \n",
    "\n",
    "Also, please answer a few additional questions on the reflection about how the class is going for you which will be helpful for me so that I can make adjustments to the class after the break to make sure it is going as smoothly as possible for everyone. \n"
   ]
  },
  {
   "cell_type": "markdown",
   "metadata": {},
   "source": [
    "## 6. Submission\n",
    "\n",
    "Once you're finished, submit your assignment as a .pdf on Gradescope using the instructions described at the top of this assignment. "
   ]
  }
 ],
 "metadata": {
  "kernelspec": {
   "display_name": "Python [conda env:ydata123_2023e] *",
   "language": "python",
   "name": "conda-env-ydata123_2023e-py"
  },
  "language_info": {
   "codemirror_mode": {
    "name": "ipython",
    "version": 3
   },
   "file_extension": ".py",
   "mimetype": "text/x-python",
   "name": "python",
   "nbconvert_exporter": "python",
   "pygments_lexer": "ipython3",
   "version": "3.11.0"
  }
 },
 "nbformat": 4,
 "nbformat_minor": 4
}
