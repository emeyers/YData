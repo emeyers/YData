{
 "cells": [
  {
   "cell_type": "raw",
   "metadata": {
    "editable": false,
    "raw_mimetype": "",
    "slideshow": {
     "slide_type": ""
    },
    "tags": [
     "hide-input"
    ]
   },
   "source": [
    "---\n",
    "execute: \n",
    "  cache: false\n",
    "format: \n",
    "  pdf:\n",
    "    include-in-header: \n",
    "       text: |\n",
    "         \\newcommand{\\textasciicaret}{\\^{}}\n",
    "         \\usepackage{fvextra}\n",
    "         \\DefineVerbatimEnvironment{Highlighting}{Verbatim}{breaklines,commandchars=\\\\\\{\\}}\n",
    "    include-before-body:\n",
    "        text: |\n",
    "         \\RecustomVerbatimEnvironment{verbatim}{Verbatim}{showspaces = false, showtabs = false, breaksymbolleft={}, breaklines}\n",
    "---"
   ]
  },
  {
   "cell_type": "markdown",
   "metadata": {},
   "source": [
    "# Homework 6: Interactive visualizations and mapping\n",
    "\n",
    "Welcome to the sixth homework! In this homework you practice creating interactive visualizations using plotly and creating maps using geopandas. Please complete this notebook by filling in the cells provided. \n",
    "\n",
    "**Deadline:**\n",
    "\n",
    "This assignment is due **Sunday October 26th at 11pm.** You can turn in the assignment up to 24 hours late for 90% credit (after that, the homework will only be accepted with a dean's excuse). \n",
    "\n",
    "Directly sharing answers is not okay, but discussing problems with the course staff or with other students is encouraged. Refer to the policies page to learn more about how to learn cooperatively.\n",
    "\n",
    "You should start early so that you have time to get help if you're stuck. The drop-in office hours schedule can be found on Canvas.  You can also post questions or start discussions on Ed Discussion.\n",
    "\n",
    "**NOTE ABOUT THE FIGURES IN THE PDF**: Note that the figures created from interactive plot (i.e., plotly) might not show up correctly when you print your homework to a pdf. This is fine/expected, and we will be grading these questions on the code you submit if the figures are not visable or are not showing up correctly. In general, interactive graphics are not meant to be printed and shared as pdfs."
   ]
  },
  {
   "cell_type": "markdown",
   "metadata": {},
   "source": [
    "## Getting started\n",
    "\n",
    "In order to complete the homework, it is necessary to download a few files. Please run the code below **only once** to download data needed to complete the homework. To run the code, click in the cell below and press the play button (or press shift-enter). "
   ]
  },
  {
   "cell_type": "code",
   "execution_count": 14,
   "metadata": {},
   "outputs": [],
   "source": [
    "# if you are running this notebook in colabs, please uncomment and run the following two lines\n",
    "# !pip install https://github.com/emeyers/YData_package/tarball/master"
   ]
  },
  {
   "cell_type": "code",
   "execution_count": 15,
   "metadata": {},
   "outputs": [
    {
     "name": "stdout",
     "output_type": "stream",
     "text": [
      "The file `college_scorecard_subset_2021_2022.csv` already exists.\n",
      "If you would like to download a new copy of the file, please rename the existing copy of the file.\n",
      "The file `CCBASIC_categories.csv` already exists.\n",
      "If you would like to download a new copy of the file, please rename the existing copy of the file.\n",
      "The file `connecticut.geojson` already exists.\n",
      "If you would like to download a new copy of the file, please rename the existing copy of the file.\n",
      "The file `States_shapefile.geojson` already exists.\n",
      "If you would like to download a new copy of the file, please rename the existing copy of the file.\n"
     ]
    }
   ],
   "source": [
    "# Please run this code once to download the files you will need to complete the homework \n",
    "\n",
    "import YData \n",
    "\n",
    "YData.download.download_data(\"college_scorecard_subset_2021_2022.csv\")\n",
    "YData.download.download_data(\"CCBASIC_categories.csv\")\n",
    "YData.download.download_data(\"connecticut.geojson\")\n",
    "YData.download.download_data(\"States_shapefile.geojson\")"
   ]
  },
  {
   "cell_type": "markdown",
   "metadata": {},
   "source": [
    "## 0. Quote and Reaction (5 points)\n",
    "\n",
    "For this week's quote and reaction, please choose and read an article from [the pudding](https://pudding.cool/), which is a website that has interactive data analysis articles (often using javascript D3 library). Once you have read the article, please post a link to the article you choose below and briefly describe what the article was about and what you thought was interesting about it. \n",
    "\n",
    "Also, please [read this recent (and very short) article](https://yale.instructure.com/courses/108872/files/folder/readings?preview=11704070) from the New York Times about different map projects (you do not need to comment on this article below, although you can leave a short comment if you'd like). "
   ]
  },
  {
   "cell_type": "markdown",
   "metadata": {},
   "source": [
    "The article I chose was:  (add a link here)\n",
    "\n",
    "The article was about...\n",
    "\n",
    "What I found interesting about the article was...\n",
    "\n"
   ]
  },
  {
   "cell_type": "code",
   "execution_count": 16,
   "metadata": {},
   "outputs": [],
   "source": [
    "# This cell imports functions from packages we will use below.\n",
    "# Please run it each time you load the Jupyter notebook\n",
    "\n",
    "import numpy as np\n",
    "import pandas as pd\n",
    "import plotly\n",
    "import plotly.express as px\n",
    "import matplotlib.pyplot as plt\n",
    "\n",
    "# plotly.offline.init_notebook_mode()\n",
    "\n",
    "%matplotlib inline"
   ]
  },
  {
   "cell_type": "markdown",
   "metadata": {},
   "source": [
    "## The College Scorecard data \n",
    "\n",
    "To practice creating interactive visualizations and mapping, we will use College Scorecard dataset. The dataset is created by the [United States](https://www.npr.org/sections/ed/2015/09/12/439742485/president-obamas-new-college-scorecard-is-a-torrent-of-data) government to allow consumers to compare the cost and value of higher education institutions in the United States. \n",
    "\n",
    "Full dataset can be found at https://collegescorecard.ed.gov/data/ and the full codebook can be download [here](https://collegescorecard.ed.gov/data/documentation/). In order to make the data more manageable, I created a smaller dataset that contains only data from institutions which the predominant degree offered is a bachlor's degree, and that also only has a smaller subset of variables that are in the full dataset. A code book for the variables in this smaller dataset is below, and the next cell loads the data into pandas DataFrame.\n",
    "\n",
    "#### Codebook\n",
    "\n",
    "1. `UNITID`: Unit ID for institution\n",
    "\n",
    "2. `INSTNM`: Institution name\n",
    "\n",
    "3. `CITY`: School city\n",
    "\n",
    "4. `STABBR`: State \n",
    "\n",
    "5. `ZIP` zip code\n",
    "\n",
    "6. `HIGHDEG`: Higest degree offered. 3 is BA, 4 is graduate degree\n",
    "\n",
    "7. `CONTROL`: Control of institution. 1 = public, 2 = private non-profit, 3 = private for profit\n",
    "\n",
    "8. `LATITUDE`: Latitude\n",
    "\n",
    "9. `LONGITUDE`: Longitude\n",
    "\n",
    "10. `CCBASIC`: Carnegie Classification; e.g., 15 = Doctoral Universities: Very High Research Activity\n",
    "\n",
    "11. `ADM_RATE`: Admission rate\n",
    "\n",
    "12. `SAT_AVG`: Average SAT equivalent score of students admitted\n",
    "\n",
    "13. `UGDS`: Enrollment of undergraduate certificate/degree-seeking students (student size)\n",
    "\n",
    "14. `NPT4_PUB`: Average net price for Title IV institutions (public institutions)\n",
    "\n",
    "15. `NPT4_PRIV`: Average net price for Title IV institutions (private for-profit and nonprofit institutions)\n",
    "\n",
    "16. `TUITIONFEE_IN`: In-state tuition and fees cost\n",
    "\n",
    "17. `TUITIONFEE_OUT`: Out-of-state tuition and fees cost\n",
    "\n",
    "18. `TUITFTE`: Net tuition revenue per full-time equivalent student\n",
    "\n",
    "19. `INEXPFTE`: Instructional expenditures per full-time equivalent student\n",
    "\n",
    "20. `AVGFACSAL`: Average faculty salary\n",
    "\n",
    "21. `PFTFAC`: Proportion of faculty that is full-time\n",
    "\n",
    "22. `PCTPELL`: Percentage of undergraduates who receive a Pell Grant\n",
    "\n",
    "23. `C100_4`: Completion rate for first-time, full-time students at four-year institutions (100% of expected time to completion). 100 percent of normal time is typically 4 years.\n",
    "\n",
    "24. `C150_4`: Completion rate for first-time, full-time students at four-year institutions (150% of expected time to completion. 150 percent of normal time is typically 6 years. \n",
    "\n",
    "25. `GRAD_DEBT_MDN`: The median debt for students who have completed\n",
    "\n",
    "26. `WDRAW_DEBT_MDN`: The median debt for students who have not completed\n",
    "\n",
    "27. `PCIP27`: Percentage of degrees awarded in Mathematics And Statistics\n",
    "\n",
    "28. `UGDS_MEN`: Total share of enrollment of undergraduate degree-seeking students who are men\n",
    "\n",
    "29. `UGDS_WOMEN`: Total share of enrollment of undergraduate degree-seeking students who are women\n",
    "\n",
    "30. `GRADS`: Number of graduate students\n",
    "\n",
    "31. `BOOKSUPPLY`: Cost of attendance: estimated books and supplies cost\n",
    "\n",
    "32. `ROOMBOARD_ON`: Cost of attendance: on-campus room and board cost\n",
    "\n",
    "33. `ENDOWBEGIN`: Value of school's endowment at the beginning of the fiscal year\n",
    "\n",
    "34. `ENDOWEND`: Value of school's endowment at the end of the fiscal year\n",
    "\n",
    "35. `GT_THRESHOLD_P10`: Share of students earning more than a high school graduate (threshold earnings) 10 years after entry\n",
    "\n",
    "36. `MD_EARN_WNE_MALE0_P10`: Median earnings of non-male students working and not enrolled 10 years after entry\n",
    "\n",
    "37. `MD_EARN_WNE_MALE1_P10`: Median earnings of male students working and not enrolled 10 years after entry\n"
   ]
  },
  {
   "cell_type": "code",
   "execution_count": 17,
   "metadata": {},
   "outputs": [
    {
     "data": {
      "text/html": [
       "<div>\n",
       "<style scoped>\n",
       "    .dataframe tbody tr th:only-of-type {\n",
       "        vertical-align: middle;\n",
       "    }\n",
       "\n",
       "    .dataframe tbody tr th {\n",
       "        vertical-align: top;\n",
       "    }\n",
       "\n",
       "    .dataframe thead th {\n",
       "        text-align: right;\n",
       "    }\n",
       "</style>\n",
       "<table border=\"1\" class=\"dataframe\">\n",
       "  <thead>\n",
       "    <tr style=\"text-align: right;\">\n",
       "      <th></th>\n",
       "      <th>UNITID</th>\n",
       "      <th>INSTNM</th>\n",
       "      <th>CITY</th>\n",
       "      <th>STABBR</th>\n",
       "      <th>ZIP</th>\n",
       "      <th>HIGHDEG</th>\n",
       "      <th>CONTROL</th>\n",
       "      <th>LATITUDE</th>\n",
       "      <th>LONGITUDE</th>\n",
       "      <th>CCBASIC</th>\n",
       "      <th>...</th>\n",
       "      <th>UGDS_MEN</th>\n",
       "      <th>UGDS_WOMEN</th>\n",
       "      <th>GRADS</th>\n",
       "      <th>BOOKSUPPLY</th>\n",
       "      <th>ROOMBOARD_ON</th>\n",
       "      <th>ENDOWBEGIN</th>\n",
       "      <th>ENDOWEND</th>\n",
       "      <th>GT_THRESHOLD_P10</th>\n",
       "      <th>MD_EARN_WNE_MALE0_P10</th>\n",
       "      <th>MD_EARN_WNE_MALE1_P10</th>\n",
       "    </tr>\n",
       "  </thead>\n",
       "  <tbody>\n",
       "    <tr>\n",
       "      <th>0</th>\n",
       "      <td>100654</td>\n",
       "      <td>Alabama A &amp; M University</td>\n",
       "      <td>Normal</td>\n",
       "      <td>AL</td>\n",
       "      <td>35762</td>\n",
       "      <td>4</td>\n",
       "      <td>1</td>\n",
       "      <td>34.783368</td>\n",
       "      <td>-86.568502</td>\n",
       "      <td>18.0</td>\n",
       "      <td>...</td>\n",
       "      <td>0.3978</td>\n",
       "      <td>0.6022</td>\n",
       "      <td>884.0</td>\n",
       "      <td>1600.0</td>\n",
       "      <td>9240.0</td>\n",
       "      <td>NaN</td>\n",
       "      <td>NaN</td>\n",
       "      <td>0.6044</td>\n",
       "      <td>36050.0</td>\n",
       "      <td>36377.0</td>\n",
       "    </tr>\n",
       "    <tr>\n",
       "      <th>1</th>\n",
       "      <td>100663</td>\n",
       "      <td>University of Alabama at Birmingham</td>\n",
       "      <td>Birmingham</td>\n",
       "      <td>AL</td>\n",
       "      <td>35294-0110</td>\n",
       "      <td>4</td>\n",
       "      <td>1</td>\n",
       "      <td>33.505697</td>\n",
       "      <td>-86.799345</td>\n",
       "      <td>15.0</td>\n",
       "      <td>...</td>\n",
       "      <td>0.3816</td>\n",
       "      <td>0.6184</td>\n",
       "      <td>8685.0</td>\n",
       "      <td>1200.0</td>\n",
       "      <td>12307.0</td>\n",
       "      <td>537349307.0</td>\n",
       "      <td>539858544.0</td>\n",
       "      <td>0.7472</td>\n",
       "      <td>42007.0</td>\n",
       "      <td>56164.0</td>\n",
       "    </tr>\n",
       "    <tr>\n",
       "      <th>2</th>\n",
       "      <td>100706</td>\n",
       "      <td>University of Alabama in Huntsville</td>\n",
       "      <td>Huntsville</td>\n",
       "      <td>AL</td>\n",
       "      <td>35899</td>\n",
       "      <td>4</td>\n",
       "      <td>1</td>\n",
       "      <td>34.724557</td>\n",
       "      <td>-86.640449</td>\n",
       "      <td>16.0</td>\n",
       "      <td>...</td>\n",
       "      <td>0.5891</td>\n",
       "      <td>0.4109</td>\n",
       "      <td>1972.0</td>\n",
       "      <td>2200.0</td>\n",
       "      <td>10652.0</td>\n",
       "      <td>77250279.0</td>\n",
       "      <td>75837207.0</td>\n",
       "      <td>0.7769</td>\n",
       "      <td>45170.0</td>\n",
       "      <td>66070.0</td>\n",
       "    </tr>\n",
       "  </tbody>\n",
       "</table>\n",
       "<p>3 rows × 37 columns</p>\n",
       "</div>"
      ],
      "text/plain": [
       "   UNITID                               INSTNM        CITY STABBR         ZIP  \\\n",
       "0  100654             Alabama A & M University      Normal     AL       35762   \n",
       "1  100663  University of Alabama at Birmingham  Birmingham     AL  35294-0110   \n",
       "2  100706  University of Alabama in Huntsville  Huntsville     AL       35899   \n",
       "\n",
       "   HIGHDEG  CONTROL   LATITUDE  LONGITUDE  CCBASIC  ...  UGDS_MEN  UGDS_WOMEN  \\\n",
       "0        4        1  34.783368 -86.568502     18.0  ...    0.3978      0.6022   \n",
       "1        4        1  33.505697 -86.799345     15.0  ...    0.3816      0.6184   \n",
       "2        4        1  34.724557 -86.640449     16.0  ...    0.5891      0.4109   \n",
       "\n",
       "    GRADS  BOOKSUPPLY  ROOMBOARD_ON   ENDOWBEGIN     ENDOWEND  \\\n",
       "0   884.0      1600.0        9240.0          NaN          NaN   \n",
       "1  8685.0      1200.0       12307.0  537349307.0  539858544.0   \n",
       "2  1972.0      2200.0       10652.0   77250279.0   75837207.0   \n",
       "\n",
       "   GT_THRESHOLD_P10  MD_EARN_WNE_MALE0_P10  MD_EARN_WNE_MALE1_P10  \n",
       "0            0.6044                36050.0                36377.0  \n",
       "1            0.7472                42007.0                56164.0  \n",
       "2            0.7769                45170.0                66070.0  \n",
       "\n",
       "[3 rows x 37 columns]"
      ]
     },
     "execution_count": 17,
     "metadata": {},
     "output_type": "execute_result"
    }
   ],
   "source": [
    "scorecard = pd.read_csv(\"college_scorecard_subset_2021_2022.csv\")\n",
    "\n",
    "scorecard.head(3)"
   ]
  },
  {
   "cell_type": "markdown",
   "metadata": {},
   "source": [
    "## 1. Interactive visualizations\n",
    "\n",
    "For the first set of exercises we will create some interactive data visualizations using [plotly express](https://plotly.com/python/plotly-express/). As we discussed in class, interactive visualizations can be very useful for:\n",
    "\n",
    "1. Exploring data to see trends that can be investigated further. \n",
    "2. Sharing data on websites to allow other people to explore the data. \n",
    "\n",
    "While in this class you will not have to share interactive visualizations on websites, creating interactive visualizations will be useful for your class project in order to find trends that you can then show through static graphics (and I definitely encourage everyone to share static and interactive graphics you create in this class on a website such as GitHub to showcase your skills). In the exercises below we will also focus on answering specific questions and coming up with ways to clearly visualize data, which will again be good preparation for your class project. \n",
    "\n",
    "Let's now dive into the data!\n"
   ]
  },
  {
   "cell_type": "markdown",
   "metadata": {},
   "source": [
    "**Question 1.1 (4 points)**:  As a first question, create an interactive scatter plot to explore which colleges have the highest endowments. In particular please create a scatter plot using the `px.scatter(data_frame = , x = , y = , hover_name = )` function with the following mappings:\n",
    "\n",
    "- `x`: Should be a college's endowment at the beginning of the year (i.e., the beginning of the 2021 academic year)\n",
    "- `y`: Should be the median earnings for students who are not male 10 years after graduation\n",
    "- `hover_name`: Should be the name of the college/university\n",
    "\n",
    "For all figures in this homework (and for the rest of the semester), be sure to label your axes appropriately!\n",
    "\n",
    "In the answer section please report:\n",
    "1. Which three schools have the highest endowments? \n",
    "2. Does there appear to be a clear relationship between endowment and income (i.e., do students who graduate with schools that have higher endowments tend to have higher incomes)? \n"
   ]
  },
  {
   "cell_type": "code",
   "execution_count": 18,
   "metadata": {},
   "outputs": [],
   "source": [
    "import plotly.express as px\n",
    "\n",
    "\n",
    "\n",
    "\n",
    "\n"
   ]
  },
  {
   "cell_type": "markdown",
   "metadata": {},
   "source": [
    "<font color='red'> **Answer**:\n",
    "\n",
    "1. \n",
    "\n",
    "2. \n",
    "    "
   ]
  },
  {
   "cell_type": "markdown",
   "metadata": {},
   "source": [
    "**Question 1.2 (3 points)**: To get a little more practice with pandas, in the cell below, please write code that prints the names of the 3 schools that have the highest endowments. \n",
    "\n",
    "In the answer section, report one advantage of using interactive graphics to find this information, and one advantage of using data manipulation to report this information. \n"
   ]
  },
  {
   "cell_type": "code",
   "execution_count": null,
   "metadata": {},
   "outputs": [],
   "source": [
    "\n",
    "\n",
    "\n",
    "\n"
   ]
  },
  {
   "cell_type": "markdown",
   "metadata": {},
   "source": [
    "<font color='red'> **Answer**:\n",
    "\n",
    "\n"
   ]
  },
  {
   "cell_type": "markdown",
   "metadata": {},
   "source": [
    "**Question 1.3 (4 points)**:  From the visualization you created for question 1.1, you will notice that it is pretty hard to tell whether students that graduate from schools that have larger endowments end up earning more money. One reason this is difficult is because the endowments of different schools vary greatly, so the majority of schools that have smaller endowements are all squished in the left side of the graph. \n",
    "\n",
    "To deal with this we can use a log transformation of the data on the x-axis. This can be done by setting the `log_x` to `True`. \n",
    "\n",
    "Please recreate the graph you created in question 1.1, but with the x values being on a $log_{10}$ scale. In the answer section please report:\n",
    "\n",
    "1. Whether it is easier to see a trend between how much income students are making and schools' endowments when the endowment data is plotted on the $log_{10}$ scale.\n",
    "2. Report two schools where students are making much higher incomes than might be predicted based on the size of a school's endowment.\n"
   ]
  },
  {
   "cell_type": "code",
   "execution_count": null,
   "metadata": {},
   "outputs": [],
   "source": [
    "\n",
    "\n",
    "\n",
    "\n",
    "\n"
   ]
  },
  {
   "cell_type": "markdown",
   "metadata": {},
   "source": [
    "<font color='red'> **Answer**:\n",
    "\n",
    "1.\n",
    "\n",
    "2. \n",
    "\n"
   ]
  },
  {
   "cell_type": "markdown",
   "metadata": {},
   "source": [
    "**Question 1.4 (4 points)**: \n",
    "\n",
    "As you saw above, there are a few schools where students are earning much higher income than would be predicted based on the school's endowment. Let's see if we can find any trends that might explain why students earn higher incomes from these schools. \n",
    "\n",
    "Below is code that loads a DataFrame that has information about the \"Carnegie classification\" of each school, which categorizes schools into different types, such as schools that are primarily \"Master's Colleges & Universities: Larger Programs\" or schools that are primarily \"Baccalaureate Colleges: Arts & Sciences Focus\". For the remainder of this homework, we will refer to the schools' Carnegie classification as \"cc-type\". \n",
    "\n",
    "Using this `cc_categories` DataFrame, as well as the `scorecard` DataFrame, please do the following: \n",
    "\n",
    "1. Join the `cc_categories` onto the `scorecard` DataFrame and store the results in a DataFrame called `scorecard2`. Your join should be done such that all the rows of the `scorecard` are kept intact. \n",
    "\n",
    "2. Use plotly to create the same interactive scatter plot as you did in question 1.3 but have the color of each point be the school's Carnegie Classification. \n",
    "\n",
    "In the answer section below please report:\n",
    "\n",
    "1. What cc-type of school tends to produce the most outliers, in terms of students earning higher incomes relative to the schools' endowments.\n",
    "\n",
    "2. What cc-type of school tends to have the highest endowments. \n"
   ]
  },
  {
   "cell_type": "code",
   "execution_count": 19,
   "metadata": {},
   "outputs": [
    {
     "data": {
      "text/html": [
       "<div>\n",
       "<style scoped>\n",
       "    .dataframe tbody tr th:only-of-type {\n",
       "        vertical-align: middle;\n",
       "    }\n",
       "\n",
       "    .dataframe tbody tr th {\n",
       "        vertical-align: top;\n",
       "    }\n",
       "\n",
       "    .dataframe thead th {\n",
       "        text-align: right;\n",
       "    }\n",
       "</style>\n",
       "<table border=\"1\" class=\"dataframe\">\n",
       "  <thead>\n",
       "    <tr style=\"text-align: right;\">\n",
       "      <th></th>\n",
       "      <th>CCBASIC</th>\n",
       "      <th>carnegie_classification</th>\n",
       "    </tr>\n",
       "  </thead>\n",
       "  <tbody>\n",
       "    <tr>\n",
       "      <th>0</th>\n",
       "      <td>-2</td>\n",
       "      <td>Not applicable</td>\n",
       "    </tr>\n",
       "    <tr>\n",
       "      <th>1</th>\n",
       "      <td>0</td>\n",
       "      <td>(Not classified)</td>\n",
       "    </tr>\n",
       "    <tr>\n",
       "      <th>2</th>\n",
       "      <td>1</td>\n",
       "      <td>Associate's Colleges: High Transfer-High Tradi...</td>\n",
       "    </tr>\n",
       "  </tbody>\n",
       "</table>\n",
       "</div>"
      ],
      "text/plain": [
       "   CCBASIC                            carnegie_classification\n",
       "0       -2                                     Not applicable\n",
       "1        0                                   (Not classified)\n",
       "2        1  Associate's Colleges: High Transfer-High Tradi..."
      ]
     },
     "metadata": {},
     "output_type": "display_data"
    }
   ],
   "source": [
    "cc_categories = pd.read_csv(\"CCBASIC_categories.csv\")\n",
    "display(cc_categories.head(3))"
   ]
  },
  {
   "cell_type": "code",
   "execution_count": null,
   "metadata": {},
   "outputs": [],
   "source": [
    "\n",
    "\n",
    "\n",
    "\n",
    "\n",
    "\n"
   ]
  },
  {
   "cell_type": "markdown",
   "metadata": {},
   "source": [
    "<font color='red'> **Answer**:\n",
    "\n",
    "1. \n",
    "\n",
    "\n",
    "2. \n",
    "\n",
    "\n",
    "\n"
   ]
  },
  {
   "cell_type": "markdown",
   "metadata": {},
   "source": [
    "**Question 1.5 (4 points)**: Let's explore one more relationship using interactive scatter plots. In particular, let's look at the relationship between SAT scores,  median income and type of school (as specified by the Carnegie Classification). \n",
    "\n",
    "Please create a scatter plot exploring this relationship. In the answer section, please answer the following questions:\n",
    "\n",
    "1. What cc-types of schools tend to have students with the highest SAT scores?\n",
    "2. Are there any schools (and/or cc-types of schools) that seem to have high median incomes relative to the SAT scores students have at those schools? \n",
    "3. What do you think leads to higher median income? Is it SAT scores, the size of a school's endowment, or something else? \n"
   ]
  },
  {
   "cell_type": "code",
   "execution_count": null,
   "metadata": {},
   "outputs": [],
   "source": [
    "\n",
    "\n",
    "\n",
    "\n"
   ]
  },
  {
   "cell_type": "markdown",
   "metadata": {},
   "source": [
    "<font color='red'> **Answer**:\n",
    "\n",
    "1. \n",
    "\n",
    "\n",
    "2.\n",
    "\n",
    "\n",
    "3.  \n",
    "   \n",
    "   "
   ]
  },
  {
   "cell_type": "markdown",
   "metadata": {},
   "source": [
    "**Question 1.6 (4 points)**: Now let's examine a couple other types of interactive graphs we can make using plotly. Let's first create a treemap showing how many schools there are of each cc-type in each state, and also the median income students make in each cc-type of school. \n",
    "\n",
    "To start this analysis, let's create a DataFrame called `scorecard_state_stats` where each row corresponds to a unique combination of state abbreviation and Carnegie Classification. The columns of the `scorecard_state_stats` should be: \n",
    "\n",
    "1. `STABBR`: The states abbreviation\n",
    "2. `carnegie_classification`: The Carnegie Classification\n",
    "3. `count`: The number of institutions in each state which a particular Carnegie Classification\n",
    "4. `median_income`: The median of the `MD_EARN_WNE_MALE0_P10` variable (i.e., the median of the median incomes)\n",
    "\n",
    "Once you have created `scorecard_state_stats` DataFrame, sort the values in it by the `count` variable and display the first 5 rows. \n",
    "\n",
    "Hint: You can group a DataFrame in pandas by multiple variables using `.groupby(['name_col1', 'name_col2'])`\n"
   ]
  },
  {
   "cell_type": "code",
   "execution_count": null,
   "metadata": {},
   "outputs": [],
   "source": [
    "\n",
    "\n",
    "\n",
    "\n",
    "\n",
    "\n"
   ]
  },
  {
   "cell_type": "markdown",
   "metadata": {},
   "source": [
    "**Question 1.7 (4 points)**: Now that we have the `scorecard_state_stats` DataFrame, let's visualize it as a using `px.treemap()` function. Please set the following arguments of the function: \n",
    "\n",
    "1. `data_frame`: should be the `scorecard_state_stats` DataFrame\n",
    "2. `path`: should be a list with a constant set to the Carnegie Classification and then the state abbreviations.\n",
    "3. `values`: should be the count of the number of schools for each state\n",
    "4. `color`: should be the median of the median income value for each school type. \n",
    "\n",
    "\n",
    "In the answer section, in 1-3 sentences, describe: \n",
    "\n",
    "1. Any trends that are apparent from looking at the data visualization.  \n",
    "2. Overall, what you think of this visualization?"
   ]
  },
  {
   "cell_type": "code",
   "execution_count": null,
   "metadata": {},
   "outputs": [],
   "source": [
    "\n",
    "\n",
    "\n",
    "\n",
    "\n"
   ]
  },
  {
   "cell_type": "markdown",
   "metadata": {},
   "source": [
    "<font color='red'> **Answer**:\n",
    "\n"
   ]
  },
  {
   "cell_type": "markdown",
   "metadata": {},
   "source": [
    "**Question 1.8 (4 points)**: Finally, let's visualize the scorecard data using heatmaps that shows the tuition revenue depends on the cc-type of college and on whether the college is a public college or non-profit private college. \n",
    "\n",
    "To start this analysis, use the `.pivot_table()` method to create a DataFrame called `scorecard_wide`. Each row of this DataFrame should correspond to one of the Carnegie Classification types. The table should also have the following properties:\n",
    "\n",
    "1. The Index should be the Carnegie Classification \n",
    "2. There should be a column called `1` which has the median \"Net tuition revenue per full-time equivalent student\" for public schools (for each Carnegie Classification type). \n",
    "3. Likewise, there should a column called `2` which has the median \"Net tuition revenue per full-time equivalent student\" for private schools (for each Carnegie Classification type). \n",
    "\n",
    "Once you have created this basic `scorecard_wide` DataFrame, please modify it by doing the following:\n",
    "1. Rename the `1` column to be `Public` and the `2` column to be `Private`.\n",
    "2. Remove the column called `3`\n",
    "3. Sort the values based on the values in the `Private` column\n",
    "4. Drop any rows from the DataFrame that have missing values by using the `.dropna()` method. \n",
    "\n",
    "After you have created the `scorecard_wide` DataFrame, print the first of this DataFrame to show your work. \n"
   ]
  },
  {
   "cell_type": "code",
   "execution_count": null,
   "metadata": {},
   "outputs": [],
   "source": [
    "\n",
    "\n",
    "\n",
    "\n",
    "\n",
    "\n"
   ]
  },
  {
   "cell_type": "markdown",
   "metadata": {},
   "source": [
    "**Question 1.9 (4 points)**: Now that you have created the `scorecard_wide` DataFrame, please visualize it using the `px.imshow()` function. Also, set the `aspect='auto'` argument to make the columns wide. Finally, set the x-axis label to be \"School type\" and remove the y-axis label by setting it to an empty string.\n",
    "\n",
    "In the answer section, report the two cc-types of schools that have the highest median \"Net tuition revenue per full-time equivalent student\" and whether Yale is one of these types of schools. \n",
    "\n",
    "For additional practice, create another Python cell in this Jupyter notebook and see if you can extract Yale's cc-type from the `scorecard2` DataFrame (although if you can figure out another way to get Yale's cc-type, that is fine too). "
   ]
  },
  {
   "cell_type": "code",
   "execution_count": null,
   "metadata": {},
   "outputs": [],
   "source": [
    "\n",
    "\n",
    "\n",
    "\n"
   ]
  },
  {
   "cell_type": "markdown",
   "metadata": {},
   "source": [
    "<font color='red'> **Answer**:\n",
    "\n",
    "\n"
   ]
  },
  {
   "cell_type": "code",
   "execution_count": null,
   "metadata": {},
   "outputs": [],
   "source": []
  },
  {
   "cell_type": "markdown",
   "metadata": {},
   "source": [
    "**Question 1.10 (4 points)**: As you know, since you need to turn in your final project as a pdf document, you won't be able to include interactive graphics on the project. Fortunately, you can still create non-interactive heatmaps of the data using seaborn. \n",
    "\n",
    "Let'e explore this now but creating the visualization above using the `sns.heatmap()` function where the arguments to the function should be the `scorecard_wide` DataFrame. Also set the `annot=True` to add written values on the heatmap, and `fmt=\".0f\"` so that the values are integers. Finally, set the x and y labels to empty strings to turn off these labels. \n",
    "\n",
    "In the answer section, briefly state whether you like the plotly or the seaborn heatmap better. \n"
   ]
  },
  {
   "cell_type": "code",
   "execution_count": 20,
   "metadata": {},
   "outputs": [],
   "source": [
    "import seaborn as sns\n",
    "\n",
    "\n",
    "\n"
   ]
  },
  {
   "cell_type": "markdown",
   "metadata": {},
   "source": [
    "<font color='red'> **Answer**:\n",
    "\n",
    "\n"
   ]
  },
  {
   "cell_type": "markdown",
   "metadata": {},
   "source": [
    "**Question 1.11 (4 points)**: Now create one or more own visualizations of your own using plotly. You can either use the College Scorecard data or the data you are using on your class project - or you could create a visualization of each!  If you create a nice visualization of your own data, feel free to include it in your class project report. \n",
    "\n",
    "For the visualization you create, you can use the types of visualization we used above (e.g., scatter plots, heatmaps, etc.) or a different visualization type we have not discussed by looking at the [plotly visualization documentaton](https://plotly.com/python/plotly-express/). In the answer section, briefly describe what you visualization shows. \n"
   ]
  },
  {
   "cell_type": "code",
   "execution_count": 21,
   "metadata": {},
   "outputs": [],
   "source": [
    "# Create your own data visualization here\n",
    "\n",
    "\n",
    "\n",
    "\n",
    "\n",
    "\n",
    "\n",
    "\n"
   ]
  },
  {
   "cell_type": "markdown",
   "metadata": {},
   "source": [
    "<font color='red'> **Answer**:    \n",
    "\n",
    "\n",
    "    \n",
    "    "
   ]
  },
  {
   "cell_type": "markdown",
   "metadata": {},
   "source": [
    "## 2. Mapping\n",
    "\n",
    "For the second part of this homework we will explore creating maps of data using the geopandas package. In particular, we will create maps where we add points at particular locations, and also choropleth maps where will fill in predefined regions based on particular values. Let's dive in!\n"
   ]
  },
  {
   "cell_type": "markdown",
   "metadata": {},
   "source": [
    "**Question 2.1 (2 points)**: \n",
    "\n",
    "In order to create maps, we need to load data that has the boundary regions of the areas we would like to map. There are several different formats that are used to store such mapping data. We will load data that is in [GeoJson format](https://geojson.org/), which is a format that is more human-readible than other formats which can be useful if you want to look at the raw data. To start, we will load data on the state of Connecticut which was obtained from https://github.com/glynnbird/usstatesgeojson. \n",
    "\n",
    "The code below imports the geopandas packages and uses it to load our data on Connecticut into a geopandas DataFrame. As we discussed in class, a geopandas DataFrame is similar regular pandas DataFrame except that it has an extra column called \"geometry\" which contains geometric shapes (these shapes are defined as \"Shapely objects\" which [you are read more about here](https://shapely.readthedocs.io/en/stable/manual.html) if you are interested). For our Connecticut data, there is only one row which contains data on the state of Connecticut. As you can see, this geopandas DataFrame contains information on Connecticut (just like a regular pandas DataFrame has) along with the geometry column contains the outline of the state. \n",
    "\n",
    "To start, please use the geopandas `.plot()` method to plot the outline of the state. Also set the `color` argument to \"orange\" to make the fill color of the state orange, and the `edgecolor` argument to \"green\" to create a green outline around the state.\n",
    "\n",
    "Also, for this **and all subsequent questions**, please be sure to use `ax.set_axis_off();` to turn remove the axes from the maps in order to make them look better. "
   ]
  },
  {
   "cell_type": "code",
   "execution_count": 22,
   "metadata": {},
   "outputs": [
    {
     "data": {
      "text/html": [
       "<div>\n",
       "<style scoped>\n",
       "    .dataframe tbody tr th:only-of-type {\n",
       "        vertical-align: middle;\n",
       "    }\n",
       "\n",
       "    .dataframe tbody tr th {\n",
       "        vertical-align: top;\n",
       "    }\n",
       "\n",
       "    .dataframe thead th {\n",
       "        text-align: right;\n",
       "    }\n",
       "</style>\n",
       "<table border=\"1\" class=\"dataframe\">\n",
       "  <thead>\n",
       "    <tr style=\"text-align: right;\">\n",
       "      <th></th>\n",
       "      <th>name</th>\n",
       "      <th>abbreviation</th>\n",
       "      <th>capital</th>\n",
       "      <th>city</th>\n",
       "      <th>population</th>\n",
       "      <th>area</th>\n",
       "      <th>waterarea</th>\n",
       "      <th>landarea</th>\n",
       "      <th>houseseats</th>\n",
       "      <th>statehood</th>\n",
       "      <th>group</th>\n",
       "      <th>geometry</th>\n",
       "    </tr>\n",
       "  </thead>\n",
       "  <tbody>\n",
       "    <tr>\n",
       "      <th>0</th>\n",
       "      <td>Connecticut</td>\n",
       "      <td>CT</td>\n",
       "      <td>Hartford</td>\n",
       "      <td>Bridgeport</td>\n",
       "      <td>3596080</td>\n",
       "      <td>14356</td>\n",
       "      <td>1816</td>\n",
       "      <td>12541</td>\n",
       "      <td>5</td>\n",
       "      <td>1788-01-09</td>\n",
       "      <td>US States</td>\n",
       "      <td>POLYGON ((-72.39743 42.0333, -72.19883 42.0309...</td>\n",
       "    </tr>\n",
       "  </tbody>\n",
       "</table>\n",
       "</div>"
      ],
      "text/plain": [
       "          name abbreviation   capital        city  population   area  \\\n",
       "0  Connecticut           CT  Hartford  Bridgeport     3596080  14356   \n",
       "\n",
       "   waterarea  landarea  houseseats  statehood      group  \\\n",
       "0       1816     12541           5 1788-01-09  US States   \n",
       "\n",
       "                                            geometry  \n",
       "0  POLYGON ((-72.39743 42.0333, -72.19883 42.0309...  "
      ]
     },
     "execution_count": 22,
     "metadata": {},
     "output_type": "execute_result"
    }
   ],
   "source": [
    "import geopandas as gpd\n",
    "\n",
    "ct_map = gpd.read_file('connecticut.geojson')\n",
    "\n",
    "ct_map"
   ]
  },
  {
   "cell_type": "code",
   "execution_count": 23,
   "metadata": {},
   "outputs": [],
   "source": [
    "# plot Connecticut here\n",
    "\n",
    "\n"
   ]
  },
  {
   "cell_type": "markdown",
   "metadata": {},
   "source": [
    "**Question 2.2 (3 points)**: In order to have some interesting data to plot, let's convert our College Scorecard data into a geopandas DataFrame. Since geopandas DataFrames are just like regular pandas DataFrame with a geometry column, all we need to do is to load the regular College Scorecard data along with data specifying what should be in the geometry column. \n",
    "\n",
    "If you look at our `scorecard` DataFrame, you will notice that there are columns called `LATITUDE` and `LONGITUDE` which contain the latitude and longitude coordinate locations of each column. What we need to do is to convert these coordinates into \"shapely\" geometric POINT objects, which can be stored in our geometric column for our geopandas DataFrame. This can be done using the geopandas `gpd.points_from_xy(long, lat)` function, which takes array objects of longitude and latitude coordinates and returns a \"GeometryArray\" object that stores our points. \n",
    "\n",
    "Please use the `gpd.points_from_xy(long, lat)` function to create a name `college_geometries` which contains the locations of all colleges in our `scorecard` DataFrame. Also print out what type of object`college_geometries` is, and the first 10 values in `college_geometries` (hint, square brackets will help).\n"
   ]
  },
  {
   "cell_type": "code",
   "execution_count": null,
   "metadata": {},
   "outputs": [],
   "source": [
    "\n",
    "\n",
    "\n",
    "\n"
   ]
  },
  {
   "cell_type": "markdown",
   "metadata": {},
   "source": [
    "**Question 2.3 (3 points)**: \n",
    "\n",
    "Now that we have all the locations of colleges in the proper format, we can create a geopandas DataFrame using `gpd.GeoDataFrame()` function. This function takes a regular pandas DataFrame as a first argument, and we can set the values in the geometry column using the `geometry` argument. \n",
    "\n",
    "Please create a name `scorecard_gpd` that contains the scorecard data as a geopandas DataFrame. This DataFrame should contain all same columns as the original `scorecard` DataFrame, and should have the geometry column be the longitude and latitude coordinates of each college (as specified in the `college_geometries` name you created above). \n",
    "\n",
    "Once you have created this DataFrame, print the first 3 rows to show you have the correct answer.\n"
   ]
  },
  {
   "cell_type": "code",
   "execution_count": null,
   "metadata": {},
   "outputs": [],
   "source": [
    "\n",
    "\n",
    "\n",
    "\n"
   ]
  },
  {
   "cell_type": "markdown",
   "metadata": {},
   "source": [
    "**Question 2.4 (2 points)**: \n",
    "\n",
    "Now let's use the `scorecard_gpd` to create a new geopandas DataFrame called `ct_scorecard` that only has information on schools in Connecticut. Once you have created this DataFrame, print the first 3 rows to show your work.\n",
    "\n",
    "Hint: Boolean masking or using the .query() method could be helpful here.\n"
   ]
  },
  {
   "cell_type": "code",
   "execution_count": null,
   "metadata": {},
   "outputs": [],
   "source": [
    "\n",
    "\n"
   ]
  },
  {
   "cell_type": "markdown",
   "metadata": {},
   "source": [
    "**Question 2.5 (3 points)**: \n",
    "\n",
    "Now we are ready to plot the locations of all schools in Connecticut. To do this, we can first plot a map of Connecticut, as we did question 2.1, but rather than displaying the plot, store the output of the plot in the name `base`. Also, for this plot of Connecticut, have the color be white and the outline be black.\n",
    "\n",
    "Once you have created the `base` plot, you can then pass it to a second plot function that plots the locations of our colleges. To do this, call the `.plot()` method on our `ct_scorecard` DataFrame, with the following arguments:\n",
    "\n",
    "1. Set the `ax` argument to our `base` object so that the outline of Connecticut is also shown. \n",
    "2. Set the `color` argument to \"red\" to make our points red\n",
    "3. Set the markersize to 5 to make the points for each college an appropriate size.\n",
    "\n",
    "Note: The plot you will create will look a bit off. You will fix this in the next question."
   ]
  },
  {
   "cell_type": "code",
   "execution_count": null,
   "metadata": {},
   "outputs": [],
   "source": [
    "\n",
    "\n"
   ]
  },
  {
   "cell_type": "markdown",
   "metadata": {},
   "source": [
    "**Question 2.6 (3 points)**: As mentioned above, there is something off in the plot you created in question 2.5 - namely, you will notice an outlier where one college seems to be located way outside of Connecticut.\n",
    "\n",
    "In the cell below, use pandas create a DataFrame called `outlier_school` which contains just data from this outlier school (and all the columns for the original `ct_scorecard` DataFrame). Then print out the DataFrame to see which school is the outlier. \n"
   ]
  },
  {
   "cell_type": "code",
   "execution_count": null,
   "metadata": {},
   "outputs": [],
   "source": [
    "\n",
    "\n"
   ]
  },
  {
   "cell_type": "markdown",
   "metadata": {},
   "source": [
    "**Question 2.7 (3 points)**: When faced with an outlier in a dataset, what we should do is to investigate why the point is an outlier. If you lookup the name of the school in google maps, you will notice that the coordinates of the school are different than what is in the `ct_scorecard` DataFrame. Thus it seems likely that for some reason, there was an error entering the coordinates for this school (which makes sense because all schools in Connecticut should be located inside the boarders of Connecticut!). \n",
    "\n",
    "Now that we have indentified that the outlier is due to an error, we should go ahead and fix this error. One way to do this would be to correct the mistaken coordinate either in the original data, or programmatically in Python. However, we are going to be lazy here and are going to just remove this school from our dataset. \n",
    "\n",
    "Please create a geopandas DataFrame called `ct_scorecard2` that has all the same data as `ct_scorecard` but that has the outlier school removed. Then recreate the plot you created in question 2.5 below. \n",
    "\n",
    "Hint: The `.drop(index_value)` method could be useful here, although there are several ways to remove the outlier row. \n",
    "\n"
   ]
  },
  {
   "cell_type": "code",
   "execution_count": null,
   "metadata": {},
   "outputs": [],
   "source": [
    "\n",
    "\n",
    "\n"
   ]
  },
  {
   "cell_type": "markdown",
   "metadata": {},
   "source": [
    "**Question 2.8 (3 points)**: Let's now switch gears and create a choropleth map of the mainland United States. The code below loads geometric information on the outlines of all states in the United States as a geopandas DataFrame called `usa`. \n",
    "\n",
    "In order to make our visualizations a little easier to see, let's just focus on the mainland United States, which are the \"lower 48 states\" that do not include Alaska and Hawaii. Please create a geopandas DataFrame called `usa_mainland` which only contains data from the \"lower 48 states\". Once you have created this DataFrame plot a map of these states.\n",
    "\n",
    "Hint: the state abbreviation for Alaska is \"AK\" and the state abbreviation for Hawaii is \"HI\". \n",
    "\n",
    "    "
   ]
  },
  {
   "cell_type": "code",
   "execution_count": 24,
   "metadata": {},
   "outputs": [
    {
     "data": {
      "text/html": [
       "<div>\n",
       "<style scoped>\n",
       "    .dataframe tbody tr th:only-of-type {\n",
       "        vertical-align: middle;\n",
       "    }\n",
       "\n",
       "    .dataframe tbody tr th {\n",
       "        vertical-align: top;\n",
       "    }\n",
       "\n",
       "    .dataframe thead th {\n",
       "        text-align: right;\n",
       "    }\n",
       "</style>\n",
       "<table border=\"1\" class=\"dataframe\">\n",
       "  <thead>\n",
       "    <tr style=\"text-align: right;\">\n",
       "      <th></th>\n",
       "      <th>State_Code</th>\n",
       "      <th>State_Name</th>\n",
       "      <th>geometry</th>\n",
       "    </tr>\n",
       "  </thead>\n",
       "  <tbody>\n",
       "    <tr>\n",
       "      <th>0</th>\n",
       "      <td>AL</td>\n",
       "      <td>ALABAMA</td>\n",
       "      <td>POLYGON ((-85.07007 31.9807, -85.11515 31.9074...</td>\n",
       "    </tr>\n",
       "    <tr>\n",
       "      <th>1</th>\n",
       "      <td>AK</td>\n",
       "      <td>ALASKA</td>\n",
       "      <td>MULTIPOLYGON (((-161.33379 58.73325, -161.3824...</td>\n",
       "    </tr>\n",
       "    <tr>\n",
       "      <th>2</th>\n",
       "      <td>AZ</td>\n",
       "      <td>ARIZONA</td>\n",
       "      <td>POLYGON ((-114.52063 33.02771, -114.55909 33.0...</td>\n",
       "    </tr>\n",
       "  </tbody>\n",
       "</table>\n",
       "</div>"
      ],
      "text/plain": [
       "  State_Code State_Name                                           geometry\n",
       "0         AL    ALABAMA  POLYGON ((-85.07007 31.9807, -85.11515 31.9074...\n",
       "1         AK     ALASKA  MULTIPOLYGON (((-161.33379 58.73325, -161.3824...\n",
       "2         AZ    ARIZONA  POLYGON ((-114.52063 33.02771, -114.55909 33.0..."
      ]
     },
     "execution_count": 24,
     "metadata": {},
     "output_type": "execute_result"
    }
   ],
   "source": [
    "# choropleth map of USA\n",
    "\n",
    "usa = gpd.read_file('States_shapefile.geojson')\n",
    "\n",
    "usa = usa.drop(columns = [\"FID\", \"Program\", \"Flowing_St\", \"FID_1\"]) \n",
    "\n",
    "usa.head(3)"
   ]
  },
  {
   "cell_type": "code",
   "execution_count": 25,
   "metadata": {},
   "outputs": [],
   "source": [
    "# Create your usa_mainland geopandas DataFrame here and plot it\n",
    "\n",
    "\n",
    "\n",
    "\n"
   ]
  },
  {
   "cell_type": "markdown",
   "metadata": {},
   "source": [
    "**Question 2.9 (4 points)**: Now that we have a map of the mainland USA, let's create a choropleth map where each state is filled with a color that represents that mean average SAT scores of colleges in the state. To do let's first create the data we need to plot. We can do this by this first creating a DataFrame called `state_SAT` from the `scorecard` DataFrame which just has two columns that are:\n",
    "\n",
    "1. `STABBR`: which is the abbreviation for each state.\n",
    "2. `mean_SAT`: which is the mean average SAT scores of all colleges in each state.\n",
    "\n",
    "Once you have created the `state_SAT` DataFrame, join it onto the `usa_mainland` DataFrame and save the results to the name `usa_endow_map`. Print the first 5 rows of this DataFrame to show you have the appropriate data. \n",
    "\n",
    "Hint: The `usa_endow_map` DataFrame should have 5 columns which are: `State_Code`, `State_Name`, `geometry`, `STABBR`, `mean_SAT`. \n"
   ]
  },
  {
   "cell_type": "code",
   "execution_count": null,
   "metadata": {},
   "outputs": [],
   "source": [
    "\n",
    "\n",
    "\n",
    "\n"
   ]
  },
  {
   "cell_type": "markdown",
   "metadata": {},
   "source": [
    "**Question 2.10 (4 points)**:  Now that we have the relevant data in the `usa_endow_map` let's create a choropleth map! In particular, each state is filled with a color based the mean of the average SAT scores of all colleges in a state.\n",
    "\n",
    "To do this use the `.plot()` method with the following arguments: \n",
    "\n",
    "1. `column`: should be set to the name of the column that you want to fill in the color of each state based on its values.\n",
    "2. `legend`: set this to `True` to see a legend\n",
    "3. `legend_kwds`: Set this to the following dictionary `{'label': \"CHANGE TO APPROPRIATE LABEL\", 'orientation': \"horizontal\"}`\n",
    "    "
   ]
  },
  {
   "cell_type": "code",
   "execution_count": null,
   "metadata": {},
   "outputs": [],
   "source": [
    "\n",
    "\n",
    "\n"
   ]
  },
  {
   "cell_type": "markdown",
   "metadata": {},
   "source": [
    "## 3. Class project!\n",
    "\n",
    "As we discussed in class, your class project consists of a 6-10 page analysis (done in Jupyter) where you find a data set on your own, and apply the methods we have discussed in class to show some interesting insights. \n",
    "\n",
    "As a first step in this process, you need to select a data set! A list of a few sources where you can find data sets is on Canvas (on the left, under the link called \"Data sources\"). Please take some time this week to look through the data sets on this page and/or search for data you are interested in on Google or Bing. \n",
    "\n",
    "On the next homework, there will be a question where it asks you to list what your project will be on, and to also load a data set related to your project, so please start on this process now so that you are prepared."
   ]
  },
  {
   "cell_type": "markdown",
   "metadata": {},
   "source": [
    "## 4. Reflection (3 points)\n",
    "\n",
    "Please reflect on how the homework went by going to Canvas, going to the Quizzes link, and clicking on reflection on homework 6. \n",
    "\n"
   ]
  },
  {
   "cell_type": "markdown",
   "metadata": {
    "id": "h_t-9kUXUpRf"
   },
   "source": [
    "## 5. Submission\n",
    "\n",
    "Once you're finished filling in and running all cells, you should submit your assignment as a pdf on Gradescope. You can access Gradescope through Canvas on the left-side of the class home page. The problems in each homework assignment are numbered. When submitting on Gradescope, please **make sure to select the correct pages of your pdf that correspond to each problem**. Failure to mark pages correctly **will result in points being deducted** from your homework score.\n",
    "\n",
    "To convert this Jupyter notebook document to a pdf please run the code in the cell below, which will create pdf document that you can upload to Gradescope. \n",
    "\n",
    "Please be sure to check that all the code and output are visible before submitting your pdf to Gradescope as **points will be deducted for missing code and output that is not visible** since we will not be able to grade this."
   ]
  },
  {
   "cell_type": "markdown",
   "metadata": {},
   "source": [
    "<font color='red'> **NOTE ABOUT THE FIGURES IN THE PDF**: As mentioned at the start of this homework, the figures created from interactive plot (i.e., plotly) might not show up correctly when you print your homework to a pdf. This is fine/expected, and we will be grading these questions on the code you submit if the figures are not visable or are not showing up correctly. In general, interactive graphics are not meant to be printed and shared as pdfs."
   ]
  },
  {
   "cell_type": "code",
   "execution_count": 26,
   "metadata": {},
   "outputs": [],
   "source": [
    "%%capture\n",
    "\n",
    "!quarto render homework_06.ipynb --cache-refresh --to pdf "
   ]
  },
  {
   "cell_type": "markdown",
   "metadata": {
    "id": "lNYoHNjeVk8S",
    "manual_problem_id": "nearsightedness_4"
   },
   "source": [
    "#### Alternative submission instructions\n",
    "\n",
    "If converting your Jupyter notebook to a pdf using the command in the cell above does not work, an alternative way to convert your Jupyter notebook is:\n",
    "\n",
    "1.  Go to \"File\" at the top-left of your Jupyter Notebook\n",
    "2.  Under \"Download as\" (or \"Save and Export Notebook As...\") and select \"HTML (.html)\"\n",
    "3.  After the .html has downloaded, open it and then select \"File\" and \"Print\" (note you will not actually be printing)\n",
    "4.  From the print window, select the option to save as a .pdf\n",
    "\n",
    "\n",
    "If you are running the assignment in a Google Colabs, you can use the following instructions: \n",
    "1.  Go to \"File\" at the top-left of your Jupyter Notebook and select \"File\" and \"Print\" (note you will not actually be printing)\n",
    "2. From the print window, select the option to save as a .pdf\n",
    "3. Be sure to look over the pdf file to make sure all your code and written work is saved in a clear way.\n",
    "\n"
   ]
  }
 ],
 "metadata": {
  "kernelspec": {
   "display_name": "Python 3 (ipykernel)",
   "language": "python",
   "name": "python3"
  },
  "language_info": {
   "codemirror_mode": {
    "name": "ipython",
    "version": 3
   },
   "file_extension": ".py",
   "mimetype": "text/x-python",
   "name": "python",
   "nbconvert_exporter": "python",
   "pygments_lexer": "ipython3",
   "version": "3.13.5"
  }
 },
 "nbformat": 4,
 "nbformat_minor": 4
}
