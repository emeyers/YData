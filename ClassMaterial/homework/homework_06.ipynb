{
 "cells": [
  {
   "cell_type": "markdown",
   "metadata": {},
   "source": [
    "# Homework 6: For loops, functions, and text manipulation\n",
    "\n",
    "Welcome to the sixth homework! \n",
    "\n",
    "In this homework you practice using for loops, writing functions, and manipulating text data. \n",
    "\n",
    "Please complete this notebook by filling in the cells provided. For all problems that you must write explanations and sentences for, please provide your answer in the designated space. \n",
    "\n",
    "\n",
    "**Recommended Reading** from [Data Science for Everyone](https://ajr348.github.io/ds4e_course/index.html): \n",
    "- [Chapter 7.2: Loops](https://ajr348.github.io/ds4e_course/chapters/07_programming2/02_loops.html)\n",
    "- [Chapter 7.1: Defining functions](https://ajr348.github.io/ds4e_course/chapters/07_programming2/01_defining_functions.html)\n",
    "- [Chapter 7.3: Conditional statements](https://ajr348.github.io/ds4e_course/chapters/07_programming2/03_conditional_statements.html#)\n"
   ]
  },
  {
   "cell_type": "markdown",
   "metadata": {},
   "source": [
    "**Deadline:**\n",
    "\n",
    "This assignment is due **Sunday March 3rd at 11pm.** You can turn in the assignment up to 24 hours late for 90% credit (after that, the homework will only be accepted with a dean's excuse). \n",
    "\n",
    "Directly sharing answers is not okay, but discussing problems with the course staff or with other students is encouraged. Refer to the policies page to learn more about how to learn cooperatively.\n",
    "\n",
    "You should start early so that you have time to get help if you're stuck. The drop-in office hours schedule can be found on Canvas.  You can also post questions or start discussions on Ed Discussion."
   ]
  },
  {
   "cell_type": "markdown",
   "metadata": {},
   "source": [
    "## Getting started\n",
    "\n",
    "In order to complete the homework, it is necessary to download a few files. Please run the code below **only once** to download data needed to complete the homework. To run the code, click in the cell below and press the play button (or press shift-enter). "
   ]
  },
  {
   "cell_type": "code",
   "execution_count": 51,
   "metadata": {},
   "outputs": [],
   "source": [
    "# if you are running this notebook in colabs, please uncomment and run the following two lines\n",
    "# !pip install https://github.com/emeyers/YData_package/tarball/master"
   ]
  },
  {
   "cell_type": "code",
   "execution_count": 2,
   "metadata": {},
   "outputs": [
    {
     "name": "stdout",
     "output_type": "stream",
     "text": [
      "The file `moby_dick.txt` already exists.\n",
      "If you would like to download a new copy of the file, please rename the existing copy of the file.\n"
     ]
    }
   ],
   "source": [
    "# Please run this code once to download the files you will need to complete the homework \n",
    "\n",
    "import YData \n",
    "\n",
    "YData.download.download_data(\"ACS_2017_sample_01.csv\")\n",
    "YData.download.download_data(\"moby_dick.txt\")\n",
    "    "
   ]
  },
  {
   "cell_type": "markdown",
   "metadata": {},
   "source": [
    "## 0. Quote and Reaction\n",
    "\n",
    "We will skip the quote and reaction this week so that you have a little more time to study for the midterm exam. There will be a few additional quote and reaction papers to read after the break! \n"
   ]
  },
  {
   "cell_type": "code",
   "execution_count": 3,
   "metadata": {},
   "outputs": [],
   "source": [
    "# This cell imports functions from packages we will use below.\n",
    "# Please run it each time you load the Jupyter notebook\n",
    "\n",
    "import numpy as np\n",
    "import pandas as pd\n",
    "import matplotlib.pyplot as plt\n",
    "import statistics\n",
    "\n",
    "%matplotlib inline"
   ]
  },
  {
   "cell_type": "markdown",
   "metadata": {},
   "source": [
    "## 1. For loops\n",
    "\n",
    "For our first set of exercises, let's practice using for loops! \n",
    "\n",
    "In order to explore for loops, let's look again at the American Community Survey (ACS) data. The code below loads a sample of the ACS data as a pandas DataFrame and then extracts three *lists* from DataFrame using the `to_list()` method. The three lists that are extracted are:\n",
    "\n",
    "- `earned_incomes`: contains the amount of money made from working for each of the 10,000 randomly selected participants\n",
    "- `ages`: contains the ages for each of the 10,000 randomly selected participants\n",
    "- `sex`: contains the sex for each of the 10,000 randomly selected participants\n",
    "\n",
    "These Python lists are in order, so that, for example, the first item of the `incomes` list comes from the same person as the first item in the `sex` list.  \n",
    "\n",
    "Note: For part 1 of this homework (i.e., the questions about for loops), you are not allowed to use any functions in the NumPy package. Also, throughout the homework, you are not allowed to use any pandas functions (apart from the code that loads the data that is written for you). Hopefully, this will make you appreciate the usefulness of the NumPy and pandas packages and also give you some insight into how the functions in these packages were written! "
   ]
  },
  {
   "cell_type": "code",
   "execution_count": 5,
   "metadata": {},
   "outputs": [],
   "source": [
    "acs_data1 = pd.read_csv(\"ACS_2017_sample_01.csv\")\n",
    "acs_data1.head()\n",
    "\n",
    "# This code converts pandas DataFrame data into Python lists so that we can analyze the data as lists\n",
    "earned_incomes = acs_data1[\"INCEARN\"].to_list()\n",
    "ages = acs_data1[\"AGE\"].to_list()\n",
    "sex = acs_data1[\"SEX\"].to_list()\n"
   ]
  },
  {
   "cell_type": "markdown",
   "metadata": {},
   "source": [
    "**Question 1.1 (8 points):** Let's start by calculating the mean **`age`** of the individuals in the the data **without using the `mean()`, the `sum()`, or the `len()` functions**. \n",
    "\n",
    "To do this, you will use a for loop to calculate the sum of all the ages in the `ages` list, which you will store in a name called `age_sum`, and you will calculate the total number of elements in the `ages` list which you will store in a name called `n`. You will then calculate the mean age by calculating `age_sum/n`. Please use the following steps to do this:\n",
    "\n",
    "1. Create a name called `age_sum` that is initially set to the value of 0. You will use `age_sum` to store the sum of all the ages in the `ages` list.\n",
    "\n",
    "2. Create a name called `n` that is also initially set to a value of 0. You will use `n` to store the total number of ages in the `ages` list (i.e., it will ultimately contain the value `len(ages)`. \n",
    "\n",
    "3. Create a for loop that loops over each value in the `ages` list. Inside the for loop, add the current age to `ages_sum`, and add 1 to value stored in `n`.\n",
    "\n",
    "4. After the for loop code, write code that calculates the mean by dividing `ages_sum` by `n`. Print out the result. You can check your answer using the `statistics.mean()` function. \n"
   ]
  },
  {
   "cell_type": "code",
   "execution_count": 12,
   "metadata": {},
   "outputs": [
    {
     "name": "stdout",
     "output_type": "stream",
     "text": [
      "41.2415\n"
     ]
    },
    {
     "data": {
      "text/plain": [
       "41.2415"
      ]
     },
     "execution_count": 12,
     "metadata": {},
     "output_type": "execute_result"
    }
   ],
   "source": [
    "# create age_sum and n, and set their values to 0\n",
    "\n",
    "\n",
    "\n",
    "\n",
    "# create a for loop that loops over the ages\n",
    "\n",
    "\n",
    "\n",
    "\n",
    "\n",
    "# calculate and print the mean\n",
    "\n",
    "\n",
    "\n",
    "\n",
    "# you can check your work using the statistics.mean() function \n",
    "\n"
   ]
  },
  {
   "cell_type": "markdown",
   "metadata": {},
   "source": [
    "**Question 1.2 (7 points)** Now let's explore loop and conditional statements by calculating how many people in our sample listed their sex as male, and how many listed their sex as female. \n",
    "\n",
    "To do this, start by creating names `male_count` and `female_count`, and set both of these values to 0. Then use a for loop to go through each value in the `sex` list, increasing `male_count` by 1 if the current person's sex is male and increasing `female_count` by 1 if the current person's sex is female. \n",
    "\n",
    "Once you have calculated these values, please print out the `male_count` and `female_count` values to \"show your work\". "
   ]
  },
  {
   "cell_type": "code",
   "execution_count": null,
   "metadata": {},
   "outputs": [],
   "source": [
    "\n",
    "\n",
    "\n",
    "\n",
    "\n",
    "\n",
    "\n",
    "\n",
    "\n",
    "\n",
    "\n",
    "\n",
    "\n"
   ]
  },
  {
   "cell_type": "markdown",
   "metadata": {},
   "source": [
    "**Question 1.3 (5 points)** Let's now calculate the average \"earned income\" separately for males and females. To do this, please complete the following steps: \n",
    "\n",
    "\n",
    "1. Create a name called `male_income` which initially has a value of 0, and likewise create a name called `female_income` which also initially has a value of 0.\n",
    "\n",
    "2. Use a for loop that loops over each person and adds the person's income to the `male_income` name if the current person is male, or adds the person's income to the `female_income` name if the current person is female. \n",
    "\n",
    "3. Calculate the average income for males by dividing the sum total male income by the number of males in the data set (using the `male_count` values you created in question 1.2 could be useful here). Do the same for females.\n",
    "\n",
    "Be sure to print out the average income for males and for females below to \"show your work\". Then in the answer section below, report what these mean values are and describe if these are about the values you were expecting. \n",
    "\n",
    "\n",
    "Hints: There are a few different ways to solve this problem. One way is to loop over successive numbers `i` using the `range()` function. Then inside the loop you can extract the sex for the $i^{th}$ individual and also the earned income for the $i^{th}$ individual. You can then check the sex of the $i^{th}$, and add the current income to the appropriate total.\n",
    "\n",
    "Note: remember that the values in the `sex` list and the `earned_income` are in the same order; i.e., `sex[0]` and `earned_incomes[0]` are the sex and earned income values for the first person in the dataset, etc.  Also, there are no missing values in the data. \n",
    "\n"
   ]
  },
  {
   "cell_type": "code",
   "execution_count": null,
   "metadata": {},
   "outputs": [],
   "source": [
    "\n",
    "\n",
    "\n",
    "\n",
    "\n",
    "\n",
    "\n",
    "\n",
    "\n",
    "\n",
    "\n",
    "\n",
    "\n"
   ]
  },
  {
   "cell_type": "markdown",
   "metadata": {},
   "source": [
    "<font color='red'>**ANSWER**: \n",
    "\n"
   ]
  },
  {
   "cell_type": "markdown",
   "metadata": {},
   "source": [
    "## 2. Writing functions warm up exercises: removing 7's\n",
    "\n",
    "Let's now practice writing functions. As a warm up exercise, let's write a few functions that can remove the number 7 from ndarrays and lists of numbers! "
   ]
  },
  {
   "cell_type": "markdown",
   "metadata": {},
   "source": [
    "**Question 2.1 (6 points)** Let's start by writing a function `remove_sevens(an_array)` that removes the number 7 from an ndarray of numbers. The function should return an `ndarray` that contains the same values as the input `an_array` but all values of 7 should be removed (so the output `ndarray` potentially has a shorter length). \n",
    "\n",
    "The code to test the function is written below, so keep it intact to show that your function works. \n",
    "\n",
    "*Hints:* \n",
    "\n",
    "1. The code inside our function was 1 line long. Boolean filtering could be useful here! \n",
    "\n",
    "2. As a general strategy for writing functions, it can be useful to create code outside the function that performs the task you want your function to perform. Once the code is working, you can then put the working code inside the function body to turn it into a function.    "
   ]
  },
  {
   "cell_type": "code",
   "execution_count": 87,
   "metadata": {},
   "outputs": [
    {
     "data": {
      "text/plain": [
       "array([1, 2, 3, 5, 6, 8, 9])"
      ]
     },
     "execution_count": 87,
     "metadata": {},
     "output_type": "execute_result"
    }
   ],
   "source": [
    "def remove_sevens(an_array):\n",
    "    ...\n",
    "\n",
    "\n",
    "\n",
    "\n",
    "\n",
    "\n",
    "# Code to test your function (keep as is)\n",
    "my_array = np.array([1, 2, 3, 7, 5, 6, 7, 8, 9])\n",
    "remove_sevens(my_array)     # Expected result: array([1, 2, 3, 5, 6, 8, 9])\n"
   ]
  },
  {
   "cell_type": "markdown",
   "metadata": {},
   "source": [
    "**Question 2.2 (6 points)** To appreciate NumPy, let's make our lives more difficult and redo the problem without using NumPy. In particular, write a function called `remove_sevens_v2(a_list)` that takes in a list of numbers and removes all 7's from the list. Instead of using NumPy functions, use `for loops`, `if statements`, and `lists`. \n",
    "\n",
    "Your code should return a list rather than an ndarray (since you are not permitted to use NumPy functions for this question). In the answer section below, using 1-3 sentences, describe whether you think NumPy is useful. \n",
    "\n",
    "*Hint*: It will be useful to create an empty list, and to use the `append()` method somewhere inside your function. \n"
   ]
  },
  {
   "cell_type": "code",
   "execution_count": 1,
   "metadata": {},
   "outputs": [],
   "source": [
    "def remove_sevens_v2(a_list):\n",
    "    \n",
    "    ...\n",
    "\n",
    "\n",
    "\n",
    "\n",
    "\n",
    "\n",
    "\n",
    "\n",
    "\n",
    "\n",
    "# Code to test your function (keep as is)\n",
    "my_list = [1, 2, 3, 7, 5, 6, 7, 8, 9]\n",
    "remove_sevens_v2(my_list)     \n"
   ]
  },
  {
   "cell_type": "markdown",
   "metadata": {},
   "source": [
    "<font color='red'>**ANSWER**: \n",
    "\n"
   ]
  },
  {
   "cell_type": "markdown",
   "metadata": {},
   "source": [
    "**Question 2.3 (6 points)** Now write a function called `remove_sevens_v3(an_array_or_list)` that removes the number 7 from an ndarray of numbers or a list of numbers. To do this, copy the code from inside your original function `remove_sevens()` and add one additional line that will make it work for both lists and arrays. The function should return an ndarray.\n",
    "\n",
    "*Hint:*  To make your function work with both lists and ndarrays, the `np.array()` function will useful. In particular, if `np.array()` is passed a list it will return an ndarray (as we have seen many times before). Also, more importantly here, if `np.array()` is passed an ndarray, it just returns the original ndarray.\n"
   ]
  },
  {
   "cell_type": "code",
   "execution_count": 84,
   "metadata": {},
   "outputs": [
    {
     "name": "stdout",
     "output_type": "stream",
     "text": [
      "[21 22 23 25 26 28 29]\n",
      "[21 22 23 25 26 28 29]\n"
     ]
    }
   ],
   "source": [
    "def remove_sevens_v3(an_array_or_list):\n",
    "    \n",
    "    ...\n",
    "\n",
    "\n",
    "\n",
    "\n",
    "\n",
    "\n",
    "\n",
    "# Code to test your function (keep as is)\n",
    "\n",
    "my_list2 = [21, 22, 23, 7, 25, 26, 7, 28, 29]\n",
    "my_array2 = np.array(my_list2)\n",
    "\n",
    "print(remove_sevens_v3(my_array2))     \n",
    "print(remove_sevens_v3(my_list2))      "
   ]
  },
  {
   "cell_type": "markdown",
   "metadata": {},
   "source": [
    "## 3. Writing functions continued: calculating group statistics\n",
    "\n",
    "In previous classes and homework (e.g., homework 3), we used pandas DataFrames and the `group_by()` method to calculate statistics separately for different groups. Let's now write our own version of a \"groupby\" function that can calculate statistics separately for different groups. In particular, we will write functions that can group data in a numpy ndarray the same way that the `group_by()` method groups data in pandas DataFrames.   \n",
    "\n",
    "The code below converts our `earned_income`, `sex` and `ages` lists created in part 1 of this homework into ndarrays which you will use for this part of the homework. \n",
    "\n",
    "Note: We are re-assigning the values stored in 'earned_incomes', 'sex', and 'ages' here, so if you want to return to work on Question 1 after running this cell below, be sure to run the code that loads the data as lists (at the top of the homework) again. Then, if you want to come back to working on this part of the homework, be sure to run this cell again. \n"
   ]
  },
  {
   "cell_type": "code",
   "execution_count": 7,
   "metadata": {},
   "outputs": [],
   "source": [
    "# converting our data from lists to ndarrays for this part of the homework\n",
    "earned_incomes = np.array(earned_incomes)\n",
    "sex = np.array(sex)\n",
    "ages = np.array(ages)"
   ]
  },
  {
   "cell_type": "markdown",
   "metadata": {},
   "source": [
    "**Question 3.1 (8 points)** Let's start by writing a function `get_mean_one_group(data_array, grouping_array, group_value)` that calculates the mean statistic value separately for one particular group that is specified. The input arguments for the function are: \n",
    "\n",
    "1. `data_array`: An ndarray of numerical data. The mean of the data in this array will be computed for one group.\n",
    "\n",
    "2. `grouping_array`: An ndarray that indicates which group each point belongs to (it must be the same length as the `data_array`). \n",
    "\n",
    "3. `group_value`: The group level (i.e. the value that corresponds to the particular, specified group) that the function should calculate the mean for.  \n",
    "\n",
    "As an example of how the code works, if we want the function to calculate the mean earned income for males (group_level of 1, because that is how males are coded our 'sex' array in the ACS data), we would use the following function call: `get_mean_one_group(earned_incomes, sex, 1)`.\n",
    "\n",
    "Please write the function and then use the test code below to show that it correctly calculates the mean income for males.\n",
    "\n",
    "Hint: The code in our function body was 2 lines long. Boolean masking using the `grouping_array` and `group_value` is going to be useful. "
   ]
  },
  {
   "cell_type": "code",
   "execution_count": 9,
   "metadata": {},
   "outputs": [
    {
     "data": {
      "text/plain": [
       "32916.77020408163"
      ]
     },
     "execution_count": 9,
     "metadata": {},
     "output_type": "execute_result"
    }
   ],
   "source": [
    "def get_mean_one_group(data_array, grouping_array, group_value):\n",
    "    \n",
    "    ...\n",
    "\n",
    "\n",
    "\n",
    "\n",
    "\n",
    "# Testing that the code gives the correct mean income for males (do not change this)\n",
    "get_mean_one_group(earned_incomes, sex, 1) \n"
   ]
  },
  {
   "cell_type": "markdown",
   "metadata": {},
   "source": [
    "**Question 3.2 (8 points)** As we discussed in class, functions can be passed as arguments to other functions. Let's modify the `get_mean_one_group()` we wrote above so that it can calculate any statistic (rather than just the mean) for a particular group.  \n",
    "\n",
    "To do this, write a function `get_statistic_one_group(data_array, grouping_array, group_value, stat_function)` that works in the same way as `get_mean_one_group()` except that it takes an additional argument called `stat_function` which is a function that will be applied to the data from the group of interest (stat_function could be np.sum, median, etc... any statistical function that can be applied to an array of data). As a default value, set the value of the `stat_function` argument to be `np.mean` so that if the `stat_function` argument is not supplied by the user, the mean will be calculated by default. \n",
    "\n",
    "Hint: our function body was two lines of code. \n"
   ]
  },
  {
   "cell_type": "code",
   "execution_count": 6,
   "metadata": {},
   "outputs": [
    {
     "name": "stdout",
     "output_type": "stream",
     "text": [
      "None\n",
      "None\n",
      "None\n",
      "None\n"
     ]
    }
   ],
   "source": [
    "def get_statistic_one_group(data_array, grouping_array, group_value, stat_function = np.mean):\n",
    "    \n",
    "    ...\n",
    "\n",
    "\n",
    "\n",
    "\n",
    "\n",
    "\n",
    "# Testing that the code gives the correct answers (do not change this)\n",
    "print(get_statistic_one_group(earned_incomes, sex, 1))\n",
    "print(get_statistic_one_group(earned_incomes, sex, 2))\n",
    "\n",
    "print(get_statistic_one_group(earned_incomes, sex, 1, max))\n",
    "print(get_statistic_one_group(earned_incomes, sex, 2, max))\n"
   ]
  },
  {
   "cell_type": "markdown",
   "metadata": {},
   "source": [
    "**Question 3.3 (8 points)** Now let's generalize the function so that it returns a list of statistic values, each calculated separately on one of the group levels in `grouping_array`. So, if 'grouping_array' has *g* different group levels, the returned list should be of length *g*. Note that this is different from the functions we wrote above, where the user specifies which group level the statistic function should be applied to; here, we will apply the statistic function to each of the group levels, instead of just one. \n",
    "\n",
    "More specifically, write a function `get_group_statistics(data_array, grouping_array, stat_function = np.mean)`. This function has one fewer argument than `get_statistic_one_group()` since the user does not need to specify which group to calculate a statistic on, because the statistics are calculated for each group. \n",
    "\n",
    "To understand how this function would work, the input `get_group_statistics(earned_incomes, sex, np.mean)` should return a list that contains two values: the mean income for males and the mean income for females. \n",
    "\n",
    "Some hints to solve this problem are: \n",
    "\n",
    "1. The `np.unique()` function will be useful to get all unique group levels. \n",
    "2. A for loop could also be useful here.\n",
    "3. Including the function `get_statistics_one_group()` (that you wrote above) in the body of this function will also be useful. \n",
    "4. The body of our function has 6 lines of code."
   ]
  },
  {
   "cell_type": "code",
   "execution_count": 33,
   "metadata": {},
   "outputs": [
    {
     "name": "stdout",
     "output_type": "stream",
     "text": [
      "[32916.77020408163, 18759.870588235295]\n",
      "[710000, 481000]\n"
     ]
    }
   ],
   "source": [
    "\n",
    "def get_group_statistics(data_array, grouping_array, stat_function = np.mean):\n",
    "    \n",
    "    ...\n",
    "    \n",
    "\n",
    "\n",
    "\n",
    "\n",
    "\n",
    "\n",
    "\n",
    "\n",
    "\n",
    "\n",
    "\n",
    "# Testing that the code gives the correct answers (do not change this)\n",
    "print(get_group_statistics(earned_incomes, sex)) \n",
    "print(get_group_statistics(earned_incomes, sex, max)) \n"
   ]
  },
  {
   "cell_type": "markdown",
   "metadata": {},
   "source": [
    "**Question 3.4 (5 points)** One downside of our current `get_group_statistics()` function is that it does not specify which level different results in the list that is returned correspond to. For example, in our first test of the function, we don't know if the first item in the list that is returned corresponds to males or to females. \n",
    "\n",
    "Let's create a function called `get_group_statistics2()` that returns two lists which are: \n",
    "\n",
    "1.  `group_statistics`: a list of the statistic values for each group (this is the same list returned by `get_group_statistics()`). \n",
    "2.  `group_levels`: a list that tells us which group level each value in the `group_statistics` list corresponds to. For example, if one ran:  `mean_incomes, group_levels = get_group_statistics2(earned_incomes, sex)`, then `group_levels` would be a list with the values `[1, 2]`). \n",
    "\n",
    "\n",
    "Once you have written this function, use the test code which plots the mean earned income as a function of age. \n",
    "\n",
    "Hint: Our code for `get_group_statistics2()` is very similar to our code for `get_group_statistics()`."
   ]
  },
  {
   "cell_type": "code",
   "execution_count": 7,
   "metadata": {},
   "outputs": [
    {
     "ename": "TypeError",
     "evalue": "cannot unpack non-iterable NoneType object",
     "output_type": "error",
     "traceback": [
      "\u001b[0;31m---------------------------------------------------------------------------\u001b[0m",
      "\u001b[0;31mTypeError\u001b[0m                                 Traceback (most recent call last)",
      "Cell \u001b[0;32mIn[7], line 17\u001b[0m\n\u001b[1;32m      3\u001b[0m    \u001b[38;5;241m.\u001b[39m\u001b[38;5;241m.\u001b[39m\u001b[38;5;241m.\u001b[39m\n\u001b[1;32m     16\u001b[0m \u001b[38;5;66;03m# Testing that the code gives the correct answers (do not change this)\u001b[39;00m\n\u001b[0;32m---> 17\u001b[0m mean_incomes, unique_ages \u001b[38;5;241m=\u001b[39m get_group_statistics2(earned_incomes, ages)\n\u001b[1;32m     18\u001b[0m plt\u001b[38;5;241m.\u001b[39mplot(unique_ages, mean_incomes);\n\u001b[1;32m     19\u001b[0m plt\u001b[38;5;241m.\u001b[39mxlabel(\u001b[38;5;124m\"\u001b[39m\u001b[38;5;124mAge\u001b[39m\u001b[38;5;124m\"\u001b[39m);\n",
      "\u001b[0;31mTypeError\u001b[0m: cannot unpack non-iterable NoneType object"
     ]
    }
   ],
   "source": [
    "def get_group_statistics2(data_array, grouping_array, stat_function = np.mean):\n",
    "    \n",
    "   ...\n",
    "\n",
    "\n",
    "\n",
    "\n",
    "\n",
    "\n",
    "\n",
    "\n",
    "\n",
    "\n",
    "\n",
    "\n",
    "# Testing that the code gives the correct answers (do not change this)\n",
    "mean_incomes, unique_ages = get_group_statistics2(earned_incomes, ages)\n",
    "plt.plot(unique_ages, mean_incomes);\n",
    "plt.xlabel(\"Age\");\n",
    "plt.ylabel(\"Mean earned income ($)\");\n"
   ]
  },
  {
   "cell_type": "markdown",
   "metadata": {
    "tags": []
   },
   "source": [
    "## 4. Thoughts on your class project  (4 points)\n",
    "\n",
    "As I mentioned on the last homework, it's time to start thinking about your class project. Your class project will consist of a 6-10 page analysis (done in Jupyter) where you find a data set on your own and apply the methods we have discussed in class to show some interesting insights. \n",
    "\n",
    "In the Markdown section below, please briefly describe what you are thinking your project is going to be on. Also, if you have found data for your project, please load it below. If you have not found data yet, start looking for relevant data since this can be one of the more challenging aspects of the project. On the first homework after the break, you will have to load your data into Jupyter so I recommend you get started looking for data now. \n",
    "\n"
   ]
  },
  {
   "cell_type": "markdown",
   "metadata": {},
   "source": [
    "### Please briefly describe what your questions your project will address\n",
    "\n",
    "\n",
    "\n"
   ]
  },
  {
   "cell_type": "code",
   "execution_count": null,
   "metadata": {},
   "outputs": [],
   "source": [
    "# If you have found data for your project, \n",
    "# please load it below and print the first few rows of the data\n",
    "\n",
    "\n",
    "\n",
    "\n"
   ]
  },
  {
   "cell_type": "markdown",
   "metadata": {},
   "source": [
    "## 5. Crowdsourcing practice exam question (3 points)\n",
    "\n",
    "In order to try to give everyone more material to practice for the midterm exam, please post a practice problem to Canvas that you think is a good question for the exam. In particular, please post your question under the Canvas Discussions link on the left side of Canvas (which is the link right below the link to the Ed Discussions forum). Also, please write your practice problem below.\n",
    "\n",
    "You can then try the practice problems posted by others in order to get ready for the exam. As an extra incentive, I will select one (or perhaps more) of these problems to be on the actual exam. \n"
   ]
  },
  {
   "cell_type": "markdown",
   "metadata": {},
   "source": [
    "**Please write down your practice exam problem here**: \n",
    "\n",
    "\n",
    "\n"
   ]
  },
  {
   "cell_type": "markdown",
   "metadata": {},
   "source": [
    "## 6. Reflection (3 points)\n",
    "\n",
    "Please reflect on how the homework went by going to Canvas, going to the Quizzes link, and clicking on reflection on homework 6. \n",
    "\n",
    "Also, please answer a few additional questions on the reflection about how the class is going for you which will be helpful for me so that I can make adjustments to the class after the break to make sure it is going as smoothly as possible for everyone. \n"
   ]
  },
  {
   "cell_type": "markdown",
   "metadata": {},
   "source": [
    "## 7. Submission\n",
    "\n",
    "Please submit your assignment as a .pdf on Gradescope. You can access Gradescope through Canvas on the left hand side of the class home page. The problems in each homework assignment are numbered. **NOTE:** When submitting on Gradescope, please select the correct pages of your pdf that correspond to each problem. **Failure to mark pages correctly will result in points being deducted from your homework score.**\n",
    "\n",
    "If you are running Jupyter Notebooks through an Anaconda installation on your own computer, you can produce the .pdf by completing the following steps:  \n",
    "1.  Go to \"File\" at the top-left of your Jupyter Notebook\n",
    "2.  Under \"Download as\", select \"HTML (.html)\"\n",
    "3.  After the .html has downloaded, open it and then select \"File\" and \"Print\" (note you will not actually be printing)\n",
    "4.  From the print window, select the option to save as a .pdf\n",
    "\n",
    "If you are running the assignment in a Google Colabs, you can use the following instructions: \n",
    "1.  Go to \"File\" at the top-left of your Jupyter Notebook and select \"File\" and \"Print\" (note you will not actually be printing)\n",
    "2. From the print window, select the option to save as a .pdf\n",
    "3. Be sure to look over the pdf file to make sure all your code and written work is saved in a clear way."
   ]
  },
  {
   "cell_type": "markdown",
   "metadata": {},
   "source": [
    "![Moby](https://www.sru.edu/images/news/2018/November/111418a-Inline.jpg) "
   ]
  }
 ],
 "metadata": {
  "kernelspec": {
   "display_name": "Python 3 (ipykernel)",
   "language": "python",
   "name": "python3"
  },
  "language_info": {
   "codemirror_mode": {
    "name": "ipython",
    "version": 3
   },
   "file_extension": ".py",
   "mimetype": "text/x-python",
   "name": "python",
   "nbconvert_exporter": "python",
   "pygments_lexer": "ipython3",
   "version": "3.11.7"
  }
 },
 "nbformat": 4,
 "nbformat_minor": 4
}
