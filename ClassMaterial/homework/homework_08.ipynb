{
 "cells": [
  {
   "cell_type": "markdown",
   "metadata": {},
   "source": [
    "# Homework 8: Hypothesis tests\n",
    "\n",
    "Welcome to the eighth homework! \n",
    "\n",
    "In this homework you practice running hypothesis tests.\n",
    "\n",
    "Please complete this notebook by filling in the cells provided. "
   ]
  },
  {
   "cell_type": "markdown",
   "metadata": {},
   "source": [
    "\n",
    "For all problems that you must write explanations and sentences for, please provide your answer in the designated space. Moreover, throughout this homework and all future ones, please be sure to not re-assign variables throughout the notebook! For example, if you use `max_temperature` in your answer to one question, do not reassign it later on. \n",
    "\n",
    "**Deadline:**\n",
    "\n",
    "This assignment is due **Sunday April 16th at 11pm.** You can turn in the assignment up to 24 hours late for 90% credit (after that, the homework will only be accepted with a dean's excuse). \n",
    "\n",
    "Directly sharing answers is not okay, but discussing problems with the course staff or with other students is encouraged. Refer to the policies page to learn more about how to learn cooperatively.\n",
    "\n",
    "You should start early so that you have time to get help if you're stuck. The drop-in office hours schedule can be found on [Canvas](https://yale.instructure.com/courses/84847/pages/office-hours).  You can also post questions or start discussions on [Ed Discussion](https://edstem.org/us/courses/30902/discussion/).\n",
    "\n",
    "\n",
    "**Note on chatGPT:**\n",
    "\n",
    "<font color='red'>NOTE: You are not allowed to use chatGPT (or copilot) for this, or any other homework assignments in this class. While chatGPT can be helpful for writing code, it is important that you understand all the concepts yourself (and if you rely on chatGPT you will have a difficult time on the exam, so it really won't be beneficial to your learning or grade). </font>\n",
    "</font>\n",
    "\n",
    "**Submission:**\n",
    "\n",
    "Submit your assignment as a .pdf on Gradescope. You can access Gradescope through Canvas on the left hand side of the class home page. The problems in each homework assignment are numbered. **NOTE:** When submitting on Gradescope, please select the correct pages of your pdf that correspond to each problem. Failure to mark pages correctly will result in points being deducted from your homework score.\n",
    "\n",
    "If you are running Jupyter Notebooks through an Anaconda installation on your own computer, you can produce the .pdf by completing the following steps:  \n",
    "1.  Go to \"File\" at the top-left of your Jupyter Notebook\n",
    "2.  Under \"Download as\", select \"HTML (.html)\"\n",
    "3.  After the .html has downloaded, open it and then select \"File\" and \"Print\" (note you will not actually be printing)\n",
    "4.  From the print window, select the option to save as a .pdf\n",
    "\n",
    "If you are running the assignment in a Google Colabs, you can use the following instructions: \n",
    "1.  Go to \"File\" at the top-left of your Jupyter Notebook and select \"File\" and \"Print\" (note you will not actually be printing)\n",
    "2. From the print window, select the option to save as a .pdf\n",
    "3. Be sure to look over the pdf file to make sure all your code and written work is saved in a clear way. "
   ]
  },
  {
   "cell_type": "markdown",
   "metadata": {},
   "source": [
    "## Getting started\n",
    "\n",
    "In order to complete the homework, it is necessary to download a few files. Please run the code below **only once** to download data needed to complete the homework. To run the code, click in the cell below and press the play button (or press shift-enter). "
   ]
  },
  {
   "cell_type": "code",
   "execution_count": 12,
   "metadata": {},
   "outputs": [],
   "source": [
    "# if you are running this notebook in colabs, please uncomment and run the following two lines\n",
    "# !pip install https://github.com/emeyers/YData_package/tarball/master"
   ]
  },
  {
   "cell_type": "code",
   "execution_count": null,
   "metadata": {},
   "outputs": [
    {
     "name": "stdout",
     "output_type": "stream",
     "text": [
      "The file `college_scorecard_subset_2021_2022.csv` already exists.\n",
      "If you would like to download a new copy of the file, please rename the existing copy of the file.\n"
     ]
    }
   ],
   "source": [
    "# Please run this code once to download the files you will need to complete the homework \n",
    "\n",
    "import YData \n",
    "\n",
    "# Downlooad college scorecard data and map files\n",
    "YData.download.download_data(\"college_scorecard_subset_2021_2022.csv\")\n",
    "YData.download.download_data(\"CCBASIC_categories.csv\")\n"
   ]
  },
  {
   "cell_type": "markdown",
   "metadata": {},
   "source": [
    "## 0. Quote and reaction\n",
    "\n",
    "There is no quote and reaction for this week. Please use the extra time given to start on your peer review of the class projects. "
   ]
  },
  {
   "cell_type": "code",
   "execution_count": 14,
   "metadata": {},
   "outputs": [],
   "source": [
    "# This cell imports functions from packages we will use below.\n",
    "# Please run it each time you load the Jupyter notebook\n",
    "\n",
    "import statistics\n",
    "import numpy as np\n",
    "import pandas as pd\n",
    "import matplotlib.pyplot as plt\n",
    "\n",
    "%matplotlib inline"
   ]
  },
  {
   "cell_type": "markdown",
   "metadata": {},
   "source": [
    "## 1. Squirrel indifference revisited\n",
    "\n",
    "On homework 4, you analyzed data on squirrels in NYC. One of the questions you looked at (question 1.12) was whether the proportion of indifferent squirrels are different depending on their primary fur color. \n",
    "\n",
    "To examine this question, you used pandas to create summary statistics that are shown in the DataFrame below. As you saw on that homework, the proportion of squirrels that are indifferent is different depending on the squirrel's fur color. But is this a meaningful difference or is this just due to the random sample of squirrels that were observed? Let's run a hypothesis test to examine this now!  \n"
   ]
  },
  {
   "cell_type": "code",
   "execution_count": 15,
   "metadata": {},
   "outputs": [
    {
     "data": {
      "text/html": [
       "<div>\n",
       "<style scoped>\n",
       "    .dataframe tbody tr th:only-of-type {\n",
       "        vertical-align: middle;\n",
       "    }\n",
       "\n",
       "    .dataframe tbody tr th {\n",
       "        vertical-align: top;\n",
       "    }\n",
       "\n",
       "    .dataframe thead th {\n",
       "        text-align: right;\n",
       "    }\n",
       "</style>\n",
       "<table border=\"1\" class=\"dataframe\">\n",
       "  <thead>\n",
       "    <tr style=\"text-align: right;\">\n",
       "      <th></th>\n",
       "      <th>Color</th>\n",
       "      <th>Indifferent</th>\n",
       "      <th>Total</th>\n",
       "      <th>Prop indifferent</th>\n",
       "    </tr>\n",
       "  </thead>\n",
       "  <tbody>\n",
       "    <tr>\n",
       "      <th>0</th>\n",
       "      <td>Black</td>\n",
       "      <td>44</td>\n",
       "      <td>103</td>\n",
       "      <td>0.427184</td>\n",
       "    </tr>\n",
       "    <tr>\n",
       "      <th>1</th>\n",
       "      <td>Cinnamon</td>\n",
       "      <td>181</td>\n",
       "      <td>392</td>\n",
       "      <td>0.461735</td>\n",
       "    </tr>\n",
       "    <tr>\n",
       "      <th>2</th>\n",
       "      <td>Gray</td>\n",
       "      <td>1219</td>\n",
       "      <td>2471</td>\n",
       "      <td>0.493323</td>\n",
       "    </tr>\n",
       "  </tbody>\n",
       "</table>\n",
       "</div>"
      ],
      "text/plain": [
       "      Color  Indifferent  Total  Prop indifferent\n",
       "0     Black           44    103          0.427184\n",
       "1  Cinnamon          181    392          0.461735\n",
       "2      Gray         1219   2471          0.493323"
      ]
     },
     "execution_count": 15,
     "metadata": {},
     "output_type": "execute_result"
    }
   ],
   "source": [
    "squirrel_table = pd.DataFrame({'Color': ['Black', 'Cinnamon', 'Gray'], \n",
    "                               'Indifferent': [44, 181, 1219],\n",
    "                               'Total': [103, 392, 2471]}) \n",
    "\n",
    "squirrel_table['Prop indifferent'] = squirrel_table['Indifferent']/squirrel_table['Total']\n",
    "\n",
    "squirrel_table\n"
   ]
  },
  {
   "cell_type": "markdown",
   "metadata": {},
   "source": [
    "**Question 1.1 (4 points)**:  The first step of running a hypothesis test involves stating the null and alternative hypotheses. Usually, we want to state these hypotheses using the symbols we discussed in class. Since we are new to hypothesis testing, let's build up to stating the appropriate hypotheses in a couple of steps.  \n",
    "\n",
    "To start, in the answer section below, please write down answers to the following questions:\n",
    "\n",
    "1. What are the three quantities we are interested in when running this hypothesis test? Please make your description as accurate as possible (i.e., make sure you distinguish between the data we collected and the larger data we are interested in). \n",
    "\n",
    "2. Using the notation we discussed in class, please write down the three symbols we should use to denote the quanties we are interested in (hint: using subscripts to distinguish between these symbols could be useful here). \n",
    "\n"
   ]
  },
  {
   "cell_type": "markdown",
   "metadata": {},
   "source": [
    "**Answer**:\n",
    "\n",
    "1. \n",
    "\n",
    "\n",
    "\n",
    "2. \n",
    "\n",
    "\n",
    "\n",
    "\n"
   ]
  },
  {
   "cell_type": "markdown",
   "metadata": {},
   "source": [
    "**Question 1.2 (4 points)**: As we discussed in class, hypothesis tests can be viewed as a bet with a nihilist. The nihilist believes that nothing interesting is happening, which in this case, would mean that there is no difference between how indifferent squirrels are depending on their fur color. We believe the opposite, that something interesting is happening, which here means that the level of indifference is different depending on squirrel's fur color.\n",
    "\n",
    "Please answer the following questions to state the null and alternative hypotheses: \n",
    "\n",
    "1. Using the appropriate symbols (that you described above), write down the null hypothesis.\n",
    "\n",
    "2. Describe what the alternative hypothesis is.\n"
   ]
  },
  {
   "cell_type": "markdown",
   "metadata": {},
   "source": [
    "**Answer**:\n",
    "\n",
    "1. \n",
    "\n",
    "2. \n",
    "\n"
   ]
  },
  {
   "cell_type": "markdown",
   "metadata": {},
   "source": [
    "**Question 1.3 (3 points)**:  Now that we've stated the null and alternative hypotheses, we are ready to start analyzing our data! In order to run a hypothesis test, the second step involves calculating a statistic of interest from the data we collect. Again, we will break this down into a few steps. \n",
    "\n",
    "If the null hypothesis is true, there is no difference in how indifferent the squirrels are between the different fur colors. Thus, we can use all our data to estimate the overall level of indifference (which is the same for all three groups). \n",
    "\n",
    "Please use the `squirrel_table` DataFrame to create a name `prop_overall_indifference` which is the overall proportion of squirrels that are indifferent assuming that squirrels from all three fur color groups have the same level of indifference. \n",
    "\n",
    "Note: averaging the three proportions in `squirrel_table` table together is **not** the best way to estimate the overall level of indifference, so this should not be how you get your solution. "
   ]
  },
  {
   "cell_type": "code",
   "execution_count": null,
   "metadata": {},
   "outputs": [],
   "source": [
    "\n",
    "\n",
    "\n"
   ]
  },
  {
   "cell_type": "markdown",
   "metadata": {},
   "source": [
    "**Question 1.4 (4 points)**: Now, assuming that there is no difference in how indifferent squirrels are depending on their fur color, let's estimate how many squirrels we would expect to be indifferent from the data that was collected. \n",
    "\n",
    "To do this, we can multiply our `prop_overall_indifference` by the number of squirrels that were observed of each color. \n",
    "\n",
    "Please create a DataFrame called `squirrel_table2` that is the same as `squirrel_table` but has an additional column called `Null Expected Indifferent` which is how many squirrels we would expect to be indifferent if the null hypothesis was true (i.e., of there was no difference in indifference levels for the three fur colors). Note, while this quantity technically should be an integer, please keep it as a decimal quantity. "
   ]
  },
  {
   "cell_type": "code",
   "execution_count": null,
   "metadata": {},
   "outputs": [],
   "source": [
    "\n",
    "\n",
    "\n",
    "\n"
   ]
  },
  {
   "cell_type": "markdown",
   "metadata": {},
   "source": [
    "**Question 1.5 (4 points)**: Let's now complete step 2 of our hypothesis test by creating an observed statistic (i.e., a single number) that describes how the observed number of indifferent squirrels differ from the number of indifferent squirrels that is expected if the null hypothesis was true. \n",
    "\n",
    "For our statistic, we will use the \"Total Variation Distance\" (TVD) statistic we discussed in class. The formula for the TVD statistic is $TVD = \\Sigma_{i}^{k} | e_i - o_i |$, where $k$ is the number of groups, $e_k$ is the number expected in the $i^{th}$ group based on the null hypothesis, and $o_i$ is the number observed in the $i^{th}$ group. (Note, this is slightly different than what we did in class since we are calculating the TVD on counts rather than proportions, but both ways work).\n",
    "\n",
    "Below is the code that defines a function `total_variation_distance(dist1, dist2)` computes the TVD. This function takes two pandas Series of numbers (or two numpy arrays) and calculates the TVD between them. Please use the `total_variation_distance(dist1, dist2)` to calculate the TVD between the observed and expected number of indifferent squirrels and save this statistic to the name `obs_stat`. Also, print the value of your TVD statistic to show your work. \n"
   ]
  },
  {
   "cell_type": "code",
   "execution_count": 1,
   "metadata": {},
   "outputs": [],
   "source": [
    "def total_variation_distance(distribution_1, distribution_2):\n",
    "    return np.sum(np.abs(distribution_1 - distribution_2))\n",
    "\n",
    "\n",
    "\n",
    "\n"
   ]
  },
  {
   "cell_type": "markdown",
   "metadata": {},
   "source": [
    "**Question 1.6 (5 points)**: Now that we have created the observed statistic, we are ready for step 3 of hypothesis testing, which is to create the null distribution. To do this we will also break this down into several steps which are:\n",
    "\n",
    "1. Write a function that can generate one random count of indifferent squirrels that is consistent with the null hypothesis.\n",
    "\n",
    "2. Write a function that can generate an array with three random counts of indifferent squirrels (one for each color of squirrel) that is consistent with the null hypothesis.\n",
    "\n",
    "3. Calculate the TVD statistic value from data generated by the function in step 2. \n",
    "\n",
    "4. Repeat the process 10,000 times to generate 10,000 TVD statistics that are consistent with the null hypothesis.\n",
    "\n",
    "Let's start by writing a function `generate_indifferent_count(sample_size)` that takes a sample size (number of observed squirrels) and returns the random number (consistent with the null hypothesis) of how many of these squirrels are indifferent.\n",
    "\n",
    "To generate a random number of indifferent squirrels in a way that is consistent with the null hypothesis, what you should do is to: \n",
    "\n",
    "1. Generate an ndarray of random numbers called `random_sample` that has random 0-1 that is of the length of the `sample size` argument (the `np.random.rand()` function can be useful here). \n",
    "\n",
    "2. Convert this to an ndarray of Booleans where True values indicate an indifferent squirrel and False values indicate a squirrel that is not indifferent. Comparing the random numbers to the `prop_overall_indifferent` is a good way to do this. \n",
    "\n",
    "3. Return the number of indifferent squirrels (`np.sum()` could be helpful here). \n",
    "\n",
    "\n",
    "Once you have written the function, test it to generate a random count of indifferent squirrels from observing 100 squirrels (and print out this number to show your work). "
   ]
  },
  {
   "cell_type": "code",
   "execution_count": 2,
   "metadata": {},
   "outputs": [],
   "source": [
    "def generate_indifferent_count(sample_size):\n",
    "    ...\n",
    "\n",
    "    \n",
    "\n",
    "generate_indifferent_count(100)\n"
   ]
  },
  {
   "cell_type": "markdown",
   "metadata": {},
   "source": [
    "**Question 1.7 (4 points)**: Now let's write a function `generate_null_indifferent_array()` which generates an ndarray with three indifferent counts that correspond to randomly generated indifferent squirrel counts for the three fur colors. \n",
    "\n",
    "To do this we can simply call the `generate_indifferent_count()` function three times, where each time the function is called we pass it the total number of observed squirrels for one of the fur colors. Once we have these three counts, we can use the `np.array()` method to turn them into a single array which the function will return. \n",
    "\n",
    "Please write the `generate_indifferent_count()` function and call it one time to show that it works by printing the output of the function call.  \n"
   ]
  },
  {
   "cell_type": "code",
   "execution_count": 3,
   "metadata": {},
   "outputs": [],
   "source": [
    "def generate_null_indifferent_array():\n",
    "    ...\n",
    "\n",
    "\n",
    "generate_null_indifferent_array()\n"
   ]
  },
  {
   "cell_type": "markdown",
   "metadata": {},
   "source": [
    "**Question 1.8 (4 points)**: Now let's use our `generate_null_indifferent_array()` combined with our `total_variation_distance()` to generate one TVD statistic that is consistent with the null hypothesis. \n",
    "\n",
    "Please run this once to generate one TVD statistic consistent with the null hypothesis and print the output to show that it works. \n",
    "\n",
    "Hint: one of arguments to the `total_variation_distance()` should be the expected counts we calculated above, while the other should be our randomly generated counts.\n"
   ]
  },
  {
   "cell_type": "code",
   "execution_count": null,
   "metadata": {},
   "outputs": [],
   "source": [
    "\n",
    "\n"
   ]
  },
  {
   "cell_type": "markdown",
   "metadata": {},
   "source": [
    "**Question 1.9 (5 points)**: Now that we are able to calculate one statistic consistent with the null hypothesis, all we need to do to calculate a null distribution is to repeat this process 10,000 times, which of course we can do using a for loop!\n",
    "\n",
    "Create a full distribution of 10,000 TVD statistics by starting with an empty list called `null_dist`, and then appending randomly generated TVD statistics onto this list. "
   ]
  },
  {
   "cell_type": "code",
   "execution_count": 4,
   "metadata": {},
   "outputs": [],
   "source": [
    "null_dist = []\n",
    "\n",
    "\n",
    "\n",
    "\n",
    "\n"
   ]
  },
  {
   "cell_type": "markdown",
   "metadata": {},
   "source": [
    "**Question 1.10 (4 points)**: Now that you have generated the null distribution, please visualize it as a histogram. \n",
    "\n",
    "Also, use the `plt.axvline(line_location, color = )` function to plot a red vertical line at the observed statistic value.\n"
   ]
  },
  {
   "cell_type": "code",
   "execution_count": null,
   "metadata": {},
   "outputs": [],
   "source": [
    "\n",
    "\n"
   ]
  },
  {
   "cell_type": "markdown",
   "metadata": {},
   "source": [
    "**Question 1.11 (3 points)**: Now that we have completed step 3 of hypothesis testing by creating a null distribution, we are ready for step 4 which is to calculate the p-value. As you will recall, the p-value is the proportion of values as or more extreme than the observed statistic value. \n",
    "\n",
    "Please calculate the p-value in the cell below. Hint: this can be done with one line of code. "
   ]
  },
  {
   "cell_type": "code",
   "execution_count": null,
   "metadata": {},
   "outputs": [],
   "source": [
    "\n"
   ]
  },
  {
   "cell_type": "markdown",
   "metadata": {},
   "source": [
    "**Question 1.12 (3 points)**: Now that we have a p-value we are ready to draw a conclusion. In the answer section, please write down what you would conclude.   \n"
   ]
  },
  {
   "cell_type": "markdown",
   "metadata": {},
   "source": [
    "**Answer**:  \n",
    "\n",
    "\n"
   ]
  },
  {
   "cell_type": "markdown",
   "metadata": {},
   "source": [
    "## 2. Peer review \n",
    "\n",
    "Please make sure to start reviewing the projects that were assigned to you. Your reviews are due on Wednesday April 19th. If you have any questions, if they pertain to the whole class please post them to Ed, or if they are related just to you please email the course manager Zihe Zheng (zihe.zheng@yale.edu)."
   ]
  },
  {
   "cell_type": "markdown",
   "metadata": {},
   "source": [
    "## 3. Reflection (3 points)\n",
    "\n",
    "Please reflect on how the homework went by going to Canvas, going to the Quizzes link, and clicking on reflection on homework 8. \n",
    "\n"
   ]
  },
  {
   "cell_type": "markdown",
   "metadata": {},
   "source": [
    "## 4. Submission\n",
    "\n",
    "Once you're finished, submit your assignment as a .pdf on Gradescope using the instructions described at the top of this assignment. "
   ]
  }
 ],
 "metadata": {
  "kernelspec": {
   "display_name": "Python [conda env:.conda-ydata123_2023e]",
   "language": "python",
   "name": "conda-env-.conda-ydata123_2023e-py"
  },
  "language_info": {
   "codemirror_mode": {
    "name": "ipython",
    "version": 3
   },
   "file_extension": ".py",
   "mimetype": "text/x-python",
   "name": "python",
   "nbconvert_exporter": "python",
   "pygments_lexer": "ipython3",
   "version": "3.11.0"
  }
 },
 "nbformat": 4,
 "nbformat_minor": 4
}
