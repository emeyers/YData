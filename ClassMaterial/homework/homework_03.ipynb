{
 "cells": [
  {
   "cell_type": "markdown",
   "metadata": {},
   "source": [
    "# Homework 3: Arrays computations\n",
    "\n",
    "Welcome to the third homework! Please complete this notebook by filling in the cells provided. For all problems that you must write explanations and sentences for, please provide your answer in the designated space. \n",
    "\n",
    "**Recommended Reading**: \n",
    "\n",
    "* [Brett M (2020)](https://matthew-brett.github.io/dsfe/chapters/01/intro) sections 3.4-3.7.\n",
    "* Also see chapter 4 of [McKinney (2022)](https://wesmckinney.com/book/numpy-basics) as a reference for a lot more information. \n",
    "\n",
    "**Deadline:**\n",
    "\n",
    "This assignment is due **Sunday September 22nd at 11pm.** You can turn in the assignment up to 24 hours late for 90% credit (after that, the homework will only be accepted with a dean's excuse). \n",
    "\n",
    "Directly sharing answers is not okay, but discussing problems with the course staff or with other students is encouraged. Refer to the policies page to learn more about how to learn cooperatively.\n",
    "\n",
    "You should start early so that you have time to get help if you're stuck. The drop-in office hours schedule can be found on Canvas. You can also post questions or start discussions on Ed Discussion.\n"
   ]
  },
  {
   "cell_type": "markdown",
   "metadata": {},
   "source": [
    "## Getting started\n",
    "\n",
    "In order to complete the homework it is necessary to download a few files. Please run the code below **only once** to download data needed to complete the homework. To run the code, click in the cell below and press the play buttom (or press shift-enter). "
   ]
  },
  {
   "cell_type": "code",
   "execution_count": 1,
   "metadata": {},
   "outputs": [],
   "source": [
    "# if you are running this notebook in colabs, please uncomment and run the following two lines\n",
    "# !pip install https://github.com/emeyers/YData_package/tarball/master"
   ]
  },
  {
   "cell_type": "code",
   "execution_count": 2,
   "metadata": {},
   "outputs": [
    {
     "name": "stdout",
     "output_type": "stream",
     "text": [
      "The file `ACS_2017_sample_01.csv` already exists.\n",
      "If you would like to download a new copy of the file, please rename the existing copy of the file.\n",
      "The file `temperatures.csv` already exists.\n",
      "If you would like to download a new copy of the file, please rename the existing copy of the file.\n",
      "The file `world_population.csv` already exists.\n",
      "If you would like to download a new copy of the file, please rename the existing copy of the file.\n",
      "The file `old_faithful.csv` already exists.\n",
      "If you would like to download a new copy of the file, please rename the existing copy of the file.\n",
      "The file `array_cumsum.png` already exists.\n",
      "If you would like to download a new copy of the file, please rename the existing copy of the file.\n",
      "The file `array_diff.png` already exists.\n",
      "If you would like to download a new copy of the file, please rename the existing copy of the file.\n",
      "The file `salovey.png` already exists.\n",
      "If you would like to download a new copy of the file, please rename the existing copy of the file.\n"
     ]
    }
   ],
   "source": [
    "# Please run this code once to download the files you will need to complete the homework \n",
    "\n",
    "import YData \n",
    "\n",
    "YData.download.download_data(\"ACS_2017_sample_01.csv\")\n",
    "YData.download.download_data(\"temperatures.csv\")\n",
    "YData.download.download_data(\"world_population.csv\")\n",
    "YData.download.download_data(\"old_faithful.csv\")\n",
    "\n",
    "YData.download_image(\"array_cumsum.png\")\n",
    "YData.download_image(\"array_diff.png\")\n",
    "YData.download_image(\"salovey.png\")"
   ]
  },
  {
   "cell_type": "markdown",
   "metadata": {},
   "source": [
    "## 0. Quote and reaction\n",
    "\n",
    "As you know, in class we have been analyzing data on movies related to the Bechdel test. This data comes from a FiveThirtyEight article [The Dollar-And_Cents Case aginst Hollywood's Exclusion of Women](https://fivethirtyeight.com/features/the-dollar-and-cents-case-against-hollywoods-exclusion-of-women/). To understand how the data set we have been analyzing was created, and to see how data journalists have analyzed this data, please read the original article. In the space below, please write down a quote you found of interest from the article along as well as a one paragraph description for why you thought the quote was interesting. \n"
   ]
  },
  {
   "cell_type": "markdown",
   "metadata": {},
   "source": [
    "**Question 0.1 (5 points)**  Please write down your \"quote and reaction\" here.\n",
    "\n",
    "*Quote:*  ...\n",
    "\n",
    "Reaction: ... "
   ]
  },
  {
   "cell_type": "code",
   "execution_count": 3,
   "metadata": {},
   "outputs": [],
   "source": [
    "# This cell imports functions from packages we will use below.\n",
    "# Please run it each time you load the Jupyter notebook\n",
    "\n",
    "import numpy as np\n",
    "import pandas as pd\n",
    "import matplotlib.pyplot as plt\n",
    "from imageio.v3 import imread\n",
    "\n",
    "%matplotlib inline"
   ]
  },
  {
   "cell_type": "markdown",
   "metadata": {},
   "source": [
    "## 1. Creating Arrays\n"
   ]
  },
  {
   "cell_type": "markdown",
   "metadata": {},
   "source": [
    "**Question 1.1 (3 points)** Make a numpy array called `weird_numbers` containing the following numbers (in the given order):\n",
    "\n",
    "1. -2\n",
    "2. the sine of 1.2\n",
    "3. 3\n",
    "4. 5 to the power of the cosine of 1.2\n",
    "\n",
    "*Hint:* `sin()` and `cos()` are functions in the `np` module. "
   ]
  },
  {
   "cell_type": "code",
   "execution_count": 4,
   "metadata": {},
   "outputs": [
    {
     "data": {
      "text/plain": [
       "Ellipsis"
      ]
     },
     "execution_count": 4,
     "metadata": {},
     "output_type": "execute_result"
    }
   ],
   "source": [
    "weird_numbers = ...\n",
    "weird_numbers"
   ]
  },
  {
   "cell_type": "markdown",
   "metadata": {},
   "source": [
    "**Question 1.2 (2 points)** Make a numpy array called `book_title_words` containing the following three strings: \"Eats\", \"Shoots\", and \"and Leaves\"."
   ]
  },
  {
   "cell_type": "code",
   "execution_count": 5,
   "metadata": {},
   "outputs": [
    {
     "data": {
      "text/plain": [
       "Ellipsis"
      ]
     },
     "execution_count": 5,
     "metadata": {},
     "output_type": "execute_result"
    }
   ],
   "source": [
    "book_title_words = ...\n",
    "book_title_words"
   ]
  },
  {
   "cell_type": "markdown",
   "metadata": {},
   "source": [
    "As we have previously discussed, strings have a method called `join`.  `join` takes one argument, an array of strings.  It returns a single string.  Specifically, the value of `a_string.join(an_array)` is a single string that's the [concatenation](https://en.wikipedia.org/wiki/Concatenation) (\"putting together\") of all the strings in `an_array`, **except** `a_string` is inserted in between each string. The `.join()` method works for ndarrays of strings as well as for lists of strings. Let's explore this now.\n",
    "\n",
    "**Question 1.3 (3 points)** Use the array `book_title_words` and the method `join` to make two strings:\n",
    "\n",
    "1. \"Eats, Shoots, and Leaves\" (call this one `with_commas`)\n",
    "2. \"Eats Shoots and Leaves\" (call this one `without_commas`)\n",
    "\n",
    "*Hint:* If you're not sure what `join` does, first try just calling, for example, `\"yale\".join(book_title_words)` ."
   ]
  },
  {
   "cell_type": "code",
   "execution_count": 6,
   "metadata": {},
   "outputs": [
    {
     "name": "stdout",
     "output_type": "stream",
     "text": [
      "with_commas: Ellipsis\n",
      "without_commas: Ellipsis\n"
     ]
    }
   ],
   "source": [
    "with_commas = ...\n",
    "without_commas = ...\n",
    "\n",
    "# These lines are provided just to print out your answers.\n",
    "print('with_commas:', with_commas)\n",
    "print('without_commas:', without_commas)"
   ]
  },
  {
   "cell_type": "markdown",
   "metadata": {},
   "source": [
    "## 2. Basic Array Arithmetic\n"
   ]
  },
  {
   "cell_type": "markdown",
   "metadata": {},
   "source": [
    "**Question 2.1 (3 points)** Multiply each of the following numbers by 157: 42, 4224, 42422424, and -250.  For this question, **don't** use arrays."
   ]
  },
  {
   "cell_type": "code",
   "execution_count": 7,
   "metadata": {},
   "outputs": [
    {
     "name": "stdout",
     "output_type": "stream",
     "text": [
      "Ellipsis Ellipsis Ellipsis Ellipsis\n"
     ]
    }
   ],
   "source": [
    "first_product = ...\n",
    "second_product = ...\n",
    "third_product = ...\n",
    "fourth_product = ...\n",
    "print(first_product, second_product, third_product, fourth_product)"
   ]
  },
  {
   "cell_type": "markdown",
   "metadata": {},
   "source": [
    "**Question 2.2 (3 points)** Now, do the same calculation, but using an array called `numbers` and only a single multiplication (`*`) operator.  Store the 4 results in an array named `products`."
   ]
  },
  {
   "cell_type": "code",
   "execution_count": 8,
   "metadata": {},
   "outputs": [
    {
     "data": {
      "text/plain": [
       "Ellipsis"
      ]
     },
     "execution_count": 8,
     "metadata": {},
     "output_type": "execute_result"
    }
   ],
   "source": [
    "numbers = ...\n",
    "products = ...\n",
    "products"
   ]
  },
  {
   "cell_type": "markdown",
   "metadata": {},
   "source": [
    "**Question 2.3 (3 points)** Oops, we made a typo!  Instead of 157, we wanted to multiply each number by 1577.  Compute the fixed products in the cell below using array arithmetic.  Notice that your job is really easy if you previously defined an array `numbers` containing the 4 numbers."
   ]
  },
  {
   "cell_type": "code",
   "execution_count": 9,
   "metadata": {},
   "outputs": [
    {
     "data": {
      "text/plain": [
       "Ellipsis"
      ]
     },
     "execution_count": 9,
     "metadata": {},
     "output_type": "execute_result"
    }
   ],
   "source": [
    "fixed_products = ...\n",
    "fixed_products"
   ]
  },
  {
   "cell_type": "markdown",
   "metadata": {},
   "source": [
    "**Question 2.4 (4 points)** We've loaded an array of temperatures in the next cell.  Each number is the highest temperature observed on a day at a climate observation station, mostly from the US.  Since they're from the US government agency [NOAA](https://www.noaa.gov), all the temperatures are in Fahrenheit.  Convert them all to Celsius by first subtracting 32 from them, then multiplying the results by $\\frac{5}{9}$. Make sure to **ROUND** each result to the nearest integer using the `np.round` function."
   ]
  },
  {
   "cell_type": "code",
   "execution_count": 10,
   "metadata": {},
   "outputs": [
    {
     "data": {
      "text/plain": [
       "Ellipsis"
      ]
     },
     "execution_count": 10,
     "metadata": {},
     "output_type": "execute_result"
    }
   ],
   "source": [
    "max_temperatures = np.array(pd.read_csv(\"temperatures.csv\")[\"Daily Max Temperature\"])\n",
    "\n",
    "celsius_max_temperatures = ...\n",
    "celsius_max_temperatures"
   ]
  },
  {
   "cell_type": "markdown",
   "metadata": {},
   "source": [
    "**Question 2.5 (4 points)** The cell below loads all the *lowest* temperatures from each day (in Fahrenheit).  Compute the size of the daily temperature range for each day.  That is, compute the difference between each daily maximum temperature and the corresponding daily minimum temperature.  **Keep your answer in Fahrenheit.** Make sure **NOT** to round your answer for this question!"
   ]
  },
  {
   "cell_type": "code",
   "execution_count": 11,
   "metadata": {},
   "outputs": [
    {
     "data": {
      "text/plain": [
       "Ellipsis"
      ]
     },
     "execution_count": 11,
     "metadata": {},
     "output_type": "execute_result"
    }
   ],
   "source": [
    "min_temperatures = np.array(pd.read_csv(\"temperatures.csv\")[\"Daily Min Temperature\"])\n",
    "\n",
    "temperature_ranges = ...\n",
    "temperature_ranges"
   ]
  },
  {
   "cell_type": "markdown",
   "metadata": {},
   "source": [
    "## 3. World Population\n"
   ]
  },
  {
   "cell_type": "markdown",
   "metadata": {},
   "source": [
    "The cell below loads a table of estimates of the world population for different years, starting in 1950 and displays the first 4 rows of the data. The estimates come from the [US Census Bureau website](https://www.census.gov/en.html)."
   ]
  },
  {
   "cell_type": "code",
   "execution_count": 12,
   "metadata": {},
   "outputs": [
    {
     "data": {
      "text/html": [
       "<div>\n",
       "<style scoped>\n",
       "    .dataframe tbody tr th:only-of-type {\n",
       "        vertical-align: middle;\n",
       "    }\n",
       "\n",
       "    .dataframe tbody tr th {\n",
       "        vertical-align: top;\n",
       "    }\n",
       "\n",
       "    .dataframe thead th {\n",
       "        text-align: right;\n",
       "    }\n",
       "</style>\n",
       "<table border=\"1\" class=\"dataframe\">\n",
       "  <thead>\n",
       "    <tr style=\"text-align: right;\">\n",
       "      <th></th>\n",
       "      <th>Year</th>\n",
       "      <th>Population</th>\n",
       "    </tr>\n",
       "  </thead>\n",
       "  <tbody>\n",
       "    <tr>\n",
       "      <th>0</th>\n",
       "      <td>1950</td>\n",
       "      <td>2557628654</td>\n",
       "    </tr>\n",
       "    <tr>\n",
       "      <th>1</th>\n",
       "      <td>1951</td>\n",
       "      <td>2594939877</td>\n",
       "    </tr>\n",
       "    <tr>\n",
       "      <th>2</th>\n",
       "      <td>1952</td>\n",
       "      <td>2636772306</td>\n",
       "    </tr>\n",
       "    <tr>\n",
       "      <th>3</th>\n",
       "      <td>1953</td>\n",
       "      <td>2682053389</td>\n",
       "    </tr>\n",
       "  </tbody>\n",
       "</table>\n",
       "</div>"
      ],
      "text/plain": [
       "   Year  Population\n",
       "0  1950  2557628654\n",
       "1  1951  2594939877\n",
       "2  1952  2636772306\n",
       "3  1953  2682053389"
      ]
     },
     "execution_count": 12,
     "metadata": {},
     "output_type": "execute_result"
    }
   ],
   "source": [
    "# Loading the data in a pandas DataFrame. We will discuss these DataFrames soon. \n",
    "world = pd.read_csv(\"world_population.csv\")[['Year', 'Population']]\n",
    "world.head(4)\n"
   ]
  },
  {
   "cell_type": "markdown",
   "metadata": {},
   "source": [
    "The name `population` is assigned to a numpy array of population estimates."
   ]
  },
  {
   "cell_type": "code",
   "execution_count": 13,
   "metadata": {},
   "outputs": [
    {
     "data": {
      "text/plain": [
       "array([2557628654, 2594939877, 2636772306, 2682053389, 2730228104,\n",
       "       2782098943, 2835299673, 2891349717, 2948137248, 3000716593,\n",
       "       3043001508, 3083966929, 3140093217, 3209827882, 3281201306,\n",
       "       3350425793, 3420677923, 3490333715, 3562313822, 3637159050,\n",
       "       3712697742, 3790326948, 3866568653, 3942096442, 4016608813,\n",
       "       4089083233, 4160185010, 4232084578, 4304105753, 4379013942,\n",
       "       4451362735, 4534410125, 4614566561, 4695736743, 4774569391,\n",
       "       4856462699, 4940571232, 5027200492, 5114557167, 5201440110,\n",
       "       5288955934, 5371585922, 5456136278, 5538268316, 5618682132,\n",
       "       5699202985, 5779440593, 5857972543, 5935213248, 6012074922,\n",
       "       6088571383, 6165219247, 6242016348, 6318590956, 6395699509,\n",
       "       6473044732, 6551263534, 6629913759, 6709049780, 6788214394,\n",
       "       6866332358, 6944055583, 7022349283, 7101027895, 7178722893,\n",
       "       7256490011], dtype=int64)"
      ]
     },
     "execution_count": 13,
     "metadata": {},
     "output_type": "execute_result"
    }
   ],
   "source": [
    "population = np.array(world[\"Population\"])    \n",
    "population"
   ]
  },
  {
   "cell_type": "markdown",
   "metadata": {},
   "source": [
    "In this question, you will apply some built-in Numpy functions to this array. \n",
    "\n",
    "Note: if the images below do not appear, please close and reopen your Jupyter notebook."
   ]
  },
  {
   "cell_type": "markdown",
   "metadata": {},
   "source": [
    "<img src=\"array_diff.png\" style=\"width: 600px;\"/>\n",
    "\n",
    "The difference function `np.diff` subtracts each element in an array by the element that preceeds it. As a result, the length of the array `np.diff` returns will always be one less than the length of the input array."
   ]
  },
  {
   "cell_type": "markdown",
   "metadata": {},
   "source": [
    "<img src=\"array_cumsum.png\" style=\"width: 700px;\"/>\n",
    "\n",
    "The cumulative sum function `np.cumsum` outputs an array of partial sums. For example, the third element in the output array corresponds to the sum of the first, second, and third elements."
   ]
  },
  {
   "cell_type": "markdown",
   "metadata": {},
   "source": [
    "**Question 3.1 (3 points)** Very often in data science, we are interested in understanding how values change with time. Use `np.diff` and `np.max` (or just `max`) to calculate the largest annual change in population between any two consecutive years."
   ]
  },
  {
   "cell_type": "code",
   "execution_count": 14,
   "metadata": {},
   "outputs": [
    {
     "data": {
      "text/plain": [
       "Ellipsis"
      ]
     },
     "execution_count": 14,
     "metadata": {},
     "output_type": "execute_result"
    }
   ],
   "source": [
    "largest_population_change = ...\n",
    "largest_population_change"
   ]
  },
  {
   "cell_type": "markdown",
   "metadata": {},
   "source": [
    "**Question 3.2 (8 points)** In class we discussed the *standard devation* as a statistic that can measure how much values vary. As you will recall, the formula for the standard deviation is: $$s = \\sqrt{\\frac{1}{n -1} \\sum_{i =1}^n (x_i - \\bar{x})^2 }$$.\n",
    "\n",
    "As you also recall, we can calculate the standard deviation in Python using either the `statistics` module's standard deviation function `statistics.stdev()` or using the numpy function `np.std()`. Let's now see if we can calcualte the standard deviation of the population size from year to use, *without using either of these functions*, and instead just using numpy operations. To do this, please complete the following steps:\n",
    "\n",
    "1. Calculate the mean (average) population size and store the result in the name `mean_pop`. Do this using only numpy operations as well; i.e., **without** using `statistics.mean()` or `np.mean()`.\n",
    "\n",
    "2. Create an array of values that has the yearly deviations, which are each year's population size minus the overall mean population size calculated across all years (i.e., the value you calculated in step 1). Store this result in the name `yearly_deviations`. \n",
    "\n",
    "3. Next calculate the sum of the squared deviations. To do this, first square all the yearly deviation values (to make them position) and then sum them together. Store the result in the name `sum_squared_deviations`.\n",
    "\n",
    "4. Divide this `sum_squared_deviations` by the total number of years in the data minus 1 (i.e., by $n - 1$). Save this result in the name `yearly_variance`.\n",
    "\n",
    "5. Finally, take the square root of the yearly variance to calculate the standard deviation and print out this value to \"show your work\". \n"
   ]
  },
  {
   "cell_type": "code",
   "execution_count": 15,
   "metadata": {},
   "outputs": [],
   "source": [
    "# Calculate the mean population size\n",
    "mean_pop = ...\n",
    "\n",
    "\n",
    "# Calculate the each year's deviation from the mean value\n",
    "yearly_deviations = ...\n",
    "\n",
    "\n",
    "# Calculate the sum of the squared deviations\n",
    "sum_squared_deviations = ...\n",
    "\n",
    "\n",
    "# Calculate the variance\n",
    "yearly_variance = ...\n",
    "\n",
    "\n",
    "# Print out the standard deviation\n",
    "\n"
   ]
  },
  {
   "cell_type": "markdown",
   "metadata": {},
   "source": [
    "**Question 3.3 (5 points)** Now compare the value you calculated for the standard deviation in Question 3.2, with using the `np.std()` function and to the `statistics.stdev()` function. In particular, print out the standard deviation's calculated using both these functions in the cell below. \n",
    "\n",
    "In the answer section below, report if all these values the same (if they are different, you do not need to explain why, but if you're interested you can try using Google to see if you can come up with a reason). \n",
    "\n",
    "Note: In order to use the `statistics.stdev()` function the data must be in a list, rather than in a numpy array. You can convert a numpy array to a list using the `.tolist()` method on the numpy array. "
   ]
  },
  {
   "cell_type": "code",
   "execution_count": 16,
   "metadata": {},
   "outputs": [],
   "source": [
    "import statistics\n",
    "\n",
    "\n",
    "\n",
    "\n",
    "\n"
   ]
  },
  {
   "cell_type": "markdown",
   "metadata": {},
   "source": [
    "<font color='red'> **ANSWER**: \n",
    "\n",
    "\n",
    "\n",
    "\n"
   ]
  },
  {
   "cell_type": "markdown",
   "metadata": {},
   "source": [
    "## 4. Old Faithful\n"
   ]
  },
  {
   "cell_type": "markdown",
   "metadata": {},
   "source": [
    "Old Faithful is a geyser in Yellowstone that erupts every 44 to 125 minutes (according to [Wikipedia](https://en.wikipedia.org/wiki/Old_Faithful)). People are [often told that the geyser erupts every hour](http://yellowstone.net/geysers/old-faithful/), but in fact the waiting time between eruptions is more variable. Let's take a look."
   ]
  },
  {
   "cell_type": "markdown",
   "metadata": {},
   "source": [
    "**Question 4.1 (3 points)** The first line below assigns `waiting_times` to an array of 272 consecutive waiting times between eruptions, taken from a classic 1938 dataset. Assign the names `shortest`, `longest`, and `average` so that the `print` statement is correct. (*Hint:* You can round average waiting time to 3 decimal places.)"
   ]
  },
  {
   "cell_type": "code",
   "execution_count": 17,
   "metadata": {},
   "outputs": [
    {
     "name": "stdout",
     "output_type": "stream",
     "text": [
      "Old Faithful erupts every Ellipsis to Ellipsis minutes and every Ellipsis minutes on average.\n"
     ]
    }
   ],
   "source": [
    "waiting_times = np.array(pd.read_csv('old_faithful.csv')['waiting'].to_list())\n",
    "\n",
    "shortest = ...\n",
    "longest = ...\n",
    "average = ...\n",
    "\n",
    "print(\"Old Faithful erupts every\", shortest, \"to\", longest, \"minutes and every\", average, \"minutes on average.\")"
   ]
  },
  {
   "cell_type": "markdown",
   "metadata": {},
   "source": [
    "**Question 4.2 (3 points)** Assign `biggest_decrease` to the biggest decrease in waiting time between two consecutive eruptions. For example, the third eruption occurred after 74 minutes and the fourth after 62 minutes, so the decrease in waiting time was 74 - 62 = 12 minutes. \n",
    "\n",
    "*Hint*:  The function you use may report positive or negative values.  You will have to determine if the biggest decrease corresponds to the highest or lowest value.  Ultimately, we want to return the absolute value of the biggest decrease so the final answer is positive."
   ]
  },
  {
   "cell_type": "code",
   "execution_count": 18,
   "metadata": {},
   "outputs": [
    {
     "data": {
      "text/plain": [
       "Ellipsis"
      ]
     },
     "execution_count": 18,
     "metadata": {},
     "output_type": "execute_result"
    }
   ],
   "source": [
    "biggest_decrease = ...\n",
    "biggest_decrease"
   ]
  },
  {
   "cell_type": "markdown",
   "metadata": {},
   "source": [
    "**Question 4.3 (4 points)** If you expected Old Faithful to erupt every hour, you would expect to wait a total of `60 * k` minutes to see `k` eruptions. Set `difference_from_expected` to an array with 272 elements, where the element at index `i` is the absolute difference between the expected and actual total amount of waiting time to see the first `i+1` eruptions. \n",
    "\n",
    "For example, since the first three waiting times are 79, 54, and 74, the total waiting time for 3 eruptions is 79 + 54 + 74 = 207. The expected waiting time for 3 eruptions is 60 * 3 = 180. Therefore, `difference_from_expected[2]` should be $|207 - 180| = 27$.\n",
    "\n",
    "*Hint*: You'll need to compare cumulative sum to a range. The `np.cumsum()` and `np.arange()` functions might be useful."
   ]
  },
  {
   "cell_type": "code",
   "execution_count": 19,
   "metadata": {},
   "outputs": [
    {
     "data": {
      "text/plain": [
       "Ellipsis"
      ]
     },
     "execution_count": 19,
     "metadata": {},
     "output_type": "execute_result"
    }
   ],
   "source": [
    "difference_from_expected = ...\n",
    "difference_from_expected"
   ]
  },
  {
   "cell_type": "markdown",
   "metadata": {},
   "source": [
    "**Question 4.4 (4 points)** If instead you guess that each waiting time will be the same as the previous waiting time, how many minutes would your guess differ from the actual time, averaging over every wait time except the first one?\n",
    "\n",
    "For example, suppose we only had 4 waiting times which were the first for values in our `waiting_times` array; i.e., 79, 54, and 74, and 62. Then the average difference between your guesses and the actual waiting times would be $\\frac{|79-54|+ |54-74| + |74 - 62|}{3} = 19.0$."
   ]
  },
  {
   "cell_type": "code",
   "execution_count": 20,
   "metadata": {},
   "outputs": [
    {
     "data": {
      "text/plain": [
       "Ellipsis"
      ]
     },
     "execution_count": 20,
     "metadata": {},
     "output_type": "execute_result"
    }
   ],
   "source": [
    "average_error = ...\n",
    "average_error"
   ]
  },
  {
   "cell_type": "markdown",
   "metadata": {},
   "source": [
    "## 5. Selecting values through Boolean indexing\n",
    "\n",
    "As we discussed in class, one way to select elements is through Boolean indexing (also called Boolean masking). Suppose we have a ndarray of values called `my_array`. Then if we have an ndarray of Booleans called `my_booleans` that is the same size as `my_array`, then using `my_array[my_booleans]` will return all the values in `my_array` where the values of `my_booleans` are `True`. \n",
    "\n",
    "The code below loads the ACS data from homework 1 and creates lists for the earned income and sex variables. Let's explore how Boolean masking can be useful using this data.\n"
   ]
  },
  {
   "cell_type": "code",
   "execution_count": 21,
   "metadata": {},
   "outputs": [
    {
     "data": {
      "text/html": [
       "<div>\n",
       "<style scoped>\n",
       "    .dataframe tbody tr th:only-of-type {\n",
       "        vertical-align: middle;\n",
       "    }\n",
       "\n",
       "    .dataframe tbody tr th {\n",
       "        vertical-align: top;\n",
       "    }\n",
       "\n",
       "    .dataframe thead th {\n",
       "        text-align: right;\n",
       "    }\n",
       "</style>\n",
       "<table border=\"1\" class=\"dataframe\">\n",
       "  <thead>\n",
       "    <tr style=\"text-align: right;\">\n",
       "      <th></th>\n",
       "      <th>YEAR</th>\n",
       "      <th>SAMPLE</th>\n",
       "      <th>SERIAL</th>\n",
       "      <th>CBSERIAL</th>\n",
       "      <th>NUMPREC</th>\n",
       "      <th>HHWT</th>\n",
       "      <th>HHTYPE</th>\n",
       "      <th>CLUSTER</th>\n",
       "      <th>CPI99</th>\n",
       "      <th>STATEFIP</th>\n",
       "      <th>...</th>\n",
       "      <th>CLASSWKR</th>\n",
       "      <th>CLASSWKRD</th>\n",
       "      <th>WKSWORK2</th>\n",
       "      <th>UHRSWORK</th>\n",
       "      <th>INCBUS00</th>\n",
       "      <th>INCEARN</th>\n",
       "      <th>SEI</th>\n",
       "      <th>MOVEDIN</th>\n",
       "      <th>QBPL</th>\n",
       "      <th>QINCWAGE</th>\n",
       "    </tr>\n",
       "  </thead>\n",
       "  <tbody>\n",
       "    <tr>\n",
       "      <th>0</th>\n",
       "      <td>2017</td>\n",
       "      <td>201701</td>\n",
       "      <td>250395</td>\n",
       "      <td>2017000834943</td>\n",
       "      <td>2</td>\n",
       "      <td>79</td>\n",
       "      <td>2</td>\n",
       "      <td>2017002503951</td>\n",
       "      <td>0.679</td>\n",
       "      <td>9</td>\n",
       "      <td>...</td>\n",
       "      <td>2</td>\n",
       "      <td>28</td>\n",
       "      <td>0</td>\n",
       "      <td>0</td>\n",
       "      <td>0</td>\n",
       "      <td>0</td>\n",
       "      <td>72</td>\n",
       "      <td>7</td>\n",
       "      <td>0</td>\n",
       "      <td>0</td>\n",
       "    </tr>\n",
       "    <tr>\n",
       "      <th>1</th>\n",
       "      <td>2017</td>\n",
       "      <td>201701</td>\n",
       "      <td>1062813</td>\n",
       "      <td>2017000532479</td>\n",
       "      <td>2</td>\n",
       "      <td>27</td>\n",
       "      <td>1</td>\n",
       "      <td>2017010628131</td>\n",
       "      <td>0.679</td>\n",
       "      <td>42</td>\n",
       "      <td>...</td>\n",
       "      <td>0</td>\n",
       "      <td>0</td>\n",
       "      <td>0</td>\n",
       "      <td>0</td>\n",
       "      <td>0</td>\n",
       "      <td>0</td>\n",
       "      <td>0</td>\n",
       "      <td>5</td>\n",
       "      <td>0</td>\n",
       "      <td>0</td>\n",
       "    </tr>\n",
       "    <tr>\n",
       "      <th>2</th>\n",
       "      <td>2017</td>\n",
       "      <td>201701</td>\n",
       "      <td>1235164</td>\n",
       "      <td>2017001001296</td>\n",
       "      <td>1</td>\n",
       "      <td>48</td>\n",
       "      <td>6</td>\n",
       "      <td>2017012351641</td>\n",
       "      <td>0.679</td>\n",
       "      <td>48</td>\n",
       "      <td>...</td>\n",
       "      <td>1</td>\n",
       "      <td>13</td>\n",
       "      <td>1</td>\n",
       "      <td>2</td>\n",
       "      <td>50</td>\n",
       "      <td>150</td>\n",
       "      <td>22</td>\n",
       "      <td>4</td>\n",
       "      <td>0</td>\n",
       "      <td>0</td>\n",
       "    </tr>\n",
       "    <tr>\n",
       "      <th>3</th>\n",
       "      <td>2017</td>\n",
       "      <td>201701</td>\n",
       "      <td>142278</td>\n",
       "      <td>2017000769070</td>\n",
       "      <td>3</td>\n",
       "      <td>50</td>\n",
       "      <td>1</td>\n",
       "      <td>2017001422781</td>\n",
       "      <td>0.679</td>\n",
       "      <td>6</td>\n",
       "      <td>...</td>\n",
       "      <td>2</td>\n",
       "      <td>22</td>\n",
       "      <td>3</td>\n",
       "      <td>35</td>\n",
       "      <td>0</td>\n",
       "      <td>17900</td>\n",
       "      <td>68</td>\n",
       "      <td>0</td>\n",
       "      <td>0</td>\n",
       "      <td>4</td>\n",
       "    </tr>\n",
       "    <tr>\n",
       "      <th>4</th>\n",
       "      <td>2017</td>\n",
       "      <td>201701</td>\n",
       "      <td>954089</td>\n",
       "      <td>2017000012970</td>\n",
       "      <td>5</td>\n",
       "      <td>15</td>\n",
       "      <td>1</td>\n",
       "      <td>2017009540891</td>\n",
       "      <td>0.679</td>\n",
       "      <td>39</td>\n",
       "      <td>...</td>\n",
       "      <td>1</td>\n",
       "      <td>13</td>\n",
       "      <td>2</td>\n",
       "      <td>21</td>\n",
       "      <td>1800</td>\n",
       "      <td>1800</td>\n",
       "      <td>26</td>\n",
       "      <td>0</td>\n",
       "      <td>0</td>\n",
       "      <td>0</td>\n",
       "    </tr>\n",
       "  </tbody>\n",
       "</table>\n",
       "<p>5 rows × 61 columns</p>\n",
       "</div>"
      ],
      "text/plain": [
       "   YEAR  SAMPLE   SERIAL       CBSERIAL  NUMPREC  HHWT  HHTYPE        CLUSTER  \\\n",
       "0  2017  201701   250395  2017000834943        2    79       2  2017002503951   \n",
       "1  2017  201701  1062813  2017000532479        2    27       1  2017010628131   \n",
       "2  2017  201701  1235164  2017001001296        1    48       6  2017012351641   \n",
       "3  2017  201701   142278  2017000769070        3    50       1  2017001422781   \n",
       "4  2017  201701   954089  2017000012970        5    15       1  2017009540891   \n",
       "\n",
       "   CPI99  STATEFIP  ...  CLASSWKR  CLASSWKRD  WKSWORK2  UHRSWORK  INCBUS00  \\\n",
       "0  0.679         9  ...         2         28         0         0         0   \n",
       "1  0.679        42  ...         0          0         0         0         0   \n",
       "2  0.679        48  ...         1         13         1         2        50   \n",
       "3  0.679         6  ...         2         22         3        35         0   \n",
       "4  0.679        39  ...         1         13         2        21      1800   \n",
       "\n",
       "   INCEARN  SEI  MOVEDIN  QBPL  QINCWAGE  \n",
       "0        0   72        7     0         0  \n",
       "1        0    0        5     0         0  \n",
       "2      150   22        4     0         0  \n",
       "3    17900   68        0     0         4  \n",
       "4     1800   26        0     0         0  \n",
       "\n",
       "[5 rows x 61 columns]"
      ]
     },
     "execution_count": 21,
     "metadata": {},
     "output_type": "execute_result"
    }
   ],
   "source": [
    "acs_data1 = pd.read_csv(\"ACS_2017_sample_01.csv\")\n",
    "\n",
    "# This code converts polars DataFrame data into Python lists so that we can analyze the data\n",
    "earned_incomes = acs_data1[\"INCEARN\"].to_list()\n",
    "sex = acs_data1[\"SEX\"].to_list()\n",
    "\n",
    "acs_data1.head()"
   ]
  },
  {
   "cell_type": "markdown",
   "metadata": {},
   "source": [
    "**Question 5.1 (3 point)** To start with, please convert the `earned_incomes` list into an ndarray called `earned_incomes_array`. Likewise, convert the `sex` list into an array called `sex_array`. Hint: using the `np.array()` function could be helpful here. "
   ]
  },
  {
   "cell_type": "code",
   "execution_count": 22,
   "metadata": {},
   "outputs": [],
   "source": [
    "# create numpy arrays of our data\n",
    "earned_incomes_array = ...\n",
    "sex_array = ..."
   ]
  },
  {
   "cell_type": "markdown",
   "metadata": {},
   "source": [
    "**Question 5.2 (3 point)** Next, create an array of Booleans called `male_indicators` that has `True` values when the `sex_array` indicates a male, and `False` when the `sex_array` values indicates a female. Likewise create an array called `female_indicators` that has `True` values when the `sex_array` indicates a female, and `False` when the `sex_array` values indicates a male. Print the first 5 entries of the `female_indicators` array to show your code is working correctly. "
   ]
  },
  {
   "cell_type": "code",
   "execution_count": 23,
   "metadata": {},
   "outputs": [],
   "source": [
    "# get indicators for males and females\n",
    "male_indicators = ...\n",
    "female_indicators = ...\n",
    "                        # print first 5 values of the female indicators here"
   ]
  },
  {
   "cell_type": "markdown",
   "metadata": {},
   "source": [
    "**Question 5.3 (4 point)**. Now let's create an ndarrays called `male_incomes` that has only the earned incomes from males. Likewise, create an ndarrays called `female_incomes` that has only the earned incomes from females. Print out the number of elements in both these arrays to show your code is working correctly (and you can check that you have this correct by looking at these numbers from homework 1). "
   ]
  },
  {
   "cell_type": "code",
   "execution_count": 24,
   "metadata": {},
   "outputs": [],
   "source": [
    "# get numpy arrays of males and females\n",
    "\n",
    "# get male incomes and female incomes\n",
    "male_incomes = ...\n",
    "female_incomes = ...\n",
    "\n",
    "# print the number of elements in the male_incomes and female_incomes arrarys\n",
    "\n"
   ]
  },
  {
   "cell_type": "markdown",
   "metadata": {},
   "source": [
    "**Question 5.4 (3 point)** Finally, print the mean earned incomes for males and for females and print these values (rounded to have no decimal places). "
   ]
  },
  {
   "cell_type": "code",
   "execution_count": 25,
   "metadata": {},
   "outputs": [
    {
     "data": {
      "text/plain": [
       "Ellipsis"
      ]
     },
     "execution_count": 25,
     "metadata": {},
     "output_type": "execute_result"
    }
   ],
   "source": [
    "# get mean values for male and female incomes\n",
    "mean_values = ...\n",
    "mean_values\n"
   ]
  },
  {
   "cell_type": "markdown",
   "metadata": {},
   "source": [
    "## 6. Image manipulation\n",
    "\n",
    "As we also discussed in class, we can use Boolean indexing on higher dimensions ndarray, such as digital images. The code below loads a (slightly older) image of the former president of Yale, Peter Salovey. Let's explore Boolean masking and image manipulation on this image to make Salovey's mustache blue. \n",
    "\n",
    "To do this we will create a series of Boolean masks that isolate where Salovey's mustache is located; i.e., the final mask will be a matrix that is the size of the original image of Salovey, and will have values of `True` where his mustache is located, and `False` in regions that do not contain his mustache. We will then use this mask to turn the `True` pixel's blue. "
   ]
  },
  {
   "cell_type": "code",
   "execution_count": 26,
   "metadata": {},
   "outputs": [
    {
     "data": {
      "image/png": "[encoded data removed]",
      "text/plain": [
       "<Figure size 640x480 with 1 Axes>"
      ]
     },
     "metadata": {},
     "output_type": "display_data"
    }
   ],
   "source": [
    "salovey_img = imread(\"salovey.png\");\n",
    "plt.imshow(salovey_img);"
   ]
  },
  {
   "cell_type": "markdown",
   "metadata": {},
   "source": [
    "**Question 6.1 (3 point)** To start with please print out the size of the image in terms of its length, width and color depth, and also print out the total number of pixels in the image."
   ]
  },
  {
   "cell_type": "code",
   "execution_count": 27,
   "metadata": {},
   "outputs": [],
   "source": [
    "# the length, width and color depth of the image\n",
    "\n",
    "\n",
    "# the total number of pixels\n",
    "\n"
   ]
  },
  {
   "cell_type": "markdown",
   "metadata": {},
   "source": [
    "**Question 6.2 (3 point):** Let's now create a grayscale image of Salovey. We can do this by averaging (i.e., take the mean) of the image over the 3rd dimension which is the color dimension using `np.mean(img, axis)` where `img` is our image and `axis` is the axis we are averaging over. \n",
    "\n",
    "Please take the mean over the color dimension and save the result to the name `salovey_mean`. Then use `plt.imshow(img, cmap = 'gray')` to display the grayscale image to show that your averaging worked correctly. "
   ]
  },
  {
   "cell_type": "code",
   "execution_count": 28,
   "metadata": {},
   "outputs": [],
   "source": [
    "# take the mean over the color dimenion of the image to create a gray scale image\n",
    "\n",
    "\n",
    "# display the image\n",
    "\n"
   ]
  },
  {
   "cell_type": "markdown",
   "metadata": {},
   "source": [
    "**Question 6.3 (3 point):**  Let's now create Boolean array called `dark_pixel_mask` that has all the dark pixels in the grayscale image marked as `True` and the light pixels marked as `False` We will call a pixel \"dark\" if it has a value less than 75. I.e., you will create an ndarray the same size as the grayscale image that has only Boolean values, where values are `True` if a grayscale pixel value at the corresponding location in the grayscale image had a value less than 75, and `False` otherwise. \n",
    "\n",
    "Once you have done this, again `plt.imshow()` to display the `dark_pixel_mask`. When displaying the `dark_pixel_mask`, use the `~` symbol to turn reverse the `True`'s and `False` which will make the dark pixels appear black (if you did this correctly, the dark pixels which should include Salovey's mustache). "
   ]
  },
  {
   "cell_type": "code",
   "execution_count": 29,
   "metadata": {},
   "outputs": [],
   "source": [
    "# create dark_pixel_mask\n",
    "\n",
    "\n",
    "# display the dark_pixel_mask image\n",
    "\n"
   ]
  },
  {
   "cell_type": "markdown",
   "metadata": {},
   "source": [
    "**Question 6.4 (6 point):** Let's now create another image mask (i.e., a Boolean matrix) called `mustache_region_mask` that has a rectangle around where Salovey's mustache is located. \n",
    "\n",
    "To do this please use the folowing steps:\n",
    "\n",
    "1. Start by creating a Boolean mask called `mustache_region_mask` as a matrix of all zeros that is the same size as the `salovey_mean` image.\n",
    "\n",
    "2. Set the pixel values of `mustache_region_mask` to 1 in a rectangular region around where Salovey's mustache is located. \n",
    "\n",
    "3. Convert `mustache_region_mask` into a Boolean values. Hint: using the `.astype()` method will be useful for this.\n",
    "\n",
    "4. Display the `mustache_region_mask`, again using the `~` symbol to turn reverse the `True`'s and `False` which will make the dark pixels appear black. The image displayed should be a black rectangle at the location of where Salovey's mustache is located in the original/grayscale image. "
   ]
  },
  {
   "cell_type": "code",
   "execution_count": 30,
   "metadata": {},
   "outputs": [],
   "source": [
    "# create a matrix of all 0's \n",
    "\n",
    "\n",
    "# set the region around the mustache to the value of 1\n",
    "\n",
    "\n",
    "# convert to Booleans\n",
    "\n",
    "\n",
    "# show the mask\n",
    "\n"
   ]
  },
  {
   "cell_type": "markdown",
   "metadata": {},
   "source": [
    "**Question 6.5 (3 point):** Now let's create a mask called `mustache_mask` that isolates just the mustache. To do this, simply multiply the `mustache_region_mask` by the `dark_pixel_mask`. \n",
    "\n",
    "Once you have created the `mustache_mask` again using the `~` symbol to turn reverse the `True`'s and `False` and display the mask, which should just contain the mustache (it won't be perfect but should be pretty close).  "
   ]
  },
  {
   "cell_type": "code",
   "execution_count": 31,
   "metadata": {},
   "outputs": [],
   "source": [
    "# create a mask of just mustache by multiplying the rectangular mask with the binary mask\n",
    "\n",
    "\n",
    "# show the mustache_mask\n",
    "\n"
   ]
  },
  {
   "cell_type": "markdown",
   "metadata": {},
   "source": [
    "**Question 6.6 (3 point):** We are now ready to turn Salovey's mustache \"Bulldog blue\". To do this please complete the following steps:\n",
    "\n",
    "1. The code below create a copy of the picture of Salovey and extracts the pixels in the red channel to a matrix called `r_image`. Please also extract the pixels in the blue and green channels to matrices called `g_image` and `b_image`.\n",
    "\n",
    "2. \"Bulldog blue\" has has an RGB value of (0, 47, 108). Use the `mustache_mask` to set the `r_image`, `b_image` and `g_image` pixels values to the RGB values that will make Salovey's mustache blue. The code below shows you to do this for the `r_image` so please just do this for the `b_image` and `g_image`. \n",
    "\n",
    "3. The code below combines the `r_image`, `g_image` and `b_image` matrices together into a single RGB image and displays the image. You do not need to change anything to this code. If your code is correct, then you should see a blue mustache!"
   ]
  },
  {
   "cell_type": "code",
   "execution_count": null,
   "metadata": {},
   "outputs": [],
   "source": [
    "# extract the RGB image channels\n",
    "salovey_mustache = salovey_img.copy()\n",
    "r_image = salovey_mustache[:, :, 0] \n",
    "g_image = ...             # extract the green channel \n",
    "b_image = ...             # extract the blue channel \n",
    "\n",
    "\n",
    "# use the mustache_mask to make the appropriate pixels in the r_image, \n",
    "# b_image, and g_image matrices the appropriate values\n",
    "r_image[mustache_mask] = 0      # set the red channel mustache pixel values to 0\n",
    "g_image = ...                   # set the blue channel mustache pixel values to 47\n",
    "b_image = ...                   # set the green channel mustache pixel values to 108\n",
    "\n",
    "# combine the RGB channels together into a single image and show the result\n",
    "# you do not need to change these lines of code\n",
    "blue_stash = np.dstack((r_image, g_image, b_image))\n",
    "plt.imshow(blue_stash);\n",
    "plt.axis('off');"
   ]
  },
  {
   "cell_type": "markdown",
   "metadata": {},
   "source": [
    "## 7. Reflection (3 points)\n",
    "\n",
    "Please reflect on how the homework went by going to Canvas, going to the Quizzes link, and clicking on Reflection on homework 3.\n"
   ]
  },
  {
   "cell_type": "markdown",
   "metadata": {},
   "source": [
    "## 8. Submission\n",
    "\n",
    "Once you're finished filling in and running all cells, you should submit your assignment as a .pdf on Gradescope. You can access Gradescope through Canvas on the left-side of the class home page. The problems in each homework assignment are numbered. **NOTE:** When submitting on Gradescope, please select the correct pages of your pdf that correspond to each problem. Failure to mark pages correctly will result in points being deducted from your homework score.\n",
    "\n",
    "If you are running Jupyter Notebooks through an Anaconda installation on your own computer, you can produce the .pdf by completing the following steps:  \n",
    "1.  Go to \"File\" at the top-left of your Jupyter Notebook\n",
    "2.  Under \"Download as\" (or \"Save and Export Notebook As...\") and select \"HTML (.html)\"\n",
    "3.  After the .html has downloaded, open it and then select \"File\" and \"Print\" (note you will not actually be printing)\n",
    "4.  From the print window, select the option to save as a .pdf\n",
    "\n",
    "If you are running the assignment in a Google Colabs, you can use the following instructions: \n",
    "1.  Go to \"File\" at the top-left of your Jupyter Notebook and select \"File\" and \"Print\" (note you will not actually be printing)\n",
    "2. From the print window, select the option to save as a .pdf\n",
    "3. Be sure to look over the pdf file to make sure all your code and written work is saved in a clear way.\n"
   ]
  }
 ],
 "metadata": {
  "kernelspec": {
   "display_name": "Python [conda env:ydata123_env_2024a] *",
   "language": "python",
   "name": "conda-env-ydata123_env_2024a-py"
  },
  "language_info": {
   "codemirror_mode": {
    "name": "ipython",
    "version": 3
   },
   "file_extension": ".py",
   "mimetype": "text/x-python",
   "name": "python",
   "nbconvert_exporter": "python",
   "pygments_lexer": "ipython3",
   "version": "3.12.4"
  }
 },
 "nbformat": 4,
 "nbformat_minor": 4
}
