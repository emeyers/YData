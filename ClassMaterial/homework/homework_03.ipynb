{
 "cells": [
  {
   "cell_type": "markdown",
   "metadata": {},
   "source": [
    "# Homework 3: Writing functions\n",
    "\n",
    "Welcome to the third homework! \n",
    "\n",
    "In class we have already used several functions that are built into Python or are imported from different modules/packages. On this homework you will practice writing your own functions that will be helpful solving particular tasks. \n",
    "\n",
    "Please complete this notebook by filling in the cells provided. "
   ]
  },
  {
   "cell_type": "markdown",
   "metadata": {},
   "source": [
    "**Recommended Reading**: \n",
    "\n",
    "* [Functions and Tables](https://inferentialthinking.com/chapters/08/Functions_and_Tables.html) only read the intro selection (that is in the link). \n",
    "\n",
    "For all problems that you must write explanations and sentences for, please provide your answer in the designated space. Moreover, throughout this homework and all future ones, please be sure to not re-assign variables throughout the notebook! For example, if you use `max_temperature` in your answer to one question, do not reassign it later on. \n",
    "\n",
    "**Deadline:**\n",
    "\n",
    "This assignment is due **Sunday February 12th at 11pm.** You can turn in the assignment up to 24 hours late for 90% credit (after that, the homework will only be accepted with a dean's excuse). \n",
    "\n",
    "Directly sharing answers is not okay, but discussing problems with the course staff or with other students is encouraged. Refer to the policies page to learn more about how to learn cooperatively.\n",
    "\n",
    "\n",
    "You should start early so that you have time to get help if you're stuck. The drop-in office hours schedule can be found on [Canvas](https://yale.instructure.com/courses/84847/pages/office-hours).  You can also post questions or start discussions on [Ed Discussion](https://edstem.org/us/courses/30902/discussion/).\n",
    "\n",
    "\n",
    "**Submission:**\n",
    "\n",
    "Submit your assignment as a .pdf on Gradescope. You can access Gradescope through Canvas on the left-side of the class home page. The problems in each homework assignment are numbered. **NOTE:** When submitting on Gradescope, please select the correct pages of your pdf that correspond to each problem. Failure to mark pages correctly will result in points being deducted from your homework score.\n",
    "\n",
    "If you are running Jupyter Notebooks through an Anaconda installation on your own computer, you can produce the .pdf by completing the following steps:  \n",
    "1.  Go to \"File\" at the top-left of your Jupyter Notebook\n",
    "2.  Under \"Download as\", select \"HTML (.html)\"\n",
    "3.  After the .html has downloaded, open it and then select \"File\" and \"Print\" (note you will not actually be printing)\n",
    "4.  From the print window, select the option to save as a .pdf\n",
    "\n",
    "If you are running the assignment in a Google Colabs, you can use the following instructions: \n",
    "1.  Go to \"File\" at the top-left of your Jupyter Notebook and select \"File\" and \"Print\" (note you will not actually be printing)\n",
    "2. From the print window, select the option to save as a .pdf\n",
    "3. Be sure to look over the pdf file to make sure all your code and written work is saved in a clear way. "
   ]
  },
  {
   "cell_type": "markdown",
   "metadata": {},
   "source": [
    "## Getting started\n",
    "\n",
    "In order to complete the homework it is necessary to download a few files. Please run the code below **only once** to download data needed to complete the homework. To run the code, click in the cell below and press the play buttom (or press shift-enter). "
   ]
  },
  {
   "cell_type": "code",
   "execution_count": null,
   "metadata": {},
   "outputs": [],
   "source": [
    "# if you are running this notebook in colabs, please uncomment and run the following two lines\n",
    "# !pip install polars\n",
    "# !pip install https://github.com/emeyers/YData_package/tarball/master"
   ]
  },
  {
   "cell_type": "code",
   "execution_count": null,
   "metadata": {},
   "outputs": [],
   "source": [
    "# Please run this code once to download the files you will need to complete the homework \n",
    "\n",
    "import YData \n",
    "\n",
    "YData.download.download_data(\"ACS_2017_sample_01.csv\")\n",
    "YData.download.download_data(\"dennys.csv\")\n",
    "YData.download.download_data(\"laquinta.csv\")\n",
    "\n",
    "YData.download.download_image(\"mitch.png\")\n",
    "YData.download.download_image(\"sign.jpg\")\n",
    "    "
   ]
  },
  {
   "cell_type": "markdown",
   "metadata": {},
   "source": [
    "## 0. Quote and reaction\n",
    "\n",
    "The analysis code below is a bit long, so we are going to skip the quote and reaction this week. Please get started on the homework soon!  Hopefully the quote and reaction will return next week or the week after..."
   ]
  },
  {
   "cell_type": "code",
   "execution_count": null,
   "metadata": {},
   "outputs": [],
   "source": [
    "# This cell imports functions from packages we will use below.\n",
    "# Please run it each time you load the Jupyter notebook\n",
    "\n",
    "import numpy as np\n",
    "import polars as pl\n",
    "import matplotlib.pyplot as plt\n",
    "\n",
    "%matplotlib inline"
   ]
  },
  {
   "cell_type": "markdown",
   "metadata": {},
   "source": [
    "## 1. Warm up writing functions: removing 7's\n",
    "\n",
    "As a first warm up exercise, let's write a couple of functions that can remove the number 7 from an ndarray of numbers. "
   ]
  },
  {
   "cell_type": "markdown",
   "metadata": {},
   "source": [
    "**Question 1.1 (6 points)** Let's start by writing a funciton `remove_sevens(an_array)` that removes the number 7 from an ndarray of numbers. The function should return an `ndarray` that contains the same values as the input `an_array` but all values of 7 should be removed (so the output `ndarray` potentially has a shorter length). \n",
    "\n",
    "The code to test the function is written below so keep it intact to show that your function works. \n",
    "\n",
    "*Hints:* \n",
    "\n",
    "1. The code inside our function was 1 line long. Boolean filtering could be useful here! \n",
    "\n",
    "2. As a general strategry for writing function, it can be useful to create code that does the basic computations outside of a function. Once the code is working, you can then put the working code inside the function body to turn it into a function.  "
   ]
  },
  {
   "cell_type": "code",
   "execution_count": null,
   "metadata": {},
   "outputs": [],
   "source": [
    "def remove_sevens(an_array):\n",
    "    ...\n",
    "\n",
    "\n",
    "    \n",
    "\n",
    "\n",
    "# Code to test your function (keep as is)\n",
    "\n",
    "my_array = np.array([1, 2, 3, 7, 5, 6, 7, 8, 9])\n",
    "remove_sevens(my_array)\n"
   ]
  },
  {
   "cell_type": "markdown",
   "metadata": {},
   "source": [
    "**Question 1.2 (6 points)** To appreciate NumPy, let's make our lives more difficult and redo the problem without using NumPy. In particular, write a function called `remove_sevens_v2(a_list)` that takes in a list of numbers and removes all 7's from the list. Instead of using NumPy functions, use `for loops`, `if statements`, and `lists`. \n",
    "\n",
    "Your code should return a list rather than an ndarray (since you are not permitted to use NumPy functions). In the answer section below, using 1-3 sentences, describe whether you think NumPy is useful. \n",
    "\n",
    "*Hint*: It will be useful to create an empty list, and to use the `append()` method somewhere inside your function. \n"
   ]
  },
  {
   "cell_type": "code",
   "execution_count": null,
   "metadata": {},
   "outputs": [],
   "source": [
    "def remove_sevens_v2(a_list):\n",
    "    \n",
    "    ...\n",
    "\n",
    "\n",
    "\n",
    "    \n",
    "    \n",
    "\n",
    "    \n",
    "    \n",
    "# Code to test your function (keep as is)\n",
    "\n",
    "my_list = [1, 2, 3, 7, 5, 6, 7, 8, 9]\n",
    "remove_sevens_v2(my_list)\n"
   ]
  },
  {
   "cell_type": "markdown",
   "metadata": {},
   "source": [
    "**Answer**:\n",
    "\n",
    "\n",
    "\n",
    "\n"
   ]
  },
  {
   "cell_type": "markdown",
   "metadata": {},
   "source": [
    "**Question 1.3 (6 points)** Now write a function called `remove_sevens_v3(an_array_or_list)` that removes the number 7 from an ndarray of numbers or a list of numbers. To do this, start with your original function `remove_sevens()` and add one additional line that will make it work for both lists and arrays. The function should return an ndarray.\n",
    "\n",
    "*Hint:*  To make your function work with both lists and ndarrays, the `np.array()` function will be useful. In particular, if `np.array()` is passed a list it will return an ndarray (as we have seen many times before). Also, more importantly here, if `np.array()` is passed an ndarray it just returns the original ndarray. \n",
    "\n",
    "\n"
   ]
  },
  {
   "cell_type": "code",
   "execution_count": null,
   "metadata": {},
   "outputs": [],
   "source": [
    "def remove_sevens_v3(an_array_or_list):\n",
    "    \n",
    "    ...\n",
    "\n",
    "\n",
    "\n",
    "# Code to test your function (keep as is)\n",
    "\n",
    "my_list2 = [21, 22, 23, 7, 25, 26, 7, 28, 29]\n",
    "my_array2 = np.array(my_list2)\n",
    "\n",
    "print(remove_sevens_v3(my_array2))\n",
    "print(remove_sevens_v3(my_list2))"
   ]
  },
  {
   "cell_type": "markdown",
   "metadata": {},
   "source": [
    "## 2.  Warm up writing functions: Distances\n",
    "\n",
    "The \"Euclidean distance\" between two points $(x_1, y_1)$ and $(x_2, y_2)$ is defined as: \n",
    "$dist(x_1, y_1, x_2, y_2) = \\sqrt{(x_1 - x_2)^2 + (y_1 - y_2)^2}$\n",
    "\n",
    "**Question 2.1 (6 points)** Please write a function called `euclid_dist(x1, y1, x2, y2)` that takes in the x and y coordinates from two points, and calculates the distance between these points.  \n",
    "\n",
    "Hint: The body of our function was one line long. \n"
   ]
  },
  {
   "cell_type": "code",
   "execution_count": null,
   "metadata": {},
   "outputs": [],
   "source": [
    "def euclid_dist(x1, y1, x2, y2):\n",
    "    ...\n",
    "\n",
    "\n",
    "    \n",
    "    \n",
    "# Testing your function on a 3, 4, 5 triangle (do not change this code)\n",
    "\n",
    "euclid_dist(0, 0, 3, 4)"
   ]
  },
  {
   "cell_type": "markdown",
   "metadata": {},
   "source": [
    "**Question 2.2 (4 points)** Does the `euclid_dist()` function you wrote above work on ndarrays of points? I.e., suppose you gave it ndarrays of $x_1$, $y_1$, $x_2$, $y_2$, does your function naturally work on multiple points? \n",
    "\n",
    "Using the `array_x1`, `array_y1`, `array_x2`, `array_y2` arrays defined below, test out your function. In the answer section, report whether it works. "
   ]
  },
  {
   "cell_type": "code",
   "execution_count": null,
   "metadata": {},
   "outputs": [],
   "source": [
    "array_x1 = np.arange(1, 6) \n",
    "array_y1 = np.arange(1, 10, 2)\n",
    "array_x2 = np.arange(1, 6)  \n",
    "array_y2 = np.arange(3, 16, 3)\n",
    "\n",
    "\n",
    "# run your code here...\n",
    "\n"
   ]
  },
  {
   "cell_type": "markdown",
   "metadata": {},
   "source": [
    "**Answer**: "
   ]
  },
  {
   "cell_type": "markdown",
   "metadata": {},
   "source": [
    "## 3. Calculating group statistics\n",
    "\n",
    "On homework 1, you used a for loop to calculate statistics separately for two groups; namely, you calculated the mean earned income separately for males and females.\n",
    "\n",
    "Let's now write *a function* that can calculate statistics separately for particular groups. Having this function will make it easier to calculate a range of insightful statistics, including calculating mean incomes separately for males and females. \n",
    "\n",
    "The code below loads the ACS data and creates three ndarrays which are:\n",
    "\n",
    "1. `earned_income`: An ndarray of the earned income from 10,000 randomly sampled participants. \n",
    "2. `sex`: An ndarray of the sex from 10,000 randomly sampled participants. \n",
    "3. `ages`: An ndarray of the age of the 10,000 randomly sampled participants. \n",
    "\n",
    "We will use this data to test the functions that we write.\n"
   ]
  },
  {
   "cell_type": "code",
   "execution_count": null,
   "metadata": {},
   "outputs": [],
   "source": [
    "import polars as pl\n",
    "acs_data1 = pl.read_csv(\"ACS_2017_sample_01.csv\")\n",
    "\n",
    "earned_incomes = np.array(acs_data1[\"INCEARN\"])\n",
    "sex = np.array(acs_data1[\"SEX\"])\n",
    "ages = np.array(acs_data1[\"AGE\"])\n",
    "\n",
    "acs_data1.head()\n"
   ]
  },
  {
   "cell_type": "markdown",
   "metadata": {},
   "source": [
    "**Question 3.1 (8 points)** Let's start by writing a function `get_mean_one_group(data_array, grouping_array, group_value)` that calculates the mean statistic value separately for one particular group that is specified. The input arguments for the function are: \n",
    "\n",
    "1. `data_array`: An ndarray of numerical data. The mean of the data in this array will be computed for one group.\n",
    "\n",
    "2. `grouping_array`: An ndarray that indicates which group each point belongs to (it must be the same length as the `data_array`). \n",
    "\n",
    "3. `group_value`: The group level that that function should calculate the mean for.  \n",
    "\n",
    "As an example of how the code works, to calculate the mean earned income for males (group_level of 1), we would use the following function call: `get_mean_one_group(earned_incomes, sex, 1)`.\n",
    "\n",
    "Please write the function and then use the test code below to show that it correctly calculates the mean income for males.\n",
    "\n",
    "Hint: The code in our function body was 2 lines long. Boolean masking using the `grouping_array` and `group_value` is going to be useful. \n"
   ]
  },
  {
   "cell_type": "code",
   "execution_count": null,
   "metadata": {},
   "outputs": [],
   "source": [
    "def get_mean_one_group(data_array, grouping_array, group_value):\n",
    "    \n",
    "    ...\n",
    "\n",
    "\n",
    "\n",
    "    \n",
    "    \n",
    "    \n",
    "# Testing that the code gives the correct mean income for males (do not change this)\n",
    "\n",
    "get_mean_one_group(earned_incomes, sex, 1)\n"
   ]
  },
  {
   "cell_type": "markdown",
   "metadata": {},
   "source": [
    "**Question 3.2 (8 points)** As we discussed in class, functions can be passed as arguments to other functions. Let's modify the `get_mean_one_group()` we wrote above so that it can calculate any statistic (rather than just the mean) for a particular group.  \n",
    "\n",
    "To do this, write a function `get_statistic_one_group(data_array, grouping_array, group_value, stat_function)` that works in the same way as the `get_mean_one_group()` except that it takes an additional argument called `stat_function` which is a function that will be applied to the data (i.e., this function will be applied to the data from the group of interest). As a default value, set the value of the `stat_function` arg to be `np.mean` so that if the `stat_function` argument is not supplied by the user, the mean will be calculated by default. \n",
    "\n",
    "Hint: our function body was two lines of code. \n"
   ]
  },
  {
   "cell_type": "code",
   "execution_count": null,
   "metadata": {},
   "outputs": [],
   "source": [
    "def get_statistic_one_group(data_array, grouping_array, group_value, stat_function = np.mean):\n",
    "    \n",
    "    ...\n",
    "\n",
    "\n",
    "\n",
    "    \n",
    "    \n",
    "    \n",
    "# Testing that the code gives the correct answers (do not change this)\n",
    "\n",
    "print(get_statistic_one_group(earned_incomes, sex, 1))\n",
    "print(get_statistic_one_group(earned_incomes, sex, 2))\n",
    "\n",
    "print(get_statistic_one_group(earned_incomes, sex, 1, max))\n",
    "print(get_statistic_one_group(earned_incomes, sex, 2, max))\n"
   ]
  },
  {
   "cell_type": "markdown",
   "metadata": {},
   "source": [
    "**Question 3.3 (8 points)** Now let's generalize the function so that it returns a statistic value calculated separately for each group level that is in the `grouping_array` argument (rather than having the user specify which group level that statistic should be calculated on). \n",
    "\n",
    "More specifically, write a function `get_group_statistics(data_array, grouping_array, stat_function = np.mean)`. This function has one less argument than `get_statistic_one_group()` since the user does not need to specific which group to calculate a statistic on because the statistics are calculated for each group. The result that is returned should be a list that has the statistic value calculated on each group. \n",
    "\n",
    "Some hints to solve this problem are: \n",
    "\n",
    "1. The `np.unique()` function will be useful to get all unique group levels. \n",
    "2. A for loop could also be useful here.\n",
    "3. Using the function `get_statistics_one_group()` you wrote above will also be useful. \n",
    "4. The body of our function has 6 lines of code"
   ]
  },
  {
   "cell_type": "code",
   "execution_count": null,
   "metadata": {},
   "outputs": [],
   "source": [
    "\n",
    "def get_group_statistics(data_array, grouping_array, stat_function = np.mean):\n",
    "    \n",
    "    ...\n",
    "    \n",
    "    \n",
    "    \n",
    "    \n",
    "    \n",
    "    \n",
    "    \n",
    "    \n",
    "    \n",
    "    \n",
    "\n",
    "    \n",
    "    \n",
    "\n",
    "# Testing that the code gives the correct answers (do not change this)\n",
    "\n",
    "print(get_group_statistics(earned_incomes, sex))\n",
    "print(get_group_statistics(earned_incomes, sex, max))\n"
   ]
  },
  {
   "cell_type": "markdown",
   "metadata": {},
   "source": [
    "**Question 3.4 (5 points)** One downside of our current `get_group_statistics()` function is that it does not specify which level different results in the list that is returned correspond to. For example, in our first test of the function, we don't know if the first item in the list that is returned corresponds to males or to females. \n",
    "\n",
    "Let's create a function called `get_group_statistics2()` that returns two lists which are: \n",
    "\n",
    "1.  `group_statistics`: The statistic values for each group (this is the same list returned by `get_group_statistics()`)\n",
    "2.  `group_levels`: This is a list that say which level each value in the `group_statistics` list corresponds to. For example, if one ran:  `mean_incomes, group_levels = get_group_statistics2(earned_incomes, sex)`, then `group_levels` would be a list with the values `[1, 2]`). \n",
    "\n",
    "\n",
    "One you have written this function, use the test code which plots the mean earned income as a function of age. \n",
    "\n",
    "Hint: Our code for `get_group_statistics2()` is very similar to our code for `get_group_statistics()`"
   ]
  },
  {
   "cell_type": "code",
   "execution_count": null,
   "metadata": {},
   "outputs": [],
   "source": [
    "def get_group_statistics2(data_array, grouping_array, stat_function = np.mean):\n",
    "    \n",
    "    ...\n",
    "    \n",
    "    \n",
    "    \n",
    "    \n",
    "    \n",
    "    \n",
    "    \n",
    "    \n",
    "    \n",
    "\n",
    "\n",
    "\n",
    "# Testing that the code gives the correct answers (do not change this)\n",
    "\n",
    "mean_incomes, unique_ages = get_group_statistics2(earned_incomes, ages)\n",
    "plt.plot(unique_ages, mean_incomes);\n",
    "plt.xlabel(\"Age\");\n",
    "plt.ylabel(\"Mean earned income ($)\");\n"
   ]
  },
  {
   "cell_type": "markdown",
   "metadata": {},
   "source": [
    "**Question 3.5 (5 points)**  Now use the `get_group_statistics()` function to answer a question of interest on the ACS data. This question could be one of the 3 questions you posed on homework 1, or a different question. Show your code in the cell below, and then describe what you found in the answer cell.\n"
   ]
  },
  {
   "cell_type": "code",
   "execution_count": null,
   "metadata": {},
   "outputs": [],
   "source": [
    "# Analyze the ACS data here to answer another question using the get_group_statistics() funciton\n",
    "\n",
    "\n",
    "\n",
    "\n",
    "\n",
    "\n",
    "\n",
    "\n"
   ]
  },
  {
   "cell_type": "markdown",
   "metadata": {},
   "source": [
    "**Answer** Describe what question you are addressing and what you found...\n",
    "\n",
    "*Question addressed:*\n",
    "\n",
    "\n",
    "*What you found:*\n",
    "\n",
    "\n"
   ]
  },
  {
   "cell_type": "markdown",
   "metadata": {
    "tags": []
   },
   "source": [
    "## 4. La Quinta and Denny's\n",
    "\n",
    "[La Quinta](https://www.wyndhamhotels.com/laquinta/new-haven-connecticut/la-quinta-inn-and-suites-new-haven/overview) is a hotel chain that has locations across the United States. As one can tell, the name of the hotel chain is in Spanish, and a common question that arises is what does \"La Quinta\" translate to in English? \n",
    "\n",
    "The comedian [Mitch Hedberg](https://en.wikipedia.org/wiki/Mitch_Hedberg) claimed it translated to \"Next to Denny's\". But is that accurate? \n",
    "\n",
    "![Mitch Hedberg](mitch.png)\n",
    "\n",
    "The code below loads the location of every La Quinta hotel and every [Denny's restaurant](https://www.dennys.com/) in the United States. In particular, it creates two ndarrays called `dennys_longs` and `dennys_lats` that had the longitude and latitude locations of every Denny's restaurant in the United States, and also creates two more ndarrays called `laquinta_longs` and `laquinta_lats` that had the longitude and latitude locations of every La Quinta hotel in the United States\n",
    "\n",
    "Let's use this data to examine whether \"La Quinta is Spanish for next to Denny's\" is an accurate statement by calculating the distance from each La Quinta location to the closest Denny's restuarant. \n",
    "\n",
    "Credit: Several authors have contributed to the framing of this data science problem including material analyses by [John Reiser](http://njgeo.org/2014/01/30/mitch-hedberg-and-gis/) and [Mine Cetinkaya-Rundel](https://datasciencebox.org/course-materials/lab-instructions/lab-04/lab-04-viz-sp-data.html)\n",
    "\n"
   ]
  },
  {
   "cell_type": "code",
   "execution_count": null,
   "metadata": {},
   "outputs": [],
   "source": [
    "dennys = pl.read_csv(\"dennys.csv\")\n",
    "print(dennys.shape)\n",
    "dennys_longs = np.array(dennys[\"longitude\"])\n",
    "dennys_lats = np.array(dennys[\"latitude\"])\n",
    "dennys.head()"
   ]
  },
  {
   "cell_type": "code",
   "execution_count": null,
   "metadata": {},
   "outputs": [],
   "source": [
    "laquinta = pl.read_csv(\"laquinta.csv\")\n",
    "print(laquinta.shape)\n",
    "laquinta_longs = np.array(laquinta[\"longitude\"])\n",
    "laquinta_lats = np.array(laquinta[\"latitude\"])\n",
    "laquinta.head()"
   ]
  },
  {
   "cell_type": "markdown",
   "metadata": {},
   "source": [
    "**Question 4.1 (8 points)**. In order to get the distance between two geographic locations (such as a La Quinta hotel and Denny's restaurant), we need a function that can compute spatial distances. While the Euclidean distance function we created above is good for calculating distances on a flat plane, the Earth is round and thus the Euclidean distance is not an appropriate measure to use (although some people would disagree and say the [earth is flat](https://www.imdb.com/title/tt8132700/)). \n",
    "\n",
    "In order to calculate the distance between longitude and latitude coordinates on a sphere, we can use the [Haversine formula](https://en.wikipedia.org/wiki/Haversine_formula).  Let's write a function called `haversine_dist(long1, lat1, long2, lat2, precision = 3)` which takes in two geographic coordinates `(long1, lat1)` and `(long2, lat2)` and calculates the geographical distance between the points using the Haversine formula. Your function should do the following: \n",
    "\n",
    "1. Convert all the longitude and latitude coordinates into radians by multiplying the original coordinates by $\\pi/180$. In your function, you can do this multiplication and then save the results back into the original argument names of `long1`, `lat1`, `long2`, `lat2`. Hint: `math.pi` could be useful here.\n",
    "\n",
    "2. Calculate a value `a` using the formula:  $a ~ = ~ sin^2((lat_2 - lat_1)/2) + cos(lat_1) \\cdot cos(lat_2) \\cdot sin^2((long_2 - long_1)/2)$. Note: that $sin^2$ is the value you get by taking the sine of an number and then squaring the results. The functions `np.sin()`, `np.cos()` and `np.arcsin()` will be useful for this problem (be sure to use these NumPy rather than functions from other modules). \n",
    "\n",
    "3. Calculate the distance in kilometers using the formula: $d = R \\cdot 2 \\cdot arcsin(\\sqrt{a})$, where R is the radius of the Earth in kilometers and is equal to a value of 6371.\n",
    "\n",
    "4. Convert the distance from kilometers to miles by multiplying the distance in kilometers by the constant 0.621371.\n",
    "\n",
    "5. Return the results rounded to the number of decimal places given by the `precision` argument (as you can see in the function definition, the default value is 3). \n",
    "\n",
    "Once you have written the function use the test code below to print the distance between the first La Quinta and the first Denny's (by first La Quinta, we mean the La Quinta at index 0). The code also prints out the addresses of these locations which you will use in the next question. \n"
   ]
  },
  {
   "cell_type": "code",
   "execution_count": null,
   "metadata": {},
   "outputs": [],
   "source": [
    "import math\n",
    "\n",
    "def haversine_dist(long1, lat1, long2, lat2, precision = 3):\n",
    "    \n",
    "    \n",
    "    \n",
    "    ...\n",
    "\n",
    "\n",
    "    \n",
    "    \n",
    "    \n",
    "    \n",
    "    \n",
    "    \n",
    "    \n",
    "    \n",
    "\n",
    "\n",
    "    \n",
    "    \n",
    "    \n",
    "# Testing that the code gives the correct answers (do not change this)\n",
    "\n",
    "\n",
    "print(\"\\nFirst La Quinta address:  \" + laquinta[\"address\"][0] + \", \" + laquinta[\"city\"][0] \n",
    "      + \", \" + laquinta[\"state\"][0] + \", \" + str(laquinta[\"zip\"][0]) + \"\\n\")\n",
    "\n",
    "print(\"First Denny's address:  \" + dennys[\"address\"][0] + \", \" + dennys[\"city\"][0] \n",
    "      + \", \" + dennys[\"state\"][0] + \", \" + str(dennys[\"zip\"][0]) + \"\\n\")\n",
    "\n",
    "print(\"Calculated distance:    \"  + \n",
    "      str(haversine_dist(laquinta_longs[0], laquinta_lats[0], dennys_longs[0], dennys_lats[0])) + \" miles\")\n"
   ]
  },
  {
   "cell_type": "markdown",
   "metadata": {},
   "source": [
    "**Question 4.2 (4 points)** Almost any time you write a function, you should immediately check that it is working correctly. When developing complex software, one usually writes \"unit tests\" which consists of a separate set of functions that test that your code/function is working correctly. Here, we will not be so formal as to write unit tests. However, let's check that our function is given reasonable answers by comparing the results that it returns to the results one gets from using Google maps. \n",
    "\n",
    "The code to test your `haversine_dist()` function in the previous question calculates the distance between the first La Quinta location in our data set, and the first Denny's location in our data set, and it also prints the addresses of the first La Quinta location and the first Denny's location. Using this address information, please do the following to get the distance between the first La Quinta and the first Denny's from Google maps:\n",
    "\n",
    "1. Go to [Google maps](https://www.google.com/maps/) and get the driving directions between the first La Quinta and the first Denny's using the address information shwon in the previous problem. \n",
    "\n",
    "2. Right click on the La Quinta location in MD, and select \"Measure Distance\" from the bottom of the dropdown menu. \n",
    "\n",
    "3. Click on the location of the Denny's.\n",
    "\n",
    "4. The distance between the locations should be shown near the bottom of the map. \n",
    "\n",
    "5. In the the answer section below, please report what Google maps says the distance between these locations is, and comment on how well the `haversine_dist()` function you wrote above is working. \n",
    "\n",
    "\n",
    "Hint: your `haversine_dist()` function and the Google maps results should differ by less than 10 miles. If it is off by more than this, please fix your `haversine_dist()` function before going on to the next question. \n"
   ]
  },
  {
   "cell_type": "markdown",
   "metadata": {},
   "source": [
    "**Answer** \n"
   ]
  },
  {
   "cell_type": "markdown",
   "metadata": {},
   "source": [
    "**Question 4.3 (5 points)** Now use your `haversine_dist()` to calculate the distance between the first La Quinta and *all* the Denny's in the data set, and save the results to the name `first_la_quinta_distances`.  If you have implemented your `haversine_dist()` correctly using NumPy, you should be able to call the `haversine_dist()` with the longitude and latitude of the first La Quinta, and the ndarrays of all the denny's longitudes and latitudes (i.e., your code to get all the distances should be one line long). Also print out the first 10 distances to show that your code is working correctly."
   ]
  },
  {
   "cell_type": "code",
   "execution_count": null,
   "metadata": {},
   "outputs": [],
   "source": [
    "# get the distances between the first La Quinta and all the Denny's locations\n",
    "\n",
    "\n",
    "\n",
    "# print out the first 10 distances to show your code is working correctly\n",
    "\n",
    "\n"
   ]
  },
  {
   "cell_type": "markdown",
   "metadata": {},
   "source": [
    "**Question 4.4 (6 points)** Let's create a function callled `dist_closest_dennys(long, lat)` that takes a longitude and a latitude location and returns the distance to the closest Denny's (of all the Denny's in the United States). \n",
    "\n",
    "\n",
    "Once you have written this code, show that you code is working by printing:\n",
    "\n",
    "1. The distance between the first La Quinta and the closest Denny's.\n",
    "\n",
    "2. The distance to the closest Denny's from our classroom at Yale. \n",
    "\n",
    "Also take a moment to appreciate what you have done. No matter where you are in the USA, you can now run this code to know how far away you are from a Denny's. \n",
    "\n",
    "\n",
    "Hints: Functions can access data that is outside their function body (e.g., your function can access the data in the `dennys_longs` and `dennys_lats` ndarrays without needed to pass them as arguments). Our function body consisted of two lines of code.\n",
    "\n",
    "Note: Unfortunately, the closest Denny's in the data set to our classroom has closed :(.  Perhaps later in the semester we can learn out to scrape the data from the internet to get a more updated Denny's list, and/or we can work together to try to reopen that Denny's. "
   ]
  },
  {
   "cell_type": "code",
   "execution_count": null,
   "metadata": {},
   "outputs": [],
   "source": [
    "def dist_closest_dennys(long, lat):\n",
    "    \n",
    "    ...\n",
    "\n",
    "\n",
    "\n",
    "    \n",
    "# Print the distance from the first La Quinta to the closest Denny's\n",
    "\n",
    "\n",
    "\n",
    "# Print the from our classroom at Yale to the closest Denny's\n",
    "\n"
   ]
  },
  {
   "cell_type": "markdown",
   "metadata": {},
   "source": [
    "**Question 4.5 (6 points):**  We are now getting significantly closer to ruining Mitch Hedberg's joke! (if we haven't already ruined it). Let's continue with our analysis by using a for loop to calculate distance between each La Quinta and the its closest Denny's. Store the result in a list named `distances_to_dennys`. To show your code is working correctly, print the first 10 elements in this list which should correspond to the distanece to the first 10 La Quinta's in our ndarrays of La Quinta longitudes and latitudes. \n",
    "\n",
    "Hint: Our code below consisted of 4 lines including the line to print the first 10 distances.\n"
   ]
  },
  {
   "cell_type": "code",
   "execution_count": null,
   "metadata": {},
   "outputs": [],
   "source": [
    "# Calculate the distance between all La Quintas and their closest Denny's\n",
    "\n",
    "\n",
    "\n",
    "\n",
    "\n",
    "\n",
    "\n",
    "\n",
    "\n",
    "# print the distances to the closest Denny's for the first 10 La Quintas\n",
    "\n",
    "\n"
   ]
  },
  {
   "cell_type": "markdown",
   "metadata": {},
   "source": [
    "**Question 4.6 (5 points):** Let's now create some summary statistics and visualization of these distances. \n",
    "\n",
    "Use the code below to plot a histogram of distances between all La Quinta's and their closest Denny's. Also, in the answer section, please answer these questions (and in the code section below print out statistics that support your answers):\n",
    "\n",
    "1. In feet, what is the closest distance between a La Quinta and a Denny's?  \n",
    "2. In miles, what is the furthest distance between a La Quinta and a Denny's?  \n",
    "3. In miles, what is the mean and median distance between a La Quinta and a Denny's?  \n",
    "4. Based on the histogram of the data, does it make sense that the mean distance would be larger than the median distance? In 1-3 sentences, explain why. \n"
   ]
  },
  {
   "cell_type": "code",
   "execution_count": null,
   "metadata": {},
   "outputs": [],
   "source": [
    "plt.hist(distances_to_dennys, bins = 30, edgecolor = \"black\");\n",
    "plt.xlabel(\"Distance (miles)\");\n",
    "plt.ylabel(\"Count\");\n",
    "\n",
    "\n",
    "\n",
    "# print out statistics that support answers to the questions posed.\n",
    "\n",
    "# 1. In feet, the distance between the La Quinta and Denny's that are closest together\n",
    "\n",
    "\n",
    "\n",
    "# 2. In miles, the furthest distance between a La Quinta and a Denny's\n",
    "\n",
    "\n",
    "\n",
    "# 3. In miles, the mean and median distance between a La Quinta and a Denny's\n",
    "\n",
    "\n",
    "\n"
   ]
  },
  {
   "cell_type": "markdown",
   "metadata": {},
   "source": [
    "**Answers**\n",
    "\n",
    "1.\n",
    "\n",
    "2. \n",
    "\n",
    "3.  \n",
    "\n",
    "4. \n",
    "\n",
    "</font>\n"
   ]
  },
  {
   "cell_type": "markdown",
   "metadata": {},
   "source": [
    "**Question 4.7 (5 points):**  Finally, please answer the following questions: \n",
    "\n",
    "1. Describe whether Mitch's joke has some truth to it; i.e., is it really the case that La Quintas are close to Denny's?   \n",
    "\n",
    "2. Briefly describe whether there are other analyses that would be good to do to better assess whether it is true that La Quinta's are close to Denny's. \n",
    "\n",
    "3. Briefly describe other questions that would be interesting to know the answer given the data and/or given the results you have. \n",
    "\n"
   ]
  },
  {
   "cell_type": "markdown",
   "metadata": {},
   "source": [
    "**Answers**\n",
    "\n",
    "1. \n",
    "\n",
    "   \n",
    "2. \n",
    "\n",
    "\n",
    "\n",
    "3. \n",
    "\n",
    "\n"
   ]
  },
  {
   "cell_type": "markdown",
   "metadata": {},
   "source": [
    "<img src=\"sign.jpg\" width=\"300\"/>"
   ]
  },
  {
   "cell_type": "markdown",
   "metadata": {},
   "source": [
    "## 5. Reflection (3 points)\n",
    "\n",
    "Please reflect on how the homework went by going to Canvas, going to the Quizzes link, and clicking on \n",
    "reflection on homework 3.\n"
   ]
  },
  {
   "cell_type": "markdown",
   "metadata": {},
   "source": [
    "## 6. Submission\n",
    "\n",
    "Once you're finished, submit your assignment as a .pdf on Gradescope using the instructions described at the top of this assignment. "
   ]
  }
 ],
 "metadata": {
  "kernelspec": {
   "display_name": "Python 3 (ipykernel)",
   "language": "python",
   "name": "python3"
  },
  "language_info": {
   "codemirror_mode": {
    "name": "ipython",
    "version": 3
   },
   "file_extension": ".py",
   "mimetype": "text/x-python",
   "name": "python",
   "nbconvert_exporter": "python",
   "pygments_lexer": "ipython3",
   "version": "3.11.0"
  }
 },
 "nbformat": 4,
 "nbformat_minor": 4
}
