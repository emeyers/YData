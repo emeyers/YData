{
 "cells": [
  {
   "cell_type": "markdown",
   "metadata": {
    "id": "wwEejIX7UpRY"
   },
   "source": [
    "# Homework 0: Running Jupyter Notebooks\n",
    "\n",
    "The purpose of this homework is to test whether you are able to run Jupyter Notebooks by either using Google Colabs or through installing Anaconda on your own computer. The only **\"work\"** on this homework is to run all the cells in this notebook. If you have a working Python environment with the `datascience` package installed, you should not see any error messages as you run the cells below. If you do encounter error messages, please try to debug by going to office hours and asking on [Ed Discussion](https://edstem.org/us/courses/30902/discussion/).\n",
    "\n",
    "Instructions for how to install an Anaconda environment with the class packages on your own computer [can be found here](https://yale.instructure.com/courses/84847/pages/installing-anaconda). You can also run Jupyter notebooks using [Google Colaboratory](https://colab.research.google.com/) which might be the easiest option. \n",
    "\n",
    "\n",
    "\n"
   ]
  },
  {
   "cell_type": "markdown",
   "metadata": {
    "id": "Gkzwp2PvUpRb"
   },
   "source": [
    "**Deadline:**\n",
    "\n",
    "This assignment will not be turned in. However, you should try to complete it before Wednesday February 2nd to make sure that you have everything working in advance of working on the first homework. \n",
    "\n",
    "If you run into technical difficulties, the drop-in office hours schedule can be found on [Canvas](https://yale.instructure.com/courses/84847/pages/office-hours).  You can also post questions or start discussions on [Ed Discussion](https://edstem.org/us/courses/30902/discussion/).\n",
    "\n",
    "**Submission:**\n",
    "\n",
    "You will not submit this assignment. However you should be sure you can save the results from running this Jupyter Notebook as a .pdf on your computer. For actual homework assignments, you will upload a .pdf of your homework to Gradescope. \n",
    "\n"
   ]
  },
  {
   "cell_type": "markdown",
   "metadata": {},
   "source": [
    "# Note if you are using Google colabs\n",
    "\n",
    "If you are using google colabs, please uncomment the lines below by deleting the the `#` symbols and then run the command below by pressing the play button. If you are using anaconda, you can ignore the code below. \n"
   ]
  },
  {
   "cell_type": "code",
   "execution_count": null,
   "metadata": {},
   "outputs": [],
   "source": [
    "# !pip install polars\n",
    "# !pip install https://github.com/emeyers/YData_package/tarball/master\n",
    "# from google.colab import drive\n",
    "# drive.mount('/content/drive')"
   ]
  },
  {
   "cell_type": "markdown",
   "metadata": {
    "id": "sZjcbZhyUpRc"
   },
   "source": [
    "## Problem 1 "
   ]
  },
  {
   "cell_type": "code",
   "execution_count": null,
   "metadata": {
    "executionInfo": {
     "elapsed": 165,
     "status": "ok",
     "timestamp": 1642478776823,
     "user": {
      "displayName": "Ethan Meyers",
      "photoUrl": "https://lh3.googleusercontent.com/a/default-user=s64",
      "userId": "07248665459445774281"
     },
     "user_tz": 300
    },
    "id": "rEoSoYrlUpRc"
   },
   "outputs": [],
   "source": [
    "# This cell contains code that hasn't yet been covered in the course.\n",
    "# Make sure to run this cell and all cells below.\n",
    "\n",
    "from datascience import *\n",
    "import polars as pl\n",
    "import numpy as np"
   ]
  },
  {
   "cell_type": "markdown",
   "metadata": {
    "id": "nSGlMUitUpRd"
   },
   "source": [
    "## Problem 2"
   ]
  },
  {
   "cell_type": "code",
   "execution_count": null,
   "metadata": {
    "colab": {
     "base_uri": "https://localhost:8080/"
    },
    "executionInfo": {
     "elapsed": 3,
     "status": "ok",
     "timestamp": 1642478708732,
     "user": {
      "displayName": "Ethan Meyers",
      "photoUrl": "https://lh3.googleusercontent.com/a/default-user=s64",
      "userId": "07248665459445774281"
     },
     "user_tz": 300
    },
    "id": "p36i4XbHUpRe",
    "outputId": "8eaa0df8-673c-453d-d8ec-480f7476dc67"
   },
   "outputs": [],
   "source": [
    "print(\"The ratio of a circle's perimeter to its diameter is %.15f...\" % np.pi)"
   ]
  },
  {
   "cell_type": "markdown",
   "metadata": {
    "id": "y_-NZGlcUpRe"
   },
   "source": [
    "## Problem 3\n"
   ]
  },
  {
   "cell_type": "code",
   "execution_count": null,
   "metadata": {
    "colab": {
     "base_uri": "https://localhost:8080/",
     "height": 143
    },
    "executionInfo": {
     "elapsed": 185,
     "status": "ok",
     "timestamp": 1642478712837,
     "user": {
      "displayName": "Ethan Meyers",
      "photoUrl": "https://lh3.googleusercontent.com/a/default-user=s64",
      "userId": "07248665459445774281"
     },
     "user_tz": 300
    },
    "id": "x_9CC4VKUpRe",
    "outputId": "881eefe7-1605-416f-ad5a-a75957bcf303"
   },
   "outputs": [],
   "source": [
    "table = Table()\n",
    "table['Easy as'] = [1,2,3]\n",
    "table"
   ]
  },
  {
   "cell_type": "markdown",
   "metadata": {},
   "source": [
    "## Problem 4"
   ]
  },
  {
   "cell_type": "code",
   "execution_count": null,
   "metadata": {},
   "outputs": [],
   "source": [
    "df = pl.DataFrame(\n",
    "    {\n",
    "        \"a\": [1, 2, 3, 4],\n",
    "        \"b\": [0.5, 4, 10, 13],\n",
    "        \"c\": [True, True, False, True],\n",
    "     }\n",
    ")\n",
    "\n",
    "df"
   ]
  },
  {
   "cell_type": "markdown",
   "metadata": {
    "id": "h_t-9kUXUpRf"
   },
   "source": [
    "## Submission"
   ]
  },
  {
   "cell_type": "markdown",
   "metadata": {
    "id": "HEaBUhQvUpRg"
   },
   "source": [
    "Once you're finished running all cells, save this notebook to save as a .pdf file to practice converting Jupyter Notebookst to pdf documents. To save the document as a .pdf file, please use the following steps: \n",
    "\n",
    "**If you are running Jupyter Notebooks through an Anaconda installation on your own computer, you can produce the .pdf by completing the following steps:** \n",
    "1.  Go to \"File\" at the top-left of your Jupyter Notebook\n",
    "2.  Under \"Download as\", select \"HTML (.html)\"\n",
    "3.  After the .html has downloaded, open it and then select \"File\" and \"Print\" (note you will not actually be printing)\n",
    "4.  From the print window, select the option to save as a .pdf\n",
    "\n",
    "**If you are running the assignment in a Google Colabs, you can use the following instructions:** \n",
    "1.  Go to \"File\" at the top-left of your Jupyter Notebook and select \"File\" and \"Print\" (note you will not actually be printing)\n",
    "2. From the print window, select the option to save as a .pdf\n",
    "3. Be sure to look over the pdf file to make sure all your code and written work is saved in a clear way. \n",
    "\n"
   ]
  }
 ],
 "metadata": {
  "colab": {
   "name": "hw00.ipynb",
   "provenance": []
  },
  "kernelspec": {
   "display_name": "Python 3 (ipykernel)",
   "language": "python",
   "name": "python3"
  },
  "language_info": {
   "codemirror_mode": {
    "name": "ipython",
    "version": 3
   },
   "file_extension": ".py",
   "mimetype": "text/x-python",
   "name": "python",
   "nbconvert_exporter": "python",
   "pygments_lexer": "ipython3",
   "version": "3.11.0"
  }
 },
 "nbformat": 4,
 "nbformat_minor": 4
}
