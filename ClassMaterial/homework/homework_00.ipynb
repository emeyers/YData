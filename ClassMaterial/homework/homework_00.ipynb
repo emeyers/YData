{
 "cells": [
  {
   "cell_type": "raw",
   "metadata": {
    "deletable": false,
    "editable": false,
    "raw_mimetype": "",
    "slideshow": {
     "slide_type": ""
    },
    "tags": [
     "hide-input"
    ]
   },
   "source": [
    "---\n",
    "title: \"Homework 0: Running Jupyter Notebooks\"\n",
    "format: \n",
    "  pdf: \n",
    "    include-in-header: \n",
    "      - text: |\n",
    "          \\usepackage{fvextra}\n",
    "          \\DefineVerbatimEnvironment{Highlighting}{Verbatim}{breaklines,commandchars=\\\\\\{\\}} \n",
    "---"
   ]
  },
  {
   "cell_type": "markdown",
   "metadata": {
    "id": "wwEejIX7UpRY"
   },
   "source": [
    "# Welcome to homework 0\n",
    "\n",
    "The purpose of this homework is to test whether you are able to run Jupyter Notebooks on the YCRC Jupyter Notebook server. The only **\"work\"** on this homework is to run all the cells in this notebook. If the Python environment is working, you should not see any error messages as you run the cells below. If you do encounter error messages, please try to debug by going to office hours and asking on Ed Discussion.\n",
    "\n",
    "As an alternative to using the Yale's YCRC server, it is possible to run Jupyter notebooks using [Google Colaboratory](https://colab.research.google.com/), or you can try to install the packages needed for this class on your own computer using Anaconda or uv. However, to start with, with strongly recommend you use the YCRC Jupyter Notebook server, and later in the semester we can discuss other Jupyter notebook options. \n"
   ]
  },
  {
   "cell_type": "markdown",
   "metadata": {
    "id": "Gkzwp2PvUpRb",
    "jp-MarkdownHeadingCollapsed": true
   },
   "source": [
    "### Deadline\n",
    "\n",
    "This assignment will not be turned in. However, you should try to complete it before next Tuesday's class to make sure that you have everything working in advance of working on the first homework. If you run into technical difficulties, the drop-in office hours schedule can be found on Canvas.  You can also post questions or start discussions on Ed Discussion.\n",
    "\n",
    "### Submission\n",
    "\n",
    "You will not submit this assignment. However you should be sure you can save the results from running this Jupyter Notebook as a .pdf on your computer. For actual homework assignments, you will upload a .pdf of your homework to Gradescope. \n",
    "\n"
   ]
  },
  {
   "cell_type": "markdown",
   "metadata": {},
   "source": [
    "# Note if you are using Google colabs\n",
    "\n",
    "If you are using google colabs, please uncomment the lines below by deleting the the `#` symbols and then run the command below by pressing the play button. If you are using anaconda, you can ignore the code below. \n"
   ]
  },
  {
   "cell_type": "code",
   "execution_count": 1,
   "metadata": {},
   "outputs": [],
   "source": [
    "# !pip install https://github.com/emeyers/YData_package/tarball/master\n",
    "# from google.colab import drive\n",
    "# drive.mount('/content/drive')"
   ]
  },
  {
   "cell_type": "markdown",
   "metadata": {
    "id": "sZjcbZhyUpRc"
   },
   "source": [
    "## Problem 1 "
   ]
  },
  {
   "cell_type": "code",
   "execution_count": 2,
   "metadata": {
    "executionInfo": {
     "elapsed": 165,
     "status": "ok",
     "timestamp": 1642478776823,
     "user": {
      "displayName": "Ethan Meyers",
      "photoUrl": "https://lh3.googleusercontent.com/a/default-user=s64",
      "userId": "07248665459445774281"
     },
     "user_tz": 300
    },
    "id": "rEoSoYrlUpRc"
   },
   "outputs": [],
   "source": [
    "# This cell contains code that hasn't yet been covered in the course.\n",
    "# Make sure to run this cell and all cells below.\n",
    "\n",
    "import pandas as pd\n",
    "import numpy as np"
   ]
  },
  {
   "cell_type": "markdown",
   "metadata": {
    "id": "nSGlMUitUpRd"
   },
   "source": [
    "## Problem 2"
   ]
  },
  {
   "cell_type": "code",
   "execution_count": 3,
   "metadata": {
    "colab": {
     "base_uri": "https://localhost:8080/"
    },
    "executionInfo": {
     "elapsed": 3,
     "status": "ok",
     "timestamp": 1642478708732,
     "user": {
      "displayName": "Ethan Meyers",
      "photoUrl": "https://lh3.googleusercontent.com/a/default-user=s64",
      "userId": "07248665459445774281"
     },
     "user_tz": 300
    },
    "id": "p36i4XbHUpRe",
    "outputId": "8eaa0df8-673c-453d-d8ec-480f7476dc67"
   },
   "outputs": [
    {
     "name": "stdout",
     "output_type": "stream",
     "text": [
      "The ratio of a circle's perimeter to its diameter is 3.141592653589793...\n"
     ]
    }
   ],
   "source": [
    "print(\"The ratio of a circle's perimeter to its diameter is %.15f...\" % np.pi)"
   ]
  },
  {
   "cell_type": "markdown",
   "metadata": {
    "id": "y_-NZGlcUpRe"
   },
   "source": [
    "## Problem 3\n"
   ]
  },
  {
   "cell_type": "code",
   "execution_count": 4,
   "metadata": {
    "colab": {
     "base_uri": "https://localhost:8080/",
     "height": 143
    },
    "executionInfo": {
     "elapsed": 185,
     "status": "ok",
     "timestamp": 1642478712837,
     "user": {
      "displayName": "Ethan Meyers",
      "photoUrl": "https://lh3.googleusercontent.com/a/default-user=s64",
      "userId": "07248665459445774281"
     },
     "user_tz": 300
    },
    "id": "x_9CC4VKUpRe",
    "outputId": "881eefe7-1605-416f-ad5a-a75957bcf303"
   },
   "outputs": [
    {
     "data": {
      "text/html": [
       "<div>\n",
       "<style scoped>\n",
       "    .dataframe tbody tr th:only-of-type {\n",
       "        vertical-align: middle;\n",
       "    }\n",
       "\n",
       "    .dataframe tbody tr th {\n",
       "        vertical-align: top;\n",
       "    }\n",
       "\n",
       "    .dataframe thead th {\n",
       "        text-align: right;\n",
       "    }\n",
       "</style>\n",
       "<table border=\"1\" class=\"dataframe\">\n",
       "  <thead>\n",
       "    <tr style=\"text-align: right;\">\n",
       "      <th></th>\n",
       "      <th>Easy as</th>\n",
       "    </tr>\n",
       "  </thead>\n",
       "  <tbody>\n",
       "    <tr>\n",
       "      <th>0</th>\n",
       "      <td>1</td>\n",
       "    </tr>\n",
       "    <tr>\n",
       "      <th>1</th>\n",
       "      <td>2</td>\n",
       "    </tr>\n",
       "    <tr>\n",
       "      <th>2</th>\n",
       "      <td>3</td>\n",
       "    </tr>\n",
       "  </tbody>\n",
       "</table>\n",
       "</div>"
      ],
      "text/plain": [
       "   Easy as\n",
       "0        1\n",
       "1        2\n",
       "2        3"
      ]
     },
     "execution_count": 4,
     "metadata": {},
     "output_type": "execute_result"
    }
   ],
   "source": [
    "table = pd.DataFrame({'Easy as': [1, 2, 3]})\n",
    "table"
   ]
  },
  {
   "cell_type": "markdown",
   "metadata": {},
   "source": [
    "## Problem 4"
   ]
  },
  {
   "cell_type": "code",
   "execution_count": 5,
   "metadata": {},
   "outputs": [
    {
     "data": {
      "text/html": [
       "<div>\n",
       "<style scoped>\n",
       "    .dataframe tbody tr th:only-of-type {\n",
       "        vertical-align: middle;\n",
       "    }\n",
       "\n",
       "    .dataframe tbody tr th {\n",
       "        vertical-align: top;\n",
       "    }\n",
       "\n",
       "    .dataframe thead th {\n",
       "        text-align: right;\n",
       "    }\n",
       "</style>\n",
       "<table border=\"1\" class=\"dataframe\">\n",
       "  <thead>\n",
       "    <tr style=\"text-align: right;\">\n",
       "      <th></th>\n",
       "      <th>a</th>\n",
       "      <th>b</th>\n",
       "      <th>c</th>\n",
       "    </tr>\n",
       "  </thead>\n",
       "  <tbody>\n",
       "    <tr>\n",
       "      <th>0</th>\n",
       "      <td>1</td>\n",
       "      <td>0.5</td>\n",
       "      <td>True</td>\n",
       "    </tr>\n",
       "    <tr>\n",
       "      <th>1</th>\n",
       "      <td>2</td>\n",
       "      <td>4.0</td>\n",
       "      <td>True</td>\n",
       "    </tr>\n",
       "    <tr>\n",
       "      <th>2</th>\n",
       "      <td>3</td>\n",
       "      <td>10.0</td>\n",
       "      <td>False</td>\n",
       "    </tr>\n",
       "    <tr>\n",
       "      <th>3</th>\n",
       "      <td>4</td>\n",
       "      <td>13.0</td>\n",
       "      <td>True</td>\n",
       "    </tr>\n",
       "  </tbody>\n",
       "</table>\n",
       "</div>"
      ],
      "text/plain": [
       "   a     b      c\n",
       "0  1   0.5   True\n",
       "1  2   4.0   True\n",
       "2  3  10.0  False\n",
       "3  4  13.0   True"
      ]
     },
     "execution_count": 5,
     "metadata": {},
     "output_type": "execute_result"
    }
   ],
   "source": [
    "df = pd.DataFrame(\n",
    "    {\n",
    "        \"a\": [1, 2, 3, 4],\n",
    "        \"b\": [0.5, 4, 10, 13],\n",
    "        \"c\": [True, True, False, True],\n",
    "     }\n",
    ")\n",
    "\n",
    "df"
   ]
  },
  {
   "cell_type": "markdown",
   "metadata": {
    "id": "h_t-9kUXUpRf"
   },
   "source": [
    "## Submission\n",
    "\n",
    "Once you're finished running all cells, you can convert this Jupyter notebook to a pdf document by running the command in the cell below.\n",
    "\n",
    "**Note**: running the cell below will print several messages about pandoc, metadata, etc., which you can ignore (in the real homework, this output will be suppressed so that it will not show up in your homework) . If the code has executed correctly, the last line should read: `Output created: homework_00.pdf`. If you refresh the files tab (by clicking on the `/homework_00/` in the upper left of the fiels tab), you should also see a file called `homework_00.pdf`. If you click on this file, your homework_00.pdf will be displayed. For real homework assignments, this pdf file would be the file you would upload to Gradescope to get graded.  \n"
   ]
  },
  {
   "cell_type": "code",
   "execution_count": 6,
   "metadata": {},
   "outputs": [
    {
     "name": "stdout",
     "output_type": "stream",
     "text": [
      "\u001b[1mpandoc \u001b[22m\n",
      "  to: latex\n",
      "  output-file: homework_00.tex\n",
      "  standalone: true\n",
      "  pdf-engine: xelatex\n",
      "  variables:\n",
      "    graphics: true\n",
      "    tables: true\n",
      "  default-image-extension: pdf\n",
      "  \n",
      "\u001b[1mmetadata\u001b[22m\n",
      "  documentclass: scrartcl\n",
      "  classoption:\n",
      "    - DIV=11\n",
      "    - numbers=noendperiod\n",
      "  papersize: letter\n",
      "  header-includes:\n",
      "    - \\KOMAoption{captions}{tableheading}\n",
      "  block-headings: true\n",
      "  title: 'Homework 0: Running Jupyter Notebooks'\n",
      "  \n",
      "\u001b[1m\u001b[34m\n",
      "Rendering PDF\u001b[39m\u001b[22m\n",
      "\u001b[1m\u001b[34mrunning xelatex - 1\u001b[39m\u001b[22m\n",
      "  This is XeTeX, Version 3.141592653-2.6-0.999997 (TeX Live 2025) (preloaded format=xelatex)\n",
      "   restricted \\write18 enabled.\n",
      "  entering extended mode\n",
      "  \n",
      "\u001b[1m\u001b[34mrunning xelatex - 2\u001b[39m\u001b[22m\n",
      "  This is XeTeX, Version 3.141592653-2.6-0.999997 (TeX Live 2025) (preloaded format=xelatex)\n",
      "   restricted \\write18 enabled.\n",
      "  entering extended mode\n",
      "  \n",
      "\n",
      "Output created: homework_00.pdf\n",
      "\n"
     ]
    }
   ],
   "source": [
    "# %%capture\n",
    "\n",
    "!quarto render homework_00.ipynb --to pdf"
   ]
  },
  {
   "cell_type": "markdown",
   "metadata": {
    "id": "HEaBUhQvUpRg"
   },
   "source": [
    "### Alternative ways to create a pdf document\n",
    "\n",
    "If running the command in the cell above did not successfully create a pdf document, some alternative methods are: \n",
    "\n",
    "**If you are running Jupyter Notebooks through the YCRC Jupyter notebook server, or on Anaconda installation on your own computer, you can produce the .pdf by completing the following steps:**   \n",
    "\n",
    "1.  Go to \"File\" at the top-left of your Jupyter Notebook  \n",
    "\n",
    "2.  Under \"Save and Export Notebook As...\" (or \"Download as\") select \"HTML (.html)\"  \n",
    "\n",
    "3.  After the .html has downloaded, open it and then select \"File\" and \"Print\" (note you will not actually be printing)  \n",
    "\n",
    "4.  From the print window, select the option to save as a .pdf  \n",
    "\n",
    "\n",
    "\n",
    "**If you are running the assignment in a Google Colabs, you can use the following instructions:**   \n",
    "\n",
    "1.  Go to \"File\" at the top-left of your Jupyter Notebook and select \"File\" and \"Print\" (note you will not actually be printing)  \n",
    "\n",
    "2. From the print window, select the option to save as a .pdf  \n",
    "\n",
    "3. Be sure to look over the pdf file to make sure all your code and written work is saved in a clear way.   \n"
   ]
  }
 ],
 "metadata": {
  "colab": {
   "name": "hw00.ipynb",
   "provenance": []
  },
  "kernelspec": {
   "display_name": "Python 3 (ipykernel)",
   "language": "python",
   "name": "python3"
  },
  "language_info": {
   "codemirror_mode": {
    "name": "ipython",
    "version": 3
   },
   "file_extension": ".py",
   "mimetype": "text/x-python",
   "name": "python",
   "nbconvert_exporter": "python",
   "pygments_lexer": "ipython3",
   "version": "3.13.5"
  }
 },
 "nbformat": 4,
 "nbformat_minor": 4
}
