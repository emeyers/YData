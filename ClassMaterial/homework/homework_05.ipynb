{
 "cells": [
  {
   "cell_type": "raw",
   "metadata": {
    "editable": false,
    "raw_mimetype": "",
    "slideshow": {
     "slide_type": ""
    },
    "tags": [
     "hide-input"
    ]
   },
   "source": [
    "---\n",
    "execute: \n",
    "  cache: false\n",
    "format: \n",
    "  pdf:\n",
    "    include-in-header: \n",
    "       text: |\n",
    "         \\newcommand{\\textasciicaret}{\\^{}}\n",
    "         \\usepackage{fvextra}\n",
    "         \\DefineVerbatimEnvironment{Highlighting}{Verbatim}{breaklines,commandchars=\\\\\\{\\}}\n",
    "    include-before-body:\n",
    "        text: |\n",
    "         \\RecustomVerbatimEnvironment{verbatim}{Verbatim}{showspaces = false, showtabs = false, breaksymbolleft={}, breaklines}\n",
    "---"
   ]
  },
  {
   "cell_type": "markdown",
   "metadata": {},
   "source": [
    "# Homework 5: Data visualization\n",
    "\n",
    "Welcome to the fifth homework! \n",
    "\n",
    "In this homework you practice visualizing data. You will get a little more practice manipulating DataFrames which is one of the important data science skills.  Please complete this notebook by filling in the cells provided. \n",
    "\n",
    "**Deadline:** This assignment is due **Sunday October 5th at 11pm.** You can turn in the assignment up to 24 hours late for 90% credit (after that, the homework will only be accepted with a dean's excuse). \n",
    "\n",
    "Directly sharing answers is not okay, but discussing problems with the course staff or with other students is encouraged. \n",
    "\n",
    "You should start early so that you have time to get help if you're stuck. The drop-in office hours schedule can be found on Canvas.  You can also post questions or start discussions on Ed Discussion."
   ]
  },
  {
   "cell_type": "markdown",
   "metadata": {},
   "source": [
    "## Getting started\n",
    "\n",
    "In order to complete the homework, it is necessary to download a few files. Please run the code below **only once** to download data needed to complete the homework. To run the code, click in the cell below and press the play button (or press shift-enter). "
   ]
  },
  {
   "cell_type": "code",
   "execution_count": 10,
   "metadata": {},
   "outputs": [],
   "source": [
    "# if you are running this notebook in colabs, please uncomment and run the following two lines\n",
    "# !pip install https://github.com/emeyers/YData_package/tarball/master"
   ]
  },
  {
   "cell_type": "code",
   "execution_count": 11,
   "metadata": {},
   "outputs": [
    {
     "name": "stdout",
     "output_type": "stream",
     "text": [
      "The file `gapminder_data.csv` already exists.\n",
      "If you would like to download a new copy of the file, please rename the existing copy of the file.\n",
      "The file `daily_bike_totals.csv` already exists.\n",
      "If you would like to download a new copy of the file, please rename the existing copy of the file.\n"
     ]
    }
   ],
   "source": [
    "# Please run this code once to download the files you will need to complete the homework \n",
    "\n",
    "import YData \n",
    "\n",
    "YData.download.download_data(\"gapminder_data.csv\")\n",
    "YData.download.download_data(\"daily_bike_totals.csv\")\n"
   ]
  },
  {
   "cell_type": "markdown",
   "metadata": {},
   "source": [
    "## 0. Finding an interesting visualization to share\n",
    "\n",
    "Instead of doing a quote and reaction this week, the opening homework activity is to find an interesting data visualization that you can share with the class. \n",
    "\n",
    "Please search the Internet (or scan a picture from a book or magazine) to find an interesting data visualization. Once you have found the visualization, put a link to it below along with a brief description of why you found the visualization interesting. \n",
    "\n",
    "Also, on the homework 5 reflection quiz on Canvas, please: \n",
    "1. Upload your image\n",
    "2. Write the URL of where you found the image (or name the source if the image is not from the Internet)\n",
    "3. Copy your description of why you think it is interesting "
   ]
  },
  {
   "cell_type": "markdown",
   "metadata": {},
   "source": [
    "**Question 0.1 (5 points)**  Please write a link to your image and why you find it interesting. Also be sure to upload your image to the homework 5 reflection on Canvas.\n",
    "\n",
    "*Link to the image:*  ...\n",
    "\n",
    "Why you find it interesting: ... "
   ]
  },
  {
   "cell_type": "code",
   "execution_count": 12,
   "metadata": {},
   "outputs": [],
   "source": [
    "# This cell imports functions from packages we will use below.\n",
    "# Please run it each time you load the Jupyter notebook\n",
    "\n",
    "import numpy as np\n",
    "import pandas as pd\n",
    "import matplotlib.pyplot as plt\n",
    "\n",
    "%matplotlib inline"
   ]
  },
  {
   "cell_type": "markdown",
   "metadata": {},
   "source": [
    "## 1. Gapminder data\n",
    "\n",
    "As we discussed in class, [according to Friendly](https://www.datavis.ca/papers/hbook.pdf), data visualization is currently undergoing a \"rebirth\". This was particularly true around ~2010, as examplified by Hans Roseling's Ted Talk and other videos where he visualized the progress the world is making of people becoming healthier and wealthier. In this first set of exercises, we will create some visualizations of Hans Roseling's \"Gapminder\" data. \n",
    "\n",
    "For all exercises, be sure to label your plots appropriately (i.e., put axes labels on all plots).\n"
   ]
  },
  {
   "cell_type": "markdown",
   "metadata": {},
   "source": [
    "**Question 1.1 (4 points)** To start, [please watch this video](https://www.youtube.com/watch?v=jbkSRLYSojo) by Hans Rosling. Then in the space below, write down a one-word reaction to the video. Also, copy your one-word reaction to the homework 5 reflection quiz on Canvas. "
   ]
  },
  {
   "cell_type": "markdown",
   "metadata": {},
   "source": [
    "**Please write your one word reaction here**. Also copy your one-word reaction to the homework 5 Canvas reflection survey.\n",
    "\n",
    "\n",
    "\n"
   ]
  },
  {
   "cell_type": "markdown",
   "metadata": {},
   "source": [
    "**Question 1.2 (2 points)**  Let's now begin to analyze and visualize the gapminder data. \n",
    "\n",
    "The cell below loads the Gapminder data and prints the first three rows. The columns of this DataFrame are: \n",
    "\n",
    "- `country`: The name of the country\n",
    "- `year`: The year that the measurements correspond to\n",
    "- `pop`: Population size of a country\n",
    "- `continent`: Continent name that the country is in\n",
    "- `lifeExp`: The average life expectancy \n",
    "- `gdpPercap`: The GDP per capita for that country (which is a measure of wealth) \n",
    "\n",
    "Please also add to the code in cell below one line of code that prints the data types (i.e., the `dtypes`) of the columns in this DataFrame. "
   ]
  },
  {
   "cell_type": "code",
   "execution_count": 13,
   "metadata": {},
   "outputs": [
    {
     "data": {
      "text/html": [
       "<div>\n",
       "<style scoped>\n",
       "    .dataframe tbody tr th:only-of-type {\n",
       "        vertical-align: middle;\n",
       "    }\n",
       "\n",
       "    .dataframe tbody tr th {\n",
       "        vertical-align: top;\n",
       "    }\n",
       "\n",
       "    .dataframe thead th {\n",
       "        text-align: right;\n",
       "    }\n",
       "</style>\n",
       "<table border=\"1\" class=\"dataframe\">\n",
       "  <thead>\n",
       "    <tr style=\"text-align: right;\">\n",
       "      <th></th>\n",
       "      <th>country</th>\n",
       "      <th>year</th>\n",
       "      <th>pop</th>\n",
       "      <th>continent</th>\n",
       "      <th>lifeExp</th>\n",
       "      <th>gdpPercap</th>\n",
       "    </tr>\n",
       "  </thead>\n",
       "  <tbody>\n",
       "    <tr>\n",
       "      <th>0</th>\n",
       "      <td>Afghanistan</td>\n",
       "      <td>1952</td>\n",
       "      <td>8425333.0</td>\n",
       "      <td>Asia</td>\n",
       "      <td>28.801</td>\n",
       "      <td>779.445314</td>\n",
       "    </tr>\n",
       "    <tr>\n",
       "      <th>1</th>\n",
       "      <td>Afghanistan</td>\n",
       "      <td>1957</td>\n",
       "      <td>9240934.0</td>\n",
       "      <td>Asia</td>\n",
       "      <td>30.332</td>\n",
       "      <td>820.853030</td>\n",
       "    </tr>\n",
       "    <tr>\n",
       "      <th>2</th>\n",
       "      <td>Afghanistan</td>\n",
       "      <td>1962</td>\n",
       "      <td>10267083.0</td>\n",
       "      <td>Asia</td>\n",
       "      <td>31.997</td>\n",
       "      <td>853.100710</td>\n",
       "    </tr>\n",
       "  </tbody>\n",
       "</table>\n",
       "</div>"
      ],
      "text/plain": [
       "       country  year         pop continent  lifeExp   gdpPercap\n",
       "0  Afghanistan  1952   8425333.0      Asia   28.801  779.445314\n",
       "1  Afghanistan  1957   9240934.0      Asia   30.332  820.853030\n",
       "2  Afghanistan  1962  10267083.0      Asia   31.997  853.100710"
      ]
     },
     "execution_count": 13,
     "metadata": {},
     "output_type": "execute_result"
    }
   ],
   "source": [
    "gapminder = pd.read_csv(\"gapminder_data.csv\")\n",
    "\n",
    "# add a line of code to print the dtypes of the columns here\n",
    "\n",
    "\n",
    "\n",
    "gapminder.head(3)"
   ]
  },
  {
   "cell_type": "markdown",
   "metadata": {},
   "source": [
    "**Question 1.3 (4 points)**: \n",
    "\n",
    "For all our visualizations in this first part of the homework, let's only look at data from 2007. To do this, please create a DataFrame named `gapminder_2007` which has data from all the countries for only the year 2007. Also print out how many rows this DataFrame has and show the first 3 rows of this DataFrame.\n"
   ]
  },
  {
   "cell_type": "code",
   "execution_count": 14,
   "metadata": {},
   "outputs": [],
   "source": [
    "# get only data from 2007\n",
    "\n",
    "\n",
    "\n"
   ]
  },
  {
   "cell_type": "markdown",
   "metadata": {},
   "source": [
    "**Question 1.4 (4 points)**: Before we dive into our first visualization of the data, please create a DataFrame called `continent_count` that has the number of countries in each continent. In particular, the `continent_count` should have two columns which are:\n",
    "\n",
    "1. A column called `continent` that contains the names of the continents.\n",
    "2. A column called `num_countries` which has a count of how many countries are in each continent. \n",
    "\n",
    "As always, be sure to print the table to show your work.  \n",
    "\n",
    "Hint: the following methods could be useful: `.groupby()`, `.agg()`, `.reset_index()`\n"
   ]
  },
  {
   "cell_type": "code",
   "execution_count": null,
   "metadata": {},
   "outputs": [],
   "source": [
    "\n",
    "\n",
    "\n"
   ]
  },
  {
   "cell_type": "markdown",
   "metadata": {},
   "source": [
    "**Question 1.5 (8 points)**: \n",
    "\n",
    "Now let's visualize the number of countries in each continent as both a bar plot and a pie chart next to each other on the same figure. To do this, please complete the following steps: \n",
    "\n",
    "1. On the left subplot, create a bar plot of the `continent_count` data, where there is one bar for each continent, and heights of the bars correspond to the number of countries in continent. \n",
    "\n",
    "2. On the right subplot, create a  pie chart, and be sure that each \"piece of the pie\" is labeled with the continent that it corresponds to. \n",
    "\n",
    "As always, sure to [label your axes](https://flowingdata.com/wp-content/uploads/2012/06/label-your-axes.png) appropriately. Also, please make sure that none of the axes labels are overlapping, rotate the labels and/or extend the figure size to prevent them from overlapping (in general, try to make it look as good as you can!). Using google and/or chatGPT to figure out how to do this is encouraged!\n"
   ]
  },
  {
   "cell_type": "code",
   "execution_count": null,
   "metadata": {},
   "outputs": [],
   "source": [
    "\n",
    "\n",
    "\n",
    "\n",
    "\n",
    "\n",
    "\n",
    "\n",
    "\n",
    "\n",
    "\n",
    "\n",
    "\n",
    "\n",
    "\n",
    "\n"
   ]
  },
  {
   "cell_type": "markdown",
   "metadata": {},
   "source": [
    "**Question 1.6 (8 points)**: Continuing with our data visualization, let's now plot histogram and a boxplot of the GDP per capita for the countries in our 2007 dataset next to each other on the same figure. To do this, please complete the following steps: \n",
    "\n",
    "1. On the left subplot, create a histogram of the GDP per capita. Make sure that the edgecolor of the bars in your histogram is black, and again make sure the graph is labeled appropriately. \n",
    "\n",
    "2. On the right subplot, create a boxplot of the same data.\n",
    "  \n",
    "Again adjust the figure size and other aspects of these plots to make them as good looking as you can. \n",
    "\n",
    "In the answer section, please describe what the advantages and disadvantages are of histograms vs. boxplots for visualizing quantitative data. \n"
   ]
  },
  {
   "cell_type": "code",
   "execution_count": null,
   "metadata": {},
   "outputs": [],
   "source": [
    "\n",
    "\n",
    "\n",
    "\n",
    "\n",
    "\n",
    "\n",
    "\n"
   ]
  },
  {
   "cell_type": "markdown",
   "metadata": {},
   "source": [
    "<font color='red'> **ANSWER**: \n",
    "\n",
    "\n",
    "\n",
    "\n",
    "\n",
    "   "
   ]
  },
  {
   "cell_type": "markdown",
   "metadata": {},
   "source": [
    "**Question 1.7 (4 points)**: Let's now create a simple scatter plot of life expectancy as a function of a country's GDP per capita using the `plt.plot()` function \n",
    "\n",
    "As always labeling your figure appropriately. In the answer section below, describe, in 1-3 sentences, the relationship between GDP per capita and life expectancy."
   ]
  },
  {
   "cell_type": "code",
   "execution_count": null,
   "metadata": {},
   "outputs": [],
   "source": [
    "\n",
    "\n",
    "\n",
    "\n"
   ]
  },
  {
   "cell_type": "markdown",
   "metadata": {},
   "source": [
    "<font color='red'> **ANSWER**: \n",
    "\n",
    "\n"
   ]
  },
  {
   "cell_type": "markdown",
   "metadata": {},
   "source": [
    "**Question 1.8 (4 points)**: The plot of life expectancy as a function of a country's GDP per capita we created above shows some of the relationship between different variables in our data, but it is not as rich as the visualization created by Hans Rosling. Let's see if we can get closer to Hans' visualization.\n",
    "\n",
    "What is missing from our visualization above is showing each country's population as the size of the points in the scatter plot, and each country's continent in a different color. The mapping the population size to a marker size is easy using the `plt.scatter()` function, but mapping each continent name to a color requires a little more work. \n",
    "\n",
    "To map each continent to a different color, let's start by creating a DataFrame called `continent_color_df`, that lists which color each contient should be shown as. In particular, the `continent_color_df` should have 5 rows (corresponding to each continent) and two columns which are:\n",
    "\n",
    "1. `continent`: The name of each continent\n",
    "2. `color`: A color that each continent should be shown as\n",
    "\n",
    "To create the `continent_color_df`, start by creating a dictionary where the keys are called `continent` and `color` and the values are a list of continent names (in alphabetical order), and a list of colors in the order `['blue','green', 'red', 'orange', 'yellow']` (i.e., the first row of the `continent_color_df` should value the values `Africa` and `blue`, etc.).  \n",
    "\n",
    "Once you have created this dictionary, use the `pd.DataFrame()` method to create the `continent_color_df` DataFrame and print it to show your work. \n"
   ]
  },
  {
   "cell_type": "code",
   "execution_count": null,
   "metadata": {},
   "outputs": [],
   "source": [
    "\n",
    "\n",
    "\n",
    "\n"
   ]
  },
  {
   "cell_type": "markdown",
   "metadata": {},
   "source": [
    "**Question 1.9 (4 points)**: Now that we have the `continent_color_df`, please create a DataFrame called `gapminder_2007_color` where you join (i.e., merge) the `continent_color_df` on to the `gapminder_2007` DataFrame. \n",
    "\n",
    "Display the first three rows `gapminder_2007_color` to show your work.\n",
    "\n",
    "Hint: Use `.merge()` method and remember to specify which column you are merging on. "
   ]
  },
  {
   "cell_type": "code",
   "execution_count": null,
   "metadata": {},
   "outputs": [],
   "source": [
    "\n"
   ]
  },
  {
   "cell_type": "markdown",
   "metadata": {},
   "source": [
    "**Question 1.10 (6 points)**: Now we are ready to create a plot that is more similar to Hans'. To do this, use the `plt.scatter()` function with the following arguments: \n",
    "\n",
    "1. The x-axis variable should be GDP per capita (as before)\n",
    "2. The y-axis variable should be life expectancy (as before)\n",
    "3. The size of each point should be the country's population, in millions of people (i.e., divide the population size by $10^6$)\n",
    "4. The color should be a country's continent color \n",
    "5. Also make the transparent (alpha) set to .5 so that we can see overlapping points.\n",
    "\n",
    "As always, label your axes! In the answer section, describe any information that is missing from your figure to make it clearer. \n"
   ]
  },
  {
   "cell_type": "code",
   "execution_count": null,
   "metadata": {},
   "outputs": [],
   "source": [
    "\n",
    "\n",
    "\n",
    "\n",
    "\n"
   ]
  },
  {
   "cell_type": "markdown",
   "metadata": {},
   "source": [
    "<font color='red'> **ANSWER**:  \n"
   ]
  },
  {
   "cell_type": "markdown",
   "metadata": {},
   "source": [
    "## 2. Visual comparisons\n",
    "\n",
    "For our next set of exercises, let's create plots where we explore different ways to compare quantities visually by examining data from New York City's Citi Bike program. \n"
   ]
  },
  {
   "cell_type": "markdown",
   "metadata": {},
   "source": [
    "**Question 2.1 (2 points)**: New York City's Citi Bike Program is a bicycle sharing system where members can rent bikes at one location and return bikes at a different location. \n",
    "\n",
    "The data we will look at consists of information about how many trips were taken each day from July 1st 2013 until November 30th 2015. The DataFrame also contains information about the weather, and about whether each day is a weekday, weekend, holiday, etc. (if you are interested in data on individual bike trips see https://citibikenyc.com/system-data). \n",
    "\n",
    "The Data is loaded below. As usual, start by printing the types of data that are contained in each column. \n"
   ]
  },
  {
   "cell_type": "code",
   "execution_count": 15,
   "metadata": {},
   "outputs": [
    {
     "data": {
      "text/html": [
       "<div>\n",
       "<style scoped>\n",
       "    .dataframe tbody tr th:only-of-type {\n",
       "        vertical-align: middle;\n",
       "    }\n",
       "\n",
       "    .dataframe tbody tr th {\n",
       "        vertical-align: top;\n",
       "    }\n",
       "\n",
       "    .dataframe thead th {\n",
       "        text-align: right;\n",
       "    }\n",
       "</style>\n",
       "<table border=\"1\" class=\"dataframe\">\n",
       "  <thead>\n",
       "    <tr style=\"text-align: right;\">\n",
       "      <th></th>\n",
       "      <th>date</th>\n",
       "      <th>trips</th>\n",
       "      <th>precipitation</th>\n",
       "      <th>snow_depth</th>\n",
       "      <th>snowfall</th>\n",
       "      <th>max_temperature</th>\n",
       "      <th>min_temperature</th>\n",
       "      <th>average_wind_speed</th>\n",
       "      <th>dow</th>\n",
       "      <th>year</th>\n",
       "      <th>month</th>\n",
       "      <th>holiday</th>\n",
       "      <th>stations_in_service</th>\n",
       "      <th>weekday</th>\n",
       "      <th>weekday_non_holiday</th>\n",
       "    </tr>\n",
       "  </thead>\n",
       "  <tbody>\n",
       "    <tr>\n",
       "      <th>0</th>\n",
       "      <td>2013-07-01</td>\n",
       "      <td>16650</td>\n",
       "      <td>0.838583</td>\n",
       "      <td>0.0</td>\n",
       "      <td>0.0</td>\n",
       "      <td>77.00</td>\n",
       "      <td>71.96</td>\n",
       "      <td>3.13171</td>\n",
       "      <td>1</td>\n",
       "      <td>2013</td>\n",
       "      <td>7</td>\n",
       "      <td>False</td>\n",
       "      <td>NaN</td>\n",
       "      <td>True</td>\n",
       "      <td>True</td>\n",
       "    </tr>\n",
       "    <tr>\n",
       "      <th>1</th>\n",
       "      <td>2013-07-02</td>\n",
       "      <td>22745</td>\n",
       "      <td>0.078740</td>\n",
       "      <td>0.0</td>\n",
       "      <td>0.0</td>\n",
       "      <td>82.04</td>\n",
       "      <td>71.96</td>\n",
       "      <td>2.68432</td>\n",
       "      <td>2</td>\n",
       "      <td>2013</td>\n",
       "      <td>7</td>\n",
       "      <td>False</td>\n",
       "      <td>NaN</td>\n",
       "      <td>True</td>\n",
       "      <td>True</td>\n",
       "    </tr>\n",
       "    <tr>\n",
       "      <th>2</th>\n",
       "      <td>2013-07-03</td>\n",
       "      <td>21864</td>\n",
       "      <td>0.531496</td>\n",
       "      <td>0.0</td>\n",
       "      <td>0.0</td>\n",
       "      <td>82.94</td>\n",
       "      <td>73.04</td>\n",
       "      <td>4.25018</td>\n",
       "      <td>3</td>\n",
       "      <td>2013</td>\n",
       "      <td>7</td>\n",
       "      <td>False</td>\n",
       "      <td>NaN</td>\n",
       "      <td>True</td>\n",
       "      <td>True</td>\n",
       "    </tr>\n",
       "  </tbody>\n",
       "</table>\n",
       "</div>"
      ],
      "text/plain": [
       "        date  trips  precipitation  snow_depth  snowfall  max_temperature  \\\n",
       "0 2013-07-01  16650       0.838583         0.0       0.0            77.00   \n",
       "1 2013-07-02  22745       0.078740         0.0       0.0            82.04   \n",
       "2 2013-07-03  21864       0.531496         0.0       0.0            82.94   \n",
       "\n",
       "   min_temperature  average_wind_speed  dow  year  month  holiday  \\\n",
       "0            71.96             3.13171    1  2013      7    False   \n",
       "1            71.96             2.68432    2  2013      7    False   \n",
       "2            73.04             4.25018    3  2013      7    False   \n",
       "\n",
       "   stations_in_service  weekday  weekday_non_holiday  \n",
       "0                  NaN     True                 True  \n",
       "1                  NaN     True                 True  \n",
       "2                  NaN     True                 True  "
      ]
     },
     "execution_count": 15,
     "metadata": {},
     "output_type": "execute_result"
    }
   ],
   "source": [
    "bikes = pd.read_csv(\"daily_bike_totals.csv\", parse_dates= [0])\n",
    "\n",
    "# add a line of code to print the dtypes of the columns here\n",
    "\n",
    "\n",
    "bikes.head(3)"
   ]
  },
  {
   "cell_type": "markdown",
   "metadata": {},
   "source": [
    "**Question 2.2 (4 points)**: To gain more experience with visualization, let's compare the number of trips taken on weekdays vs. weekends. \n",
    "\n",
    "To start this analysis, create a DataFrame called `weekday` which only has trips taken on weekdays, and a DataFrame called `weekend` which only has trips taken on weekends. \n",
    "\n",
    "Print the first 3 rows of the `weekend` DataFrame to show your work. \n"
   ]
  },
  {
   "cell_type": "code",
   "execution_count": null,
   "metadata": {},
   "outputs": [],
   "source": [
    "\n",
    "\n",
    "\n"
   ]
  },
  {
   "cell_type": "markdown",
   "metadata": {},
   "source": [
    "**Question 2.3 (5 points)**:  Now use the [plt.boxplot() function](https://matplotlib.org/stable/api/_as_gen/matplotlib.pyplot.boxplot.html) to create side-by-side box plots of the number of trips taken on weekdays and the number of trips taken on weekends. \n",
    "\n",
    "Be sure to put labels below each boxplot so that it is clear which boxplot corresponds to weekdays and weekends and also label your y-axis. \n",
    "\n",
    "In the answer section, in 2-5 sentences describe if it seems clear that more trips are taken on weekdays vs. weekends. In particular, imagine we had data from the next two years (i.e., July 1st 2016 until November 30th 2018). Does this plot give compelling evidence that we would see the same pattern with more trips on weekdays?  \n"
   ]
  },
  {
   "cell_type": "code",
   "execution_count": null,
   "metadata": {},
   "outputs": [],
   "source": [
    "\n",
    "\n",
    "\n"
   ]
  },
  {
   "cell_type": "markdown",
   "metadata": {},
   "source": [
    "<font color='red'> **ANSWER**:  \n",
    "\n"
   ]
  },
  {
   "cell_type": "markdown",
   "metadata": {},
   "source": [
    "**Question 2.4 (5 points)**: Let's now create histograms of the data. In particular, create two subplots (one above the other) whether the upper plot shows a histogram of the number of trips taken on weekdays, and the lower plot shows a histogram of the number of trips taken on weekends. Be sure to label your plot to make everything as clear as possible!\n",
    "\n",
    "In the answer section below, in 1-5 sentences describe whether you think this plot more clearly contrasts the number of trips taken on weekdays vs. weekends relative to plotting the data as boxplots. \n"
   ]
  },
  {
   "cell_type": "code",
   "execution_count": null,
   "metadata": {},
   "outputs": [],
   "source": [
    "\n",
    "\n",
    "\n",
    "\n",
    "\n",
    "\n",
    "\n",
    "\n",
    "\n",
    "\n",
    "\n"
   ]
  },
  {
   "cell_type": "markdown",
   "metadata": {},
   "source": [
    "<font color='red'> **ANSWER**:  \n",
    "\n",
    "\n"
   ]
  },
  {
   "cell_type": "markdown",
   "metadata": {},
   "source": [
    "**Question 2.5 (4 points)**: Finally, let's create line plots of the data where we plot the number of trips as a function of the date for both weekdays and weekends (i.e., your plot should have two lines on it). As always, be sure to label all your plot fully! \n",
    "\n",
    "In the answer section, describe whether you think this plot more clearly contrasts the number of trips taken on weekdays vs. weekends relative to plotting the data as boxplots and histograms. \n"
   ]
  },
  {
   "cell_type": "code",
   "execution_count": null,
   "metadata": {},
   "outputs": [],
   "source": [
    "\n",
    "\n",
    "\n",
    "\n",
    "\n",
    "\n",
    "\n",
    "\n"
   ]
  },
  {
   "cell_type": "markdown",
   "metadata": {},
   "source": [
    "<font color='red'> **ANSWER**: \n",
    "\n",
    "\n",
    "\n"
   ]
  },
  {
   "cell_type": "markdown",
   "metadata": {},
   "source": [
    "## 3. Visualizing the Gapminder data using seaborn\n",
    "\n",
    "Let's now revisit visualizing the Gapminder data but this time using seaborn to create easier and better looking visualizations!\n",
    "\n",
    "Again, we will focus on only the data from 2007, which you created above in the DataFrame `gapminder_2007`. \n"
   ]
  },
  {
   "cell_type": "markdown",
   "metadata": {},
   "source": [
    "**Question 3.1 (4 points)**: For a first visualization using seaborn, please recreate the bar chart that shows how many countries are in each continent; i.e., there is one bar for each continent and the height of each bar is the number of countries in each continent. \n",
    "\n",
    "To do this you can use the `sns.catplot()` method, where the following arguments should be set:\n",
    "\n",
    "- `data`: should be the `gapminder_2007` DataFrame\n",
    "- `x` should be the appropriate label name from the `gapminder_2007` DataFrame\n",
    "- `kind` should be set to `\"count\"`. \n",
    "\n",
    "To see a list of all the arguments (i.e., parameters) for `sns.catplot()`, please see the [seaborn documentation](https://seaborn.pydata.org/generated/seaborn.catplot.html)\n",
    "\n",
    "As always, be sure to label your axes. Since seaborn is built on top of matplotlib, you can use the same `plt.` methods to set the axes (e.g., `plt.xlabel()` etc.). \n"
   ]
  },
  {
   "cell_type": "code",
   "execution_count": 16,
   "metadata": {},
   "outputs": [],
   "source": [
    "import seaborn as sns\n",
    "\n",
    "\n",
    "\n",
    "\n"
   ]
  },
  {
   "cell_type": "markdown",
   "metadata": {},
   "source": [
    "**Question 3.2 (4 points)**: Continuing with our visualizations using seaborn, let's visualize the GDP per capita from all the countries in our 2007 dataset.\n",
    "\n",
    "To do this, you can use the `sns.displot()` method. Experiment with the `kind` argument, and pick the value for the argument that you think gives the clearest pictures of how GDP per capita differs across different countries. In the answer section below, in 1-5 sentences, please justify your choice. \n",
    "\n",
    "Hint: the values that the `kind` argument can take are: `'hist'`, `'kde'`, or `'ecdf'`. "
   ]
  },
  {
   "cell_type": "code",
   "execution_count": null,
   "metadata": {},
   "outputs": [],
   "source": [
    "\n",
    "\n",
    "\n"
   ]
  },
  {
   "cell_type": "markdown",
   "metadata": {},
   "source": [
    "<font color='red'> **ANSWER**: \n",
    "\n",
    "\n",
    "\n",
    "\n"
   ]
  },
  {
   "cell_type": "markdown",
   "metadata": {},
   "source": [
    "**Question 3.3 (4 points)**: Now let's visualize the life expectancy for the all the countries grouped by the continent the country is in. To do this we should use the `sns.catplot()` function which plots quantitative data as a function of a categorical variable. \n",
    "\n",
    "Please go ahead and create this plot, and again choose the value for the `kind` argument that you think makes the most sense. In the answer section, please explain why you think the value you choose for the `kind` argument creates the best plot.  \n",
    "\n",
    "Hint: the values that the `kind` argument can take are: `“strip”`, `“swarm”`, `“box”`, `“violin”`, `“boxen”`, `“point”`, or `“bar”`.\n"
   ]
  },
  {
   "cell_type": "code",
   "execution_count": null,
   "metadata": {},
   "outputs": [],
   "source": [
    "\n",
    "\n",
    "\n"
   ]
  },
  {
   "cell_type": "markdown",
   "metadata": {},
   "source": [
    "<font color='red'> **ANSWER**: \n",
    "\n",
    "\n",
    "\n"
   ]
  },
  {
   "cell_type": "markdown",
   "metadata": {},
   "source": [
    "**Question 3.4 (5 points)**: Let's now explore faceting by plotting GDP per capita as a function of the year with a separate subplot for each continent. In particular, please use `sns.catplot()` and the `gapminder` DataFrame (i.e., the DataFrame with data from all years) to create a plot that has the following features:\n",
    "\n",
    "1. The x-axis should plot the year.\n",
    "2. The y-axis should be the GDP per capita.\n",
    "3. There should be a separate subplot/facet (as a column) for each continent.\n",
    "4. There should be a maximum of 3 columns before the facteting is wrapped (hint: the `col_wrap` argument will be useful). \n",
    "5. You should create boxplots for each year. \n",
    "\n",
    "In the answer section, please answer the following questions:\n",
    "\n",
    "1. In 1-3 sentences, explain if the trends seen in the data make sense. \n",
    "\n",
    "2. Report if you notice any large outliers in plot and what they correspond to.\n",
    "\n",
    "Hint: If you want to change the axes labels for for plots will faceting, you need to save the plot to a name (such as the name `g`). You can then use `g.set(ylabel = \"blah\")` to set the y-label, etc.\n"
   ]
  },
  {
   "cell_type": "code",
   "execution_count": null,
   "metadata": {},
   "outputs": [],
   "source": [
    "\n",
    "\n",
    "\n",
    "\n",
    "\n",
    "\n",
    "\n"
   ]
  },
  {
   "cell_type": "markdown",
   "metadata": {},
   "source": [
    "<font color='red'> **ANSWER**: \n",
    "\n",
    "1... \n",
    "\n",
    "2...\n",
    "\n"
   ]
  },
  {
   "cell_type": "markdown",
   "metadata": {},
   "source": [
    "**Question 3.5 (5 points)**: Now let's recreate a plot that this is similar to plots in Hans Rosling's video, where we plot life expectancy as a function of GDP per capita. Since we are plotting two quantitative variables, we should use seaborn's `sns.relplot()` with the following features:\n",
    "\n",
    "1. The x-axis variable should be GDP per capita (as before)\n",
    "2. The y-axis variable should be life expectancy (as before)\n",
    "3. The size of each point should be the country's population\n",
    "4. The color should be a country's continent color \n",
    "5. Also make the transparent (alpha) set to .5 so that we can see overlapping points.\n",
    "\n",
    "As we did in the previous homework, please only use data from 2007 for this plot. \n",
    "\n",
    "In the answer section, in 1-5 sentences, describe any features that are better and/or worse than the similar plot you created in question 1.7 and 1.10. "
   ]
  },
  {
   "cell_type": "code",
   "execution_count": null,
   "metadata": {},
   "outputs": [],
   "source": [
    "\n",
    "\n",
    "\n",
    "\n",
    "\n",
    "\n"
   ]
  },
  {
   "cell_type": "markdown",
   "metadata": {},
   "source": [
    "<font color='red'> **ANSWER**:  \n",
    "\n",
    "\n"
   ]
  },
  {
   "cell_type": "markdown",
   "metadata": {},
   "source": [
    "## 4. Create your own visualization (5 points)\n",
    "\n",
    "For the last part of the homework, please create a visualization of your own choosing. You can use one of the datasets we have previously used in class (e.g., the ACS data, squirrel data, etc), or you can find a new data set and plot it, which might be particularly useful to get started on your final project! If you want to use a new data set, a link of sources where you can find data can be found under the \"Data sources\" link on the let of the class Canvas page. \n",
    "\n",
    "You can also use either matplotlib or seaborn, or both. Please focus on making your figure as clear and beautiful as posssible!\n",
    "\n",
    "In the section below, give a brief description of what your image shows. Also, upload your image and image description to Canvas and we can share these as well in class. \n"
   ]
  },
  {
   "cell_type": "code",
   "execution_count": 17,
   "metadata": {},
   "outputs": [],
   "source": [
    "\n",
    "\n",
    "\n",
    "\n",
    "\n",
    "\n",
    "# save the figure to a file\n",
    "# plt.savefig(\"YourFirstName_YourLastName_homework5_plot.jpg\")"
   ]
  },
  {
   "cell_type": "markdown",
   "metadata": {},
   "source": [
    "<font color='red'> Please describe what your image shows here\n",
    "\n",
    "\n",
    "\n",
    "\n",
    "\n",
    "\n",
    "\n"
   ]
  },
  {
   "cell_type": "markdown",
   "metadata": {},
   "source": [
    "## 5. Reflection (3 points)\n",
    "\n",
    "Please reflect on how the homework went by going to Canvas, going to the Quizzes link, and clicking on reflection on homework 5.\n"
   ]
  },
  {
   "cell_type": "markdown",
   "metadata": {
    "id": "h_t-9kUXUpRf"
   },
   "source": [
    "## 6. Submission\n",
    "\n",
    "Once you're finished filling in and running all cells, you should submit your assignment as a pdf on Gradescope. You can access Gradescope through Canvas on the left-side of the class home page. The problems in each homework assignment are numbered. When submitting on Gradescope, please **make sure to select the correct pages of your pdf that correspond to each problem**. Failure to mark pages correctly **will result in points being deducted** from your homework score.\n",
    "\n",
    "To convert this Jupyter notebook document to a pdf please run the code in the cell below, which will create pdf document that you can upload to Gradescope. \n",
    "\n",
    "Please be sure to check that all the code and output are visible before submitting your pdf to Gradescope as **points will be deducted for missing code and output that is not visible** since we will not be able to grade this."
   ]
  },
  {
   "cell_type": "code",
   "execution_count": 18,
   "metadata": {},
   "outputs": [],
   "source": [
    "%%capture\n",
    "\n",
    "!quarto render homework_05.ipynb --cache-refresh --to pdf "
   ]
  },
  {
   "cell_type": "markdown",
   "metadata": {
    "id": "lNYoHNjeVk8S",
    "manual_problem_id": "nearsightedness_4"
   },
   "source": [
    "#### Alternative submission instructions\n",
    "\n",
    "If converting your Jupyter notebook to a pdf using the command in the cell above does not work, an alternative way to convert your Jupyter notebook is:\n",
    "\n",
    "1.  Go to \"File\" at the top-left of your Jupyter Notebook\n",
    "2.  Under \"Download as\" (or \"Save and Export Notebook As...\") and select \"HTML (.html)\"\n",
    "3.  After the .html has downloaded, open it and then select \"File\" and \"Print\" (note you will not actually be printing)\n",
    "4.  From the print window, select the option to save as a .pdf\n",
    "\n",
    "\n",
    "If you are running the assignment in a Google Colabs, you can use the following instructions: \n",
    "1.  Go to \"File\" at the top-left of your Jupyter Notebook and select \"File\" and \"Print\" (note you will not actually be printing)\n",
    "2. From the print window, select the option to save as a .pdf\n",
    "3. Be sure to look over the pdf file to make sure all your code and written work is saved in a clear way.\n",
    "\n"
   ]
  }
 ],
 "metadata": {
  "kernelspec": {
   "display_name": "Python 3 (ipykernel)",
   "language": "python",
   "name": "python3"
  },
  "language_info": {
   "codemirror_mode": {
    "name": "ipython",
    "version": 3
   },
   "file_extension": ".py",
   "mimetype": "text/x-python",
   "name": "python",
   "nbconvert_exporter": "python",
   "pygments_lexer": "ipython3",
   "version": "3.13.5"
  }
 },
 "nbformat": 4,
 "nbformat_minor": 4
}
