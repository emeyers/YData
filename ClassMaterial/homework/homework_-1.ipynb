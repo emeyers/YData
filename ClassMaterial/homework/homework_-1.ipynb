{
 "cells": [
  {
   "cell_type": "markdown",
   "id": "6251f244-2f29-4065-9b41-2dc5f6efd5e1",
   "metadata": {},
   "source": [
    "# Test homework -1\n",
    "\n",
    "This is a test file to make sure one can download homework files.\n"
   ]
  },
  {
   "cell_type": "code",
   "execution_count": null,
   "id": "c7c50bca-ff0e-4c50-95f7-8e70581b8865",
   "metadata": {},
   "outputs": [],
   "source": []
  }
 ],
 "metadata": {
  "kernelspec": {
   "display_name": "Python 3 (ipykernel)",
   "language": "python",
   "name": "python3"
  },
  "language_info": {
   "codemirror_mode": {
    "name": "ipython",
    "version": 3
   },
   "file_extension": ".py",
   "mimetype": "text/x-python",
   "name": "python",
   "nbconvert_exporter": "python",
   "pygments_lexer": "ipython3",
   "version": "3.11.0"
  }
 },
 "nbformat": 4,
 "nbformat_minor": 5
}
