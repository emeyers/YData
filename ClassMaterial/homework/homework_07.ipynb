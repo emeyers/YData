{
 "cells": [
  {
   "cell_type": "markdown",
   "metadata": {},
   "source": [
    "# Homework 7: Text manipulation and more practice writing functions\n",
    "\n",
    "Welcome to the seventh homework! \n",
    "\n",
    "In this homework you practice manipulating text data and get practice writing more complex functions. In particular, we will pick up where we left off before the break by starting with some warm-up exericses writing a few more basic functions. We will write some functions for text manipulation. Finally, we will write a few more complex functions calculating distances on a map. The last set of exercises will be useful when we discuss machine learning at the end of the semester.\n",
    "\n",
    "Please complete this notebook by filling in the cells provided. For all problems that you must write explanations and sentences for, please provide your answer in the designated space. \n",
    "\n",
    "**Recommended Reading** from [Data Science for Everyone](https://ajr348.github.io/ds4e_course/index.html): \n",
    "- [Chapter 7.1: Defining functions](https://ajr348.github.io/ds4e_course/chapters/07_programming2/01_defining_functions.html)"
   ]
  },
  {
   "cell_type": "markdown",
   "metadata": {},
   "source": [
    "**Deadline:**\n",
    "\n",
    "This assignment is due **Sunday March 31st at 11pm.** You can turn in the assignment up to 24 hours late for 90% credit (after that, the homework will only be accepted with a dean's excuse). \n",
    "\n",
    "Directly sharing answers is not okay, but discussing problems with the course staff or with other students is encouraged. Refer to the policies page to learn more about how to learn cooperatively.\n",
    "\n",
    "You should start early so that you have time to get help if you're stuck. The drop-in office hours schedule can be found on Canvas.  You can also post questions or start discussions on Ed Discussion."
   ]
  },
  {
   "cell_type": "markdown",
   "metadata": {},
   "source": [
    "## Getting started\n",
    "\n",
    "In order to complete the homework, it is necessary to download a few files. Please run the code below **only once** to download data needed to complete the homework. To run the code, click in the cell below and press the play button (or press shift-enter). "
   ]
  },
  {
   "cell_type": "code",
   "execution_count": 26,
   "metadata": {},
   "outputs": [],
   "source": [
    "# if you are running this notebook in colabs, please uncomment and run the following two lines\n",
    "# !pip install https://github.com/emeyers/YData_package/tarball/master"
   ]
  },
  {
   "cell_type": "code",
   "execution_count": 27,
   "metadata": {},
   "outputs": [
    {
     "name": "stdout",
     "output_type": "stream",
     "text": [
      "The file `moby_dick.txt` already exists.\n",
      "If you would like to download a new copy of the file, please rename the existing copy of the file.\n",
      "The file `dennys.csv` already exists.\n",
      "If you would like to download a new copy of the file, please rename the existing copy of the file.\n",
      "The file `laquinta.csv` already exists.\n",
      "If you would like to download a new copy of the file, please rename the existing copy of the file.\n",
      "The file `mitch.png` already exists.\n",
      "If you would like to download a new copy of the file, please rename the existing copy of the file.\n",
      "The file `sign.jpg` already exists.\n",
      "If you would like to download a new copy of the file, please rename the existing copy of the file.\n"
     ]
    }
   ],
   "source": [
    "# Please run this code once to download the files you will need to complete the homework \n",
    "\n",
    "import YData \n",
    "\n",
    "YData.download.download_data(\"moby_dick.txt\")\n",
    "\n",
    "YData.download.download_data(\"dennys.csv\")\n",
    "YData.download.download_data(\"laquinta.csv\")\n",
    "\n",
    "YData.download.download_image(\"mitch.png\")\n",
    "YData.download.download_image(\"sign.jpg\")\n",
    "    "
   ]
  },
  {
   "cell_type": "markdown",
   "metadata": {},
   "source": [
    "## 0. Quote and Reaction (5 points)\n",
    "\n",
    "For this week's quote and reaction, please choose and read an article from [the pudding](https://pudding.cool/), which is a website that has interactive data analysis articles (often using javascript D3 library). Once you have read the article, please post a link to the article you choose below and briefly describe what the article was about and what you thought was interesting about it. \n"
   ]
  },
  {
   "cell_type": "markdown",
   "metadata": {},
   "source": [
    "\n",
    "The article I chose was:  (add a link here)\n",
    "\n",
    "The article was about...\n",
    "\n",
    "What I found interesting about the article was...\n",
    "\n"
   ]
  },
  {
   "cell_type": "code",
   "execution_count": 2,
   "metadata": {},
   "outputs": [],
   "source": [
    "# This cell imports functions from packages we will use below.\n",
    "# Please run it each time you load the Jupyter notebook\n",
    "\n",
    "import numpy as np\n",
    "import pandas as pd\n",
    "import matplotlib.pyplot as plt\n",
    "import statistics\n",
    "\n",
    "%matplotlib inline"
   ]
  },
  {
   "cell_type": "markdown",
   "metadata": {},
   "source": [
    "## 1.  Warm up writing functions: Distances\n",
    "\n",
    "The \"Euclidean distance\" between two points $(x_1, y_1)$ and $(x_2, y_2)$ is defined as: \n",
    "$dist(x_1, y_1, x_2, y_2) = \\sqrt{(x_1 - x_2)^2 + (y_1 - y_2)^2}$\n",
    "\n",
    "**Question 2.1 (6 points)** Please write a function called `euclid_dist(x1, y1, x2, y2)` that takes in the x and y coordinates from two points, and calculates the distrance between these points.  \n",
    "\n",
    "Hint: The body of our function was one line long. \n"
   ]
  },
  {
   "cell_type": "code",
   "execution_count": 5,
   "metadata": {},
   "outputs": [],
   "source": [
    "def euclid_dist(x1, y1, x2, y2):\n",
    "    ...\n",
    "\n",
    "\n",
    "    \n",
    "    \n",
    "# Testing your function on a 3, 4, 5 triangle (do not change this code)\n",
    "euclid_dist(0, 0, 3, 4)"
   ]
  },
  {
   "cell_type": "markdown",
   "metadata": {},
   "source": [
    "**Question 1.2 (4 points)** Does the `euclid_dist()` function you wrote above work on ndarrays of points? I.e., suppose you gave it ndarrays of $x_1$, $y_1$, $x_2$, $y_2$, where each ndarray had $k$ elements. Does your function naturally calculate $k$ distances for each entry in these ndarrays? \n",
    "\n",
    "Using the `array_x1`, `array_y1`, `array_x2`, `array_y2` arrays defined below, test out your function. In the answer section, report whether it works. "
   ]
  },
  {
   "cell_type": "code",
   "execution_count": 6,
   "metadata": {},
   "outputs": [],
   "source": [
    "array_x1 = np.arange(1, 6) \n",
    "array_y1 = np.arange(1, 10, 2)\n",
    "array_x2 = np.arange(1, 6)  \n",
    "array_y2 = np.arange(3, 16, 3)\n",
    "\n",
    "\n",
    "# run your code here...\n"
   ]
  },
  {
   "cell_type": "markdown",
   "metadata": {},
   "source": [
    "<font color='red'>**ANSWER**: \n",
    "\n"
   ]
  },
  {
   "cell_type": "markdown",
   "metadata": {},
   "source": [
    "## 2. Text manipulation\n",
    "\n",
    "A large part of Data Scientists' time is spent cleaning data, and a large part of data cleaning consists of manipulating text. \n",
    "\n",
    "To gain practice writing functions and manipulating text, let's try to convert the text of the book Moby Dick from English back into (its original) [Pig Latin](https://en.wikipedia.org/wiki/Pig_Latin). \n",
    "\n",
    "The rules to convert an English word into Pig Latin are as follows:\n",
    "\n",
    "1. If a word starts with a vowel, add the suffix \"way\" to the end of the word. For example, \"eat\" would become \"eatway\"\n",
    "\n",
    "2. If a word starts with a consonant, remove the first letter and add it to the end of the word followed by the string \"ay\". For example, \"pig\" would become \"igpay\"\"   \n",
    "\n",
    "The following exercises will walk you through the process of doing this conversion. The skills you practice on these exercises might be useful for cleaning data for your class project, and will also be a good practice to prepare for the midterm exam. \n"
   ]
  },
  {
   "cell_type": "markdown",
   "metadata": {},
   "source": [
    "**Question 2.1 (4 points)**: To begin, let's write a function called `convert_vowel_word_to_pig_latin(word)` that converts a word that starts with a vowel into its Pig Latin translation. \n",
    "\n",
    "As described above, a word that starts with a vowel can be converted to Pig Latin simply by appending the string \"way\" to the end of the word.\n",
    "\n",
    "Please write the function and test it on the test code given below to show that it works. \n",
    "\n",
    "Hint: We can append to strings together using: \"string1\" + \"string2\""
   ]
  },
  {
   "cell_type": "code",
   "execution_count": 7,
   "metadata": {},
   "outputs": [
    {
     "data": {
      "text/plain": [
       "'owlway'"
      ]
     },
     "execution_count": 7,
     "metadata": {},
     "output_type": "execute_result"
    }
   ],
   "source": [
    "def convert_vowel_word_to_pig_latin(word):\n",
    "    ...\n",
    "\n",
    "\n",
    "\n",
    "# Test function\n",
    "convert_vowel_word_to_pig_latin(\"owl\") "
   ]
  },
  {
   "cell_type": "markdown",
   "metadata": {},
   "source": [
    "**Question 2.2 (5 points)**: Now let's write a function called `convert_consonant_word_to_pig_latin(word)` that converts a word that starts with a consonant into its Pig Latin translation. \n",
    "\n",
    "As described above, a word that starts with a consonant can be converted to Pig Latin simply by:\n",
    "\n",
    "1. Removing the first letter from the word.\n",
    "2. Appending this removed letter to the end of the word.\n",
    "3. Appending the string \"ay\" very end of the word.\n",
    "\n",
    "Please write the function and test it on the test code given below to show that it works. \n",
    "\n",
    "Hint 1: We can access letters of a string in the same way as we can access elements of an array. For example, we can access the 3rd letter of the string `my_string = \"hello\"` using `my_string[2]`.  \n",
    "\n",
    "Note: It could be useful to experiment with manipulating strings outside of the body of the function (e.g., in another experiment code cell), and once you have code that works you can put it inside the function body. In general, first writing code that works to solve a particular task and then turning it into a function can be a useful strategy to make it easier to write functions. \n"
   ]
  },
  {
   "cell_type": "code",
   "execution_count": 32,
   "metadata": {},
   "outputs": [
    {
     "data": {
      "text/plain": [
       "'irdbay'"
      ]
     },
     "execution_count": 32,
     "metadata": {},
     "output_type": "execute_result"
    }
   ],
   "source": [
    "def convert_consonant_word_to_pig_latin(word):\n",
    "    ...\n",
    "\n",
    "\n",
    "\n",
    "convert_consonant_word_to_pig_latin(\"bird\") "
   ]
  },
  {
   "cell_type": "markdown",
   "metadata": {},
   "source": [
    "**Question 2.3 (2 points)**: Ok, now that we have functions that can convert individual words into Pig Latin we are ready to begin converting Moby Dick into Pig Latin. \n",
    "\n",
    "The code below loads Moby Dick into the name `book_data`. Please start by simply printing out the first 150 characters of this book. "
   ]
  },
  {
   "cell_type": "code",
   "execution_count": 8,
   "metadata": {},
   "outputs": [],
   "source": [
    "file = open('moby_dick.txt', 'r', encoding=\"utf8\")\n",
    "book_data = file.read()\n",
    "\n",
    "\n",
    "# print the first 150 characters...\n",
    "\n"
   ]
  },
  {
   "cell_type": "markdown",
   "metadata": {},
   "source": [
    "**Question 2.4 (3 points)**: From looking at the print out of the first 150 characters, you will notice several strange characters such as `\\n`. These characters are adding formatting to the text. For example, the character `\\n` adds a new line to the text. \n",
    "\n",
    "Let's remove the special characters `\\n`, `\\r` and `\\f` and replace each instance of these characters with a single space. Please save the results (your text that does not have these special characters) in the name `book_data2`. Once you have replaced these characters, please print out just the first 150 characters in `book_data2` to show your work. \n",
    "\n",
    "Hint: The `.replace(old_word, new_word)` method will be useful here. It could also be useful to use several lines of code to achieve this goal. If you do use several lines of code, be sure to keep assigning the results back to the modified `book_data2` variable after each of these characters is replaced so that you final result does not contain any of these special characters.\n"
   ]
  },
  {
   "cell_type": "code",
   "execution_count": null,
   "metadata": {},
   "outputs": [],
   "source": [
    "\n",
    "\n",
    "\n",
    "\n"
   ]
  },
  {
   "cell_type": "markdown",
   "metadata": {},
   "source": [
    "**Question 2.5 (3 points)**: Now let's also get rid of punctuation (the period (.) the comma (,), and the semicolon (;)) from the text and replace it with nothing (i.e., replace the punctuation with the empty string `\"\"`). \n",
    "\n",
    "Store the results to the name `book_data3` and again print the first 150 characters to show your work. \n"
   ]
  },
  {
   "cell_type": "code",
   "execution_count": null,
   "metadata": {},
   "outputs": [],
   "source": [
    "\n",
    "\n",
    "\n",
    "\n",
    "\n"
   ]
  },
  {
   "cell_type": "markdown",
   "metadata": {},
   "source": [
    "**Question 2.6 (3 points)**: Finally, let's also replace all double spaces `\"   \"`, with single spaces `\" \"`. Store the results to the name `book_data4` and again print the first 150 characters to show your work. \n"
   ]
  },
  {
   "cell_type": "code",
   "execution_count": null,
   "metadata": {},
   "outputs": [],
   "source": [
    "\n",
    "\n",
    "\n",
    "\n"
   ]
  },
  {
   "cell_type": "markdown",
   "metadata": {},
   "source": [
    "**Question 2.7 (3 points)**: Let's now split our one long book string into a list, where each element of the list is a word. \n",
    "\n",
    "To do this you can use the `.split(separator)` method where the `separator` argument should be set to be a space (i.e., `\" \"`). Please store the results in the name `moby_words` and print the first 10 elements of the list. \n"
   ]
  },
  {
   "cell_type": "code",
   "execution_count": null,
   "metadata": {},
   "outputs": [],
   "source": [
    "\n",
    "\n",
    "\n"
   ]
  },
  {
   "cell_type": "markdown",
   "metadata": {},
   "source": [
    "**Question 2.8 (2 points)**: Now that we have all the words of Moby Dick in a list we are ready to convert them into Pig Latin!  \n",
    "\n",
    "As a first step, it would be useful to check whether a word starts with a vowel or a consonant so that we can use the `convert_vowel_word_to_pig_latin(word)` and `convert_consonant_word_to_pig_latin(word)` functions above on the appropriate type of word. \n",
    "\n",
    "Fortunately, I have written functions that do this for you below! In particular, I have written a function called `starts_with_vowel(word)` which returns `True` if a word starts with a vowel and `False` otherwise. Likewise, I have written a function called `starts_with_consonant(word)` which returns `True` if a word does not start with a vowel, and `True` otherwise. \n",
    "\n",
    "Please write code to test both of these functions by running them with the inputs `owl` and `bird` (i.e., write 4 lines of code that print out the results of both functions on both words). In the answer section, report if these functions work as expected. \n"
   ]
  },
  {
   "cell_type": "code",
   "execution_count": 9,
   "metadata": {},
   "outputs": [],
   "source": [
    "import re\n",
    "\n",
    "def starts_with_vowel(word):\n",
    "    return bool(re.match(\"^[aeiouAEIOU]\", word))\n",
    "\n",
    "def starts_with_consonant(word):\n",
    "    return bool(re.match(\"^[^aeiouAEIOU]\", word))\n",
    "\n",
    "\n",
    "# write code to test these functions\n",
    "\n",
    "\n",
    "\n",
    "\n",
    "\n"
   ]
  },
  {
   "cell_type": "markdown",
   "metadata": {},
   "source": [
    "<font color='red'>**ANSWER**:  \n",
    "\n"
   ]
  },
  {
   "cell_type": "markdown",
   "metadata": {},
   "source": [
    "**Question 2.9 (5 points)**: Ok, time to convert our list of words into Pig Latin. You can do this with the following steps.\n",
    "\n",
    "1. Create an empty list called `pig_words` that will eventually contain all our words converted into Pig Latin.\n",
    "\n",
    "2. Use a for loop to loop through each word in `moby_words`. If a word starts with a vowel, use the `convert_vowel_word_to_pig_latin(word)` to convert it to Pig Latin, and similarly, if a word starts with a consonant, use the `convert_consonant_word_to_pig_latin(word)` function. \n",
    "\n",
    "3. After each word has been converted, append it to the `pig_words` list. \n",
    "\n",
    "At the end of the cell below, print out the first 10 words in the `pig_words` list to show your work. \n"
   ]
  },
  {
   "cell_type": "code",
   "execution_count": null,
   "metadata": {},
   "outputs": [],
   "source": [
    "\n",
    "\n",
    "\n",
    "\n",
    "\n",
    "\n",
    "\n",
    "\n",
    "\n",
    "\n"
   ]
  },
  {
   "cell_type": "markdown",
   "metadata": {},
   "source": [
    "**Question 2.10 (4 points)**: As a final step, let's join all the words in the `pig_words` list into a single string. To do this you can use the string's `.join(a_list)` method. Revisiting homework 2, questions 1.2-1.3 could be useful here. \n",
    "\n",
    "Print out the first 100 characters of the string that has your translation to show your work. In the answer section below, describe if there is anything unsatisfactory about your translation. \n",
    "\n",
    "Note: Herman Melville would be proud.\n"
   ]
  },
  {
   "cell_type": "code",
   "execution_count": null,
   "metadata": {},
   "outputs": [],
   "source": [
    "\n",
    "\n"
   ]
  },
  {
   "cell_type": "markdown",
   "metadata": {},
   "source": [
    "<font color='red'>**ANSWER**:    \n",
    "\n"
   ]
  },
  {
   "cell_type": "markdown",
   "metadata": {
    "tags": []
   },
   "source": [
    "## 3. More practice writing functions: La Quinta and Denny's\n",
    "\n",
    "[La Quinta](https://www.wyndhamhotels.com/laquinta/new-haven-connecticut/la-quinta-inn-and-suites-new-haven/overview) is a hotel chain that has locations across the United States. As one can tell, the name of the hotel chain is in Spanish, and a common question that arises is what does \"La Quinta\" translate to in English? \n",
    "\n",
    "The comedian [Mitch Hedberg](https://en.wikipedia.org/wiki/Mitch_Hedberg) claimed it translated to \"Next to Denny's\". But is that accurate? \n",
    "\n",
    "![Mitch Hedberg](mitch.png)\n",
    "\n",
    "The code below loads the location of every La Quinta hotel and every [Denny's restaurant](https://www.dennys.com/) in the United States. In particular, it creates two ndarrays called `dennys_longs` and `dennys_lats` that had the longitude and latitude locations of every Denny's restaurant in the United States, and also creates two more ndarrays called `laquinta_longs` and `laquinta_lats` that had the longitude and latitude locations of every La Quinta hotel in the United States\n",
    "\n",
    "Let's use this data to examine whether \"La Quinta is Spanish for next to Denny's\" is an accurate statement by calculating the distance from each La Quinta location to the closest Denny's restuarant. \n",
    "\n",
    "Credit: Several authors have contributed to the framing of this data science problem including material analyses by [John Reiser](http://njgeo.org/2014/01/30/mitch-hedberg-and-gis/) and [Mine Cetinkaya-Rundel](https://datasciencebox.org/course-materials/lab-instructions/lab-04/lab-04-viz-sp-data.html)\n",
    "\n"
   ]
  },
  {
   "cell_type": "code",
   "execution_count": 11,
   "metadata": {},
   "outputs": [
    {
     "name": "stdout",
     "output_type": "stream",
     "text": [
      "(1641, 6)\n"
     ]
    },
    {
     "data": {
      "text/html": [
       "<div>\n",
       "<style scoped>\n",
       "    .dataframe tbody tr th:only-of-type {\n",
       "        vertical-align: middle;\n",
       "    }\n",
       "\n",
       "    .dataframe tbody tr th {\n",
       "        vertical-align: top;\n",
       "    }\n",
       "\n",
       "    .dataframe thead th {\n",
       "        text-align: right;\n",
       "    }\n",
       "</style>\n",
       "<table border=\"1\" class=\"dataframe\">\n",
       "  <thead>\n",
       "    <tr style=\"text-align: right;\">\n",
       "      <th></th>\n",
       "      <th>address</th>\n",
       "      <th>city</th>\n",
       "      <th>state</th>\n",
       "      <th>zip</th>\n",
       "      <th>longitude</th>\n",
       "      <th>latitude</th>\n",
       "    </tr>\n",
       "  </thead>\n",
       "  <tbody>\n",
       "    <tr>\n",
       "      <th>1</th>\n",
       "      <td>2900 Denali</td>\n",
       "      <td>Anchorage</td>\n",
       "      <td>AK</td>\n",
       "      <td>99503</td>\n",
       "      <td>-149.8767</td>\n",
       "      <td>61.1953</td>\n",
       "    </tr>\n",
       "    <tr>\n",
       "      <th>2</th>\n",
       "      <td>3850 Debarr Road</td>\n",
       "      <td>Anchorage</td>\n",
       "      <td>AK</td>\n",
       "      <td>99508</td>\n",
       "      <td>-149.8090</td>\n",
       "      <td>61.2097</td>\n",
       "    </tr>\n",
       "    <tr>\n",
       "      <th>3</th>\n",
       "      <td>1929 Airport Way</td>\n",
       "      <td>Fairbanks</td>\n",
       "      <td>AK</td>\n",
       "      <td>99701</td>\n",
       "      <td>-147.7600</td>\n",
       "      <td>64.8366</td>\n",
       "    </tr>\n",
       "    <tr>\n",
       "      <th>4</th>\n",
       "      <td>230 Connector Dr</td>\n",
       "      <td>Auburn</td>\n",
       "      <td>AL</td>\n",
       "      <td>36849</td>\n",
       "      <td>-85.4681</td>\n",
       "      <td>32.6033</td>\n",
       "    </tr>\n",
       "    <tr>\n",
       "      <th>5</th>\n",
       "      <td>224 Daniel Payne Drive N</td>\n",
       "      <td>Birmingham</td>\n",
       "      <td>AL</td>\n",
       "      <td>35207</td>\n",
       "      <td>-86.8317</td>\n",
       "      <td>33.5615</td>\n",
       "    </tr>\n",
       "  </tbody>\n",
       "</table>\n",
       "</div>"
      ],
      "text/plain": [
       "                    address        city state    zip  longitude  latitude\n",
       "1               2900 Denali   Anchorage    AK  99503  -149.8767   61.1953\n",
       "2          3850 Debarr Road   Anchorage    AK  99508  -149.8090   61.2097\n",
       "3          1929 Airport Way   Fairbanks    AK  99701  -147.7600   64.8366\n",
       "4          230 Connector Dr      Auburn    AL  36849   -85.4681   32.6033\n",
       "5  224 Daniel Payne Drive N  Birmingham    AL  35207   -86.8317   33.5615"
      ]
     },
     "execution_count": 11,
     "metadata": {},
     "output_type": "execute_result"
    }
   ],
   "source": [
    "dennys = pd.read_csv(\"dennys.csv\", index_col=0)\n",
    "print(dennys.shape)\n",
    "dennys_longs = np.array(dennys[\"longitude\"])\n",
    "dennys_lats = np.array(dennys[\"latitude\"])\n",
    "dennys.head()"
   ]
  },
  {
   "cell_type": "code",
   "execution_count": 12,
   "metadata": {},
   "outputs": [
    {
     "name": "stdout",
     "output_type": "stream",
     "text": [
      "(895, 6)\n"
     ]
    },
    {
     "data": {
      "text/html": [
       "<div>\n",
       "<style scoped>\n",
       "    .dataframe tbody tr th:only-of-type {\n",
       "        vertical-align: middle;\n",
       "    }\n",
       "\n",
       "    .dataframe tbody tr th {\n",
       "        vertical-align: top;\n",
       "    }\n",
       "\n",
       "    .dataframe thead th {\n",
       "        text-align: right;\n",
       "    }\n",
       "</style>\n",
       "<table border=\"1\" class=\"dataframe\">\n",
       "  <thead>\n",
       "    <tr style=\"text-align: right;\">\n",
       "      <th></th>\n",
       "      <th>address</th>\n",
       "      <th>city</th>\n",
       "      <th>state</th>\n",
       "      <th>zip</th>\n",
       "      <th>longitude</th>\n",
       "      <th>latitude</th>\n",
       "    </tr>\n",
       "  </thead>\n",
       "  <tbody>\n",
       "    <tr>\n",
       "      <th>1</th>\n",
       "      <td>793 W. Bel Air Avenue</td>\n",
       "      <td>Aberdeen</td>\n",
       "      <td>MD</td>\n",
       "      <td>21001</td>\n",
       "      <td>-76.188459</td>\n",
       "      <td>39.523216</td>\n",
       "    </tr>\n",
       "    <tr>\n",
       "      <th>2</th>\n",
       "      <td>3018 CatClaw Dr</td>\n",
       "      <td>\\r\\nAbilene</td>\n",
       "      <td>TX</td>\n",
       "      <td>79606</td>\n",
       "      <td>-99.778765</td>\n",
       "      <td>32.413489</td>\n",
       "    </tr>\n",
       "    <tr>\n",
       "      <th>3</th>\n",
       "      <td>3501 West Lake Rd</td>\n",
       "      <td>\\r\\nAbilene</td>\n",
       "      <td>TX</td>\n",
       "      <td>79601</td>\n",
       "      <td>-99.722688</td>\n",
       "      <td>32.491357</td>\n",
       "    </tr>\n",
       "    <tr>\n",
       "      <th>4</th>\n",
       "      <td>184 North Point Way</td>\n",
       "      <td>\\r\\nAcworth</td>\n",
       "      <td>GA</td>\n",
       "      <td>30102</td>\n",
       "      <td>-84.656087</td>\n",
       "      <td>34.082039</td>\n",
       "    </tr>\n",
       "    <tr>\n",
       "      <th>5</th>\n",
       "      <td>2828 East Arlington Street</td>\n",
       "      <td>\\r\\nAda</td>\n",
       "      <td>OK</td>\n",
       "      <td>74820</td>\n",
       "      <td>-96.636515</td>\n",
       "      <td>34.781805</td>\n",
       "    </tr>\n",
       "  </tbody>\n",
       "</table>\n",
       "</div>"
      ],
      "text/plain": [
       "                      address         city state    zip  longitude   latitude\n",
       "1       793 W. Bel Air Avenue     Aberdeen    MD  21001 -76.188459  39.523216\n",
       "2             3018 CatClaw Dr  \\r\\nAbilene    TX  79606 -99.778765  32.413489\n",
       "3           3501 West Lake Rd  \\r\\nAbilene    TX  79601 -99.722688  32.491357\n",
       "4         184 North Point Way  \\r\\nAcworth    GA  30102 -84.656087  34.082039\n",
       "5  2828 East Arlington Street      \\r\\nAda    OK  74820 -96.636515  34.781805"
      ]
     },
     "execution_count": 12,
     "metadata": {},
     "output_type": "execute_result"
    }
   ],
   "source": [
    "laquinta = pd.read_csv(\"laquinta.csv\", index_col=0)\n",
    "print(laquinta.shape)\n",
    "laquinta_longs = np.array(laquinta[\"longitude\"])\n",
    "laquinta_lats = np.array(laquinta[\"latitude\"])\n",
    "laquinta.head()"
   ]
  },
  {
   "cell_type": "markdown",
   "metadata": {},
   "source": [
    "**Question 3.1 (8 points)**. In order to get the distance between two geographic locations (such as a La Quinta hotel and Denny's restaurant), we need a function that can compute spatial distances. While the Euclidean distance function we created above is good for calculating distances on a flat plane, the Earth is round and thus the Euclidean distance is not an appropriate measure to use (although some people would disagree and say the [earth is flat](https://www.imdb.com/title/tt8132700/)). \n",
    "\n",
    "In order to calculate the distance between longitude and latitude coordinates on a sphere, we can use the [Haversine formula](https://en.wikipedia.org/wiki/Haversine_formula).  Let's write a function called `haversine_dist(long1, lat1, long2, lat2, precision = 3)` which takes in two geographic coordinates `(long1, lat1)` and `(long2, lat2)` and calculates the geographical distance between the points using the Haversine formula. Your function should do the following: \n",
    "\n",
    "1. Convert all the longitude and latitude coordinates into radians by multiplying the original coordinates by $\\pi/180$. In your function, you can do this multiplication and then save the results back into the original argument names of `long1`, `lat1`, `long2`, `lat2`. *Hint: `math.pi` could be useful here.*\n",
    "\n",
    "3. Calculate a value `a` using the formula:  $a ~ = ~ sin^2((lat_2 - lat_1)/2) + cos(lat_1) \\cdot cos(lat_2) \\cdot sin^2((long_2 - long_1)/2)$. *Note: that $sin^2$ is the value you get by taking the sine of an number and then squaring the results. The functions `np.sin()`, `np.cos()` and `np.arcsin()` will be useful for this problem (be sure to use these NumPy rather than functions from other modules).* \n",
    "\n",
    "4. Calculate the distance in kilometers using the formula: $d = R \\cdot 2 \\cdot arcsin(\\sqrt{a})$, where R is the radius of the Earth in kilometers and is equal to a value of 6371.\n",
    "\n",
    "5. Convert the distance from kilometers to miles by multiplying the distance in kilometers by the constant 0.621371.\n",
    "\n",
    "6. Return the results rounded to the number of decimal places specified by the `precision` argument (which should have default value is 3, as already specified in the function arguments). \n",
    "\n",
    "Once you have written the function use the test code below to print the distance between the first La Quinta and the first Denny's (by first La Quinta, we mean the La Quinta at index 0). The code also prints out the addresses of these locations which you will use in the next question. \n"
   ]
  },
  {
   "cell_type": "code",
   "execution_count": 14,
   "metadata": {},
   "outputs": [
    {
     "name": "stdout",
     "output_type": "stream",
     "text": [
      "\n",
      "First La Quinta address:  793 W. Bel Air Avenue, Aberdeen, MD, 21001\n",
      "\n",
      "First Denny's address:  2900 Denali, Anchorage, AK, 99503\n",
      "\n",
      "Calculated distance:    None miles\n"
     ]
    }
   ],
   "source": [
    "import math\n",
    "\n",
    "def haversine_dist(long1, lat1, long2, lat2, precision = 3):\n",
    "    \n",
    "    \n",
    "    \n",
    "    ...\n",
    "\n",
    "\n",
    "    \n",
    "    \n",
    "    \n",
    "    \n",
    "    \n",
    "    \n",
    "    \n",
    "    \n",
    "\n",
    "\n",
    "    \n",
    "\n",
    "    \n",
    "# Testing that the code gives the correct answers (do not change this)\n",
    "\n",
    "\n",
    "print(\"\\nFirst La Quinta address:  \" + laquinta.iloc[0][\"address\"] + \", \" + laquinta.iloc[0][\"city\"] \n",
    "      + \", \" + laquinta.iloc[0][\"state\"] + \", \" + str(laquinta.iloc[0][\"zip\"]) + \"\\n\")\n",
    "\n",
    "print(\"First Denny's address:  \" + dennys.iloc[0][\"address\"] + \", \" + dennys.iloc[0][\"city\"] \n",
    "      + \", \" + dennys.iloc[0][\"state\"] + \", \" + str(dennys.iloc[0][\"zip\"]) + \"\\n\")\n",
    "\n",
    "print(\"Calculated distance:    \"  + \n",
    "      str(haversine_dist(laquinta_longs[0], laquinta_lats[0], dennys_longs[0], dennys_lats[0])) + \" miles\")\n"
   ]
  },
  {
   "cell_type": "markdown",
   "metadata": {},
   "source": [
    "**Question 3.2 (4 points)** Almost any time you write a function, you should immediately check that it is working correctly. When developing complex software, one usually writes \"unit tests\" which consists of a separate set of functions that test that your code/function is working correctly. Here, we will not be so formal as to write unit tests. However, let's check that our function is given reasonable answers by comparing the results that it returns to the results one gets from using Google maps. \n",
    "\n",
    "The code to test your `haversine_dist()` function in the previous question calculates the distance between the first La Quinta location in our data set, and the first Denny's location in our data set, and it also prints the addresses of the first La Quinta location and the first Denny's location. Using this address information, please do the following to get the distance between the first La Quinta and the first Denny's from Google maps:\n",
    "\n",
    "1. Go to [Google maps](https://www.google.com/maps/) and get the driving directions between the first La Quinta and the first Denny's using the address information shown in the previous problem. \n",
    "\n",
    "2. Right click on the La Quinta location in MD, and select \"Measure Distance\" from the bottom of the dropdown menu. \n",
    "\n",
    "3. Click on the location of the Denny's.\n",
    "\n",
    "4. The distance between the locations should be shown near the bottom of the map. \n",
    "\n",
    "5. In the the answer section below, please report what Google maps says the distance between these locations is, and comment on how well the `haversine_dist()` function you wrote above is working. \n",
    "\n",
    "\n",
    "Hint: your `haversine_dist()` function and the Google maps results should differ by less than 10 miles. If it is off by more than this, please fix your `haversine_dist()` function before going on to the next question. \n"
   ]
  },
  {
   "cell_type": "code",
   "execution_count": null,
   "metadata": {},
   "outputs": [],
   "source": [
    "# Calculate the percent that our function differs from the distance given by Google maps\n",
    "\n"
   ]
  },
  {
   "cell_type": "markdown",
   "metadata": {},
   "source": [
    "<font color='red'> **Answer** \n"
   ]
  },
  {
   "cell_type": "markdown",
   "metadata": {},
   "source": [
    "**Question 3.3 (5 points)** Now use your `haversine_dist()` to calculate the distance between the first La Quinta and *all* the Denny's in the data set, and save the results to the name `first_la_quinta_distances`.  If you have implemented your `haversine_dist()` correctly using NumPy, you should be able to call the `haversine_dist()` with the longitude and latitude of the first La Quinta, and the ndarrays of all the denny's longitudes and latitudes (i.e., your code to get all the distances should be one line long and you do not need to use a for loop). Also print out the first 10 distances to show that your code is working correctly."
   ]
  },
  {
   "cell_type": "code",
   "execution_count": 15,
   "metadata": {},
   "outputs": [],
   "source": [
    "# get the distances between the first La Quinta and all the Denny's locations\n",
    "\n",
    "\n",
    "\n",
    "# print out the first 10 distances to show your code is working correctly\n",
    "\n",
    "\n"
   ]
  },
  {
   "cell_type": "markdown",
   "metadata": {},
   "source": [
    "**Question 3.4 (6 points)** Let's create a function callled `dist_closest_dennys(long, lat)` that takes a longitude and a latitude location and returns the distance to the closest Denny's (of all the Denny's in the United States). \n",
    "\n",
    "\n",
    "Once you have written this code, show that you code is working by printing:\n",
    "\n",
    "1. The distance between the first La Quinta and the closest Denny's.\n",
    "\n",
    "2. The distance to the closest Denny's from our classroom at Yale. \n",
    "\n",
    "Also take a moment to appreciate what you have done. No matter where you are in the USA, you can now run this code to know how far away you are from a Denny's. \n",
    "\n",
    "\n",
    "Hints: Functions can access data that is outside their function body (e.g., your function can access the data in the `dennys_longs` and `dennys_lats` ndarrays without needed to pass them as arguments). Our function body consisted of two lines of code.\n",
    "\n",
    "Note: Unfortunately, the closest Denny's in the data set to our classroom has closed :(.  Perhaps later in the semester we can learn out to scrape the data from the internet to get a more updated Denny's list, and/or we can work together to try to reopen that Denny's. "
   ]
  },
  {
   "cell_type": "code",
   "execution_count": 16,
   "metadata": {},
   "outputs": [],
   "source": [
    "def dist_closest_dennys(long, lat):\n",
    "    \n",
    "    ...\n",
    "\n",
    "\n",
    "\n",
    "    \n",
    "# Print the distance from the first La Quinta to the closest Denny's\n",
    "\n",
    "\n",
    "\n",
    "\n",
    "# Print the from our classroom at Yale to the closest Denny's\n",
    "\n",
    "\n"
   ]
  },
  {
   "cell_type": "markdown",
   "metadata": {},
   "source": [
    "**Question 3.5 (6 points):**  We are now getting significantly closer to ruining Mitch Hedberg's joke! (if we haven't already ruined it). Let's continue with our analysis by using a for loop to calculate distance between each La Quinta and the its closest Denny's. Store the result in a list named `distances_to_dennys`. To show your code is working correctly, print the first 10 elements in this list which should correspond to the distanece to the first 10 La Quinta's in our ndarrays of La Quinta longitudes and latitudes. \n",
    "\n",
    "Hint: Our code below consisted of 4 lines including the line to print the first 10 distances.\n"
   ]
  },
  {
   "cell_type": "code",
   "execution_count": 17,
   "metadata": {},
   "outputs": [],
   "source": [
    "# Calculate the distance between all La Quintas and their closest Denny's\n",
    "\n",
    "\n",
    "\n",
    "\n",
    "\n",
    "\n",
    "\n",
    "\n",
    "\n",
    "# print the distances to the closest Denny's for the first 10 La Quintas\n",
    "\n",
    "\n"
   ]
  },
  {
   "cell_type": "markdown",
   "metadata": {},
   "source": [
    "**Question 3.6 (5 points):** Let's now create some summary statistics and visualization of these distances. \n",
    "\n",
    "Please start by plotting a histogram of distances between all La Quinta's and their closest Denny's. Also, in the answer section, please answer these questions (and in the code section below print out statistics that support your answers):\n",
    "\n",
    "1. In feet, what is the closest distance between a La Quinta and a Denny's?  \n",
    "2. In miles, what is the furthest distance between a La Quinta and a Denny's?  \n",
    "3. In miles, what is the mean and median distance between a La Quinta and a Denny's?  \n",
    "4. Based on the histogram of the data, does it make sense that the mean distance would be larger than the median distance? In 1-3 sentences, explain why. \n"
   ]
  },
  {
   "cell_type": "code",
   "execution_count": null,
   "metadata": {},
   "outputs": [],
   "source": [
    "# Create a histogram of the distances to Denny's\n",
    "\n",
    "\n",
    "\n",
    "\n",
    "\n",
    "\n",
    "# print out statistics that support answers to the questions posed.\n",
    "\n",
    "# 1. In feet, the distance between the La Quinta and Denny's that are closest together\n",
    "\n",
    "\n",
    "\n",
    "# 2. In miles, the furthest distance between a La Quinta and a Denny's\n",
    "\n",
    "\n",
    "\n",
    "# 3. In miles, the mean and median distance between a La Quinta and a Denny's\n",
    "\n",
    "\n",
    "\n"
   ]
  },
  {
   "cell_type": "markdown",
   "metadata": {},
   "source": [
    "<font color='red'> **Answers**\n",
    "\n",
    "1. \n",
    "\n",
    "2. \n",
    "\n",
    "3. \n",
    "\n",
    "4. \n",
    "\n",
    "\n",
    "</font>\n"
   ]
  },
  {
   "cell_type": "markdown",
   "metadata": {},
   "source": [
    "**Question 3.7 (5 points):**  Finally, please answer the following questions: \n",
    "\n",
    "1. Describe whether Mitch's joke has some truth to it; i.e., is it really the case that La Quintas are close to Denny's?   \n",
    "\n",
    "2. Briefly describe whether there are other analyses that would be good to do to better assess whether it is true that La Quinta's are close to Denny's. \n",
    "\n",
    "3. Briefly describe other questions that would be interesting to know the answer given the data and/or given the results you have. \n",
    "\n"
   ]
  },
  {
   "cell_type": "markdown",
   "metadata": {},
   "source": [
    "<font color='red'> **Answers**\n",
    "\n",
    "1. \n",
    "\n",
    "   \n",
    "2. \n",
    "\n",
    " \n",
    "3. \n",
    "\n",
    "\n",
    "\n"
   ]
  },
  {
   "cell_type": "markdown",
   "metadata": {
    "tags": []
   },
   "source": [
    "## 4. Project progress  (4 points)\n",
    "\n",
    "In the Markdown section below, please briefly describe what you class project is on and the progress you have made on the project so far. Also, please load the data you will use for your project below and optionally show one visualization of the data you have created. \n",
    "\n"
   ]
  },
  {
   "cell_type": "markdown",
   "metadata": {},
   "source": [
    "### Please briefly describe what your questions your project will address\n",
    "\n",
    "\n",
    "\n"
   ]
  },
  {
   "cell_type": "code",
   "execution_count": null,
   "metadata": {},
   "outputs": [],
   "source": [
    "# If you have found data for your project, \n",
    "# please load it below and print the first few rows of the data\n",
    "\n",
    "\n",
    "\n",
    "\n"
   ]
  },
  {
   "cell_type": "code",
   "execution_count": null,
   "metadata": {},
   "outputs": [],
   "source": [
    "# Please load your data here, and optionally show one visualization you have created so far. \n",
    "\n",
    "\n",
    "\n",
    "\n"
   ]
  },
  {
   "cell_type": "markdown",
   "metadata": {},
   "source": [
    "## 5. Reflection (3 points)\n",
    "\n",
    "Please reflect on how the homework went by going to Canvas, going to the Quizzes link, and clicking on reflection on homework 6. \n",
    "\n",
    "Also, please answer a few additional questions on the reflection about how the class is going for you which will be helpful for me so that I can make adjustments to the class after the break to make sure it is going as smoothly as possible for everyone. \n"
   ]
  },
  {
   "cell_type": "markdown",
   "metadata": {},
   "source": [
    "6. Submission\n",
    "\n",
    "Please submit your assignment as a .pdf on Gradescope. You can access Gradescope through Canvas on the left hand side of the class home page. The problems in each homework assignment are numbered. **NOTE:** When submitting on Gradescope, please select the correct pages of your pdf that correspond to each problem. **Failure to mark pages correctly will result in points being deducted from your homework score.**\n",
    "\n",
    "If you are running Jupyter Notebooks through an Anaconda installation on your own computer, you can produce the .pdf by completing the following steps:  \n",
    "1.  Go to \"File\" at the top-left of your Jupyter Notebook\n",
    "2.  Under \"Download as\", select \"HTML (.html)\"\n",
    "3.  After the .html has downloaded, open it and then select \"File\" and \"Print\" (note you will not actually be printing)\n",
    "4.  From the print window, select the option to save as a .pdf\n",
    "\n",
    "If you are running the assignment in a Google Colabs, you can use the following instructions: \n",
    "1.  Go to \"File\" at the top-left of your Jupyter Notebook and select \"File\" and \"Print\" (note you will not actually be printing)\n",
    "2. From the print window, select the option to save as a .pdf\n",
    "3. Be sure to look over the pdf file to make sure all your code and written work is saved in a clear way."
   ]
  },
  {
   "cell_type": "markdown",
   "metadata": {},
   "source": [
    "![sign](sign.jpg)"
   ]
  }
 ],
 "metadata": {
  "kernelspec": {
   "display_name": "Python 3 (ipykernel)",
   "language": "python",
   "name": "python3"
  },
  "language_info": {
   "codemirror_mode": {
    "name": "ipython",
    "version": 3
   },
   "file_extension": ".py",
   "mimetype": "text/x-python",
   "name": "python",
   "nbconvert_exporter": "python",
   "pygments_lexer": "ipython3",
   "version": "3.11.7"
  }
 },
 "nbformat": 4,
 "nbformat_minor": 4
}
