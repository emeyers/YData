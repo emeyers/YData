{
 "cells": [
  {
   "cell_type": "markdown",
   "metadata": {},
   "source": [
    "# Class 13: Data visualization continued and text manipulation\n",
    "\n",
    "Plan for today:\n",
    "- Review data visualization using matplotlib\n",
    "- Data visualization using seaborn\n",
    "- If there is time: text manipulation\n"
   ]
  },
  {
   "cell_type": "markdown",
   "metadata": {},
   "source": [
    "## Notes on the class Jupyter setup\n",
    "\n",
    "If you have the *ydata123_2023e* environment set up correctly, you can get the class code using the code below (which presumably you've already done given that you are seeing this notebook).  "
   ]
  },
  {
   "cell_type": "code",
   "execution_count": null,
   "metadata": {},
   "outputs": [],
   "source": [
    "import YData\n",
    "\n",
    "# YData.download.download_class_code(13)   # get class code    \n",
    "# YData.download.download_class_code(13, TRUE) # get the code with the answers \n",
    "\n",
    "YData.download.download_data(\"dow.csv\")\n"
   ]
  },
  {
   "cell_type": "markdown",
   "metadata": {},
   "source": [
    "There are also similar functions to download the homework:"
   ]
  },
  {
   "cell_type": "code",
   "execution_count": null,
   "metadata": {},
   "outputs": [],
   "source": [
    "# YData.download.download_homework(6)  # downloads the homework "
   ]
  },
  {
   "cell_type": "markdown",
   "metadata": {},
   "source": [
    "If you are using colabs, you should install polars and the YData packages by uncommenting and running the code below."
   ]
  },
  {
   "cell_type": "code",
   "execution_count": null,
   "metadata": {},
   "outputs": [],
   "source": [
    "# !pip install https://github.com/emeyers/YData_package/tarball/master"
   ]
  },
  {
   "cell_type": "markdown",
   "metadata": {},
   "source": [
    "If you are using google colabs, you should also uncomment and run the code below to mount the your google drive"
   ]
  },
  {
   "cell_type": "code",
   "execution_count": null,
   "metadata": {},
   "outputs": [],
   "source": [
    "# from google.colab import drive\n",
    "# drive.mount('/content/drive')"
   ]
  },
  {
   "cell_type": "code",
   "execution_count": null,
   "metadata": {},
   "outputs": [],
   "source": [
    "import pandas as pd\n",
    "import statistics\n",
    "import numpy as np\n",
    "from datetime import datetime\n",
    "\n",
    "import matplotlib.pyplot as plt\n",
    "%matplotlib inline"
   ]
  },
  {
   "cell_type": "markdown",
   "metadata": {},
   "source": [
    "## Warm-up exercises: data visualization with matplotlib\n",
    "\n",
    "As some warm-up/review exercises, let's use matplotlib to create the following types of plots: \n",
    "\n",
    "1. Visualizing the relationship between two quantitative variables\n",
    "2. Visualizing the distribution of a single quantitative variable in 2 different ways.\n",
    "3. Visualizing categorical data in two different ways.\n",
    "\n",
    "To do this we will visualize information on returns of the Dow Jones Industrial Average which is loaded below.\n"
   ]
  },
  {
   "cell_type": "code",
   "execution_count": null,
   "metadata": {},
   "outputs": [],
   "source": [
    "dow = pd.read_csv(\"dow.csv\", parse_dates = [0])\n",
    "\n",
    "dow.head(3)"
   ]
  },
  {
   "cell_type": "markdown",
   "metadata": {},
   "source": [
    "#### Warm-up 1: Visualizing the relationship between two quantitative variables\n",
    "\n",
    "To start with, create a visualization of the closing dow index value as a function of the opening dow value. \n",
    "\n",
    "As always, it is best to first think what you want to do, and then think about how to do in. For data visualization, this means thinking what *type of plot you want to create* (e.g., sketching it on paper first can be a good idea), and then thinking about how to write the matplotlib code to create the plot. \n",
    " "
   ]
  },
  {
   "cell_type": "code",
   "execution_count": null,
   "metadata": {},
   "outputs": [],
   "source": [
    "# Visualize the relationship between opening and close DOW index values\n",
    "\n",
    "\n",
    "\n"
   ]
  },
  {
   "cell_type": "markdown",
   "metadata": {},
   "source": [
    "#### Warm-up 2: Visualizing the distribution of a single quantitative variable\n",
    "\n",
    "Now to practice creating a plot of a single quantitative variable, please creates visualization of just the opening dow value. \n",
    "\n",
    "Please do this with two subplots (1 row, 2 columns) where each subplot visualizing the opening value in a different way. Again, first thinking about what the plots show look like before creating them is a good idea. "
   ]
  },
  {
   "cell_type": "code",
   "execution_count": null,
   "metadata": {},
   "outputs": [],
   "source": [
    "# Visualize the distribution of the opening price in two different ways\n",
    "\n",
    "\n",
    "\n",
    "\n",
    "\n",
    "\n",
    "\n",
    "\n",
    "\n"
   ]
  },
  {
   "cell_type": "markdown",
   "metadata": {},
   "source": [
    "#### Warm-up 3: Visualizing categorical data in two different ways\n",
    "\n",
    "Now let's visualize categorical data. The code below creates a DataFrame that, for each day of the week, counts how many times the market was open for trading stocks.  \n",
    "\n",
    "Please use this data to create two subplots (1 row, 2 columns) where you visualize how many times the DOW Jones was open for each day of the week in two different ways. \n"
   ]
  },
  {
   "cell_type": "code",
   "execution_count": null,
   "metadata": {},
   "outputs": [],
   "source": [
    "day_count = (dow\n",
    "              .groupby(\"Day\")\n",
    "              .agg(count = (\"Date\", \"count\"))\n",
    "              .reset_index()\n",
    "             )\n",
    "\n",
    "display(day_count)\n"
   ]
  },
  {
   "cell_type": "code",
   "execution_count": null,
   "metadata": {},
   "outputs": [],
   "source": [
    "# Visualize how many times the market was open on each day of the week\n",
    "# Please do this in two different ways using subplots \n",
    "\n",
    "\n",
    "\n",
    "\n",
    "\n",
    "\n",
    "\n",
    "\n",
    "\n"
   ]
  },
  {
   "cell_type": "markdown",
   "metadata": {},
   "source": [
    "## Seaborn!\n",
    "\n",
    "[Seaborn](https://seaborn.pydata.org/index.html) is a Python data visualization library based on matplotlib. It provides a high-level interface for drawing attractive and informative statistical graphics. \n",
    "\n",
    "I.e., it is built on top of of matplotlib but produces better looking plots that are easier to create. \n",
    "\n",
    "Let's start by examining different themes which can produce better looking plots. We can do this using the `sns.set_theme()` method. \n"
   ]
  },
  {
   "cell_type": "code",
   "execution_count": null,
   "metadata": {},
   "outputs": [],
   "source": [
    "# Import seaborn\n",
    "import seaborn as sns\n",
    "\n",
    "# Apply the default theme\n",
    "sns.set_theme()   # default style is 'darkgrid')\n",
    "#sns.set_theme(style='whitegrid')\n",
    "\n",
    "# Side note: Matplotlib also has themes\n",
    "# plt.style.available\n",
    "# plt.style.use('fivethirtyeight')\n",
    "\n",
    "\n",
    "# Re-create a line plot of wheat prices over time here\n",
    "\n",
    "\n",
    "\n",
    "\n",
    "\n",
    "\n"
   ]
  },
  {
   "cell_type": "markdown",
   "metadata": {},
   "source": [
    "### Plotting relationships between two quantitative variables\n",
    "\n",
    "We can plot relationships between two quantitative variables using the `sns.relplot()` function\n"
   ]
  },
  {
   "cell_type": "code",
   "execution_count": null,
   "metadata": {},
   "outputs": [],
   "source": [
    "# plot relationship between gas and egg prices\n",
    "\n",
    "\n"
   ]
  },
  {
   "cell_type": "markdown",
   "metadata": {},
   "source": [
    "#### Penguins!\n",
    "\n",
    "Let's continue to explore the relplot using data on penguins. \n",
    "\n",
    "We will also look at mapping other features of our data onto visual properties including: \n",
    "- `x`, and `y` column names to be plotted (as we have done before)\n",
    "- `hue`: The column name to be mapped to the color of the points\n",
    "- `size`: The column name to be mapped to the size of points\n",
    "- `style`: The column name to be mapped to the style of the markers\n",
    "- `col`: fThe column name to be mapped to faceting to compare multiple subplots\n"
   ]
  },
  {
   "cell_type": "code",
   "execution_count": null,
   "metadata": {},
   "outputs": [],
   "source": [
    "# Let's look at some penguins\n",
    "penguins = sns.load_dataset(\"penguins\")\n",
    "\n",
    "print(type(penguins))\n",
    "\n",
    "penguins.head()\n"
   ]
  },
  {
   "cell_type": "code",
   "execution_count": null,
   "metadata": {},
   "outputs": [],
   "source": [
    "# plotting bill size on x, and y axes and other properties\n",
    "\n",
    "\n",
    "\n",
    "\n",
    "\n",
    "\n",
    "\n"
   ]
  },
  {
   "cell_type": "markdown",
   "metadata": {},
   "source": [
    "### Plotting a single quantitative variable\n",
    "\n",
    "We can plot a single quantitative variables using the `sns.displot()` function.\n",
    "\n",
    "Properties we can set include\n",
    "- `x`: The name of the data column you want to plot\n",
    "- `hue`: The name of the column that colors each point\n",
    "- `kind` The type of plot\n",
    "\n",
    "Different options for `kind` are: “hist”, “kde”, “ecdf”\n"
   ]
  },
  {
   "cell_type": "code",
   "execution_count": null,
   "metadata": {},
   "outputs": [],
   "source": [
    "# plot the flipper length\n",
    "\n",
    "\n",
    "\n",
    "\n",
    "\n",
    "\n"
   ]
  },
  {
   "cell_type": "markdown",
   "metadata": {},
   "source": [
    "### Plotting a quantitative variable for different categorical variable levels\n",
    "\n",
    "We can plot a quantitative variable for different categorical variable levels using the `sns.catplot()` function.\n",
    "\n",
    "We specify: \n",
    "- `x`: Cateogoral x-value column name\n",
    "- `y`: Quantitative y-value column name\n",
    "- `kind`: The type of plot\n",
    "\n",
    "The `kind` argument can be set to the following: “strip”, “swarm”, “box”, “violin”, “boxen”, “point”, “bar”, or “count”\n"
   ]
  },
  {
   "cell_type": "code",
   "execution_count": null,
   "metadata": {},
   "outputs": [],
   "source": [
    "# plot flipper length for the different species using different kinds of plots\n",
    "\n",
    "\n",
    "\n",
    "\n",
    "\n",
    "\n",
    "\n",
    "# also try “strip”, “swarm”, “box”, “violin”, “boxen”, “point”, or “bar”"
   ]
  },
  {
   "cell_type": "markdown",
   "metadata": {},
   "source": [
    "<img src = \"https://i.imgflip.com/1ezfdq.jpg\">"
   ]
  },
  {
   "cell_type": "markdown",
   "metadata": {},
   "source": [
    "## Text manipulation\n",
    "\n",
    "A large part of Data Scientists' time is spent cleaning data, and a large part of data cleaning consists of manipulating text.\n",
    "\n",
    "Let's explore some of the functions that are built into Python for manipulating strings of text. \n"
   ]
  },
  {
   "cell_type": "markdown",
   "metadata": {},
   "source": [
    "### 1. Changing capitalization\n",
    "\n",
    "One of the most basic things we can do is to change the capitalization of a piece of text. \n",
    "\n",
    "One case where this comes up is when one is merging two DataFrames that have the same key values but the values have different capitalization. For example, one might have two DataFrames that have a column that has the names of different countries, but in one DataFrame the country names are capitalized and in the other they are not. \n",
    "\n",
    "Python strings have a number of methods to change the capitalization of words including: \n",
    "\n",
    "- `capitalize()`: Converts the first character to upper case\n",
    "- `lower()`: Converts a string into lower case\n",
    "- `upper()`: Converts a string into upper case\n",
    "- `title()`: Converts the first character of each word to upper case\n",
    "- `swapcase()`: Swaps cases, lower case becomes upper case and vice versa\n",
    "\n",
    "Let's explore these methods by manipulating this [quote](https://www.brainyquote.com/topics/yale-quotes) from [Herman Melville](https://en.wikipedia.org/wiki/Herman_Melville): \"a whale ship was my Yale College and my Harvard\". \n"
   ]
  },
  {
   "cell_type": "code",
   "execution_count": null,
   "metadata": {},
   "outputs": [],
   "source": [
    "melville_quote = \"a whale ship was my Yale College and my Harvard\"\n",
    "\n",
    "melville_quote\n"
   ]
  },
  {
   "cell_type": "code",
   "execution_count": null,
   "metadata": {},
   "outputs": [],
   "source": [
    "# Capitalize the first letter \n",
    "\n"
   ]
  },
  {
   "cell_type": "code",
   "execution_count": null,
   "metadata": {},
   "outputs": [],
   "source": [
    "# convert all letters to lower case\n",
    "\n"
   ]
  },
  {
   "cell_type": "code",
   "execution_count": null,
   "metadata": {},
   "outputs": [],
   "source": [
    "# convert all letters to upper case\n",
    "\n"
   ]
  },
  {
   "cell_type": "code",
   "execution_count": null,
   "metadata": {},
   "outputs": [],
   "source": [
    "# make the first letter of each word capitalized\n",
    "\n"
   ]
  },
  {
   "cell_type": "code",
   "execution_count": null,
   "metadata": {},
   "outputs": [],
   "source": [
    "# Make uppercase lowercase, and lowercase uppercase\n",
    "\n",
    "\n"
   ]
  },
  {
   "cell_type": "markdown",
   "metadata": {},
   "source": [
    "### 2. String padding\n",
    "\n",
    "Often we want to remove extra spaces (called \"white space\") from the front or end of a string. Or conversely, sometimes we want to add extra spaces to make a set of strings the same length (this is known as \"string padding\"). \n",
    "\n",
    "Python strings have a number of methods that can pad/trim strings including: \n",
    "\n",
    "- `strip()`: Returns a trimmed version of the string (i.e., with no leading or trailing white space). \n",
    "- `rstrip()`: Returns a right trim version of the string\n",
    "- `lstrip()`: Returns a left trim version of the string\n",
    "\n",
    "- `center(num)`: Returns a centered string (with equal padding on both sides)\n",
    "- `ljust(num)`: Returns a left justified version of the string\n",
    "- `rjust(num)`: Returns a right justified version of the string\n",
    "\n",
    "- `zfill(num)`: Fills the string with a specified number of 0 values at the beginning\n",
    "\n",
    "Let's use a modified version of Melville quote to explore this\n"
   ]
  },
  {
   "cell_type": "code",
   "execution_count": null,
   "metadata": {},
   "outputs": [],
   "source": [
    "melville_quote2 = \"    a whale ship was my Yale College and my Harvard   \"\n",
    "melville_quote2"
   ]
  },
  {
   "cell_type": "code",
   "execution_count": null,
   "metadata": {},
   "outputs": [],
   "source": [
    "# strip the white space\n",
    "\n"
   ]
  },
  {
   "cell_type": "code",
   "execution_count": null,
   "metadata": {},
   "outputs": [],
   "source": [
    "# strip just the left the white space\n",
    "\n"
   ]
  },
  {
   "cell_type": "code",
   "execution_count": null,
   "metadata": {},
   "outputs": [],
   "source": [
    "# center the quote by padding with white space \n",
    "#. to have a total of 70 characters\n",
    "\n"
   ]
  },
  {
   "cell_type": "code",
   "execution_count": null,
   "metadata": {},
   "outputs": [],
   "source": [
    "# make a number have leading 0's \n",
    "# (why is this useful)\n",
    "\n",
    "\n"
   ]
  },
  {
   "cell_type": "markdown",
   "metadata": {},
   "source": [
    "### 3. Checking string properties\n",
    "\n",
    "There are also many functions to check properties of strings including:\n",
    "\n",
    "- `isalnum()`: Returns True if all characters in the string are alphanumeric\n",
    "- `isalpha()`: Returns True if all characters in the string are in the alphabet\n",
    "- `isnumeric()`: Returns True if all characters in the string are numeric\n",
    "\n",
    "- `isspace()`: Returns True if all characters in the string are whitespaces\n",
    "\n",
    "- `islower()`: Returns True if all characters in the string are lower case\n",
    "- `isupper()`:Returns True if all characters in the string are upper case\n",
    "- `istitle()`: Returns True if the string follows the rules of a title\n",
    "\n",
    "Let's test some of these methods out...\n"
   ]
  },
  {
   "cell_type": "code",
   "execution_count": null,
   "metadata": {},
   "outputs": [],
   "source": [
    "# checking if a string is all letters\n",
    "\n",
    "\n",
    "\n",
    "\n"
   ]
  },
  {
   "cell_type": "code",
   "execution_count": null,
   "metadata": {},
   "outputs": [],
   "source": [
    "# checking if a string is all numbers\n",
    "\n"
   ]
  },
  {
   "cell_type": "code",
   "execution_count": null,
   "metadata": {},
   "outputs": [],
   "source": [
    "# checking if a string only contains spaces\n",
    "\n",
    "\n",
    "\n",
    "\n",
    "# also works for new line characters \\n, and tables \\t\n",
    "\n",
    "\n"
   ]
  },
  {
   "cell_type": "code",
   "execution_count": null,
   "metadata": {},
   "outputs": [],
   "source": [
    "# checking if a string is upper case\n",
    "\n"
   ]
  },
  {
   "cell_type": "markdown",
   "metadata": {},
   "source": [
    "### 4. Splitting and joining strings\n",
    "\n",
    "There are several methods that can help us join strings that are contained into a list into a single string, or conversely, parse a single string into a list of strings. These include: \n",
    "\n",
    "- `split(separator_string)`: Splits the string at the specified separator, and returns a list\n",
    "- `splitlines()`: Splits the string at line breaks and returns a list\n",
    "\n",
    "- `join(a_list)`: Converts the elements of an iterable into a string"
   ]
  },
  {
   "cell_type": "code",
   "execution_count": null,
   "metadata": {},
   "outputs": [],
   "source": [
    "# split the Melville quote at each space into a list\n",
    "\n"
   ]
  },
  {
   "cell_type": "code",
   "execution_count": null,
   "metadata": {},
   "outputs": [],
   "source": [
    "# split a string at each line into a list\n",
    "\n",
    "poem = \"\"\"Some say the world will end in fire,\n",
    "Some say in ice.\n",
    "From what I’ve tasted of desire\n",
    "I hold with those who favor fire.\n",
    "But if it had to perish twice,\n",
    "I think I know enough of hate\n",
    "To say that for destruction ice\n",
    "Is also great\n",
    "And would suffice.\"\"\"\n",
    "\n"
   ]
  },
  {
   "cell_type": "code",
   "execution_count": null,
   "metadata": {},
   "outputs": [],
   "source": [
    "# join a string together\n",
    "\n",
    "a_list = [\"A\", \"Whale\", \"of\", \"a\", \"Tale\"]\n",
    "\n",
    "\n",
    "\n"
   ]
  },
  {
   "cell_type": "markdown",
   "metadata": {},
   "source": [
    "### 5. Finding and replacing substrings\n",
    "\n",
    "Some methods for locating a substring within a larger string include: \n",
    "\n",
    "- `count(substring)`: Returns the number of times a specified value occurs in a string\n",
    "- `rfind(substring)`: Searches the string for a specified value and returns the last position of where it was found. (also see `rindex()`)\n",
    "\n",
    "- `startswith(substring)`: Returns true if the string starts with the specified value\n",
    "- `endswith(substring)` : Returns true if the string ends with the specified value\n",
    "\n",
    "- `replace(original_str, replacement_str)`: Replace a substring with a different string. "
   ]
  },
  {
   "cell_type": "code",
   "execution_count": null,
   "metadata": {},
   "outputs": [],
   "source": [
    "# How many times does the word \"my\" occur in the Melville quote? \n",
    "\n"
   ]
  },
  {
   "cell_type": "code",
   "execution_count": null,
   "metadata": {},
   "outputs": [],
   "source": [
    "# at what index does the first instance of \"my\" occur?\n",
    "\n"
   ]
  },
  {
   "cell_type": "code",
   "execution_count": null,
   "metadata": {},
   "outputs": [],
   "source": [
    "# does the quote start with \"a\"?\n",
    "\n"
   ]
  },
  {
   "cell_type": "code",
   "execution_count": null,
   "metadata": {},
   "outputs": [],
   "source": [
    "# does the quote end with Harvard? \n",
    "\n"
   ]
  },
  {
   "cell_type": "code",
   "execution_count": null,
   "metadata": {},
   "outputs": [],
   "source": [
    "# replace a substring\n",
    "\n",
    "\n"
   ]
  },
  {
   "cell_type": "markdown",
   "metadata": {},
   "source": [
    "### 6. Filling in strings with particular values\n",
    "\n",
    "There are a number of ways to fill in strings parts of a string with particular values. Perhaps the most useful is to use \"f strings\", which have the following syntax such as: \n",
    "\n",
    "`f\"my string {value_to_fill} will be filled in\"`.\n",
    "\n",
    "Where the value of the variable `value_to_fill` will be filled into the string. \n",
    "\n",
    "Let's try it out... \n"
   ]
  },
  {
   "cell_type": "code",
   "execution_count": null,
   "metadata": {},
   "outputs": [],
   "source": [
    "# Let's use an f-string\n",
    "\n",
    "\n",
    "\n"
   ]
  },
  {
   "cell_type": "code",
   "execution_count": null,
   "metadata": {},
   "outputs": [],
   "source": [
    "# We can also do formatting with f-strings\n",
    "\n",
    "\n",
    "\n"
   ]
  },
  {
   "cell_type": "markdown",
   "metadata": {},
   "source": [
    "### Example: string processing on webpages\n",
    "\n",
    "As an example, let's do some string processing on webpages!\n"
   ]
  },
  {
   "cell_type": "code",
   "execution_count": null,
   "metadata": {},
   "outputs": [],
   "source": [
    "# Download a webpage and save it as a file called politics.html\n",
    "\n",
    "import requests\n",
    "\n",
    "url = 'https://www.foxnews.com/politics/white-house-doctor-says-biden-fit-serve-president'\n",
    "r = requests.get(url, allow_redirects=True)\n",
    "open('politics.html', 'wb').write(r.content)\n",
    "\n"
   ]
  },
  {
   "cell_type": "code",
   "execution_count": null,
   "metadata": {},
   "outputs": [],
   "source": [
    "# read in the file as a string called webpage_string\n",
    "file = open('politics.html', 'r', encoding=\"utf8\")\n",
    "webpage_string = file.read()\n",
    "\n",
    "# look at the first 300 characters \n",
    "\n"
   ]
  },
  {
   "cell_type": "code",
   "execution_count": null,
   "metadata": {},
   "outputs": [],
   "source": [
    "# Replace a word on the webpage\n",
    "\n",
    "\n"
   ]
  },
  {
   "cell_type": "code",
   "execution_count": null,
   "metadata": {},
   "outputs": [],
   "source": [
    "# write updated string to a file\n",
    "text_file = open(\"updated_politics.html\", \"w\", encoding=\"utf8\")\n",
    "n = text_file.write(webpage_updated)\n",
    "text_file.close()"
   ]
  },
  {
   "cell_type": "markdown",
   "metadata": {},
   "source": [
    "<img src = \"https://i1.sndcdn.com/avatars-000316245474-0yp1vu-t500x500.jpg\">"
   ]
  }
 ],
 "metadata": {
  "anaconda-cloud": {},
  "kernelspec": {
   "display_name": "Python [conda env:anaconda3-ydata123_2023f]",
   "language": "python",
   "name": "conda-env-anaconda3-ydata123_2023f-py"
  },
  "language_info": {
   "codemirror_mode": {
    "name": "ipython",
    "version": 3
   },
   "file_extension": ".py",
   "mimetype": "text/x-python",
   "name": "python",
   "nbconvert_exporter": "python",
   "pygments_lexer": "ipython3",
   "version": "3.11.0"
  }
 },
 "nbformat": 4,
 "nbformat_minor": 4
}
