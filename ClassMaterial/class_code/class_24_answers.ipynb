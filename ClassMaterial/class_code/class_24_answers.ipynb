{
 "cells": [
  {
   "cell_type": "markdown",
   "metadata": {},
   "source": [
    "# Class 24: Unsupervised learning\n",
    "\n",
    "Plan for today:\n",
    "- Clustering\n",
    "- Object-oriented programming\n"
   ]
  },
  {
   "cell_type": "code",
   "execution_count": 1,
   "metadata": {},
   "outputs": [],
   "source": [
    "import YData\n",
    "\n",
    "# YData.download.download_class_code(24)   # get class code    \n",
    "# YData.download.download_class_code(24, TRUE) # get the code with the answers \n",
    "\n",
    "# YData.download.download_homework(9)  # downloads the homework \n",
    "\n",
    "# project review template\n",
    "# YData.download.download_class_file('reviewer_template.ipynb', 'homework')\n"
   ]
  },
  {
   "cell_type": "markdown",
   "metadata": {},
   "source": [
    "If you are using colabs, you should run the code below."
   ]
  },
  {
   "cell_type": "code",
   "execution_count": 2,
   "metadata": {},
   "outputs": [],
   "source": [
    "# !pip install https://github.com/emeyers/YData_package/tarball/master\n",
    "# from google.colab import drive\n",
    "# drive.mount('/content/drive')"
   ]
  },
  {
   "cell_type": "code",
   "execution_count": 3,
   "metadata": {},
   "outputs": [],
   "source": [
    "import statistics\n",
    "import pandas as pd\n",
    "import numpy as np\n",
    "import seaborn as sns\n",
    "import plotly.express as px\n",
    "from urllib.request import urlopen\n",
    "\n",
    "import matplotlib.pyplot as plt\n",
    "%matplotlib inline\n",
    "\n",
    "# Suppress ConvergenceWarning - please ignore this code \n",
    "import warnings\n",
    "warnings.filterwarnings(\"ignore\", category=FutureWarning)\n"
   ]
  },
  {
   "cell_type": "code",
   "execution_count": 4,
   "metadata": {},
   "outputs": [],
   "source": [
    "# Get our penguin data that we can use to test that our code is working properly\n",
    "\n",
    "from sklearn.model_selection import train_test_split\n",
    "\n",
    "penguins = sns.load_dataset(\"penguins\")\n",
    "penguins = penguins.dropna()\n",
    "penguins = penguins.sample(frac = 1)\n",
    "\n",
    "X_penguin_features = penguins[['bill_length_mm', 'bill_depth_mm', 'flipper_length_mm', 'body_mass_g']]\n",
    "y_penguin_labels = penguins['species']\n"
   ]
  },
  {
   "cell_type": "markdown",
   "metadata": {},
   "source": [
    "## 1. Unsupervised learning: clustering\n",
    "\n",
    "We can do k-means clustering in scikit-learn using the `KMeans()` object.\n"
   ]
  },
  {
   "cell_type": "code",
   "execution_count": 5,
   "metadata": {},
   "outputs": [
    {
     "data": {
      "text/html": [
       "<style>#sk-container-id-1 {color: black;}#sk-container-id-1 pre{padding: 0;}#sk-container-id-1 div.sk-toggleable {background-color: white;}#sk-container-id-1 label.sk-toggleable__label {cursor: pointer;display: block;width: 100%;margin-bottom: 0;padding: 0.3em;box-sizing: border-box;text-align: center;}#sk-container-id-1 label.sk-toggleable__label-arrow:before {content: \"▸\";float: left;margin-right: 0.25em;color: #696969;}#sk-container-id-1 label.sk-toggleable__label-arrow:hover:before {color: black;}#sk-container-id-1 div.sk-estimator:hover label.sk-toggleable__label-arrow:before {color: black;}#sk-container-id-1 div.sk-toggleable__content {max-height: 0;max-width: 0;overflow: hidden;text-align: left;background-color: #f0f8ff;}#sk-container-id-1 div.sk-toggleable__content pre {margin: 0.2em;color: black;border-radius: 0.25em;background-color: #f0f8ff;}#sk-container-id-1 input.sk-toggleable__control:checked~div.sk-toggleable__content {max-height: 200px;max-width: 100%;overflow: auto;}#sk-container-id-1 input.sk-toggleable__control:checked~label.sk-toggleable__label-arrow:before {content: \"▾\";}#sk-container-id-1 div.sk-estimator input.sk-toggleable__control:checked~label.sk-toggleable__label {background-color: #d4ebff;}#sk-container-id-1 div.sk-label input.sk-toggleable__control:checked~label.sk-toggleable__label {background-color: #d4ebff;}#sk-container-id-1 input.sk-hidden--visually {border: 0;clip: rect(1px 1px 1px 1px);clip: rect(1px, 1px, 1px, 1px);height: 1px;margin: -1px;overflow: hidden;padding: 0;position: absolute;width: 1px;}#sk-container-id-1 div.sk-estimator {font-family: monospace;background-color: #f0f8ff;border: 1px dotted black;border-radius: 0.25em;box-sizing: border-box;margin-bottom: 0.5em;}#sk-container-id-1 div.sk-estimator:hover {background-color: #d4ebff;}#sk-container-id-1 div.sk-parallel-item::after {content: \"\";width: 100%;border-bottom: 1px solid gray;flex-grow: 1;}#sk-container-id-1 div.sk-label:hover label.sk-toggleable__label {background-color: #d4ebff;}#sk-container-id-1 div.sk-serial::before {content: \"\";position: absolute;border-left: 1px solid gray;box-sizing: border-box;top: 0;bottom: 0;left: 50%;z-index: 0;}#sk-container-id-1 div.sk-serial {display: flex;flex-direction: column;align-items: center;background-color: white;padding-right: 0.2em;padding-left: 0.2em;position: relative;}#sk-container-id-1 div.sk-item {position: relative;z-index: 1;}#sk-container-id-1 div.sk-parallel {display: flex;align-items: stretch;justify-content: center;background-color: white;position: relative;}#sk-container-id-1 div.sk-item::before, #sk-container-id-1 div.sk-parallel-item::before {content: \"\";position: absolute;border-left: 1px solid gray;box-sizing: border-box;top: 0;bottom: 0;left: 50%;z-index: -1;}#sk-container-id-1 div.sk-parallel-item {display: flex;flex-direction: column;z-index: 1;position: relative;background-color: white;}#sk-container-id-1 div.sk-parallel-item:first-child::after {align-self: flex-end;width: 50%;}#sk-container-id-1 div.sk-parallel-item:last-child::after {align-self: flex-start;width: 50%;}#sk-container-id-1 div.sk-parallel-item:only-child::after {width: 0;}#sk-container-id-1 div.sk-dashed-wrapped {border: 1px dashed gray;margin: 0 0.4em 0.5em 0.4em;box-sizing: border-box;padding-bottom: 0.4em;background-color: white;}#sk-container-id-1 div.sk-label label {font-family: monospace;font-weight: bold;display: inline-block;line-height: 1.2em;}#sk-container-id-1 div.sk-label-container {text-align: center;}#sk-container-id-1 div.sk-container {/* jupyter's `normalize.less` sets `[hidden] { display: none; }` but bootstrap.min.css set `[hidden] { display: none !important; }` so we also need the `!important` here to be able to override the default hidden behavior on the sphinx rendered scikit-learn.org. See: https://github.com/scikit-learn/scikit-learn/issues/21755 */display: inline-block !important;position: relative;}#sk-container-id-1 div.sk-text-repr-fallback {display: none;}</style><div id=\"sk-container-id-1\" class=\"sk-top-container\"><div class=\"sk-text-repr-fallback\"><pre>KMeans(n_clusters=3)</pre><b>In a Jupyter environment, please rerun this cell to show the HTML representation or trust the notebook. <br />On GitHub, the HTML representation is unable to render, please try loading this page with nbviewer.org.</b></div><div class=\"sk-container\" hidden><div class=\"sk-item\"><div class=\"sk-estimator sk-toggleable\"><input class=\"sk-toggleable__control sk-hidden--visually\" id=\"sk-estimator-id-1\" type=\"checkbox\" checked><label for=\"sk-estimator-id-1\" class=\"sk-toggleable__label sk-toggleable__label-arrow\">KMeans</label><div class=\"sk-toggleable__content\"><pre>KMeans(n_clusters=3)</pre></div></div></div></div></div>"
      ],
      "text/plain": [
       "KMeans(n_clusters=3)"
      ]
     },
     "execution_count": 5,
     "metadata": {},
     "output_type": "execute_result"
    }
   ],
   "source": [
    "from sklearn.cluster import KMeans\n",
    "\n",
    "# fit k-means with 3 clusters \n",
    "\n",
    "kmeans = KMeans(n_clusters=3)\n",
    "kmeans.fit(X_penguin_features)"
   ]
  },
  {
   "cell_type": "code",
   "execution_count": 6,
   "metadata": {},
   "outputs": [
    {
     "data": {
      "text/plain": [
       "array([0, 0, 0, 2, 0, 2, 1, 0, 2, 0, 0, 0, 1, 0, 0, 0, 2, 0, 0, 1, 2, 1,\n",
       "       2, 1, 2, 2, 0, 0, 0, 0, 2, 2, 1, 0, 2, 0, 0, 0, 0, 2, 2, 0, 0, 0,\n",
       "       2, 0, 0, 1, 1, 2, 0, 1, 2, 0, 2, 1, 2, 1, 1, 2, 0, 0, 2, 1, 0, 1,\n",
       "       2, 2, 2, 2, 0, 2, 0, 1, 2, 0, 1, 2, 2, 2, 0, 0, 0, 0, 2, 2, 1, 0,\n",
       "       0, 2, 2, 2, 0, 1, 1, 1, 1, 0, 2, 2, 0, 0, 1, 0, 0, 0, 1, 0, 0, 2,\n",
       "       0, 1, 2, 1, 0, 0, 0, 0, 2, 2, 1, 0, 0, 0, 2, 2, 0, 0, 0, 0, 0, 2,\n",
       "       2, 2, 0, 1, 0, 0, 0, 2, 0, 2, 0, 2, 0, 0, 0, 2, 2, 1, 0, 0, 1, 2,\n",
       "       2, 0, 0, 0, 0, 1, 0, 0, 2, 1, 1, 2, 2, 0, 0, 0, 2, 2, 0, 2, 0, 2,\n",
       "       1, 1, 0, 0, 1, 0, 1, 0, 1, 2, 2, 2, 1, 0, 0, 2, 0, 0, 0, 0, 1, 0,\n",
       "       0, 1, 0, 0, 1, 2, 0, 0, 0, 2, 2, 0, 1, 0, 0, 0, 2, 0, 0, 0, 1, 2,\n",
       "       2, 0, 0, 0, 2, 1, 0, 2, 0, 0, 2, 2, 0, 0, 0, 1, 0, 1, 0, 1, 1, 2,\n",
       "       0, 0, 0, 1, 1, 0, 0, 1, 2, 0, 1, 0, 0, 2, 0, 1, 2, 2, 2, 1, 2, 2,\n",
       "       0, 2, 0, 1, 2, 1, 0, 0, 0, 0, 2, 1, 1, 0, 2, 2, 1, 1, 0, 1, 0, 0,\n",
       "       2, 0, 2, 0, 0, 0, 0, 0, 2, 0, 2, 2, 1, 2, 1, 0, 2, 0, 0, 0, 1, 2,\n",
       "       0, 0, 1, 2, 2, 1, 1, 0, 1, 2, 0, 0, 0, 1, 1, 0, 0, 0, 2, 0, 2, 2,\n",
       "       2, 0, 2], dtype=int32)"
      ]
     },
     "execution_count": 6,
     "metadata": {},
     "output_type": "execute_result"
    }
   ],
   "source": [
    "# see which cluster each point belongs to \n",
    "\n",
    "predicted_labels = kmeans.predict(X_penguin_features)\n",
    "predicted_labels"
   ]
  },
  {
   "cell_type": "code",
   "execution_count": 7,
   "metadata": {},
   "outputs": [
    {
     "name": "stdout",
     "output_type": "stream",
     "text": [
      "species  Adelie  Chinstrap  Gentoo\n",
      "labels                            \n",
      "0           108         52       1\n",
      "1             0          0      70\n",
      "2            38         16      48\n"
     ]
    }
   ],
   "source": [
    "# look at a matrix of which penguin types end up in which cluster \n",
    "\n",
    "matrix = pd.DataFrame({'labels': predicted_labels, \n",
    "                       'species': y_penguin_labels})\n",
    "\n",
    "ct = pd.crosstab(matrix['labels'], matrix['species'])\n",
    "print(ct)"
   ]
  },
  {
   "cell_type": "code",
   "execution_count": 8,
   "metadata": {},
   "outputs": [
    {
     "data": {
      "text/html": [
       "<style>#sk-container-id-2 {color: black;}#sk-container-id-2 pre{padding: 0;}#sk-container-id-2 div.sk-toggleable {background-color: white;}#sk-container-id-2 label.sk-toggleable__label {cursor: pointer;display: block;width: 100%;margin-bottom: 0;padding: 0.3em;box-sizing: border-box;text-align: center;}#sk-container-id-2 label.sk-toggleable__label-arrow:before {content: \"▸\";float: left;margin-right: 0.25em;color: #696969;}#sk-container-id-2 label.sk-toggleable__label-arrow:hover:before {color: black;}#sk-container-id-2 div.sk-estimator:hover label.sk-toggleable__label-arrow:before {color: black;}#sk-container-id-2 div.sk-toggleable__content {max-height: 0;max-width: 0;overflow: hidden;text-align: left;background-color: #f0f8ff;}#sk-container-id-2 div.sk-toggleable__content pre {margin: 0.2em;color: black;border-radius: 0.25em;background-color: #f0f8ff;}#sk-container-id-2 input.sk-toggleable__control:checked~div.sk-toggleable__content {max-height: 200px;max-width: 100%;overflow: auto;}#sk-container-id-2 input.sk-toggleable__control:checked~label.sk-toggleable__label-arrow:before {content: \"▾\";}#sk-container-id-2 div.sk-estimator input.sk-toggleable__control:checked~label.sk-toggleable__label {background-color: #d4ebff;}#sk-container-id-2 div.sk-label input.sk-toggleable__control:checked~label.sk-toggleable__label {background-color: #d4ebff;}#sk-container-id-2 input.sk-hidden--visually {border: 0;clip: rect(1px 1px 1px 1px);clip: rect(1px, 1px, 1px, 1px);height: 1px;margin: -1px;overflow: hidden;padding: 0;position: absolute;width: 1px;}#sk-container-id-2 div.sk-estimator {font-family: monospace;background-color: #f0f8ff;border: 1px dotted black;border-radius: 0.25em;box-sizing: border-box;margin-bottom: 0.5em;}#sk-container-id-2 div.sk-estimator:hover {background-color: #d4ebff;}#sk-container-id-2 div.sk-parallel-item::after {content: \"\";width: 100%;border-bottom: 1px solid gray;flex-grow: 1;}#sk-container-id-2 div.sk-label:hover label.sk-toggleable__label {background-color: #d4ebff;}#sk-container-id-2 div.sk-serial::before {content: \"\";position: absolute;border-left: 1px solid gray;box-sizing: border-box;top: 0;bottom: 0;left: 50%;z-index: 0;}#sk-container-id-2 div.sk-serial {display: flex;flex-direction: column;align-items: center;background-color: white;padding-right: 0.2em;padding-left: 0.2em;position: relative;}#sk-container-id-2 div.sk-item {position: relative;z-index: 1;}#sk-container-id-2 div.sk-parallel {display: flex;align-items: stretch;justify-content: center;background-color: white;position: relative;}#sk-container-id-2 div.sk-item::before, #sk-container-id-2 div.sk-parallel-item::before {content: \"\";position: absolute;border-left: 1px solid gray;box-sizing: border-box;top: 0;bottom: 0;left: 50%;z-index: -1;}#sk-container-id-2 div.sk-parallel-item {display: flex;flex-direction: column;z-index: 1;position: relative;background-color: white;}#sk-container-id-2 div.sk-parallel-item:first-child::after {align-self: flex-end;width: 50%;}#sk-container-id-2 div.sk-parallel-item:last-child::after {align-self: flex-start;width: 50%;}#sk-container-id-2 div.sk-parallel-item:only-child::after {width: 0;}#sk-container-id-2 div.sk-dashed-wrapped {border: 1px dashed gray;margin: 0 0.4em 0.5em 0.4em;box-sizing: border-box;padding-bottom: 0.4em;background-color: white;}#sk-container-id-2 div.sk-label label {font-family: monospace;font-weight: bold;display: inline-block;line-height: 1.2em;}#sk-container-id-2 div.sk-label-container {text-align: center;}#sk-container-id-2 div.sk-container {/* jupyter's `normalize.less` sets `[hidden] { display: none; }` but bootstrap.min.css set `[hidden] { display: none !important; }` so we also need the `!important` here to be able to override the default hidden behavior on the sphinx rendered scikit-learn.org. See: https://github.com/scikit-learn/scikit-learn/issues/21755 */display: inline-block !important;position: relative;}#sk-container-id-2 div.sk-text-repr-fallback {display: none;}</style><div id=\"sk-container-id-2\" class=\"sk-top-container\"><div class=\"sk-text-repr-fallback\"><pre>Pipeline(steps=[(&#x27;standardscaler&#x27;, StandardScaler()),\n",
       "                (&#x27;kmeans&#x27;, KMeans(n_clusters=3))])</pre><b>In a Jupyter environment, please rerun this cell to show the HTML representation or trust the notebook. <br />On GitHub, the HTML representation is unable to render, please try loading this page with nbviewer.org.</b></div><div class=\"sk-container\" hidden><div class=\"sk-item sk-dashed-wrapped\"><div class=\"sk-label-container\"><div class=\"sk-label sk-toggleable\"><input class=\"sk-toggleable__control sk-hidden--visually\" id=\"sk-estimator-id-2\" type=\"checkbox\" ><label for=\"sk-estimator-id-2\" class=\"sk-toggleable__label sk-toggleable__label-arrow\">Pipeline</label><div class=\"sk-toggleable__content\"><pre>Pipeline(steps=[(&#x27;standardscaler&#x27;, StandardScaler()),\n",
       "                (&#x27;kmeans&#x27;, KMeans(n_clusters=3))])</pre></div></div></div><div class=\"sk-serial\"><div class=\"sk-item\"><div class=\"sk-estimator sk-toggleable\"><input class=\"sk-toggleable__control sk-hidden--visually\" id=\"sk-estimator-id-3\" type=\"checkbox\" ><label for=\"sk-estimator-id-3\" class=\"sk-toggleable__label sk-toggleable__label-arrow\">StandardScaler</label><div class=\"sk-toggleable__content\"><pre>StandardScaler()</pre></div></div></div><div class=\"sk-item\"><div class=\"sk-estimator sk-toggleable\"><input class=\"sk-toggleable__control sk-hidden--visually\" id=\"sk-estimator-id-4\" type=\"checkbox\" ><label for=\"sk-estimator-id-4\" class=\"sk-toggleable__label sk-toggleable__label-arrow\">KMeans</label><div class=\"sk-toggleable__content\"><pre>KMeans(n_clusters=3)</pre></div></div></div></div></div></div></div>"
      ],
      "text/plain": [
       "Pipeline(steps=[('standardscaler', StandardScaler()),\n",
       "                ('kmeans', KMeans(n_clusters=3))])"
      ]
     },
     "execution_count": 8,
     "metadata": {},
     "output_type": "execute_result"
    }
   ],
   "source": [
    "from sklearn.preprocessing import StandardScaler\n",
    "from sklearn.pipeline import make_pipeline\n",
    "\n",
    "# do clustering with feature normalization \n",
    "scaler = StandardScaler()\n",
    "pipeline = make_pipeline(scaler, kmeans)\n",
    "\n",
    "pipeline.fit(X_penguin_features)"
   ]
  },
  {
   "cell_type": "code",
   "execution_count": 9,
   "metadata": {},
   "outputs": [
    {
     "data": {
      "text/plain": [
       "array([0, 0, 2, 2, 0, 0, 1, 0, 0, 0, 0, 2, 1, 2, 0, 0, 1, 0, 0, 1, 2, 1,\n",
       "       2, 1, 1, 2, 0, 2, 2, 0, 0, 2, 1, 0, 1, 0, 0, 0, 2, 1, 1, 0, 0, 2,\n",
       "       2, 2, 0, 1, 1, 1, 0, 1, 0, 0, 2, 1, 1, 1, 1, 1, 0, 0, 2, 1, 0, 1,\n",
       "       2, 2, 2, 2, 0, 1, 0, 1, 1, 0, 1, 0, 1, 1, 0, 0, 0, 0, 1, 1, 1, 0,\n",
       "       2, 0, 1, 2, 0, 1, 1, 1, 1, 0, 1, 0, 0, 0, 1, 0, 2, 0, 1, 2, 0, 1,\n",
       "       0, 1, 1, 1, 2, 2, 0, 0, 2, 2, 1, 0, 0, 0, 1, 2, 0, 0, 2, 0, 2, 0,\n",
       "       1, 1, 0, 1, 0, 0, 2, 1, 2, 2, 0, 0, 2, 2, 0, 1, 1, 1, 2, 0, 1, 1,\n",
       "       1, 0, 0, 0, 0, 1, 2, 0, 0, 1, 1, 2, 0, 0, 2, 0, 1, 2, 2, 2, 0, 2,\n",
       "       1, 1, 2, 0, 1, 0, 1, 0, 1, 2, 2, 1, 1, 0, 0, 2, 0, 0, 0, 2, 1, 0,\n",
       "       2, 1, 0, 0, 1, 1, 0, 0, 2, 1, 2, 2, 1, 0, 0, 2, 1, 0, 0, 0, 1, 1,\n",
       "       1, 2, 2, 0, 1, 1, 2, 1, 1, 2, 2, 1, 0, 0, 0, 1, 0, 1, 0, 1, 1, 1,\n",
       "       0, 0, 2, 1, 1, 0, 2, 1, 2, 2, 1, 2, 0, 1, 0, 1, 0, 2, 1, 1, 1, 0,\n",
       "       2, 1, 0, 1, 0, 1, 2, 0, 0, 0, 2, 1, 1, 0, 1, 1, 1, 1, 0, 1, 0, 0,\n",
       "       2, 2, 1, 0, 0, 2, 0, 0, 1, 2, 1, 2, 1, 2, 1, 2, 2, 0, 0, 2, 1, 2,\n",
       "       0, 0, 1, 1, 0, 1, 1, 0, 1, 0, 0, 0, 2, 1, 1, 0, 2, 0, 2, 2, 1, 0,\n",
       "       2, 2, 2], dtype=int32)"
      ]
     },
     "execution_count": 9,
     "metadata": {},
     "output_type": "execute_result"
    }
   ],
   "source": [
    "# see which cluster each (normalized) point belongs to\n",
    "\n",
    "predicted_labels2 = pipeline.predict(X_penguin_features)\n",
    "\n",
    "predicted_labels2\n"
   ]
  },
  {
   "cell_type": "code",
   "execution_count": 10,
   "metadata": {},
   "outputs": [
    {
     "name": "stdout",
     "output_type": "stream",
     "text": [
      "species  Adelie  Chinstrap  Gentoo\n",
      "labels                            \n",
      "0           124          5       0\n",
      "1             0          0     119\n",
      "2            22         63       0\n"
     ]
    }
   ],
   "source": [
    "# look at a matrix of which penguin types end up in which cluster \n",
    "\n",
    "matrix_new = pd.DataFrame({'labels': predicted_labels2, \n",
    "                           'species': y_penguin_labels})\n",
    "\n",
    "ct_new = pd.crosstab(matrix_new['labels'], \n",
    "                     matrix_new['species'])\n",
    "print(ct_new)"
   ]
  },
  {
   "cell_type": "markdown",
   "metadata": {},
   "source": [
    "### 1b. Unsupervised learning: Hierarchical clustering\n"
   ]
  },
  {
   "cell_type": "code",
   "execution_count": 11,
   "metadata": {},
   "outputs": [],
   "source": [
    "from sklearn.cluster import AgglomerativeClustering\n",
    "from scipy.cluster import hierarchy\n",
    "\n",
    "#  Ward's method adds points to a cluster that minimizes the sum of squared differences within all clusters\n",
    "clusters = hierarchy.linkage(X_penguin_features, method=\"ward\")   \n"
   ]
  },
  {
   "cell_type": "code",
   "execution_count": 12,
   "metadata": {},
   "outputs": [
    {
     "data": {
      "image/png": "[encoded data removed]",
      "text/plain": [
       "<Figure size 640x480 with 1 Axes>"
      ]
     },
     "metadata": {},
     "output_type": "display_data"
    }
   ],
   "source": [
    "# display a dendrogram\n",
    "dendrogram = hierarchy.dendrogram(clusters)"
   ]
  },
  {
   "cell_type": "code",
   "execution_count": 13,
   "metadata": {},
   "outputs": [
    {
     "data": {
      "text/plain": [
       "array([2, 1, 1, 2, 1, 2, 0, 1, 0, 1, 2, 1, 0, 1, 1, 1, 0, 1, 1, 0, 2, 0,\n",
       "       2, 0, 2, 2, 1, 1, 2, 1, 2, 2, 0, 1, 0, 2, 1, 1, 1, 0, 0, 1, 2, 1,\n",
       "       2, 1, 1, 0, 0, 0, 2, 0, 0, 1, 2, 0, 0, 0, 0, 0, 2, 1, 0, 0, 1, 0,\n",
       "       0, 2, 2, 2, 1, 2, 1, 0, 0, 1, 0, 2, 0, 2, 1, 1, 1, 1, 0, 0, 0, 1,\n",
       "       1, 2, 0, 2, 1, 0, 0, 0, 0, 1, 0, 2, 1, 1, 0, 1, 2, 1, 0, 2, 1, 0,\n",
       "       1, 0, 0, 0, 1, 1, 1, 1, 2, 2, 0, 1, 1, 1, 0, 2, 1, 1, 1, 1, 1, 2,\n",
       "       0, 0, 1, 0, 1, 1, 1, 2, 1, 0, 2, 2, 1, 1, 1, 0, 2, 0, 2, 1, 0, 0,\n",
       "       0, 1, 1, 1, 1, 0, 1, 2, 2, 0, 0, 2, 2, 1, 1, 1, 0, 2, 1, 2, 1, 2,\n",
       "       0, 0, 1, 1, 0, 1, 0, 1, 0, 2, 2, 2, 0, 1, 1, 2, 1, 1, 1, 1, 0, 1,\n",
       "       1, 0, 2, 2, 0, 0, 1, 1, 1, 2, 0, 1, 0, 1, 1, 1, 0, 1, 1, 1, 0, 0,\n",
       "       2, 1, 1, 1, 0, 0, 1, 2, 2, 2, 2, 2, 1, 1, 1, 0, 1, 0, 1, 0, 0, 2,\n",
       "       2, 1, 1, 0, 0, 1, 1, 0, 2, 1, 0, 2, 1, 0, 1, 0, 0, 2, 2, 0, 0, 2,\n",
       "       1, 0, 2, 0, 2, 0, 1, 1, 1, 1, 2, 0, 0, 1, 0, 2, 0, 0, 1, 0, 1, 1,\n",
       "       0, 1, 2, 1, 1, 1, 1, 2, 0, 1, 2, 2, 0, 2, 0, 1, 2, 1, 1, 1, 0, 2,\n",
       "       2, 1, 0, 0, 2, 0, 0, 2, 0, 2, 1, 1, 2, 0, 0, 1, 1, 1, 2, 1, 0, 2,\n",
       "       0, 1, 2])"
      ]
     },
     "execution_count": 13,
     "metadata": {},
     "output_type": "execute_result"
    }
   ],
   "source": [
    "# cluster points into 3 clusters \n",
    "clustering_model = AgglomerativeClustering(n_clusters=3, linkage=\"ward\")\n",
    "clustering_model.fit(X_penguin_features)\n",
    "\n",
    "# get the predicted cluster for each point\n",
    "labels = clustering_model.labels_\n",
    "\n",
    "labels"
   ]
  },
  {
   "cell_type": "code",
   "execution_count": 14,
   "metadata": {},
   "outputs": [
    {
     "data": {
      "image/png": "[encoded data removed]",
      "text/plain": [
       "<Figure size 617x500 with 1 Axes>"
      ]
     },
     "metadata": {},
     "output_type": "display_data"
    }
   ],
   "source": [
    "# visualize how well the clustering matches the penguin species\n",
    "\n",
    "sns.relplot(X_penguin_features, \n",
    "            x='bill_length_mm', \n",
    "            y='flipper_length_mm', \n",
    "            hue=labels, \n",
    "            style = y_penguin_labels,\n",
    "            palette=\"Set2\");\n"
   ]
  },
  {
   "cell_type": "markdown",
   "metadata": {},
   "source": [
    "## 2. Object-oriented programming\n",
    "\n",
    "[Object-oriented programming (OOP)](https://en.wikipedia.org/wiki/Object-oriented_programming) is a programming paradigm based on the concept of objects, which can contain data and code: data in the form of fields (often known as attributes or properties), and code in the form of procedures (often known as methods). In OOP, computer programs are designed by making them out of objects that interact with one another.\n",
    "\n",
    "Let's write our own K-Nearest Neighbor class that can create K-Nearest Neighbor classifiers!\n"
   ]
  },
  {
   "cell_type": "markdown",
   "metadata": {},
   "source": [
    "### KNN functions\n",
    "\n",
    "Below are the functions we previously wrote in class 22 to do K-Nearest Neighbor classification. \n",
    "\n",
    "We will now turn this code into a KNN object.\n"
   ]
  },
  {
   "cell_type": "code",
   "execution_count": 15,
   "metadata": {},
   "outputs": [
    {
     "name": "stdout",
     "output_type": "stream",
     "text": [
      "(249, 4)\n"
     ]
    }
   ],
   "source": [
    "\n",
    "# split data into a training and test set\n",
    "X_train, X_test, y_train, y_test = train_test_split(X_penguin_features,  \n",
    "                                                    y_penguin_labels, \n",
    "                                                    random_state = 0)\n",
    "\n",
    "print(X_train.shape)\n"
   ]
  },
  {
   "cell_type": "code",
   "execution_count": 16,
   "metadata": {},
   "outputs": [
    {
     "data": {
      "text/plain": [
       "array(['Gentoo', 'Chinstrap', 'Gentoo', 'Adelie', 'Gentoo', 'Gentoo',\n",
       "       'Gentoo', 'Gentoo', 'Adelie', 'Chinstrap', 'Gentoo', 'Gentoo',\n",
       "       'Adelie', 'Adelie', 'Adelie', 'Gentoo', 'Gentoo', 'Adelie',\n",
       "       'Adelie', 'Gentoo', 'Gentoo', 'Gentoo', 'Adelie', 'Gentoo',\n",
       "       'Adelie', 'Adelie', 'Gentoo', 'Gentoo', 'Adelie', 'Gentoo',\n",
       "       'Adelie', 'Adelie', 'Adelie', 'Gentoo', 'Gentoo', 'Gentoo',\n",
       "       'Gentoo', 'Adelie', 'Adelie', 'Gentoo', 'Adelie', 'Chinstrap',\n",
       "       'Gentoo', 'Adelie', 'Gentoo', 'Adelie', 'Adelie', 'Adelie',\n",
       "       'Gentoo', 'Chinstrap', 'Gentoo', 'Gentoo', 'Adelie', 'Chinstrap',\n",
       "       'Adelie', 'Adelie', 'Adelie', 'Gentoo', 'Adelie', 'Adelie',\n",
       "       'Gentoo', 'Adelie', 'Adelie', 'Adelie', 'Adelie', 'Chinstrap',\n",
       "       'Gentoo', 'Gentoo', 'Adelie', 'Adelie', 'Chinstrap', 'Adelie',\n",
       "       'Adelie', 'Adelie', 'Adelie', 'Adelie', 'Adelie', 'Gentoo',\n",
       "       'Gentoo', 'Adelie', 'Adelie', 'Adelie', 'Chinstrap', 'Chinstrap'],\n",
       "      dtype='<U9')"
      ]
     },
     "execution_count": 16,
     "metadata": {},
     "output_type": "execute_result"
    }
   ],
   "source": [
    "# From class 22\n",
    "\n",
    "# Calculate the Euclidean distance\n",
    "def euclid_dist(x1, x2):\n",
    "    return np.sqrt(np.sum((x1 - x2)**2))\n",
    "\n",
    "\n",
    "# Get the labels and distances between a test point and all the training data\n",
    "def get_labels_and_distances(test_point, X_train_features, y_train_labels):\n",
    "    \n",
    "    the_distances = []\n",
    "    \n",
    "    # get the distance between the test point and all training points\n",
    "    for i in range(X_train_features.shape[0]):\n",
    "        the_distances.append(euclid_dist(test_point, X_train_features.iloc[i]))\n",
    "\n",
    "    \n",
    "    # Create a DataFrame with the training labels and distances \n",
    "    labels_and_distances = pd.DataFrame({'label': y_train_labels, 'distance':the_distances})\n",
    "    return labels_and_distances\n",
    "\n",
    "\n",
    "\n",
    "# Classify a single test point\n",
    "def classify_point(test_point, k, X_train_features, y_train_labels):\n",
    "    \n",
    "    labels_and_distances =  get_labels_and_distances(test_point, \n",
    "                                                     X_train_features, \n",
    "                                                     y_train_labels)\n",
    "\n",
    "    sorted_labels_dist = labels_and_distances.sort_values(\"distance\")\n",
    "    sorted_labels_dist = sorted_labels_dist.iloc[0:k]\n",
    "    \n",
    "    \n",
    "    count_table = sorted_labels_dist.groupby(\"label\").count().reset_index()\n",
    "    sorted_count_table = count_table.sort_values(\"distance\", ascending = False)\n",
    "    majority_class = sorted_count_table.iloc[0][\"label\"]\n",
    "    \n",
    "    return majority_class\n",
    "\n",
    "\n",
    "\n",
    "# Classify a whole test set\n",
    "def classify_all_test_data(X_test_data, k, X_train_features, y_train_labels):\n",
    "    \n",
    "    predictions = []\n",
    "    \n",
    "    for i in range(X_test_data.shape[0]):\n",
    "        \n",
    "        curr_test_point = X_test_data.iloc[i]\n",
    "        \n",
    "        curr_prediction = classify_point(curr_test_point, \n",
    "                                         k, \n",
    "                                         X_train_features, \n",
    "                                         y_train_labels)\n",
    "        \n",
    "        predictions.append(curr_prediction)\n",
    "\n",
    "    return np.array(predictions)\n",
    "\n",
    "\n",
    "\n",
    "all_predictions = classify_all_test_data(X_test, 5, X_train, y_train)\n",
    "\n",
    "all_predictions"
   ]
  },
  {
   "cell_type": "markdown",
   "metadata": {},
   "source": [
    "### Object constructor\n",
    "\n",
    "To start, let's write the \"constructor\" code that can be used to create a new KNN object. This code will simply store the number of neighbors used in a field called `k`. \n"
   ]
  },
  {
   "cell_type": "code",
   "execution_count": 17,
   "metadata": {},
   "outputs": [],
   "source": [
    "class KNN:\n",
    "    \n",
    "    # Constructor\n",
    "    def __init__(self, n_neighbors): \n",
    "\n",
    "        self.k = n_neighbors  \n"
   ]
  },
  {
   "cell_type": "code",
   "execution_count": 18,
   "metadata": {},
   "outputs": [
    {
     "data": {
      "text/plain": [
       "<__main__.KNN at 0x17b2a14d0>"
      ]
     },
     "execution_count": 18,
     "metadata": {},
     "output_type": "execute_result"
    }
   ],
   "source": [
    "# create an instance\n",
    "my_KNN = KNN(n_neighbors = 5)\n",
    "\n",
    "my_KNN"
   ]
  },
  {
   "cell_type": "code",
   "execution_count": 19,
   "metadata": {},
   "outputs": [
    {
     "data": {
      "text/plain": [
       "5"
      ]
     },
     "execution_count": 19,
     "metadata": {},
     "output_type": "execute_result"
    }
   ],
   "source": [
    "# get the value stored property k\n",
    "my_KNN.k"
   ]
  },
  {
   "cell_type": "markdown",
   "metadata": {},
   "source": [
    "### The .fit() method\n",
    "\n",
    "Let's now write the `.fit()` method. This method will merely store the training and test data into fields called `X_train` and `y_train`. \n"
   ]
  },
  {
   "cell_type": "code",
   "execution_count": 20,
   "metadata": {},
   "outputs": [],
   "source": [
    "class KNN:\n",
    "    \n",
    "    # Constructor\n",
    "    def __init__(self, n_neighbors): \n",
    "        self.k = n_neighbors \n",
    "\n",
    "    # The fit method\n",
    "    def fit(self, X_features_train, y_labels_train):\n",
    "        self.X_train = X_features_train\n",
    "        self.y_train = y_labels_train\n"
   ]
  },
  {
   "cell_type": "code",
   "execution_count": 21,
   "metadata": {},
   "outputs": [
    {
     "data": {
      "text/plain": [
       "240       Gentoo\n",
       "143       Adelie\n",
       "181    Chinstrap\n",
       "103       Adelie\n",
       "110       Adelie\n",
       "         ...    \n",
       "104       Adelie\n",
       "128       Adelie\n",
       "54        Adelie\n",
       "342       Gentoo\n",
       "204    Chinstrap\n",
       "Name: species, Length: 249, dtype: object"
      ]
     },
     "execution_count": 21,
     "metadata": {},
     "output_type": "execute_result"
    }
   ],
   "source": [
    "# Create an KNN object and try the .fit() method \n",
    "my_KNN = KNN(n_neighbors = 5)\n",
    "\n",
    "my_KNN.fit(X_train, y_train)\n",
    "\n",
    "my_KNN.y_train\n"
   ]
  },
  {
   "cell_type": "markdown",
   "metadata": {},
   "source": [
    "### The .predict() method\n",
    "\n",
    "Now let's write the `.predict()` method which will take a test data set `X_test` and will make predictions for which class each test point belongs to. \n",
    "\n",
    "To do this we will cheat a little and use the classification functions we wrote previous (i.e., the functions above). We could also just include these functions into our object (i.e., cut and paste them into our object). \n"
   ]
  },
  {
   "cell_type": "code",
   "execution_count": 22,
   "metadata": {},
   "outputs": [],
   "source": [
    "class KNN:\n",
    "    \n",
    "    # Constructor\n",
    "    def __init__(self, n_neighbors): \n",
    "        self.k = n_neighbors \n",
    "\n",
    "    # The fit method\n",
    "    def fit(self, X_train, y_train):\n",
    "        self.X_train = X_train\n",
    "        self.y_train = y_train\n",
    "\n",
    "    # The predict method\n",
    "    def predict(self, X_test_data):\n",
    "        return classify_all_test_data(X_test_data, self.k, self.X_train, self.y_train)\n"
   ]
  },
  {
   "cell_type": "code",
   "execution_count": 23,
   "metadata": {},
   "outputs": [
    {
     "data": {
      "text/plain": [
       "array(['Gentoo', 'Chinstrap', 'Gentoo', 'Adelie', 'Gentoo', 'Gentoo',\n",
       "       'Gentoo', 'Gentoo', 'Adelie', 'Chinstrap', 'Gentoo', 'Gentoo',\n",
       "       'Adelie', 'Adelie', 'Adelie', 'Gentoo', 'Gentoo', 'Adelie',\n",
       "       'Adelie', 'Gentoo', 'Gentoo', 'Gentoo', 'Adelie', 'Gentoo',\n",
       "       'Adelie', 'Adelie', 'Gentoo', 'Gentoo', 'Adelie', 'Gentoo',\n",
       "       'Adelie', 'Adelie', 'Adelie', 'Gentoo', 'Gentoo', 'Gentoo',\n",
       "       'Gentoo', 'Adelie', 'Adelie', 'Gentoo', 'Adelie', 'Chinstrap',\n",
       "       'Gentoo', 'Adelie', 'Gentoo', 'Adelie', 'Adelie', 'Adelie',\n",
       "       'Gentoo', 'Chinstrap', 'Gentoo', 'Gentoo', 'Adelie', 'Chinstrap',\n",
       "       'Adelie', 'Adelie', 'Adelie', 'Gentoo', 'Adelie', 'Adelie',\n",
       "       'Gentoo', 'Adelie', 'Adelie', 'Adelie', 'Adelie', 'Chinstrap',\n",
       "       'Gentoo', 'Gentoo', 'Adelie', 'Adelie', 'Chinstrap', 'Adelie',\n",
       "       'Adelie', 'Adelie', 'Adelie', 'Adelie', 'Adelie', 'Gentoo',\n",
       "       'Gentoo', 'Adelie', 'Adelie', 'Adelie', 'Chinstrap', 'Chinstrap'],\n",
       "      dtype='<U9')"
      ]
     },
     "execution_count": 23,
     "metadata": {},
     "output_type": "execute_result"
    }
   ],
   "source": [
    "# Create an KNN object and try the .predict() method \n",
    "\n",
    "my_KNN = KNN(n_neighbors = 5)\n",
    "\n",
    "my_KNN.fit(X_train, y_train)\n",
    "\n",
    "my_KNN.predict(X_test)\n"
   ]
  },
  {
   "cell_type": "markdown",
   "metadata": {},
   "source": [
    "### Special methods\n",
    "\n",
    "\"Special methods\" (also known as \"dunder methods\") allow objects to work in consistent/predictable ways. \n",
    "\n",
    "Let's add a method that makes it so our KNN object displays more useful information when we call the `print()` function on it. \n"
   ]
  },
  {
   "cell_type": "code",
   "execution_count": 24,
   "metadata": {},
   "outputs": [
    {
     "name": "stdout",
     "output_type": "stream",
     "text": [
      "<class '__main__.KNN'>\n"
     ]
    }
   ],
   "source": [
    "# What is printed when we call the print() function on our current KNN object\n",
    "\n",
    "print(KNN)"
   ]
  },
  {
   "cell_type": "code",
   "execution_count": 25,
   "metadata": {},
   "outputs": [],
   "source": [
    "class KNN:\n",
    "    \n",
    "    # Constructor\n",
    "    def __init__(self, n_neighbors): \n",
    "        self.k = n_neighbors \n",
    "\n",
    "    # The fit method\n",
    "    def fit(self, X_train, y_train):\n",
    "        self.X_train = X_train\n",
    "        self.y_train = y_train\n",
    "\n",
    "    # The predict method\n",
    "    def predict(self, X_test_data):\n",
    "        return classify_all_test_data(X_test_data, self.k, self.X_train, self.y_train)\n",
    "\n",
    "    # The print \"special\" method\n",
    "    def __str__(self):\n",
    "        return f\"KKN(n_neighbors = {self.k})\"\n"
   ]
  },
  {
   "cell_type": "code",
   "execution_count": 26,
   "metadata": {},
   "outputs": [
    {
     "name": "stdout",
     "output_type": "stream",
     "text": [
      "KKN(n_neighbors = 5)\n"
     ]
    }
   ],
   "source": [
    "# Test the print() method\n",
    "my_KNN = KNN(n_neighbors = 5)\n",
    "\n",
    "print(my_KNN)"
   ]
  },
  {
   "cell_type": "markdown",
   "metadata": {},
   "source": [
    "<br>\n",
    "<br>\n",
    "<br>\n",
    "<br>\n",
    "<br>\n",
    "<br>\n",
    "\n",
    "![](https://theenglishtree.it/wp-content/uploads/2016/10/Untitled.png)"
   ]
  }
 ],
 "metadata": {
  "anaconda-cloud": {},
  "kernelspec": {
   "display_name": "Python [conda env:ydata123_2024f] *",
   "language": "python",
   "name": "conda-env-ydata123_2024f-py"
  },
  "language_info": {
   "codemirror_mode": {
    "name": "ipython",
    "version": 3
   },
   "file_extension": ".py",
   "mimetype": "text/x-python",
   "name": "python",
   "nbconvert_exporter": "python",
   "pygments_lexer": "ipython3",
   "version": "3.11.7"
  }
 },
 "nbformat": 4,
 "nbformat_minor": 4
}
