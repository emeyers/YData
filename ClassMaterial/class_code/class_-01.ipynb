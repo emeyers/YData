{
 "cells": [
  {
   "cell_type": "markdown",
   "id": "f8bf60ff-2395-45ef-aeda-78be07c2feb9",
   "metadata": {},
   "source": [
    "# Test class code\n",
    "\n",
    "This is a test file to make sure one can class code files.\n"
   ]
  },
  {
   "cell_type": "code",
   "execution_count": 3,
   "id": "28bf4cac-b375-4c61-964a-622a05e4e217",
   "metadata": {},
   "outputs": [
    {
     "data": {
      "text/plain": [
       "'What is your quest?'"
      ]
     },
     "execution_count": 3,
     "metadata": {},
     "output_type": "execute_result"
    }
   ],
   "source": [
    "my_question = \"What is your quest?\"\n",
    "\n",
    "my_question\n"
   ]
  }
 ],
 "metadata": {
  "kernelspec": {
   "display_name": "Python 3 (ipykernel)",
   "language": "python",
   "name": "python3"
  },
  "language_info": {
   "codemirror_mode": {
    "name": "ipython",
    "version": 3
   },
   "file_extension": ".py",
   "mimetype": "text/x-python",
   "name": "python",
   "nbconvert_exporter": "python",
   "pygments_lexer": "ipython3",
   "version": "3.11.0"
  }
 },
 "nbformat": 4,
 "nbformat_minor": 5
}
