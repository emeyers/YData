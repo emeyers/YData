{
 "cells": [
  {
   "cell_type": "markdown",
   "metadata": {},
   "source": [
    "# Class 18: Introduction to statistical inference\n",
    "\n",
    "Plan for today:\n",
    "- Introduction to statistical inference\n",
    "- Introduction to hypothesis tests\n"
   ]
  },
  {
   "cell_type": "markdown",
   "metadata": {},
   "source": [
    "## Notes on the class Jupyter setup\n",
    "\n",
    "If you have the *ydata123_2024a* environment set up correctly, you can get the class code using the code below (which presumably you've already done given that you are seeing this notebook).  "
   ]
  },
  {
   "cell_type": "code",
   "execution_count": 22,
   "metadata": {},
   "outputs": [
    {
     "name": "stdout",
     "output_type": "stream",
     "text": [
      "The file `movies.csv` already exists.\n",
      "If you would like to download a new copy of the file, please rename the existing copy of the file.\n"
     ]
    }
   ],
   "source": [
    "import YData\n",
    "\n",
    "# YData.download.download_class_code(18)   # get class code    \n",
    "# YData.download.download_class_code(18, TRUE) # get the code with the answers \n",
    "\n",
    "\n",
    "YData.download_data(\"movies.csv\")"
   ]
  },
  {
   "cell_type": "markdown",
   "metadata": {},
   "source": [
    "There are also similar functions to download the homework:"
   ]
  },
  {
   "cell_type": "code",
   "execution_count": 23,
   "metadata": {},
   "outputs": [],
   "source": [
    "# YData.download.download_class_file('project_template.ipynb', 'homework')  # downloads the class project template (hopefully you've already done this)"
   ]
  },
  {
   "cell_type": "markdown",
   "metadata": {},
   "source": [
    "If you are using colabs, you should install polars and the YData packages by uncommenting and running the code below."
   ]
  },
  {
   "cell_type": "code",
   "execution_count": 24,
   "metadata": {},
   "outputs": [],
   "source": [
    "# !pip install https://github.com/emeyers/YData_package/tarball/master"
   ]
  },
  {
   "cell_type": "markdown",
   "metadata": {},
   "source": [
    "If you are using google colabs, you should also uncomment and run the code below to mount the your google drive"
   ]
  },
  {
   "cell_type": "code",
   "execution_count": 25,
   "metadata": {},
   "outputs": [],
   "source": [
    "# from google.colab import drive\n",
    "# drive.mount('/content/drive')"
   ]
  },
  {
   "cell_type": "code",
   "execution_count": 26,
   "metadata": {},
   "outputs": [],
   "source": [
    "import statistics\n",
    "import pandas as pd\n",
    "import numpy as np\n",
    "from urllib.request import urlopen\n",
    "\n",
    "import matplotlib.pyplot as plt\n",
    "%matplotlib inline"
   ]
  },
  {
   "cell_type": "markdown",
   "metadata": {},
   "source": [
    "## 1. Statistical inference\n",
    "\n",
    "In statistical inference we use a smaller sample of data to make claims about a larger population of data. \n",
    "\n",
    "As an example, let's look at the [2020 election](https://www.cookpolitical.com/2020-national-popular-vote-tracker) between Donald Trump and Joe Biden, and let's focus on the results from the state of Georgia. After all the votes had been counted, the resuts showed that:\n",
    "\n",
    "- Biden received 2,461,854 votes\n",
    "- Trump received 2,473,633 votes\n",
    "\n",
    "Since we have all the votes on election data, we can precisely calculate the population parameter of the proportion of votes that Biden received, which we will denote with the symbol $\\pi_{Biden}$. \n",
    "\n",
    "Let's create names `num_trump_votes` and `num_biden_votes`, and calculate `true_prop_Biden` which is the value $\\pi_{Biden}$. "
   ]
  },
  {
   "cell_type": "code",
   "execution_count": 27,
   "metadata": {},
   "outputs": [
    {
     "data": {
      "text/plain": [
       "0.5011932966290864"
      ]
     },
     "execution_count": 27,
     "metadata": {},
     "output_type": "execute_result"
    }
   ],
   "source": [
    "num_trump_votes = 2461854  # 2,461,854\n",
    "num_biden_votes = 2473633  # 2,473,633\n",
    "\n",
    "\n",
    "# calculate the proportion of people who voted for Biden\n",
    "true_prop_Biden = num_biden_votes/(num_biden_votes + num_trump_votes)\n",
    "\n",
    "true_prop_Biden"
   ]
  },
  {
   "cell_type": "markdown",
   "metadata": {},
   "source": [
    "The code below creates a DataFrame called `georgia_df` that captures these election results. Each row in the DataFrame represents a votes. The column `Voted Biden` is `True` if a voter voted for Biden and `False` if the voter voted for Trump. "
   ]
  },
  {
   "cell_type": "code",
   "execution_count": 28,
   "metadata": {},
   "outputs": [
    {
     "data": {
      "text/html": [
       "<div>\n",
       "<style scoped>\n",
       "    .dataframe tbody tr th:only-of-type {\n",
       "        vertical-align: middle;\n",
       "    }\n",
       "\n",
       "    .dataframe tbody tr th {\n",
       "        vertical-align: top;\n",
       "    }\n",
       "\n",
       "    .dataframe thead th {\n",
       "        text-align: right;\n",
       "    }\n",
       "</style>\n",
       "<table border=\"1\" class=\"dataframe\">\n",
       "  <thead>\n",
       "    <tr style=\"text-align: right;\">\n",
       "      <th></th>\n",
       "      <th>Voted Biden</th>\n",
       "    </tr>\n",
       "  </thead>\n",
       "  <tbody>\n",
       "    <tr>\n",
       "      <th>1780053</th>\n",
       "      <td>True</td>\n",
       "    </tr>\n",
       "    <tr>\n",
       "      <th>3629285</th>\n",
       "      <td>False</td>\n",
       "    </tr>\n",
       "    <tr>\n",
       "      <th>380422</th>\n",
       "      <td>True</td>\n",
       "    </tr>\n",
       "    <tr>\n",
       "      <th>1621440</th>\n",
       "      <td>True</td>\n",
       "    </tr>\n",
       "    <tr>\n",
       "      <th>1800512</th>\n",
       "      <td>True</td>\n",
       "    </tr>\n",
       "  </tbody>\n",
       "</table>\n",
       "</div>"
      ],
      "text/plain": [
       "         Voted Biden\n",
       "1780053         True\n",
       "3629285        False\n",
       "380422          True\n",
       "1621440         True\n",
       "1800512         True"
      ]
     },
     "execution_count": 28,
     "metadata": {},
     "output_type": "execute_result"
    }
   ],
   "source": [
    "biden_votes = np.repeat(True, num_biden_votes)     # create 2,473,633 Trues for the Biden votes\n",
    "trump_votes = np.repeat(False, num_trump_votes)    # create 2,461,854 Falses for the Trump votes\n",
    "election_outcome = np.concatenate((biden_votes, trump_votes))  # put the votes together\n",
    "\n",
    "georgia_df = pd.DataFrame({\"Voted Biden\": election_outcome})  # create a DataFrame with the data\n",
    "georgia_df = georgia_df.sample(frac = 1)   # shuffle the order to make it more realistic\n",
    "\n",
    "georgia_df.head()"
   ]
  },
  {
   "cell_type": "markdown",
   "metadata": {},
   "source": [
    "Now suppose we didn't know the actual value of $\\pi_{Biden}$ and we wanted to estimate it based on a poll of 1,000 voters. We can simulate this by using the pandas `.sample(n = )` method.\n",
    "\n",
    "Let's simulate sampling random voters"
   ]
  },
  {
   "cell_type": "code",
   "execution_count": 29,
   "metadata": {},
   "outputs": [
    {
     "data": {
      "text/html": [
       "<div>\n",
       "<style scoped>\n",
       "    .dataframe tbody tr th:only-of-type {\n",
       "        vertical-align: middle;\n",
       "    }\n",
       "\n",
       "    .dataframe tbody tr th {\n",
       "        vertical-align: top;\n",
       "    }\n",
       "\n",
       "    .dataframe thead th {\n",
       "        text-align: right;\n",
       "    }\n",
       "</style>\n",
       "<table border=\"1\" class=\"dataframe\">\n",
       "  <thead>\n",
       "    <tr style=\"text-align: right;\">\n",
       "      <th></th>\n",
       "      <th>Voted Biden</th>\n",
       "    </tr>\n",
       "  </thead>\n",
       "  <tbody>\n",
       "    <tr>\n",
       "      <th>3666477</th>\n",
       "      <td>False</td>\n",
       "    </tr>\n",
       "    <tr>\n",
       "      <th>3921289</th>\n",
       "      <td>False</td>\n",
       "    </tr>\n",
       "    <tr>\n",
       "      <th>722116</th>\n",
       "      <td>True</td>\n",
       "    </tr>\n",
       "    <tr>\n",
       "      <th>3523148</th>\n",
       "      <td>False</td>\n",
       "    </tr>\n",
       "    <tr>\n",
       "      <th>2867041</th>\n",
       "      <td>False</td>\n",
       "    </tr>\n",
       "    <tr>\n",
       "      <th>483021</th>\n",
       "      <td>True</td>\n",
       "    </tr>\n",
       "    <tr>\n",
       "      <th>2506392</th>\n",
       "      <td>False</td>\n",
       "    </tr>\n",
       "    <tr>\n",
       "      <th>41104</th>\n",
       "      <td>True</td>\n",
       "    </tr>\n",
       "    <tr>\n",
       "      <th>139688</th>\n",
       "      <td>True</td>\n",
       "    </tr>\n",
       "    <tr>\n",
       "      <th>3182969</th>\n",
       "      <td>False</td>\n",
       "    </tr>\n",
       "  </tbody>\n",
       "</table>\n",
       "</div>"
      ],
      "text/plain": [
       "         Voted Biden\n",
       "3666477        False\n",
       "3921289        False\n",
       "722116          True\n",
       "3523148        False\n",
       "2867041        False\n",
       "483021          True\n",
       "2506392        False\n",
       "41104           True\n",
       "139688          True\n",
       "3182969        False"
      ]
     },
     "execution_count": 29,
     "metadata": {},
     "output_type": "execute_result"
    }
   ],
   "source": [
    "# sample 10 random points\n",
    "georgia_df.sample(10)  "
   ]
  },
  {
   "cell_type": "code",
   "execution_count": 30,
   "metadata": {},
   "outputs": [
    {
     "data": {
      "text/plain": [
       "0.53"
      ]
     },
     "execution_count": 30,
     "metadata": {},
     "output_type": "execute_result"
    }
   ],
   "source": [
    "# simulate proportions of voters that voted for Biden - i.e., p-hats\n",
    "\n",
    "one_sample = georgia_df.sample(1000)\n",
    "\n",
    "np.mean(one_sample['Voted Biden'])"
   ]
  },
  {
   "cell_type": "markdown",
   "metadata": {},
   "source": [
    "### 1b. Creating a sampling distribution via taking random samples\n",
    "\n",
    "Suppose 100 polls were conducted. How many of them would show that Biden would get the majority of the vote? \n",
    "\n",
    "Let's simulate this \"sampling distribution\" of statistics now... \n"
   ]
  },
  {
   "cell_type": "code",
   "execution_count": 31,
   "metadata": {},
   "outputs": [
    {
     "name": "stdout",
     "output_type": "stream",
     "text": [
      "CPU times: user 18.4 s, sys: 51.3 ms, total: 18.4 s\n",
      "Wall time: 18.6 s\n"
     ]
    }
   ],
   "source": [
    "%%time\n",
    "\n",
    "sample_size = 1000\n",
    "num_simulations = 100\n",
    "\n",
    "sampling_dist = []\n",
    "\n",
    "for i in range(num_simulations):\n",
    "    \n",
    "    curr_sample = georgia_df.sample(sample_size)\n",
    "    prop_biden = np.mean(curr_sample[\"Voted Biden\"])\n",
    "    sampling_dist.append(prop_biden)\n",
    "\n"
   ]
  },
  {
   "cell_type": "code",
   "execution_count": 32,
   "metadata": {},
   "outputs": [
    {
     "data": {
      "image/png": "[encoded data removed]",
      "text/plain": [
       "<Figure size 640x480 with 1 Axes>"
      ]
     },
     "metadata": {},
     "output_type": "display_data"
    }
   ],
   "source": [
    "# plot a histogram of the sampling distribution\n",
    "\n",
    "plt.hist(sampling_dist, edgecolor = \"black\");"
   ]
  },
  {
   "cell_type": "markdown",
   "metadata": {},
   "source": [
    "### 1c. Creating a sampling distributions via coin flips (a faster way to simulate data)\n",
    "\n",
    "Rather than simulating polling outcomes by pulling random samples from a DataFrame, let's simulate each vote by simulating randomly flipping a coin, where the probability of getting a \"Head\" (True value) is the probability of Biden getting a vote.\n",
    "\n",
    "To do this we can generate random numbers between 0 and 1. If a number is less than the value of $\\pi_{Biden}$, then it is a vote for Biden (i.e., a `True` value) otherwise it is a vote for Trump (`False` value). \n"
   ]
  },
  {
   "cell_type": "code",
   "execution_count": 33,
   "metadata": {},
   "outputs": [
    {
     "data": {
      "text/plain": [
       "array([False])"
      ]
     },
     "execution_count": 33,
     "metadata": {},
     "output_type": "execute_result"
    }
   ],
   "source": [
    "# simulate one coin flip of a fair coin; i.e., simulate who one person voted for \n",
    "# (50% chance of being heads, or Biden proportion chance of being heads)\n",
    "\n",
    "heads = np.random.rand(1) <= .5\n",
    "\n",
    "heads\n"
   ]
  },
  {
   "cell_type": "markdown",
   "metadata": {},
   "source": [
    "Let's generate one sample of 1,000 voters..."
   ]
  },
  {
   "cell_type": "code",
   "execution_count": 34,
   "metadata": {},
   "outputs": [
    {
     "name": "stdout",
     "output_type": "stream",
     "text": [
      "[0.3926858  0.99362031 0.68192271 0.66721926 0.99780777]\n"
     ]
    },
    {
     "data": {
      "image/png": "[encoded data removed]",
      "text/plain": [
       "<Figure size 640x480 with 1 Axes>"
      ]
     },
     "metadata": {},
     "output_type": "display_data"
    }
   ],
   "source": [
    "\n",
    "# usse `np.random.rand()` to generate 1,000 numbers between 0 and 1\n",
    "thousand_random_nums = np.random.rand(1000)\n",
    "\n",
    "print(thousand_random_nums[0:5])\n",
    "\n",
    "# visualize these 1,000 numbers as a histogram\n",
    "plt.hist(thousand_random_nums, edgecolor = \"black\");\n"
   ]
  },
  {
   "cell_type": "code",
   "execution_count": 35,
   "metadata": {},
   "outputs": [
    {
     "data": {
      "text/plain": [
       "array([ True, False, False, False, False])"
      ]
     },
     "execution_count": 35,
     "metadata": {},
     "output_type": "execute_result"
    }
   ],
   "source": [
    "# convert to a vector of Booleans (True = vote for Biden, False = vote for Trump)\n",
    "\n",
    "voter_sample = thousand_random_nums <= true_prop_Biden\n",
    "\n",
    "voter_sample[0:5]"
   ]
  },
  {
   "cell_type": "code",
   "execution_count": 36,
   "metadata": {},
   "outputs": [
    {
     "name": "stdout",
     "output_type": "stream",
     "text": [
      "0.508\n",
      "0.508\n"
     ]
    }
   ],
   "source": [
    "# Calculate the proportion of votes for Biden in our sample\n",
    "\n",
    "# method 1\n",
    "sample_biden_prop = np.sum(voter_sample)/1000\n",
    "print(sample_biden_prop)\n",
    "\n",
    "# method 2\n",
    "sample_biden_prop2 = np.mean(voter_sample)\n",
    "print(sample_biden_prop2)\n"
   ]
  },
  {
   "cell_type": "code",
   "execution_count": 37,
   "metadata": {},
   "outputs": [],
   "source": [
    "# function to generate proportion of Biden voters based on a poll\n",
    "\n",
    "def generate_prop_biden(poll_size):\n",
    "    random_sample = np.random.rand(poll_size) <= true_prop_Biden\n",
    "    return np.mean(random_sample)\n"
   ]
  },
  {
   "cell_type": "code",
   "execution_count": 38,
   "metadata": {},
   "outputs": [
    {
     "name": "stdout",
     "output_type": "stream",
     "text": [
      "CPU times: user 6.34 ms, sys: 4.84 ms, total: 11.2 ms\n",
      "Wall time: 3.31 ms\n"
     ]
    }
   ],
   "source": [
    "%%time\n",
    "\n",
    "# sampling distribution of many polls conducted\n",
    "\n",
    "sample_size = 1000\n",
    "num_simulations = 100\n",
    "\n",
    "sampling_dist = []\n",
    "\n",
    "for i in range(num_simulations):\n",
    "    prop_biden = generate_prop_biden(sample_size)\n",
    "    sampling_dist.append(prop_biden)"
   ]
  },
  {
   "cell_type": "code",
   "execution_count": 39,
   "metadata": {},
   "outputs": [
    {
     "data": {
      "image/png": "[encoded data removed]",
      "text/plain": [
       "<Figure size 640x480 with 1 Axes>"
      ]
     },
     "metadata": {},
     "output_type": "display_data"
    }
   ],
   "source": [
    "plt.hist(sampling_dist, edgecolor = \"black\", bins = 10);"
   ]
  },
  {
   "cell_type": "markdown",
   "metadata": {},
   "source": [
    "## 2. Hypothesis tests\n",
    "\n",
    "In hypothesis testing, we start with a claim about a population parameter (e.g., µ = 4.2, or π = 0.25).\n",
    "\n",
    "This claim implies we should get a certain distribution of statistics, called \"The null distribution\". \n",
    "\n",
    "If our observed statistic is highly unlikely to come from the null distribution, we reject the claim. \n",
    "\n",
    "We can break down the process of running a hypothesis test into 5 steps. \n",
    "\n",
    "1. State the null and alternative hypothesis\n",
    "2. Calculate the observed statistic of interest\n",
    "3. Create the null distribution \n",
    "4. Calculate the p-value \n",
    "5. Make a decision\n",
    "\n",
    "Let's run through these steps now!\n"
   ]
  },
  {
   "cell_type": "markdown",
   "metadata": {},
   "source": [
    "#### Step 1: State the null and alternative hypothesis\n",
    "\n",
    "$H_0: \\pi = 0.5$\n",
    "\n",
    "$H_A: \\pi < 0.5$\n"
   ]
  },
  {
   "cell_type": "markdown",
   "metadata": {},
   "source": [
    "#### Step 2: Calculate the observed statistic of interest\n"
   ]
  },
  {
   "cell_type": "code",
   "execution_count": 40,
   "metadata": {},
   "outputs": [
    {
     "data": {
      "text/html": [
       "<div>\n",
       "<style scoped>\n",
       "    .dataframe tbody tr th:only-of-type {\n",
       "        vertical-align: middle;\n",
       "    }\n",
       "\n",
       "    .dataframe tbody tr th {\n",
       "        vertical-align: top;\n",
       "    }\n",
       "\n",
       "    .dataframe thead th {\n",
       "        text-align: right;\n",
       "    }\n",
       "</style>\n",
       "<table border=\"1\" class=\"dataframe\">\n",
       "  <thead>\n",
       "    <tr style=\"text-align: right;\">\n",
       "      <th></th>\n",
       "      <th>year</th>\n",
       "      <th>imdb</th>\n",
       "      <th>title</th>\n",
       "      <th>test</th>\n",
       "      <th>clean_test</th>\n",
       "      <th>binary</th>\n",
       "      <th>budget</th>\n",
       "      <th>domgross</th>\n",
       "      <th>intgross</th>\n",
       "      <th>code</th>\n",
       "      <th>budget_2013$</th>\n",
       "      <th>domgross_2013$</th>\n",
       "      <th>intgross_2013$</th>\n",
       "      <th>period code</th>\n",
       "      <th>decade code</th>\n",
       "    </tr>\n",
       "  </thead>\n",
       "  <tbody>\n",
       "    <tr>\n",
       "      <th>0</th>\n",
       "      <td>2013</td>\n",
       "      <td>tt1711425</td>\n",
       "      <td>21 &amp;amp; Over</td>\n",
       "      <td>notalk</td>\n",
       "      <td>notalk</td>\n",
       "      <td>FAIL</td>\n",
       "      <td>13000000</td>\n",
       "      <td>25682380.0</td>\n",
       "      <td>42195766.0</td>\n",
       "      <td>2013FAIL</td>\n",
       "      <td>13000000</td>\n",
       "      <td>25682380.0</td>\n",
       "      <td>42195766.0</td>\n",
       "      <td>1.0</td>\n",
       "      <td>1.0</td>\n",
       "    </tr>\n",
       "    <tr>\n",
       "      <th>1</th>\n",
       "      <td>2012</td>\n",
       "      <td>tt1343727</td>\n",
       "      <td>Dredd 3D</td>\n",
       "      <td>ok-disagree</td>\n",
       "      <td>ok</td>\n",
       "      <td>PASS</td>\n",
       "      <td>45000000</td>\n",
       "      <td>13414714.0</td>\n",
       "      <td>40868994.0</td>\n",
       "      <td>2012PASS</td>\n",
       "      <td>45658735</td>\n",
       "      <td>13611086.0</td>\n",
       "      <td>41467257.0</td>\n",
       "      <td>1.0</td>\n",
       "      <td>1.0</td>\n",
       "    </tr>\n",
       "    <tr>\n",
       "      <th>2</th>\n",
       "      <td>2013</td>\n",
       "      <td>tt2024544</td>\n",
       "      <td>12 Years a Slave</td>\n",
       "      <td>notalk-disagree</td>\n",
       "      <td>notalk</td>\n",
       "      <td>FAIL</td>\n",
       "      <td>20000000</td>\n",
       "      <td>53107035.0</td>\n",
       "      <td>158607035.0</td>\n",
       "      <td>2013FAIL</td>\n",
       "      <td>20000000</td>\n",
       "      <td>53107035.0</td>\n",
       "      <td>158607035.0</td>\n",
       "      <td>1.0</td>\n",
       "      <td>1.0</td>\n",
       "    </tr>\n",
       "  </tbody>\n",
       "</table>\n",
       "</div>"
      ],
      "text/plain": [
       "   year       imdb             title             test clean_test binary  \\\n",
       "0  2013  tt1711425     21 &amp; Over           notalk     notalk   FAIL   \n",
       "1  2012  tt1343727          Dredd 3D      ok-disagree         ok   PASS   \n",
       "2  2013  tt2024544  12 Years a Slave  notalk-disagree     notalk   FAIL   \n",
       "\n",
       "     budget    domgross     intgross      code  budget_2013$  domgross_2013$  \\\n",
       "0  13000000  25682380.0   42195766.0  2013FAIL      13000000      25682380.0   \n",
       "1  45000000  13414714.0   40868994.0  2012PASS      45658735      13611086.0   \n",
       "2  20000000  53107035.0  158607035.0  2013FAIL      20000000      53107035.0   \n",
       "\n",
       "   intgross_2013$  period code  decade code  \n",
       "0      42195766.0          1.0          1.0  \n",
       "1      41467257.0          1.0          1.0  \n",
       "2     158607035.0          1.0          1.0  "
      ]
     },
     "execution_count": 40,
     "metadata": {},
     "output_type": "execute_result"
    }
   ],
   "source": [
    "# load the data\n",
    "\n",
    "movies = pd.read_csv(\"movies.csv\")\n",
    "\n",
    "movies.head(3)"
   ]
  },
  {
   "cell_type": "code",
   "execution_count": 41,
   "metadata": {},
   "outputs": [],
   "source": [
    "# reduce data to a smaller number of columns: \"title\" and \"binary\"\n",
    "\n",
    "movies_smaller = movies[[\"title\", \"binary\"]]"
   ]
  },
  {
   "cell_type": "code",
   "execution_count": 42,
   "metadata": {},
   "outputs": [
    {
     "data": {
      "text/plain": [
       "0.447603121516165"
      ]
     },
     "execution_count": 42,
     "metadata": {},
     "output_type": "execute_result"
    }
   ],
   "source": [
    "# calculate the proportion of movies that pass the Bechdel test\n",
    "\n",
    "booleans_passed = movies_smaller[\"binary\"] == \"PASS\"\n",
    "\n",
    "prop_passed = np.mean(booleans_passed)\n",
    "\n",
    "prop_passed\n"
   ]
  },
  {
   "cell_type": "markdown",
   "metadata": {},
   "source": [
    "#### Step 3: Create the null distribution \n",
    "\n",
    "We need to create a null distribution, which is the distribution of statistics we would expect to get if the null hypothesis is true. \n",
    "\n",
    "**Question**: about what percent of the movies would we expect to pass the Bechdel test if the null distribution was true? \n",
    "\n",
    "**Answer**: 50%\n",
    "\n",
    "Let's create simulated data that is consistent with this!\n"
   ]
  },
  {
   "cell_type": "code",
   "execution_count": 43,
   "metadata": {},
   "outputs": [
    {
     "name": "stdout",
     "output_type": "stream",
     "text": [
      "1794\n"
     ]
    },
    {
     "data": {
      "text/plain": [
       "0.48773690078037907"
      ]
     },
     "execution_count": 43,
     "metadata": {},
     "output_type": "execute_result"
    }
   ],
   "source": [
    "# Let's generate one proportion consistent with the null hypothesis\n",
    "\n",
    "# get the total number of movies in our dataset n\n",
    "n = movies.shape[0]\n",
    "print(n)\n",
    "\n",
    "# generate random sample indicating if each of the n movies passed the Bechdel test\n",
    "null_sample = np.random.rand(n) < .5\n",
    "\n",
    "# get the proportion of simulated movies that passed the Bechdel test\n",
    "np.mean(null_sample)\n"
   ]
  },
  {
   "cell_type": "code",
   "execution_count": 44,
   "metadata": {},
   "outputs": [
    {
     "data": {
      "text/plain": [
       "0.4855072463768116"
      ]
     },
     "execution_count": 44,
     "metadata": {},
     "output_type": "execute_result"
    }
   ],
   "source": [
    "# Let's write a function to generate a proportions consistent with a null hypothesis\n",
    "\n",
    "def generate_prop_bechdel(n, null_prop):\n",
    "    random_sample = np.random.rand(n) <= null_prop\n",
    "    return np.mean(random_sample)\n",
    "\n",
    "\n",
    "# call the function to generate a p-hat consistent with the null hypothesis\n",
    "generate_prop_bechdel(1794, .5)"
   ]
  },
  {
   "cell_type": "code",
   "execution_count": 45,
   "metadata": {},
   "outputs": [],
   "source": [
    "# Let's generate a null distribution \n",
    "\n",
    "null_dist = []\n",
    "\n",
    "for i in range(10000):    \n",
    "    null_dist.append(generate_prop_bechdel(1794, .5))\n"
   ]
  },
  {
   "cell_type": "code",
   "execution_count": 46,
   "metadata": {},
   "outputs": [
    {
     "data": {
      "image/png": "[encoded data removed]",
      "text/plain": [
       "<Figure size 640x480 with 1 Axes>"
      ]
     },
     "metadata": {},
     "output_type": "display_data"
    }
   ],
   "source": [
    "# visualize the null distribution \n",
    "\n",
    "plt.hist(null_dist, edgecolor = \"black\", bins = 20) #, range = (.4, .6));\n",
    "plt.plot(prop_passed, 30, '.', markersize = 30, color = \"red\");"
   ]
  },
  {
   "cell_type": "markdown",
   "metadata": {},
   "source": [
    "#### Step 4: Calculate the p-value \n",
    "\n",
    "Calculate the proportion of points in the null distribution that are more extreme than the observed statistic. \n"
   ]
  },
  {
   "cell_type": "code",
   "execution_count": 47,
   "metadata": {},
   "outputs": [
    {
     "name": "stdout",
     "output_type": "stream",
     "text": [
      "[False False False False False]\n"
     ]
    },
    {
     "data": {
      "text/plain": [
       "0.0"
      ]
     },
     "execution_count": 47,
     "metadata": {},
     "output_type": "execute_result"
    }
   ],
   "source": [
    "# Calculate the p-value\n",
    "\n",
    "# create a Boolean vector indicating whether each p-hat in the null distribution \n",
    "# was greater than the observed proportion that passed the Bechdel test\n",
    "stats_more_extreme = np.array(null_dist) <= prop_passed\n",
    "\n",
    "print(stats_more_extreme[0:5])\n",
    "\n",
    "# calculate the p-value \n",
    "p_value = np.mean(stats_more_extreme)\n",
    "\n",
    "p_value"
   ]
  },
  {
   "cell_type": "markdown",
   "metadata": {},
   "source": [
    "#### Step 5: Make a decision\n",
    "\n",
    "Since the p-value is very small (essentially zero) it is very unlikely that our statistic come from the null distribution. Thus we will reject the null hypothesis and conclude that less than 50% of movies pass the Bechdel test. \n"
   ]
  },
  {
   "cell_type": "markdown",
   "metadata": {},
   "source": [
    "## 3. Hypothesis test for multiple proportions\n",
    "\n",
    "In a hypothesis test for multiple proportions, we are testing whether each proportion is equal to a particular value. I.e., we are testing whether $\\pi_1 = p_1$, $\\pi_2 = p_2$, ..., $\\pi_k = p_k$, for some proportions $p_1$, $p_2$, ..., $p_k$.\n",
    "\n",
    "A special case of this is whether all populations proportions are the same, which can be written as: $\\pi_1 = \\pi_2 = ... = \\pi_k$.\n",
    "\n",
    "\n",
    "### Movivating example: ALCU vs. Almeda County\n",
    "\n",
    "As a motivating example, let's look look at a report by the American Civil Liberties Union (ACLU) of Almada County jury selection. In particular, the ACLU claimed that jury panels in Almeda were not representative of the underlying demographics of the population of the citizens who lived there. \n",
    "\n",
    "The demographics of Almeda county, and the proportion of people selected to be on jury panels, is shown in the DataFrame below, which is based on 1453 people selected to be on jury panels. Let's use this data to run a hypothesis test to examine whether the proportion of people selected to be on jury panels is consistent with the underlying demographics of Almeda. \n"
   ]
  },
  {
   "cell_type": "code",
   "execution_count": 48,
   "metadata": {},
   "outputs": [
    {
     "data": {
      "text/html": [
       "<div>\n",
       "<style scoped>\n",
       "    .dataframe tbody tr th:only-of-type {\n",
       "        vertical-align: middle;\n",
       "    }\n",
       "\n",
       "    .dataframe tbody tr th {\n",
       "        vertical-align: top;\n",
       "    }\n",
       "\n",
       "    .dataframe thead th {\n",
       "        text-align: right;\n",
       "    }\n",
       "</style>\n",
       "<table border=\"1\" class=\"dataframe\">\n",
       "  <thead>\n",
       "    <tr style=\"text-align: right;\">\n",
       "      <th></th>\n",
       "      <th>Ethnicity</th>\n",
       "      <th>Population proportions</th>\n",
       "      <th>Jury proportions</th>\n",
       "    </tr>\n",
       "  </thead>\n",
       "  <tbody>\n",
       "    <tr>\n",
       "      <th>0</th>\n",
       "      <td>Asian</td>\n",
       "      <td>0.15</td>\n",
       "      <td>0.26</td>\n",
       "    </tr>\n",
       "    <tr>\n",
       "      <th>1</th>\n",
       "      <td>Black</td>\n",
       "      <td>0.18</td>\n",
       "      <td>0.08</td>\n",
       "    </tr>\n",
       "    <tr>\n",
       "      <th>2</th>\n",
       "      <td>Latino</td>\n",
       "      <td>0.12</td>\n",
       "      <td>0.08</td>\n",
       "    </tr>\n",
       "    <tr>\n",
       "      <th>3</th>\n",
       "      <td>White</td>\n",
       "      <td>0.54</td>\n",
       "      <td>0.54</td>\n",
       "    </tr>\n",
       "    <tr>\n",
       "      <th>4</th>\n",
       "      <td>Other</td>\n",
       "      <td>0.01</td>\n",
       "      <td>0.04</td>\n",
       "    </tr>\n",
       "  </tbody>\n",
       "</table>\n",
       "</div>"
      ],
      "text/plain": [
       "  Ethnicity  Population proportions  Jury proportions\n",
       "0     Asian                    0.15              0.26\n",
       "1     Black                    0.18              0.08\n",
       "2    Latino                    0.12              0.08\n",
       "3     White                    0.54              0.54\n",
       "4     Other                    0.01              0.04"
      ]
     },
     "metadata": {},
     "output_type": "display_data"
    },
    {
     "data": {
      "image/png": "[encoded data removed]",
      "text/plain": [
       "<Figure size 640x480 with 1 Axes>"
      ]
     },
     "metadata": {},
     "output_type": "display_data"
    }
   ],
   "source": [
    "\n",
    "ethnicities = np.array(['Asian', 'Black', 'Latino', 'White', 'Other'])\n",
    "population_proportions = np.array([0.15, 0.18, 0.12, 0.54, 0.01])\n",
    "panel_proportions = np.array([0.26, 0.08, 0.08, 0.54, 0.04])\n",
    "\n",
    "\n",
    "demographics = pd.DataFrame({\"Ethnicity\": ethnicities, \n",
    "                             \"Population proportions\": population_proportions, \n",
    "                             \"Jury proportions\": panel_proportions})\n",
    "\n",
    "display(demographics)\n",
    "\n",
    "# built in pandas plotting functions\n",
    "demographics.plot.bar(\"Ethnicity\");\n",
    "plt.ylabel(\"Proportion\");"
   ]
  },
  {
   "cell_type": "markdown",
   "metadata": {},
   "source": [
    "### Step 1: State the null and alternative hypotheses\n",
    "\n",
    "**In words** \n",
    "\n",
    "Null hypothesis: The proportions of members on the jury panels of different ethnicities match the underlying demographics. \n",
    "\n",
    "Alternative hypothesis: The proportion of at least one ethnicity does not match the underlying demographics. \n",
    "\n",
    "\n",
    "**In symbols**\n",
    "\n",
    "$H_0$: $\\pi_{Asian} = .15$,  $\\pi_{Black} = .18$,  $\\pi_{Latino} = .12$,  $\\pi_{White} = .54$,  $\\pi_{Other} = .01$\n",
    "\n",
    "$H_A$: At least one $\\pi_{i}$ is different from the values specified in the null hypothesis\n",
    "\n"
   ]
  },
  {
   "cell_type": "markdown",
   "metadata": {},
   "source": [
    "### Step 2: Calculate the observed statistic\n",
    "\n",
    "For our observed statistic we will use the Total Variational Distance (TVD) which is defined as:  $TVD ~ = ~ \\sum_{i = 1}^{k} |\\pi_i - \\hat{p}_i |$\n",
    "\n",
    "Let's write a function `total_variation_distance(distribution_1, distribution_2)` that can calculate the TVD. We can then use this function to calculate the TVD statistic value for the jurors in Almeda county.\n"
   ]
  },
  {
   "cell_type": "code",
   "execution_count": 49,
   "metadata": {},
   "outputs": [
    {
     "data": {
      "text/plain": [
       "0.28"
      ]
     },
     "execution_count": 49,
     "metadata": {},
     "output_type": "execute_result"
    }
   ],
   "source": [
    "def total_variation_distance(distribution_1, distribution_2):\n",
    "    \n",
    "    return np.sum(np.abs(distribution_1 - distribution_2))\n",
    "\n",
    "\n",
    "# calculate the total variation distance between population proportions and the observed proportions\n",
    "observed_statistic_value = total_variation_distance(panel_proportions, population_proportions)\n",
    "\n",
    "observed_statistic_value"
   ]
  },
  {
   "cell_type": "markdown",
   "metadata": {},
   "source": [
    "### Step 3: Create the null distribution \n",
    "\n",
    "To create the null distribution we need to simulate drawing random sample proportions from the underlying population.\n",
    "\n",
    "To do this we can generate (uniform) random numbers between 0 and 1. We can then use the `pd.cut()` function to simulate randomly selected jurors ethnicities and convert these to proportions. \n",
    "\n",
    "Once we have these proportions, we can calculate the TVD. If we repreat this process 1,000 times we can get a null distribution. "
   ]
  },
  {
   "cell_type": "code",
   "execution_count": 50,
   "metadata": {},
   "outputs": [
    {
     "data": {
      "text/plain": [
       "array([0.  , 0.15, 0.33, 0.45, 0.99, 1.  ])"
      ]
     },
     "execution_count": 50,
     "metadata": {},
     "output_type": "execute_result"
    }
   ],
   "source": [
    "# calculate the cumulative proportions we can use to split the data into categories consistent with the null hypothesis\n",
    "\n",
    "cumulative_proportions = np.append(0, np.cumsum(population_proportions))\n",
    "\n",
    "cumulative_proportions\n"
   ]
  },
  {
   "cell_type": "code",
   "execution_count": 51,
   "metadata": {},
   "outputs": [
    {
     "name": "stdout",
     "output_type": "stream",
     "text": [
      "['White', 'Asian', 'White', 'Latino', 'Latino']\n",
      "Categories (5, object): ['Asian', 'Black', 'Latino', 'White', 'Other']\n"
     ]
    }
   ],
   "source": [
    "# generate random jury panelist ethnicities\n",
    "\n",
    "# number of jury members\n",
    "num_jury_members = 1453\n",
    "\n",
    "# generate random numbers between 0 and 1 for each jury member\n",
    "rand_nums = np.random.rand(num_jury_members)\n",
    "\n",
    "# generate random ethnicities for each jury member\n",
    "one_sample = pd.cut(rand_nums, cumulative_proportions, labels = ethnicities, ordered = False)\n",
    "\n",
    "print(one_sample[0:5])"
   ]
  },
  {
   "cell_type": "code",
   "execution_count": 52,
   "metadata": {},
   "outputs": [
    {
     "data": {
      "text/plain": [
       "array([0.14659326, 0.18995182, 0.10942877, 0.00825877, 0.54576738])"
      ]
     },
     "execution_count": 52,
     "metadata": {},
     "output_type": "execute_result"
    }
   ],
   "source": [
    "# get the proportions from our sample\n",
    "\n",
    "# get how many simulated jury members there were for each ethnicity\n",
    "unique, counts = np.unique(one_sample, return_counts=True)\n",
    "\n",
    "# convert to proportions\n",
    "sample_proportions = counts/sum(counts)\n",
    "\n",
    "sample_proportions"
   ]
  },
  {
   "cell_type": "code",
   "execution_count": 53,
   "metadata": {},
   "outputs": [
    {
     "data": {
      "text/plain": [
       "array([0.16104611, 0.16379904, 0.11768754, 0.54645561, 0.0110117 ])"
      ]
     },
     "execution_count": 53,
     "metadata": {},
     "output_type": "execute_result"
    }
   ],
   "source": [
    "# Let's convert the following steps into one function\n",
    "\n",
    "def get_sample_proportions(sample_size, true_proportions):\n",
    "    \n",
    "    cumulative_proportions = np.append(0, np.cumsum(true_proportions))\n",
    "    \n",
    "    rand_nums = np.random.rand(sample_size)\n",
    "    one_sample = pd.cut(rand_nums, cumulative_proportions)\n",
    "    unique, counts = np.unique(one_sample, return_counts=True)\n",
    "    \n",
    "    return counts/sum(counts)\n",
    "\n",
    "\n",
    "# test the function\n",
    "get_sample_proportions(1453, population_proportions)\n",
    "\n"
   ]
  },
  {
   "cell_type": "code",
   "execution_count": 54,
   "metadata": {},
   "outputs": [],
   "source": [
    "# Step 3: create null distribution \n",
    "\n",
    "null_dist = []\n",
    "\n",
    "num_null_dist_points = 1000\n",
    "\n",
    "for i in range(num_null_dist_points):\n",
    "    \n",
    "    curr_sample_props = get_sample_proportions(1453, population_proportions)\n",
    "    curr_tvd = total_variation_distance(curr_sample_props, population_proportions)\n",
    "    null_dist.append(curr_tvd)"
   ]
  },
  {
   "cell_type": "code",
   "execution_count": 55,
   "metadata": {},
   "outputs": [
    {
     "data": {
      "image/png": "[encoded data removed]",
      "text/plain": [
       "<Figure size 640x480 with 1 Axes>"
      ]
     },
     "metadata": {},
     "output_type": "display_data"
    }
   ],
   "source": [
    "# plot the null distribution as a histogram\n",
    "\n",
    "plt.hist(null_dist, edgecolor = \"black\");\n"
   ]
  },
  {
   "cell_type": "markdown",
   "metadata": {},
   "source": [
    "### Step 4: Calculate the p-value\n",
    "\n",
    "The p-value is the proportion of points in the null distribution that are more extreme than the observed statistic. \n"
   ]
  },
  {
   "cell_type": "code",
   "execution_count": 56,
   "metadata": {},
   "outputs": [
    {
     "data": {
      "text/plain": [
       "0.0"
      ]
     },
     "execution_count": 56,
     "metadata": {},
     "output_type": "execute_result"
    }
   ],
   "source": [
    "p_value = np.mean(null_dist >= observed_statistic_value)\n",
    "\n",
    "p_value"
   ]
  },
  {
   "cell_type": "markdown",
   "metadata": {},
   "source": [
    "### Step 5: Draw a conclusion\n",
    "\n",
    "Since the p-value is very small, it is very unlikely our statistic comes from the null distribution. Thus we can reject the null distribution and conclude that the proportion of members of different ethnicities on jury panels in Almeda do not reflect the underlying distribution of ethnicities in the population. \n"
   ]
  }
 ],
 "metadata": {
  "anaconda-cloud": {},
  "kernelspec": {
   "display_name": "Python 3 (ipykernel)",
   "language": "python",
   "name": "python3"
  },
  "language_info": {
   "codemirror_mode": {
    "name": "ipython",
    "version": 3
   },
   "file_extension": ".py",
   "mimetype": "text/x-python",
   "name": "python",
   "nbconvert_exporter": "python",
   "pygments_lexer": "ipython3",
   "version": "3.11.7"
  }
 },
 "nbformat": 4,
 "nbformat_minor": 4
}
