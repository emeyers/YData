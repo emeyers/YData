{
 "cells": [
  {
   "cell_type": "markdown",
   "metadata": {},
   "source": [
    "# Class 12: Review practice problems\n",
    "\n",
    "Here are a few review practice problems based on the problems everyone posted to Canvas\n"
   ]
  },
  {
   "cell_type": "markdown",
   "metadata": {},
   "source": [
    "# Class 12: Review practice problems\n",
    "\n",
    "Here are a few review practice problems based on the problems everyone posted to Canvas\n"
   ]
  },
  {
   "cell_type": "code",
   "execution_count": 9,
   "metadata": {},
   "outputs": [
    {
     "name": "stdout",
     "output_type": "stream",
     "text": [
      "The file `dow.csv` already exists.\n",
      "If you would like to download a new copy of the file, please rename the existing copy of the file.\n",
      "The file `nba_salaries_2015_16.csv` already exists.\n",
      "If you would like to download a new copy of the file, please rename the existing copy of the file.\n",
      "The file `daily_bike_totals.csv` already exists.\n",
      "If you would like to download a new copy of the file, please rename the existing copy of the file.\n"
     ]
    }
   ],
   "source": [
    "import YData\n",
    "\n",
    "# YData.download.download_class_code(12)   # get class code    \n",
    "# YData.download.download_class_code(12, True)  # get the code with the answers \n",
    "\n",
    "YData.download.download_data(\"dow.csv\")\n",
    "YData.download_data(\"nba_salaries_2015_16.csv\")\n",
    "YData.download_data(\"daily_bike_totals.csv\")\n",
    "YData.download_data(\"gapminder_data.csv\")\n"
   ]
  },
  {
   "cell_type": "code",
   "execution_count": 10,
   "metadata": {},
   "outputs": [],
   "source": [
    "## If you are using Google Colabs, you should install the YData packages and mount the your google drive by uncommenting and running the code below.\n",
    "\n",
    "# !pip install https://github.com/emeyers/YData_package/tarball/master\n",
    "# from google.colab import drive\n",
    "# drive.mount('/content/drive')\n"
   ]
  },
  {
   "cell_type": "code",
   "execution_count": 11,
   "metadata": {},
   "outputs": [],
   "source": [
    "import pandas as pd\n",
    "import statistics\n",
    "import numpy as np\n",
    "from datetime import datetime\n",
    "import seaborn as sns\n",
    "\n",
    "import matplotlib.pyplot as plt\n",
    "%matplotlib inline"
   ]
  },
  {
   "cell_type": "markdown",
   "metadata": {},
   "source": [
    "## Practice problem 1\n",
    "\n",
    "Using the `nba_salaries` data, create a data frame called `team_count` that displays the following columns:\n",
    "\n",
    "1. `TEAM`: The team name of each NBA player represented.\n",
    "2. `num_players`: The number of players on each team.\n"
   ]
  },
  {
   "cell_type": "code",
   "execution_count": 12,
   "metadata": {},
   "outputs": [],
   "source": [
    "nba = pd.read_csv(\"nba_salaries_2015_16.csv\")\n",
    "\n"
   ]
  },
  {
   "cell_type": "markdown",
   "metadata": {},
   "source": [
    "## Practice problem 2\n",
    "\n",
    "Suppose the data on the DOW Jones Industrial Average was loading in Python as a DataFrame in the name `dow`. Use Boolean masking to create a DataFrame that extracts data from all \"Fridays\". Save this to `dow_fridays`. Then, sort this new dataframe by `Open` values.\n",
    "\n"
   ]
  },
  {
   "cell_type": "code",
   "execution_count": 13,
   "metadata": {},
   "outputs": [],
   "source": [
    "dow = pd.read_csv(\"dow.csv\")\n",
    "dow = dow.set_index(\"Date\")\n",
    "\n",
    "\n"
   ]
  },
  {
   "cell_type": "markdown",
   "metadata": {},
   "source": [
    "## Practice problem 3\n",
    "\n",
    "Now visualize the distribution of the opening price of the DOW using seaborn.\n"
   ]
  },
  {
   "cell_type": "code",
   "execution_count": null,
   "metadata": {},
   "outputs": [],
   "source": [
    "\n",
    "\n"
   ]
  },
  {
   "cell_type": "markdown",
   "metadata": {},
   "source": [
    "## Practice problem 4\n",
    "\n",
    "The code below loads data on the number of bike trips take each date on NYC citibikes, and also weather information. \n",
    "\n",
    "Use this data to create a scatter plot that shows the relationship between wind speed for a given date and the number of bike rides taken with both `matplotlib` and `seaborn`. Compare and contrast the two resulting plots and the process of making them. \n",
    "\n",
    "Also, calculate the correlation between wind speed and the number of bike trips taken on each date."
   ]
  },
  {
   "cell_type": "code",
   "execution_count": 14,
   "metadata": {},
   "outputs": [
    {
     "data": {
      "text/html": [
       "<div>\n",
       "<style scoped>\n",
       "    .dataframe tbody tr th:only-of-type {\n",
       "        vertical-align: middle;\n",
       "    }\n",
       "\n",
       "    .dataframe tbody tr th {\n",
       "        vertical-align: top;\n",
       "    }\n",
       "\n",
       "    .dataframe thead th {\n",
       "        text-align: right;\n",
       "    }\n",
       "</style>\n",
       "<table border=\"1\" class=\"dataframe\">\n",
       "  <thead>\n",
       "    <tr style=\"text-align: right;\">\n",
       "      <th></th>\n",
       "      <th>date</th>\n",
       "      <th>trips</th>\n",
       "      <th>precipitation</th>\n",
       "      <th>snow_depth</th>\n",
       "      <th>snowfall</th>\n",
       "      <th>max_temperature</th>\n",
       "      <th>min_temperature</th>\n",
       "      <th>average_wind_speed</th>\n",
       "      <th>dow</th>\n",
       "      <th>year</th>\n",
       "      <th>month</th>\n",
       "      <th>holiday</th>\n",
       "      <th>stations_in_service</th>\n",
       "      <th>weekday</th>\n",
       "      <th>weekday_non_holiday</th>\n",
       "    </tr>\n",
       "  </thead>\n",
       "  <tbody>\n",
       "    <tr>\n",
       "      <th>0</th>\n",
       "      <td>2013-07-01</td>\n",
       "      <td>16650</td>\n",
       "      <td>0.838583</td>\n",
       "      <td>0.0</td>\n",
       "      <td>0.0</td>\n",
       "      <td>77.00</td>\n",
       "      <td>71.96</td>\n",
       "      <td>3.13171</td>\n",
       "      <td>1</td>\n",
       "      <td>2013</td>\n",
       "      <td>7</td>\n",
       "      <td>False</td>\n",
       "      <td>NaN</td>\n",
       "      <td>True</td>\n",
       "      <td>True</td>\n",
       "    </tr>\n",
       "    <tr>\n",
       "      <th>1</th>\n",
       "      <td>2013-07-02</td>\n",
       "      <td>22745</td>\n",
       "      <td>0.078740</td>\n",
       "      <td>0.0</td>\n",
       "      <td>0.0</td>\n",
       "      <td>82.04</td>\n",
       "      <td>71.96</td>\n",
       "      <td>2.68432</td>\n",
       "      <td>2</td>\n",
       "      <td>2013</td>\n",
       "      <td>7</td>\n",
       "      <td>False</td>\n",
       "      <td>NaN</td>\n",
       "      <td>True</td>\n",
       "      <td>True</td>\n",
       "    </tr>\n",
       "    <tr>\n",
       "      <th>2</th>\n",
       "      <td>2013-07-03</td>\n",
       "      <td>21864</td>\n",
       "      <td>0.531496</td>\n",
       "      <td>0.0</td>\n",
       "      <td>0.0</td>\n",
       "      <td>82.94</td>\n",
       "      <td>73.04</td>\n",
       "      <td>4.25018</td>\n",
       "      <td>3</td>\n",
       "      <td>2013</td>\n",
       "      <td>7</td>\n",
       "      <td>False</td>\n",
       "      <td>NaN</td>\n",
       "      <td>True</td>\n",
       "      <td>True</td>\n",
       "    </tr>\n",
       "  </tbody>\n",
       "</table>\n",
       "</div>"
      ],
      "text/plain": [
       "         date  trips  precipitation  snow_depth  snowfall  max_temperature  \\\n",
       "0  2013-07-01  16650       0.838583         0.0       0.0            77.00   \n",
       "1  2013-07-02  22745       0.078740         0.0       0.0            82.04   \n",
       "2  2013-07-03  21864       0.531496         0.0       0.0            82.94   \n",
       "\n",
       "   min_temperature  average_wind_speed  dow  year  month  holiday  \\\n",
       "0            71.96             3.13171    1  2013      7    False   \n",
       "1            71.96             2.68432    2  2013      7    False   \n",
       "2            73.04             4.25018    3  2013      7    False   \n",
       "\n",
       "   stations_in_service  weekday  weekday_non_holiday  \n",
       "0                  NaN     True                 True  \n",
       "1                  NaN     True                 True  \n",
       "2                  NaN     True                 True  "
      ]
     },
     "execution_count": 14,
     "metadata": {},
     "output_type": "execute_result"
    }
   ],
   "source": [
    "import statistics\n",
    "bikes = pd.read_csv(\"daily_bike_totals.csv\")\n",
    "bikes.head(3)"
   ]
  },
  {
   "cell_type": "code",
   "execution_count": null,
   "metadata": {},
   "outputs": [],
   "source": [
    "\n",
    "\n",
    "\n",
    "\n",
    "\n",
    "\n",
    "\n",
    "\n"
   ]
  },
  {
   "cell_type": "markdown",
   "metadata": {},
   "source": [
    "## Practice problem 5\n",
    "\n",
    "\n",
    "Consider the following code, in which lines from Taylor Swift's \"Love Story\" are interspersed in William Shakespeare's Romeo and Juliet:\n",
    "\n",
    "\n",
    "<pre>\n",
    "\n",
    "lines =  [\"Two households, both alike in dignity,\",\n",
    "          \"On a balcony in summer air\",\n",
    "          \"In fair Verona, where we lay our scene,\",\n",
    "          \"See the lights, see the party, the ball gowns\",\n",
    "          \"From ancient grudge break to new mutiny,\",\n",
    "          \"See you make your way through the crowd\",\n",
    "          \"Where civil blood makes civil hands unclean.\",\n",
    "          \"And say, 'Hello'\",\n",
    "          \"From forth the fatal loins of these two foes\",\n",
    "          \"Little did I know\",\n",
    "          \"A pair of star-cross'd lovers take their life;\",\n",
    "          \"That you were Romeo, you were throwin' pebbles\",\n",
    "          \"Whose misadventured piteous overthrows\",\n",
    "          \"And my daddy said, 'Stay away from Juliet'\",\n",
    "          \"Do with their death bury their parents' strife.\",\n",
    "          \"And I was cryin' on the staircase\",\n",
    "          \"The fearful passage of their death-mark'd love,\",\n",
    "          \"Beggin' you, 'Please don't go,' and I said\",\n",
    "          \"And the continuance of their parents' rage,\",\n",
    "          \"'Romeo, take me somewhere we can be alone'\",\n",
    "          \"Which, but their children's end, nought could remove,\",\n",
    "          \"'I'll be waiting, all there's left to do is run'\",\n",
    "          \"Is now the two hours' traffic of our stage;\",\n",
    "          \"You'll be the prince and I'll be the princess\",\n",
    "          \"The which if you with patient ears attend,\",\n",
    "          \"It's a love story, baby, just say, 'Yes'\",\n",
    "          \"What here shall miss, our toil shall strive to mend.\"]\n",
    "                          \n",
    "</pre>\n",
    "\n",
    "If I wanted to print ONLY the text from Romeo and Juliet, I could code the following: `lines[_:_:_]`\n",
    "\n",
    "Which numbers belong in the blanks above\n",
    "\n",
    "a) 1, 14, 2\n",
    "\n",
    "b) 0, 27, 2\n",
    "\n",
    "c) 1, 27, 4\n",
    "\n",
    "d) 0, 14, 4\n",
    "\n"
   ]
  },
  {
   "cell_type": "code",
   "execution_count": 15,
   "metadata": {},
   "outputs": [],
   "source": [
    "\n",
    "lines =  [\"Two households, both alike in dignity,\",\n",
    "          \"On a balcony in summer air\",\n",
    "          \"In fair Verona, where we lay our scene,\",\n",
    "          \"See the lights, see the party, the ball gowns\",\n",
    "          \"From ancient grudge break to new mutiny,\",\n",
    "          \"See you make your way through the crowd\",\n",
    "          \"Where civil blood makes civil hands unclean.\",\n",
    "          \"And say, 'Hello'\",\n",
    "          \"From forth the fatal loins of these two foes\",\n",
    "          \"Little did I know\",\n",
    "          \"A pair of star-cross'd lovers take their life;\",\n",
    "          \"That you were Romeo, you were throwin' pebbles\",\n",
    "          \"Whose misadventured piteous overthrows\",\n",
    "          \"And my daddy said, 'Stay away from Juliet'\",\n",
    "          \"Do with their death bury their parents' strife.\",\n",
    "          \"And I was cryin' on the staircase\",\n",
    "          \"The fearful passage of their death-mark'd love,\",\n",
    "          \"Beggin' you, 'Please don't go,' and I said\",\n",
    "          \"And the continuance of their parents' rage,\",\n",
    "          \"'Romeo, take me somewhere we can be alone'\",\n",
    "          \"Which, but their children's end, nought could remove,\",\n",
    "          \"'I'll be waiting, all there's left to do is run'\",\n",
    "          \"Is now the two hours' traffic of our stage;\",\n",
    "          \"You'll be the prince and I'll be the princess\",\n",
    "          \"The which if you with patient ears attend,\",\n",
    "          \"It's a love story, baby, just say, 'Yes'\",\n",
    "          \"What here shall miss, our toil shall strive to mend.\"]\n",
    "\n"
   ]
  },
  {
   "cell_type": "markdown",
   "metadata": {},
   "source": [
    "## Practice problem 6\n",
    "\n",
    "Let's say that you have a DataFrame called `USgdp` with the year in a column called `year`, and the United State's GDP per capita in a column called `gdpPercap`. \n",
    "\n",
    "Which one of these options would give you the total GDP change between the starting year and each later year? \n",
    "\n",
    "a. `np.diff(USgdp[\"gdpPercap\"])`\n",
    "\n",
    "b. `np.cumsum(USgdp[\"gdpPercap\"])`\n",
    "\n",
    "c. `np.diff(np.cumsum(USgdp[\"gdpPercap\"]))`\n",
    "\n",
    "d. `np.cumsum(np.diff(USgdp[\"gdpPercap\"]))`\n",
    "\n"
   ]
  },
  {
   "cell_type": "code",
   "execution_count": 16,
   "metadata": {},
   "outputs": [
    {
     "data": {
      "text/html": [
       "<div>\n",
       "<style scoped>\n",
       "    .dataframe tbody tr th:only-of-type {\n",
       "        vertical-align: middle;\n",
       "    }\n",
       "\n",
       "    .dataframe tbody tr th {\n",
       "        vertical-align: top;\n",
       "    }\n",
       "\n",
       "    .dataframe thead th {\n",
       "        text-align: right;\n",
       "    }\n",
       "</style>\n",
       "<table border=\"1\" class=\"dataframe\">\n",
       "  <thead>\n",
       "    <tr style=\"text-align: right;\">\n",
       "      <th></th>\n",
       "      <th>year</th>\n",
       "      <th>gdpPercap</th>\n",
       "    </tr>\n",
       "  </thead>\n",
       "  <tbody>\n",
       "    <tr>\n",
       "      <th>1608</th>\n",
       "      <td>1952</td>\n",
       "      <td>13990.48208</td>\n",
       "    </tr>\n",
       "    <tr>\n",
       "      <th>1609</th>\n",
       "      <td>1957</td>\n",
       "      <td>14847.12712</td>\n",
       "    </tr>\n",
       "    <tr>\n",
       "      <th>1610</th>\n",
       "      <td>1962</td>\n",
       "      <td>16173.14586</td>\n",
       "    </tr>\n",
       "  </tbody>\n",
       "</table>\n",
       "</div>"
      ],
      "text/plain": [
       "      year    gdpPercap\n",
       "1608  1952  13990.48208\n",
       "1609  1957  14847.12712\n",
       "1610  1962  16173.14586"
      ]
     },
     "metadata": {},
     "output_type": "display_data"
    }
   ],
   "source": [
    "gapminder = pd.read_csv(\"gapminder_data.csv\")\n",
    "USgdp = gapminder[gapminder[\"country\"] == \"United States\"][[\"year\", \"gdpPercap\"]]\n",
    "display(USgdp.head(3))\n",
    "\n"
   ]
  }
 ],
 "metadata": {
  "anaconda-cloud": {},
  "kernelspec": {
   "display_name": "Python 3 (ipykernel)",
   "language": "python",
   "name": "python3"
  },
  "language_info": {
   "codemirror_mode": {
    "name": "ipython",
    "version": 3
   },
   "file_extension": ".py",
   "mimetype": "text/x-python",
   "name": "python",
   "nbconvert_exporter": "python",
   "pygments_lexer": "ipython3",
   "version": "3.13.5"
  }
 },
 "nbformat": 4,
 "nbformat_minor": 4
}
