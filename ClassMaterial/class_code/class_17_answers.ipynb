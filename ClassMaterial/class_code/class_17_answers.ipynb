{
 "cells": [
  {
   "cell_type": "markdown",
   "metadata": {},
   "source": [
    "# Class 17: Text manipulation\n",
    "\n",
    "In this notebook we will learn some functions to manipulate text data. These functions should be useful for cleaning data for your class project. \n"
   ]
  },
  {
   "cell_type": "markdown",
   "metadata": {},
   "source": [
    "## Notes on the class Jupyter setup\n",
    "\n",
    "If you have the *ydata123_2024a* environment set up correctly, you can get the class code using the code below (which presumably you've already done given that you are seeing this notebook).  "
   ]
  },
  {
   "cell_type": "code",
   "execution_count": 3,
   "metadata": {},
   "outputs": [],
   "source": [
    "import YData\n",
    "\n",
    "# YData.download.download_class_code(17)       \n",
    "# YData.download.download_class_code(17, TRUE) # get the code with the answers \n"
   ]
  },
  {
   "cell_type": "markdown",
   "metadata": {},
   "source": [
    "There are also similar functions to download the homework:"
   ]
  },
  {
   "cell_type": "code",
   "execution_count": 4,
   "metadata": {},
   "outputs": [],
   "source": [
    "# YData.download.download_homework(7)  # download the homework "
   ]
  },
  {
   "cell_type": "markdown",
   "metadata": {},
   "source": [
    "If you are using google colabs, you should also uncomment and run the code below install the YData package and to mount the your google drive."
   ]
  },
  {
   "cell_type": "code",
   "execution_count": 5,
   "metadata": {},
   "outputs": [],
   "source": [
    "# !pip install https://github.com/emeyers/YData_package/tarball/master\n",
    "# from google.colab import drive\n",
    "# drive.mount('/content/drive')"
   ]
  },
  {
   "cell_type": "markdown",
   "metadata": {},
   "source": [
    "## Text manipulation\n",
    "\n",
    "A large part of Data Scientists' time is spent cleaning data, and a large part of data cleaning consists of manipulating text.\n",
    "\n",
    "Let's explore some of the functions that are built into Python for manipulating strings of text. \n"
   ]
  },
  {
   "cell_type": "markdown",
   "metadata": {},
   "source": [
    "### 1. Changing capitalization\n",
    "\n",
    "One of the most basic things we can do is to change the capitalization of a piece of text. \n",
    "\n",
    "One case where this comes up is when one is merging two DataFrames that have the same key values but the values have different capitalization. For example, one might have two DataFrames that have a column that has the names of different countries, but in one DataFrame the country names are capitalized and in the other they are not. \n",
    "\n",
    "Python strings have a number of methods to change the capitalization of words including: \n",
    "\n",
    "- `capitalize()`: Converts the first character to upper case\n",
    "- `lower()`: Converts a string into lower case\n",
    "- `upper()`: Converts a string into upper case\n",
    "- `title()`: Converts the first character of each word to upper case\n",
    "- `swapcase()`: Swaps cases, lower case becomes upper case and vice versa\n",
    "\n",
    "Let's explore these methods by manipulating this [quote](https://www.brainyquote.com/topics/yale-quotes) from [Herman Melville](https://en.wikipedia.org/wiki/Herman_Melville): \"a whale ship was my Yale College and my Harvard\". \n"
   ]
  },
  {
   "cell_type": "code",
   "execution_count": 6,
   "metadata": {},
   "outputs": [
    {
     "data": {
      "text/plain": [
       "'a whale ship was my Yale College and my Harvard'"
      ]
     },
     "execution_count": 6,
     "metadata": {},
     "output_type": "execute_result"
    }
   ],
   "source": [
    "melville_quote = \"a whale ship was my Yale College and my Harvard\"\n",
    "\n",
    "melville_quote\n"
   ]
  },
  {
   "cell_type": "code",
   "execution_count": 7,
   "metadata": {},
   "outputs": [
    {
     "data": {
      "text/plain": [
       "'A whale ship was my yale college and my harvard'"
      ]
     },
     "execution_count": 7,
     "metadata": {},
     "output_type": "execute_result"
    }
   ],
   "source": [
    "# Capitalize the first letter \n",
    "\n",
    "melville_quote.capitalize()"
   ]
  },
  {
   "cell_type": "code",
   "execution_count": 8,
   "metadata": {},
   "outputs": [
    {
     "data": {
      "text/plain": [
       "'a whale ship was my yale college and my harvard'"
      ]
     },
     "execution_count": 8,
     "metadata": {},
     "output_type": "execute_result"
    }
   ],
   "source": [
    "# Convert all letters to lower case\n",
    "\n",
    "melville_quote.lower()"
   ]
  },
  {
   "cell_type": "code",
   "execution_count": 9,
   "metadata": {},
   "outputs": [
    {
     "data": {
      "text/plain": [
       "'A WHALE SHIP WAS MY YALE COLLEGE AND MY HARVARD'"
      ]
     },
     "execution_count": 9,
     "metadata": {},
     "output_type": "execute_result"
    }
   ],
   "source": [
    "# Convert all letters to upper case\n",
    "\n",
    "melville_quote.upper()"
   ]
  },
  {
   "cell_type": "code",
   "execution_count": 10,
   "metadata": {},
   "outputs": [
    {
     "data": {
      "text/plain": [
       "'A Whale Ship Was My Yale College And My Harvard'"
      ]
     },
     "execution_count": 10,
     "metadata": {},
     "output_type": "execute_result"
    }
   ],
   "source": [
    "# Make the first letter of each word capitalized\n",
    "\n",
    "melville_quote.title()"
   ]
  },
  {
   "cell_type": "code",
   "execution_count": 11,
   "metadata": {},
   "outputs": [
    {
     "data": {
      "text/plain": [
       "'A WHALE SHIP WAS MY yALE cOLLEGE AND MY hARVARD'"
      ]
     },
     "execution_count": 11,
     "metadata": {},
     "output_type": "execute_result"
    }
   ],
   "source": [
    "# Make uppercase lowercase, and lowercase uppercase\n",
    "\n",
    "melville_quote.swapcase()\n"
   ]
  },
  {
   "cell_type": "markdown",
   "metadata": {},
   "source": [
    "### 2. String padding\n",
    "\n",
    "Often we want to remove extra spaces (called \"white space\") from the front or end of a string. Or conversely, sometimes we want to add extra spaces to make a set of strings the same length (this is known as \"string padding\"). \n",
    "\n",
    "Python strings have a number of methods that can pad/trim strings including: \n",
    "\n",
    "- `strip()`: Returns a trimmed version of the string (i.e., with no leading or trailing white space). \n",
    "- `rstrip()`: Returns a right trim version of the string\n",
    "- `lstrip()`: Returns a left trim version of the string\n",
    "\n",
    "- `center(num)`: Returns a centered string (with equal padding on both sides)\n",
    "- `ljust(num)`: Returns a left justified version of the string\n",
    "- `rjust(num)`: Returns a right justified version of the string\n",
    "\n",
    "- `zfill(num)`: Fills the string with a specified number of 0 values at the beginning\n",
    "\n",
    "Let's use a modified version of Melville quote to explore this\n"
   ]
  },
  {
   "cell_type": "code",
   "execution_count": 12,
   "metadata": {},
   "outputs": [
    {
     "data": {
      "text/plain": [
       "'    a whale ship was my Yale College and my Harvard   '"
      ]
     },
     "execution_count": 12,
     "metadata": {},
     "output_type": "execute_result"
    }
   ],
   "source": [
    "melville_quote2 = \"    a whale ship was my Yale College and my Harvard   \"\n",
    "melville_quote2"
   ]
  },
  {
   "cell_type": "code",
   "execution_count": 13,
   "metadata": {},
   "outputs": [
    {
     "data": {
      "text/plain": [
       "'a whale ship was my Yale College and my Harvard'"
      ]
     },
     "execution_count": 13,
     "metadata": {},
     "output_type": "execute_result"
    }
   ],
   "source": [
    "# Strip the white space\n",
    "melville_quote2.strip()"
   ]
  },
  {
   "cell_type": "code",
   "execution_count": 14,
   "metadata": {},
   "outputs": [
    {
     "data": {
      "text/plain": [
       "'a whale ship was my Yale College and my Harvard   '"
      ]
     },
     "execution_count": 14,
     "metadata": {},
     "output_type": "execute_result"
    }
   ],
   "source": [
    "# Strip just the left the white space\n",
    "melville_quote2.lstrip()"
   ]
  },
  {
   "cell_type": "code",
   "execution_count": 15,
   "metadata": {},
   "outputs": [
    {
     "data": {
      "text/plain": [
       "'           a whale ship was my Yale College and my Harvard            '"
      ]
     },
     "execution_count": 15,
     "metadata": {},
     "output_type": "execute_result"
    }
   ],
   "source": [
    "# Center the quote by padding with white space \n",
    "#. to have a total of 70 characters\n",
    "melville_quote.center(70)\n"
   ]
  },
  {
   "cell_type": "code",
   "execution_count": 16,
   "metadata": {},
   "outputs": [
    {
     "data": {
      "text/plain": [
       "'007'"
      ]
     },
     "execution_count": 16,
     "metadata": {},
     "output_type": "execute_result"
    }
   ],
   "source": [
    "# Make a number have leading 0's \n",
    "# Q: Why/when is this useful?\n",
    "\n",
    "\"7\".zfill(3)\n"
   ]
  },
  {
   "cell_type": "markdown",
   "metadata": {},
   "source": [
    "### 3. Checking string properties\n",
    "\n",
    "There are also many functions to check properties of strings including:\n",
    "\n",
    "- `isalnum()`: Returns True if all characters in the string are alphanumeric\n",
    "- `isalpha()`: Returns True if all characters in the string are in the alphabet\n",
    "- `isnumeric()`: Returns True if all characters in the string are numeric\n",
    "\n",
    "- `isspace()`: Returns True if all characters in the string are whitespaces\n",
    "\n",
    "- `islower()`: Returns True if all characters in the string are lower case\n",
    "- `isupper()`:Returns True if all characters in the string are upper case\n",
    "- `istitle()`: Returns True if the string follows the rules of a title\n",
    "\n",
    "Let's test some of these methods out...\n"
   ]
  },
  {
   "cell_type": "code",
   "execution_count": 17,
   "metadata": {},
   "outputs": [
    {
     "data": {
      "text/plain": [
       "False"
      ]
     },
     "execution_count": 17,
     "metadata": {},
     "output_type": "execute_result"
    }
   ],
   "source": [
    "# Checking if a string is all letters\n",
    "\n",
    "\"abc\".isalpha()\n",
    "\n",
    "\"abc123\".isalpha()\n"
   ]
  },
  {
   "cell_type": "code",
   "execution_count": 18,
   "metadata": {},
   "outputs": [
    {
     "data": {
      "text/plain": [
       "True"
      ]
     },
     "execution_count": 18,
     "metadata": {},
     "output_type": "execute_result"
    }
   ],
   "source": [
    "# Checking if a string is all numbers\n",
    "\n",
    "\"123\".isnumeric()"
   ]
  },
  {
   "cell_type": "code",
   "execution_count": 19,
   "metadata": {},
   "outputs": [
    {
     "data": {
      "text/plain": [
       "True"
      ]
     },
     "execution_count": 19,
     "metadata": {},
     "output_type": "execute_result"
    }
   ],
   "source": [
    "# Checking if a string only contains spaces\n",
    "\n",
    "\"   \".isspace()\n",
    "\n",
    "\"\\n\".isspace()   # also works for new line characters \\n, and tables \\t"
   ]
  },
  {
   "cell_type": "code",
   "execution_count": 20,
   "metadata": {},
   "outputs": [
    {
     "data": {
      "text/plain": [
       "True"
      ]
     },
     "execution_count": 20,
     "metadata": {},
     "output_type": "execute_result"
    }
   ],
   "source": [
    "# Checking if a string is upper case\n",
    "\n",
    "\"I AM NOT YELLILNG!!!\".isupper()"
   ]
  },
  {
   "cell_type": "markdown",
   "metadata": {},
   "source": [
    "### 4. Splitting and joining strings\n",
    "\n",
    "There are several methods that can help us join strings that are contained into a list into a single string, or conversely, parse a single string into a list of strings. These include: \n",
    "\n",
    "- `split(separator_string)`: Splits the string at the specified separator, and returns a list\n",
    "- `splitlines()`: Splits the string at line breaks and returns a list\n",
    "\n",
    "- `join(a_list)`: Converts the elements of an iterable into a string"
   ]
  },
  {
   "cell_type": "code",
   "execution_count": 21,
   "metadata": {},
   "outputs": [
    {
     "data": {
      "text/plain": [
       "['a', 'whale', 'ship', 'was', 'my', 'Yale', 'College', 'and', 'my', 'Harvard']"
      ]
     },
     "execution_count": 21,
     "metadata": {},
     "output_type": "execute_result"
    }
   ],
   "source": [
    "# Split the Melville quote at each space into a list\n",
    "\n",
    "melville_quote.split(\" \")"
   ]
  },
  {
   "cell_type": "code",
   "execution_count": 22,
   "metadata": {},
   "outputs": [
    {
     "data": {
      "text/plain": [
       "'Some say the world will end in fire,\\nSome say in ice.\\nFrom what I’ve tasted of desire\\nI hold with those who favor fire.\\nBut if it had to perish twice,\\nI think I know enough of hate\\nTo say that for destruction ice\\nIs also great\\nAnd would suffice.'"
      ]
     },
     "execution_count": 22,
     "metadata": {},
     "output_type": "execute_result"
    }
   ],
   "source": [
    "# Split a string at each line into a list\n",
    "\n",
    "poem = \"\"\"Some say the world will end in fire,\n",
    "Some say in ice.\n",
    "From what I’ve tasted of desire\n",
    "I hold with those who favor fire.\n",
    "But if it had to perish twice,\n",
    "I think I know enough of hate\n",
    "To say that for destruction ice\n",
    "Is also great\n",
    "And would suffice.\"\"\"\n",
    "\n",
    "poem"
   ]
  },
  {
   "cell_type": "code",
   "execution_count": 23,
   "metadata": {},
   "outputs": [
    {
     "data": {
      "text/plain": [
       "['Some say the world will end in fire,',\n",
       " 'Some say in ice.',\n",
       " 'From what I’ve tasted of desire',\n",
       " 'I hold with those who favor fire.',\n",
       " 'But if it had to perish twice,',\n",
       " 'I think I know enough of hate',\n",
       " 'To say that for destruction ice',\n",
       " 'Is also great',\n",
       " 'And would suffice.']"
      ]
     },
     "execution_count": 23,
     "metadata": {},
     "output_type": "execute_result"
    }
   ],
   "source": [
    "# Split the poem into a list \n",
    "\n",
    "poem.splitlines()\n"
   ]
  },
  {
   "cell_type": "code",
   "execution_count": 24,
   "metadata": {},
   "outputs": [
    {
     "data": {
      "text/plain": [
       "'A Whale of a Tale'"
      ]
     },
     "execution_count": 24,
     "metadata": {},
     "output_type": "execute_result"
    }
   ],
   "source": [
    "# Join a string together\n",
    "\n",
    "a_list = [\"A\", \"Whale\", \"of\", \"a\", \"Tale\"]\n",
    "\n",
    "\" \".join(a_list)\n",
    "\n"
   ]
  },
  {
   "cell_type": "markdown",
   "metadata": {},
   "source": [
    "### 5. Finding and replacing substrings\n",
    "\n",
    "Some methods for locating a substring within a larger string include: \n",
    "\n",
    "- `count(substring)`: Returns the number of times a specified value occurs in a string\n",
    "- `rfind(substring)`: Searches the string for a specified value and returns the last position of where it was found. (also see `rindex()`)\n",
    "\n",
    "- `startswith(substring)`: Returns true if the string starts with the specified value\n",
    "- `endswith(substring)` : Returns true if the string ends with the specified value\n",
    "\n",
    "- `replace(original_str, replacement_str)`: Replace a substring with a different string. "
   ]
  },
  {
   "cell_type": "code",
   "execution_count": 25,
   "metadata": {},
   "outputs": [
    {
     "data": {
      "text/plain": [
       "2"
      ]
     },
     "execution_count": 25,
     "metadata": {},
     "output_type": "execute_result"
    }
   ],
   "source": [
    "# How many times does the word \"my\" occur in the Melville quote? \n",
    "melville_quote.count(\"my\")"
   ]
  },
  {
   "cell_type": "code",
   "execution_count": 26,
   "metadata": {},
   "outputs": [
    {
     "data": {
      "text/plain": [
       "17"
      ]
     },
     "execution_count": 26,
     "metadata": {},
     "output_type": "execute_result"
    }
   ],
   "source": [
    "# At what index does the first instance of \"my\" occur?\n",
    "melville_quote.index(\"my\")"
   ]
  },
  {
   "cell_type": "code",
   "execution_count": 27,
   "metadata": {},
   "outputs": [
    {
     "data": {
      "text/plain": [
       "True"
      ]
     },
     "execution_count": 27,
     "metadata": {},
     "output_type": "execute_result"
    }
   ],
   "source": [
    "# Does the quote start with \"a\"?\n",
    "melville_quote.startswith(\"a\")"
   ]
  },
  {
   "cell_type": "code",
   "execution_count": 28,
   "metadata": {},
   "outputs": [
    {
     "data": {
      "text/plain": [
       "True"
      ]
     },
     "execution_count": 28,
     "metadata": {},
     "output_type": "execute_result"
    }
   ],
   "source": [
    "# Does the quote end with Harvard? \n",
    "\n",
    "melville_quote.endswith(\"Harvard\")"
   ]
  },
  {
   "cell_type": "code",
   "execution_count": 29,
   "metadata": {},
   "outputs": [
    {
     "data": {
      "text/plain": [
       "'a whale ship was my Yale College and my that other school that is almost as good'"
      ]
     },
     "execution_count": 29,
     "metadata": {},
     "output_type": "execute_result"
    }
   ],
   "source": [
    "# Replace a substring\n",
    "melville_quote.replace(\"Harvard\", \"that other school that is almost as good\")"
   ]
  },
  {
   "cell_type": "markdown",
   "metadata": {},
   "source": [
    "### 6. Filling in strings with particular values\n",
    "\n",
    "There are a number of ways to fill in strings parts of a string with particular values. Perhaps the most useful is to use \"f strings\", which have the following syntax such as: \n",
    "\n",
    "`f\"my string {value_to_fill} will be filled in\"`.\n",
    "\n",
    "Where the value of the variable `value_to_fill` will be filled into the string. \n",
    "\n",
    "Let's try it out... \n"
   ]
  },
  {
   "cell_type": "code",
   "execution_count": 30,
   "metadata": {},
   "outputs": [
    {
     "data": {
      "text/plain": [
       "'Mr. Herman Melville liked writing about whales.'"
      ]
     },
     "execution_count": 30,
     "metadata": {},
     "output_type": "execute_result"
    }
   ],
   "source": [
    "# Let's use an f-string\n",
    "\n",
    "person = \"Herman Melville\"\n",
    "\n",
    "f\"Mr. {person} liked writing about whales.\"\n",
    "\n"
   ]
  },
  {
   "cell_type": "code",
   "execution_count": 31,
   "metadata": {},
   "outputs": [
    {
     "data": {
      "text/plain": [
       "'$123,000.00 is a lot of money!'"
      ]
     },
     "execution_count": 31,
     "metadata": {},
     "output_type": "execute_result"
    }
   ],
   "source": [
    "# We can also do formatting with f-strings\n",
    "\n",
    "amount = 123000\n",
    "f\"${amount:,.2f} is a lot of money!\""
   ]
  },
  {
   "cell_type": "markdown",
   "metadata": {},
   "source": [
    "### Example: string processing on webpages\n",
    "\n",
    "As an example, let's do some string processing on webpages!\n"
   ]
  },
  {
   "cell_type": "code",
   "execution_count": 32,
   "metadata": {},
   "outputs": [
    {
     "data": {
      "text/plain": [
       "223760"
      ]
     },
     "execution_count": 32,
     "metadata": {},
     "output_type": "execute_result"
    }
   ],
   "source": [
    "# Download a webpage and save it as a file called politics.html\n",
    "\n",
    "import requests\n",
    "\n",
    "url = 'https://www.foxnews.com/politics/white-house-doctor-says-biden-fit-serve-president'\n",
    "r = requests.get(url, allow_redirects=True)\n",
    "open('politics.html', 'wb').write(r.content)\n",
    "\n"
   ]
  },
  {
   "cell_type": "code",
   "execution_count": 33,
   "metadata": {},
   "outputs": [
    {
     "data": {
      "text/plain": [
       "'<!doctype html>\\n<html data-n-head-ssr lang=\"en\" data-n-head=\"%7B%22lang%22:%7B%22ssr%22:%22en%22%7D%7D\">\\n  <head>\\n    <title>White House doctor says Biden &#x27;fit to serve&#x27; as president: &#x27;Healthy, vigorous, 80-year-old&#x27; | Fox News</title><meta data-n-head=\"ssr\" http-equiv=\"X-UA-Comp'"
      ]
     },
     "execution_count": 33,
     "metadata": {},
     "output_type": "execute_result"
    }
   ],
   "source": [
    "# Read in the file as a string called webpage_string\n",
    "file = open('politics.html', 'r', encoding=\"utf8\")\n",
    "webpage_string = file.read()\n",
    "\n",
    "# Look at the first 300 characters \n",
    "webpage_string[0:300]"
   ]
  },
  {
   "cell_type": "code",
   "execution_count": 34,
   "metadata": {},
   "outputs": [],
   "source": [
    "# Replace a word on the webpage\n",
    "\n",
    "webpage_updated = webpage_string.replace(\"Biden\", \"Sleepy Joe\")\n"
   ]
  },
  {
   "cell_type": "code",
   "execution_count": 35,
   "metadata": {},
   "outputs": [],
   "source": [
    "# Write updated string to a file\n",
    "text_file = open(\"updated_politics.html\", \"w\", encoding=\"utf8\")\n",
    "n = text_file.write(webpage_updated)\n",
    "text_file.close()"
   ]
  },
  {
   "cell_type": "markdown",
   "metadata": {},
   "source": [
    "<img src = \"https://i1.sndcdn.com/avatars-000316245474-0yp1vu-t500x500.jpg\">"
   ]
  },
  {
   "cell_type": "markdown",
   "metadata": {},
   "source": [
    "## Regular expressions\n",
    "\n",
    "Regular expressions are string with special characters that allow you find more complex patterns in pieces of text.\n",
    "\n",
    "To use regular expressions in Python we can use the `re` module. \n",
    "\n",
    "If we convert the output of the `re.match()` function to a Boolean (i.e., `bool(re.match())`, we can tell if a piece of text contains a particular substring. \n",
    "\n",
    "Let's run to test to check if:\n",
    "\n",
    "1. Our Melville quote contains the letter \"a\"\n",
    "2. Our Melville quote contains the letter \"z\"\n"
   ]
  },
  {
   "cell_type": "code",
   "execution_count": 36,
   "metadata": {},
   "outputs": [
    {
     "name": "stdout",
     "output_type": "stream",
     "text": [
      "True\n"
     ]
    }
   ],
   "source": [
    "import re\n",
    "\n",
    "# Check if our Melville quote contains/starts with the letter a\n",
    "print(bool(re.match(\"a\", melville_quote)))\n"
   ]
  },
  {
   "cell_type": "code",
   "execution_count": 37,
   "metadata": {},
   "outputs": [
    {
     "name": "stdout",
     "output_type": "stream",
     "text": [
      "False\n"
     ]
    }
   ],
   "source": [
    "# Check if our Melville quote contains/starts with the letter z\n",
    "print(bool(re.match(\"z\", melville_quote)))\n"
   ]
  },
  {
   "cell_type": "markdown",
   "metadata": {},
   "source": [
    "A few special characters that can be used in regular expressions are:\n",
    "- `^` means the start of a word \n",
    "- `$` means the end of a word \n",
    "- `[Pp]` means P or p"
   ]
  },
  {
   "cell_type": "code",
   "execution_count": 41,
   "metadata": {},
   "outputs": [
    {
     "name": "stdout",
     "output_type": "stream",
     "text": [
      "True\n"
     ]
    }
   ],
   "source": [
    "# Check if our Melville quote starts with an upper of lower case A\n",
    "print(bool(re.match(\"^[aA]\", melville_quote)))\n"
   ]
  },
  {
   "cell_type": "code",
   "execution_count": 39,
   "metadata": {},
   "outputs": [
    {
     "name": "stdout",
     "output_type": "stream",
     "text": [
      "True\n"
     ]
    }
   ],
   "source": [
    "# Check if our Melville quote starts with a vowel\n",
    "print(bool(re.match(\"^[aeiouAEIOU]\", melville_quote)))"
   ]
  },
  {
   "cell_type": "code",
   "execution_count": 38,
   "metadata": {},
   "outputs": [
    {
     "name": "stdout",
     "output_type": "stream",
     "text": [
      "False\n"
     ]
    }
   ],
   "source": [
    "# Check if our Melville quote does not starts with a vowel\n",
    "print(bool(re.match(\"^[^aeiouAEIOU]\", melville_quote)))"
   ]
  },
  {
   "cell_type": "markdown",
   "metadata": {},
   "source": [
    "#### Wildcard characters"
   ]
  },
  {
   "cell_type": "code",
   "execution_count": 42,
   "metadata": {},
   "outputs": [
    {
     "data": {
      "text/plain": [
       "True"
      ]
     },
     "execution_count": 42,
     "metadata": {},
     "output_type": "execute_result"
    }
   ],
   "source": [
    "# We can use the period . to match any one character\n",
    "\n",
    "bool(re.match(\"m.ss\", \"miss\"))   # miss, mass, mess\n"
   ]
  },
  {
   "cell_type": "code",
   "execution_count": 40,
   "metadata": {},
   "outputs": [
    {
     "data": {
      "text/plain": [
       "True"
      ]
     },
     "execution_count": 40,
     "metadata": {},
     "output_type": "execute_result"
    }
   ],
   "source": [
    "# * means repeat the previous character 0 or more times\n",
    "bool(re.match(\"xy*z\", \"xz\"))   # xz, xyz, xyyz, xyyyz, ..."
   ]
  },
  {
   "cell_type": "code",
   "execution_count": 41,
   "metadata": {},
   "outputs": [
    {
     "data": {
      "text/plain": [
       "False"
      ]
     },
     "execution_count": 41,
     "metadata": {},
     "output_type": "execute_result"
    }
   ],
   "source": [
    "# + means repeat the previous character 1 or more times\n",
    "bool(re.match(\"xy+z\", \"xz\"))   # xyz, xyyz, xyyyz, ..."
   ]
  },
  {
   "cell_type": "code",
   "execution_count": 42,
   "metadata": {},
   "outputs": [
    {
     "data": {
      "text/plain": [
       "True"
      ]
     },
     "execution_count": 42,
     "metadata": {},
     "output_type": "execute_result"
    }
   ],
   "source": [
    "# Will the following match?\n",
    "\n",
    "bool(re.match(\".*a.*e\",  \"pineapple\"))  \n"
   ]
  },
  {
   "cell_type": "markdown",
   "metadata": {},
   "source": [
    "#### Example: matching phone numbers"
   ]
  },
  {
   "cell_type": "code",
   "execution_count": 43,
   "metadata": {},
   "outputs": [
    {
     "data": {
      "text/plain": [
       "['apple',\n",
       " '219 733 8965',\n",
       " '329-293-8753',\n",
       " 'Work: 579-499-7527',\n",
       " 'Home: 543.355.3679']"
      ]
     },
     "execution_count": 43,
     "metadata": {},
     "output_type": "execute_result"
    }
   ],
   "source": [
    "phone_strings = [ \"apple\", \n",
    "                 \"219 733 8965\", \n",
    "                 \"329-293-8753\", \n",
    "                 \"Work: 579-499-7527\",\n",
    "                 \"Home: 543.355.3679\"]\n",
    "\n",
    "phone_strings"
   ]
  },
  {
   "cell_type": "code",
   "execution_count": 44,
   "metadata": {},
   "outputs": [],
   "source": [
    "# A regular expression to match phone numners\n",
    "\n",
    "phone_expression = \".*([2-9][0-9]{2})[- .]([0-9]{3})[- .]([0-9]{4})\"\n"
   ]
  },
  {
   "cell_type": "code",
   "execution_count": 46,
   "metadata": {},
   "outputs": [
    {
     "name": "stdout",
     "output_type": "stream",
     "text": [
      "False\n",
      "True\n",
      "True\n",
      "True\n",
      "True\n"
     ]
    }
   ],
   "source": [
    "# Test which phone_strings are valid phone numbers\n",
    "\n",
    "for curr_number in phone_strings:\n",
    "    print(bool(re.match(phone_expression,  curr_number)))"
   ]
  },
  {
   "cell_type": "markdown",
   "metadata": {},
   "source": [
    "#### Escape characters"
   ]
  },
  {
   "cell_type": "code",
   "execution_count": 46,
   "metadata": {},
   "outputs": [
    {
     "data": {
      "text/plain": [
       "False"
      ]
     },
     "execution_count": 46,
     "metadata": {},
     "output_type": "execute_result"
    }
   ],
   "source": [
    "# Does not match because nothing after the end of a string\n",
    "bool(re.match(\".*$100\", \"Joanna has $100 and Chris has $0\"))"
   ]
  },
  {
   "cell_type": "code",
   "execution_count": 47,
   "metadata": {},
   "outputs": [
    {
     "data": {
      "text/plain": [
       "True"
      ]
     },
     "execution_count": 47,
     "metadata": {},
     "output_type": "execute_result"
    }
   ],
   "source": [
    "# using escape characters can help\n",
    "bool(re.match(\".*\\\\$100\", \"Joanna has $100 and Chris has $0\"))"
   ]
  },
  {
   "cell_type": "markdown",
   "metadata": {},
   "source": [
    "#### Special characters\n",
    "\n",
    "Other special characters are also designated by using a double slash first\n",
    "\n",
    "`\\s`   space\n",
    "\n",
    "`\\n`   new line     or also   `\\r`\n",
    "\n",
    "`\\t`   tab\n"
   ]
  },
  {
   "cell_type": "code",
   "execution_count": 48,
   "metadata": {},
   "outputs": [
    {
     "data": {
      "text/plain": [
       "False"
      ]
     },
     "execution_count": 48,
     "metadata": {},
     "output_type": "execute_result"
    }
   ],
   "source": [
    "# Does the melville_quote contain new lines?\n",
    "bool(re.match(\".*\\n\", melville_quote))"
   ]
  },
  {
   "cell_type": "code",
   "execution_count": 49,
   "metadata": {},
   "outputs": [
    {
     "data": {
      "text/plain": [
       "True"
      ]
     },
     "execution_count": 49,
     "metadata": {},
     "output_type": "execute_result"
    }
   ],
   "source": [
    "# Does the poem contain new lines?\n",
    "bool(re.match(\".*\\n\", poem))"
   ]
  }
 ],
 "metadata": {
  "anaconda-cloud": {},
  "kernelspec": {
   "display_name": "Python 3 (ipykernel)",
   "language": "python",
   "name": "python3"
  },
  "language_info": {
   "codemirror_mode": {
    "name": "ipython",
    "version": 3
   },
   "file_extension": ".py",
   "mimetype": "text/x-python",
   "name": "python",
   "nbconvert_exporter": "python",
   "pygments_lexer": "ipython3",
   "version": "3.11.7"
  }
 },
 "nbformat": 4,
 "nbformat_minor": 4
}
