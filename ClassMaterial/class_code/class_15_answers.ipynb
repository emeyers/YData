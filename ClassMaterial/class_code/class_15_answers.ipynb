{
 "cells": [
  {
   "cell_type": "markdown",
   "metadata": {},
   "source": [
    "# Class 15: Review practice problems\n",
    "\n",
    "Here are a few review practice problems based on the problems everyone posted to Canvas\n"
   ]
  },
  {
   "cell_type": "markdown",
   "metadata": {},
   "source": [
    "## Notes on the class Jupyter setup\n",
    "\n",
    "If you have the *ydata123_2024a* environment set up correctly, you can get the class code using the code below (which presumably you've already done given that you are seeing this notebook).  "
   ]
  },
  {
   "cell_type": "code",
   "execution_count": 10,
   "metadata": {},
   "outputs": [
    {
     "name": "stdout",
     "output_type": "stream",
     "text": [
      "The file `dow.csv` already exists.\n",
      "If you would like to download a new copy of the file, please rename the existing copy of the file.\n",
      "The file `nba_salaries_2015_16.csv` already exists.\n",
      "If you would like to download a new copy of the file, please rename the existing copy of the file.\n",
      "The file `daily_bike_totals.csv` already exists.\n",
      "If you would like to download a new copy of the file, please rename the existing copy of the file.\n",
      "The file `gapminder_data.csv` already exists.\n",
      "If you would like to download a new copy of the file, please rename the existing copy of the file.\n"
     ]
    }
   ],
   "source": [
    "import YData\n",
    "\n",
    "# YData.download.download_class_code(15)   # get class code    \n",
    "# YData.download.download_class_code(15, TRUE) # get the code with the answers \n",
    "\n",
    "YData.download.download_data(\"dow.csv\")\n",
    "YData.download_data(\"nba_salaries_2015_16.csv\")\n",
    "YData.download_data(\"daily_bike_totals.csv\")\n",
    "YData.download_data(\"gapminder_data.csv\")"
   ]
  },
  {
   "cell_type": "markdown",
   "metadata": {},
   "source": [
    "If you are using colabs, you should install polars and the YData packages by uncommenting and running the code below."
   ]
  },
  {
   "cell_type": "code",
   "execution_count": 11,
   "metadata": {},
   "outputs": [],
   "source": [
    "# !pip install https://github.com/emeyers/YData_package/tarball/master"
   ]
  },
  {
   "cell_type": "markdown",
   "metadata": {},
   "source": [
    "If you are using google colabs, you should also uncomment and run the code below to mount the your google drive"
   ]
  },
  {
   "cell_type": "code",
   "execution_count": 12,
   "metadata": {},
   "outputs": [],
   "source": [
    "# from google.colab import drive\n",
    "# drive.mount('/content/drive')"
   ]
  },
  {
   "cell_type": "code",
   "execution_count": 13,
   "metadata": {},
   "outputs": [],
   "source": [
    "import pandas as pd\n",
    "import statistics\n",
    "import numpy as np\n",
    "from datetime import datetime\n",
    "import seaborn as sns\n",
    "\n",
    "import matplotlib.pyplot as plt\n",
    "%matplotlib inline"
   ]
  },
  {
   "cell_type": "markdown",
   "metadata": {},
   "source": [
    "## Practice problem 1\n",
    "\n",
    "Using the `nba_salaries` data, create a data frame called `team_count` that displays the following columns:\n",
    "\n",
    "1. `TEAM`: The team name of each NBA player represented.\n",
    "2. `num_players`: The number of players on each team.\n"
   ]
  },
  {
   "cell_type": "code",
   "execution_count": 14,
   "metadata": {},
   "outputs": [
    {
     "data": {
      "text/html": [
       "<div>\n",
       "<style scoped>\n",
       "    .dataframe tbody tr th:only-of-type {\n",
       "        vertical-align: middle;\n",
       "    }\n",
       "\n",
       "    .dataframe tbody tr th {\n",
       "        vertical-align: top;\n",
       "    }\n",
       "\n",
       "    .dataframe thead th {\n",
       "        text-align: right;\n",
       "    }\n",
       "</style>\n",
       "<table border=\"1\" class=\"dataframe\">\n",
       "  <thead>\n",
       "    <tr style=\"text-align: right;\">\n",
       "      <th></th>\n",
       "      <th>TEAM</th>\n",
       "      <th>num_players</th>\n",
       "    </tr>\n",
       "  </thead>\n",
       "  <tbody>\n",
       "    <tr>\n",
       "      <th>0</th>\n",
       "      <td>Atlanta Hawks</td>\n",
       "      <td>14</td>\n",
       "    </tr>\n",
       "    <tr>\n",
       "      <th>1</th>\n",
       "      <td>Boston Celtics</td>\n",
       "      <td>15</td>\n",
       "    </tr>\n",
       "    <tr>\n",
       "      <th>2</th>\n",
       "      <td>Brooklyn Nets</td>\n",
       "      <td>13</td>\n",
       "    </tr>\n",
       "    <tr>\n",
       "      <th>3</th>\n",
       "      <td>Charlotte Hornets</td>\n",
       "      <td>18</td>\n",
       "    </tr>\n",
       "    <tr>\n",
       "      <th>4</th>\n",
       "      <td>Chicago Bulls</td>\n",
       "      <td>12</td>\n",
       "    </tr>\n",
       "    <tr>\n",
       "      <th>5</th>\n",
       "      <td>Cleveland Cavaliers</td>\n",
       "      <td>10</td>\n",
       "    </tr>\n",
       "    <tr>\n",
       "      <th>6</th>\n",
       "      <td>Dallas Mavericks</td>\n",
       "      <td>11</td>\n",
       "    </tr>\n",
       "    <tr>\n",
       "      <th>7</th>\n",
       "      <td>Denver Nuggets</td>\n",
       "      <td>14</td>\n",
       "    </tr>\n",
       "    <tr>\n",
       "      <th>8</th>\n",
       "      <td>Detroit Pistons</td>\n",
       "      <td>10</td>\n",
       "    </tr>\n",
       "    <tr>\n",
       "      <th>9</th>\n",
       "      <td>Golden State Warriors</td>\n",
       "      <td>14</td>\n",
       "    </tr>\n",
       "    <tr>\n",
       "      <th>10</th>\n",
       "      <td>Houston Rockets</td>\n",
       "      <td>12</td>\n",
       "    </tr>\n",
       "    <tr>\n",
       "      <th>11</th>\n",
       "      <td>Indiana Pacers</td>\n",
       "      <td>13</td>\n",
       "    </tr>\n",
       "    <tr>\n",
       "      <th>12</th>\n",
       "      <td>Los Angeles Clippers</td>\n",
       "      <td>13</td>\n",
       "    </tr>\n",
       "    <tr>\n",
       "      <th>13</th>\n",
       "      <td>Los Angeles Lakers</td>\n",
       "      <td>11</td>\n",
       "    </tr>\n",
       "    <tr>\n",
       "      <th>14</th>\n",
       "      <td>Memphis Grizzlies</td>\n",
       "      <td>21</td>\n",
       "    </tr>\n",
       "    <tr>\n",
       "      <th>15</th>\n",
       "      <td>Miami Heat</td>\n",
       "      <td>12</td>\n",
       "    </tr>\n",
       "    <tr>\n",
       "      <th>16</th>\n",
       "      <td>Milwaukee Bucks</td>\n",
       "      <td>13</td>\n",
       "    </tr>\n",
       "    <tr>\n",
       "      <th>17</th>\n",
       "      <td>Minnesota Timberwolves</td>\n",
       "      <td>13</td>\n",
       "    </tr>\n",
       "    <tr>\n",
       "      <th>18</th>\n",
       "      <td>New Orleans Pelicans</td>\n",
       "      <td>16</td>\n",
       "    </tr>\n",
       "    <tr>\n",
       "      <th>19</th>\n",
       "      <td>New York Knicks</td>\n",
       "      <td>13</td>\n",
       "    </tr>\n",
       "    <tr>\n",
       "      <th>20</th>\n",
       "      <td>Oklahoma City Thunder</td>\n",
       "      <td>16</td>\n",
       "    </tr>\n",
       "    <tr>\n",
       "      <th>21</th>\n",
       "      <td>Orlando Magic</td>\n",
       "      <td>14</td>\n",
       "    </tr>\n",
       "    <tr>\n",
       "      <th>22</th>\n",
       "      <td>Philadelphia 76ers</td>\n",
       "      <td>13</td>\n",
       "    </tr>\n",
       "    <tr>\n",
       "      <th>23</th>\n",
       "      <td>Phoenix Suns</td>\n",
       "      <td>17</td>\n",
       "    </tr>\n",
       "    <tr>\n",
       "      <th>24</th>\n",
       "      <td>Portland Trail Blazers</td>\n",
       "      <td>14</td>\n",
       "    </tr>\n",
       "    <tr>\n",
       "      <th>25</th>\n",
       "      <td>Sacramento Kings</td>\n",
       "      <td>11</td>\n",
       "    </tr>\n",
       "    <tr>\n",
       "      <th>26</th>\n",
       "      <td>San Antonio Spurs</td>\n",
       "      <td>13</td>\n",
       "    </tr>\n",
       "    <tr>\n",
       "      <th>27</th>\n",
       "      <td>Toronto Raptors</td>\n",
       "      <td>17</td>\n",
       "    </tr>\n",
       "    <tr>\n",
       "      <th>28</th>\n",
       "      <td>Utah Jazz</td>\n",
       "      <td>17</td>\n",
       "    </tr>\n",
       "    <tr>\n",
       "      <th>29</th>\n",
       "      <td>Washington Wizards</td>\n",
       "      <td>17</td>\n",
       "    </tr>\n",
       "  </tbody>\n",
       "</table>\n",
       "</div>"
      ],
      "text/plain": [
       "                      TEAM  num_players\n",
       "0            Atlanta Hawks           14\n",
       "1           Boston Celtics           15\n",
       "2            Brooklyn Nets           13\n",
       "3        Charlotte Hornets           18\n",
       "4            Chicago Bulls           12\n",
       "5      Cleveland Cavaliers           10\n",
       "6         Dallas Mavericks           11\n",
       "7           Denver Nuggets           14\n",
       "8          Detroit Pistons           10\n",
       "9    Golden State Warriors           14\n",
       "10         Houston Rockets           12\n",
       "11          Indiana Pacers           13\n",
       "12    Los Angeles Clippers           13\n",
       "13      Los Angeles Lakers           11\n",
       "14       Memphis Grizzlies           21\n",
       "15              Miami Heat           12\n",
       "16         Milwaukee Bucks           13\n",
       "17  Minnesota Timberwolves           13\n",
       "18    New Orleans Pelicans           16\n",
       "19         New York Knicks           13\n",
       "20   Oklahoma City Thunder           16\n",
       "21           Orlando Magic           14\n",
       "22      Philadelphia 76ers           13\n",
       "23            Phoenix Suns           17\n",
       "24  Portland Trail Blazers           14\n",
       "25        Sacramento Kings           11\n",
       "26       San Antonio Spurs           13\n",
       "27         Toronto Raptors           17\n",
       "28               Utah Jazz           17\n",
       "29      Washington Wizards           17"
      ]
     },
     "execution_count": 14,
     "metadata": {},
     "output_type": "execute_result"
    }
   ],
   "source": [
    "nba = pd.read_csv(\"nba_salaries_2015_16.csv\")\n",
    "\n",
    "nba.groupby(\"TEAM\").agg(num_players = (\"PLAYER\", \"count\")).reset_index()\n"
   ]
  },
  {
   "cell_type": "markdown",
   "metadata": {},
   "source": [
    "## Practice problem 2\n",
    "\n",
    "Suppose you have the array `[\"little\", \"Mary\", \"had\", \"a\", \"little\", \"lamb\"]`. Write a function called `remove_little(an_array)` that removes all instances of the string \"little\"."
   ]
  },
  {
   "cell_type": "code",
   "execution_count": 15,
   "metadata": {},
   "outputs": [
    {
     "data": {
      "text/plain": [
       "array(['Mary', 'had', 'a', 'lamb'], dtype='<U6')"
      ]
     },
     "execution_count": 15,
     "metadata": {},
     "output_type": "execute_result"
    }
   ],
   "source": [
    "\n",
    "def remove_little(an_array):\n",
    "    \n",
    "    an_array = np.array(an_array)\n",
    "    \n",
    "    return an_array[an_array != \"little\"]\n",
    "    \n",
    "    \n",
    "\n",
    "# test the function \n",
    "remove_little(np.array([\"little\", \"Mary\", \"had\", \"a\", \"little\", \"lamb\"]))\n"
   ]
  },
  {
   "cell_type": "markdown",
   "metadata": {},
   "source": [
    "## Practice problem 3a\n",
    "\n",
    "Suppose the data on the DOW Jones Industrial Average was loading in Python as a DataFrame in the name `dow`. Use Boolean masking to create a DataFrame that extracts data from all \"Fridays\". Save this to `dow_fridays`. Then, sort this new dataframe by `Open` values.\n",
    "\n"
   ]
  },
  {
   "cell_type": "code",
   "execution_count": 16,
   "metadata": {},
   "outputs": [
    {
     "data": {
      "text/html": [
       "<div>\n",
       "<style scoped>\n",
       "    .dataframe tbody tr th:only-of-type {\n",
       "        vertical-align: middle;\n",
       "    }\n",
       "\n",
       "    .dataframe tbody tr th {\n",
       "        vertical-align: top;\n",
       "    }\n",
       "\n",
       "    .dataframe thead th {\n",
       "        text-align: right;\n",
       "    }\n",
       "</style>\n",
       "<table border=\"1\" class=\"dataframe\">\n",
       "  <thead>\n",
       "    <tr style=\"text-align: right;\">\n",
       "      <th></th>\n",
       "      <th>Year</th>\n",
       "      <th>Month</th>\n",
       "      <th>Day</th>\n",
       "      <th>Open</th>\n",
       "      <th>High</th>\n",
       "      <th>Low</th>\n",
       "      <th>Close</th>\n",
       "      <th>Volume</th>\n",
       "    </tr>\n",
       "    <tr>\n",
       "      <th>Date</th>\n",
       "      <th></th>\n",
       "      <th></th>\n",
       "      <th></th>\n",
       "      <th></th>\n",
       "      <th></th>\n",
       "      <th></th>\n",
       "      <th></th>\n",
       "      <th></th>\n",
       "    </tr>\n",
       "  </thead>\n",
       "  <tbody>\n",
       "    <tr>\n",
       "      <th>1992-01-03</th>\n",
       "      <td>1992</td>\n",
       "      <td>1</td>\n",
       "      <td>Friday</td>\n",
       "      <td>3172.399902</td>\n",
       "      <td>3210.639893</td>\n",
       "      <td>3165.919922</td>\n",
       "      <td>3201.500000</td>\n",
       "      <td>23620000</td>\n",
       "    </tr>\n",
       "    <tr>\n",
       "      <th>1992-10-16</th>\n",
       "      <td>1992</td>\n",
       "      <td>10</td>\n",
       "      <td>Friday</td>\n",
       "      <td>3174.699951</td>\n",
       "      <td>3180.350098</td>\n",
       "      <td>3142.530029</td>\n",
       "      <td>3174.399902</td>\n",
       "      <td>40880000</td>\n",
       "    </tr>\n",
       "    <tr>\n",
       "      <th>1992-10-09</th>\n",
       "      <td>1992</td>\n",
       "      <td>10</td>\n",
       "      <td>Friday</td>\n",
       "      <td>3176.000000</td>\n",
       "      <td>3176.300049</td>\n",
       "      <td>3131.719971</td>\n",
       "      <td>3136.600098</td>\n",
       "      <td>19310000</td>\n",
       "    </tr>\n",
       "    <tr>\n",
       "      <th>1992-10-23</th>\n",
       "      <td>1992</td>\n",
       "      <td>10</td>\n",
       "      <td>Friday</td>\n",
       "      <td>3200.899902</td>\n",
       "      <td>3215.199951</td>\n",
       "      <td>3196.020020</td>\n",
       "      <td>3207.600098</td>\n",
       "      <td>26490000</td>\n",
       "    </tr>\n",
       "    <tr>\n",
       "      <th>1992-03-13</th>\n",
       "      <td>1992</td>\n",
       "      <td>3</td>\n",
       "      <td>Friday</td>\n",
       "      <td>3208.600098</td>\n",
       "      <td>3237.030029</td>\n",
       "      <td>3208.179932</td>\n",
       "      <td>3235.899902</td>\n",
       "      <td>16370000</td>\n",
       "    </tr>\n",
       "    <tr>\n",
       "      <th>...</th>\n",
       "      <td>...</td>\n",
       "      <td>...</td>\n",
       "      <td>...</td>\n",
       "      <td>...</td>\n",
       "      <td>...</td>\n",
       "      <td>...</td>\n",
       "      <td>...</td>\n",
       "      <td>...</td>\n",
       "    </tr>\n",
       "    <tr>\n",
       "      <th>2024-01-05</th>\n",
       "      <td>2024</td>\n",
       "      <td>1</td>\n",
       "      <td>Friday</td>\n",
       "      <td>37455.460938</td>\n",
       "      <td>37623.621094</td>\n",
       "      <td>37323.820312</td>\n",
       "      <td>37466.109375</td>\n",
       "      <td>299480000</td>\n",
       "    </tr>\n",
       "    <tr>\n",
       "      <th>2024-01-19</th>\n",
       "      <td>2024</td>\n",
       "      <td>1</td>\n",
       "      <td>Friday</td>\n",
       "      <td>37572.500000</td>\n",
       "      <td>37933.730469</td>\n",
       "      <td>37451.710938</td>\n",
       "      <td>37863.800781</td>\n",
       "      <td>377650000</td>\n",
       "    </tr>\n",
       "    <tr>\n",
       "      <th>2023-12-29</th>\n",
       "      <td>2023</td>\n",
       "      <td>12</td>\n",
       "      <td>Friday</td>\n",
       "      <td>37701.628906</td>\n",
       "      <td>37759.429688</td>\n",
       "      <td>37538.800781</td>\n",
       "      <td>37689.539062</td>\n",
       "      <td>234570000</td>\n",
       "    </tr>\n",
       "    <tr>\n",
       "      <th>2024-01-12</th>\n",
       "      <td>2024</td>\n",
       "      <td>1</td>\n",
       "      <td>Friday</td>\n",
       "      <td>37818.050781</td>\n",
       "      <td>37825.269531</td>\n",
       "      <td>37470.191406</td>\n",
       "      <td>37592.980469</td>\n",
       "      <td>279250000</td>\n",
       "    </tr>\n",
       "    <tr>\n",
       "      <th>2024-01-26</th>\n",
       "      <td>2024</td>\n",
       "      <td>1</td>\n",
       "      <td>Friday</td>\n",
       "      <td>38006.679688</td>\n",
       "      <td>38215.308594</td>\n",
       "      <td>37997.769531</td>\n",
       "      <td>38109.429688</td>\n",
       "      <td>387000000</td>\n",
       "    </tr>\n",
       "  </tbody>\n",
       "</table>\n",
       "<p>1616 rows × 8 columns</p>\n",
       "</div>"
      ],
      "text/plain": [
       "            Year  Month     Day          Open          High           Low  \\\n",
       "Date                                                                        \n",
       "1992-01-03  1992      1  Friday   3172.399902   3210.639893   3165.919922   \n",
       "1992-10-16  1992     10  Friday   3174.699951   3180.350098   3142.530029   \n",
       "1992-10-09  1992     10  Friday   3176.000000   3176.300049   3131.719971   \n",
       "1992-10-23  1992     10  Friday   3200.899902   3215.199951   3196.020020   \n",
       "1992-03-13  1992      3  Friday   3208.600098   3237.030029   3208.179932   \n",
       "...          ...    ...     ...           ...           ...           ...   \n",
       "2024-01-05  2024      1  Friday  37455.460938  37623.621094  37323.820312   \n",
       "2024-01-19  2024      1  Friday  37572.500000  37933.730469  37451.710938   \n",
       "2023-12-29  2023     12  Friday  37701.628906  37759.429688  37538.800781   \n",
       "2024-01-12  2024      1  Friday  37818.050781  37825.269531  37470.191406   \n",
       "2024-01-26  2024      1  Friday  38006.679688  38215.308594  37997.769531   \n",
       "\n",
       "                   Close     Volume  \n",
       "Date                                 \n",
       "1992-01-03   3201.500000   23620000  \n",
       "1992-10-16   3174.399902   40880000  \n",
       "1992-10-09   3136.600098   19310000  \n",
       "1992-10-23   3207.600098   26490000  \n",
       "1992-03-13   3235.899902   16370000  \n",
       "...                  ...        ...  \n",
       "2024-01-05  37466.109375  299480000  \n",
       "2024-01-19  37863.800781  377650000  \n",
       "2023-12-29  37689.539062  234570000  \n",
       "2024-01-12  37592.980469  279250000  \n",
       "2024-01-26  38109.429688  387000000  \n",
       "\n",
       "[1616 rows x 8 columns]"
      ]
     },
     "execution_count": 16,
     "metadata": {},
     "output_type": "execute_result"
    }
   ],
   "source": [
    "dow = pd.read_csv(\"dow.csv\")\n",
    "dow = dow.set_index(\"Date\")\n",
    "\n",
    "\n",
    "dow_fridays = dow[dow[\"Day\"] == \"Friday\"]\n",
    "dow_fridays.sort_values(\"Open\")\n"
   ]
  },
  {
   "cell_type": "markdown",
   "metadata": {},
   "source": [
    "## Practice problem 3b\n",
    "\n",
    "Now visualize the distribution of the opening price of the DOW using seaborn.\n"
   ]
  },
  {
   "cell_type": "code",
   "execution_count": 18,
   "metadata": {},
   "outputs": [
    {
     "data": {
      "image/png": "[encoded data removed]",
      "text/plain": [
       "<Figure size 500x500 with 1 Axes>"
      ]
     },
     "metadata": {},
     "output_type": "display_data"
    }
   ],
   "source": [
    "sns.displot(data = dow, x = \"Open\", kind = \"hist\");\n",
    "plt.ylabel(\"DOW index value\");\n"
   ]
  },
  {
   "cell_type": "markdown",
   "metadata": {},
   "source": [
    "## Practice problem 4\n",
    "\n",
    "Write a function `sum_even(a_list)` that takes a list of integers as an argument and returns the sum of all the even numbers in that list.\n",
    "\n",
    "Note: we can get the reminder of division using the `%` operator; i.e., `8 % 3` gives the reminder of dividing 8 by 3 (which is equal to 2). "
   ]
  },
  {
   "cell_type": "code",
   "execution_count": 9,
   "metadata": {},
   "outputs": [
    {
     "data": {
      "text/plain": [
       "30"
      ]
     },
     "execution_count": 9,
     "metadata": {},
     "output_type": "execute_result"
    }
   ],
   "source": [
    "\n",
    "def sum_even(a_list):\n",
    "    \n",
    "    total = 0\n",
    "    for num in a_list:\n",
    "        \n",
    "        if (num % 2) == 0:\n",
    "            total = total + num\n",
    "        \n",
    "    return total\n",
    "\n",
    "\n",
    "sum_even([1, 2, 3, 4, 5, 6, 7, 8, 9, 10])"
   ]
  },
  {
   "cell_type": "markdown",
   "metadata": {},
   "source": [
    "## Practice problem 5\n",
    "\n",
    "Plot a scatter plot that shows the relationship between wind speed for a given date and the number of bike rides taken with both `matplotlib` and `seaborn`. Compare and contrast the two resulting plots and the process of making them. "
   ]
  },
  {
   "cell_type": "code",
   "execution_count": 10,
   "metadata": {},
   "outputs": [
    {
     "data": {
      "image/png": "[encoded data removed]",
      "text/plain": [
       "<Figure size 640x480 with 1 Axes>"
      ]
     },
     "metadata": {},
     "output_type": "display_data"
    },
    {
     "data": {
      "image/png": "[encoded data removed]",
      "text/plain": [
       "<Figure size 500x500 with 1 Axes>"
      ]
     },
     "metadata": {},
     "output_type": "display_data"
    }
   ],
   "source": [
    "bikes = pd.read_csv(\"daily_bike_totals.csv\")\n",
    "\n",
    "plt.plot(bikes[\"average_wind_speed\"], bikes[\"trips\"], '.');\n",
    "plt.xlabel(\"Average wind speed\");\n",
    "plt.ylabel(\"Number of trips\");\n",
    "\n",
    "g = sns.relplot(data = bikes, x = \"average_wind_speed\", y = \"trips\");\n",
    "g.set_xlabels(\"Average wind speed\");\n",
    "g.set_ylabels(\"Number of trips\");\n"
   ]
  },
  {
   "cell_type": "markdown",
   "metadata": {},
   "source": [
    "## Practice problem 6\n",
    "\n",
    "\n",
    "Consider the following code, in which lines from Taylor Swift's \"Love Story\" are interspersed in William Shakespeare's Romeo and Juliet:\n",
    "\n",
    "\n",
    "<pre>\n",
    "\n",
    "lines =  [\"Two households, both alike in dignity,\",\n",
    "          \"On a balcony in summer air\",\n",
    "          \"In fair Verona, where we lay our scene,\",\n",
    "          \"See the lights, see the party, the ball gowns\",\n",
    "          \"From ancient grudge break to new mutiny,\",\n",
    "          \"See you make your way through the crowd\",\n",
    "          \"Where civil blood makes civil hands unclean.\",\n",
    "          \"And say, 'Hello'\",\n",
    "          \"From forth the fatal loins of these two foes\",\n",
    "          \"Little did I know\",\n",
    "          \"A pair of star-cross'd lovers take their life;\",\n",
    "          \"That you were Romeo, you were throwin' pebbles\",\n",
    "          \"Whose misadventured piteous overthrows\",\n",
    "          \"And my daddy said, 'Stay away from Juliet'\",\n",
    "          \"Do with their death bury their parents' strife.\",\n",
    "          \"And I was cryin' on the staircase\",\n",
    "          \"The fearful passage of their death-mark'd love,\",\n",
    "          \"Beggin' you, 'Please don't go,' and I said\",\n",
    "          \"And the continuance of their parents' rage,\",\n",
    "          \"'Romeo, take me somewhere we can be alone'\",\n",
    "          \"Which, but their children's end, nought could remove,\",\n",
    "          \"'I'll be waiting, all there's left to do is run'\",\n",
    "          \"Is now the two hours' traffic of our stage;\",\n",
    "          \"You'll be the prince and I'll be the princess\",\n",
    "          \"The which if you with patient ears attend,\",\n",
    "          \"It's a love story, baby, just say, 'Yes'\",\n",
    "          \"What here shall miss, our toil shall strive to mend.\"]\n",
    "                          \n",
    "</pre>\n",
    "\n",
    "If I wanted to print ONLY the text from Romeo and Juliet, I could code the following: `lines[_:_:_]`\n",
    "\n",
    "Which numbers belong in the blanks above\n",
    "\n",
    "a) 1, 14, 2\n",
    "\n",
    "b) 0, 27, 2\n",
    "\n",
    "c) 1, 27, 4\n",
    "\n",
    "d) 0, 14, 4\n",
    "\n"
   ]
  },
  {
   "cell_type": "code",
   "execution_count": 11,
   "metadata": {},
   "outputs": [
    {
     "data": {
      "text/plain": [
       "['Two households, both alike in dignity,',\n",
       " 'In fair Verona, where we lay our scene,',\n",
       " 'From ancient grudge break to new mutiny,',\n",
       " 'Where civil blood makes civil hands unclean.',\n",
       " 'From forth the fatal loins of these two foes',\n",
       " \"A pair of star-cross'd lovers take their life;\",\n",
       " 'Whose misadventured piteous overthrows',\n",
       " \"Do with their death bury their parents' strife.\",\n",
       " \"The fearful passage of their death-mark'd love,\",\n",
       " \"And the continuance of their parents' rage,\",\n",
       " \"Which, but their children's end, nought could remove,\",\n",
       " \"Is now the two hours' traffic of our stage;\",\n",
       " 'The which if you with patient ears attend,',\n",
       " 'What here shall miss, our toil shall strive to mend.']"
      ]
     },
     "execution_count": 11,
     "metadata": {},
     "output_type": "execute_result"
    }
   ],
   "source": [
    "\n",
    "lines =  [\"Two households, both alike in dignity,\",\n",
    "          \"On a balcony in summer air\",\n",
    "          \"In fair Verona, where we lay our scene,\",\n",
    "          \"See the lights, see the party, the ball gowns\",\n",
    "          \"From ancient grudge break to new mutiny,\",\n",
    "          \"See you make your way through the crowd\",\n",
    "          \"Where civil blood makes civil hands unclean.\",\n",
    "          \"And say, 'Hello'\",\n",
    "          \"From forth the fatal loins of these two foes\",\n",
    "          \"Little did I know\",\n",
    "          \"A pair of star-cross'd lovers take their life;\",\n",
    "          \"That you were Romeo, you were throwin' pebbles\",\n",
    "          \"Whose misadventured piteous overthrows\",\n",
    "          \"And my daddy said, 'Stay away from Juliet'\",\n",
    "          \"Do with their death bury their parents' strife.\",\n",
    "          \"And I was cryin' on the staircase\",\n",
    "          \"The fearful passage of their death-mark'd love,\",\n",
    "          \"Beggin' you, 'Please don't go,' and I said\",\n",
    "          \"And the continuance of their parents' rage,\",\n",
    "          \"'Romeo, take me somewhere we can be alone'\",\n",
    "          \"Which, but their children's end, nought could remove,\",\n",
    "          \"'I'll be waiting, all there's left to do is run'\",\n",
    "          \"Is now the two hours' traffic of our stage;\",\n",
    "          \"You'll be the prince and I'll be the princess\",\n",
    "          \"The which if you with patient ears attend,\",\n",
    "          \"It's a love story, baby, just say, 'Yes'\",\n",
    "          \"What here shall miss, our toil shall strive to mend.\"]\n",
    "\n",
    "lines[0:27:2]"
   ]
  },
  {
   "cell_type": "markdown",
   "metadata": {},
   "source": [
    "## Practice problem 7\n",
    "\n",
    "Let's say that you have a DataFrame called `USgdp` with the year in a column called `year`, and the United State's GDP per capita in a column called `gdpPercap`. \n",
    "\n",
    "Which one of these options would give you the total GDP change between the starting year and each later year? \n",
    "\n",
    "a. `np.diff(USgdp[\"gdpPercap\"])`\n",
    "\n",
    "b. `np.cumsum(USgdp[\"gdpPercap\"])`\n",
    "\n",
    "c. `np.diff(np.cumsum(USgdp[\"gdpPercap\"]))`\n",
    "\n",
    "d. `np.cumsum(np.diff(USgdp[\"gdpPercap\"]))`\n",
    "\n"
   ]
  },
  {
   "cell_type": "code",
   "execution_count": 12,
   "metadata": {},
   "outputs": [
    {
     "data": {
      "text/html": [
       "<div>\n",
       "<style scoped>\n",
       "    .dataframe tbody tr th:only-of-type {\n",
       "        vertical-align: middle;\n",
       "    }\n",
       "\n",
       "    .dataframe tbody tr th {\n",
       "        vertical-align: top;\n",
       "    }\n",
       "\n",
       "    .dataframe thead th {\n",
       "        text-align: right;\n",
       "    }\n",
       "</style>\n",
       "<table border=\"1\" class=\"dataframe\">\n",
       "  <thead>\n",
       "    <tr style=\"text-align: right;\">\n",
       "      <th></th>\n",
       "      <th>year</th>\n",
       "      <th>gdpPercap</th>\n",
       "    </tr>\n",
       "  </thead>\n",
       "  <tbody>\n",
       "    <tr>\n",
       "      <th>1608</th>\n",
       "      <td>1952</td>\n",
       "      <td>13990.48208</td>\n",
       "    </tr>\n",
       "    <tr>\n",
       "      <th>1609</th>\n",
       "      <td>1957</td>\n",
       "      <td>14847.12712</td>\n",
       "    </tr>\n",
       "    <tr>\n",
       "      <th>1610</th>\n",
       "      <td>1962</td>\n",
       "      <td>16173.14586</td>\n",
       "    </tr>\n",
       "  </tbody>\n",
       "</table>\n",
       "</div>"
      ],
      "text/plain": [
       "      year    gdpPercap\n",
       "1608  1952  13990.48208\n",
       "1609  1957  14847.12712\n",
       "1610  1962  16173.14586"
      ]
     },
     "metadata": {},
     "output_type": "display_data"
    },
    {
     "data": {
      "text/plain": [
       "array([  856.64504,  2182.66378,  5539.88349,  7815.55386, 10082.15005,\n",
       "       11019.07706, 15893.86833, 18013.45016, 21776.95095, 25106.61747,\n",
       "       28961.17101])"
      ]
     },
     "execution_count": 12,
     "metadata": {},
     "output_type": "execute_result"
    }
   ],
   "source": [
    "gapminder = pd.read_csv(\"gapminder_data.csv\")\n",
    "USgdp = gapminder[gapminder[\"country\"] == \"United States\"][[\"year\", \"gdpPercap\"]]\n",
    "display(USgdp.head(3))\n",
    "\n",
    "np.cumsum(np.diff(USgdp[\"gdpPercap\"]))"
   ]
  }
 ],
 "metadata": {
  "anaconda-cloud": {},
  "kernelspec": {
   "display_name": "Python 3 (ipykernel)",
   "language": "python",
   "name": "python3"
  },
  "language_info": {
   "codemirror_mode": {
    "name": "ipython",
    "version": 3
   },
   "file_extension": ".py",
   "mimetype": "text/x-python",
   "name": "python",
   "nbconvert_exporter": "python",
   "pygments_lexer": "ipython3",
   "version": "3.11.7"
  }
 },
 "nbformat": 4,
 "nbformat_minor": 4
}
