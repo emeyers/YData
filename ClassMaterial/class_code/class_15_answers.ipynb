{
 "cells": [
  {
   "cell_type": "markdown",
   "metadata": {},
   "source": [
    "# Class 15: Review practice problems\n",
    "\n",
    "Here are a few review practice problems based on the problems everyone posted to Canvas\n"
   ]
  },
  {
   "cell_type": "markdown",
   "metadata": {},
   "source": [
    "## Notes on the class Jupyter setup\n",
    "\n",
    "If you have the *ydata123_2023e* environment set up correctly, you can get the class code using the code below (which presumably you've already done given that you are seeing this notebook).  "
   ]
  },
  {
   "cell_type": "code",
   "execution_count": null,
   "metadata": {},
   "outputs": [],
   "source": [
    "import YData\n",
    "\n",
    "# YData.download.download_class_code(15)   # get class code    \n",
    "# YData.download.download_class_code(15, TRUE) # get the code with the answers \n",
    "\n",
    "YData.download.download_data(\"dow.csv\")\n",
    "YData.download_data(\"nba_salaries_2015_16.csv\")\n",
    "YData.download_data(\"daily_bike_totals.csv\")\n",
    "YData.download_data(\"gapminder_data.csv\")"
   ]
  },
  {
   "cell_type": "markdown",
   "metadata": {},
   "source": [
    "If you are using colabs, you should install polars and the YData packages by uncommenting and running the code below."
   ]
  },
  {
   "cell_type": "code",
   "execution_count": null,
   "metadata": {},
   "outputs": [],
   "source": [
    "# !pip install https://github.com/emeyers/YData_package/tarball/master"
   ]
  },
  {
   "cell_type": "markdown",
   "metadata": {},
   "source": [
    "If you are using google colabs, you should also uncomment and run the code below to mount the your google drive"
   ]
  },
  {
   "cell_type": "code",
   "execution_count": null,
   "metadata": {},
   "outputs": [],
   "source": [
    "# from google.colab import drive\n",
    "# drive.mount('/content/drive')"
   ]
  },
  {
   "cell_type": "code",
   "execution_count": null,
   "metadata": {},
   "outputs": [],
   "source": [
    "import pandas as pd\n",
    "import statistics\n",
    "import numpy as np\n",
    "from datetime import datetime\n",
    "import seaborn as sns\n",
    "\n",
    "import matplotlib.pyplot as plt\n",
    "%matplotlib inline"
   ]
  },
  {
   "cell_type": "markdown",
   "metadata": {},
   "source": [
    "## Practice problem 1\n",
    "\n",
    "Using the `nba_salaries` data, create a data frame called `team_count` that displays the following columns:\n",
    "\n",
    "1. TEAM: The team name of each NBA player represented.\n",
    "2. num_players: The number of players on each team.\n"
   ]
  },
  {
   "cell_type": "code",
   "execution_count": null,
   "metadata": {},
   "outputs": [],
   "source": [
    "nba = pd.read_csv(\"nba_salaries_2015_16.csv\")\n",
    "\n",
    "nba.groupby(\"TEAM\").agg(num_players = (\"PLAYER\", \"count\")).reset_index()\n"
   ]
  },
  {
   "cell_type": "markdown",
   "metadata": {},
   "source": [
    "## Practice problem 2\n",
    "\n",
    "Suppose you have the array `[\"little\", \"Mary\", \"had\", \"a\", \"little\", \"lamb\"]`. Write a function called `remove_little(an_array)` that removes all instances of the string \"little\"."
   ]
  },
  {
   "cell_type": "code",
   "execution_count": null,
   "metadata": {},
   "outputs": [],
   "source": [
    "\n",
    "def remove_little(an_array):\n",
    "    \n",
    "    an_array = np.array(an_array)\n",
    "    \n",
    "    return an_array[an_array != \"little\"]\n",
    "    \n",
    "    \n",
    "\n",
    "# test the function \n",
    "remove_little(np.array([\"little\", \"Mary\", \"had\", \"a\", \"little\", \"lamb\"]))\n"
   ]
  },
  {
   "cell_type": "markdown",
   "metadata": {},
   "source": [
    "## Practice problem 3a\n",
    "\n",
    "Suppose the data on the DOW Jones Industrial Average was loading in Python as a DataFrame in the name `dow`. Use Boolean masking to create a DataFrame that extracts data from all \"Fridays\". Save this to `dow_fridays`. Then, sort this new dataframe by `Open` values.\n",
    "\n"
   ]
  },
  {
   "cell_type": "code",
   "execution_count": null,
   "metadata": {},
   "outputs": [],
   "source": [
    "dow = pd.read_csv(\"dow.csv\")\n",
    "dow = dow.set_index(\"Date\")\n",
    "\n",
    "\n",
    "dow_fridays = dow[dow[\"Day\"] == \"Friday\"]\n",
    "dow_fridays.sort_values(\"Open\")\n"
   ]
  },
  {
   "cell_type": "markdown",
   "metadata": {},
   "source": [
    "## Practice problem 3b\n",
    "\n",
    "Now visualize the distribution of the opening price of the DOW using seaborn.\n"
   ]
  },
  {
   "cell_type": "code",
   "execution_count": null,
   "metadata": {},
   "outputs": [],
   "source": [
    "sns.displot(data = dow, x = \"Open\", kind = \"ecdf\");\n",
    "plt.ylabel(\"DOW index value\");\n"
   ]
  },
  {
   "cell_type": "markdown",
   "metadata": {},
   "source": [
    "## Practice problem 4\n",
    "\n",
    "Write a function `sum_even(a_list)` that takes a list of integers as an argument and returns the sum of all the even numbers in that list."
   ]
  },
  {
   "cell_type": "code",
   "execution_count": null,
   "metadata": {},
   "outputs": [],
   "source": [
    "\n",
    "def sum_even(a_list):\n",
    "    \n",
    "    total = 0\n",
    "    for num in a_list:\n",
    "        \n",
    "        if (num % 2) == 0:\n",
    "            total = total + num\n",
    "        \n",
    "    return total\n",
    "\n",
    "\n",
    "sum_even([1, 2, 3, 4, 5, 6, 7, 8, 9, 10])"
   ]
  },
  {
   "cell_type": "markdown",
   "metadata": {},
   "source": [
    "## Practice problem 5\n",
    "\n",
    "Plot a scatter plot that shows the relationship between wind speed for a given date and the number of bike rides taken with both `matplotlib` and `seaborn`. Compare and contrast the two resulting plots and the process of making them. "
   ]
  },
  {
   "cell_type": "code",
   "execution_count": null,
   "metadata": {},
   "outputs": [],
   "source": [
    "bikes = pd.read_csv(\"daily_bike_totals.csv\")\n",
    "\n",
    "plt.plot(bikes[\"average_wind_speed\"], bikes[\"trips\"], '.');\n",
    "plt.xlabel(\"Average wind speed\");\n",
    "plt.ylabel(\"Number of trips\");\n",
    "\n",
    "g = sns.relplot(data = bikes, x = \"average_wind_speed\", y = \"trips\");\n",
    "g.set_xlabels(\"Average wind speed\");\n",
    "g.set_ylabels(\"Number of trips\");\n"
   ]
  },
  {
   "cell_type": "markdown",
   "metadata": {},
   "source": [
    "## Practice problem 6\n",
    "\n",
    "\n",
    "Consider the following code, in which lines from Taylor Swift's \"Love Story\" are interspersed in William Shakespeare's Romeo and Juliet:\n",
    "\n",
    "\n",
    "<pre>\n",
    "\n",
    "lines =  [\"Two households, both alike in dignity,\",\n",
    "          \"On a balcony in summer air\",\n",
    "          \"In fair Verona, where we lay our scene,\",\n",
    "          \"See the lights, see the party, the ball gowns\",\n",
    "          \"From ancient grudge break to new mutiny,\",\n",
    "          \"See you make your way through the crowd\",\n",
    "          \"Where civil blood makes civil hands unclean.\",\n",
    "          \"And say, 'Hello'\",\n",
    "          \"From forth the fatal loins of these two foes\",\n",
    "          \"Little did I know\",\n",
    "          \"A pair of star-cross'd lovers take their life;\",\n",
    "          \"That you were Romeo, you were throwin' pebbles\",\n",
    "          \"Whose misadventured piteous overthrows\",\n",
    "          \"And my daddy said, 'Stay away from Juliet'\",\n",
    "          \"Do with their death bury their parents' strife.\",\n",
    "          \"And I was cryin' on the staircase\",\n",
    "          \"The fearful passage of their death-mark'd love,\",\n",
    "          \"Beggin' you, 'Please don't go,' and I said\",\n",
    "          \"And the continuance of their parents' rage,\",\n",
    "          \"'Romeo, take me somewhere we can be alone'\",\n",
    "          \"Which, but their children's end, nought could remove,\",\n",
    "          \"'I'll be waiting, all there's left to do is run'\",\n",
    "          \"Is now the two hours' traffic of our stage;\",\n",
    "          \"You'll be the prince and I'll be the princess\",\n",
    "          \"The which if you with patient ears attend,\",\n",
    "          \"It's a love story, baby, just say, 'Yes'\",\n",
    "          \"What here shall miss, our toil shall strive to mend.\"]\n",
    "                          \n",
    "</pre>\n",
    "\n",
    "If I wanted to print ONLY the text from Romeo and Juliet, I could code the following: `lines[_:_:_]`\n",
    "\n",
    "Which numbers belong in the blanks above\n",
    "\n",
    "a) 1, 14, 2\n",
    "\n",
    "b) 0, 27, 2\n",
    "\n",
    "c) 1, 27, 4\n",
    "\n",
    "d) 0, 14, 4\n",
    "\n"
   ]
  },
  {
   "cell_type": "code",
   "execution_count": null,
   "metadata": {},
   "outputs": [],
   "source": [
    "\n",
    "lines =  [\"Two households, both alike in dignity,\",\n",
    "          \"On a balcony in summer air\",\n",
    "          \"In fair Verona, where we lay our scene,\",\n",
    "          \"See the lights, see the party, the ball gowns\",\n",
    "          \"From ancient grudge break to new mutiny,\",\n",
    "          \"See you make your way through the crowd\",\n",
    "          \"Where civil blood makes civil hands unclean.\",\n",
    "          \"And say, 'Hello'\",\n",
    "          \"From forth the fatal loins of these two foes\",\n",
    "          \"Little did I know\",\n",
    "          \"A pair of star-cross'd lovers take their life;\",\n",
    "          \"That you were Romeo, you were throwin' pebbles\",\n",
    "          \"Whose misadventured piteous overthrows\",\n",
    "          \"And my daddy said, 'Stay away from Juliet'\",\n",
    "          \"Do with their death bury their parents' strife.\",\n",
    "          \"And I was cryin' on the staircase\",\n",
    "          \"The fearful passage of their death-mark'd love,\",\n",
    "          \"Beggin' you, 'Please don't go,' and I said\",\n",
    "          \"And the continuance of their parents' rage,\",\n",
    "          \"'Romeo, take me somewhere we can be alone'\",\n",
    "          \"Which, but their children's end, nought could remove,\",\n",
    "          \"'I'll be waiting, all there's left to do is run'\",\n",
    "          \"Is now the two hours' traffic of our stage;\",\n",
    "          \"You'll be the prince and I'll be the princess\",\n",
    "          \"The which if you with patient ears attend,\",\n",
    "          \"It's a love story, baby, just say, 'Yes'\",\n",
    "          \"What here shall miss, our toil shall strive to mend.\"]\n",
    "\n",
    "lines[0:27:2]"
   ]
  },
  {
   "cell_type": "markdown",
   "metadata": {},
   "source": [
    "## Practice problem 7\n",
    "\n",
    "Let's say that you have a DataFrame called `USgdp` with the year in a column called `year`, and the United State's GDP per capita in a column called `gdpPercap`. \n",
    "\n",
    "Which one of these options would give you the total GDP change between the starting year and each later year? \n",
    "\n",
    "a. `np.diff(USgdp[\"gdpPercap\"])`\n",
    "\n",
    "b. `np.cumsum(USgdp[\"gdpPercap\"])`\n",
    "\n",
    "c. `np.diff(np.cumsum(USgdp[\"gdpPercap\"]))`\n",
    "\n",
    "d. `np.cumsum(np.diff(USgdp[\"gdpPercap\"]))`\n",
    "\n"
   ]
  },
  {
   "cell_type": "code",
   "execution_count": null,
   "metadata": {},
   "outputs": [],
   "source": [
    "gapminder = pd.read_csv(\"gapminder_data.csv\")\n",
    "USgdp = gapminder[gapminder[\"country\"] == \"United States\"][[\"year\", \"gdpPercap\"]]\n",
    "display(USgdp.head(3))\n",
    "\n",
    "np.cumsum(np.diff(USgdp[\"gdpPercap\"]))"
   ]
  },
  {
   "cell_type": "markdown",
   "metadata": {},
   "source": [
    "## Practice problem 8\n",
    "\n",
    "Suppose we had the Python code `word = \"Programming\"`. \n",
    "\n",
    "Which of the following return `\"gram\"`?\n",
    "\n",
    "a) `word[3:6]`\n",
    "\n",
    "b) `word[2:3] + word[4:6]`\n",
    "\n",
    "c) `word[3:5] + word[5:7]`\n",
    "\n",
    "d) `word[3:7]`\n"
   ]
  },
  {
   "cell_type": "code",
   "execution_count": null,
   "metadata": {},
   "outputs": [],
   "source": [
    "word = \"Programming\"\n",
    "word[3:5] + word[5:7]"
   ]
  }
 ],
 "metadata": {
  "anaconda-cloud": {},
  "kernelspec": {
   "display_name": "Python [conda env:anaconda3-ydata123_2023f]",
   "language": "python",
   "name": "conda-env-anaconda3-ydata123_2023f-py"
  },
  "language_info": {
   "codemirror_mode": {
    "name": "ipython",
    "version": 3
   },
   "file_extension": ".py",
   "mimetype": "text/x-python",
   "name": "python",
   "nbconvert_exporter": "python",
   "pygments_lexer": "ipython3",
   "version": "3.11.0"
  }
 },
 "nbformat": 4,
 "nbformat_minor": 4
}
