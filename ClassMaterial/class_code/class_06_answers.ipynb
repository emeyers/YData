{
 "cells": [
  {
   "cell_type": "raw",
   "metadata": {
    "raw_mimetype": "",
    "slideshow": {
     "slide_type": ""
    },
    "tags": [
     "hide-input"
    ]
   },
   "source": [
    "---\n",
    "execute: \n",
    "  cache: false\n",
    "format: \n",
    "  pdf:\n",
    "    include-in-header: \n",
    "       text: |\n",
    "         \\newcommand{\\textasciicaret}{\\^{}}\n",
    "         \\usepackage{fvextra}\n",
    "         \\DefineVerbatimEnvironment{Highlighting}{Verbatim}{breaklines,commandchars=\\\\\\{\\}}\n",
    "    include-before-body:\n",
    "        text: |\n",
    "         \\RecustomVerbatimEnvironment{verbatim}{Verbatim}{showspaces = false, showtabs = false, breaksymbolleft={}, breaklines}\n",
    "---"
   ]
  },
  {
   "cell_type": "markdown",
   "metadata": {},
   "source": [
    "# Class 6: Array computations\n",
    "\n",
    "In this notebook we explore computations on arrays of data. "
   ]
  },
  {
   "cell_type": "code",
   "execution_count": 176,
   "metadata": {},
   "outputs": [],
   "source": [
    "import YData\n",
    "\n",
    "# YData.download.download_class_code(6)   # get class 4 code    \n",
    "# YData.download.download_class_code(6, True) # get the code with the answers \n",
    "\n",
    "# The following function will download the second homework\n",
    "#YData.download_homework(3)  # downloads the second homework \n"
   ]
  },
  {
   "cell_type": "code",
   "execution_count": 177,
   "metadata": {},
   "outputs": [],
   "source": [
    "## If you are using Google Colabs, you should install the YData packages and mount the your google drive by uncommenting and running the code below.\n",
    "\n",
    "# !pip install https://github.com/emeyers/YData_package/tarball/master\n",
    "# from google.colab import drive\n",
    "# drive.mount('/content/drive')\n"
   ]
  },
  {
   "cell_type": "markdown",
   "metadata": {},
   "source": [
    "### Downloading the data for today's class\n",
    "\n",
    "Please run the code in the cell below to download the data for today's class."
   ]
  },
  {
   "cell_type": "code",
   "execution_count": 178,
   "metadata": {},
   "outputs": [
    {
     "name": "stdout",
     "output_type": "stream",
     "text": [
      "The file `nba_salaries_2022_23_all.csv` already exists.\n",
      "If you would like to download a new copy of the file, please rename the existing copy of the file.\n",
      "The file `movies.csv` already exists.\n",
      "If you would like to download a new copy of the file, please rename the existing copy of the file.\n",
      "The file `US_Gasoline_Prices_Weekly.csv` already exists.\n",
      "If you would like to download a new copy of the file, please rename the existing copy of the file.\n"
     ]
    }
   ],
   "source": [
    "import YData\n",
    "\n",
    "YData.download_data(\"nba_salaries_2022_23_all.csv\")\n",
    "YData.download_data(\"movies.csv\")\n",
    "YData.download_data('US_Gasoline_Prices_Weekly.csv')"
   ]
  },
  {
   "cell_type": "markdown",
   "metadata": {},
   "source": [
    "## 0. Warm-up exercises: NBA salaries\n",
    "\n",
    "Let's do some warm-up exercises by looking at statistics of basketball players in the NBA! The data we will analyze contains infomration about each player including their salary from the 2022-2023 season listed in millions of dollars. This table can be found online: https://www.kaggle.com/datasets/jamiewelsh2/nba-player-salaries-2022-23-season\n",
    "\n",
    "We will load the data as a \"pandas DataFrame\" which is a data structure we will discuss more in a couple of weeks. We will then convert the data to lists to explore it further. The lists we are creating are:\n",
    "\n",
    "- `name_list`: A list of the basketball players' names\n",
    "- `salary_list`: A list of salaries\n",
    "- `position_list`: A list of the positions each player plays\n",
    "- `team_list`: A list of which team each player is on\n",
    "- `points_per_game_list`: A list showing the average number of points each player scored per game\n"
   ]
  },
  {
   "cell_type": "code",
   "execution_count": 179,
   "metadata": {},
   "outputs": [
    {
     "data": {
      "text/html": [
       "<div>\n",
       "<style scoped>\n",
       "    .dataframe tbody tr th:only-of-type {\n",
       "        vertical-align: middle;\n",
       "    }\n",
       "\n",
       "    .dataframe tbody tr th {\n",
       "        vertical-align: top;\n",
       "    }\n",
       "\n",
       "    .dataframe thead th {\n",
       "        text-align: right;\n",
       "    }\n",
       "</style>\n",
       "<table border=\"1\" class=\"dataframe\">\n",
       "  <thead>\n",
       "    <tr style=\"text-align: right;\">\n",
       "      <th></th>\n",
       "      <th>Player Name</th>\n",
       "      <th>Salary</th>\n",
       "      <th>Position</th>\n",
       "      <th>Team</th>\n",
       "      <th>PTS</th>\n",
       "    </tr>\n",
       "  </thead>\n",
       "  <tbody>\n",
       "    <tr>\n",
       "      <th>0</th>\n",
       "      <td>Stephen Curry</td>\n",
       "      <td>48070014</td>\n",
       "      <td>PG</td>\n",
       "      <td>GSW</td>\n",
       "      <td>29.4</td>\n",
       "    </tr>\n",
       "    <tr>\n",
       "      <th>1</th>\n",
       "      <td>John Wall</td>\n",
       "      <td>47345760</td>\n",
       "      <td>PG</td>\n",
       "      <td>LAC</td>\n",
       "      <td>11.4</td>\n",
       "    </tr>\n",
       "    <tr>\n",
       "      <th>2</th>\n",
       "      <td>Russell Westbrook</td>\n",
       "      <td>47080179</td>\n",
       "      <td>PG</td>\n",
       "      <td>LAL/LAC</td>\n",
       "      <td>15.9</td>\n",
       "    </tr>\n",
       "    <tr>\n",
       "      <th>3</th>\n",
       "      <td>LeBron James</td>\n",
       "      <td>44474988</td>\n",
       "      <td>PF</td>\n",
       "      <td>LAL</td>\n",
       "      <td>28.9</td>\n",
       "    </tr>\n",
       "    <tr>\n",
       "      <th>4</th>\n",
       "      <td>Kevin Durant</td>\n",
       "      <td>44119845</td>\n",
       "      <td>PF</td>\n",
       "      <td>BRK/PHO</td>\n",
       "      <td>29.1</td>\n",
       "    </tr>\n",
       "  </tbody>\n",
       "</table>\n",
       "</div>"
      ],
      "text/plain": [
       "         Player Name    Salary Position     Team   PTS\n",
       "0      Stephen Curry  48070014       PG      GSW  29.4\n",
       "1          John Wall  47345760       PG      LAC  11.4\n",
       "2  Russell Westbrook  47080179       PG  LAL/LAC  15.9\n",
       "3       LeBron James  44474988       PF      LAL  28.9\n",
       "4       Kevin Durant  44119845       PF  BRK/PHO  29.1"
      ]
     },
     "execution_count": 179,
     "metadata": {},
     "output_type": "execute_result"
    }
   ],
   "source": [
    "# load the data and display the first 6 rows\n",
    "\n",
    "import YData\n",
    "import pandas as pd\n",
    "\n",
    "#YData.download_data(\"nba_salaries_2022_23_all.csv\")\n",
    "nba = pd.read_csv(\"nba_salaries_2022_23_all.csv\")  # load in the data\n",
    "\n",
    "nba[[\"Player Name\", \"Salary\", \"Position\", \"Team\", \"PTS\"]].head()  # show the first 6 rows\n"
   ]
  },
  {
   "cell_type": "code",
   "execution_count": 180,
   "metadata": {},
   "outputs": [],
   "source": [
    "# extract the salaries and the player positions as lists\n",
    "\n",
    "name_list = nba[\"Player Name\"].to_list()\n",
    "salary_list = nba[\"Salary\"].to_list()\n",
    "position_list = nba[\"Position\"].to_list()\n",
    "team_list = nba[\"Team\"].to_list()\n",
    "points_per_game_list = nba[\"PTS\"].to_list()\n"
   ]
  },
  {
   "cell_type": "markdown",
   "metadata": {},
   "source": [
    "### Warm-up exercise 1: Categorical analyses\n",
    "\n",
    "Can you do the following:\n",
    "- Calculate the proportion of players who play on the Boston Celtics (\"BOS\")?\n",
    "\n",
    "If you finish the other warm-up exercises, you can also try creating a bar plot showing the number of players on the Boston Celtics (\"BOS\"), New York Knicks (\"NYK\") and Golden State Warriors (\"GSW\")."
   ]
  },
  {
   "cell_type": "code",
   "execution_count": 181,
   "metadata": {},
   "outputs": [
    {
     "data": {
      "text/plain": [
       "0.034261241970021415"
      ]
     },
     "execution_count": 181,
     "metadata": {},
     "output_type": "execute_result"
    }
   ],
   "source": [
    "# Proportion of players on the Celtics\n",
    "team_list.count('BOS')/len(team_list)\n"
   ]
  },
  {
   "cell_type": "code",
   "execution_count": 182,
   "metadata": {},
   "outputs": [
    {
     "data": {
      "image/png": "[encoded data removed]",
      "text/plain": [
       "<Figure size 640x480 with 1 Axes>"
      ]
     },
     "metadata": {},
     "output_type": "display_data"
    }
   ],
   "source": [
    "# If you finish the other warm-up exercies, you can create a bar plot showing the number of players on \"BOS\", \"NYK\", and \"GSW\"\n",
    "\n",
    "import matplotlib.pyplot as plt\n",
    "%matplotlib inline\n",
    "\n",
    "# Create a list of counts of players on the three teams\n",
    "team_counts = [team_list.count(\"BOS\"), \n",
    "               team_list.count(\"NYK\"),\n",
    "               team_list.count('GSW')]\n",
    "\n",
    "# Create the team names\n",
    "team_names = [\"Boston Celtics\", \"New York Knicks\", \"Golden State Warriors\"]\n",
    "\n",
    "\n",
    "# Create a bar chart of how many players are on each team. Be sure to label your axes!\n",
    "plt.bar(team_names, team_counts);\n",
    "plt.ylabel(\"Counts\");\n",
    "plt.xlabel(\"Team\");\n"
   ]
  },
  {
   "cell_type": "markdown",
   "metadata": {},
   "source": [
    "### Warm-up exercise 2: One quantitative variable analyses\n",
    "\n",
    "Can you do the following:\n",
    "\n",
    "1. Create a histogram of the player salaries\n",
    "2. Calculate the mean salary, the median salary, and the standard deviation of salaries\n",
    "3. Calcualte the z-score for the first player's salary (i.e., Stephen Curry's salary)\n"
   ]
  },
  {
   "cell_type": "code",
   "execution_count": 183,
   "metadata": {},
   "outputs": [
    {
     "data": {
      "image/png": "[encoded data removed]",
      "text/plain": [
       "<Figure size 640x480 with 1 Axes>"
      ]
     },
     "metadata": {},
     "output_type": "display_data"
    }
   ],
   "source": [
    "# Plot a histogram of NBA salaries\n",
    "\n",
    "plt.hist(salary_list, edgecolor = \"k\");\n",
    "plt.ylabel(\"Count\");\n",
    "plt.xlabel(\"Salary (million $)\");"
   ]
  },
  {
   "cell_type": "code",
   "execution_count": 184,
   "metadata": {},
   "outputs": [
    {
     "name": "stdout",
     "output_type": "stream",
     "text": [
      "8416598.74732334\n",
      "8416598.74732334\n"
     ]
    },
    {
     "data": {
      "text/plain": [
       "10708118.046519598"
      ]
     },
     "execution_count": 184,
     "metadata": {},
     "output_type": "execute_result"
    }
   ],
   "source": [
    "import statistics\n",
    "\n",
    "# mean salary\n",
    "print(sum(salary_list)/len(salary_list))\n",
    "print(statistics.mean(salary_list))\n",
    "\n",
    "# median salary\n",
    "statistics.median(salary_list)\n",
    "\n",
    "# standard deviation of salaries\n",
    "statistics.stdev(salary_list)\n"
   ]
  },
  {
   "cell_type": "code",
   "execution_count": 185,
   "metadata": {},
   "outputs": [
    {
     "data": {
      "text/plain": [
       "3.7031171192182546"
      ]
     },
     "execution_count": 185,
     "metadata": {},
     "output_type": "execute_result"
    }
   ],
   "source": [
    "# z-score for the first player's salary (i.e., z-score for Stephen Curry's salary)\n",
    "\n",
    "(salary_list[0] - statistics.mean(salary_list))/statistics.stdev(salary_list)\n"
   ]
  },
  {
   "cell_type": "markdown",
   "metadata": {},
   "source": [
    "### Warm-up exercise 3: Two-quantitative variables\n",
    "\n",
    "Can you do the following:\n",
    "\n",
    "1. Create a scatter plot of salary as a function of the points scored per game\n",
    "2. Guess what you believe correlation is between salary and points per game, and then calculate the correlation to see if your guess was close.\n"
   ]
  },
  {
   "cell_type": "code",
   "execution_count": 186,
   "metadata": {},
   "outputs": [
    {
     "data": {
      "image/png": "[encoded data removed]",
      "text/plain": [
       "<Figure size 640x480 with 1 Axes>"
      ]
     },
     "metadata": {},
     "output_type": "display_data"
    }
   ],
   "source": [
    "plt.plot(points_per_game_list, salary_list, '.');\n",
    "plt.xlabel(\"Points per game\");\n",
    "plt.ylabel(\"Salary ($)\");"
   ]
  },
  {
   "cell_type": "code",
   "execution_count": 187,
   "metadata": {},
   "outputs": [
    {
     "data": {
      "text/plain": [
       "0.7275966928493115"
      ]
     },
     "execution_count": 187,
     "metadata": {},
     "output_type": "execute_result"
    }
   ],
   "source": [
    "# guess the correlation and then calculate it\n",
    "statistics.correlation(points_per_game_list, salary_list)"
   ]
  },
  {
   "cell_type": "markdown",
   "metadata": {},
   "source": [
    "## 1. Creating NumPy Arrays\n",
    "\n",
    "Often we want to process data that is all of the same type. For example, we might want to do processing on a data set of numbers (e.g., if we were just analyzing salary data). \n",
    "\n",
    "When we have data that is all of the same type, there are faster ways to process data than using a list. In Python, the `numpy` package offers ways to store and process data that is all of the same type using a data structure called a `ndarray`. There are also functions that operate on `ndarrays` that can do computations very efficiently. \n",
    "\n",
    "Let's explore this now!"
   ]
  },
  {
   "cell_type": "code",
   "execution_count": 188,
   "metadata": {},
   "outputs": [],
   "source": [
    "# import the numpy package\n",
    "import numpy as np"
   ]
  },
  {
   "cell_type": "code",
   "execution_count": 189,
   "metadata": {},
   "outputs": [
    {
     "data": {
      "text/plain": [
       "array([2, 3, 4, 5])"
      ]
     },
     "execution_count": 189,
     "metadata": {},
     "output_type": "execute_result"
    }
   ],
   "source": [
    "# create an ndarry of numbers\n",
    "a_list = [2, 3, 4, 5]\n",
    "an_array = np.array(a_list)\n",
    "\n",
    "an_array"
   ]
  },
  {
   "cell_type": "code",
   "execution_count": 190,
   "metadata": {},
   "outputs": [
    {
     "data": {
      "text/plain": [
       "dtype('int64')"
      ]
     },
     "execution_count": 190,
     "metadata": {},
     "output_type": "execute_result"
    }
   ],
   "source": [
    "# we can get the type of elements in an array by accessing the dtype property\n",
    "an_array.dtype"
   ]
  },
  {
   "cell_type": "code",
   "execution_count": 191,
   "metadata": {},
   "outputs": [
    {
     "data": {
      "text/plain": [
       "(4,)"
      ]
     },
     "execution_count": 191,
     "metadata": {},
     "output_type": "execute_result"
    }
   ],
   "source": [
    "# get the size of the array\n",
    "an_array.shape"
   ]
  },
  {
   "cell_type": "code",
   "execution_count": 192,
   "metadata": {},
   "outputs": [
    {
     "data": {
      "text/plain": [
       "array(['a', 'b', 'c'], dtype='<U1')"
      ]
     },
     "execution_count": 192,
     "metadata": {},
     "output_type": "execute_result"
    }
   ],
   "source": [
    "# create an array of strings\n",
    "string_array = np.array([\"a\", \"b\", \"c\"])\n",
    "string_array"
   ]
  },
  {
   "cell_type": "code",
   "execution_count": 193,
   "metadata": {},
   "outputs": [
    {
     "data": {
      "text/plain": [
       "dtype('<U1')"
      ]
     },
     "execution_count": 193,
     "metadata": {},
     "output_type": "execute_result"
    }
   ],
   "source": [
    "# get the type in the string array\n",
    "string_array.dtype      # < little endian, U unicode, 1 bit"
   ]
  },
  {
   "cell_type": "code",
   "execution_count": 194,
   "metadata": {},
   "outputs": [
    {
     "data": {
      "text/plain": [
       "array([ True,  True, False])"
      ]
     },
     "execution_count": 194,
     "metadata": {},
     "output_type": "execute_result"
    }
   ],
   "source": [
    "# create a boolean array\n",
    "boolean_array = np.array([True, True, False])\n",
    "boolean_array"
   ]
  },
  {
   "cell_type": "code",
   "execution_count": 195,
   "metadata": {},
   "outputs": [
    {
     "data": {
      "text/plain": [
       "dtype('bool')"
      ]
     },
     "execution_count": 195,
     "metadata": {},
     "output_type": "execute_result"
    }
   ],
   "source": [
    "# get the type in the boolean array\n",
    "boolean_array.dtype"
   ]
  },
  {
   "cell_type": "code",
   "execution_count": 196,
   "metadata": {},
   "outputs": [
    {
     "data": {
      "text/plain": [
       "array(['1', '2', 'three'], dtype='<U21')"
      ]
     },
     "execution_count": 196,
     "metadata": {},
     "output_type": "execute_result"
    }
   ],
   "source": [
    "# what happens if we make an array from a list of mixed values\n",
    "mixed_array = np.array([1, 2, \"three\"])\n",
    "mixed_array"
   ]
  },
  {
   "cell_type": "code",
   "execution_count": 197,
   "metadata": {},
   "outputs": [
    {
     "data": {
      "text/plain": [
       "dtype('<U21')"
      ]
     },
     "execution_count": 197,
     "metadata": {},
     "output_type": "execute_result"
    }
   ],
   "source": [
    "# get the dtype \n",
    "mixed_array.dtype"
   ]
  },
  {
   "cell_type": "code",
   "execution_count": 198,
   "metadata": {},
   "outputs": [
    {
     "data": {
      "text/plain": [
       "np.str_('1')"
      ]
     },
     "execution_count": 198,
     "metadata": {},
     "output_type": "execute_result"
    }
   ],
   "source": [
    "# get the 0th element of the mixed_array\n",
    "mixed_array[0]"
   ]
  },
  {
   "cell_type": "code",
   "execution_count": 199,
   "metadata": {},
   "outputs": [
    {
     "data": {
      "text/plain": [
       "numpy.str_"
      ]
     },
     "execution_count": 199,
     "metadata": {},
     "output_type": "execute_result"
    }
   ],
   "source": [
    "# get the type of the 0th element\n",
    "type(mixed_array[0])"
   ]
  },
  {
   "cell_type": "code",
   "execution_count": 200,
   "metadata": {},
   "outputs": [
    {
     "data": {
      "text/plain": [
       "False"
      ]
     },
     "execution_count": 200,
     "metadata": {},
     "output_type": "execute_result"
    }
   ],
   "source": [
    "# is the 0th element equal to the integer 1? \n",
    "mixed_array[0] == 1"
   ]
  },
  {
   "cell_type": "code",
   "execution_count": 201,
   "metadata": {},
   "outputs": [
    {
     "data": {
      "text/plain": [
       "True"
      ]
     },
     "execution_count": 201,
     "metadata": {},
     "output_type": "execute_result"
    }
   ],
   "source": [
    "# is the 0th element equal to the string '1'? \n",
    "mixed_array[0] == '1'"
   ]
  },
  {
   "cell_type": "code",
   "execution_count": 202,
   "metadata": {},
   "outputs": [],
   "source": [
    "# create sequential numbers 1 to 9\n",
    "sequential_nums = np.arange(1, 10)      \n"
   ]
  },
  {
   "cell_type": "markdown",
   "metadata": {},
   "source": [
    "## 2. NumPy functions on numerical arrays\n",
    "\n",
    "The NumPy package has a number of functions that operate very efficiently on numerical ndarrays.\n",
    "\n",
    "Let's explore these functions by looking at the price of gas!\n",
    "\n",
    "The data comes from: https://www.eia.gov/opendata/v1/qb.php?category=240692&sdid=PET.EMM_EPM0_PTE_NUS_DPG.W"
   ]
  },
  {
   "cell_type": "code",
   "execution_count": 203,
   "metadata": {},
   "outputs": [],
   "source": [
    "# If loading the data using pandas_datareader.fred doesn't work, you can uncomment this code and load this alternative data from 2023\n",
    "\n",
    "##  Download the data - code based on a fixed .csv file\n",
    "#YData.download.download_data('US_Gasoline_Prices_Weekly.csv')\n",
    "#import pandas as pd\n",
    "#gas_data_all = pd.read_csv(\"US_Gasoline_Prices_Weekly.csv\", parse_dates=[0])  # load in the data\n",
    "#gas_data_all.head()\n",
    "#gas_data_recent = gas_data_all[(gas_data_all['Week'] > '2023-01-01') & (gas_data_all['Week'] < '2024-01-01')] \n",
    "#gas_prices = gas_data_recent[\"DollarsPerGallon\"].values\n",
    "#gas_dates = gas_data_recent[\"Week\"].values"
   ]
  },
  {
   "cell_type": "code",
   "execution_count": 204,
   "metadata": {},
   "outputs": [
    {
     "data": {
      "text/html": [
       "<div>\n",
       "<style scoped>\n",
       "    .dataframe tbody tr th:only-of-type {\n",
       "        vertical-align: middle;\n",
       "    }\n",
       "\n",
       "    .dataframe tbody tr th {\n",
       "        vertical-align: top;\n",
       "    }\n",
       "\n",
       "    .dataframe thead th {\n",
       "        text-align: right;\n",
       "    }\n",
       "</style>\n",
       "<table border=\"1\" class=\"dataframe\">\n",
       "  <thead>\n",
       "    <tr style=\"text-align: right;\">\n",
       "      <th></th>\n",
       "      <th>DATE</th>\n",
       "      <th>GASREGW</th>\n",
       "    </tr>\n",
       "  </thead>\n",
       "  <tbody>\n",
       "    <tr>\n",
       "      <th>240</th>\n",
       "      <td>2024-01-08</td>\n",
       "      <td>3.073</td>\n",
       "    </tr>\n",
       "    <tr>\n",
       "      <th>241</th>\n",
       "      <td>2024-01-15</td>\n",
       "      <td>3.058</td>\n",
       "    </tr>\n",
       "    <tr>\n",
       "      <th>242</th>\n",
       "      <td>2024-01-22</td>\n",
       "      <td>3.062</td>\n",
       "    </tr>\n",
       "    <tr>\n",
       "      <th>243</th>\n",
       "      <td>2024-01-29</td>\n",
       "      <td>3.095</td>\n",
       "    </tr>\n",
       "    <tr>\n",
       "      <th>244</th>\n",
       "      <td>2024-02-05</td>\n",
       "      <td>3.136</td>\n",
       "    </tr>\n",
       "  </tbody>\n",
       "</table>\n",
       "</div>"
      ],
      "text/plain": [
       "          DATE  GASREGW\n",
       "240 2024-01-08    3.073\n",
       "241 2024-01-15    3.058\n",
       "242 2024-01-22    3.062\n",
       "243 2024-01-29    3.095\n",
       "244 2024-02-05    3.136"
      ]
     },
     "metadata": {},
     "output_type": "display_data"
    },
    {
     "name": "stdout",
     "output_type": "stream",
     "text": [
      "[3.073 3.058 3.062 3.095 3.136]\n",
      "['2024-01-08T00:00:00.000000000' '2024-01-15T00:00:00.000000000'\n",
      " '2024-01-22T00:00:00.000000000' '2024-01-29T00:00:00.000000000'\n",
      " '2024-02-05T00:00:00.000000000']\n"
     ]
    }
   ],
   "source": [
    "# Read in the price of gas directly from the FRED\n",
    "\n",
    "from pandas_datareader.fred import FredReader\n",
    "\n",
    "end_year = 2025\n",
    "\n",
    "# get gas prices starting in 2019\n",
    "gas_data_all = FredReader(\"GASREGW\", start='2019-06-01', end= str(end_year) + \"-09-01\").read().reset_index() \n",
    "\n",
    "# reduce to gas prices for only last year\n",
    "gas_data_recent = gas_data_all[(gas_data_all['DATE'] > str(end_year -1) + '-01-01') & (gas_data_all['DATE'] < str(end_year) + '-01-01')] \n",
    "\n",
    "# display the first 5 rows of the data table\n",
    "display(gas_data_recent.head())\n",
    "\n",
    "# Get an ndarray of the gas prices from each week of 2023\n",
    "# You can ignore this code for now...\n",
    "gas_prices = gas_data_recent[\"GASREGW\"].values\n",
    "gas_dates = gas_data_recent[\"DATE\"].values\n",
    "\n",
    "# print the first 5 prices and first 5 dates\n",
    "print(gas_prices[0:5])\n",
    "print(gas_dates[0:5])"
   ]
  },
  {
   "cell_type": "code",
   "execution_count": 205,
   "metadata": {},
   "outputs": [
    {
     "data": {
      "text/plain": [
       "(52,)"
      ]
     },
     "execution_count": 205,
     "metadata": {},
     "output_type": "execute_result"
    }
   ],
   "source": [
    "# we have prices for all 52 weeks \n",
    "gas_prices.shape   "
   ]
  },
  {
   "cell_type": "code",
   "execution_count": 206,
   "metadata": {},
   "outputs": [
    {
     "data": {
      "text/plain": [
       "array([451.731, 449.526, 450.114, 454.965, 460.992, 469.224, 480.543,\n",
       "       477.603, 492.45 , 496.272, 507.591, 517.881, 516.999, 527.877,\n",
       "       533.316, 539.196, 536.991, 535.521, 530.376, 526.848, 525.819,\n",
       "       516.852, 504.063, 504.945, 505.386, 511.413, 512.883, 513.912,\n",
       "       510.237, 512.148, 506.856, 501.858, 497.154, 487.011, 483.483,\n",
       "       475.692, 467.46 , 468.195, 467.313, 460.992, 466.137, 462.168,\n",
       "       455.259, 451.143, 448.644, 447.762, 447.468, 445.998, 442.176,\n",
       "       443.352, 444.528, 441.882])"
      ]
     },
     "execution_count": 206,
     "metadata": {},
     "output_type": "execute_result"
    }
   ],
   "source": [
    "# One dollar is currently 147 Yen. What has been the price of a gallon of gas cost in Yen? \n",
    "# What have gas prices been in Euros? \n",
    "gas_prices * 147"
   ]
  },
  {
   "cell_type": "code",
   "execution_count": 207,
   "metadata": {},
   "outputs": [
    {
     "data": {
      "text/plain": [
       "array([5.073, 5.058, 5.062, 5.095, 5.136, 5.192, 5.269, 5.249, 5.35 ,\n",
       "       5.376, 5.453, 5.523, 5.517, 5.591, 5.628, 5.668, 5.653, 5.643,\n",
       "       5.608, 5.584, 5.577, 5.516, 5.429, 5.435, 5.438, 5.479, 5.489,\n",
       "       5.496, 5.471, 5.484, 5.448, 5.414, 5.382, 5.313, 5.289, 5.236,\n",
       "       5.18 , 5.185, 5.179, 5.136, 5.171, 5.144, 5.097, 5.069, 5.052,\n",
       "       5.046, 5.044, 5.034, 5.008, 5.016, 5.024, 5.006])"
      ]
     },
     "execution_count": 207,
     "metadata": {},
     "output_type": "execute_result"
    }
   ],
   "source": [
    "# what if there was a constant tax of $2 on each gallon purchased? \n",
    "gas_prices + 2"
   ]
  },
  {
   "cell_type": "code",
   "execution_count": 208,
   "metadata": {},
   "outputs": [
    {
     "name": "stdout",
     "output_type": "stream",
     "text": [
      "[np.float64(3.006), np.float64(3.668)]\n"
     ]
    }
   ],
   "source": [
    "# basic functions of: min, max, etc.\n",
    "print([np.min(gas_prices), np.max(gas_prices)])"
   ]
  },
  {
   "cell_type": "code",
   "execution_count": 209,
   "metadata": {},
   "outputs": [
    {
     "name": "stdout",
     "output_type": "stream",
     "text": [
      "172.01500000000001\n"
     ]
    }
   ],
   "source": [
    "# if you bought one gallon each week, what would you pay over the whole year? \n",
    "print(np.sum(gas_prices))  "
   ]
  },
  {
   "cell_type": "code",
   "execution_count": 210,
   "metadata": {},
   "outputs": [
    {
     "name": "stdout",
     "output_type": "stream",
     "text": [
      "3.3079807692307694\n",
      "3.301\n"
     ]
    }
   ],
   "source": [
    "# what do you pay on average? \n",
    "print(np.mean(gas_prices))\n",
    "print(np.median(gas_prices))"
   ]
  },
  {
   "cell_type": "code",
   "execution_count": 211,
   "metadata": {},
   "outputs": [
    {
     "data": {
      "text/plain": [
       "array([  3.073,   6.131,   9.193,  12.288,  15.424,  18.616,  21.885,\n",
       "        25.134,  28.484,  31.86 ,  35.313,  38.836,  42.353,  45.944,\n",
       "        49.572,  53.24 ,  56.893,  60.536,  64.144,  67.728,  71.305,\n",
       "        74.821,  78.25 ,  81.685,  85.123,  88.602,  92.091,  95.587,\n",
       "        99.058, 102.542, 105.99 , 109.404, 112.786, 116.099, 119.388,\n",
       "       122.624, 125.804, 128.989, 132.168, 135.304, 138.475, 141.619,\n",
       "       144.716, 147.785, 150.837, 153.883, 156.927, 159.961, 162.969,\n",
       "       165.985, 169.009, 172.015])"
      ]
     },
     "execution_count": 211,
     "metadata": {},
     "output_type": "execute_result"
    }
   ],
   "source": [
    "# If you bought one gallon each week, how much would you pay at the end of each of the weeks of the year? \n",
    "np.cumsum(gas_prices)"
   ]
  },
  {
   "cell_type": "code",
   "execution_count": 212,
   "metadata": {},
   "outputs": [
    {
     "data": {
      "text/plain": [
       "array([-0.015,  0.004,  0.033,  0.041,  0.056,  0.077, -0.02 ,  0.101,\n",
       "        0.026,  0.077,  0.07 , -0.006,  0.074,  0.037,  0.04 , -0.015,\n",
       "       -0.01 , -0.035, -0.024, -0.007, -0.061, -0.087,  0.006,  0.003,\n",
       "        0.041,  0.01 ,  0.007, -0.025,  0.013, -0.036, -0.034, -0.032,\n",
       "       -0.069, -0.024, -0.053, -0.056,  0.005, -0.006, -0.043,  0.035,\n",
       "       -0.027, -0.047, -0.028, -0.017, -0.006, -0.002, -0.01 , -0.026,\n",
       "        0.008,  0.008, -0.018])"
      ]
     },
     "execution_count": 212,
     "metadata": {},
     "output_type": "execute_result"
    }
   ],
   "source": [
    "# How much does the gas price go up and down each week? \n",
    "np.diff(gas_prices)"
   ]
  },
  {
   "cell_type": "code",
   "execution_count": 213,
   "metadata": {},
   "outputs": [
    {
     "data": {
      "image/png": "[encoded data removed]",
      "text/plain": [
       "<Figure size 640x480 with 1 Axes>"
      ]
     },
     "metadata": {},
     "output_type": "display_data"
    }
   ],
   "source": [
    "# plot the gas prices\n",
    "plt.plot(gas_prices);  "
   ]
  },
  {
   "cell_type": "code",
   "execution_count": 214,
   "metadata": {},
   "outputs": [
    {
     "data": {
      "image/png": "[encoded data removed]",
      "text/plain": [
       "<Figure size 640x480 with 1 Axes>"
      ]
     },
     "metadata": {},
     "output_type": "display_data"
    }
   ],
   "source": [
    "# plot the gas prices better!\n",
    "plt.plot(gas_dates, gas_prices, '.-');  \n",
    "plt.xlabel(\"Date\");\n",
    "plt.ylabel(\"Price ($)\")\n",
    "plt.title(\"Gas prices as a function of the date\");"
   ]
  },
  {
   "cell_type": "markdown",
   "metadata": {},
   "source": [
    "<br>\n",
    "<br>\n",
    "<br>\n",
    "<p>\n",
    "<center><img src=https://cdn.quotesgram.com/img/69/59/1803591020-high-gas-prices.jpg></center>"
   ]
  },
  {
   "cell_type": "markdown",
   "metadata": {},
   "source": [
    "## 3. Boolean arrays\n",
    "\n",
    "We can easily compare all values in an ndarray to a particular value. The result will return an ndarray of Booleans. \n",
    "\n",
    "Since Boolean `True` values are treated as 1's, and Boolean `False` values are treated as 0's, this makes it easy to see how many values in an array meet particular conditions. "
   ]
  },
  {
   "cell_type": "code",
   "execution_count": 215,
   "metadata": {},
   "outputs": [
    {
     "data": {
      "text/plain": [
       "array([False,  True, False,  True,  True,  True, False,  True])"
      ]
     },
     "execution_count": 215,
     "metadata": {},
     "output_type": "execute_result"
    }
   ],
   "source": [
    "# Test all values in an array that are less than 5\n",
    "my_array = np.array([12, 4, 6, 3, 4, 3, 7, 4])\n",
    "my_array < 5"
   ]
  },
  {
   "cell_type": "code",
   "execution_count": 216,
   "metadata": {},
   "outputs": [
    {
     "data": {
      "text/plain": [
       "np.int64(5)"
      ]
     },
     "execution_count": 216,
     "metadata": {},
     "output_type": "execute_result"
    }
   ],
   "source": [
    "# How many values are less than 5?\n",
    "np.sum(my_array < 5)"
   ]
  },
  {
   "cell_type": "code",
   "execution_count": 217,
   "metadata": {},
   "outputs": [
    {
     "data": {
      "text/plain": [
       "np.int64(41)"
      ]
     },
     "execution_count": 217,
     "metadata": {},
     "output_type": "execute_result"
    }
   ],
   "source": [
    "# How many (and what proportion) of weeks in 2023 were gas prices were below $3.50?\n",
    "np.sum(gas_prices < 3.50)"
   ]
  },
  {
   "cell_type": "markdown",
   "metadata": {},
   "source": [
    "### Example: What proportion of movies passed the Bechdel test revisited \n",
    "\n",
    "Let's calculate (again) the proportion of movies that passed the Bechdel test, but this time using numpy array computations. \n",
    "\n",
    "The code below loads the Bechdel data, and we will focus on the `bechdel` list, which is a list of strings saying whether movies passed ('PASS') or failed ('FAIL') the Bechdel test.\n",
    "\n"
   ]
  },
  {
   "cell_type": "code",
   "execution_count": 218,
   "metadata": {},
   "outputs": [
    {
     "data": {
      "text/plain": [
       "['FAIL', 'PASS', 'FAIL', 'FAIL', 'FAIL']"
      ]
     },
     "execution_count": 218,
     "metadata": {},
     "output_type": "execute_result"
    }
   ],
   "source": [
    "import YData\n",
    "import pandas as pd\n",
    "\n",
    "#YData.download_data(\"movies.csv\")\n",
    "\n",
    "movies = pd.read_csv(\"movies.csv\")\n",
    "col_names_to_keep = ['year', 'imdb', 'title', 'clean_test', 'binary', 'budget',\n",
    "       'domgross', 'budget_2013', 'domgross_2013', 'decade_code', 'imdb_id',\n",
    "       'rated', 'imdb_rating', 'runtime',  'imdb_votes']\n",
    "movies =   movies[col_names_to_keep]\n",
    "\n",
    "movies.dropna(axis = 0, how = 'any', inplace = True, subset=col_names_to_keep[0:9])\n",
    "\n",
    "\n",
    "# get lists of data for our data analysis\n",
    "title = movies[\"title\"].to_list()\n",
    "bechdel = movies[\"binary\"].to_list()\n",
    "bechdel_reason = movies[\"clean_test\"].to_list()\n",
    "\n",
    "domgross_2013 = movies[\"domgross_2013\"].to_list()\n",
    "budget_2013 = movies[\"budget_2013\"].to_list() \n",
    "year = movies[\"year\"].to_list()\n",
    "\n",
    "\n",
    "bechdel[0:5]\n"
   ]
  },
  {
   "cell_type": "code",
   "execution_count": 219,
   "metadata": {},
   "outputs": [
    {
     "name": "stdout",
     "output_type": "stream",
     "text": [
      "[False  True False False False]\n",
      "0.44707207207207206\n"
     ]
    },
    {
     "data": {
      "text/plain": [
       "np.float64(0.44707207207207206)"
      ]
     },
     "execution_count": 219,
     "metadata": {},
     "output_type": "execute_result"
    }
   ],
   "source": [
    "\n",
    "# convert the list to an ndarray\n",
    "bechdel_array = np.array(bechdel)\n",
    "\n",
    "\n",
    "# create a Boolean array of that is True for movies that passed the Bechdel test\n",
    "passed_booleans = bechdel_array == \"PASS\"\n",
    "print(passed_booleans[0:5])\n",
    "\n",
    "\n",
    "# calculate the proportion of movies that passed the Bechdel test\n",
    "print(np.sum(passed_booleans)/passed_booleans.shape[0])\n",
    "\n",
    "\n",
    "# alternatively, we can use the np.mean() function \n",
    "np.mean(passed_booleans)\n",
    "\n"
   ]
  },
  {
   "cell_type": "markdown",
   "metadata": {},
   "source": [
    "## 4. Boolean subsetting/indexing/masking\n",
    "\n",
    "We can also use Boolean arrays to return values in another array. This is referred to as \"Boolean Subsetting\", Boolean masking\" or \"Boolean indexing\"\n"
   ]
  },
  {
   "cell_type": "code",
   "execution_count": 220,
   "metadata": {},
   "outputs": [
    {
     "name": "stdout",
     "output_type": "stream",
     "text": [
      "[False  True False  True  True  True False  True]\n"
     ]
    },
    {
     "data": {
      "text/plain": [
       "array([4, 3, 4, 3, 4])"
      ]
     },
     "execution_count": 220,
     "metadata": {},
     "output_type": "execute_result"
    }
   ],
   "source": [
    "# initial array\n",
    "my_array = np.array([12, 4, 6, 3, 4, 3, 7, 4])\n",
    "\n",
    "# create Boolean array for values less than 5\n",
    "boolean_array = my_array < 5    \n",
    "\n",
    "print(boolean_array)\n",
    "\n",
    "# get values of my_array that are less than 5\n",
    "my_array[boolean_array]\n"
   ]
  },
  {
   "cell_type": "markdown",
   "metadata": {},
   "source": [
    "### Example: calculate the average revenue for movies that passed the Bechdel test "
   ]
  },
  {
   "cell_type": "code",
   "execution_count": 221,
   "metadata": {},
   "outputs": [
    {
     "name": "stdout",
     "output_type": "stream",
     "text": [
      "794\n"
     ]
    },
    {
     "data": {
      "text/plain": [
       "np.float64(79591918.51259446)"
      ]
     },
     "execution_count": 221,
     "metadata": {},
     "output_type": "execute_result"
    }
   ],
   "source": [
    "# Calculate the average revenue for movies that passed the Bechdel test \n",
    "\n",
    "# create an ndarray of revenues\n",
    "domgross_2013_array = np.array(domgross_2013)\n",
    "\n",
    "# use the boolean mask to extract movies the pass the Bechdel test\n",
    "passed_domgross_2013 = domgross_2013_array[passed_booleans]\n",
    "print(len(passed_domgross_2013))\n",
    "\n",
    "# get the average revenue of movies that passed the Bechdel test\n",
    "np.mean(passed_domgross_2013)"
   ]
  },
  {
   "attachments": {},
   "cell_type": "markdown",
   "metadata": {},
   "source": [
    "## 5. Percentiles\n",
    "\n",
    "The $p^{th}$ percentile is the value of a quantitative variable which is greater than $p$ percent of the data. \n",
    "\n",
    "We can calculate percentiles using the numpy function `np.percentile()`\n",
    "\n",
    "Let's calculate the 25th, 50th, and 75th percentile for the Bechdel movie revenue data.\n"
   ]
  },
  {
   "cell_type": "code",
   "execution_count": 222,
   "metadata": {},
   "outputs": [
    {
     "data": {
      "text/plain": [
       "array([2.05465938e+07, 5.59936405e+07, 1.21678352e+08])"
      ]
     },
     "execution_count": 222,
     "metadata": {},
     "output_type": "execute_result"
    }
   ],
   "source": [
    "## Get the 25th, 50th and 75th percentile of movie revenues\n",
    "\n",
    "bechdel_percentiles = np.percentile(domgross_2013_array, [25, 50, 75])\n",
    "\n",
    "bechdel_percentiles\n"
   ]
  },
  {
   "cell_type": "markdown",
   "metadata": {},
   "source": [
    "Question: What is another way to calculate the 50th percentile? \n"
   ]
  },
  {
   "cell_type": "code",
   "execution_count": 223,
   "metadata": {},
   "outputs": [
    {
     "data": {
      "text/plain": [
       "np.float64(55993640.5)"
      ]
     },
     "execution_count": 223,
     "metadata": {},
     "output_type": "execute_result"
    }
   ],
   "source": [
    "# A: The 50th percentile is the median so we can also calculate it using np.median()\n",
    "\n",
    "np.median(domgross_2013_array)"
   ]
  },
  {
   "cell_type": "markdown",
   "metadata": {},
   "source": [
    "Other commonly calculated statistics include:\n",
    "\n",
    "- **Five Number Summary:** (minimum, $Q_1$, median, $Q_3$, maximum)\n",
    "- **Range:** maximum – minimum\n",
    "- **Interquartile range (IQR):** = $Q_3$ – $Q_1$\n",
    "\n",
    "Where:\n",
    "- $Q_1$ = $25^{th}$ percentile\n",
    "- $Q_3$ = $75^{th}$ percentile\n",
    "\n",
    "Let's calculate these for the Bechdel revenue data...\n"
   ]
  },
  {
   "cell_type": "code",
   "execution_count": 224,
   "metadata": {},
   "outputs": [
    {
     "data": {
      "text/plain": [
       "np.float64(1771681891.0)"
      ]
     },
     "execution_count": 224,
     "metadata": {},
     "output_type": "execute_result"
    }
   ],
   "source": [
    "# Range\n",
    "\n",
    "np.max(domgross_2013_array) - np.min(domgross_2013_array)\n"
   ]
  },
  {
   "cell_type": "code",
   "execution_count": 225,
   "metadata": {},
   "outputs": [
    {
     "name": "stdout",
     "output_type": "stream",
     "text": [
      "101131758.25\n"
     ]
    },
    {
     "data": {
      "text/plain": [
       "array([1.01131758e+08])"
      ]
     },
     "execution_count": 225,
     "metadata": {},
     "output_type": "execute_result"
    }
   ],
   "source": [
    "# Interquartile range (IQR)\n",
    "\n",
    "print(np.percentile(domgross_2013_array, 75) - np.percentile(domgross_2013_array, 25))\n",
    "\n",
    "\n",
    "# Alternatively\n",
    "np.diff(np.percentile(domgross_2013_array, [25, 75]))\n"
   ]
  },
  {
   "cell_type": "code",
   "execution_count": 226,
   "metadata": {},
   "outputs": [
    {
     "name": "stdout",
     "output_type": "stream",
     "text": [
      "[8.99000000e+02 2.05465938e+07 5.59936405e+07 1.21678352e+08\n",
      " 1.77168279e+09]\n"
     ]
    },
    {
     "data": {
      "text/plain": [
       "array([8.99000000e+02, 2.05465938e+07, 5.59936405e+07, 1.21678352e+08,\n",
       "       1.77168279e+09])"
      ]
     },
     "execution_count": 226,
     "metadata": {},
     "output_type": "execute_result"
    }
   ],
   "source": [
    "# Five number summary\n",
    "\n",
    "five_num = np.array([np.min(domgross_2013_array), \n",
    "                     np.percentile(domgross_2013_array, 25),\n",
    "                     np.percentile(domgross_2013_array, 50),\n",
    "                     np.percentile(domgross_2013_array, 75),\n",
    "                     np.max(domgross_2013_array)])\n",
    "\n",
    "print(five_num)\n",
    "\n",
    "\n",
    "# Alternatively\n",
    "\n",
    "np.percentile(domgross_2013_array, [0, 25, 50, 75, 100])\n"
   ]
  },
  {
   "attachments": {},
   "cell_type": "markdown",
   "metadata": {},
   "source": [
    "## 5. Box plots\n",
    "\n",
    "A box plot is a graphical display of the five-number summary and consists of:\n",
    "\n",
    "   1. Drawing a box from Q1  to Q3   \n",
    "\n",
    "   2. Dividing the box with a line (or dot) drawn at the median\n",
    "\n",
    "   3. Draw a line from each quartile to the most extreme data value that is not and outlier\n",
    "\n",
    "   4. Draw a dot/asterisk for each outlier data point.\n",
    "\n",
    "\n",
    "Create a side-by-side boxplot showing the revenue of movies that passed and failed the Bechdel test\n"
   ]
  },
  {
   "cell_type": "code",
   "execution_count": 227,
   "metadata": {},
   "outputs": [
    {
     "data": {
      "image/png": "[encoded data removed]",
      "text/plain": [
       "<Figure size 640x480 with 1 Axes>"
      ]
     },
     "metadata": {},
     "output_type": "display_data"
    }
   ],
   "source": [
    "# get the movies that failed the Bechdel test\n",
    "failed_domgross_2013 = domgross_2013_array[bechdel_array == \"FAIL\"]\n",
    "\n",
    "\n",
    "# create a side-by-side boxplot showing the revenue of movies that passed and failed the Bechdel test\n",
    "plt.boxplot([passed_domgross_2013, failed_domgross_2013], \n",
    "            tick_labels= [\"Passed\", \"Failed\"]);\n",
    "plt.ylabel(\"Revenue ($)\");\n",
    "plt.title(\"Revenue of movies that passed/failed the Bechdel test\");\n",
    "\n"
   ]
  },
  {
   "cell_type": "code",
   "execution_count": 228,
   "metadata": {},
   "outputs": [],
   "source": [
    "%%capture\n",
    "\n",
    "# You can run this code to covert this Jupyter notebook into a pdf\n",
    "!quarto render class_06_answers.ipynb --cache-refresh --to pdf "
   ]
  }
 ],
 "metadata": {
  "anaconda-cloud": {},
  "kernelspec": {
   "display_name": "Python 3 (ipykernel)",
   "language": "python",
   "name": "python3"
  },
  "language_info": {
   "codemirror_mode": {
    "name": "ipython",
    "version": 3
   },
   "file_extension": ".py",
   "mimetype": "text/x-python",
   "name": "python",
   "nbconvert_exporter": "python",
   "pygments_lexer": "ipython3",
   "version": "3.13.5"
  }
 },
 "nbformat": 4,
 "nbformat_minor": 4
}
