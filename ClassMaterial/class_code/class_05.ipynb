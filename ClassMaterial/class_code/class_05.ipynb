{
 "cells": [
  {
   "cell_type": "markdown",
   "metadata": {},
   "source": [
    "# Class 5: Array computations\n",
    "\n",
    "Today we will focus on array computations which are particularly useful for processing images. "
   ]
  },
  {
   "cell_type": "markdown",
   "metadata": {},
   "source": [
    "## Notes on the class Jupyter setup\n",
    "\n",
    "If you have the *ydata123_2023e* environment set up correctly, you can get the class code using the code below (which presumably you've already done given that you are seeing this notebook).  "
   ]
  },
  {
   "cell_type": "code",
   "execution_count": null,
   "metadata": {},
   "outputs": [],
   "source": [
    "import YData\n",
    "\n",
    "# YData.download.download_class_code(5)   # get class 4 code    \n",
    "\n",
    "# YData.download.download_class_code(5, TRUE) # get the code with the answers \n",
    "\n",
    "YData.download.download_data(\"nba_salaries_2015_16.csv\")\n",
    "YData.download.download_data(\"US_Gasoline_Prices_Weekly.csv\")\n",
    "YData.download.download_image(\"burns.jpeg\")"
   ]
  },
  {
   "cell_type": "markdown",
   "metadata": {},
   "source": [
    "There are also similar functions to download the homework:"
   ]
  },
  {
   "cell_type": "code",
   "execution_count": null,
   "metadata": {},
   "outputs": [],
   "source": [
    "YData.download.download_homework(2)  # downloads the second homework "
   ]
  },
  {
   "cell_type": "markdown",
   "metadata": {},
   "source": [
    "If you are using colabs, you should install polars and the YData packages by uncommenting and running the code below."
   ]
  },
  {
   "cell_type": "code",
   "execution_count": null,
   "metadata": {},
   "outputs": [],
   "source": [
    "# !pip install polars\n",
    "# !pip install https://github.com/emeyers/YData_package/tarball/master"
   ]
  },
  {
   "cell_type": "markdown",
   "metadata": {},
   "source": [
    "If you are using google colabs, you should also uncomment and run the code below to mount the your google drive"
   ]
  },
  {
   "cell_type": "code",
   "execution_count": null,
   "metadata": {},
   "outputs": [],
   "source": [
    "# from google.colab import drive\n",
    "# drive.mount('/content/drive')"
   ]
  },
  {
   "cell_type": "code",
   "execution_count": null,
   "metadata": {},
   "outputs": [],
   "source": [
    "import polars as pl\n",
    "import statistics\n",
    "from datetime import datetime\n",
    "\n",
    "import matplotlib.pyplot as plt\n",
    "%matplotlib inline"
   ]
  },
  {
   "cell_type": "markdown",
   "metadata": {},
   "source": [
    "## Review of array computations\n",
    "\n",
    "Often we want to process data that is all of the same type. For example, we might want to do processing on a data set of numbers (e.g., if we were just analyzing salary data). \n",
    "\n",
    "When we have data that is all of the same type, there are faster ways to process data than using a list. In Python, the `numpy` package offers ways to store and process data that is all of the same type using a data structure called a `ndarray`. There are also functions that operate on `ndarrays` that can do computations very efficiently. \n",
    "\n",
    "Let's explore this now!"
   ]
  },
  {
   "cell_type": "code",
   "execution_count": null,
   "metadata": {},
   "outputs": [],
   "source": [
    "# import the numpy package\n",
    "import numpy as np\n"
   ]
  },
  {
   "cell_type": "code",
   "execution_count": null,
   "metadata": {},
   "outputs": [],
   "source": [
    "# create an ndarry of numbers\n",
    "\n",
    "\n"
   ]
  },
  {
   "cell_type": "code",
   "execution_count": null,
   "metadata": {},
   "outputs": [],
   "source": [
    "# we can get the type of elements in an array by accessing the dtype property\n"
   ]
  },
  {
   "cell_type": "code",
   "execution_count": null,
   "metadata": {},
   "outputs": [],
   "source": [
    "# get the size of the array\n"
   ]
  },
  {
   "cell_type": "code",
   "execution_count": null,
   "metadata": {},
   "outputs": [],
   "source": [
    "# create a boolean array\n",
    "\n"
   ]
  },
  {
   "cell_type": "code",
   "execution_count": null,
   "metadata": {},
   "outputs": [],
   "source": [
    "# get the type in the boolean array\n"
   ]
  },
  {
   "cell_type": "code",
   "execution_count": null,
   "metadata": {},
   "outputs": [],
   "source": [
    "# what happens if we make an array from a list of mixed values\n",
    "\n"
   ]
  },
  {
   "cell_type": "code",
   "execution_count": null,
   "metadata": {},
   "outputs": [],
   "source": [
    "# get the dtype \n"
   ]
  },
  {
   "cell_type": "code",
   "execution_count": null,
   "metadata": {},
   "outputs": [],
   "source": []
  },
  {
   "cell_type": "code",
   "execution_count": null,
   "metadata": {},
   "outputs": [],
   "source": []
  },
  {
   "cell_type": "code",
   "execution_count": null,
   "metadata": {},
   "outputs": [],
   "source": []
  },
  {
   "cell_type": "code",
   "execution_count": null,
   "metadata": {},
   "outputs": [],
   "source": []
  },
  {
   "cell_type": "code",
   "execution_count": null,
   "metadata": {},
   "outputs": [],
   "source": [
    "# convert types\n",
    "\n",
    "\n",
    "\n",
    "\n",
    "\n"
   ]
  },
  {
   "cell_type": "markdown",
   "metadata": {},
   "source": [
    "## NumPy functions on numerical arrays\n",
    "\n",
    "The NumPy package has a number of functions that operate very efficiently on numerical ndarrays.\n",
    "\n",
    "Let's explore these functions by looking at the price of gas!\n",
    "\n",
    "The data comes from: https://www.eia.gov/opendata/v1/qb.php?category=240692&sdid=PET.EMM_EPM0_PTE_NUS_DPG.W\n"
   ]
  },
  {
   "cell_type": "code",
   "execution_count": null,
   "metadata": {},
   "outputs": [],
   "source": [
    "all_gas_prices = pl.read_csv(\"US_Gasoline_Prices_Weekly.csv\", parse_dates=True)  # load in the data\n",
    "all_gas_prices.head()"
   ]
  },
  {
   "cell_type": "code",
   "execution_count": null,
   "metadata": {},
   "outputs": [],
   "source": [
    "# Get an ndarray of the gas prices from each week of 2022\n",
    "# You can ignore this code for now...\n",
    "\n",
    "gas_data = pl.read_csv(\"US_Gasoline_Prices_Weekly.csv\", parse_dates=True)  # load in the data\n",
    "gas_data = gas_data.with_column(pl.col('Week').str.strptime(pl.Date, fmt='%m/%d/%Y').cast(pl.Datetime))\n",
    "gas_data_2022 = gas_data.filter(\n",
    "    pl.col(\"Week\").is_between(datetime(2022, 1, 1), datetime(2022, 12, 31), closed = \"both\"),\n",
    ")\n",
    "\n",
    "gas_prices_2022 = np.array(gas_data_2022[\"DollarsPerGallon\"])\n",
    "gas_dates_2022 = np.array(gas_data_2022[\"Week\"])\n",
    "\n",
    "gas_prices_2022"
   ]
  },
  {
   "cell_type": "code",
   "execution_count": null,
   "metadata": {},
   "outputs": [],
   "source": [
    "# prices for all 52 weeks in 2022\n"
   ]
  },
  {
   "cell_type": "code",
   "execution_count": null,
   "metadata": {},
   "outputs": [],
   "source": [
    "# One dollar is currently .92 Euros. What has been the price of a gallon of gas cost in Euros? \n",
    "# What have gas prices been in Euros? \n"
   ]
  },
  {
   "cell_type": "code",
   "execution_count": null,
   "metadata": {},
   "outputs": [],
   "source": [
    "# what if there was a constant tax of $2 on each gallon purchased? \n"
   ]
  },
  {
   "cell_type": "code",
   "execution_count": null,
   "metadata": {},
   "outputs": [],
   "source": [
    "# basic functions of: min, max, sum, mean and median\n"
   ]
  },
  {
   "cell_type": "code",
   "execution_count": null,
   "metadata": {},
   "outputs": [],
   "source": [
    "# if you bought one gallon each week, what would you pay over the whole year? \n"
   ]
  },
  {
   "cell_type": "code",
   "execution_count": null,
   "metadata": {},
   "outputs": [],
   "source": [
    "# what do you pay on average? \n",
    "\n"
   ]
  },
  {
   "cell_type": "code",
   "execution_count": null,
   "metadata": {},
   "outputs": [],
   "source": [
    "# If you bought one gallon each week, how much would you pay at the end of each of the weeks of the year? \n"
   ]
  },
  {
   "cell_type": "code",
   "execution_count": null,
   "metadata": {},
   "outputs": [],
   "source": [
    "# How much does the gas price go up and down each week? \n"
   ]
  },
  {
   "cell_type": "code",
   "execution_count": null,
   "metadata": {},
   "outputs": [],
   "source": [
    "# plot the gas prices\n"
   ]
  },
  {
   "cell_type": "markdown",
   "metadata": {},
   "source": [
    "## Measuring how long a function takes to run\n",
    "\n",
    "Jupter notebooks have a special set of [\"magic commands\"](https://ipython.readthedocs.io/en/stable/interactive/magics.html) that can be used to add additional functionality to a notebook. \n",
    "\n",
    "We use `%%time` magic command to evaluate how long a piece of code takes to run. In particular, let's compare summing our gas prices using:\n",
    "\n",
    "1. A for loop\n",
    "2. Python's standard library sum() function\n",
    "3. NumPy's np.sum() function "
   ]
  },
  {
   "cell_type": "code",
   "execution_count": null,
   "metadata": {},
   "outputs": [],
   "source": [
    "%%timeit\n",
    "\n",
    "# use a for loop to sum all the values\n",
    "\n",
    "\n",
    "\n",
    "\n"
   ]
  },
  {
   "cell_type": "code",
   "execution_count": null,
   "metadata": {},
   "outputs": [],
   "source": [
    "%%timeit\n",
    "\n",
    "# use Python's standard library sum() function\n"
   ]
  },
  {
   "cell_type": "code",
   "execution_count": null,
   "metadata": {},
   "outputs": [],
   "source": [
    "%%timeit\n",
    "\n",
    "# NumPy's np.sum() function \n",
    "\n"
   ]
  },
  {
   "cell_type": "markdown",
   "metadata": {},
   "source": [
    "There is not a huge difference here because this is such a small data set, but using efficient code can make a huge difference on large data sets!"
   ]
  },
  {
   "cell_type": "markdown",
   "metadata": {},
   "source": [
    "![gas_prices](https://cdn.quotesgram.com/img/69/59/1803591020-high-gas-prices.jpg)"
   ]
  },
  {
   "cell_type": "markdown",
   "metadata": {},
   "source": [
    "## Boolean arrays\n",
    "\n",
    "We can easily compare all values in an ndarray to a particular value. The result will return an ndarray of Booleans. \n",
    "\n",
    "Since Boolean `True` values are treated as 1's, and Boolean `False` values are treated as 0's, this makes it easy to see how many values in an array meet particular conditions. "
   ]
  },
  {
   "cell_type": "code",
   "execution_count": null,
   "metadata": {},
   "outputs": [],
   "source": [
    "# Test all values in an array that are less than 5\n",
    "my_array = np.array([12, 4, 6, 3, 4, 3, 7, 4])\n"
   ]
  },
  {
   "cell_type": "code",
   "execution_count": null,
   "metadata": {},
   "outputs": [],
   "source": [
    "# How many values are less than 5.\n"
   ]
  },
  {
   "cell_type": "code",
   "execution_count": null,
   "metadata": {},
   "outputs": [],
   "source": [
    "# How many (and what proportion) of weeks in 2022 were gas prices were below $4?\n"
   ]
  },
  {
   "cell_type": "markdown",
   "metadata": {},
   "source": [
    "### What proportion of NBA players are centers? \n",
    "\n",
    "The data from the 2014-2015 season is loaded below and ndarrays for players positions and salaries are created. \n",
    "\n",
    "See if you can use this data to calculate the proportion of NBA players that are centers...\n"
   ]
  },
  {
   "cell_type": "code",
   "execution_count": null,
   "metadata": {},
   "outputs": [],
   "source": [
    "# Load the NBA data as a polars data frame\n",
    "nba = pl.read_csv(\"nba_salaries_2015_16.csv\")  # load in the data\n",
    "nba.head()"
   ]
  },
  {
   "cell_type": "code",
   "execution_count": null,
   "metadata": {},
   "outputs": [],
   "source": [
    "# Extract ndarrays for salary and position \n",
    "salary_array = np.array(nba[\"SALARY\"].to_list())\n",
    "position_array = np.array(nba[\"POSITION\"].to_list())\n",
    "\n",
    "print(salary_array[0:5])\n",
    "print(position_array[0:5])"
   ]
  },
  {
   "cell_type": "code",
   "execution_count": null,
   "metadata": {},
   "outputs": [],
   "source": [
    "# get the proportion of players that are centers\n",
    "\n",
    "\n",
    "\n",
    "\n",
    "# equivalently we can use the np.mean() funciton \n",
    "\n"
   ]
  },
  {
   "cell_type": "markdown",
   "metadata": {},
   "source": [
    "## Boolean indexing/masking\n",
    "\n",
    "We can also use Boolean arrays to return values in another array. This is called \"Boolean masking\" or \"Boolean indexing\".\n"
   ]
  },
  {
   "cell_type": "code",
   "execution_count": null,
   "metadata": {},
   "outputs": [],
   "source": [
    "my_array = np.array([12, 4, 6, 3, 4, 3, 7, 4])\n",
    "\n"
   ]
  },
  {
   "cell_type": "code",
   "execution_count": null,
   "metadata": {},
   "outputs": [],
   "source": [
    "# Calculate the average salary of NBA centers\n",
    "\n",
    "\n",
    "\n",
    "\n"
   ]
  },
  {
   "cell_type": "markdown",
   "metadata": {},
   "source": [
    "## Higher dimensional arrays"
   ]
  },
  {
   "cell_type": "code",
   "execution_count": null,
   "metadata": {},
   "outputs": [],
   "source": [
    "\n"
   ]
  },
  {
   "cell_type": "code",
   "execution_count": null,
   "metadata": {},
   "outputs": [],
   "source": [
    "# slicing to get a submatrix \n"
   ]
  },
  {
   "cell_type": "code",
   "execution_count": null,
   "metadata": {},
   "outputs": [],
   "source": [
    "# copy the matrix\n",
    "\n",
    "\n",
    "# set particular index values to 100\n",
    "\n"
   ]
  },
  {
   "cell_type": "code",
   "execution_count": null,
   "metadata": {},
   "outputs": [],
   "source": [
    "# sum all the values\n"
   ]
  },
  {
   "cell_type": "code",
   "execution_count": null,
   "metadata": {},
   "outputs": [],
   "source": [
    "# sum down the rows \n"
   ]
  },
  {
   "cell_type": "code",
   "execution_count": null,
   "metadata": {},
   "outputs": [],
   "source": [
    "# sum across the columns\n"
   ]
  },
  {
   "cell_type": "code",
   "execution_count": null,
   "metadata": {},
   "outputs": [],
   "source": [
    "# what does the following do? \n",
    "\n",
    "face_array = np.zeros([100, 100])  # create a matrix of all 0's \n",
    "\n",
    "face_array[21:30, 21:30] = 1  # assign particular regions the value of 1\n",
    "face_array[21:30, 71:80] = 1\n",
    "face_array[71:80, 21:80] = 1\n",
    "\n"
   ]
  },
  {
   "cell_type": "markdown",
   "metadata": {},
   "source": [
    "## Image processing\n",
    "\n",
    "We can use numerical arrays (and NumPy) to do image processing. Let's explre this now.\n"
   ]
  },
  {
   "cell_type": "code",
   "execution_count": null,
   "metadata": {},
   "outputs": [],
   "source": [
    "# load in an image \n",
    "\n",
    "from imageio.v3 import imread\n",
    "\n",
    "I = imread(\"burns.jpeg\")\n",
    "\n",
    "plt.imshow(I);"
   ]
  },
  {
   "cell_type": "code",
   "execution_count": null,
   "metadata": {},
   "outputs": [],
   "source": [
    "# get the type and shape of the image\n",
    "\n"
   ]
  },
  {
   "cell_type": "code",
   "execution_count": null,
   "metadata": {},
   "outputs": [],
   "source": [
    "# get the min an max values\n",
    "\n"
   ]
  },
  {
   "cell_type": "code",
   "execution_count": null,
   "metadata": {},
   "outputs": [],
   "source": [
    "# Let's reverse the red and blue channels\n",
    "\n",
    "# put the R, G, and B channels in separate names\n",
    "\n",
    "\n",
    "# create a tensor of zeros to store the results\n",
    "\n",
    "\n",
    "# reverse the R and B channels\n",
    "\n",
    "\n",
    "\n",
    "# print the dtype\n",
    "\n",
    "\n",
    "# convert the dtype to int\n",
    "\n",
    "\n",
    "# show the image\n",
    "\n"
   ]
  },
  {
   "cell_type": "code",
   "execution_count": null,
   "metadata": {},
   "outputs": [],
   "source": [
    "# To create a grayscale image - use the average value in all three r, g, b channels\n",
    "\n",
    "# can the average image\n",
    "\n",
    "\n",
    "# create a tensor of all zeros and add the mean image to the R, G and B channels\n",
    "\n",
    "\n",
    "\n",
    "\n",
    "\n",
    "# convert the image to ints\n",
    "\n",
    "# show the image\n"
   ]
  },
  {
   "cell_type": "code",
   "execution_count": null,
   "metadata": {},
   "outputs": [],
   "source": [
    "# Image masking - make all drak pixels even darker (set to a value of 0)\n",
    "\n",
    "# copy the image\n",
    "\n",
    "\n",
    "\n",
    "# create a mask for all pixels less than a value of 128\n",
    "\n",
    "\n",
    "# set all values in the mask to 0 and show the image\n",
    "\n"
   ]
  },
  {
   "cell_type": "code",
   "execution_count": null,
   "metadata": {},
   "outputs": [],
   "source": []
  }
 ],
 "metadata": {
  "anaconda-cloud": {},
  "kernelspec": {
   "display_name": "Python [conda env:ydata123_2023e] *",
   "language": "python",
   "name": "conda-env-ydata123_2023e-py"
  },
  "language_info": {
   "codemirror_mode": {
    "name": "ipython",
    "version": 3
   },
   "file_extension": ".py",
   "mimetype": "text/x-python",
   "name": "python",
   "nbconvert_exporter": "python",
   "pygments_lexer": "ipython3",
   "version": "3.11.0"
  }
 },
 "nbformat": 4,
 "nbformat_minor": 4
}
