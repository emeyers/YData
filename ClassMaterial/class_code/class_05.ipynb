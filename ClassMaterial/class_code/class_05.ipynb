{
 "cells": [
  {
   "cell_type": "markdown",
   "metadata": {},
   "source": [
    "# Class 5: Array computations\n",
    "\n",
    "Today we will focus on array computations which are particularly useful for processing images. "
   ]
  },
  {
   "cell_type": "markdown",
   "metadata": {},
   "source": [
    "## Notes on the class Jupyter setup\n",
    "\n",
    "If you have the *ydata123_2024a* environment set up correctly, you can get the class code using the code below (which presumably you've already done given that you are seeing this notebook).  "
   ]
  },
  {
   "cell_type": "code",
   "execution_count": null,
   "metadata": {},
   "outputs": [],
   "source": [
    "import YData\n",
    "\n",
    "# YData.download.download_class_code(5)   # get class 5 code    \n",
    "\n",
    "# YData.download.download_class_code(5, True)  # get the code with the answers "
   ]
  },
  {
   "cell_type": "markdown",
   "metadata": {},
   "source": [
    "There are also similar functions to download the homework:"
   ]
  },
  {
   "cell_type": "code",
   "execution_count": null,
   "metadata": {},
   "outputs": [],
   "source": [
    "YData.download.download_homework(2)  # downloads the second homework "
   ]
  },
  {
   "cell_type": "markdown",
   "metadata": {},
   "source": [
    "If you are using colabs, you should install polars and the YData packages by uncommenting and running the code below."
   ]
  },
  {
   "cell_type": "code",
   "execution_count": null,
   "metadata": {},
   "outputs": [],
   "source": [
    "# !pip install https://github.com/emeyers/YData_package/tarball/master"
   ]
  },
  {
   "cell_type": "markdown",
   "metadata": {},
   "source": [
    "If you are using google colabs, you should also uncomment and run the code below to mount the your google drive"
   ]
  },
  {
   "cell_type": "code",
   "execution_count": null,
   "metadata": {},
   "outputs": [],
   "source": [
    "# from google.colab import drive\n",
    "# drive.mount('/content/drive')"
   ]
  },
  {
   "cell_type": "markdown",
   "metadata": {},
   "source": [
    "## Review: Creating Arrays\n",
    "\n",
    "Often we want to process data that is all of the same type. For example, we might want to do processing on a data set of numbers (e.g., if we were just analyzing salary data). \n",
    "\n",
    "When we have data that is all of the same type, there are faster ways to process data than using a list. In Python, the `numpy` package offers ways to store and process data that is all of the same type using a data structure called a `ndarray`. There are also functions that operate on `ndarrays` that can do computations very efficiently. \n",
    "\n",
    "Let's explore this now!"
   ]
  },
  {
   "cell_type": "code",
   "execution_count": null,
   "metadata": {},
   "outputs": [],
   "source": [
    "# import the numpy package\n",
    "import numpy as np\n",
    "\n",
    "import matplotlib.pyplot as plt\n"
   ]
  },
  {
   "cell_type": "code",
   "execution_count": null,
   "metadata": {},
   "outputs": [],
   "source": [
    "# create an ndarry of numbers\n",
    "\n",
    "\n"
   ]
  },
  {
   "cell_type": "code",
   "execution_count": null,
   "metadata": {},
   "outputs": [],
   "source": [
    "# we can get the type of elements in an array by accessing the dtype property\n"
   ]
  },
  {
   "cell_type": "code",
   "execution_count": null,
   "metadata": {},
   "outputs": [],
   "source": [
    "# get the size of the array\n"
   ]
  },
  {
   "cell_type": "code",
   "execution_count": null,
   "metadata": {},
   "outputs": [],
   "source": [
    "# create a boolean array\n",
    "\n"
   ]
  },
  {
   "cell_type": "code",
   "execution_count": null,
   "metadata": {},
   "outputs": [],
   "source": [
    "# get the type in the boolean array\n"
   ]
  },
  {
   "cell_type": "code",
   "execution_count": null,
   "metadata": {},
   "outputs": [],
   "source": [
    "# reverse True's and Falses\n"
   ]
  },
  {
   "cell_type": "code",
   "execution_count": null,
   "metadata": {},
   "outputs": [],
   "source": [
    "# what happens if we make an array from a list of mixed values\n",
    "\n"
   ]
  },
  {
   "cell_type": "code",
   "execution_count": null,
   "metadata": {},
   "outputs": [],
   "source": [
    "# get the dtype \n"
   ]
  },
  {
   "cell_type": "code",
   "execution_count": null,
   "metadata": {},
   "outputs": [],
   "source": []
  },
  {
   "cell_type": "code",
   "execution_count": null,
   "metadata": {},
   "outputs": [],
   "source": []
  },
  {
   "cell_type": "code",
   "execution_count": null,
   "metadata": {},
   "outputs": [],
   "source": []
  },
  {
   "cell_type": "code",
   "execution_count": null,
   "metadata": {},
   "outputs": [],
   "source": []
  },
  {
   "cell_type": "code",
   "execution_count": null,
   "metadata": {},
   "outputs": [],
   "source": [
    "# create sequential numbers 1 to 9\n",
    "\n"
   ]
  },
  {
   "cell_type": "code",
   "execution_count": null,
   "metadata": {},
   "outputs": [],
   "source": [
    "# convert types\n",
    "\n",
    "\n",
    "\n"
   ]
  },
  {
   "cell_type": "markdown",
   "metadata": {},
   "source": [
    "## NumPy functions on numerical arrays\n",
    "\n",
    "The NumPy package has a number of functions that operate very efficiently on numerical ndarrays.\n",
    "\n",
    "Let's explore these functions by looking at the price of gas!\n",
    "\n",
    "The data comes from: https://www.eia.gov/opendata/v1/qb.php?category=240692&sdid=PET.EMM_EPM0_PTE_NUS_DPG.W"
   ]
  },
  {
   "cell_type": "code",
   "execution_count": null,
   "metadata": {},
   "outputs": [],
   "source": [
    "# download the data\n",
    "YData.download.download_data('US_Gasoline_Prices_Weekly.csv')"
   ]
  },
  {
   "cell_type": "code",
   "execution_count": null,
   "metadata": {},
   "outputs": [],
   "source": [
    "# read in and view the data\n",
    "import pandas as pd\n",
    "gas_data = pd.read_csv(\"US_Gasoline_Prices_Weekly.csv\", parse_dates=[0])  # load in the data\n",
    "gas_data.head()"
   ]
  },
  {
   "cell_type": "code",
   "execution_count": null,
   "metadata": {},
   "outputs": [],
   "source": [
    "# Get an ndarray of the gas prices from each week of 2023\n",
    "# You can ignore this code for now...\n",
    "\n",
    "gas_data_2023 = gas_data[(gas_data['Week'] > '2023-01-01') & (gas_data['Week'] < '2024-01-01')] \n",
    "\n",
    "gas_prices_2023 = gas_data_2023[\"DollarsPerGallon\"].values\n",
    "gas_dates_2023 = gas_data_2023[\"Week\"].values\n"
   ]
  },
  {
   "cell_type": "code",
   "execution_count": null,
   "metadata": {},
   "outputs": [],
   "source": [
    "# prices for all 52 weeks in 2023\n",
    "\n"
   ]
  },
  {
   "cell_type": "code",
   "execution_count": null,
   "metadata": {},
   "outputs": [],
   "source": [
    "# One dollar is currently 147 Yen. What has been the price of a gallon of gas cost in Yen? \n",
    "# What have gas prices been in Euros? \n",
    "\n"
   ]
  },
  {
   "cell_type": "code",
   "execution_count": null,
   "metadata": {},
   "outputs": [],
   "source": [
    "# what if there was a constant tax of $2 on each gallon purchased? \n",
    "\n"
   ]
  },
  {
   "cell_type": "code",
   "execution_count": null,
   "metadata": {},
   "outputs": [],
   "source": [
    "# basic functions of: min, max, etc.\n",
    "\n"
   ]
  },
  {
   "cell_type": "code",
   "execution_count": null,
   "metadata": {},
   "outputs": [],
   "source": [
    "# if you bought one gallon each week, what would you pay over the whole year? \n",
    "\n"
   ]
  },
  {
   "cell_type": "code",
   "execution_count": null,
   "metadata": {},
   "outputs": [],
   "source": [
    "# what do you pay on average? \n",
    "\n"
   ]
  },
  {
   "cell_type": "code",
   "execution_count": null,
   "metadata": {},
   "outputs": [],
   "source": [
    "# If you bought one gallon each week, how much would you pay at the end of each of the weeks of the year? \n",
    "\n"
   ]
  },
  {
   "cell_type": "code",
   "execution_count": null,
   "metadata": {},
   "outputs": [],
   "source": [
    "# How much does the gas price go up and down each week? \n",
    "\n"
   ]
  },
  {
   "cell_type": "code",
   "execution_count": null,
   "metadata": {},
   "outputs": [],
   "source": [
    "# plot the gas prices\n",
    "\n"
   ]
  },
  {
   "cell_type": "code",
   "execution_count": null,
   "metadata": {},
   "outputs": [],
   "source": [
    "# plot the gas prices better!\n",
    "\n",
    "\n",
    "\n",
    "\n"
   ]
  },
  {
   "cell_type": "markdown",
   "metadata": {},
   "source": [
    "<br>\n",
    "<br>\n",
    "<br>\n",
    "<p>\n",
    "<center><img src=https://cdn.quotesgram.com/img/69/59/1803591020-high-gas-prices.jpg></center>"
   ]
  },
  {
   "cell_type": "markdown",
   "metadata": {},
   "source": [
    "## Boolean arrays\n",
    "\n",
    "We can easily compare all values in an ndarray to a particular value. The result will return an ndarray of Booleans. \n",
    "\n",
    "Since Boolean `True` values are treated as 1's, and Boolean `False` values are treated as 0's, this makes it easy to see how many values in an array meet particular conditions. "
   ]
  },
  {
   "cell_type": "code",
   "execution_count": null,
   "metadata": {},
   "outputs": [],
   "source": [
    "# Test all values in an array that are less than 5\n",
    "\n",
    "\n"
   ]
  },
  {
   "cell_type": "code",
   "execution_count": null,
   "metadata": {},
   "outputs": [],
   "source": [
    "# How many values are less than 5.\n",
    "\n"
   ]
  },
  {
   "cell_type": "code",
   "execution_count": null,
   "metadata": {},
   "outputs": [],
   "source": [
    "# How many (and what proportion) of weeks in 2023 were gas prices were below $3.50?\n",
    "\n"
   ]
  },
  {
   "cell_type": "markdown",
   "metadata": {},
   "source": [
    "### What proportion of NBA players are centers? \n",
    "\n",
    "The data from the 2022-2023 season is loaded below and ndarrays for players positions and salaries are created. \n",
    "\n",
    "See if you can use this data to calculate the proportion of NBA players that are centers using numpy!"
   ]
  },
  {
   "cell_type": "code",
   "execution_count": null,
   "metadata": {},
   "outputs": [],
   "source": [
    "# download the data\n",
    "import YData\n",
    "YData.download.download_data(\"nba_salaries_2022_23.csv\")"
   ]
  },
  {
   "cell_type": "code",
   "execution_count": null,
   "metadata": {},
   "outputs": [],
   "source": [
    "# Load the NBA data as a pandas data frame\n",
    "import pandas as pd\n",
    "nba = pd.read_csv(\"nba_salaries_2022_23.csv\")  # load in the data\n",
    "nba.head()\n",
    "\n",
    "# Extract ndarrays for salary and position \n",
    "salary_array = nba[\"SALARY\"].values\n",
    "position_array = nba[\"POSITION\"].values\n",
    "team_array = nba[\"TEAM\"].values\n",
    "player_array = nba[\"PLAYER\"].values\n",
    "\n",
    "print(salary_array[0:5])\n",
    "print(position_array[0:5])\n"
   ]
  },
  {
   "cell_type": "code",
   "execution_count": null,
   "metadata": {},
   "outputs": [],
   "source": [
    "# get the proportion of players that are centers\n",
    "\n",
    "\n",
    "\n",
    "\n",
    "\n",
    "# equivalently we can use the np.mean() funciton \n",
    "\n"
   ]
  },
  {
   "cell_type": "markdown",
   "metadata": {},
   "source": [
    "## Boolean indexing/masking\n",
    "\n",
    "We can also use Boolean arrays to return values in another array. This is called \"Boolean masking\" or \"Boolean indexing\".\n"
   ]
  },
  {
   "cell_type": "code",
   "execution_count": null,
   "metadata": {},
   "outputs": [],
   "source": [
    "\n",
    "\n"
   ]
  },
  {
   "cell_type": "code",
   "execution_count": null,
   "metadata": {},
   "outputs": [],
   "source": [
    "# Calculate the average salary of NBA centers\n",
    "\n",
    "\n",
    "\n"
   ]
  },
  {
   "cell_type": "code",
   "execution_count": null,
   "metadata": {},
   "outputs": [],
   "source": [
    "# Do the other positions have higher average salaries compared to centers? \n",
    "# Calculate the average salary of all players who are not Centers\n",
    "\n",
    "\n",
    "\n"
   ]
  },
  {
   "cell_type": "code",
   "execution_count": null,
   "metadata": {},
   "outputs": [],
   "source": [
    "# What are the salaries for centers on the Celtics? \n",
    "\n",
    "\n",
    "\n",
    "\n",
    "# print the number of players that are centers on the celtics\n",
    "\n",
    "\n",
    "\n",
    "# check who they are\n",
    "\n",
    "\n",
    "\n",
    "# get their salaries\n",
    "\n"
   ]
  },
  {
   "cell_type": "markdown",
   "metadata": {},
   "source": [
    "## Higher dimensional arrays"
   ]
  },
  {
   "cell_type": "code",
   "execution_count": null,
   "metadata": {},
   "outputs": [],
   "source": [
    "\n",
    "\n"
   ]
  },
  {
   "cell_type": "code",
   "execution_count": null,
   "metadata": {},
   "outputs": [],
   "source": [
    "# slicing to get a submatrix \n",
    "# like array slicing, it does return a value at the end index\n",
    "\n"
   ]
  },
  {
   "cell_type": "code",
   "execution_count": null,
   "metadata": {},
   "outputs": [],
   "source": [
    "# copy the matrix\n",
    "\n",
    "\n",
    "# set particular index values to 100\n",
    "\n",
    "\n"
   ]
  },
  {
   "cell_type": "code",
   "execution_count": null,
   "metadata": {},
   "outputs": [],
   "source": [
    "# sum all the values\n",
    "\n"
   ]
  },
  {
   "cell_type": "code",
   "execution_count": null,
   "metadata": {},
   "outputs": [],
   "source": [
    "# sum down the rows (axis 0)\n",
    "\n"
   ]
  },
  {
   "cell_type": "code",
   "execution_count": null,
   "metadata": {},
   "outputs": [],
   "source": [
    "# sum across the columns (axis 1)\n",
    "\n"
   ]
  },
  {
   "cell_type": "code",
   "execution_count": null,
   "metadata": {},
   "outputs": [],
   "source": [
    "# what does the following do? \n",
    "\n",
    "face_array = np.zeros([100, 100])  # create a matrix of all 0's \n",
    "\n",
    "face_array[21:30, 21:30] = 1  # assign particular regions the value of 1\n",
    "face_array[21:30, 71:80] = 1\n",
    "face_array[71:80, 21:80] = 1\n",
    "\n"
   ]
  },
  {
   "cell_type": "code",
   "execution_count": null,
   "metadata": {},
   "outputs": [],
   "source": [
    "# convert face_array to a boolean matrix\n",
    "\n",
    "\n"
   ]
  },
  {
   "cell_type": "markdown",
   "metadata": {},
   "source": [
    "## Image processing\n",
    "\n",
    "We can use numerical arrays (and NumPy) to do image processing. Let's explre this now."
   ]
  },
  {
   "cell_type": "code",
   "execution_count": null,
   "metadata": {},
   "outputs": [],
   "source": [
    "# download an image of a famous Yale alumni\n",
    "YData.download.download_image(\"burns.jpeg\")"
   ]
  },
  {
   "cell_type": "code",
   "execution_count": null,
   "metadata": {},
   "outputs": [],
   "source": [
    "# load in an image \n",
    "\n",
    "from imageio.v3 import imread\n",
    "\n",
    "I = imread(\"burns.jpeg\")\n",
    "\n",
    "plt.imshow(I);"
   ]
  },
  {
   "cell_type": "code",
   "execution_count": null,
   "metadata": {},
   "outputs": [],
   "source": [
    "# get the type and shape of the image\n",
    "\n"
   ]
  },
  {
   "cell_type": "code",
   "execution_count": null,
   "metadata": {},
   "outputs": [],
   "source": [
    "# Let's reverse the red and blue channels\n",
    "\n",
    "r_channel = I[:, :, 0]\n",
    "g_channel = ...\n",
    "b_channel = ...\n",
    "\n",
    "# create new image where color channels will be swapped\n",
    "rev_rb = np.zeros(I.shape)\n",
    "print(rev_rb.shape)\n",
    "\n",
    "# swap channels\n",
    "rev_rb[:, :, 0] = b_channel\n",
    "rev_rb[:, :, 1] = g_channel\n",
    "rev_rb[:, :, 2] = r_channel\n",
    "\n",
    "# convert to ints\n",
    "print(rev_rb.dtype)\n",
    "rev_rb = rev_rb.astype(\"int\")\n",
    "\n",
    "# show the image\n",
    "plt.imshow(rev_rb);"
   ]
  },
  {
   "cell_type": "code",
   "execution_count": null,
   "metadata": {},
   "outputs": [],
   "source": [
    "# To create a grayscale image - use the average value in all three r, g, b channels\n",
    "\n",
    "\n",
    "\n"
   ]
  },
  {
   "cell_type": "code",
   "execution_count": null,
   "metadata": {},
   "outputs": [],
   "source": [
    "# Image masking - make all drak pixels even darker (set to a value of 0)\n",
    "\n",
    "darken = I.copy()\n",
    "darken_mask = darken < 128\n",
    "print(darken_mask.shape)\n",
    "\n",
    "darken[darken_mask] = 0\n",
    "plt.imshow(darken);"
   ]
  },
  {
   "cell_type": "markdown",
   "metadata": {},
   "source": [
    "## Pandas \n",
    "\n",
    "pandas Series are: 0ne-dimensional ndarray with axis labels\n",
    "\n",
    "pands DataFrame are: Table data\n",
    "\n",
    "Let's look at the egg and wheat price data...\n"
   ]
  },
  {
   "cell_type": "code",
   "execution_count": null,
   "metadata": {},
   "outputs": [],
   "source": [
    "YData.download.download_data(\"monthly_egg_prices.csv\");\n",
    "YData.download.download_data(\"dow.csv\");"
   ]
  },
  {
   "cell_type": "code",
   "execution_count": null,
   "metadata": {},
   "outputs": [],
   "source": [
    "import pandas as pd\n",
    "\n",
    "# reading in a series by parsing the dates, and using .squeeze() to conver to a Series\n",
    "egg_prices_series = pd.read_csv(\"monthly_egg_prices.csv\", parse_dates=True, date_format=\"%m/%d/%y\", index_col=\"DATE\").squeeze()\n",
    "\n",
    "\n",
    "# print the type\n",
    "\n",
    "\n",
    "# print the shape\n",
    "\n",
    "\n",
    "# print the series\n"
   ]
  },
  {
   "cell_type": "code",
   "execution_count": null,
   "metadata": {},
   "outputs": [],
   "source": [
    "# get a value from the Series by an Index name using .loc\n",
    "\n"
   ]
  },
  {
   "cell_type": "code",
   "execution_count": null,
   "metadata": {},
   "outputs": [],
   "source": [
    "# get a value from the Series by index number using .iloc\n",
    "\n"
   ]
  },
  {
   "cell_type": "code",
   "execution_count": null,
   "metadata": {},
   "outputs": [],
   "source": [
    "# use the .filter() method to get data from dates that contain \"2023\"\n",
    "\n",
    "\n",
    "# print the length \n",
    "\n",
    "\n"
   ]
  },
  {
   "cell_type": "code",
   "execution_count": null,
   "metadata": {},
   "outputs": [],
   "source": [
    "# turn the index back into a column using .reset_index()\n",
    "\n",
    "\n",
    "# get the type\n",
    "\n",
    "\n",
    "# print the values\n",
    "\n"
   ]
  },
  {
   "cell_type": "markdown",
   "metadata": {},
   "source": [
    "## DataFrames!\n",
    "\n",
    "The ability to manipulate data in tables is one of the most useful skills in Data Science. \n",
    "\n",
    "Pandas is the most popular package in Python for manipulating data tables so we will use this package for manipulating tables in this class. The syntax for Pandas can be a little tricky, so try to be patient if you run into errors, and as always, there should be plenty of help available at office hours and on Ed. \n",
    "\n",
    "As an example, let's look at data on the closing price of the [Dow Jones Industrial Average](https://www.marketwatch.com/investing/index/djia) which is an index of the prices of the 30 largest corporations in the US.\n",
    "\n",
    "The code below loads the DOW data into a Pandas DataFrame and displays the first 5 rows using the `head()` method. \n"
   ]
  },
  {
   "cell_type": "code",
   "execution_count": null,
   "metadata": {},
   "outputs": [],
   "source": [
    "dow = pd.read_csv(\"dow.csv\", parse_dates=True)  # parsing the dates didn't work\n",
    "\n",
    "dow.head()"
   ]
  },
  {
   "cell_type": "code",
   "execution_count": null,
   "metadata": {},
   "outputs": [],
   "source": [
    "# The head() method returns the first 5 rows. \n",
    "# Let's use the tail() method to get the last 5 rows.\n",
    "# From looking at the output, can you tell what year the data goes back until? \n",
    "\n"
   ]
  },
  {
   "cell_type": "code",
   "execution_count": null,
   "metadata": {},
   "outputs": [],
   "source": [
    "# get the number of rows and columns in a DataFrame using the shape property\n",
    "\n"
   ]
  },
  {
   "cell_type": "code",
   "execution_count": null,
   "metadata": {},
   "outputs": [],
   "source": [
    "# get the types of all the columns using .dtypes\n",
    "\n"
   ]
  },
  {
   "cell_type": "code",
   "execution_count": null,
   "metadata": {},
   "outputs": [],
   "source": [
    "# get the names of all the columns using .columns\n",
    "\n",
    "\n",
    "# we can convert these names to an numpy array using the .to_numpy() method\n",
    "\n"
   ]
  },
  {
   "cell_type": "code",
   "execution_count": null,
   "metadata": {},
   "outputs": [],
   "source": [
    "# get more info on the data frame using the .info() method\n",
    "\n"
   ]
  },
  {
   "cell_type": "code",
   "execution_count": null,
   "metadata": {},
   "outputs": [],
   "source": [
    "# get descriptive statistics on DataFrame using the .describe() method\n",
    "\n"
   ]
  },
  {
   "cell_type": "markdown",
   "metadata": {},
   "source": [
    "More on pandas DataFrames next class!"
   ]
  }
 ],
 "metadata": {
  "anaconda-cloud": {},
  "kernelspec": {
   "display_name": "Python 3 (ipykernel)",
   "language": "python",
   "name": "python3"
  },
  "language_info": {
   "codemirror_mode": {
    "name": "ipython",
    "version": 3
   },
   "file_extension": ".py",
   "mimetype": "text/x-python",
   "name": "python",
   "nbconvert_exporter": "python",
   "pygments_lexer": "ipython3",
   "version": "3.11.7"
  }
 },
 "nbformat": 4,
 "nbformat_minor": 4
}
