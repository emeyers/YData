{
 "cells": [
  {
   "cell_type": "markdown",
   "metadata": {},
   "source": [
    "# Class 6: Array computations\n",
    "\n",
    "In this notebook we explore computations on arrays of data. "
   ]
  },
  {
   "cell_type": "code",
   "execution_count": 2,
   "metadata": {},
   "outputs": [],
   "source": [
    "import YData\n",
    "\n",
    "# YData.download.download_class_code(6)   # get class 6 code    \n",
    "\n",
    "# YData.download.download_class_code(6, True) # get the code with the answers "
   ]
  },
  {
   "cell_type": "markdown",
   "metadata": {},
   "source": [
    "There are also similar functions to download the homework:"
   ]
  },
  {
   "cell_type": "code",
   "execution_count": 3,
   "metadata": {},
   "outputs": [
    {
     "name": "stdout",
     "output_type": "stream",
     "text": [
      "The file `homework_03.ipynb` already exists.\n",
      "If you would like to download a new copy of the file, please rename the existing copy of the file.\n"
     ]
    }
   ],
   "source": [
    "YData.download_homework(3)  # downloads the third homework if you have not done so already"
   ]
  },
  {
   "cell_type": "markdown",
   "metadata": {},
   "source": [
    "If you are using Google Colabs, you should install the YData package and mount Google Drive by uncommenting and running the code below."
   ]
  },
  {
   "cell_type": "code",
   "execution_count": 3,
   "metadata": {},
   "outputs": [],
   "source": [
    "# !pip install https://github.com/emeyers/YData_package/tarball/master\n",
    "# from google.colab import drive\n",
    "# drive.mount('/content/drive')"
   ]
  },
  {
   "cell_type": "markdown",
   "metadata": {},
   "source": [
    "## 0. Warm-up exercises: NBA salaries\n",
    "\n",
    "Let's do some warm-up exercises by looking at statistics of basketball players in the NBA! The data we will analyze contains infomration about each player including their salary from the 2022-2023 season listed in millions of dollars. This table can be found online: https://www.kaggle.com/datasets/jamiewelsh2/nba-player-salaries-2022-23-season\n",
    "\n",
    "We will load the data as a \"pandas DataFrame\" which is a data structure we will discuss more in a couple of weeks. We will then convert the data to lists to explore it further. The lists we are creating are:\n",
    "\n",
    "- `name_list`: A list of the basketball players' names\n",
    "- `salary_list`: A list of salaries\n",
    "- `position_list`: A list of the positions each player plays\n",
    "- `team_list`: A list of which team each player is on\n",
    "- `points_per_game_list`: A list showing the average number of points each player scored per game\n"
   ]
  },
  {
   "cell_type": "code",
   "execution_count": 82,
   "metadata": {},
   "outputs": [
    {
     "name": "stdout",
     "output_type": "stream",
     "text": [
      "The file `nba_salaries_2022_23_all.csv` already exists.\n",
      "If you would like to download a new copy of the file, please rename the existing copy of the file.\n"
     ]
    },
    {
     "data": {
      "text/html": [
       "<div>\n",
       "<style scoped>\n",
       "    .dataframe tbody tr th:only-of-type {\n",
       "        vertical-align: middle;\n",
       "    }\n",
       "\n",
       "    .dataframe tbody tr th {\n",
       "        vertical-align: top;\n",
       "    }\n",
       "\n",
       "    .dataframe thead th {\n",
       "        text-align: right;\n",
       "    }\n",
       "</style>\n",
       "<table border=\"1\" class=\"dataframe\">\n",
       "  <thead>\n",
       "    <tr style=\"text-align: right;\">\n",
       "      <th></th>\n",
       "      <th>Player Name</th>\n",
       "      <th>Salary</th>\n",
       "      <th>Position</th>\n",
       "      <th>Team</th>\n",
       "      <th>PTS</th>\n",
       "    </tr>\n",
       "  </thead>\n",
       "  <tbody>\n",
       "    <tr>\n",
       "      <th>0</th>\n",
       "      <td>Stephen Curry</td>\n",
       "      <td>48070014</td>\n",
       "      <td>PG</td>\n",
       "      <td>GSW</td>\n",
       "      <td>29.4</td>\n",
       "    </tr>\n",
       "    <tr>\n",
       "      <th>1</th>\n",
       "      <td>John Wall</td>\n",
       "      <td>47345760</td>\n",
       "      <td>PG</td>\n",
       "      <td>LAC</td>\n",
       "      <td>11.4</td>\n",
       "    </tr>\n",
       "    <tr>\n",
       "      <th>2</th>\n",
       "      <td>Russell Westbrook</td>\n",
       "      <td>47080179</td>\n",
       "      <td>PG</td>\n",
       "      <td>LAL/LAC</td>\n",
       "      <td>15.9</td>\n",
       "    </tr>\n",
       "    <tr>\n",
       "      <th>3</th>\n",
       "      <td>LeBron James</td>\n",
       "      <td>44474988</td>\n",
       "      <td>PF</td>\n",
       "      <td>LAL</td>\n",
       "      <td>28.9</td>\n",
       "    </tr>\n",
       "    <tr>\n",
       "      <th>4</th>\n",
       "      <td>Kevin Durant</td>\n",
       "      <td>44119845</td>\n",
       "      <td>PF</td>\n",
       "      <td>BRK/PHO</td>\n",
       "      <td>29.1</td>\n",
       "    </tr>\n",
       "    <tr>\n",
       "      <th>5</th>\n",
       "      <td>Bradley Beal</td>\n",
       "      <td>43279250</td>\n",
       "      <td>SG</td>\n",
       "      <td>WAS</td>\n",
       "      <td>23.2</td>\n",
       "    </tr>\n",
       "    <tr>\n",
       "      <th>6</th>\n",
       "      <td>Kawhi Leonard</td>\n",
       "      <td>42492492</td>\n",
       "      <td>SF</td>\n",
       "      <td>LAC</td>\n",
       "      <td>23.8</td>\n",
       "    </tr>\n",
       "    <tr>\n",
       "      <th>7</th>\n",
       "      <td>Paul George</td>\n",
       "      <td>42492492</td>\n",
       "      <td>SF</td>\n",
       "      <td>LAC</td>\n",
       "      <td>23.8</td>\n",
       "    </tr>\n",
       "    <tr>\n",
       "      <th>8</th>\n",
       "      <td>Giannis Antetokounmpo</td>\n",
       "      <td>42492492</td>\n",
       "      <td>PF</td>\n",
       "      <td>MIL</td>\n",
       "      <td>31.1</td>\n",
       "    </tr>\n",
       "    <tr>\n",
       "      <th>9</th>\n",
       "      <td>Damian Lillard</td>\n",
       "      <td>42492492</td>\n",
       "      <td>PG</td>\n",
       "      <td>POR</td>\n",
       "      <td>32.2</td>\n",
       "    </tr>\n",
       "  </tbody>\n",
       "</table>\n",
       "</div>"
      ],
      "text/plain": [
       "             Player Name    Salary Position     Team   PTS\n",
       "0          Stephen Curry  48070014       PG      GSW  29.4\n",
       "1              John Wall  47345760       PG      LAC  11.4\n",
       "2      Russell Westbrook  47080179       PG  LAL/LAC  15.9\n",
       "3           LeBron James  44474988       PF      LAL  28.9\n",
       "4           Kevin Durant  44119845       PF  BRK/PHO  29.1\n",
       "5           Bradley Beal  43279250       SG      WAS  23.2\n",
       "6          Kawhi Leonard  42492492       SF      LAC  23.8\n",
       "7            Paul George  42492492       SF      LAC  23.8\n",
       "8  Giannis Antetokounmpo  42492492       PF      MIL  31.1\n",
       "9         Damian Lillard  42492492       PG      POR  32.2"
      ]
     },
     "execution_count": 82,
     "metadata": {},
     "output_type": "execute_result"
    }
   ],
   "source": [
    "# load the data and display the first 6 rows\n",
    "\n",
    "import YData\n",
    "import pandas as pd\n",
    "\n",
    "YData.download_data(\"nba_salaries_2022_23_all.csv\")\n",
    "nba = pd.read_csv(\"nba_salaries_2022_23_all.csv\")  # load in the data\n",
    "\n",
    "nba[[\"Player Name\", \"Salary\", \"Position\", \"Team\", \"PTS\"]].head()  # show the first 6 rows\n"
   ]
  },
  {
   "cell_type": "code",
   "execution_count": 79,
   "metadata": {},
   "outputs": [],
   "source": [
    "# extract the salaries and the player positions as lists\n",
    "\n",
    "name_list = nba[\"Player Name\"].to_list()\n",
    "salary_list = nba[\"Salary\"].to_list()\n",
    "position_list = nba[\"Position\"].to_list()\n",
    "team_list = nba[\"Team\"].to_list()\n",
    "points_per_game_list = nba[\"PTS\"].to_list()\n"
   ]
  },
  {
   "cell_type": "markdown",
   "metadata": {},
   "source": [
    "### Warm-up exercise 1: Categorical analyses\n",
    "\n",
    "Can you do the following:\n",
    "- Calculate the proportion of players who play on the Boston Celtics (\"BOS\")?\n",
    "\n",
    "If you finish the other warm-up exercises, you can also try creating a bar plot showing the number of players on the Boston Celtics (\"BOS\"), New York Knicks (\"NYK\") and Golden State Warriors (\"GSW\")."
   ]
  },
  {
   "cell_type": "code",
   "execution_count": 22,
   "metadata": {},
   "outputs": [
    {
     "data": {
      "text/plain": [
       "0.034261241970021415"
      ]
     },
     "execution_count": 22,
     "metadata": {},
     "output_type": "execute_result"
    }
   ],
   "source": [
    "# Proportion of players on the Celtics (\"BOS\")\n",
    "\n"
   ]
  },
  {
   "cell_type": "code",
   "execution_count": 1,
   "metadata": {},
   "outputs": [],
   "source": [
    "# If you finish the other warm-up exercies, you can create a bar plot showing the number of players on \"BOS\", \"NYK\", and \"GSW\"\n",
    "\n",
    "import matplotlib.pyplot as plt\n",
    "%matplotlib inline\n",
    "\n",
    "# Create a list of counts of players on the three teams\n",
    "\n",
    "\n",
    "\n",
    "\n",
    "# Create the team names\n",
    "\n",
    "\n",
    "\n",
    "\n",
    "# Create a bar chart of how many players are on each team. Be sure to label your axes!\n",
    "\n",
    "\n",
    "\n"
   ]
  },
  {
   "cell_type": "markdown",
   "metadata": {},
   "source": [
    "### Warm-up exercise 2: One quantitative variable analyses\n",
    "\n",
    "Can you do the following:\n",
    "\n",
    "1. Create a histogram of the player salaries\n",
    "2. Calculate the mean salary, the median salary, and the standard deviation of salaries\n",
    "3. Calcualte the z-score for the first player's salary (i.e., Stephen Curry's salary)\n"
   ]
  },
  {
   "cell_type": "code",
   "execution_count": 2,
   "metadata": {},
   "outputs": [],
   "source": [
    "# Plot a histogram of NBA salaries\n",
    "\n",
    "\n",
    "\n"
   ]
  },
  {
   "cell_type": "code",
   "execution_count": 3,
   "metadata": {},
   "outputs": [],
   "source": [
    "import statistics\n",
    "\n",
    "# mean salary\n",
    "\n",
    "\n",
    "\n",
    "\n",
    "# median salary\n",
    "\n",
    "\n",
    "\n",
    "\n",
    "# standard deviation of salaries\n",
    "\n",
    "\n",
    "\n"
   ]
  },
  {
   "cell_type": "code",
   "execution_count": 4,
   "metadata": {},
   "outputs": [],
   "source": [
    "# z-score for the first player's salary (i.e., z-score for Stephen Curry's salary)\n",
    "\n",
    "\n",
    "\n"
   ]
  },
  {
   "cell_type": "markdown",
   "metadata": {},
   "source": [
    "### Warm-up exercise 3: Two-quantitative variables\n",
    "\n",
    "Can you do the following:\n",
    "\n",
    "1. Create a scatter plot of salary as a function of the points scored per game\n",
    "2. Guess what you believe correlation is between salary and points per game, and then calculate the correlation to see if your guess was close.\n"
   ]
  },
  {
   "cell_type": "code",
   "execution_count": null,
   "metadata": {},
   "outputs": [],
   "source": [
    "\n",
    "\n",
    "\n",
    "\n"
   ]
  },
  {
   "cell_type": "code",
   "execution_count": 5,
   "metadata": {},
   "outputs": [],
   "source": [
    "# guess the correlation and then calculate it\n",
    "\n",
    "\n"
   ]
  },
  {
   "cell_type": "markdown",
   "metadata": {},
   "source": [
    "## 1. Creating Arrays\n",
    "\n",
    "Often we want to process data that is all of the same type. For example, we might want to do processing on a data set of numbers (e.g., if we were just analyzing salary data). \n",
    "\n",
    "When we have data that is all of the same type, there are faster ways to process data than using a list. In Python, the `numpy` package offers ways to store and process data that is all of the same type using a data structure called a `ndarray`. There are also functions that operate on `ndarrays` that can do computations very efficiently. \n",
    "\n",
    "Let's explore this now!"
   ]
  },
  {
   "cell_type": "code",
   "execution_count": 39,
   "metadata": {},
   "outputs": [],
   "source": [
    "# import the numpy package\n",
    "import numpy as np\n"
   ]
  },
  {
   "cell_type": "code",
   "execution_count": 6,
   "metadata": {},
   "outputs": [],
   "source": [
    "# create an ndarry of numbers\n",
    "\n",
    "\n"
   ]
  },
  {
   "cell_type": "code",
   "execution_count": 8,
   "metadata": {},
   "outputs": [],
   "source": [
    "# we can get the type of elements in an array by accessing the dtype property\n",
    "\n"
   ]
  },
  {
   "cell_type": "code",
   "execution_count": 9,
   "metadata": {},
   "outputs": [],
   "source": [
    "# get the size of the array\n",
    "\n"
   ]
  },
  {
   "cell_type": "code",
   "execution_count": 10,
   "metadata": {},
   "outputs": [],
   "source": [
    "# create an array of strings\n",
    "\n"
   ]
  },
  {
   "cell_type": "code",
   "execution_count": 11,
   "metadata": {},
   "outputs": [],
   "source": [
    "# get the type in the string array\n",
    "\n"
   ]
  },
  {
   "cell_type": "code",
   "execution_count": 12,
   "metadata": {},
   "outputs": [],
   "source": [
    "# create a boolean array\n",
    "\n"
   ]
  },
  {
   "cell_type": "code",
   "execution_count": 13,
   "metadata": {},
   "outputs": [],
   "source": [
    "# get the type in the boolean array\n",
    "\n"
   ]
  },
  {
   "cell_type": "code",
   "execution_count": 14,
   "metadata": {},
   "outputs": [],
   "source": [
    "# what happens if we make an array from a list of mixed values\n",
    "\n"
   ]
  },
  {
   "cell_type": "code",
   "execution_count": 15,
   "metadata": {},
   "outputs": [],
   "source": [
    "# get the dtype \n",
    "\n"
   ]
  },
  {
   "cell_type": "code",
   "execution_count": 17,
   "metadata": {},
   "outputs": [],
   "source": [
    "# get the 0th element of the mixed_array\n",
    "\n"
   ]
  },
  {
   "cell_type": "code",
   "execution_count": 18,
   "metadata": {},
   "outputs": [],
   "source": [
    "# get the type of the 0th element\n",
    "\n"
   ]
  },
  {
   "cell_type": "code",
   "execution_count": 19,
   "metadata": {},
   "outputs": [],
   "source": [
    "# is the 0th element equal to the integer 1? \n",
    "\n"
   ]
  },
  {
   "cell_type": "code",
   "execution_count": 20,
   "metadata": {},
   "outputs": [],
   "source": [
    "# is the 0th element equal to the string '1'? \n",
    "\n"
   ]
  },
  {
   "cell_type": "code",
   "execution_count": 16,
   "metadata": {},
   "outputs": [],
   "source": [
    "# create sequential numbers 1 to 9\n",
    "\n",
    "\n"
   ]
  },
  {
   "cell_type": "markdown",
   "metadata": {},
   "source": [
    "## 2. NumPy functions on numerical arrays\n",
    "\n",
    "The NumPy package has a number of functions that operate very efficiently on numerical ndarrays.\n",
    "\n",
    "Let's explore these functions by looking at the price of gas!\n",
    "\n",
    "The data comes from: https://www.eia.gov/opendata/v1/qb.php?category=240692&sdid=PET.EMM_EPM0_PTE_NUS_DPG.W"
   ]
  },
  {
   "cell_type": "code",
   "execution_count": 41,
   "metadata": {},
   "outputs": [
    {
     "name": "stdout",
     "output_type": "stream",
     "text": [
      "The file `US_Gasoline_Prices_Weekly.csv` already exists.\n",
      "If you would like to download a new copy of the file, please rename the existing copy of the file.\n"
     ]
    }
   ],
   "source": [
    "# If loading the data using pandas_datareader.fred, you can uncomment this code and load this data\n",
    "\n",
    "##  Download the data - code based on a fixed .csv file\n",
    "#YData.download.download_data('US_Gasoline_Prices_Weekly.csv')\n",
    "#import pandas as pd\n",
    "#gas_data = pd.read_csv(\"US_Gasoline_Prices_Weekly.csv\", parse_dates=[0])  # load in the data\n",
    "#gas_data.head()\n",
    "#gas_data_2023 = gas_data[(gas_data['Week'] > '2023-01-01') & (gas_data['Week'] < '2024-01-01')] \n",
    "#gas_prices_2023 = gas_data_2023[\"DollarsPerGallon\"].values\n",
    "#gas_dates_2023 = gas_data_2023[\"Week\"].values"
   ]
  },
  {
   "cell_type": "code",
   "execution_count": 22,
   "metadata": {},
   "outputs": [
    {
     "data": {
      "text/html": [
       "<div>\n",
       "<style scoped>\n",
       "    .dataframe tbody tr th:only-of-type {\n",
       "        vertical-align: middle;\n",
       "    }\n",
       "\n",
       "    .dataframe tbody tr th {\n",
       "        vertical-align: top;\n",
       "    }\n",
       "\n",
       "    .dataframe thead th {\n",
       "        text-align: right;\n",
       "    }\n",
       "</style>\n",
       "<table border=\"1\" class=\"dataframe\">\n",
       "  <thead>\n",
       "    <tr style=\"text-align: right;\">\n",
       "      <th></th>\n",
       "      <th>DATE</th>\n",
       "      <th>GASREGW</th>\n",
       "    </tr>\n",
       "  </thead>\n",
       "  <tbody>\n",
       "    <tr>\n",
       "      <th>187</th>\n",
       "      <td>2023-01-02</td>\n",
       "      <td>3.223</td>\n",
       "    </tr>\n",
       "    <tr>\n",
       "      <th>188</th>\n",
       "      <td>2023-01-09</td>\n",
       "      <td>3.259</td>\n",
       "    </tr>\n",
       "    <tr>\n",
       "      <th>189</th>\n",
       "      <td>2023-01-16</td>\n",
       "      <td>3.310</td>\n",
       "    </tr>\n",
       "    <tr>\n",
       "      <th>190</th>\n",
       "      <td>2023-01-23</td>\n",
       "      <td>3.415</td>\n",
       "    </tr>\n",
       "    <tr>\n",
       "      <th>191</th>\n",
       "      <td>2023-01-30</td>\n",
       "      <td>3.489</td>\n",
       "    </tr>\n",
       "  </tbody>\n",
       "</table>\n",
       "</div>"
      ],
      "text/plain": [
       "          DATE  GASREGW\n",
       "187 2023-01-02    3.223\n",
       "188 2023-01-09    3.259\n",
       "189 2023-01-16    3.310\n",
       "190 2023-01-23    3.415\n",
       "191 2023-01-30    3.489"
      ]
     },
     "execution_count": 22,
     "metadata": {},
     "output_type": "execute_result"
    }
   ],
   "source": [
    "# Read in the price of gas directly from the FRED\n",
    "\n",
    "from pandas_datareader.fred import FredReader\n",
    "\n",
    "gas_data = FredReader(\"GASREGW\", start='2019-06-01', end='2024-09-01').read().reset_index() \n",
    "\n",
    "gas_data_2023 = gas_data[(gas_data['DATE'] > '2023-01-01') & (gas_data['DATE'] < '2024-01-01')] \n",
    "\n",
    "gas_data_2023.head()\n"
   ]
  },
  {
   "cell_type": "code",
   "execution_count": 23,
   "metadata": {},
   "outputs": [],
   "source": [
    "# Get an ndarray of the gas prices from each week of 2023\n",
    "# You can ignore this code for now...\n",
    "\n",
    "gas_prices_2023 = gas_data_2023[\"GASREGW\"].values\n",
    "gas_dates_2023 = gas_data_2023[\"DATE\"].values\n"
   ]
  },
  {
   "cell_type": "code",
   "execution_count": 24,
   "metadata": {},
   "outputs": [],
   "source": [
    "# prices for all 52 weeks in 2022\n",
    "\n",
    "\n"
   ]
  },
  {
   "cell_type": "code",
   "execution_count": 25,
   "metadata": {},
   "outputs": [],
   "source": [
    "# One dollar is currently 141 Yen. What has been the price of a gallon of gas cost in Yen? \n",
    "# What have gas prices been in Euros? \n",
    "\n"
   ]
  },
  {
   "cell_type": "code",
   "execution_count": 26,
   "metadata": {},
   "outputs": [],
   "source": [
    "# what if there was a constant tax of $2 on each gallon purchased? \n",
    "\n"
   ]
  },
  {
   "cell_type": "code",
   "execution_count": 27,
   "metadata": {},
   "outputs": [],
   "source": [
    "# basic functions of: min, max, etc.\n",
    "\n"
   ]
  },
  {
   "cell_type": "code",
   "execution_count": 28,
   "metadata": {},
   "outputs": [],
   "source": [
    "# if you bought one gallon each week, what would you pay over the whole year? \n",
    "\n"
   ]
  },
  {
   "cell_type": "code",
   "execution_count": 29,
   "metadata": {},
   "outputs": [],
   "source": [
    "# what do you pay on average? \n",
    "\n",
    "\n"
   ]
  },
  {
   "cell_type": "code",
   "execution_count": 30,
   "metadata": {},
   "outputs": [],
   "source": [
    "# If you bought one gallon each week, how much would you pay at the end of each of the weeks of the year? \n",
    "\n"
   ]
  },
  {
   "cell_type": "code",
   "execution_count": 31,
   "metadata": {},
   "outputs": [],
   "source": [
    "# How much does the gas price go up and down each week? \n",
    "\n"
   ]
  },
  {
   "cell_type": "code",
   "execution_count": 32,
   "metadata": {},
   "outputs": [],
   "source": [
    "# plot the gas prices\n",
    "\n"
   ]
  },
  {
   "cell_type": "code",
   "execution_count": 33,
   "metadata": {},
   "outputs": [],
   "source": [
    "# plot the gas prices better!\n",
    "\n",
    "\n",
    "\n"
   ]
  },
  {
   "cell_type": "markdown",
   "metadata": {},
   "source": [
    "<br>\n",
    "<br>\n",
    "<br>\n",
    "<p>\n",
    "<center><img src=https://cdn.quotesgram.com/img/69/59/1803591020-high-gas-prices.jpg></center>"
   ]
  },
  {
   "cell_type": "markdown",
   "metadata": {},
   "source": [
    "## 3. Boolean arrays\n",
    "\n",
    "We can easily compare all values in an ndarray to a particular value. The result will return an ndarray of Booleans. \n",
    "\n",
    "Since Boolean `True` values are treated as 1's, and Boolean `False` values are treated as 0's, this makes it easy to see how many values in an array meet particular conditions. "
   ]
  },
  {
   "cell_type": "code",
   "execution_count": 34,
   "metadata": {},
   "outputs": [],
   "source": [
    "# Test all values in an array that are less than 5\n",
    "\n"
   ]
  },
  {
   "cell_type": "code",
   "execution_count": 35,
   "metadata": {},
   "outputs": [],
   "source": [
    "# How many values are less than 5?\n",
    "\n"
   ]
  },
  {
   "cell_type": "code",
   "execution_count": 36,
   "metadata": {},
   "outputs": [],
   "source": [
    "# How many (and what proportion) of weeks in 2023 were gas prices were below $3.50?\n",
    "\n"
   ]
  },
  {
   "cell_type": "markdown",
   "metadata": {},
   "source": [
    "### Example: What proportion of movies passed the Bechdel test revisited \n",
    "\n",
    "Let's calculate (again) the proportion of movies that passed the Bechdel test, but this time using numpy array computations. \n",
    "\n",
    "The code below loads the Bechdel data, and we will focus on the `bechdel` list, which is a list of strings saying whether movies passed ('PASS') or failed ('FAIL') the Bechdel test.\n",
    "\n"
   ]
  },
  {
   "cell_type": "code",
   "execution_count": 59,
   "metadata": {},
   "outputs": [
    {
     "data": {
      "text/plain": [
       "['FAIL', 'PASS', 'FAIL', 'FAIL', 'FAIL']"
      ]
     },
     "execution_count": 59,
     "metadata": {},
     "output_type": "execute_result"
    }
   ],
   "source": [
    "import YData\n",
    "import pandas as pd\n",
    "\n",
    "YData.download_data(\"movies.csv\")\n",
    "\n",
    "movies = pd.read_csv(\"movies.csv\")\n",
    "col_names_to_keep = ['year', 'imdb', 'title', 'clean_test', 'binary', 'budget',\n",
    "       'domgross', 'budget_2013', 'domgross_2013', 'decade_code', 'imdb_id',\n",
    "       'rated', 'imdb_rating', 'runtime',  'imdb_votes']\n",
    "movies =   movies[col_names_to_keep]\n",
    "\n",
    "movies.dropna(axis = 0, how = 'any', inplace = True, subset=col_names_to_keep[0:9])\n",
    "\n",
    "\n",
    "# get lists of data for our data analysis\n",
    "title = movies[\"title\"].to_list()\n",
    "bechdel = movies[\"binary\"].to_list()\n",
    "bechdel_reason = movies[\"clean_test\"].to_list()\n",
    "\n",
    "domgross_2013 = movies[\"domgross_2013\"].to_list()\n",
    "budget_2013 = movies[\"budget_2013\"].to_list() \n",
    "year = movies[\"year\"].to_list()\n",
    "\n",
    "\n",
    "bechdel[0:5]\n"
   ]
  },
  {
   "cell_type": "code",
   "execution_count": 46,
   "metadata": {},
   "outputs": [],
   "source": [
    "\n",
    "# convert the list to an ndarray\n",
    "\n",
    "\n",
    "\n",
    "\n",
    "# create a Boolean array of that is True for movies that passed the Bechdel test\n",
    "\n",
    "\n",
    "\n",
    "\n",
    "# calculate the proportion of movies that passed the Bechdel test\n",
    "\n",
    "\n",
    "\n",
    "# alternatively, we can use the np.mean() function \n",
    "\n"
   ]
  },
  {
   "cell_type": "markdown",
   "metadata": {},
   "source": [
    "## 4. Boolean subsetting/indexing/masking\n",
    "\n",
    "We can also use Boolean arrays to return values in another array. This is referred to as \"Boolean Subsetting\", Boolean masking\" or \"Boolean indexing\"\n"
   ]
  },
  {
   "cell_type": "code",
   "execution_count": 41,
   "metadata": {},
   "outputs": [],
   "source": [
    "# initial array\n",
    "my_array = np.array([12, 4, 6, 3, 4, 3, 7, 4])\n",
    "\n",
    "\n",
    "# create Boolean array for values less than 5\n",
    "\n",
    "\n",
    "\n",
    "# get values of my_array that are less than 5\n",
    "\n",
    "\n",
    "\n"
   ]
  },
  {
   "cell_type": "markdown",
   "metadata": {},
   "source": [
    "### Example: calculate the average revenue for movies that passed the Bechdel test "
   ]
  },
  {
   "cell_type": "code",
   "execution_count": 66,
   "metadata": {},
   "outputs": [
    {
     "name": "stdout",
     "output_type": "stream",
     "text": [
      "794\n"
     ]
    },
    {
     "data": {
      "text/plain": [
       "79591918.51259446"
      ]
     },
     "execution_count": 66,
     "metadata": {},
     "output_type": "execute_result"
    }
   ],
   "source": [
    "# Calculate the average revenue for movies that passed the Bechdel test \n",
    "\n",
    "# create an ndarray of revenues\n",
    "\n",
    "\n",
    "\n",
    "# use the boolean mask to extract movies the pass the Bechdel test\n",
    "\n",
    "\n",
    "\n",
    "# get the average revenue of movies that passed the Bechdel test\n",
    "\n",
    "\n"
   ]
  },
  {
   "attachments": {},
   "cell_type": "markdown",
   "metadata": {},
   "source": [
    "## 5. Percentiles\n",
    "\n",
    "The Pth percentile is the value of a quantitative variable which is greater than P percent of the data. \n",
    "\n",
    "We can calculate percentiles using the numpy function `np.percentile()`\n",
    "\n",
    "Let's calculate the 25th, 50th, and 75th percentile for the Bechdel movie revenue data.\n"
   ]
  },
  {
   "cell_type": "code",
   "execution_count": 42,
   "metadata": {},
   "outputs": [],
   "source": [
    "## Get the 25th, 50th and 75th percentile of movie revenues\n",
    "\n",
    "\n",
    "\n"
   ]
  },
  {
   "cell_type": "markdown",
   "metadata": {},
   "source": [
    "Question: What is another way to calculate the 50th percentile? \n"
   ]
  },
  {
   "cell_type": "code",
   "execution_count": null,
   "metadata": {},
   "outputs": [],
   "source": [
    "\n",
    "\n"
   ]
  },
  {
   "cell_type": "markdown",
   "metadata": {},
   "source": [
    "Other commonly calculated statistics include:\n",
    "\n",
    "- Five Number Summary = (minimum, Q1, median, Q3, maximum)\n",
    "- Range = maximum – minimum\n",
    "- Interquartile range (IQR) = Q3 – Q1\n",
    "\n",
    "Where:\n",
    "- Q1 = 25th percentile\n",
    "- Q3 = 75th percentile\n",
    "\n",
    "Let's calculate these for the Bechdel revenue data...\n"
   ]
  },
  {
   "cell_type": "code",
   "execution_count": 95,
   "metadata": {},
   "outputs": [
    {
     "data": {
      "text/plain": [
       "1771681891.0"
      ]
     },
     "execution_count": 95,
     "metadata": {},
     "output_type": "execute_result"
    }
   ],
   "source": [
    "# Range\n",
    "\n"
   ]
  },
  {
   "cell_type": "code",
   "execution_count": 43,
   "metadata": {},
   "outputs": [],
   "source": [
    "# Interquartile range (IQR)\n",
    "\n",
    "\n",
    "\n",
    "\n",
    "\n",
    "# Alternatively\n",
    "\n",
    "\n"
   ]
  },
  {
   "cell_type": "code",
   "execution_count": 44,
   "metadata": {},
   "outputs": [],
   "source": [
    "# Five number summary\n",
    "\n",
    "\n",
    "\n",
    "\n",
    "\n",
    "# Alternatively\n",
    "\n",
    "\n",
    "\n"
   ]
  },
  {
   "attachments": {},
   "cell_type": "markdown",
   "metadata": {},
   "source": [
    "## 5. Box plots\n",
    "\n",
    "A box plot is a graphical display of the five-number summary and consists of:\n",
    "\n",
    "   1. Drawing a box from Q1  to Q3   \n",
    "\n",
    "   2. Dividing the box with a line (or dot) drawn at the median\n",
    "\n",
    "   3. Draw a line from each quartile to the most extreme data value that is not and outlier\n",
    "\n",
    "   4. Draw a dot/asterisk for each outlier data point.\n",
    "\n",
    "\n",
    "Create a side-by-side boxplot showing the revenue of movies that passed and failed the Bechdel test\n"
   ]
  },
  {
   "cell_type": "code",
   "execution_count": 45,
   "metadata": {},
   "outputs": [],
   "source": [
    "# get the movies that failed the Bechdel test\n",
    "\n",
    "\n",
    "\n",
    "# create a side-by-side boxplot showing the revenue of movies that passed and failed the Bechdel test\n",
    "\n",
    "\n",
    "\n"
   ]
  }
 ],
 "metadata": {
  "anaconda-cloud": {},
  "kernelspec": {
   "display_name": "Python 3 (ipykernel)",
   "language": "python",
   "name": "python3"
  },
  "language_info": {
   "codemirror_mode": {
    "name": "ipython",
    "version": 3
   },
   "file_extension": ".py",
   "mimetype": "text/x-python",
   "name": "python",
   "nbconvert_exporter": "python",
   "pygments_lexer": "ipython3",
   "version": "3.11.7"
  }
 },
 "nbformat": 4,
 "nbformat_minor": 4
}
