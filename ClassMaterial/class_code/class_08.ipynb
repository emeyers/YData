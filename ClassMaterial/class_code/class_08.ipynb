{
 "cells": [
  {
   "cell_type": "markdown",
   "metadata": {},
   "source": [
    "# Class 8: Series and DataFrames\n",
    "\n",
    "Plan for today:\n",
    "- Review/continuations of functions\n",
    "- pandas Series\n",
    "- pandas DataFrames\n",
    "\n"
   ]
  },
  {
   "cell_type": "markdown",
   "metadata": {},
   "source": [
    "## Notes on the class Jupyter setup\n",
    "\n",
    "If you have the *ydata123_2023e* environment set up correctly, you can get the class code using the code below (which presumably you've already done given that you are seeing this notebook).  "
   ]
  },
  {
   "cell_type": "code",
   "execution_count": 4,
   "metadata": {},
   "outputs": [
    {
     "name": "stdout",
     "output_type": "stream",
     "text": [
      "The file `dow.csv` already exists.\n",
      "If you would like to download a new copy of the file, please rename the existing copy of the file.\n",
      "The file `monthly_egg_prices.csv` already exists.\n",
      "If you would like to download a new copy of the file, please rename the existing copy of the file.\n",
      "The file `monthly_wheat_prices.csv` already exists.\n",
      "If you would like to download a new copy of the file, please rename the existing copy of the file.\n"
     ]
    }
   ],
   "source": [
    "import YData\n",
    "\n",
    "# YData.download.download_class_code(8)   # get class code    \n",
    "\n",
    "# YData.download.download_class_code(8, TRUE) # get the code with the answers \n",
    "\n",
    "YData.download.download_data(\"dow.csv\")\n",
    "YData.download.download_data(\"monthly_egg_prices.csv\")\n",
    "YData.download.download_data(\"monthly_wheat_prices.csv\")\n"
   ]
  },
  {
   "cell_type": "markdown",
   "metadata": {},
   "source": [
    "There are also similar functions to download the homework:"
   ]
  },
  {
   "cell_type": "code",
   "execution_count": 5,
   "metadata": {},
   "outputs": [],
   "source": [
    "YData.download.download_homework(3)  # downloads the second homework "
   ]
  },
  {
   "cell_type": "markdown",
   "metadata": {},
   "source": [
    "If you are using colabs, you should install polars and the YData packages by uncommenting and running the code below."
   ]
  },
  {
   "cell_type": "code",
   "execution_count": 6,
   "metadata": {},
   "outputs": [],
   "source": [
    "# !pip install polars\n",
    "# !pip install https://github.com/emeyers/YData_package/tarball/master"
   ]
  },
  {
   "cell_type": "markdown",
   "metadata": {},
   "source": [
    "If you are using google colabs, you should also uncomment and run the code below to mount the your google drive"
   ]
  },
  {
   "cell_type": "code",
   "execution_count": 7,
   "metadata": {},
   "outputs": [],
   "source": [
    "# from google.colab import drive\n",
    "# drive.mount('/content/drive')"
   ]
  },
  {
   "cell_type": "code",
   "execution_count": 8,
   "metadata": {},
   "outputs": [],
   "source": [
    "import pandas as pd\n",
    "import statistics\n",
    "import numpy as np\n",
    "from datetime import datetime\n",
    "\n",
    "import matplotlib.pyplot as plt\n",
    "%matplotlib inline"
   ]
  },
  {
   "cell_type": "markdown",
   "metadata": {},
   "source": [
    "## Review of functions\n",
    "\n",
    "Let's review writing our own functions!\n"
   ]
  },
  {
   "cell_type": "markdown",
   "metadata": {},
   "source": [
    "Let's start by writing a function `power3(x)` that returns a number taken to the 3rd power."
   ]
  },
  {
   "cell_type": "code",
   "execution_count": 9,
   "metadata": {},
   "outputs": [],
   "source": [
    "def power3(x):\n",
    "    ..."
   ]
  },
  {
   "cell_type": "code",
   "execution_count": 10,
   "metadata": {},
   "outputs": [],
   "source": [
    "# try the function out\n"
   ]
  },
  {
   "cell_type": "markdown",
   "metadata": {},
   "source": [
    "Now let's generalize the function to a function called `power_it(x, k)` that takes x to the kth power;\n",
    "i.e., it computes $x^k$"
   ]
  },
  {
   "cell_type": "code",
   "execution_count": 11,
   "metadata": {},
   "outputs": [],
   "source": [
    "def power_it(x, k):\n",
    "    ..."
   ]
  },
  {
   "cell_type": "code",
   "execution_count": 12,
   "metadata": {},
   "outputs": [],
   "source": [
    "# try the function out\n"
   ]
  },
  {
   "cell_type": "markdown",
   "metadata": {},
   "source": [
    "Let's modify the `power_it()` function so that the default power is k = 2, but so that the user can input any power if a second argument is given. "
   ]
  },
  {
   "cell_type": "code",
   "execution_count": 13,
   "metadata": {},
   "outputs": [],
   "source": [
    "def power_it(x, k = 2):\n",
    "    ...\n",
    "\n",
    "\n",
    "# try the functin out\n",
    "\n",
    "\n"
   ]
  },
  {
   "cell_type": "markdown",
   "metadata": {},
   "source": [
    "### Multiple return values and tuples\n",
    "\n",
    "Sometimes we want write a funciton that can return multiple values. We can do this by returning a \"tuple\". \n",
    "\n",
    "Tuples are a basic data structure in Python that is like a list. However, unlike lists, elements in tuples are \"immutable\" meaning that once we create a tuple, we can not modify the values in the tuple.\n",
    "\n",
    "We create tuples by using values in parentheses separated by commas:\n",
    "\n",
    "`my_tuple = (10, 20, 30)`\n",
    "\n",
    "Let's explore tuples now... \n",
    "\n"
   ]
  },
  {
   "cell_type": "code",
   "execution_count": 14,
   "metadata": {},
   "outputs": [],
   "source": [
    "# create a tuple\n",
    "\n",
    "\n"
   ]
  },
  {
   "cell_type": "code",
   "execution_count": 15,
   "metadata": {},
   "outputs": [],
   "source": [
    "# we can access elements of the tuple using square brackets (the same as lists)\n"
   ]
  },
  {
   "cell_type": "code",
   "execution_count": 16,
   "metadata": {},
   "outputs": [],
   "source": [
    "# unlike a list, we can't reassign values in a tuple \n"
   ]
  },
  {
   "cell_type": "code",
   "execution_count": 17,
   "metadata": {},
   "outputs": [],
   "source": [
    "# We extract values from tuples into regular names using \"tuple unpacking\"\n",
    "\n",
    "\n"
   ]
  },
  {
   "cell_type": "markdown",
   "metadata": {},
   "source": [
    "Let's create a function `power23(x)` that returns a number squared and a number cubed. "
   ]
  },
  {
   "cell_type": "code",
   "execution_count": 18,
   "metadata": {},
   "outputs": [],
   "source": [
    "# create a function that returns a value squared and cubed\n",
    "\n",
    "def power23(x):\n",
    "    \n",
    "    ...\n"
   ]
  },
  {
   "cell_type": "code",
   "execution_count": 19,
   "metadata": {},
   "outputs": [],
   "source": [
    "# try the function out"
   ]
  },
  {
   "cell_type": "code",
   "execution_count": 20,
   "metadata": {},
   "outputs": [],
   "source": [
    "# we can use \"tuple unpacking\" to assign both outputs to different names\n",
    "\n",
    "\n"
   ]
  },
  {
   "cell_type": "markdown",
   "metadata": {},
   "source": [
    "### Passing functions as input arguments\n",
    "\n",
    "We can also pass functions as input arguments to other functions. Let's explore this...\n"
   ]
  },
  {
   "cell_type": "code",
   "execution_count": 21,
   "metadata": {},
   "outputs": [],
   "source": [
    "def compute_on_my_array(stat_function):\n",
    "    \n",
    "    my_array = np.array([21, 44, 54, 23, 25, 32])\n",
    "    \n",
    "    ...\n",
    "    \n"
   ]
  },
  {
   "cell_type": "code",
   "execution_count": 22,
   "metadata": {},
   "outputs": [],
   "source": [
    "# apply the np.mean function to my_array\n"
   ]
  },
  {
   "cell_type": "code",
   "execution_count": 23,
   "metadata": {},
   "outputs": [],
   "source": [
    "# apply the np.sum function to my_array\n"
   ]
  },
  {
   "cell_type": "code",
   "execution_count": 24,
   "metadata": {},
   "outputs": [],
   "source": [
    "# apply power23 to my_array\n"
   ]
  },
  {
   "cell_type": "markdown",
   "metadata": {},
   "source": [
    "## Pandas \n",
    "\n",
    "pandas Series are: One-dimensional ndarray with axis labels\n",
    "\n",
    "pands DataFrame are: Table data\n",
    "\n",
    "Let's look at the egg and wheat price data...\n"
   ]
  },
  {
   "cell_type": "code",
   "execution_count": 25,
   "metadata": {},
   "outputs": [],
   "source": [
    "egg_price_series = pd.read_csv(\"monthly_egg_prices.csv\", parse_dates=True, index_col= \"DATE\").squeeze() \n",
    "\n"
   ]
  },
  {
   "cell_type": "code",
   "execution_count": 26,
   "metadata": {},
   "outputs": [],
   "source": [
    "# print the type\n",
    "\n",
    "\n",
    "# print the shape\n",
    "\n",
    "\n",
    "# print the series\n",
    "\n"
   ]
  },
  {
   "cell_type": "code",
   "execution_count": 27,
   "metadata": {},
   "outputs": [],
   "source": [
    "# get a value from the Series by an Index name using .loc\n",
    "\n"
   ]
  },
  {
   "cell_type": "code",
   "execution_count": 28,
   "metadata": {},
   "outputs": [],
   "source": [
    "# get a value from the Series by index number using .iloc\n",
    "\n"
   ]
  },
  {
   "cell_type": "code",
   "execution_count": 29,
   "metadata": {},
   "outputs": [],
   "source": [
    "# sort the egg prices using the .sort_values() method\n",
    "\n"
   ]
  },
  {
   "cell_type": "code",
   "execution_count": 30,
   "metadata": {},
   "outputs": [
    {
     "data": {
      "text/plain": [
       "DATE\n",
       "1990-01-01    167.918579\n",
       "1990-02-01    160.937271\n",
       "1990-03-01    156.528030\n",
       "1990-04-01    159.467529\n",
       "1990-05-01    149.179291\n",
       "                 ...    \n",
       "2022-07-01    321.975128\n",
       "2022-08-01    323.016769\n",
       "2022-09-01    346.322181\n",
       "2022-10-01    353.712907\n",
       "2022-11-01    344.329861\n",
       "Name: Price, Length: 395, dtype: float64"
      ]
     },
     "execution_count": 30,
     "metadata": {},
     "output_type": "execute_result"
    }
   ],
   "source": [
    "# Let's look at the wheat prices as a series\n",
    "wheat_price_series = pd.read_csv(\"monthly_wheat_prices.csv\", parse_dates=True, index_col= \"DATE\").squeeze() \n",
    "\n",
    "wheat_price_series\n"
   ]
  },
  {
   "cell_type": "code",
   "execution_count": 31,
   "metadata": {},
   "outputs": [],
   "source": [
    "# note the wheat and egg price series starts at a different date \n",
    "\n",
    "\n",
    "\n",
    "\n",
    "# and they are different lengths \n",
    "\n",
    "\n"
   ]
  },
  {
   "cell_type": "code",
   "execution_count": 32,
   "metadata": {},
   "outputs": [],
   "source": [
    "# when we add to series together, the addition aligns the Indexes!\n",
    "# NaN are added when there are no matches between Indexes \n",
    "\n",
    "\n",
    "\n",
    "\n",
    "\n",
    "\n",
    "# can remove NaN with .dropna() method"
   ]
  },
  {
   "cell_type": "code",
   "execution_count": 33,
   "metadata": {},
   "outputs": [],
   "source": [
    "# we can turn the index back into a column using .reset_index()\n",
    "# this returns a DataFrame! \n",
    "\n",
    "\n",
    "\n",
    "\n",
    "\n",
    "\n",
    "# get the total spent...\n",
    "# np.sum(monthly_spend_df[\"Price\"])"
   ]
  },
  {
   "cell_type": "markdown",
   "metadata": {},
   "source": [
    "## DataFrames!\n",
    "\n",
    "The ability to manipulate data in tables (DataFrames) is one of the most useful skills in Data Science. \n",
    "\n",
    "Pandas is the most popular package in Python for manipulating data tables so we will use this package for manipulating tables in this class. The syntax for Pandas can be a little tricky, so try to be patient if you run into errors, and as always, there should be plenty of help available at office hours and on Ed. \n",
    "\n",
    "As an example, let's look at data on the closing price of the [Dow Jones Industrial Average](https://www.marketwatch.com/investing/index/djia) which is an index of the prices of the 30 largest corporations in the US.\n",
    "\n",
    "The code below loads the DOW data into a Pandas DataFrame and displays the first 5 rows using the `head()` method. \n"
   ]
  },
  {
   "cell_type": "code",
   "execution_count": 34,
   "metadata": {},
   "outputs": [
    {
     "data": {
      "text/html": [
       "<div>\n",
       "<style scoped>\n",
       "    .dataframe tbody tr th:only-of-type {\n",
       "        vertical-align: middle;\n",
       "    }\n",
       "\n",
       "    .dataframe tbody tr th {\n",
       "        vertical-align: top;\n",
       "    }\n",
       "\n",
       "    .dataframe thead th {\n",
       "        text-align: right;\n",
       "    }\n",
       "</style>\n",
       "<table border=\"1\" class=\"dataframe\">\n",
       "  <thead>\n",
       "    <tr style=\"text-align: right;\">\n",
       "      <th></th>\n",
       "      <th>Year</th>\n",
       "      <th>Month</th>\n",
       "      <th>Day</th>\n",
       "      <th>Open</th>\n",
       "      <th>High</th>\n",
       "      <th>Low</th>\n",
       "      <th>Close</th>\n",
       "    </tr>\n",
       "    <tr>\n",
       "      <th>Date</th>\n",
       "      <th></th>\n",
       "      <th></th>\n",
       "      <th></th>\n",
       "      <th></th>\n",
       "      <th></th>\n",
       "      <th></th>\n",
       "      <th></th>\n",
       "    </tr>\n",
       "  </thead>\n",
       "  <tbody>\n",
       "    <tr>\n",
       "      <th>1/25/23</th>\n",
       "      <td>2023</td>\n",
       "      <td>1</td>\n",
       "      <td>Wednesday</td>\n",
       "      <td>33538.36</td>\n",
       "      <td>33773.09</td>\n",
       "      <td>33273.21</td>\n",
       "      <td>33743.84</td>\n",
       "    </tr>\n",
       "    <tr>\n",
       "      <th>1/24/23</th>\n",
       "      <td>2023</td>\n",
       "      <td>1</td>\n",
       "      <td>Tuesday</td>\n",
       "      <td>33444.72</td>\n",
       "      <td>33782.92</td>\n",
       "      <td>33310.56</td>\n",
       "      <td>33733.96</td>\n",
       "    </tr>\n",
       "    <tr>\n",
       "      <th>1/23/23</th>\n",
       "      <td>2023</td>\n",
       "      <td>1</td>\n",
       "      <td>Monday</td>\n",
       "      <td>33439.56</td>\n",
       "      <td>33782.88</td>\n",
       "      <td>33316.25</td>\n",
       "      <td>33629.56</td>\n",
       "    </tr>\n",
       "    <tr>\n",
       "      <th>1/20/23</th>\n",
       "      <td>2023</td>\n",
       "      <td>1</td>\n",
       "      <td>Friday</td>\n",
       "      <td>33073.46</td>\n",
       "      <td>33381.95</td>\n",
       "      <td>32948.93</td>\n",
       "      <td>33375.49</td>\n",
       "    </tr>\n",
       "    <tr>\n",
       "      <th>1/19/23</th>\n",
       "      <td>2023</td>\n",
       "      <td>1</td>\n",
       "      <td>Thursday</td>\n",
       "      <td>33171.35</td>\n",
       "      <td>33227.49</td>\n",
       "      <td>32982.05</td>\n",
       "      <td>33044.56</td>\n",
       "    </tr>\n",
       "  </tbody>\n",
       "</table>\n",
       "</div>"
      ],
      "text/plain": [
       "         Year  Month        Day      Open      High       Low     Close\n",
       "Date                                                                   \n",
       "1/25/23  2023      1  Wednesday  33538.36  33773.09  33273.21  33743.84\n",
       "1/24/23  2023      1    Tuesday  33444.72  33782.92  33310.56  33733.96\n",
       "1/23/23  2023      1     Monday  33439.56  33782.88  33316.25  33629.56\n",
       "1/20/23  2023      1     Friday  33073.46  33381.95  32948.93  33375.49\n",
       "1/19/23  2023      1   Thursday  33171.35  33227.49  32982.05  33044.56"
      ]
     },
     "execution_count": 34,
     "metadata": {},
     "output_type": "execute_result"
    }
   ],
   "source": [
    "dow = pd.read_csv(\"dow.csv\", parse_dates=True)  # parsing the dates didn't work\n",
    "\n",
    "dow = dow.set_index(\"Date\")\n",
    "\n",
    "dow.head()"
   ]
  },
  {
   "cell_type": "code",
   "execution_count": 35,
   "metadata": {},
   "outputs": [],
   "source": [
    "# The head() method returns the first 5 rows. \n",
    "# Let's use the tail() method to get the last 5 rows.\n",
    "# From looking at the output, can you tell what year the data goes back until? \n",
    "\n"
   ]
  },
  {
   "cell_type": "code",
   "execution_count": 36,
   "metadata": {},
   "outputs": [],
   "source": [
    "# get the number of rows and columns in a DataFrame using the shape property\n",
    "\n"
   ]
  },
  {
   "cell_type": "code",
   "execution_count": 37,
   "metadata": {},
   "outputs": [],
   "source": [
    "# get the types of all the columns using .dtypes\n",
    "\n"
   ]
  },
  {
   "cell_type": "code",
   "execution_count": 38,
   "metadata": {},
   "outputs": [],
   "source": [
    "# get the names of all the columns using .columns\n",
    "\n",
    "\n",
    "\n",
    "# we can convert these names to an numpy array using the .to_numpy() method\n"
   ]
  },
  {
   "cell_type": "code",
   "execution_count": 39,
   "metadata": {},
   "outputs": [],
   "source": [
    "# get descriptive statistics on DataFrame using the .describe() method\n",
    "\n",
    "\n",
    "\n",
    "# round() the values, or can convert them to ints using astype(\"int\")\n",
    "\n",
    "\n"
   ]
  },
  {
   "cell_type": "markdown",
   "metadata": {},
   "source": [
    "### Selecting columns from a DataFrame\n",
    "\n",
    "We can select columns from a DataFrame using the square brackets; e.g., `my_df[\"my_col\"]`\n",
    "\n",
    "If we'd like to select multiple columns we can pass a list; e.g., `my_df[[\"col1\", \"col2\"]]`\n"
   ]
  },
  {
   "cell_type": "code",
   "execution_count": 40,
   "metadata": {},
   "outputs": [],
   "source": [
    "# Get just the DOW close price\n",
    "\n",
    "\n"
   ]
  },
  {
   "cell_type": "code",
   "execution_count": 41,
   "metadata": {},
   "outputs": [],
   "source": [
    "# we can also get a single column using the .col_name \n",
    "\n",
    "\n"
   ]
  },
  {
   "cell_type": "code",
   "execution_count": 42,
   "metadata": {},
   "outputs": [],
   "source": [
    "# Get both the open and close price\n",
    "\n",
    "\n",
    "\n",
    "# what is the type of close_price? (use type() and .dtypes)\n",
    "\n"
   ]
  },
  {
   "cell_type": "markdown",
   "metadata": {},
   "source": [
    "### Getting a subset of rows from a DataFrame\n",
    "\n",
    "Similar to pandas Series, we can get particular rows from a DataFrame using:\n",
    "\n",
    "- `.loc`:  Get rows by Index values - and by Boolean masks\n",
    "- `.iloc`.:  Get rows by their index number\n",
    "\n"
   ]
  },
  {
   "cell_type": "code",
   "execution_count": 43,
   "metadata": {},
   "outputs": [],
   "source": [
    "# Extract a row based on the Index name \"1/25/23\"\n"
   ]
  },
  {
   "cell_type": "code",
   "execution_count": 44,
   "metadata": {},
   "outputs": [],
   "source": [
    "# Extract a row based on the row number (get row 0)\n"
   ]
  },
  {
   "cell_type": "code",
   "execution_count": 45,
   "metadata": {},
   "outputs": [],
   "source": [
    "# We can get multiple rows that meet particular conditions using Boolean masking\n",
    "\n",
    "\n"
   ]
  },
  {
   "cell_type": "code",
   "execution_count": 46,
   "metadata": {},
   "outputs": [],
   "source": [
    "# extract the 2022 values using our Boolean mask\n",
    "\n"
   ]
  },
  {
   "cell_type": "code",
   "execution_count": 47,
   "metadata": {},
   "outputs": [],
   "source": [
    "# Can you get the mean DOW close value in 2022? \n",
    "\n",
    "\n",
    "\n",
    "\n"
   ]
  },
  {
   "cell_type": "markdown",
   "metadata": {},
   "source": [
    "### Sorting values in a DataFrame\n",
    "\n",
    "We can sort values in a DataFrame using `.sort_values(\"col_name\")`\n",
    "\n",
    "We can sort from highest to lowest by setting the argument `ascending = False`\n"
   ]
  },
  {
   "cell_type": "code",
   "execution_count": 48,
   "metadata": {},
   "outputs": [],
   "source": [
    "# Sort the data by the Close value\n",
    "\n"
   ]
  },
  {
   "cell_type": "code",
   "execution_count": 49,
   "metadata": {},
   "outputs": [],
   "source": [
    "# What is the highest the DOW has been? \n",
    "\n"
   ]
  },
  {
   "cell_type": "markdown",
   "metadata": {},
   "source": [
    "### Adding new columns to a Data Frame\n",
    "\n",
    "We can add a column to a data frame using square backets. For example: \n",
    "\n",
    "- `my_df[\"new col\"] = my_df[\"col1\"] + my_df[\"col2\"]`.\n",
    "\n",
    "\n"
   ]
  },
  {
   "cell_type": "markdown",
   "metadata": {},
   "source": [
    "Percent change is defined as: $100 * \\frac{final - initial}{initial}$\n",
    "\n",
    "Can you add a \"Percent change\" column to the dow2 data (which is a copy of the dow data comparing closing and opening prices?  What is the biggest percent change in the dow? "
   ]
  },
  {
   "cell_type": "code",
   "execution_count": 50,
   "metadata": {},
   "outputs": [],
   "source": [
    "# copy the data to dow2\n",
    "\n",
    "\n",
    "\n",
    "# add percent change column\n",
    "\n",
    "\n",
    "\n",
    "# sort the data\n",
    "\n"
   ]
  },
  {
   "cell_type": "code",
   "execution_count": 51,
   "metadata": {},
   "outputs": [],
   "source": [
    "# sort the data from largest to smallest\n",
    "\n",
    "\n",
    "# This is actually not historically correct for older dates. \n",
    "# See if you can figure out how to calculate the actual largest percent changes. "
   ]
  },
  {
   "cell_type": "markdown",
   "metadata": {},
   "source": [
    "### Getting aggregate statistics by group\n",
    "\n",
    "We can get aggregate statistics by group using `groupby()` and `agg` methods using the following syntax:\n",
    "\n",
    "`my_df.groupby(\"col_name\").agg(\"agg_function_name\")`\n",
    "\n",
    "Can you get the max values of the DOW each year? \n"
   ]
  },
  {
   "cell_type": "code",
   "execution_count": 52,
   "metadata": {},
   "outputs": [],
   "source": [
    "# What was the max values of the DOW each year? \n",
    "\n"
   ]
  },
  {
   "cell_type": "markdown",
   "metadata": {},
   "source": [
    "There are several ways to get multiple statistics by group. Perhaps the most useful way is to use the syntax:\n",
    "\n",
    "<pre>\n",
    "my_df.groupby(\"group_col_name\").agg(\n",
    "   new_col1 = ('col_name', 'statistic_name1'),\n",
    "   new_col2 = ('col_name', 'statistic_name2'),\n",
    "   new_col3 = ('col_name', 'statistic_name3')\n",
    ")\n",
    "</pre>\n",
    "\n",
    "\n",
    "Let's create a DataFrame that has the number of trading days, the minimum and the maximum DOW value for each year. \n"
   ]
  },
  {
   "cell_type": "code",
   "execution_count": null,
   "metadata": {},
   "outputs": [],
   "source": [
    "\n",
    "\n",
    "\n",
    "\n",
    "\n"
   ]
  },
  {
   "cell_type": "markdown",
   "metadata": {},
   "source": [
    "We will continue with pandas next class..."
   ]
  },
  {
   "cell_type": "markdown",
   "metadata": {},
   "source": [
    "![pandas](https://image.goat.com/transform/v1/attachments/product_template_additional_pictures/images/071/445/310/original/719082_01.jpg.jpeg)"
   ]
  }
 ],
 "metadata": {
  "anaconda-cloud": {},
  "kernelspec": {
   "display_name": "Python [conda env:ydata123_2023e] *",
   "language": "python",
   "name": "conda-env-ydata123_2023e-py"
  },
  "language_info": {
   "codemirror_mode": {
    "name": "ipython",
    "version": 3
   },
   "file_extension": ".py",
   "mimetype": "text/x-python",
   "name": "python",
   "nbconvert_exporter": "python",
   "pygments_lexer": "ipython3",
   "version": "3.11.0"
  }
 },
 "nbformat": 4,
 "nbformat_minor": 4
}
