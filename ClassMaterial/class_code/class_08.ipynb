{
 "cells": [
  {
   "cell_type": "markdown",
   "metadata": {},
   "source": [
    "# Class 8: pandas Series and Data Frames\n",
    "\n",
    "Today we will discuss pandas Series and DataFrames which allow us to analyze data tables."
   ]
  },
  {
   "cell_type": "code",
   "execution_count": 1,
   "metadata": {},
   "outputs": [],
   "source": [
    "import YData\n",
    "\n",
    "# YData.download.download_class_code(8)       # get class code    \n",
    "# YData.download.download_class_code(8, True) # get the code with the answers \n",
    "# YData.download_homework(4)  # download the homework \n"
   ]
  },
  {
   "cell_type": "code",
   "execution_count": 2,
   "metadata": {},
   "outputs": [],
   "source": [
    "## If you are using Google Colabs, you should install the YData packages and mount the your google drive by uncommenting and running the code below.\n",
    "\n",
    "# !pip install https://github.com/emeyers/YData_package/tarball/master\n",
    "# from google.colab import drive\n",
    "# drive.mount('/content/drive')\n"
   ]
  },
  {
   "cell_type": "markdown",
   "metadata": {},
   "source": [
    "### Downloading the data for today's class\n",
    "\n",
    "Please run the code in the cell below to download the data for today's class."
   ]
  },
  {
   "cell_type": "code",
   "execution_count": 3,
   "metadata": {},
   "outputs": [
    {
     "name": "stdout",
     "output_type": "stream",
     "text": [
      "The file `chili.jpg` already exists.\n",
      "If you would like to download a new copy of the file, please rename the existing copy of the file.\n",
      "The file `nba_salaries_2022_23.csv` already exists.\n",
      "If you would like to download a new copy of the file, please rename the existing copy of the file.\n",
      "The file `nyc23_flights.csv` already exists.\n",
      "If you would like to download a new copy of the file, please rename the existing copy of the file.\n",
      "The file `nyc23_airlines.csv` already exists.\n",
      "If you would like to download a new copy of the file, please rename the existing copy of the file.\n",
      "The file `monthly_egg_prices.csv` already exists.\n",
      "If you would like to download a new copy of the file, please rename the existing copy of the file.\n"
     ]
    }
   ],
   "source": [
    "import YData\n",
    "\n",
    "YData.download_image(\"chili.jpg\")\n",
    "YData.download_data(\"nba_salaries_2022_23.csv\")\n",
    "YData.download_data(\"nyc23_flights.csv\")\n",
    "YData.download_data(\"nyc23_airlines.csv\")\n",
    "YData.download.download_data(\"monthly_egg_prices.csv\")\n"
   ]
  },
  {
   "cell_type": "code",
   "execution_count": 4,
   "metadata": {},
   "outputs": [],
   "source": [
    "# import the numpy package\n",
    "import numpy as np\n",
    "import matplotlib.pyplot as plt"
   ]
  },
  {
   "cell_type": "markdown",
   "metadata": {},
   "source": [
    "## Boolean masking warm-up exercise\n",
    "\n",
    "As a warm-up exercise, please calculate the total salary for players on the Boston Celtics and on the Golden State Warriors to see which team spent the most money on salaries. \n",
    "\n",
    "Hint: If you're stuck a useulf first step would be to create a Boolean masks indicating which players are on the Celtics...\n"
   ]
  },
  {
   "cell_type": "code",
   "execution_count": 5,
   "metadata": {},
   "outputs": [
    {
     "name": "stdout",
     "output_type": "stream",
     "text": [
      "The file `nba_salaries_2022_23.csv` already exists.\n",
      "If you would like to download a new copy of the file, please rename the existing copy of the file.\n"
     ]
    }
   ],
   "source": [
    "# download the data\n",
    "import YData\n",
    "YData.download.download_data(\"nba_salaries_2022_23.csv\")"
   ]
  },
  {
   "cell_type": "code",
   "execution_count": 6,
   "metadata": {},
   "outputs": [
    {
     "data": {
      "text/plain": [
       "array(['Atlanta Hawks', 'Boston Celtics', 'Brooklyn Nets',\n",
       "       'Charlotte Bobcats', 'Chicago Bulls', 'Cleveland Cavaliers',\n",
       "       'Dallas Mavericks', 'Denver Nuggets', 'Detroit Pistons',\n",
       "       'Golden State Warriors', 'Houston Rockets', 'Indiana Pacers',\n",
       "       'Los Angeles Clippers', 'Los Angeles Lakers', 'Memphis Grizzlies',\n",
       "       'Miami Heat', 'Milwaukee Bucks', 'Minnesota Timberwolves',\n",
       "       'New Orleans Hornets', 'New York Knicks', 'Oklahoma City Thunder',\n",
       "       'Orlando Magic', 'Philadelphia 76ers', 'Phoenix Suns',\n",
       "       'Portland Trail Blazers', 'Sacramento Kings', 'San Antonio Spurs',\n",
       "       'Toronto Raptors', 'Utah Jazz', 'Washington Wizards'], dtype=object)"
      ]
     },
     "execution_count": 6,
     "metadata": {},
     "output_type": "execute_result"
    }
   ],
   "source": [
    "# Extract the necessary data\n",
    "\n",
    "# Load the NBA data as a pandas data frame\n",
    "import pandas as pd\n",
    "import numpy as np\n",
    "\n",
    "nba = pd.read_csv(\"nba_salaries_2022_23.csv\")  # load in the data\n",
    "nba.head()\n",
    "\n",
    "\n",
    "# Extract ndarrays for salary and position \n",
    "salary_array = nba[\"SALARY\"].values\n",
    "team_array = nba[\"TEAM\"].values\n",
    "\n",
    "np.unique(team_array)\n"
   ]
  },
  {
   "cell_type": "code",
   "execution_count": 7,
   "metadata": {},
   "outputs": [],
   "source": [
    "# Calculate the average salary for players on the Boston Celtics\n",
    "\n",
    "\n",
    "\n",
    "\n",
    "\n",
    "# Calculate the average salary for players on the Golden State Warriors\n",
    "\n",
    "\n",
    "\n",
    "\n"
   ]
  },
  {
   "cell_type": "markdown",
   "metadata": {},
   "source": [
    "## Quick review of higher dimensional arrays and image processing\n",
    "\n",
    "Let's do a quick review/continuation of higher dimensional arrays and image processing since we did not have much time to cover this last class. \n",
    "\n"
   ]
  },
  {
   "cell_type": "code",
   "execution_count": 8,
   "metadata": {},
   "outputs": [
    {
     "data": {
      "text/plain": [
       "array([[1, 2, 3],\n",
       "       [4, 5, 6],\n",
       "       [7, 8, 9]])"
      ]
     },
     "execution_count": 8,
     "metadata": {},
     "output_type": "execute_result"
    }
   ],
   "source": [
    "my_matrix = np.array([[1, 2, 3], [4, 5, 6], [7, 8, 9]])\n",
    "my_matrix"
   ]
  },
  {
   "cell_type": "code",
   "execution_count": 9,
   "metadata": {},
   "outputs": [],
   "source": [
    "# slicing to get a submatrix \n",
    "\n"
   ]
  },
  {
   "cell_type": "code",
   "execution_count": null,
   "metadata": {},
   "outputs": [],
   "source": [
    "\n",
    "\n"
   ]
  },
  {
   "cell_type": "code",
   "execution_count": 10,
   "metadata": {},
   "outputs": [],
   "source": [
    "# sum down the rows \n",
    "\n",
    "\n"
   ]
  },
  {
   "cell_type": "code",
   "execution_count": 11,
   "metadata": {},
   "outputs": [],
   "source": [
    "# create a boolean array for all values less than 5\n",
    "\n",
    "\n"
   ]
  },
  {
   "cell_type": "markdown",
   "metadata": {},
   "source": [
    "### Image processing\n",
    "\n",
    "Let's create a 100 x 300 image that is all [Yale Blue](https://en.wikipedia.org/wiki/Yale_Blue), which has RGB values of (0, 53, 107)\n",
    "\n",
    "We will then do a few last manipulations on an actual image. "
   ]
  },
  {
   "cell_type": "code",
   "execution_count": 12,
   "metadata": {},
   "outputs": [],
   "source": [
    "# Image processing\n",
    "\n",
    "# Let's create an 100 x 300 image that is all Yale blue\n",
    "\n",
    "# Start with an image of all zeros\n",
    "color_image = ...\n",
    "\n",
    "\n",
    "# The red channel is 0, so we don't need to modify our image of zeros for this channel\n",
    "\n",
    "# Let's set the other color channels\n",
    "\n",
    "\n",
    "\n",
    "\n",
    "# Let's display the image\n",
    "\n",
    "\n"
   ]
  },
  {
   "cell_type": "code",
   "execution_count": 13,
   "metadata": {},
   "outputs": [
    {
     "data": {
      "image/png": "[encoded data removed]",
      "text/plain": [
       "<Figure size 640x480 with 1 Axes>"
      ]
     },
     "metadata": {},
     "output_type": "display_data"
    }
   ],
   "source": [
    "# Load in a real image\n",
    "\n",
    "from imageio.v3 import imread\n",
    "\n",
    "I = imread(\"chili.jpg\")\n",
    "\n",
    "plt.imshow(I);"
   ]
  },
  {
   "cell_type": "code",
   "execution_count": 14,
   "metadata": {},
   "outputs": [],
   "source": [
    "# get the type and shape of the image\n",
    "\n",
    "\n"
   ]
  },
  {
   "cell_type": "code",
   "execution_count": 15,
   "metadata": {},
   "outputs": [],
   "source": [
    "# To create a grayscale image - use the average value in all three r, g, b channels\n",
    "\n",
    "\n",
    "\n",
    "\n",
    "\n",
    "\n"
   ]
  },
  {
   "cell_type": "markdown",
   "metadata": {},
   "source": [
    "## Tuples\n",
    "\n",
    "Tuples are a basic data structure in Python that is like a list. However, unlike lists, elements in tuples are \"immutable\" meaning that once we create a tuple, we can not modify the values in the tuple.\n",
    "\n",
    "We create tuples by using values in parentheses separated by commas:\n",
    "\n",
    "`my_tuple = (10, 20, 30)`\n",
    "\n",
    "Let's explore tuples now... \n"
   ]
  },
  {
   "cell_type": "code",
   "execution_count": 16,
   "metadata": {},
   "outputs": [],
   "source": [
    "# create a tuple\n",
    "\n",
    "\n",
    "\n",
    "\n"
   ]
  },
  {
   "cell_type": "code",
   "execution_count": 17,
   "metadata": {},
   "outputs": [],
   "source": [
    "# we can access elements of the tuple using square brackets (the same as lists)\n",
    "\n",
    "\n"
   ]
  },
  {
   "cell_type": "code",
   "execution_count": 18,
   "metadata": {},
   "outputs": [],
   "source": [
    "# unlike a list, we can't reassign values in a tuple \n",
    "\n",
    "\n"
   ]
  },
  {
   "cell_type": "code",
   "execution_count": 19,
   "metadata": {},
   "outputs": [],
   "source": [
    "# We extract values from tuples into regular names using \"tuple unpacking\"\n",
    "\n",
    "\n"
   ]
  },
  {
   "cell_type": "markdown",
   "metadata": {},
   "source": [
    "## Dictionaries\n",
    "\n",
    "Dictionaries allow us to look up values. In particular, we provide a \"key\" and the dictionary return a \"value\". \n",
    "\n",
    "We can create dictionaries using the syntax: \n",
    "\n",
    "`my_dict = {\"key1\": 1, \"key2\": 20}`\n"
   ]
  },
  {
   "cell_type": "code",
   "execution_count": 20,
   "metadata": {},
   "outputs": [],
   "source": [
    "# create a dictionary\n",
    "\n",
    "\n"
   ]
  },
  {
   "cell_type": "code",
   "execution_count": 21,
   "metadata": {},
   "outputs": [],
   "source": [
    "# we can access elements using square brackets \n",
    "\n"
   ]
  },
  {
   "cell_type": "code",
   "execution_count": 22,
   "metadata": {},
   "outputs": [],
   "source": [
    "# values in dictionaries can be list\n",
    "\n",
    "\n"
   ]
  },
  {
   "cell_type": "code",
   "execution_count": 23,
   "metadata": {},
   "outputs": [],
   "source": [
    "# We can create a dictionary from two lists of the same length using the dict() and zip() functions\n",
    "\n",
    "\n",
    "\n",
    "\n",
    "# turn the lists into a dictionary using the zip() and dict() functions\n",
    "\n",
    "\n",
    "\n",
    "\n"
   ]
  },
  {
   "cell_type": "code",
   "execution_count": 24,
   "metadata": {},
   "outputs": [
    {
     "name": "stdout",
     "output_type": "stream",
     "text": [
      "[ 9.835881  2.79264   3.53616   0.508891 23.5     ]\n",
      "[\"De'Andre Hunter\" 'Jalen Johnson' 'AJ Griffin' 'Trent Forrest'\n",
      " 'John Collins']\n"
     ]
    }
   ],
   "source": [
    "# Load the NBA data as a pandas data frame\n",
    "import pandas as pd\n",
    "nba = pd.read_csv(\"nba_salaries_2022_23.csv\")  # load in the data\n",
    "\n",
    "# Extract ndarrays for salary and position \n",
    "salary_array = nba[\"SALARY\"].values\n",
    "player_array = nba[\"PLAYER\"].values\n",
    "\n",
    "print(salary_array[0:5])\n",
    "print(player_array[0:5])"
   ]
  },
  {
   "cell_type": "code",
   "execution_count": 25,
   "metadata": {},
   "outputs": [],
   "source": [
    "# create a dictionary between players and their salaries\n",
    "\n",
    "\n",
    "\n",
    "# what is Stephen Curry's salary? \n",
    "\n"
   ]
  },
  {
   "cell_type": "markdown",
   "metadata": {},
   "source": [
    "## Pandas \n",
    "\n",
    "pandas Series are: 0ne-dimensional ndarray with axis labels\n",
    "\n",
    "pands DataFrame are: Table data\n",
    "\n",
    "Let's look at the egg price data...\n"
   ]
  },
  {
   "cell_type": "code",
   "execution_count": 26,
   "metadata": {},
   "outputs": [],
   "source": [
    "# import the numpy package\n",
    "import numpy as np\n",
    "import matplotlib.pyplot as plt\n",
    "\n",
    "import pandas as pd\n"
   ]
  },
  {
   "cell_type": "code",
   "execution_count": 27,
   "metadata": {},
   "outputs": [
    {
     "data": {
      "text/plain": [
       "DATE\n",
       "1980-01-01    0.879\n",
       "1980-02-01    0.774\n",
       "1980-03-01    0.812\n",
       "1980-04-01    0.797\n",
       "1980-05-01    0.737\n",
       "              ...  \n",
       "2025-04-01    5.122\n",
       "2025-05-01    4.548\n",
       "2025-06-01    3.775\n",
       "2025-07-01    3.599\n",
       "2025-08-01    3.587\n",
       "Name: APU0000708111, Length: 548, dtype: float64"
      ]
     },
     "execution_count": 27,
     "metadata": {},
     "output_type": "execute_result"
    }
   ],
   "source": [
    "# import YData\n",
    "# YData.download_data(\"monthly_egg_prices.csv\");\n",
    "# #reading in a series by parsing the dates, and using .squeeze() to conver to a Series\n",
    "# egg_prices_series = pd.read_csv(\"monthly_egg_prices.csv\", parse_dates=True, date_format=\"%m/%d/%y\", index_col=\"DATE\").squeeze()\n",
    "# egg_prices_series\n",
    "\n",
    "\n",
    "from pandas_datareader.fred import FredReader\n",
    "egg_prices_series = FredReader(\"APU0000708111\", start='1980-01-01', end='2025-09-01').read().squeeze()\n",
    "\n",
    "egg_prices_series\n"
   ]
  },
  {
   "cell_type": "code",
   "execution_count": 28,
   "metadata": {},
   "outputs": [],
   "source": [
    "\n",
    "# print the type\n",
    "\n",
    "\n",
    "\n",
    "# print the shape\n",
    "\n",
    "\n",
    "\n",
    "# print the series\n",
    "\n"
   ]
  },
  {
   "cell_type": "code",
   "execution_count": 29,
   "metadata": {},
   "outputs": [],
   "source": [
    "# get a value from the Series by an Index name using .loc\n",
    "\n"
   ]
  },
  {
   "cell_type": "code",
   "execution_count": 30,
   "metadata": {},
   "outputs": [],
   "source": [
    "# get a value from the Series by index number using .iloc\n",
    "\n"
   ]
  },
  {
   "cell_type": "code",
   "execution_count": 31,
   "metadata": {},
   "outputs": [],
   "source": [
    "# use the .filter() method to get data from dates that contain \"2023\"\n",
    "\n",
    "\n",
    "\n",
    "\n",
    "# print the length \n",
    "\n",
    "\n"
   ]
  },
  {
   "cell_type": "code",
   "execution_count": 32,
   "metadata": {},
   "outputs": [],
   "source": [
    "# Visualize the Series\n",
    "\n"
   ]
  },
  {
   "cell_type": "code",
   "execution_count": 33,
   "metadata": {},
   "outputs": [],
   "source": [
    "# turn the index back into a column using .reset_index()\n",
    "\n",
    "\n",
    "\n",
    "# get the type\n",
    "\n",
    "\n",
    "\n",
    "# print the values\n",
    "\n"
   ]
  },
  {
   "cell_type": "markdown",
   "metadata": {},
   "source": [
    "## DataFrames!\n",
    "\n",
    "The ability to manipulate data in tables is one of the most useful skills in Data Science. \n",
    "\n",
    "Pandas is the most popular package in Python for manipulating data tables so we will use this package for manipulating tables in this class. The syntax for Pandas can be a little tricky, so try to be patient if you run into errors, and as always, there should be plenty of help available at office hours and on Ed. \n",
    "\n",
    "As an example, let's look at flight information!\n",
    "\n",
    "As you know, travel by airplane can be convenient because airplanes fly very fast. However, even though the airplanes themselves are fast, their scheduled departure times are often delayed, which can significantly add to ones travel time, and can be frustrating.\n",
    "\n",
    "Let's analyze data on flights to gain insight into how best to avoid flight delays. In particular, we will look at airplane flights that left the airports in New York City, since these airports are some of the closest major airports to New Haven, and we will use pandas to do some quick explorations of the data to see if there are some ways to potentially avoid flight delays.\n",
    "\n",
    "The code below loads the data into a pandas DataFrame named `flights` and sets the Index to be the airplane's [tail number](https://en.wikipedia.org/wiki/Tail_number). Some variables of interest in this DataFrame are:\n",
    "\n",
    "- `year`, `month`, `day`: Date of departure \n",
    "- `dep_time`, `arr_time`: Actual departure and arrival times, [UTC](https://en.wikipedia.org/wiki/UTC_offset) \n",
    "- `sched_dep_time`, `sched_arr_time`: Scheduled departure and arrival times, UTC \n",
    "- `dep_delay`, `arr_delay`: Departure and arrival delays, in minutes. Negative times represent early departures/arrivals.\n",
    "- `hour`, `minute`: Time of scheduled departure broken into hour and minutes.\n",
    "- `carrier`: Two letter carrier abbreviation. See get_airlines to get the full name.\n",
    "- `flight` Flight number.\n",
    "- `origin`, `dest`: Origin and destination airport. See get_airports for additional metadata.\n",
    "- `air_time`: Amount of time spent in the air, in minutes.\n",
    "- `distance`: Distance between airports, in miles.\n",
    "- `time_hour`: Scheduled date and hour of the flight as a POSIXct date. Along with origin, can be used to join flights data to weather data.\n",
    "\n",
    "The first 5 rows of this DataFrame are shown below. \n",
    "\n"
   ]
  },
  {
   "cell_type": "code",
   "execution_count": 34,
   "metadata": {},
   "outputs": [
    {
     "data": {
      "text/html": [
       "<div>\n",
       "<style scoped>\n",
       "    .dataframe tbody tr th:only-of-type {\n",
       "        vertical-align: middle;\n",
       "    }\n",
       "\n",
       "    .dataframe tbody tr th {\n",
       "        vertical-align: top;\n",
       "    }\n",
       "\n",
       "    .dataframe thead th {\n",
       "        text-align: right;\n",
       "    }\n",
       "</style>\n",
       "<table border=\"1\" class=\"dataframe\">\n",
       "  <thead>\n",
       "    <tr style=\"text-align: right;\">\n",
       "      <th></th>\n",
       "      <th>year</th>\n",
       "      <th>month</th>\n",
       "      <th>day</th>\n",
       "      <th>dep_time</th>\n",
       "      <th>sched_dep_time</th>\n",
       "      <th>dep_delay</th>\n",
       "      <th>arr_time</th>\n",
       "      <th>sched_arr_time</th>\n",
       "      <th>arr_delay</th>\n",
       "      <th>carrier</th>\n",
       "      <th>flight</th>\n",
       "      <th>origin</th>\n",
       "      <th>dest</th>\n",
       "      <th>air_time</th>\n",
       "      <th>distance</th>\n",
       "      <th>hour</th>\n",
       "      <th>minute</th>\n",
       "      <th>time_hour</th>\n",
       "    </tr>\n",
       "    <tr>\n",
       "      <th>tailnum</th>\n",
       "      <th></th>\n",
       "      <th></th>\n",
       "      <th></th>\n",
       "      <th></th>\n",
       "      <th></th>\n",
       "      <th></th>\n",
       "      <th></th>\n",
       "      <th></th>\n",
       "      <th></th>\n",
       "      <th></th>\n",
       "      <th></th>\n",
       "      <th></th>\n",
       "      <th></th>\n",
       "      <th></th>\n",
       "      <th></th>\n",
       "      <th></th>\n",
       "      <th></th>\n",
       "      <th></th>\n",
       "    </tr>\n",
       "  </thead>\n",
       "  <tbody>\n",
       "    <tr>\n",
       "      <th>N25201</th>\n",
       "      <td>2023</td>\n",
       "      <td>1</td>\n",
       "      <td>1</td>\n",
       "      <td>1.0</td>\n",
       "      <td>2038</td>\n",
       "      <td>203.0</td>\n",
       "      <td>328.0</td>\n",
       "      <td>3</td>\n",
       "      <td>205.0</td>\n",
       "      <td>UA</td>\n",
       "      <td>628</td>\n",
       "      <td>EWR</td>\n",
       "      <td>SMF</td>\n",
       "      <td>367.0</td>\n",
       "      <td>2500</td>\n",
       "      <td>20</td>\n",
       "      <td>38</td>\n",
       "      <td>2023-01-01 20:00:00</td>\n",
       "    </tr>\n",
       "    <tr>\n",
       "      <th>N830DN</th>\n",
       "      <td>2023</td>\n",
       "      <td>1</td>\n",
       "      <td>1</td>\n",
       "      <td>18.0</td>\n",
       "      <td>2300</td>\n",
       "      <td>78.0</td>\n",
       "      <td>228.0</td>\n",
       "      <td>135</td>\n",
       "      <td>53.0</td>\n",
       "      <td>DL</td>\n",
       "      <td>393</td>\n",
       "      <td>JFK</td>\n",
       "      <td>ATL</td>\n",
       "      <td>108.0</td>\n",
       "      <td>760</td>\n",
       "      <td>23</td>\n",
       "      <td>0</td>\n",
       "      <td>2023-01-01 23:00:00</td>\n",
       "    </tr>\n",
       "    <tr>\n",
       "      <th>N807JB</th>\n",
       "      <td>2023</td>\n",
       "      <td>1</td>\n",
       "      <td>1</td>\n",
       "      <td>31.0</td>\n",
       "      <td>2344</td>\n",
       "      <td>47.0</td>\n",
       "      <td>500.0</td>\n",
       "      <td>426</td>\n",
       "      <td>34.0</td>\n",
       "      <td>B6</td>\n",
       "      <td>371</td>\n",
       "      <td>JFK</td>\n",
       "      <td>BQN</td>\n",
       "      <td>190.0</td>\n",
       "      <td>1576</td>\n",
       "      <td>23</td>\n",
       "      <td>44</td>\n",
       "      <td>2023-01-01 23:00:00</td>\n",
       "    </tr>\n",
       "    <tr>\n",
       "      <th>N265JB</th>\n",
       "      <td>2023</td>\n",
       "      <td>1</td>\n",
       "      <td>1</td>\n",
       "      <td>33.0</td>\n",
       "      <td>2140</td>\n",
       "      <td>173.0</td>\n",
       "      <td>238.0</td>\n",
       "      <td>2352</td>\n",
       "      <td>166.0</td>\n",
       "      <td>B6</td>\n",
       "      <td>1053</td>\n",
       "      <td>JFK</td>\n",
       "      <td>CHS</td>\n",
       "      <td>108.0</td>\n",
       "      <td>636</td>\n",
       "      <td>21</td>\n",
       "      <td>40</td>\n",
       "      <td>2023-01-01 21:00:00</td>\n",
       "    </tr>\n",
       "    <tr>\n",
       "      <th>N17730</th>\n",
       "      <td>2023</td>\n",
       "      <td>1</td>\n",
       "      <td>1</td>\n",
       "      <td>36.0</td>\n",
       "      <td>2048</td>\n",
       "      <td>228.0</td>\n",
       "      <td>223.0</td>\n",
       "      <td>2252</td>\n",
       "      <td>211.0</td>\n",
       "      <td>UA</td>\n",
       "      <td>219</td>\n",
       "      <td>EWR</td>\n",
       "      <td>DTW</td>\n",
       "      <td>80.0</td>\n",
       "      <td>488</td>\n",
       "      <td>20</td>\n",
       "      <td>48</td>\n",
       "      <td>2023-01-01 20:00:00</td>\n",
       "    </tr>\n",
       "  </tbody>\n",
       "</table>\n",
       "</div>"
      ],
      "text/plain": [
       "         year  month  day  dep_time  sched_dep_time  dep_delay  arr_time  \\\n",
       "tailnum                                                                    \n",
       "N25201   2023      1    1       1.0            2038      203.0     328.0   \n",
       "N830DN   2023      1    1      18.0            2300       78.0     228.0   \n",
       "N807JB   2023      1    1      31.0            2344       47.0     500.0   \n",
       "N265JB   2023      1    1      33.0            2140      173.0     238.0   \n",
       "N17730   2023      1    1      36.0            2048      228.0     223.0   \n",
       "\n",
       "         sched_arr_time  arr_delay carrier  flight origin dest  air_time  \\\n",
       "tailnum                                                                    \n",
       "N25201                3      205.0      UA     628    EWR  SMF     367.0   \n",
       "N830DN              135       53.0      DL     393    JFK  ATL     108.0   \n",
       "N807JB              426       34.0      B6     371    JFK  BQN     190.0   \n",
       "N265JB             2352      166.0      B6    1053    JFK  CHS     108.0   \n",
       "N17730             2252      211.0      UA     219    EWR  DTW      80.0   \n",
       "\n",
       "         distance  hour  minute           time_hour  \n",
       "tailnum                                              \n",
       "N25201       2500    20      38 2023-01-01 20:00:00  \n",
       "N830DN        760    23       0 2023-01-01 23:00:00  \n",
       "N807JB       1576    23      44 2023-01-01 23:00:00  \n",
       "N265JB        636    21      40 2023-01-01 21:00:00  \n",
       "N17730        488    20      48 2023-01-01 20:00:00  "
      ]
     },
     "execution_count": 34,
     "metadata": {},
     "output_type": "execute_result"
    }
   ],
   "source": [
    "#import YData\n",
    "#YData.download_data(\"nyc23_flights.csv\")\n",
    "\n",
    "flights = pd.read_csv(\"nyc23_flights.csv\", index_col=\"tailnum\", parse_dates=[18])\n",
    "\n",
    "flights.head()\n"
   ]
  },
  {
   "cell_type": "code",
   "execution_count": 35,
   "metadata": {},
   "outputs": [],
   "source": [
    "# The head() method returns the first 5 rows. \n",
    "# Let's use the tail() method to get the last 5 rows.\n",
    "# From looking at the output, can you tell what year the data goes back until? \n",
    "\n",
    "\n"
   ]
  },
  {
   "cell_type": "code",
   "execution_count": 36,
   "metadata": {},
   "outputs": [],
   "source": [
    "# get the number of rows and columns in a DataFrame using the shape property\n",
    "\n"
   ]
  },
  {
   "cell_type": "code",
   "execution_count": 37,
   "metadata": {},
   "outputs": [],
   "source": [
    "# get the types of all the columns using .dtypes\n",
    "\n"
   ]
  },
  {
   "cell_type": "code",
   "execution_count": 38,
   "metadata": {},
   "outputs": [],
   "source": [
    "# get the names of all the columns using .columns\n",
    "\n",
    "\n",
    "\n",
    "# we can convert these names to an numpy array using the .to_numpy() method\n",
    "\n"
   ]
  },
  {
   "cell_type": "code",
   "execution_count": 39,
   "metadata": {},
   "outputs": [],
   "source": [
    "# get more info on the data frame using the .info() method\n",
    "\n"
   ]
  },
  {
   "cell_type": "code",
   "execution_count": 40,
   "metadata": {},
   "outputs": [],
   "source": [
    "# get descriptive statistics on DataFrame using the .describe() method\n",
    "\n"
   ]
  },
  {
   "cell_type": "markdown",
   "metadata": {},
   "source": [
    "### Selecting columns from a DataFrame\n",
    "\n",
    "We can select columns from a DataFrame using the square brackets; e.g., `my_df[\"my_col\"]`\n",
    "\n",
    "If we'd like to select multiple columns we can pass a list; e.g., `my_df[[\"col1\", \"col2\"]]`\n"
   ]
  },
  {
   "cell_type": "code",
   "execution_count": 41,
   "metadata": {},
   "outputs": [],
   "source": [
    "# Get just the arrival delay\n",
    "# Be careful: if you just use a [\"Col_name\"] it will return it as a Series!\n",
    "\n",
    "\n",
    "\n"
   ]
  },
  {
   "cell_type": "code",
   "execution_count": 42,
   "metadata": {},
   "outputs": [],
   "source": [
    "# we can also get a single column using the .col_name \n",
    "\n",
    "\n",
    "\n"
   ]
  },
  {
   "cell_type": "code",
   "execution_count": 43,
   "metadata": {},
   "outputs": [],
   "source": [
    "# if you want to get a single column as a DataFrame, pass a list in the [] brackets\n",
    "\n",
    "\n",
    "\n"
   ]
  },
  {
   "cell_type": "code",
   "execution_count": 44,
   "metadata": {},
   "outputs": [],
   "source": [
    "# get multiple columns as a DataFrame\n",
    "\n",
    "\n",
    "\n"
   ]
  },
  {
   "cell_type": "code",
   "execution_count": 45,
   "metadata": {},
   "outputs": [
    {
     "data": {
      "text/html": [
       "<div>\n",
       "<style scoped>\n",
       "    .dataframe tbody tr th:only-of-type {\n",
       "        vertical-align: middle;\n",
       "    }\n",
       "\n",
       "    .dataframe tbody tr th {\n",
       "        vertical-align: top;\n",
       "    }\n",
       "\n",
       "    .dataframe thead th {\n",
       "        text-align: right;\n",
       "    }\n",
       "</style>\n",
       "<table border=\"1\" class=\"dataframe\">\n",
       "  <thead>\n",
       "    <tr style=\"text-align: right;\">\n",
       "      <th></th>\n",
       "      <th>arr_delay</th>\n",
       "      <th>dep_delay</th>\n",
       "      <th>carrier</th>\n",
       "      <th>flight</th>\n",
       "      <th>arr_time</th>\n",
       "      <th>dep_time</th>\n",
       "      <th>origin</th>\n",
       "      <th>dest</th>\n",
       "      <th>air_time</th>\n",
       "      <th>distance</th>\n",
       "      <th>time_hour</th>\n",
       "    </tr>\n",
       "    <tr>\n",
       "      <th>tailnum</th>\n",
       "      <th></th>\n",
       "      <th></th>\n",
       "      <th></th>\n",
       "      <th></th>\n",
       "      <th></th>\n",
       "      <th></th>\n",
       "      <th></th>\n",
       "      <th></th>\n",
       "      <th></th>\n",
       "      <th></th>\n",
       "      <th></th>\n",
       "    </tr>\n",
       "  </thead>\n",
       "  <tbody>\n",
       "    <tr>\n",
       "      <th>N25201</th>\n",
       "      <td>205.0</td>\n",
       "      <td>203.0</td>\n",
       "      <td>UA</td>\n",
       "      <td>628</td>\n",
       "      <td>328.0</td>\n",
       "      <td>1.0</td>\n",
       "      <td>EWR</td>\n",
       "      <td>SMF</td>\n",
       "      <td>367.0</td>\n",
       "      <td>2500</td>\n",
       "      <td>2023-01-01 20:00:00</td>\n",
       "    </tr>\n",
       "    <tr>\n",
       "      <th>N830DN</th>\n",
       "      <td>53.0</td>\n",
       "      <td>78.0</td>\n",
       "      <td>DL</td>\n",
       "      <td>393</td>\n",
       "      <td>228.0</td>\n",
       "      <td>18.0</td>\n",
       "      <td>JFK</td>\n",
       "      <td>ATL</td>\n",
       "      <td>108.0</td>\n",
       "      <td>760</td>\n",
       "      <td>2023-01-01 23:00:00</td>\n",
       "    </tr>\n",
       "    <tr>\n",
       "      <th>N807JB</th>\n",
       "      <td>34.0</td>\n",
       "      <td>47.0</td>\n",
       "      <td>B6</td>\n",
       "      <td>371</td>\n",
       "      <td>500.0</td>\n",
       "      <td>31.0</td>\n",
       "      <td>JFK</td>\n",
       "      <td>BQN</td>\n",
       "      <td>190.0</td>\n",
       "      <td>1576</td>\n",
       "      <td>2023-01-01 23:00:00</td>\n",
       "    </tr>\n",
       "  </tbody>\n",
       "</table>\n",
       "</div>"
      ],
      "text/plain": [
       "         arr_delay  dep_delay carrier  flight  arr_time  dep_time origin dest  \\\n",
       "tailnum                                                                         \n",
       "N25201       205.0      203.0      UA     628     328.0       1.0    EWR  SMF   \n",
       "N830DN        53.0       78.0      DL     393     228.0      18.0    JFK  ATL   \n",
       "N807JB        34.0       47.0      B6     371     500.0      31.0    JFK  BQN   \n",
       "\n",
       "         air_time  distance           time_hour  \n",
       "tailnum                                          \n",
       "N25201      367.0      2500 2023-01-01 20:00:00  \n",
       "N830DN      108.0       760 2023-01-01 23:00:00  \n",
       "N807JB      190.0      1576 2023-01-01 23:00:00  "
      ]
     },
     "execution_count": 45,
     "metadata": {},
     "output_type": "execute_result"
    }
   ],
   "source": [
    "# to make it a little easier to see our results going forward, let's just select the following columns: \n",
    "\n",
    "flights_copy = flights.copy()\n",
    "\n",
    "flights = flights[['arr_delay', 'dep_delay', 'carrier', 'flight', 'arr_time', 'dep_time',  'origin', 'dest', 'air_time', 'distance', 'time_hour']]\n",
    "\n",
    "flights.head(3)"
   ]
  },
  {
   "cell_type": "markdown",
   "metadata": {},
   "source": [
    "### Getting a subset of rows from a DataFrame\n",
    "\n",
    "Similar to pandas Series, we can get particular rows from a DataFrame using:\n",
    "\n",
    "- `.loc`:  Get rows by Index values - and by Boolean masks\n",
    "- `.iloc`.:  Get rows by their index number\n",
    "\n"
   ]
  },
  {
   "cell_type": "code",
   "execution_count": 46,
   "metadata": {},
   "outputs": [],
   "source": [
    "# Extract rows based on the Index name \"N25201\"\n",
    "\n",
    "\n"
   ]
  },
  {
   "cell_type": "code",
   "execution_count": 47,
   "metadata": {},
   "outputs": [],
   "source": [
    "# Extract a row based on the row number (get row 0 to 3)\n",
    "\n"
   ]
  },
  {
   "cell_type": "code",
   "execution_count": 48,
   "metadata": {},
   "outputs": [],
   "source": [
    "# We can get multiple rows that meet particular conditions using Boolean masking\n",
    "\n",
    "# flights leaving JFK\n",
    "\n",
    "\n",
    "\n"
   ]
  },
  {
   "cell_type": "code",
   "execution_count": 49,
   "metadata": {},
   "outputs": [],
   "source": [
    "# extract the rows the correspond to JFK\n",
    "\n",
    "\n"
   ]
  },
  {
   "cell_type": "code",
   "execution_count": 50,
   "metadata": {},
   "outputs": [],
   "source": [
    "import matplotlib.pyplot as plt\n",
    "\n",
    "# visualize JFK flight delays as a histogram\n",
    "\n",
    "\n"
   ]
  },
  {
   "cell_type": "markdown",
   "metadata": {},
   "source": [
    "### Sorting values in a DataFrame\n",
    "\n",
    "We can sort values in a DataFrame using `.sort_values(\"col_name\")`\n",
    "\n",
    "We can sort from highest to lowest by setting the argument `ascending = False`\n"
   ]
  },
  {
   "cell_type": "code",
   "execution_count": 51,
   "metadata": {},
   "outputs": [],
   "source": [
    "# Sort the data by arrival delay\n",
    "\n"
   ]
  },
  {
   "cell_type": "code",
   "execution_count": 52,
   "metadata": {},
   "outputs": [],
   "source": [
    "# What is the longest arrival delay? \n",
    "\n"
   ]
  },
  {
   "cell_type": "markdown",
   "metadata": {},
   "source": [
    "### Adding new columns to a Data Frame\n",
    "\n",
    "We can add a column to a data frame using square backets. For example: \n",
    "\n",
    "- `my_df[\"new col\"] = my_df[\"col1\"] + my_df[\"col2\"]`.\n",
    "\n",
    "\n"
   ]
  },
  {
   "cell_type": "markdown",
   "metadata": {},
   "source": [
    "Let's add a column called \"madeup_time\" which has the reduction in delay from when the flight left (`dep_delay`) to when it arrived (`arr_delay`)."
   ]
  },
  {
   "cell_type": "code",
   "execution_count": 53,
   "metadata": {},
   "outputs": [],
   "source": [
    "# copy the data \n",
    "flights2 = flights.copy()\n",
    "\n",
    "\n",
    "\n",
    "# calculate how many minutes were made up in flight\n",
    "\n",
    "\n",
    "\n",
    "# add change column\n",
    "\n",
    "\n",
    "\n"
   ]
  },
  {
   "cell_type": "code",
   "execution_count": 54,
   "metadata": {},
   "outputs": [],
   "source": [
    "# sort the values\n",
    "\n",
    "\n",
    "\n",
    "# sort the data from largest to smallest\n",
    "\n",
    "\n"
   ]
  },
  {
   "cell_type": "markdown",
   "metadata": {},
   "source": [
    "We can rename columns by:\n",
    "1. Creating a `rename_dictionary` dictionary that maps old column names to new column names\n",
    "2. By passing this dictionary to the `my_df.rename(columns = rename_dictionary)` method"
   ]
  },
  {
   "cell_type": "code",
   "execution_count": 55,
   "metadata": {},
   "outputs": [],
   "source": [
    "# Rename the Percent change column\n",
    "\n",
    "\n",
    "\n"
   ]
  },
  {
   "cell_type": "markdown",
   "metadata": {},
   "source": [
    "### Getting aggregate statistics by group\n",
    "\n",
    "We can get aggregate statistics by group using `groupby()` and `agg` methods using the following syntax:\n",
    "\n",
    "`my_df.groupby(\"col_name\").agg(\"agg_function_name\")`\n",
    "\n",
    "Can you get the average delay for each airline? \n"
   ]
  },
  {
   "cell_type": "code",
   "execution_count": 56,
   "metadata": {},
   "outputs": [],
   "source": [
    "# What was the average delay for each airline? \n",
    "\n",
    "\n",
    "\n"
   ]
  },
  {
   "cell_type": "markdown",
   "metadata": {},
   "source": [
    "There are several ways to get multiple statistics by group. Perhaps the most useful way is to use the syntax:\n",
    "\n",
    "<pre>\n",
    "my_df.groupby(\"group_col_name\").agg(\n",
    "   new_col1 = ('col_name', 'statistic_name1'),\n",
    "   new_col2 = ('col_name', 'statistic_name2'),\n",
    "   new_col3 = ('col_name', 'statistic_name3')\n",
    ")\n",
    "</pre>\n",
    "\n",
    "\n",
    "Let's create a DataFrame that has for each carrier:\n",
    "1. The number of flights \n",
    "2. The max departure delay\n",
    "3. The median arrival delay"
   ]
  },
  {
   "cell_type": "code",
   "execution_count": null,
   "metadata": {},
   "outputs": [],
   "source": [
    "\n",
    "\n",
    "\n",
    "\n"
   ]
  },
  {
   "cell_type": "markdown",
   "metadata": {},
   "source": [
    "![grumpy](http://www.quickmeme.com/img/17/1702cb8d3730013bdff1203920324ab55a244f0061cfaa118af059b683e2d275.jpg)"
   ]
  },
  {
   "cell_type": "markdown",
   "metadata": {},
   "source": [
    "### \"Joining\" DataFrames by Index\n",
    "\n",
    "To explore joining DataFrames, let's load the airline names into a DataFrames into a DataFrame called `airline_names`. \n",
    "\n",
    "Let's also set the Index for both the `airline_names` and `flights` to be the airline carrier code. \n",
    "\n",
    "For demonstration purposes, let's also do the following: \n",
    "\n",
    "1. Reduce the `flights` DataFrame to only have information on American Airlines (AA), Jet Blue (B6) and United Air Lines Inc. (UA) and save it to the name `flights_3_carriers`.\n",
    "\n",
    "2. Reduce `airline_names` to the first 10 entries (thus removing United Airlines), and save it to the name `airline_names_reduced` \n",
    "\n"
   ]
  },
  {
   "cell_type": "code",
   "execution_count": 57,
   "metadata": {},
   "outputs": [
    {
     "data": {
      "text/html": [
       "<div>\n",
       "<style scoped>\n",
       "    .dataframe tbody tr th:only-of-type {\n",
       "        vertical-align: middle;\n",
       "    }\n",
       "\n",
       "    .dataframe tbody tr th {\n",
       "        vertical-align: top;\n",
       "    }\n",
       "\n",
       "    .dataframe thead th {\n",
       "        text-align: right;\n",
       "    }\n",
       "</style>\n",
       "<table border=\"1\" class=\"dataframe\">\n",
       "  <thead>\n",
       "    <tr style=\"text-align: right;\">\n",
       "      <th></th>\n",
       "      <th>tailnum</th>\n",
       "      <th>arr_delay</th>\n",
       "      <th>dep_delay</th>\n",
       "      <th>flight</th>\n",
       "      <th>arr_time</th>\n",
       "      <th>dep_time</th>\n",
       "      <th>origin</th>\n",
       "      <th>dest</th>\n",
       "      <th>air_time</th>\n",
       "      <th>distance</th>\n",
       "      <th>time_hour</th>\n",
       "    </tr>\n",
       "    <tr>\n",
       "      <th>carrier</th>\n",
       "      <th></th>\n",
       "      <th></th>\n",
       "      <th></th>\n",
       "      <th></th>\n",
       "      <th></th>\n",
       "      <th></th>\n",
       "      <th></th>\n",
       "      <th></th>\n",
       "      <th></th>\n",
       "      <th></th>\n",
       "      <th></th>\n",
       "    </tr>\n",
       "  </thead>\n",
       "  <tbody>\n",
       "    <tr>\n",
       "      <th>AA</th>\n",
       "      <td>N925AN</td>\n",
       "      <td>-7.0</td>\n",
       "      <td>3.0</td>\n",
       "      <td>499</td>\n",
       "      <td>808.0</td>\n",
       "      <td>503.0</td>\n",
       "      <td>EWR</td>\n",
       "      <td>MIA</td>\n",
       "      <td>154.0</td>\n",
       "      <td>1085</td>\n",
       "      <td>2023-01-01 05:00:00</td>\n",
       "    </tr>\n",
       "    <tr>\n",
       "      <th>B6</th>\n",
       "      <td>N948JB</td>\n",
       "      <td>44.0</td>\n",
       "      <td>41.0</td>\n",
       "      <td>646</td>\n",
       "      <td>923.0</td>\n",
       "      <td>611.0</td>\n",
       "      <td>EWR</td>\n",
       "      <td>FLL</td>\n",
       "      <td>163.0</td>\n",
       "      <td>1065</td>\n",
       "      <td>2023-01-01 05:00:00</td>\n",
       "    </tr>\n",
       "    <tr>\n",
       "      <th>B6</th>\n",
       "      <td>N639JB</td>\n",
       "      <td>4.0</td>\n",
       "      <td>-10.0</td>\n",
       "      <td>800</td>\n",
       "      <td>905.0</td>\n",
       "      <td>549.0</td>\n",
       "      <td>JFK</td>\n",
       "      <td>PBI</td>\n",
       "      <td>164.0</td>\n",
       "      <td>1028</td>\n",
       "      <td>2023-01-01 05:00:00</td>\n",
       "    </tr>\n",
       "    <tr>\n",
       "      <th>UA</th>\n",
       "      <td>N13113</td>\n",
       "      <td>68.0</td>\n",
       "      <td>17.0</td>\n",
       "      <td>206</td>\n",
       "      <td>926.0</td>\n",
       "      <td>537.0</td>\n",
       "      <td>EWR</td>\n",
       "      <td>IAH</td>\n",
       "      <td>258.0</td>\n",
       "      <td>1400</td>\n",
       "      <td>2023-01-01 05:00:00</td>\n",
       "    </tr>\n",
       "    <tr>\n",
       "      <th>B6</th>\n",
       "      <td>N2043J</td>\n",
       "      <td>-1.0</td>\n",
       "      <td>10.0</td>\n",
       "      <td>996</td>\n",
       "      <td>948.0</td>\n",
       "      <td>520.0</td>\n",
       "      <td>JFK</td>\n",
       "      <td>BQN</td>\n",
       "      <td>192.0</td>\n",
       "      <td>1576</td>\n",
       "      <td>2023-01-01 05:00:00</td>\n",
       "    </tr>\n",
       "  </tbody>\n",
       "</table>\n",
       "</div>"
      ],
      "text/plain": [
       "        tailnum  arr_delay  dep_delay  flight  arr_time  dep_time origin dest  \\\n",
       "carrier                                                                         \n",
       "AA       N925AN       -7.0        3.0     499     808.0     503.0    EWR  MIA   \n",
       "B6       N948JB       44.0       41.0     646     923.0     611.0    EWR  FLL   \n",
       "B6       N639JB        4.0      -10.0     800     905.0     549.0    JFK  PBI   \n",
       "UA       N13113       68.0       17.0     206     926.0     537.0    EWR  IAH   \n",
       "B6       N2043J       -1.0       10.0     996     948.0     520.0    JFK  BQN   \n",
       "\n",
       "         air_time  distance           time_hour  \n",
       "carrier                                          \n",
       "AA          154.0      1085 2023-01-01 05:00:00  \n",
       "B6          163.0      1065 2023-01-01 05:00:00  \n",
       "B6          164.0      1028 2023-01-01 05:00:00  \n",
       "UA          258.0      1400 2023-01-01 05:00:00  \n",
       "B6          192.0      1576 2023-01-01 05:00:00  "
      ]
     },
     "execution_count": 57,
     "metadata": {},
     "output_type": "execute_result"
    }
   ],
   "source": [
    "flights_3_carriers = flights.reset_index().set_index(\"carrier\")\n",
    "\n",
    "# just get flights from American Airlines (AA), Jet Blue (B6) and Delta (DL) \n",
    "flights_3_carriers = flights_3_carriers.loc[[\"AA\", \"B6\", \"UA\"]].sort_values(\"time_hour\")\n",
    "\n",
    "flights_3_carriers.head()\n"
   ]
  },
  {
   "cell_type": "code",
   "execution_count": 58,
   "metadata": {},
   "outputs": [
    {
     "data": {
      "text/html": [
       "<div>\n",
       "<style scoped>\n",
       "    .dataframe tbody tr th:only-of-type {\n",
       "        vertical-align: middle;\n",
       "    }\n",
       "\n",
       "    .dataframe tbody tr th {\n",
       "        vertical-align: top;\n",
       "    }\n",
       "\n",
       "    .dataframe thead th {\n",
       "        text-align: right;\n",
       "    }\n",
       "</style>\n",
       "<table border=\"1\" class=\"dataframe\">\n",
       "  <thead>\n",
       "    <tr style=\"text-align: right;\">\n",
       "      <th></th>\n",
       "      <th>name</th>\n",
       "    </tr>\n",
       "    <tr>\n",
       "      <th>carrier</th>\n",
       "      <th></th>\n",
       "    </tr>\n",
       "  </thead>\n",
       "  <tbody>\n",
       "    <tr>\n",
       "      <th>9E</th>\n",
       "      <td>Endeavor Air Inc.</td>\n",
       "    </tr>\n",
       "    <tr>\n",
       "      <th>AA</th>\n",
       "      <td>American Airlines Inc.</td>\n",
       "    </tr>\n",
       "    <tr>\n",
       "      <th>AS</th>\n",
       "      <td>Alaska Airlines Inc.</td>\n",
       "    </tr>\n",
       "    <tr>\n",
       "      <th>B6</th>\n",
       "      <td>JetBlue Airways</td>\n",
       "    </tr>\n",
       "    <tr>\n",
       "      <th>DL</th>\n",
       "      <td>Delta Air Lines Inc.</td>\n",
       "    </tr>\n",
       "    <tr>\n",
       "      <th>F9</th>\n",
       "      <td>Frontier Airlines Inc.</td>\n",
       "    </tr>\n",
       "    <tr>\n",
       "      <th>G4</th>\n",
       "      <td>Allegiant Air</td>\n",
       "    </tr>\n",
       "    <tr>\n",
       "      <th>HA</th>\n",
       "      <td>Hawaiian Airlines Inc.</td>\n",
       "    </tr>\n",
       "    <tr>\n",
       "      <th>MQ</th>\n",
       "      <td>Envoy Air</td>\n",
       "    </tr>\n",
       "    <tr>\n",
       "      <th>NK</th>\n",
       "      <td>Spirit Air Lines</td>\n",
       "    </tr>\n",
       "  </tbody>\n",
       "</table>\n",
       "</div>"
      ],
      "text/plain": [
       "                           name\n",
       "carrier                        \n",
       "9E            Endeavor Air Inc.\n",
       "AA       American Airlines Inc.\n",
       "AS         Alaska Airlines Inc.\n",
       "B6              JetBlue Airways\n",
       "DL         Delta Air Lines Inc.\n",
       "F9       Frontier Airlines Inc.\n",
       "G4                Allegiant Air\n",
       "HA       Hawaiian Airlines Inc.\n",
       "MQ                    Envoy Air\n",
       "NK             Spirit Air Lines"
      ]
     },
     "execution_count": 58,
     "metadata": {},
     "output_type": "execute_result"
    }
   ],
   "source": [
    "airline_names = pd.read_csv(\"nyc23_airlines.csv\", index_col = \"carrier\")\n",
    "airline_names_reduced = airline_names.iloc[0:10]\n",
    "\n",
    "airline_names_reduced"
   ]
  },
  {
   "cell_type": "markdown",
   "metadata": {},
   "source": [
    "When two DataFrames have the same Index values, we can use the `.join()` method to join them."
   ]
  },
  {
   "cell_type": "code",
   "execution_count": 59,
   "metadata": {},
   "outputs": [],
   "source": [
    "# Let's do a left join by setting how = \"left\"\n",
    "\n",
    "\n"
   ]
  },
  {
   "cell_type": "code",
   "execution_count": 60,
   "metadata": {},
   "outputs": [],
   "source": [
    "# Let's do a right join by setting how = \"right\"  \n",
    "\n",
    "\n"
   ]
  },
  {
   "cell_type": "markdown",
   "metadata": {},
   "source": [
    "### \"Merging\" DataFrames by column values\n",
    "\n",
    "If we want to join by value in a column rather than by Index value we can use the `.merge()` method (which is very similar to the `.join()` method). \n"
   ]
  },
  {
   "cell_type": "code",
   "execution_count": 61,
   "metadata": {},
   "outputs": [
    {
     "data": {
      "text/html": [
       "<div>\n",
       "<style scoped>\n",
       "    .dataframe tbody tr th:only-of-type {\n",
       "        vertical-align: middle;\n",
       "    }\n",
       "\n",
       "    .dataframe tbody tr th {\n",
       "        vertical-align: top;\n",
       "    }\n",
       "\n",
       "    .dataframe thead th {\n",
       "        text-align: right;\n",
       "    }\n",
       "</style>\n",
       "<table border=\"1\" class=\"dataframe\">\n",
       "  <thead>\n",
       "    <tr style=\"text-align: right;\">\n",
       "      <th></th>\n",
       "      <th>carrier</th>\n",
       "      <th>tailnum</th>\n",
       "      <th>arr_delay</th>\n",
       "      <th>dep_delay</th>\n",
       "      <th>flight</th>\n",
       "      <th>arr_time</th>\n",
       "      <th>dep_time</th>\n",
       "      <th>origin</th>\n",
       "      <th>dest</th>\n",
       "      <th>air_time</th>\n",
       "      <th>distance</th>\n",
       "      <th>time_hour</th>\n",
       "    </tr>\n",
       "  </thead>\n",
       "  <tbody>\n",
       "    <tr>\n",
       "      <th>0</th>\n",
       "      <td>AA</td>\n",
       "      <td>N925AN</td>\n",
       "      <td>-7.0</td>\n",
       "      <td>3.0</td>\n",
       "      <td>499</td>\n",
       "      <td>808.0</td>\n",
       "      <td>503.0</td>\n",
       "      <td>EWR</td>\n",
       "      <td>MIA</td>\n",
       "      <td>154.0</td>\n",
       "      <td>1085</td>\n",
       "      <td>2023-01-01 05:00:00</td>\n",
       "    </tr>\n",
       "    <tr>\n",
       "      <th>1</th>\n",
       "      <td>B6</td>\n",
       "      <td>N948JB</td>\n",
       "      <td>44.0</td>\n",
       "      <td>41.0</td>\n",
       "      <td>646</td>\n",
       "      <td>923.0</td>\n",
       "      <td>611.0</td>\n",
       "      <td>EWR</td>\n",
       "      <td>FLL</td>\n",
       "      <td>163.0</td>\n",
       "      <td>1065</td>\n",
       "      <td>2023-01-01 05:00:00</td>\n",
       "    </tr>\n",
       "    <tr>\n",
       "      <th>2</th>\n",
       "      <td>B6</td>\n",
       "      <td>N639JB</td>\n",
       "      <td>4.0</td>\n",
       "      <td>-10.0</td>\n",
       "      <td>800</td>\n",
       "      <td>905.0</td>\n",
       "      <td>549.0</td>\n",
       "      <td>JFK</td>\n",
       "      <td>PBI</td>\n",
       "      <td>164.0</td>\n",
       "      <td>1028</td>\n",
       "      <td>2023-01-01 05:00:00</td>\n",
       "    </tr>\n",
       "  </tbody>\n",
       "</table>\n",
       "</div>"
      ],
      "text/plain": [
       "  carrier tailnum  arr_delay  dep_delay  flight  arr_time  dep_time origin  \\\n",
       "0      AA  N925AN       -7.0        3.0     499     808.0     503.0    EWR   \n",
       "1      B6  N948JB       44.0       41.0     646     923.0     611.0    EWR   \n",
       "2      B6  N639JB        4.0      -10.0     800     905.0     549.0    JFK   \n",
       "\n",
       "  dest  air_time  distance           time_hour  \n",
       "0  MIA     154.0      1085 2023-01-01 05:00:00  \n",
       "1  FLL     163.0      1065 2023-01-01 05:00:00  \n",
       "2  PBI     164.0      1028 2023-01-01 05:00:00  "
      ]
     },
     "execution_count": 61,
     "metadata": {},
     "output_type": "execute_result"
    }
   ],
   "source": [
    "# reset the index of flights_3_carriers\n",
    "flights_3_carriers2 = flights_3_carriers.reset_index()\n",
    "flights_3_carriers2.head(3)"
   ]
  },
  {
   "cell_type": "code",
   "execution_count": 62,
   "metadata": {},
   "outputs": [
    {
     "data": {
      "text/html": [
       "<div>\n",
       "<style scoped>\n",
       "    .dataframe tbody tr th:only-of-type {\n",
       "        vertical-align: middle;\n",
       "    }\n",
       "\n",
       "    .dataframe tbody tr th {\n",
       "        vertical-align: top;\n",
       "    }\n",
       "\n",
       "    .dataframe thead th {\n",
       "        text-align: right;\n",
       "    }\n",
       "</style>\n",
       "<table border=\"1\" class=\"dataframe\">\n",
       "  <thead>\n",
       "    <tr style=\"text-align: right;\">\n",
       "      <th></th>\n",
       "      <th>carrier</th>\n",
       "      <th>name</th>\n",
       "    </tr>\n",
       "  </thead>\n",
       "  <tbody>\n",
       "    <tr>\n",
       "      <th>0</th>\n",
       "      <td>9E</td>\n",
       "      <td>Endeavor Air Inc.</td>\n",
       "    </tr>\n",
       "    <tr>\n",
       "      <th>1</th>\n",
       "      <td>AA</td>\n",
       "      <td>American Airlines Inc.</td>\n",
       "    </tr>\n",
       "    <tr>\n",
       "      <th>2</th>\n",
       "      <td>AS</td>\n",
       "      <td>Alaska Airlines Inc.</td>\n",
       "    </tr>\n",
       "  </tbody>\n",
       "</table>\n",
       "</div>"
      ],
      "text/plain": [
       "  carrier                    name\n",
       "0      9E       Endeavor Air Inc.\n",
       "1      AA  American Airlines Inc.\n",
       "2      AS    Alaska Airlines Inc."
      ]
     },
     "execution_count": 62,
     "metadata": {},
     "output_type": "execute_result"
    }
   ],
   "source": [
    "# reset the index of airline_names_reduced\n",
    "airline_names_reduced2 = airline_names_reduced.reset_index()\n",
    "airline_names_reduced2.head(3)"
   ]
  },
  {
   "cell_type": "code",
   "execution_count": 63,
   "metadata": {},
   "outputs": [],
   "source": [
    "# use the .merge() method to join the DataFrames\n",
    "\n",
    "\n",
    "\n"
   ]
  },
  {
   "cell_type": "markdown",
   "metadata": {},
   "source": [
    "#### Merging with different column names\n",
    "\n",
    "What if the columns we want to join on have different names, we can use the `left_on` and `right_on` arguments to specify which columns (i.e., keys) should be used to align the two DataFrames"
   ]
  },
  {
   "cell_type": "code",
   "execution_count": 64,
   "metadata": {},
   "outputs": [
    {
     "data": {
      "text/html": [
       "<div>\n",
       "<style scoped>\n",
       "    .dataframe tbody tr th:only-of-type {\n",
       "        vertical-align: middle;\n",
       "    }\n",
       "\n",
       "    .dataframe tbody tr th {\n",
       "        vertical-align: top;\n",
       "    }\n",
       "\n",
       "    .dataframe thead th {\n",
       "        text-align: right;\n",
       "    }\n",
       "</style>\n",
       "<table border=\"1\" class=\"dataframe\">\n",
       "  <thead>\n",
       "    <tr style=\"text-align: right;\">\n",
       "      <th></th>\n",
       "      <th>Airline Code</th>\n",
       "      <th>tailnum</th>\n",
       "      <th>arr_delay</th>\n",
       "      <th>dep_delay</th>\n",
       "      <th>flight</th>\n",
       "      <th>arr_time</th>\n",
       "      <th>dep_time</th>\n",
       "      <th>origin</th>\n",
       "      <th>dest</th>\n",
       "      <th>air_time</th>\n",
       "      <th>distance</th>\n",
       "      <th>time_hour</th>\n",
       "    </tr>\n",
       "  </thead>\n",
       "  <tbody>\n",
       "    <tr>\n",
       "      <th>0</th>\n",
       "      <td>AA</td>\n",
       "      <td>N925AN</td>\n",
       "      <td>-7.0</td>\n",
       "      <td>3.0</td>\n",
       "      <td>499</td>\n",
       "      <td>808.0</td>\n",
       "      <td>503.0</td>\n",
       "      <td>EWR</td>\n",
       "      <td>MIA</td>\n",
       "      <td>154.0</td>\n",
       "      <td>1085</td>\n",
       "      <td>2023-01-01 05:00:00</td>\n",
       "    </tr>\n",
       "    <tr>\n",
       "      <th>1</th>\n",
       "      <td>B6</td>\n",
       "      <td>N948JB</td>\n",
       "      <td>44.0</td>\n",
       "      <td>41.0</td>\n",
       "      <td>646</td>\n",
       "      <td>923.0</td>\n",
       "      <td>611.0</td>\n",
       "      <td>EWR</td>\n",
       "      <td>FLL</td>\n",
       "      <td>163.0</td>\n",
       "      <td>1065</td>\n",
       "      <td>2023-01-01 05:00:00</td>\n",
       "    </tr>\n",
       "    <tr>\n",
       "      <th>2</th>\n",
       "      <td>B6</td>\n",
       "      <td>N639JB</td>\n",
       "      <td>4.0</td>\n",
       "      <td>-10.0</td>\n",
       "      <td>800</td>\n",
       "      <td>905.0</td>\n",
       "      <td>549.0</td>\n",
       "      <td>JFK</td>\n",
       "      <td>PBI</td>\n",
       "      <td>164.0</td>\n",
       "      <td>1028</td>\n",
       "      <td>2023-01-01 05:00:00</td>\n",
       "    </tr>\n",
       "  </tbody>\n",
       "</table>\n",
       "</div>"
      ],
      "text/plain": [
       "  Airline Code tailnum  arr_delay  dep_delay  flight  arr_time  dep_time  \\\n",
       "0           AA  N925AN       -7.0        3.0     499     808.0     503.0   \n",
       "1           B6  N948JB       44.0       41.0     646     923.0     611.0   \n",
       "2           B6  N639JB        4.0      -10.0     800     905.0     549.0   \n",
       "\n",
       "  origin dest  air_time  distance           time_hour  \n",
       "0    EWR  MIA     154.0      1085 2023-01-01 05:00:00  \n",
       "1    EWR  FLL     163.0      1065 2023-01-01 05:00:00  \n",
       "2    JFK  PBI     164.0      1028 2023-01-01 05:00:00  "
      ]
     },
     "execution_count": 64,
     "metadata": {},
     "output_type": "execute_result"
    }
   ],
   "source": [
    "flights_3_carriers3 = flights_3_carriers2.rename(columns = {\"carrier\": \"Airline Code\"})\n",
    "flights_3_carriers3.head(3)"
   ]
  },
  {
   "cell_type": "code",
   "execution_count": 65,
   "metadata": {},
   "outputs": [
    {
     "data": {
      "text/html": [
       "<div>\n",
       "<style scoped>\n",
       "    .dataframe tbody tr th:only-of-type {\n",
       "        vertical-align: middle;\n",
       "    }\n",
       "\n",
       "    .dataframe tbody tr th {\n",
       "        vertical-align: top;\n",
       "    }\n",
       "\n",
       "    .dataframe thead th {\n",
       "        text-align: right;\n",
       "    }\n",
       "</style>\n",
       "<table border=\"1\" class=\"dataframe\">\n",
       "  <thead>\n",
       "    <tr style=\"text-align: right;\">\n",
       "      <th></th>\n",
       "      <th>Code</th>\n",
       "      <th>name</th>\n",
       "    </tr>\n",
       "  </thead>\n",
       "  <tbody>\n",
       "    <tr>\n",
       "      <th>0</th>\n",
       "      <td>9E</td>\n",
       "      <td>Endeavor Air Inc.</td>\n",
       "    </tr>\n",
       "    <tr>\n",
       "      <th>1</th>\n",
       "      <td>AA</td>\n",
       "      <td>American Airlines Inc.</td>\n",
       "    </tr>\n",
       "    <tr>\n",
       "      <th>2</th>\n",
       "      <td>AS</td>\n",
       "      <td>Alaska Airlines Inc.</td>\n",
       "    </tr>\n",
       "  </tbody>\n",
       "</table>\n",
       "</div>"
      ],
      "text/plain": [
       "  Code                    name\n",
       "0   9E       Endeavor Air Inc.\n",
       "1   AA  American Airlines Inc.\n",
       "2   AS    Alaska Airlines Inc."
      ]
     },
     "execution_count": 65,
     "metadata": {},
     "output_type": "execute_result"
    }
   ],
   "source": [
    "airline_names_reduced3 = airline_names_reduced2.rename(columns = {\"carrier\": \"Code\"})\n",
    "airline_names_reduced3.head(3)"
   ]
  },
  {
   "cell_type": "code",
   "execution_count": 66,
   "metadata": {},
   "outputs": [],
   "source": [
    "# merge the DataFrames specifying the column names to join on\n",
    "\n",
    "\n"
   ]
  },
  {
   "cell_type": "markdown",
   "metadata": {},
   "source": [
    "#### Example: Spelling out names of airlines with the longest delays\n",
    "\n",
    "Please try to create a DataFrame where the Index name is the full airline name, and the columns are:\n",
    "- `mean_delay`: Has the mean arrival delay for each airline\n",
    "- `median_delay`: Has the median arrival delay for each airline\n",
    "- `count`: The number of flights that went into these averages\n",
    "\n",
    "To do this, start with the `flights`, and the `airline_names` DataFrames and go from there. Also, be sure your results are sorted from the largest mean delay to the smallest mean delay\n"
   ]
  },
  {
   "cell_type": "code",
   "execution_count": null,
   "metadata": {},
   "outputs": [],
   "source": [
    "\n",
    "\n",
    "\n",
    "\n",
    "\n",
    "\n",
    "\n"
   ]
  },
  {
   "cell_type": "markdown",
   "metadata": {},
   "source": [
    "#### Further flight delay explorations\n",
    "\n",
    "If you are interested in exploring further what leads to flight delays, you can also check out the following data:\n",
    "\n",
    "- `nyc23_planes.csv`: Information about different airplanes \n",
    "- `nyc23_airports.csv`: The names of different airports\n",
    "- `\n",
    "\n",
    "All these data sets can be downloaded using the `YData.download_data()` function. A codebook that contains information on the variables in these DataFrames can be found at: https://cran.r-project.org/web/packages/nycflights23/nycflights23.pdf \n"
   ]
  },
  {
   "cell_type": "code",
   "execution_count": 67,
   "metadata": {},
   "outputs": [],
   "source": [
    "# Explore more on your own!  For example, you can examine how weather affects flight delays, etc.\n",
    "\n",
    "\n",
    "\n",
    "\n",
    "\n",
    "\n",
    "\n",
    "\n",
    "\n",
    "\n",
    "\n",
    "\n"
   ]
  }
 ],
 "metadata": {
  "anaconda-cloud": {},
  "kernelspec": {
   "display_name": "Python 3 (ipykernel)",
   "language": "python",
   "name": "python3"
  },
  "language_info": {
   "codemirror_mode": {
    "name": "ipython",
    "version": 3
   },
   "file_extension": ".py",
   "mimetype": "text/x-python",
   "name": "python",
   "nbconvert_exporter": "python",
   "pygments_lexer": "ipython3",
   "version": "3.13.5"
  }
 },
 "nbformat": 4,
 "nbformat_minor": 4
}
