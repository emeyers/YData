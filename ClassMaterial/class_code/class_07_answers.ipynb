{
 "cells": [
  {
   "cell_type": "markdown",
   "metadata": {},
   "source": [
    "# Class 7: Functions\n",
    "\n",
    "Plan for today:\n",
    "- Review important topics: for loops and Boolean indexing\n",
    "- Writing functions\n",
    "- If there is time: pandas Series and DataFrames\n",
    "\n"
   ]
  },
  {
   "cell_type": "markdown",
   "metadata": {},
   "source": [
    "## Notes on the class Jupyter setup\n",
    "\n",
    "If you have the *ydata123_2023e* environment set up correctly, you can get the class code using the code below (which presumably you've already done given that you are seeing this notebook).  "
   ]
  },
  {
   "cell_type": "code",
   "execution_count": null,
   "metadata": {},
   "outputs": [],
   "source": [
    "import YData\n",
    "\n",
    "# YData.download.download_class_code(7)   # get class 4 code    \n",
    "\n",
    "# YData.download.download_class_code(7, TRUE) # get the code with the answers \n",
    "\n",
    "YData.download.download_data(\"dow.csv\")\n",
    "YData.download.download_data(\"monthly_egg_prices.csv\")\n",
    "YData.download.download_data(\"monthly_wheat_prices.csv\")\n"
   ]
  },
  {
   "cell_type": "markdown",
   "metadata": {},
   "source": [
    "There are also similar functions to download the homework:"
   ]
  },
  {
   "cell_type": "code",
   "execution_count": null,
   "metadata": {},
   "outputs": [],
   "source": [
    "YData.download.download_homework(3)  # downloads the second homework "
   ]
  },
  {
   "cell_type": "markdown",
   "metadata": {},
   "source": [
    "If you are using colabs, you should install polars and the YData packages by uncommenting and running the code below."
   ]
  },
  {
   "cell_type": "code",
   "execution_count": null,
   "metadata": {},
   "outputs": [],
   "source": [
    "# !pip install polars\n",
    "# !pip install https://github.com/emeyers/YData_package/tarball/master"
   ]
  },
  {
   "cell_type": "markdown",
   "metadata": {},
   "source": [
    "If you are using google colabs, you should also uncomment and run the code below to mount the your google drive"
   ]
  },
  {
   "cell_type": "code",
   "execution_count": null,
   "metadata": {},
   "outputs": [],
   "source": [
    "# from google.colab import drive\n",
    "# drive.mount('/content/drive')"
   ]
  },
  {
   "cell_type": "code",
   "execution_count": null,
   "metadata": {},
   "outputs": [],
   "source": [
    "import pandas as pd\n",
    "import statistics\n",
    "import numpy as np\n",
    "from datetime import datetime\n",
    "\n",
    "import matplotlib.pyplot as plt\n",
    "%matplotlib inline"
   ]
  },
  {
   "cell_type": "markdown",
   "metadata": {},
   "source": [
    "## Warm up review: lists and for loops\n",
    "\n",
    "The code below loads the monthly price of a ton of wheat and a dozen eggs. \n",
    "\n",
    "Suppose someone bought a dozen eggs and a pound of wheat each month since Jan 1st, 1990 (which is when the data starts). Please answer the following questions:\n",
    "\n",
    "1. Use a for loop to create a list which has how much they spent each month (i.e., has one value for each month since 1980). \n",
    "\n",
    "2. Calculate the total amount of money that was spent. \n",
    "\n",
    "Hint: A ton is 2,000 pounds. \n"
   ]
  },
  {
   "cell_type": "code",
   "execution_count": null,
   "metadata": {},
   "outputs": [],
   "source": [
    "# load the data\n",
    "import datetime\n",
    "\n",
    "egg_prices_df = pd.read_csv(\"monthly_egg_prices.csv\", parse_dates=True) \n",
    "egg_prices_df[\"DATE\"] = pd.to_datetime(egg_prices_df['DATE']) \n",
    "egg_prices_df = egg_prices_df.set_index(\"DATE\")\n",
    "\n",
    "wheat_prices_df = pd.read_csv(\"monthly_wheat_prices.csv\", parse_dates=True) \n",
    "wheat_prices_df[\"DATE\"] = pd.to_datetime(wheat_prices_df['DATE']) \n",
    "wheat_prices_df = wheat_prices_df.set_index(\"DATE\")\n",
    "\n",
    "prices_df = egg_prices_df.join(wheat_prices_df, lsuffix = \"_egg\", rsuffix = \"_wheat\").dropna()\n",
    "\n",
    "\n",
    "# create lists with the egg and wheat prices\n",
    "egg_prices = prices_df[\"Price_egg\"].to_list()\n",
    "wheat_prices = prices_df[\"Price_wheat\"].to_list()\n",
    "\n",
    "print(egg_prices[0:5])\n",
    "print(wheat_prices[0:5])\n",
    "\n",
    "prices_df.head()"
   ]
  },
  {
   "cell_type": "code",
   "execution_count": null,
   "metadata": {},
   "outputs": [],
   "source": [
    "# Question 1: \n",
    "# Calculate total spent on a dozen eggs and a pound of flour per month\n",
    "\n",
    "total_spent = 0\n",
    "for i in range(len(egg_prices)):\n",
    "    \n",
    "    total_spent = total_spent + egg_prices[i] + wheat_prices[i]/2000\n",
    "\n",
    "total_spent\n"
   ]
  },
  {
   "cell_type": "code",
   "execution_count": null,
   "metadata": {},
   "outputs": [],
   "source": [
    "# Question 2: \n",
    "# Create a list that has how much money would be spent each month (for 12 eggs and a pound of wheat)\n",
    "\n",
    "monthly_spent = []\n",
    "\n",
    "for i in range(len(egg_prices)):\n",
    "    \n",
    "    monthly_spent.append(egg_prices[i] + wheat_prices[i]/2000)\n",
    "\n",
    "\n",
    "print(monthly_spent[0:5])\n",
    "print(monthly_spent[-4:-1])\n",
    "\n"
   ]
  },
  {
   "cell_type": "code",
   "execution_count": null,
   "metadata": {},
   "outputs": [],
   "source": [
    "# Question 3: \n",
    "# Suppose someone only would buy a pound of wheat in months where eggs were less than $2.\n",
    "# What is the total they would have spent on wheat? \n",
    "\n",
    "total_spent = 0\n",
    "for i in range(len(egg_prices)):\n",
    "    \n",
    "    if egg_prices[i] < 2:\n",
    "        total_spent = total_spent +  wheat_prices[i]/2000\n",
    "\n",
    "total_spent\n",
    "\n"
   ]
  },
  {
   "cell_type": "markdown",
   "metadata": {},
   "source": [
    "## Very quick review of array computations\n",
    "\n",
    "Often we want to process data that is all of the same type. For example, we might want to do processing on a data set of numbers (e.g., if we were just analyzing salary data). \n",
    "\n",
    "When we have data that is all of the same type, there are faster ways to process data than using a list. In Python, the `numpy` package offers ways to store and process data that is all of the same type using a data structure called a `ndarray`. There are also functions that operate on `ndarrays` that can do computations very efficiently. \n",
    "\n",
    "Let's explore this now!"
   ]
  },
  {
   "cell_type": "code",
   "execution_count": null,
   "metadata": {},
   "outputs": [],
   "source": [
    "# import the numpy package\n",
    "import numpy as np\n"
   ]
  },
  {
   "cell_type": "code",
   "execution_count": null,
   "metadata": {},
   "outputs": [],
   "source": [
    "# create an ndarry of numbers\n",
    "a_list = [2, 3, 4, 5]\n",
    "an_array = np.array(a_list)  # create an ndarray from a list\n",
    "\n",
    "print(an_array)           # print out the array\n",
    "print(an_array.dtype)     # print out the array's dtype\n",
    "print(an_array.shape)     # print out the array's size\n",
    "print(an_array[0])        # get the first item of the array"
   ]
  },
  {
   "cell_type": "code",
   "execution_count": null,
   "metadata": {},
   "outputs": [],
   "source": [
    "# create a boolean array\n",
    "boolean_array = np.array([True, True, False])\n",
    "\n",
    "print(boolean_array) # print out the array\n",
    "print(boolean_array.dtype) # print out the array's dtype\n",
    "print(boolean_array.astype(\"int\")) # convert the array from Booleans to integers"
   ]
  },
  {
   "cell_type": "code",
   "execution_count": null,
   "metadata": {},
   "outputs": [],
   "source": [
    "# use a Boolean array to get elements from another array\n",
    "an_array = np.array([1, 2, 3, 4, 5])\n",
    "boolean_array = np.array([True, True, False, True, True])\n",
    "\n",
    "# get only the elements that are True\n",
    "an_array[boolean_array]"
   ]
  },
  {
   "cell_type": "code",
   "execution_count": null,
   "metadata": {},
   "outputs": [],
   "source": [
    "# create a boolean array for all values greater than 3\n",
    "boolean_array = an_array > 3"
   ]
  },
  {
   "cell_type": "code",
   "execution_count": null,
   "metadata": {},
   "outputs": [],
   "source": [
    "# use boolean array to return the actual values greater than 3\n",
    "an_array[boolean_array]\n"
   ]
  },
  {
   "cell_type": "code",
   "execution_count": null,
   "metadata": {},
   "outputs": [],
   "source": [
    "# return the actual values greater than 3 in one step\n",
    "an_array[an_array > 3]\n"
   ]
  },
  {
   "cell_type": "code",
   "execution_count": null,
   "metadata": {},
   "outputs": [],
   "source": [
    "# Let's again get the total price of wheat in months where eggs were less than $2\n",
    "\n",
    "egg_price_array = np.array(egg_prices)\n",
    "wheat_price_array = np.array(wheat_prices)/2000\n",
    "\n",
    "wheat_price_array[egg_price_array < 2]\n",
    "\n",
    "np.sum(wheat_price_array[egg_price_array < 2])\n",
    "\n"
   ]
  },
  {
   "cell_type": "markdown",
   "metadata": {},
   "source": [
    "## Functions!\n",
    "\n",
    "We have already used many functions in this class that are built into Python or are imported from different modules/packages. \n",
    "\n",
    "Let's now write some new functions outselves! \n"
   ]
  },
  {
   "cell_type": "code",
   "execution_count": null,
   "metadata": {},
   "outputs": [],
   "source": [
    "def double(x):\n",
    "    return x * 2"
   ]
  },
  {
   "cell_type": "code",
   "execution_count": null,
   "metadata": {},
   "outputs": [],
   "source": [
    "double(7)"
   ]
  },
  {
   "cell_type": "code",
   "execution_count": null,
   "metadata": {},
   "outputs": [],
   "source": [
    "double(15/3)"
   ]
  },
  {
   "cell_type": "code",
   "execution_count": null,
   "metadata": {},
   "outputs": [],
   "source": [
    "my_number = 12"
   ]
  },
  {
   "cell_type": "code",
   "execution_count": null,
   "metadata": {},
   "outputs": [],
   "source": [
    "double(my_number)"
   ]
  },
  {
   "cell_type": "code",
   "execution_count": null,
   "metadata": {},
   "outputs": [],
   "source": [
    "double(my_number / 8)"
   ]
  },
  {
   "cell_type": "code",
   "execution_count": null,
   "metadata": {},
   "outputs": [],
   "source": [
    "# will this work?\n",
    "double(np.array([3, 4, 5]))"
   ]
  },
  {
   "cell_type": "code",
   "execution_count": null,
   "metadata": {},
   "outputs": [],
   "source": [
    "# will this work? \n",
    "double('data')"
   ]
  },
  {
   "cell_type": "code",
   "execution_count": null,
   "metadata": {},
   "outputs": [],
   "source": [
    "# what about this? \n",
    "double(True)"
   ]
  },
  {
   "cell_type": "code",
   "execution_count": null,
   "metadata": {},
   "outputs": [],
   "source": [
    "#\"local scope\"\n",
    "x"
   ]
  },
  {
   "cell_type": "code",
   "execution_count": null,
   "metadata": {},
   "outputs": [],
   "source": [
    "x = 17"
   ]
  },
  {
   "cell_type": "code",
   "execution_count": null,
   "metadata": {},
   "outputs": [],
   "source": [
    "double(2)"
   ]
  },
  {
   "cell_type": "code",
   "execution_count": null,
   "metadata": {},
   "outputs": [],
   "source": [
    "x"
   ]
  },
  {
   "cell_type": "code",
   "execution_count": null,
   "metadata": {},
   "outputs": [],
   "source": [
    "double(x)"
   ]
  },
  {
   "cell_type": "code",
   "execution_count": null,
   "metadata": {},
   "outputs": [],
   "source": [
    "x"
   ]
  },
  {
   "cell_type": "markdown",
   "metadata": {},
   "source": [
    "### Discussion Question\n",
    "\n",
    "What does the following function do? "
   ]
  },
  {
   "cell_type": "code",
   "execution_count": null,
   "metadata": {},
   "outputs": [],
   "source": [
    "#What does this function do?\n",
    "def percents(values):\n",
    "    return np.round(100 * values / sum(values), 2)"
   ]
  },
  {
   "cell_type": "code",
   "execution_count": null,
   "metadata": {},
   "outputs": [],
   "source": [
    "percents(np.array([1, 2, 3, 4]))"
   ]
  },
  {
   "cell_type": "code",
   "execution_count": null,
   "metadata": {},
   "outputs": [],
   "source": [
    "percents(np.array([1, 4, 30]))"
   ]
  },
  {
   "cell_type": "code",
   "execution_count": null,
   "metadata": {},
   "outputs": [],
   "source": [
    "# Can have multiple inputs\n",
    "def percents(values, places):\n",
    "    return np.round(values / sum(values) * 100, places)"
   ]
  },
  {
   "cell_type": "code",
   "execution_count": null,
   "metadata": {},
   "outputs": [],
   "source": [
    "percents(np.array([1, 4, 30]), 1)"
   ]
  },
  {
   "cell_type": "markdown",
   "metadata": {},
   "source": [
    "## Function extras: docstrings\n",
    "\n",
    "When writing functions that will be used by other people (or your future self) it is important to write some documentation describing how your function works. In Python, this type of documentation is called a \"docstring\". The text in a docstring is in triple quotes which allows for multi-line comments.\n",
    "\n",
    "There are a number of [convensions](https://peps.python.org/pep-0257/) surrounding on how to write a docstring, including: \n",
    "\n",
    "- The doc string line should begin with a capital letter and end with a period.\n",
    "- The first line should be a short description.\n",
    "- If there are more lines in the documentation string, the second line should be blank, visually separating the summary from the rest of the description.\n",
    "- The following lines should be one or more paragraphs describing the object’s calling conventions, its side effects, etc.\n"
   ]
  },
  {
   "cell_type": "code",
   "execution_count": null,
   "metadata": {},
   "outputs": [],
   "source": [
    "def double(x):\n",
    "    \"\"\"Take a number and doubles it.\n",
    "    \n",
    "    Parameters:\n",
    "    x (int): A number that should be doubled\n",
    "    \n",
    "    Returns:\n",
    "    int: The numbers that is doubled\n",
    "    \n",
    "    \"\"\"\n",
    "    return x * 2"
   ]
  },
  {
   "cell_type": "code",
   "execution_count": null,
   "metadata": {},
   "outputs": [],
   "source": [
    "? double"
   ]
  },
  {
   "cell_type": "markdown",
   "metadata": {},
   "source": [
    "## Function extras: creating your own modules\n",
    "\n",
    "If you save function in a file a Python file that ends with .py (e.g., in a file called `my_module.py`), you can import your functions as a module.\n"
   ]
  },
  {
   "cell_type": "code",
   "execution_count": null,
   "metadata": {},
   "outputs": [],
   "source": [
    "\n",
    "import my_module as mm\n",
    "\n",
    "mm.my_double(123)"
   ]
  },
  {
   "cell_type": "markdown",
   "metadata": {},
   "source": [
    "## Pandas \n",
    "\n",
    "pandas Series are: 0ne-dimensional ndarray with axis labels\n",
    "\n",
    "pands DataFrame are: Table data\n",
    "\n",
    "Let's look at the egg and wheat price data...\n"
   ]
  },
  {
   "cell_type": "code",
   "execution_count": null,
   "metadata": {},
   "outputs": [],
   "source": [
    "egg_prices_series = pd.read_csv(\"monthly_egg_prices.csv\", parse_dates=True, index_col= \"DATE\").squeeze() \n",
    "\n",
    "# print the type\n",
    "print(type(egg_prices_series))\n",
    "\n",
    "# print the shape\n",
    "print(egg_prices_series.shape)\n",
    "\n",
    "# print the series\n",
    "egg_prices_series\n"
   ]
  },
  {
   "cell_type": "code",
   "execution_count": null,
   "metadata": {},
   "outputs": [],
   "source": [
    "# get a value from the Series by an Index name using .loc\n",
    "egg_prices_series.loc[\"1980-01-01\"]"
   ]
  },
  {
   "cell_type": "code",
   "execution_count": null,
   "metadata": {},
   "outputs": [],
   "source": [
    "# get a value from the Series by index number using .iloc\n",
    "egg_prices_series.iloc[0]"
   ]
  },
  {
   "cell_type": "code",
   "execution_count": null,
   "metadata": {},
   "outputs": [],
   "source": [
    "# get egg prices for only 2022 using the .filter function \n",
    "egg_prices_2022 = egg_prices_series.filter(like='2022')\n",
    "\n",
    "# print the length \n",
    "print(len(egg_prices_2022))\n",
    "\n",
    "egg_prices_2022"
   ]
  },
  {
   "cell_type": "code",
   "execution_count": null,
   "metadata": {},
   "outputs": [],
   "source": [
    "# turn the index back into a column using .reset_index()\n",
    "egg_prices_df = egg_prices_series.reset_index()\n",
    "\n",
    "# get the type\n",
    "print(type(egg_prices_df))\n",
    "\n",
    "# print the values\n",
    "egg_prices_df\n"
   ]
  },
  {
   "cell_type": "markdown",
   "metadata": {},
   "source": [
    "## Tables!\n",
    "\n",
    "The ability to manipulate data in tables is one of the most useful skills in Data Science. \n",
    "\n",
    "Pandas is the most popular package in Python for manipulating data tables so we will use this package for manipulating tables in this class. The syntax for Pandas can be a little tricky, so try to be patient if you run into errors, and as always, there should be plenty of help available at office hours and on Ed. \n",
    "\n",
    "As an example, let's look at data on the closing price of the [Dow Jones Industrial Average](https://www.marketwatch.com/investing/index/djia) which is an index of the prices of the 30 largest corporations in the US.\n",
    "\n",
    "The code below loads the DOW data into a Pandas DataFrame and displays the first 5 rows using the `head()` method. \n"
   ]
  },
  {
   "cell_type": "code",
   "execution_count": null,
   "metadata": {},
   "outputs": [],
   "source": [
    "dow = pd.read_csv(\"dow.csv\", parse_dates=True)  # parsing the dates didn't work\n",
    "\n",
    "dow.head()"
   ]
  },
  {
   "cell_type": "code",
   "execution_count": null,
   "metadata": {},
   "outputs": [],
   "source": [
    "# The head() method returns the first 5 rows. \n",
    "# Let's use the tail() method to get the last 5 rows.\n",
    "# From looking at the output, can you tell what year the data goes back until? \n",
    "\n",
    "dow.tail()"
   ]
  },
  {
   "cell_type": "code",
   "execution_count": null,
   "metadata": {},
   "outputs": [],
   "source": [
    "# get the number of rows and columns in a DataFrame using the shape property\n",
    "dow.shape"
   ]
  },
  {
   "cell_type": "code",
   "execution_count": null,
   "metadata": {},
   "outputs": [],
   "source": [
    "# get the types of all the columns using .dtypes\n",
    "dow.dtypes"
   ]
  },
  {
   "cell_type": "code",
   "execution_count": null,
   "metadata": {},
   "outputs": [],
   "source": [
    "# get the names of all the columns using .columns\n",
    "print(dow.columns)\n",
    "\n",
    "# we can convert these names to an numpy array using the .to_numpy() method\n",
    "dow.columns.to_numpy()"
   ]
  },
  {
   "cell_type": "code",
   "execution_count": null,
   "metadata": {},
   "outputs": [],
   "source": [
    "# get more info on the data frame using the .info() method\n",
    "dow.info()"
   ]
  },
  {
   "cell_type": "code",
   "execution_count": null,
   "metadata": {},
   "outputs": [],
   "source": [
    "# get descriptive statistics on DataFrame using the .describe() method\n",
    "\n",
    "dow.describe().round()   # round() the values, or can convert them to ints using astype(\"int\")"
   ]
  },
  {
   "cell_type": "markdown",
   "metadata": {},
   "source": [
    "More on pandas DataFrames next class!"
   ]
  }
 ],
 "metadata": {
  "anaconda-cloud": {},
  "kernelspec": {
   "display_name": "Python [conda env:ydata123_2023e] *",
   "language": "python",
   "name": "conda-env-ydata123_2023e-py"
  },
  "language_info": {
   "codemirror_mode": {
    "name": "ipython",
    "version": 3
   },
   "file_extension": ".py",
   "mimetype": "text/x-python",
   "name": "python",
   "nbconvert_exporter": "python",
   "pygments_lexer": "ipython3",
   "version": "3.11.0"
  }
 },
 "nbformat": 4,
 "nbformat_minor": 4
}
