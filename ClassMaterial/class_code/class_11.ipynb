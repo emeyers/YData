{
 "cells": [
  {
   "cell_type": "markdown",
   "metadata": {},
   "source": [
    "# Class 11: Intro to Data Visualization\n",
    "\n",
    "Plan for today:\n",
    "- Quick review of joining DataFrames\n",
    "- Data visualization using matplotlib\n"
   ]
  },
  {
   "cell_type": "markdown",
   "metadata": {},
   "source": [
    "## Notes on the class Jupyter setup\n",
    "\n",
    "If you have the *ydata123_2023e* environment set up correctly, you can get the class code using the code below (which presumably you've already done given that you are seeing this notebook).  "
   ]
  },
  {
   "cell_type": "code",
   "execution_count": null,
   "metadata": {},
   "outputs": [],
   "source": [
    "import YData\n",
    "\n",
    "# YData.download.download_class_code(11)   # get class code    \n",
    "# YData.download.download_class_code(11, TRUE) # get the code with the answers \n",
    "\n",
    "YData.download.download_data(\"dow.csv\")\n",
    "YData.download.download_data(\"monthly_egg_prices.csv\")\n",
    "YData.download.download_data(\"monthly_wheat_prices.csv\")\n",
    "YData.download_data(\"US_Gasoline_Prices_Weekly.csv\")\n",
    "YData.download.download_data(\"nba_salaries_2015_16.csv\")\n",
    "YData.download.download_data(\"nba_position_names.csv\")\n"
   ]
  },
  {
   "cell_type": "markdown",
   "metadata": {},
   "source": [
    "There are also similar functions to download the homework:"
   ]
  },
  {
   "cell_type": "code",
   "execution_count": null,
   "metadata": {},
   "outputs": [],
   "source": [
    "# YData.download.download_homework(5)  # downloads the homework "
   ]
  },
  {
   "cell_type": "markdown",
   "metadata": {},
   "source": [
    "If you are using colabs, you should install polars and the YData packages by uncommenting and running the code below."
   ]
  },
  {
   "cell_type": "code",
   "execution_count": null,
   "metadata": {},
   "outputs": [],
   "source": [
    "# !pip install https://github.com/emeyers/YData_package/tarball/master"
   ]
  },
  {
   "cell_type": "markdown",
   "metadata": {},
   "source": [
    "If you are using google colabs, you should also uncomment and run the code below to mount the your google drive"
   ]
  },
  {
   "cell_type": "code",
   "execution_count": null,
   "metadata": {},
   "outputs": [],
   "source": [
    "# from google.colab import drive\n",
    "# drive.mount('/content/drive')"
   ]
  },
  {
   "cell_type": "code",
   "execution_count": null,
   "metadata": {},
   "outputs": [],
   "source": [
    "import pandas as pd\n",
    "import statistics\n",
    "import numpy as np\n",
    "from datetime import datetime\n",
    "\n",
    "import matplotlib.pyplot as plt\n",
    "%matplotlib inline"
   ]
  },
  {
   "cell_type": "markdown",
   "metadata": {},
   "source": [
    "## \"Joining\" DataFrames example\n",
    "\n",
    "Let's go through the exact example I had in my slides so we can understanding the difference between the differnt types of joins. \n",
    "\n",
    "Below I create the DataFrames \"by hand\". "
   ]
  },
  {
   "cell_type": "code",
   "execution_count": null,
   "metadata": {},
   "outputs": [],
   "source": [
    "x_df = pd.DataFrame({\"key_x\": [1, 2, 3], \"val_x\": [\"x1\", \"x2\", \"x3\"]})\n",
    "\n",
    "x_df\n"
   ]
  },
  {
   "cell_type": "code",
   "execution_count": null,
   "metadata": {},
   "outputs": [],
   "source": [
    "y_df = pd.DataFrame({\"key_y\": [1, 2, 4], \"val_y\": [\"y1\", \"y2\", \"y3\"]})\n",
    "\n",
    "y_df"
   ]
  },
  {
   "cell_type": "code",
   "execution_count": null,
   "metadata": {},
   "outputs": [],
   "source": [
    "# left join keeps all the rows in the left DataFrame and joins on maching rows in the right DataFrame\n",
    "\n",
    "\n",
    "\n"
   ]
  },
  {
   "cell_type": "code",
   "execution_count": null,
   "metadata": {},
   "outputs": [],
   "source": [
    "# right join keeps all the rows in the right DataFrame and joins on maching rows in the left DataFrame\n",
    "\n",
    "\n"
   ]
  },
  {
   "cell_type": "code",
   "execution_count": null,
   "metadata": {},
   "outputs": [],
   "source": [
    "# inner join keeps only the rows where the keys match in both DataFrames\n",
    "\n",
    "\n"
   ]
  },
  {
   "cell_type": "code",
   "execution_count": null,
   "metadata": {},
   "outputs": [],
   "source": [
    "# outer (full) join keeps all rows in both DataFrames\n",
    "\n",
    "\n"
   ]
  },
  {
   "cell_type": "markdown",
   "metadata": {},
   "source": [
    "#### The .join() method"
   ]
  },
  {
   "cell_type": "code",
   "execution_count": null,
   "metadata": {},
   "outputs": [],
   "source": [
    "# if we set the indexes of the data frames, we can use the .join() methods instead of the .merge() method\n",
    "x_df2 = x_df.set_index(\"key_x\")\n",
    "\n",
    "x_df2 "
   ]
  },
  {
   "cell_type": "code",
   "execution_count": null,
   "metadata": {},
   "outputs": [],
   "source": [
    "y_df2 = y_df.set_index(\"key_y\")\n",
    "\n",
    "y_df2"
   ]
  },
  {
   "cell_type": "code",
   "execution_count": null,
   "metadata": {},
   "outputs": [],
   "source": [
    "# Using the join method we do not need to specify on_left and on_right arguments because the key is the index\n",
    "\n"
   ]
  },
  {
   "cell_type": "markdown",
   "metadata": {},
   "source": [
    "#### Example: Spelling out NBA position names\n",
    "\n",
    "As you will recall, our NBA salaries DataFrame had the different positions listed as abbreviations such as \"C\" and \"PG\". \n",
    "\n",
    "Often it is hard to tell what these abbreviations (or codes) mean, so a common use of joining is to join on to a table a list of longer names that give more meaning to abbreviations. \n",
    "\n",
    "Below we load our `nba_salaries` DataFrame along with a `nba_positions` DataFrame which has information about how each position abbreviation maps on to the position's full name.\n",
    "\n",
    "Let's merge these DataFrames together so that our `nba_salaries` DataFrame has the full position names!\n",
    "\n"
   ]
  },
  {
   "cell_type": "code",
   "execution_count": null,
   "metadata": {},
   "outputs": [],
   "source": [
    "nba_salaries = pd.read_csv(\"nba_salaries_2015_16.csv\")\n",
    "\n",
    "nba_salaries.head(3)\n"
   ]
  },
  {
   "cell_type": "code",
   "execution_count": null,
   "metadata": {},
   "outputs": [],
   "source": [
    "nba_positions = pd.read_csv(\"nba_position_names.csv\")\n",
    "nba_positions"
   ]
  },
  {
   "cell_type": "code",
   "execution_count": null,
   "metadata": {},
   "outputs": [],
   "source": [
    "# merge the DataFrames together so each player's position is the full position name\n",
    "\n",
    "nba_improved = nba_salaries.merge(nba_positions, \n",
    "                                  how = \"left\", \n",
    "                                  left_on = \"POSITION\", \n",
    "                                  right_on = \"Position Abbreviation\")\n",
    "\n",
    "nba_improved.head(5)"
   ]
  },
  {
   "cell_type": "code",
   "execution_count": null,
   "metadata": {},
   "outputs": [],
   "source": [
    "# remove unnecessary columns using the .drop(colums = )  method\n",
    "nba_improved.drop(columns = [\"POSITION\", \"Position Abbreviation\"])"
   ]
  },
  {
   "cell_type": "markdown",
   "metadata": {},
   "source": [
    "![pandas](https://image.goat.com/transform/v1/attachments/product_template_additional_pictures/images/071/445/310/original/719082_01.jpg.jpeg)"
   ]
  },
  {
   "cell_type": "markdown",
   "metadata": {},
   "source": [
    "## Data visualization!\n",
    "\n",
    "Let's go through different ways to visualize data. To do this let's look again and Egg and Gas prices.\n"
   ]
  },
  {
   "cell_type": "code",
   "execution_count": null,
   "metadata": {},
   "outputs": [],
   "source": [
    "egg_prices = pd.read_csv(\"monthly_egg_prices.csv\", parse_dates = [0])\n",
    "gas_prices = pd.read_csv(\"US_Gasoline_Prices_Weekly.csv\", parse_dates = [0])\n",
    "\n",
    "display(egg_prices.head(3))\n",
    "\n",
    "gas_prices.head(3)"
   ]
  },
  {
   "cell_type": "markdown",
   "metadata": {},
   "source": [
    "To start with, let's get a little more practice joining DataFrames by joining the egg and gas prices together into a single DataFrame. \n",
    "\n",
    "Let's do an inner join to only keep the dates where we have prices for both eggs and gas. "
   ]
  },
  {
   "cell_type": "code",
   "execution_count": null,
   "metadata": {},
   "outputs": [],
   "source": [
    "# merge the egg and gas prices\n",
    "prices = egg_prices.merge(gas_prices, \n",
    "                          how = \"inner\", \n",
    "                          left_on = \"DATE\",\n",
    "                          right_on = \"Week\")\n",
    "\n",
    "prices.head(3)\n"
   ]
  },
  {
   "cell_type": "markdown",
   "metadata": {},
   "source": [
    "Let's also clean up our prices data by only keeping the columns we need, and renaming them to more meaningful names."
   ]
  },
  {
   "cell_type": "code",
   "execution_count": null,
   "metadata": {},
   "outputs": [],
   "source": [
    "# only keep the columns we need\n",
    "prices = prices[[\"Week\", \"Price\", \"DollarsPerGallon\"]]\n",
    "\n",
    "# rename the columns to have more meaningful names\n",
    "prices = prices.rename(columns = {\"Price\": \"Eggs\", \"DollarsPerGallon\":\"Gas\"})\n",
    "\n",
    "prices.head(3)\n"
   ]
  },
  {
   "cell_type": "markdown",
   "metadata": {},
   "source": [
    "Now we are ready to start visualizing the data!\n",
    "\n",
    "Let's start by creating line plots usin gthe `plot.plot()` function!"
   ]
  },
  {
   "cell_type": "code",
   "execution_count": null,
   "metadata": {},
   "outputs": [],
   "source": [
    "# create a line plot of egg prices, and also include a circle marker at each point \n",
    "\n"
   ]
  },
  {
   "cell_type": "code",
   "execution_count": null,
   "metadata": {},
   "outputs": [],
   "source": [
    "# Let's have the x-axis be the actual dates\n",
    "\n"
   ]
  },
  {
   "cell_type": "markdown",
   "metadata": {},
   "source": [
    "What is [wrong](https://xkcd.com/833/) with these plots???\n"
   ]
  },
  {
   "cell_type": "code",
   "execution_count": null,
   "metadata": {},
   "outputs": [],
   "source": [
    "# Let's make this better!\n",
    "\n",
    "\n",
    "\n",
    "\n",
    "\n"
   ]
  },
  {
   "cell_type": "code",
   "execution_count": null,
   "metadata": {},
   "outputs": [],
   "source": [
    "# Let's compare egg and gas prices on the same plot\n",
    "\n",
    "\n",
    "\n",
    "\n",
    "\n",
    "\n",
    "\n"
   ]
  },
  {
   "cell_type": "code",
   "execution_count": null,
   "metadata": {},
   "outputs": [],
   "source": [
    "# Side note: Can you use pandas methods to see if there are there any weeks where Eggs cost more than Gas? \n",
    "\n",
    "\n",
    "\n",
    "\n",
    "\n",
    "\n"
   ]
  },
  {
   "cell_type": "markdown",
   "metadata": {},
   "source": [
    "### Histograms \n",
    "\n",
    "We can create histograms using the `plt.hist()` function. \n"
   ]
  },
  {
   "cell_type": "code",
   "execution_count": null,
   "metadata": {},
   "outputs": [],
   "source": [
    "\n",
    "\n",
    "\n",
    "\n",
    "\n"
   ]
  },
  {
   "cell_type": "code",
   "execution_count": null,
   "metadata": {},
   "outputs": [],
   "source": [
    "\n",
    "\n",
    "\n",
    "\n",
    "\n",
    "\n"
   ]
  },
  {
   "cell_type": "markdown",
   "metadata": {},
   "source": [
    "### Boxplots\n",
    "\n",
    "We can create boxplots using the `plt.boxplot()` function. \n"
   ]
  },
  {
   "cell_type": "code",
   "execution_count": null,
   "metadata": {},
   "outputs": [],
   "source": [
    "# boxplot of gas prices\n",
    "\n",
    "\n",
    "\n"
   ]
  },
  {
   "cell_type": "code",
   "execution_count": null,
   "metadata": {},
   "outputs": [],
   "source": [
    "# creating side-by-side boxplots by passing a list of the different data sets to compare\n",
    "\n",
    "\n",
    "\n",
    "\n"
   ]
  },
  {
   "cell_type": "markdown",
   "metadata": {},
   "source": [
    "### Scatter plots\n",
    "\n",
    "We can create simple scatter plots using: `plt.plot()`\n",
    "\n",
    "For more complex scatter plots we can use: `plot.scatter()`\n",
    "\n",
    "Let's start by looking at the simple `plt.plot()`"
   ]
  },
  {
   "cell_type": "code",
   "execution_count": null,
   "metadata": {},
   "outputs": [],
   "source": [
    "# Create a basic scatter plot of Egg prices vs. Gas prices using plt.plot()\n",
    "\n",
    "\n",
    "\n",
    "\n"
   ]
  },
  {
   "cell_type": "markdown",
   "metadata": {},
   "source": [
    "Let's now join wheat prices on to our data so we can experiment with plotting additional visual features.\n"
   ]
  },
  {
   "cell_type": "code",
   "execution_count": null,
   "metadata": {},
   "outputs": [],
   "source": [
    "# load the wheat prices\n",
    "wheat_prices = pd.read_csv(\"monthly_wheat_prices.csv\", parse_dates = [0])\n",
    "\n",
    "# merge them on to the prices DataFrame\n",
    "prices2 = (prices\n",
    "           .merge(wheat_prices, how = \"left\", left_on = \"Week\", right_on = \"DATE\")\n",
    "           .drop(\"DATE\", axis = 1)\n",
    "           .rename(columns = {\"Price\": \"Wheat\"})\n",
    "          )\n",
    "\n",
    "# Add a column called \"after2000\" which has values that are \n",
    "# \"red\" is years after 2000,  \"green\" is years before 2000\n",
    "prices2[\"after2000\"] = \"red\"\n",
    "prices2.loc[12:, \"after2000\"] = \"green\"\n",
    "\n",
    "prices2.head()"
   ]
  },
  {
   "cell_type": "code",
   "execution_count": null,
   "metadata": {},
   "outputs": [],
   "source": [
    "# Create a fancier scatter plot of Egg prices vs. Gas prices using plt.scatter()\n",
    "\n",
    "\n",
    "\n",
    "\n",
    "\n",
    "\n",
    "\n"
   ]
  },
  {
   "cell_type": "markdown",
   "metadata": {},
   "source": [
    "### Bar plots and pie charts\n",
    "\n",
    "We can plot *categorical data* using bar plots and pie charts. \n",
    "\n",
    "To create bar plots we can use: `plt.bar()`\n",
    "\n",
    "To create pie charts we can use: `plt.pie()`\n"
   ]
  },
  {
   "cell_type": "code",
   "execution_count": null,
   "metadata": {},
   "outputs": [],
   "source": [
    "position_counts = (nba_salaries\n",
    "                   .groupby(\"POSITION\")\n",
    "                   .agg(num_players = (\"PLAYER\", \"count\"))\n",
    "                   .reset_index())\n",
    "position_counts"
   ]
  },
  {
   "cell_type": "code",
   "execution_count": null,
   "metadata": {},
   "outputs": [],
   "source": [
    "# Create a bar plot of the number of basketball players at each position\n",
    "\n",
    "\n"
   ]
  },
  {
   "cell_type": "code",
   "execution_count": null,
   "metadata": {},
   "outputs": [],
   "source": [
    "# Create a pie char of the number of basketball players at each position\n",
    "\n",
    "\n"
   ]
  },
  {
   "cell_type": "markdown",
   "metadata": {},
   "source": [
    "### Subplots \n",
    "\n",
    "We can create subplots using: `plt.subplot(num_rows, num_cols, curr_plot_num);`\n",
    "\n"
   ]
  },
  {
   "cell_type": "code",
   "execution_count": null,
   "metadata": {},
   "outputs": [],
   "source": [
    "# subplots\n",
    "\n",
    "\n",
    "\n",
    "\n",
    "\n",
    "\n"
   ]
  },
  {
   "cell_type": "markdown",
   "metadata": {},
   "source": [
    "<br>\n",
    "<br>\n",
    "<br>\n",
    "<br>\n",
    "<br>\n",
    "<br>\n",
    "<br>\n",
    "<br>\n",
    "<br>\n",
    "<br>\n",
    "<br>\n",
    "<br>\n",
    "<br>\n",
    "<br>\n",
    "<br>\n",
    "\n",
    "![piechart](http://i.imgur.com/wsVTukr.jpg)\n"
   ]
  }
 ],
 "metadata": {
  "anaconda-cloud": {},
  "kernelspec": {
   "display_name": "Python [conda env:ydata123_2023e]",
   "language": "python",
   "name": "conda-env-ydata123_2023e-py"
  },
  "language_info": {
   "codemirror_mode": {
    "name": "ipython",
    "version": 3
   },
   "file_extension": ".py",
   "mimetype": "text/x-python",
   "name": "python",
   "nbconvert_exporter": "python",
   "pygments_lexer": "ipython3",
   "version": "3.11.0"
  }
 },
 "nbformat": 4,
 "nbformat_minor": 4
}
