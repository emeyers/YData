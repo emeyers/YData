{
 "cells": [
  {
   "cell_type": "code",
   "execution_count": null,
   "metadata": {},
   "outputs": [],
   "source": [
    "# Credit: Modified from Data8.org\n",
    "\n",
    "# Importing packages/modules that contain functions will be used below. \n",
    "import numpy as np\n",
    "import polars as pl\n",
    "import matplotlib.pyplot as plt\n",
    "from urllib.request import urlopen\n",
    "\n",
    "# make it so that plots are visible in the Jupyter notebook\n",
    "%matplotlib inline\n",
    "\n",
    "# Can make the style of the plots look like the website fivethirtyeight\n",
    "plt.style.use(\"fivethirtyeight\")\n",
    "plt.style.use(\"default\")"
   ]
  },
  {
   "cell_type": "code",
   "execution_count": null,
   "metadata": {},
   "outputs": [],
   "source": [
    "# Read data from two books from the internet\n",
    "\n",
    "little_women_url = 'https://www.inferentialthinking.com/data/little_women.txt'\n",
    "little_women_chapters = urlopen(little_women_url).read().decode().split('CHAPTER ')[1:]\n",
    "\n",
    "huck_finn_url = 'https://www.inferentialthinking.com/data/huck_finn.txt'\n",
    "huck_finn_chapters = urlopen(huck_finn_url).read().decode().split('CHAPTER ')[1:]"
   ]
  },
  {
   "cell_type": "code",
   "execution_count": null,
   "metadata": {},
   "outputs": [],
   "source": [
    "# Count how many times the names Jim, Tom, and Huck appear in each chapter\n",
    "\n",
    "huck_finn_counts = {\n",
    "    'Jim': np.char.count(huck_finn_chapters, \"Jim\"),\n",
    "    'Tom': np.char.count(huck_finn_chapters, \"Tom\"),\n",
    "    'Huck': np.char.count(huck_finn_chapters, \"Huck\"),\n",
    "}\n",
    "\n",
    "\n",
    "# plot cumulative number of times names of characters appear\n",
    "plt.plot(np.cumsum(huck_finn_counts[\"Jim\"]), label = \"Jim\");\n",
    "plt.plot(np.cumsum(huck_finn_counts[\"Tom\"]), label = \"Tom\");\n",
    "plt.plot(np.cumsum(huck_finn_counts[\"Huck\"]), label = \"Huck\");\n",
    "plt.legend();\n",
    "plt.xlabel(\"Chapter\")\n",
    "plt.title(\"Cumulative Number of Times Name Appears\");"
   ]
  },
  {
   "cell_type": "code",
   "execution_count": null,
   "metadata": {},
   "outputs": [],
   "source": [
    "# Counts of names in the chapters of Little Women\n",
    "\n",
    "people = ['Amy', 'Beth', 'Jo', 'Meg', 'Laurie']\n",
    "\n",
    "for person_name in people:\n",
    "    curr_person_count = np.char.count(little_women_chapters, person_name)\n",
    "    plt.plot(np.cumsum(curr_person_count), label = person_name)\n",
    "    \n",
    "plt.legend();\n",
    "plt.xlabel(\"Chapter\")\n",
    "plt.title(\"Cumulative Number of Times Name Appears\");"
   ]
  },
  {
   "cell_type": "code",
   "execution_count": null,
   "metadata": {},
   "outputs": [],
   "source": [
    "huck_finn_df = pl.DataFrame(\n",
    "    {\n",
    "        'Chapter': range(len(huck_finn_chapters)),\n",
    "        'Periods': np.char.count(huck_finn_chapters, '.'),\n",
    "        'Spaces': np.char.count(huck_finn_chapters, ' '),\n",
    "        'Characters': [huck_finn_chapters[i].count('') for i in range(len(huck_finn_chapters))], \n",
    "        'Words': [len(s) for s in huck_finn_chapters],\n",
    "     }\n",
    ")\n",
    "\n",
    "print(huck_finn_df.head())\n",
    "\n",
    "\n",
    "little_women_df = pl.DataFrame(\n",
    "    {\n",
    "        'Chapter': range(len(little_women_chapters)),\n",
    "        'Periods': np.char.count(little_women_chapters, '.'),\n",
    "        'Spaces': np.char.count(little_women_chapters, ' '),\n",
    "        'Characters': [little_women_chapters[i].count('') for i in range(len(little_women_chapters))], \n",
    "        'Words': [len(s) for s in little_women_chapters],\n",
    "     }\n",
    ")\n",
    "\n",
    "little_women_df.head()\n",
    "\n",
    "\n"
   ]
  },
  {
   "cell_type": "code",
   "execution_count": null,
   "metadata": {},
   "outputs": [],
   "source": [
    "plt.figure(figsize=(6,6))\n",
    "plt.scatter(huck_finn_df[\"Periods\"], huck_finn_df[\"Characters\"], color='darkblue')\n",
    "plt.scatter(little_women_df[\"Periods\"], little_women_df[\"Characters\"], color='gold')\n",
    "plt.xlabel('Number of periods in chapter')\n",
    "plt.ylabel('Number of characters in chapter');"
   ]
  },
  {
   "cell_type": "code",
   "execution_count": null,
   "metadata": {},
   "outputs": [],
   "source": []
  }
 ],
 "metadata": {
  "anaconda-cloud": {},
  "celltoolbar": "Raw Cell Format",
  "kernelspec": {
   "display_name": "Python 3 (ipykernel)",
   "language": "python",
   "name": "python3"
  },
  "language_info": {
   "codemirror_mode": {
    "name": "ipython",
    "version": 3
   },
   "file_extension": ".py",
   "mimetype": "text/x-python",
   "name": "python",
   "nbconvert_exporter": "python",
   "pygments_lexer": "ipython3",
   "version": "3.11.0"
  }
 },
 "nbformat": 4,
 "nbformat_minor": 4
}
