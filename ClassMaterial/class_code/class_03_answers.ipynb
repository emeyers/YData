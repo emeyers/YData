{
 "cells": [
  {
   "cell_type": "markdown",
   "metadata": {},
   "source": [
    "# Class 3: The basics of Python continued\n",
    "\n",
    "In this notebook we will continue learning some of the basic syntax and data structures of Python. We will use what we learn today throughout the rest of the semester so make sure you are understanding the main ideas, and try to practice more on your own. "
   ]
  },
  {
   "cell_type": "markdown",
   "metadata": {},
   "source": [
    "## Notes on the class Jupyter setup\n",
    "\n",
    "If you have the *ydata123_2024a* environment set up correctly, you can get the class code using the code below (which presumably you've already done given that you are seeing this notebook).  "
   ]
  },
  {
   "cell_type": "code",
   "execution_count": 12,
   "metadata": {},
   "outputs": [],
   "source": [
    "import YData\n",
    "\n",
    "# YData.download.download_class_code(3)   # get class 2 code    \n",
    "\n",
    "# YData.download.download_class_code(3, True) # get the code with the answers "
   ]
  },
  {
   "cell_type": "markdown",
   "metadata": {},
   "source": [
    "There are also similar functions to download the homework:"
   ]
  },
  {
   "cell_type": "code",
   "execution_count": null,
   "metadata": {},
   "outputs": [],
   "source": [
    "YData.download.download_homework(1)  # downloads the first homework "
   ]
  },
  {
   "cell_type": "markdown",
   "metadata": {},
   "source": [
    "If you are using colabs, you should install polars and the YData packages by uncommenting and running the code below."
   ]
  },
  {
   "cell_type": "code",
   "execution_count": null,
   "metadata": {},
   "outputs": [],
   "source": [
    "# !pip install https://github.com/emeyers/YData_package/tarball/master"
   ]
  },
  {
   "cell_type": "markdown",
   "metadata": {},
   "source": [
    "If you are using google colabs, you should also uncomment and run the code below to mount the your google drive"
   ]
  },
  {
   "cell_type": "code",
   "execution_count": null,
   "metadata": {},
   "outputs": [],
   "source": [
    "# from google.colab import drive\n",
    "# drive.mount('/content/drive')"
   ]
  },
  {
   "cell_type": "markdown",
   "metadata": {},
   "source": [
    "## Review of the basics of Python\n",
    "\n",
    "Let's review the basics of Python with a \"number journey\"...\n",
    "1. Create a string called `string_holding_a_number` that is equal to the value of 2\n",
    "2. Multiple this string by 3 to create a longer string and store it in the name `string_holding_a_bigger_number`\n",
    "3. Convert this string to an integer and store it in the name `just_an_int`\n",
    "4. Divide `just_an_int` by -8 and save it to the name `a_negative_float`\n",
    "5. Take the absolute value of `a_negative_float` and save it to the name `a_positive_float`\n",
    "6. Print out the value of `a_positive_float` and also the type of `a_positive_float`\n",
    "\n",
    "Hint, the following functions could be useful: `int()`, `abs()`, `type()`.\n"
   ]
  },
  {
   "cell_type": "code",
   "execution_count": null,
   "metadata": {},
   "outputs": [],
   "source": [
    "string_holding_a_number = \"2\"\n",
    "\n",
    "string_holding_a_bigger_number = string_holding_a_number * 3\n",
    "\n",
    "just_an_int = int(string_holding_a_bigger_number)\n",
    "\n",
    "a_negative_float = just_an_int/-8\n",
    "\n",
    "a_positive_float = abs(a_negative_float)\n",
    "\n",
    "print(a_positive_float)\n",
    "\n",
    "print(type(a_positive_float))\n"
   ]
  },
  {
   "cell_type": "markdown",
   "metadata": {},
   "source": [
    "### Any questions???\n",
    "\n",
    "If so, please ask them now..."
   ]
  },
  {
   "cell_type": "markdown",
   "metadata": {},
   "source": [
    "## Comparisons ##\n",
    "\n",
    "We can do simple mathematical and string comparisons in Python which return Boolean values."
   ]
  },
  {
   "cell_type": "code",
   "execution_count": 4,
   "metadata": {},
   "outputs": [
    {
     "data": {
      "text/plain": [
       "True"
      ]
     },
     "execution_count": 4,
     "metadata": {},
     "output_type": "execute_result"
    }
   ],
   "source": [
    "# basic math comparison\n",
    "5 > 2"
   ]
  },
  {
   "cell_type": "code",
   "execution_count": null,
   "metadata": {},
   "outputs": [],
   "source": [
    "# checking the type of a basic math comparison\n",
    "type(5 > 2)"
   ]
  },
  {
   "cell_type": "code",
   "execution_count": null,
   "metadata": {},
   "outputs": [],
   "source": [
    "# another basic math comparison\n",
    "5 < 2"
   ]
  },
  {
   "cell_type": "code",
   "execution_count": null,
   "metadata": {},
   "outputs": [],
   "source": [
    "# We can type in Boolean values ourselves\n",
    "True"
   ]
  },
  {
   "cell_type": "code",
   "execution_count": null,
   "metadata": {},
   "outputs": [],
   "source": [
    "# We use == to compare whether two items are equal (not 5 = 5)\n",
    "5 == 5"
   ]
  },
  {
   "cell_type": "code",
   "execution_count": 1,
   "metadata": {},
   "outputs": [],
   "source": [
    "x = 20\n",
    "y = 7"
   ]
  },
  {
   "cell_type": "code",
   "execution_count": 3,
   "metadata": {},
   "outputs": [
    {
     "data": {
      "text/plain": [
       "True"
      ]
     },
     "execution_count": 3,
     "metadata": {},
     "output_type": "execute_result"
    }
   ],
   "source": [
    "# we can compare whether a value is between two values\n",
    "10 < x < 21"
   ]
  },
  {
   "cell_type": "code",
   "execution_count": 5,
   "metadata": {},
   "outputs": [
    {
     "data": {
      "text/plain": [
       "True"
      ]
     },
     "execution_count": 5,
     "metadata": {},
     "output_type": "execute_result"
    }
   ],
   "source": [
    "# we can also do mathematical operations between logical comparisons\n",
    "12 < x-y < 18"
   ]
  },
  {
   "cell_type": "code",
   "execution_count": null,
   "metadata": {},
   "outputs": [],
   "source": [
    "# we can use the `and` keyword to combine multiple logical statements \n",
    "x > 10 and y > 5"
   ]
  },
  {
   "cell_type": "code",
   "execution_count": null,
   "metadata": {},
   "outputs": [],
   "source": [
    "# we can also use the `or` keyword to combine multiple logical statements \n",
    "x > 10 or y > 5"
   ]
  },
  {
   "cell_type": "code",
   "execution_count": null,
   "metadata": {},
   "outputs": [],
   "source": [
    "# We can also compare strings\n",
    "\"my string\" == \"my string\""
   ]
  },
  {
   "cell_type": "code",
   "execution_count": null,
   "metadata": {},
   "outputs": [],
   "source": [
    "# Stings compare alphabetically\n",
    "\"cats\" < \"dogs\""
   ]
  },
  {
   "cell_type": "code",
   "execution_count": null,
   "metadata": {},
   "outputs": [],
   "source": [
    "# Shorter words occur earlier than longer words that have matching letters\n",
    "\"cat\" < \"catastrophe\""
   ]
  },
  {
   "cell_type": "markdown",
   "metadata": {},
   "source": [
    "## Lists \n",
    "\n",
    "Lists are a *data structure* that can hold multiple values. \n",
    "\n",
    "We use the square brackets to create lists; e.g., `my_list = [1, 2, 3]`\n",
    "\n",
    "We can access elements using square brackets; e.g., `my_list[2]`. \n",
    "\n",
    "Let's explore lists!"
   ]
  },
  {
   "cell_type": "code",
   "execution_count": null,
   "metadata": {},
   "outputs": [],
   "source": [
    "# A list of numbers\n",
    "my_list = [1, 2, 3]\n",
    "my_list"
   ]
  },
  {
   "cell_type": "code",
   "execution_count": null,
   "metadata": {},
   "outputs": [],
   "source": [
    "# A list of strings\n",
    "my_list2 = [\"a\", \"b\", \"c\"]\n",
    "my_list2"
   ]
  },
  {
   "cell_type": "code",
   "execution_count": null,
   "metadata": {},
   "outputs": [],
   "source": [
    "# Lists can hold elements of different types\n",
    "my_list3 = [4, 5, \"six\"]\n",
    "my_list3"
   ]
  },
  {
   "cell_type": "code",
   "execution_count": null,
   "metadata": {},
   "outputs": [],
   "source": [
    "# We can access elements of a list also using square brackets\n",
    "my_list2[2] "
   ]
  },
  {
   "cell_type": "code",
   "execution_count": null,
   "metadata": {},
   "outputs": [],
   "source": [
    "# concatenating lists\n",
    "a_long_list = my_list + my_list2 + my_list3\n",
    "a_long_list"
   ]
  },
  {
   "cell_type": "code",
   "execution_count": null,
   "metadata": {},
   "outputs": [],
   "source": [
    "# getting the number of elements in a list using the len() function \n",
    "len(a_long_list)"
   ]
  },
  {
   "cell_type": "code",
   "execution_count": null,
   "metadata": {},
   "outputs": [],
   "source": [
    "# slicing lists\n",
    "a_long_list[0:5]"
   ]
  },
  {
   "cell_type": "code",
   "execution_count": null,
   "metadata": {},
   "outputs": [],
   "source": [
    "# start at a different index\n",
    "a_long_list[2:7]"
   ]
  },
  {
   "cell_type": "code",
   "execution_count": null,
   "metadata": {},
   "outputs": [],
   "source": [
    "# what does this do? \n",
    "a_long_list[1:8:2]"
   ]
  },
  {
   "cell_type": "code",
   "execution_count": null,
   "metadata": {},
   "outputs": [],
   "source": [
    "# If a list is all numbers we can sum the values, or get the maximum value\n",
    "print(sum(my_list))\n",
    "max(my_list)"
   ]
  },
  {
   "cell_type": "code",
   "execution_count": null,
   "metadata": {},
   "outputs": [],
   "source": [
    "# We can't sum values that are not numbers\n",
    "sum(my_list2)"
   ]
  },
  {
   "cell_type": "code",
   "execution_count": null,
   "metadata": {},
   "outputs": [],
   "source": [
    "# We can append values on to a list using the append() method. \n",
    "# Note, this modifies the original list and return a value of None!!!\n",
    "\n",
    "output = my_list.append(999)\n",
    "\n",
    "print(output)\n",
    "\n",
    "print(my_list)\n"
   ]
  },
  {
   "cell_type": "code",
   "execution_count": 27,
   "metadata": {},
   "outputs": [
    {
     "name": "stdout",
     "output_type": "stream",
     "text": [
      "[1, 52, 5, 124, 2, 5, 1, 3, 3, 5, 98]\n",
      "[1, 1, 2, 3, 3, 5, 5, 5, 52, 98, 124]\n"
     ]
    }
   ],
   "source": [
    "# We can also sort a list. Note this modified the original list!\n",
    "\n",
    "number_list = [1, 52, 5, 124, 2, 5, 1, 3, 3, 5, 98]\n",
    "print(number_list)\n",
    "\n",
    "number_list.sort()\n",
    "print(number_list)\n"
   ]
  },
  {
   "cell_type": "code",
   "execution_count": null,
   "metadata": {},
   "outputs": [],
   "source": [
    "# if we want to save the original list we can create a copy\n",
    "number_list = [1, 52, 5, 124, 2, 5, 1, 3, 3, 5, 98]\n",
    "my_copy = number_list.copy()\n",
    "\n",
    "number_list.sort()\n",
    "print(number_list)\n",
    "print(my_copy)\n"
   ]
  },
  {
   "cell_type": "code",
   "execution_count": 28,
   "metadata": {},
   "outputs": [
    {
     "data": {
      "text/plain": [
       "2"
      ]
     },
     "execution_count": 28,
     "metadata": {},
     "output_type": "execute_result"
    }
   ],
   "source": [
    "# Let's count how many 3's appear in the list using the list.count() method\n",
    "\n",
    "number_list.count(3)\n"
   ]
  },
  {
   "cell_type": "code",
   "execution_count": null,
   "metadata": {},
   "outputs": [],
   "source": [
    "# one can store lists inside of other lists\n",
    "\n",
    "my_nested_list = [\"a\", \"b\", \"c\", [1, 2, 3]]\n",
    "\n",
    "print(my_nested_list)\n",
    "\n",
    "print(my_nested_list[0])\n",
    "\n",
    "print(my_nested_list[3])\n",
    "\n",
    "print(my_nested_list[3][2])"
   ]
  },
  {
   "cell_type": "markdown",
   "metadata": {},
   "source": [
    "## Example: NBA Salaries\n",
    "\n",
    "Let's look a salaries of basketball players in the NBA! The data we will analyze contains infomraiton about each player including their salary from the 2022-2023 season listed in millions of dollars.  \n",
    "\n",
    "We will load the data as a \"pandas DataFrame\" which is a data structure we will discuss more in a couple of weeks. We will then convert the data to lists and dictionaries to explore it further. \n",
    "\n",
    "This table can be found online: https://www.gigasheet.com/sample-data/nba-player-salaries-2022-23-season\n"
   ]
  },
  {
   "cell_type": "code",
   "execution_count": 1,
   "metadata": {},
   "outputs": [],
   "source": [
    "# download the data\n",
    "import YData\n",
    "YData.download.download_data(\"nba_salaries_2022_23.csv\")"
   ]
  },
  {
   "cell_type": "code",
   "execution_count": 2,
   "metadata": {},
   "outputs": [
    {
     "data": {
      "text/html": [
       "<div>\n",
       "<style scoped>\n",
       "    .dataframe tbody tr th:only-of-type {\n",
       "        vertical-align: middle;\n",
       "    }\n",
       "\n",
       "    .dataframe tbody tr th {\n",
       "        vertical-align: top;\n",
       "    }\n",
       "\n",
       "    .dataframe thead th {\n",
       "        text-align: right;\n",
       "    }\n",
       "</style>\n",
       "<table border=\"1\" class=\"dataframe\">\n",
       "  <thead>\n",
       "    <tr style=\"text-align: right;\">\n",
       "      <th></th>\n",
       "      <th>PLAYER</th>\n",
       "      <th>POSITION</th>\n",
       "      <th>TEAM</th>\n",
       "      <th>SALARY</th>\n",
       "    </tr>\n",
       "  </thead>\n",
       "  <tbody>\n",
       "    <tr>\n",
       "      <th>0</th>\n",
       "      <td>De'Andre Hunter</td>\n",
       "      <td>SF</td>\n",
       "      <td>Atlanta Hawks</td>\n",
       "      <td>9.835881</td>\n",
       "    </tr>\n",
       "    <tr>\n",
       "      <th>1</th>\n",
       "      <td>Jalen Johnson</td>\n",
       "      <td>SF</td>\n",
       "      <td>Atlanta Hawks</td>\n",
       "      <td>2.792640</td>\n",
       "    </tr>\n",
       "    <tr>\n",
       "      <th>2</th>\n",
       "      <td>AJ Griffin</td>\n",
       "      <td>SF</td>\n",
       "      <td>Atlanta Hawks</td>\n",
       "      <td>3.536160</td>\n",
       "    </tr>\n",
       "    <tr>\n",
       "      <th>3</th>\n",
       "      <td>Trent Forrest</td>\n",
       "      <td>SG</td>\n",
       "      <td>Atlanta Hawks</td>\n",
       "      <td>0.508891</td>\n",
       "    </tr>\n",
       "    <tr>\n",
       "      <th>4</th>\n",
       "      <td>John Collins</td>\n",
       "      <td>PF</td>\n",
       "      <td>Atlanta Hawks</td>\n",
       "      <td>23.500000</td>\n",
       "    </tr>\n",
       "  </tbody>\n",
       "</table>\n",
       "</div>"
      ],
      "text/plain": [
       "            PLAYER POSITION           TEAM     SALARY\n",
       "0  De'Andre Hunter       SF  Atlanta Hawks   9.835881\n",
       "1    Jalen Johnson       SF  Atlanta Hawks   2.792640\n",
       "2       AJ Griffin       SF  Atlanta Hawks   3.536160\n",
       "3    Trent Forrest       SG  Atlanta Hawks   0.508891\n",
       "4     John Collins       PF  Atlanta Hawks  23.500000"
      ]
     },
     "execution_count": 2,
     "metadata": {},
     "output_type": "execute_result"
    }
   ],
   "source": [
    "# load the data and display the first 6 rows\n",
    "\n",
    "import pandas as pd\n",
    "\n",
    "nba = pd.read_csv(\"nba_salaries_2022_23.csv\")  # load in the data\n",
    "\n",
    "nba.head()  # show the first 6 rows\n"
   ]
  },
  {
   "cell_type": "code",
   "execution_count": 4,
   "metadata": {},
   "outputs": [],
   "source": [
    "# extract the salaries and the player positions as lists\n",
    "\n",
    "salary_list = nba[\"SALARY\"].to_list()\n",
    "position_list = nba[\"POSITION\"].to_list()\n"
   ]
  },
  {
   "cell_type": "code",
   "execution_count": 30,
   "metadata": {},
   "outputs": [
    {
     "data": {
      "text/plain": [
       "[48.070014, 47.34576, 47.080179, 44.474988]"
      ]
     },
     "execution_count": 30,
     "metadata": {},
     "output_type": "execute_result"
    }
   ],
   "source": [
    "# show the salaries of the first 6 people\n",
    "salary_list[0:5]"
   ]
  },
  {
   "cell_type": "code",
   "execution_count": 6,
   "metadata": {},
   "outputs": [],
   "source": [
    "# create a copy of the data\n",
    "salary_list_copy = salary_list.copy()\n"
   ]
  },
  {
   "cell_type": "code",
   "execution_count": 10,
   "metadata": {},
   "outputs": [
    {
     "data": {
      "text/plain": [
       "[0.005849, 0.005849, 0.032171, 0.032795]"
      ]
     },
     "execution_count": 10,
     "metadata": {},
     "output_type": "execute_result"
    }
   ],
   "source": [
    "# sort the data and show the 5 lowest salaries\n",
    "salary_list.sort()\n",
    "salary_list[0:4]"
   ]
  },
  {
   "cell_type": "code",
   "execution_count": 11,
   "metadata": {},
   "outputs": [
    {
     "data": {
      "text/plain": [
       "5849.0"
      ]
     },
     "execution_count": 11,
     "metadata": {},
     "output_type": "execute_result"
    }
   ],
   "source": [
    "# what is the lowest salary in dollars? (not in millions of dollars)\n",
    "salary_list[0] * 10**6"
   ]
  },
  {
   "cell_type": "code",
   "execution_count": 14,
   "metadata": {},
   "outputs": [],
   "source": [
    "# sort the salary list from highest to lowest value\n",
    "salary_list.sort(reverse = True)\n"
   ]
  },
  {
   "cell_type": "code",
   "execution_count": 15,
   "metadata": {},
   "outputs": [
    {
     "data": {
      "text/plain": [
       "[48.070014, 47.34576, 47.080179, 44.474988]"
      ]
     },
     "execution_count": 15,
     "metadata": {},
     "output_type": "execute_result"
    }
   ],
   "source": [
    "# what are the 5 highest salaries? \n",
    "salary_list[0:4]"
   ]
  },
  {
   "cell_type": "code",
   "execution_count": null,
   "metadata": {},
   "outputs": [],
   "source": [
    "# We can also use the max() and min() functions to get the maximum and minimum salaries... \n",
    "print(max(salary_list))\n",
    "print(min(salary_list))"
   ]
  },
  {
   "cell_type": "markdown",
   "metadata": {},
   "source": [
    "## Categorical data: statistics and plots\n",
    "\n",
    "Categorical data is data that falls into different categories. \n",
    "- The main statistic we can calculate on categorical data is the **proportion** that is in a particular category. \n",
    "- We can visualize categorical data using bar plots and pie plots. \n",
    "\n",
    "Let's explore this using the NBA data...\n"
   ]
  },
  {
   "cell_type": "code",
   "execution_count": 21,
   "metadata": {},
   "outputs": [
    {
     "data": {
      "text/plain": [
       "['SF', 'SF', 'SF', 'SG', 'PF', 'PG', 'PG', 'SF', 'PG', 'SG', 'SG', 'C']"
      ]
     },
     "execution_count": 21,
     "metadata": {},
     "output_type": "execute_result"
    }
   ],
   "source": [
    "# View the first 13 entries of the position list\n",
    "\n",
    "position_list[0:12]"
   ]
  },
  {
   "cell_type": "code",
   "execution_count": 22,
   "metadata": {},
   "outputs": [
    {
     "data": {
      "text/plain": [
       "91"
      ]
     },
     "execution_count": 22,
     "metadata": {},
     "output_type": "execute_result"
    }
   ],
   "source": [
    "# How many of the players are Centers (C)? \n",
    "\n",
    "num_centers = position_list.count(\"C\")\n",
    "num_centers\n"
   ]
  },
  {
   "cell_type": "code",
   "execution_count": 23,
   "metadata": {},
   "outputs": [
    {
     "data": {
      "text/plain": [
       "0.1948608137044968"
      ]
     },
     "execution_count": 23,
     "metadata": {},
     "output_type": "execute_result"
    }
   ],
   "source": [
    "# What is the proportion of players that are Centers (C)? \n",
    "\n",
    "position_list.count(\"C\")/len(position_list)\n"
   ]
  },
  {
   "cell_type": "code",
   "execution_count": 37,
   "metadata": {},
   "outputs": [
    {
     "data": {
      "text/plain": [
       "[94, 117, 86, 79, 91]"
      ]
     },
     "execution_count": 37,
     "metadata": {},
     "output_type": "execute_result"
    }
   ],
   "source": [
    "# Let's create a list called \"position counts\" that has the number of: SF, SG, PF, PG, C\n",
    "\n",
    "position_counts = [position_list.count(\"SF\"), \n",
    "                   position_list.count(\"SG\"), \n",
    "                   position_list.count(\"PF\"), \n",
    "                   position_list.count(\"PG\"),  \n",
    "                   position_list.count(\"C\")]\n",
    "\n",
    "position_counts"
   ]
  },
  {
   "cell_type": "code",
   "execution_count": 39,
   "metadata": {},
   "outputs": [
    {
     "data": {
      "text/plain": [
       "['SF', 'SG', 'PF', 'PG', 'C']"
      ]
     },
     "execution_count": 39,
     "metadata": {},
     "output_type": "execute_result"
    }
   ],
   "source": [
    "# Let's also create a list of the position names\n",
    "\n",
    "position_names = [\"SF\", \"SG\", \"PF\", \"PG\", \"C\"]\n",
    "\n",
    "position_names"
   ]
  },
  {
   "cell_type": "code",
   "execution_count": 20,
   "metadata": {},
   "outputs": [],
   "source": [
    "# We can use matplotlib to visualize the data.. \n",
    "\n",
    "import matplotlib.pyplot as plt\n",
    "%matplotlib inline\n"
   ]
  },
  {
   "cell_type": "code",
   "execution_count": 47,
   "metadata": {},
   "outputs": [
    {
     "data": {
      "image/png": "[encoded data removed]",
      "text/plain": [
       "<Figure size 640x480 with 1 Axes>"
      ]
     },
     "metadata": {},
     "output_type": "display_data"
    }
   ],
   "source": [
    "# Let's create a pie chart \n",
    "plt.pie(position_counts);"
   ]
  },
  {
   "cell_type": "code",
   "execution_count": 48,
   "metadata": {},
   "outputs": [
    {
     "data": {
      "image/png": "[encoded data removed]",
      "text/plain": [
       "<Figure size 640x480 with 1 Axes>"
      ]
     },
     "metadata": {},
     "output_type": "display_data"
    }
   ],
   "source": [
    "# Let's add names to the each section of the pie chart\n",
    "\n",
    "plt.pie(position_counts, labels= position_names);\n"
   ]
  },
  {
   "cell_type": "code",
   "execution_count": 42,
   "metadata": {},
   "outputs": [
    {
     "data": {
      "image/png": "[encoded data removed]",
      "text/plain": [
       "<Figure size 640x480 with 1 Axes>"
      ]
     },
     "metadata": {},
     "output_type": "display_data"
    }
   ],
   "source": [
    "# Let's create a bar chart of how many players there are at each position\n",
    "plt.bar(position_names, position_counts);\n"
   ]
  },
  {
   "cell_type": "markdown",
   "metadata": {},
   "source": [
    "### What is wrong with this plot???\n",
    "\n",
    "See: https://xkcd.com/833/\n"
   ]
  },
  {
   "cell_type": "code",
   "execution_count": 52,
   "metadata": {},
   "outputs": [
    {
     "data": {
      "image/png": "[encoded data removed]",
      "text/plain": [
       "<Figure size 640x480 with 1 Axes>"
      ]
     },
     "metadata": {},
     "output_type": "display_data"
    }
   ],
   "source": [
    "# Let's make a better version of the bar plot!\n",
    "\n",
    "plt.bar(position_names, position_counts);\n",
    "plt.ylabel(\"Counts\");\n",
    "plt.xlabel(\"Position\");\n"
   ]
  },
  {
   "cell_type": "markdown",
   "metadata": {},
   "source": [
    "## Quantitative data: statistics and plots\n",
    "\n",
    "Quantitative data is numeric data (e.g., ints and floats).\n",
    "- We can visualize quantitative data using histograms and boxplots. \n",
    "- The main statistics we use to sumarize the central tendency of quantitative data are the mean and the median.  \n",
    "\n",
    "Let's explore this using the NBA salary data...\n"
   ]
  },
  {
   "cell_type": "code",
   "execution_count": 56,
   "metadata": {},
   "outputs": [
    {
     "data": {
      "image/png": "[encoded data removed]",
      "text/plain": [
       "<Figure size 640x480 with 1 Axes>"
      ]
     },
     "metadata": {},
     "output_type": "display_data"
    }
   ],
   "source": [
    "# plot a histogram of NBA salaries\n",
    "plt.hist(salary_list, edgecolor = \"k\");\n",
    "plt.ylabel(\"Count\")\n",
    "plt.xlabel(\"Salary (million $)\");"
   ]
  },
  {
   "cell_type": "code",
   "execution_count": null,
   "metadata": {},
   "outputs": [],
   "source": [
    "# What is the average salary?\n",
    "salary_tot = sum(salary_list)\n",
    "salary_tot/len(salary_list)"
   ]
  },
  {
   "cell_type": "code",
   "execution_count": 8,
   "metadata": {},
   "outputs": [],
   "source": [
    "# we can also use the statistics module to calculate statistics \n",
    "import statistics\n"
   ]
  },
  {
   "cell_type": "code",
   "execution_count": 59,
   "metadata": {},
   "outputs": [
    {
     "data": {
      "text/plain": [
       "8.41659874732334"
      ]
     },
     "execution_count": 59,
     "metadata": {},
     "output_type": "execute_result"
    }
   ],
   "source": [
    "# get the mean using the statistics package\n",
    "statistics.mean(salary_list)\n",
    "\n"
   ]
  },
  {
   "cell_type": "code",
   "execution_count": 60,
   "metadata": {},
   "outputs": [
    {
     "data": {
      "text/plain": [
       "3.72204"
      ]
     },
     "execution_count": 60,
     "metadata": {},
     "output_type": "execute_result"
    }
   ],
   "source": [
    "# get the median using the statistics package\n",
    "statistics.median(salary_list)\n"
   ]
  },
  {
   "cell_type": "code",
   "execution_count": 61,
   "metadata": {},
   "outputs": [
    {
     "data": {
      "image/png": "[encoded data removed]",
      "text/plain": [
       "<Figure size 640x480 with 1 Axes>"
      ]
     },
     "metadata": {},
     "output_type": "display_data"
    }
   ],
   "source": [
    "# plot the mean and the median on top of a histogram of salaries\n",
    "\n",
    "plt.hist(salary_list, edgecolor = \"k\");\n",
    "plt.ylabel(\"Count\")\n",
    "plt.xlabel(\"Salary (million $)\");\n",
    "\n",
    "plt.axvline(statistics.mean(salary_list), color='r', linestyle='dashed', linewidth=1, label = \"Mean\");\n",
    "plt.axvline(statistics.median(salary_list), color='b', linestyle='dashed', linewidth=1, label = \"Median\");\n",
    "plt.legend();\n"
   ]
  },
  {
   "attachments": {},
   "cell_type": "markdown",
   "metadata": {},
   "source": [
    "## Outliers \n",
    "\n",
    "An outlier is an observed value that is notably distinct from the other values in a dataset by being much smaller or larger than the rest of the data. Outliers can potentially have a large influence on the statistics you calculate!\n",
    "\n",
    "One should examine outliers to understand what is causing them:\n",
    "- If there are due to an error, remove them.\n",
    "- Otherwise, need to think about how to treat them. \n",
    "  - Could be an interesting phenomenon. \n",
    "  - on\r\n",
    "Could restrict data to a particurange of values.\n",
    "  - etc. \r\n",
    "\r\n",
    "\n",
    "\n"
   ]
  },
  {
   "cell_type": "code",
   "execution_count": 7,
   "metadata": {},
   "outputs": [],
   "source": [
    "# Some fake data\n",
    "my_data = [2, 3, 5, 7, 100000]\n"
   ]
  },
  {
   "cell_type": "code",
   "execution_count": 10,
   "metadata": {},
   "outputs": [
    {
     "data": {
      "text/plain": [
       "20003.4"
      ]
     },
     "execution_count": 10,
     "metadata": {},
     "output_type": "execute_result"
    }
   ],
   "source": [
    "# Get the mean \n",
    "statistics.mean(my_data)\n"
   ]
  },
  {
   "cell_type": "code",
   "execution_count": 11,
   "metadata": {},
   "outputs": [
    {
     "data": {
      "text/plain": [
       "5"
      ]
     },
     "execution_count": 11,
     "metadata": {},
     "output_type": "execute_result"
    }
   ],
   "source": [
    "# Get the median\n",
    "statistics.median(my_data)\n"
   ]
  },
  {
   "cell_type": "markdown",
   "metadata": {},
   "source": [
    "## Visualizing two quantitative variables\n",
    "\n",
    "Let's create line plots and scatter plots to visualize daily bike trips using NYC CitiBike data....\n"
   ]
  },
  {
   "cell_type": "code",
   "execution_count": 15,
   "metadata": {},
   "outputs": [],
   "source": [
    "# Download the CitiBike data\n",
    "YData.download.download_data('daily_bike_totals.csv')"
   ]
  },
  {
   "cell_type": "code",
   "execution_count": 22,
   "metadata": {},
   "outputs": [
    {
     "data": {
      "text/html": [
       "<div>\n",
       "<style scoped>\n",
       "    .dataframe tbody tr th:only-of-type {\n",
       "        vertical-align: middle;\n",
       "    }\n",
       "\n",
       "    .dataframe tbody tr th {\n",
       "        vertical-align: top;\n",
       "    }\n",
       "\n",
       "    .dataframe thead th {\n",
       "        text-align: right;\n",
       "    }\n",
       "</style>\n",
       "<table border=\"1\" class=\"dataframe\">\n",
       "  <thead>\n",
       "    <tr style=\"text-align: right;\">\n",
       "      <th></th>\n",
       "      <th>date</th>\n",
       "      <th>trips</th>\n",
       "      <th>precipitation</th>\n",
       "      <th>snow_depth</th>\n",
       "      <th>snowfall</th>\n",
       "      <th>max_temperature</th>\n",
       "      <th>min_temperature</th>\n",
       "      <th>average_wind_speed</th>\n",
       "      <th>dow</th>\n",
       "      <th>year</th>\n",
       "      <th>month</th>\n",
       "      <th>holiday</th>\n",
       "      <th>stations_in_service</th>\n",
       "      <th>weekday</th>\n",
       "      <th>weekday_non_holiday</th>\n",
       "    </tr>\n",
       "  </thead>\n",
       "  <tbody>\n",
       "    <tr>\n",
       "      <th>0</th>\n",
       "      <td>2013-07-01</td>\n",
       "      <td>16650</td>\n",
       "      <td>0.838583</td>\n",
       "      <td>0.0</td>\n",
       "      <td>0.0</td>\n",
       "      <td>77.00</td>\n",
       "      <td>71.96</td>\n",
       "      <td>3.13171</td>\n",
       "      <td>1</td>\n",
       "      <td>2013</td>\n",
       "      <td>7</td>\n",
       "      <td>False</td>\n",
       "      <td>NaN</td>\n",
       "      <td>True</td>\n",
       "      <td>True</td>\n",
       "    </tr>\n",
       "    <tr>\n",
       "      <th>1</th>\n",
       "      <td>2013-07-02</td>\n",
       "      <td>22745</td>\n",
       "      <td>0.078740</td>\n",
       "      <td>0.0</td>\n",
       "      <td>0.0</td>\n",
       "      <td>82.04</td>\n",
       "      <td>71.96</td>\n",
       "      <td>2.68432</td>\n",
       "      <td>2</td>\n",
       "      <td>2013</td>\n",
       "      <td>7</td>\n",
       "      <td>False</td>\n",
       "      <td>NaN</td>\n",
       "      <td>True</td>\n",
       "      <td>True</td>\n",
       "    </tr>\n",
       "    <tr>\n",
       "      <th>2</th>\n",
       "      <td>2013-07-03</td>\n",
       "      <td>21864</td>\n",
       "      <td>0.531496</td>\n",
       "      <td>0.0</td>\n",
       "      <td>0.0</td>\n",
       "      <td>82.94</td>\n",
       "      <td>73.04</td>\n",
       "      <td>4.25018</td>\n",
       "      <td>3</td>\n",
       "      <td>2013</td>\n",
       "      <td>7</td>\n",
       "      <td>False</td>\n",
       "      <td>NaN</td>\n",
       "      <td>True</td>\n",
       "      <td>True</td>\n",
       "    </tr>\n",
       "    <tr>\n",
       "      <th>3</th>\n",
       "      <td>2013-07-04</td>\n",
       "      <td>22326</td>\n",
       "      <td>0.000000</td>\n",
       "      <td>0.0</td>\n",
       "      <td>0.0</td>\n",
       "      <td>87.08</td>\n",
       "      <td>75.02</td>\n",
       "      <td>4.25018</td>\n",
       "      <td>4</td>\n",
       "      <td>2013</td>\n",
       "      <td>7</td>\n",
       "      <td>True</td>\n",
       "      <td>NaN</td>\n",
       "      <td>True</td>\n",
       "      <td>False</td>\n",
       "    </tr>\n",
       "    <tr>\n",
       "      <th>4</th>\n",
       "      <td>2013-07-05</td>\n",
       "      <td>21842</td>\n",
       "      <td>0.000000</td>\n",
       "      <td>0.0</td>\n",
       "      <td>0.0</td>\n",
       "      <td>89.96</td>\n",
       "      <td>75.92</td>\n",
       "      <td>4.92126</td>\n",
       "      <td>5</td>\n",
       "      <td>2013</td>\n",
       "      <td>7</td>\n",
       "      <td>False</td>\n",
       "      <td>NaN</td>\n",
       "      <td>True</td>\n",
       "      <td>True</td>\n",
       "    </tr>\n",
       "  </tbody>\n",
       "</table>\n",
       "</div>"
      ],
      "text/plain": [
       "        date  trips  precipitation  snow_depth  snowfall  max_temperature  \\\n",
       "0 2013-07-01  16650       0.838583         0.0       0.0            77.00   \n",
       "1 2013-07-02  22745       0.078740         0.0       0.0            82.04   \n",
       "2 2013-07-03  21864       0.531496         0.0       0.0            82.94   \n",
       "3 2013-07-04  22326       0.000000         0.0       0.0            87.08   \n",
       "4 2013-07-05  21842       0.000000         0.0       0.0            89.96   \n",
       "\n",
       "   min_temperature  average_wind_speed  dow  year  month  holiday  \\\n",
       "0            71.96             3.13171    1  2013      7    False   \n",
       "1            71.96             2.68432    2  2013      7    False   \n",
       "2            73.04             4.25018    3  2013      7    False   \n",
       "3            75.02             4.25018    4  2013      7     True   \n",
       "4            75.92             4.92126    5  2013      7    False   \n",
       "\n",
       "   stations_in_service  weekday  weekday_non_holiday  \n",
       "0                  NaN     True                 True  \n",
       "1                  NaN     True                 True  \n",
       "2                  NaN     True                 True  \n",
       "3                  NaN     True                False  \n",
       "4                  NaN     True                 True  "
      ]
     },
     "execution_count": 22,
     "metadata": {},
     "output_type": "execute_result"
    }
   ],
   "source": [
    "# Load the CitiBike data\n",
    "\n",
    "import pandas as pd\n",
    "\n",
    "bikes = pd.read_csv('daily_bike_totals.csv', parse_dates = [0])\n",
    "\n",
    "bikes.head()\n"
   ]
  },
  {
   "cell_type": "code",
   "execution_count": 23,
   "metadata": {},
   "outputs": [],
   "source": [
    "# Extract the data to lists\n",
    "dates = bikes['date'].to_list()\n",
    "min_temp = bikes['min_temperature'].to_list()\n",
    "max_temp = bikes['max_temperature'].to_list()"
   ]
  },
  {
   "cell_type": "code",
   "execution_count": 25,
   "metadata": {},
   "outputs": [
    {
     "data": {
      "image/png": "[encoded data removed]",
      "text/plain": [
       "<Figure size 640x480 with 1 Axes>"
      ]
     },
     "metadata": {},
     "output_type": "display_data"
    }
   ],
   "source": [
    "# Create a line plot of the number of trips as a function of the date\n",
    "\n",
    "plt.plot(dates, min_temp);\n",
    "plt.xlabel(\"Date\");\n",
    "plt.ylabel(\"Minimum temperature\");\n"
   ]
  },
  {
   "cell_type": "code",
   "execution_count": 27,
   "metadata": {},
   "outputs": [
    {
     "data": {
      "image/png": "[encoded data removed]",
      "text/plain": [
       "<Figure size 640x480 with 1 Axes>"
      ]
     },
     "metadata": {},
     "output_type": "display_data"
    }
   ],
   "source": [
    "# Create a scatter plot of the maximum temperature as a funciton of the minimum temperature\n",
    "\n",
    "plt.plot(min_temp, max_temp, '.');\n",
    "plt.xlabel(\"Minimum temperature\");\n",
    "plt.ylabel(\"Maximum temperature\");\n"
   ]
  },
  {
   "cell_type": "markdown",
   "metadata": {},
   "source": [
    "<br>\n",
    "<br>\n",
    "<br>\n",
    "<center>\n",
    "<img src=\"https://pbs.twimg.com/media/DukTkwZWsAE7s0o?format=jpg&name=small\" width=\"300\"/>\n",
    "</center>"
   ]
  },
  {
   "cell_type": "code",
   "execution_count": null,
   "metadata": {},
   "outputs": [],
   "source": []
  }
 ],
 "metadata": {
  "anaconda-cloud": {},
  "kernelspec": {
   "display_name": "Python 3 (ipykernel)",
   "language": "python",
   "name": "python3"
  },
  "language_info": {
   "codemirror_mode": {
    "name": "ipython",
    "version": 3
   },
   "file_extension": ".py",
   "mimetype": "text/x-python",
   "name": "python",
   "nbconvert_exporter": "python",
   "pygments_lexer": "ipython3",
   "version": "3.11.7"
  }
 },
 "nbformat": 4,
 "nbformat_minor": 4
}
