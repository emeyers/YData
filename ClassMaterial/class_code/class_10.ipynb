{
 "cells": [
  {
   "cell_type": "markdown",
   "metadata": {},
   "source": [
    "# Class 10: Data visualization\n",
    "\n",
    "Plan for today:\n",
    "- Review and discuss additional features of using matplotlib to visualize data\n",
    "- If there is time: Data visualization using seaborn\n",
    "\n"
   ]
  },
  {
   "cell_type": "code",
   "execution_count": 19,
   "metadata": {},
   "outputs": [
    {
     "name": "stdout",
     "output_type": "stream",
     "text": [
      "The file `movies.csv` already exists.\n",
      "If you would like to download a new copy of the file, please rename the existing copy of the file.\n",
      "The file `movie_ratings.csv` already exists.\n",
      "If you would like to download a new copy of the file, please rename the existing copy of the file.\n"
     ]
    }
   ],
   "source": [
    "import YData\n",
    "\n",
    "# YData.download.download_class_code(10)   # get class code    \n",
    "# YData.download.download_class_code(10, True)  # get the code with the answers \n",
    "\n",
    "\n",
    "YData.download_data(\"movies.csv\")\n",
    "YData.download_data(\"movie_ratings.csv\")\n"
   ]
  },
  {
   "cell_type": "code",
   "execution_count": 20,
   "metadata": {},
   "outputs": [],
   "source": [
    "## You can get the fifth homework by uncommenting and running the code below.\n",
    "#YData.download.download_homework(5)  # downloads the homework "
   ]
  },
  {
   "cell_type": "markdown",
   "metadata": {},
   "source": [
    "If you are using colabs, you should run the code below."
   ]
  },
  {
   "cell_type": "code",
   "execution_count": 21,
   "metadata": {},
   "outputs": [],
   "source": [
    "# !pip install https://github.com/emeyers/YData_package/tarball/master\n",
    "# from google.colab import drive\n",
    "# drive.mount('/content/drive')"
   ]
  },
  {
   "cell_type": "code",
   "execution_count": 22,
   "metadata": {},
   "outputs": [],
   "source": [
    "import pandas as pd\n",
    "import numpy as np\n",
    "\n",
    "import matplotlib.pyplot as plt\n",
    "%matplotlib inline"
   ]
  },
  {
   "cell_type": "markdown",
   "metadata": {},
   "source": [
    "## Warm-up exercises: Bechdel movies revisited\n",
    "\n",
    "For some warm-up exercises, let's practice manipulating data with pandas using the Bechdel data. \n",
    "\n",
    "The code below reads in the Bechdel into a pandas DataFrame named `movies` from a .csv file, and reduces the data to a subset of relevant columns (this is the same code as was used in previous classes, although hopefully now you understand what it is doing!). "
   ]
  },
  {
   "cell_type": "code",
   "execution_count": 23,
   "metadata": {},
   "outputs": [
    {
     "data": {
      "text/html": [
       "<div>\n",
       "<style scoped>\n",
       "    .dataframe tbody tr th:only-of-type {\n",
       "        vertical-align: middle;\n",
       "    }\n",
       "\n",
       "    .dataframe tbody tr th {\n",
       "        vertical-align: top;\n",
       "    }\n",
       "\n",
       "    .dataframe thead th {\n",
       "        text-align: right;\n",
       "    }\n",
       "</style>\n",
       "<table border=\"1\" class=\"dataframe\">\n",
       "  <thead>\n",
       "    <tr style=\"text-align: right;\">\n",
       "      <th></th>\n",
       "      <th>year</th>\n",
       "      <th>imdb</th>\n",
       "      <th>title</th>\n",
       "      <th>clean_test</th>\n",
       "      <th>binary</th>\n",
       "      <th>budget</th>\n",
       "      <th>domgross</th>\n",
       "      <th>budget_2013</th>\n",
       "      <th>domgross_2013</th>\n",
       "      <th>decade_code</th>\n",
       "      <th>imdb_id</th>\n",
       "      <th>rated</th>\n",
       "      <th>imdb_rating</th>\n",
       "      <th>runtime</th>\n",
       "      <th>imdb_votes</th>\n",
       "    </tr>\n",
       "  </thead>\n",
       "  <tbody>\n",
       "    <tr>\n",
       "      <th>0</th>\n",
       "      <td>2013</td>\n",
       "      <td>tt1711425</td>\n",
       "      <td>21 &amp;amp; Over</td>\n",
       "      <td>notalk</td>\n",
       "      <td>FAIL</td>\n",
       "      <td>13000000</td>\n",
       "      <td>25682380.0</td>\n",
       "      <td>13000000</td>\n",
       "      <td>25682380.0</td>\n",
       "      <td>1.0</td>\n",
       "      <td>1711425</td>\n",
       "      <td>NaN</td>\n",
       "      <td>NaN</td>\n",
       "      <td>NaN</td>\n",
       "      <td>NaN</td>\n",
       "    </tr>\n",
       "    <tr>\n",
       "      <th>1</th>\n",
       "      <td>2012</td>\n",
       "      <td>tt1343727</td>\n",
       "      <td>Dredd 3D</td>\n",
       "      <td>ok</td>\n",
       "      <td>PASS</td>\n",
       "      <td>45000000</td>\n",
       "      <td>13414714.0</td>\n",
       "      <td>45658735</td>\n",
       "      <td>13611086.0</td>\n",
       "      <td>1.0</td>\n",
       "      <td>1343727</td>\n",
       "      <td>NaN</td>\n",
       "      <td>NaN</td>\n",
       "      <td>NaN</td>\n",
       "      <td>NaN</td>\n",
       "    </tr>\n",
       "    <tr>\n",
       "      <th>2</th>\n",
       "      <td>2013</td>\n",
       "      <td>tt2024544</td>\n",
       "      <td>12 Years a Slave</td>\n",
       "      <td>notalk</td>\n",
       "      <td>FAIL</td>\n",
       "      <td>20000000</td>\n",
       "      <td>53107035.0</td>\n",
       "      <td>20000000</td>\n",
       "      <td>53107035.0</td>\n",
       "      <td>1.0</td>\n",
       "      <td>2024544</td>\n",
       "      <td>R</td>\n",
       "      <td>8.3</td>\n",
       "      <td>134 min</td>\n",
       "      <td>143,446</td>\n",
       "    </tr>\n",
       "    <tr>\n",
       "      <th>3</th>\n",
       "      <td>2013</td>\n",
       "      <td>tt1272878</td>\n",
       "      <td>2 Guns</td>\n",
       "      <td>notalk</td>\n",
       "      <td>FAIL</td>\n",
       "      <td>61000000</td>\n",
       "      <td>75612460.0</td>\n",
       "      <td>61000000</td>\n",
       "      <td>75612460.0</td>\n",
       "      <td>1.0</td>\n",
       "      <td>1272878</td>\n",
       "      <td>R</td>\n",
       "      <td>6.8</td>\n",
       "      <td>109 min</td>\n",
       "      <td>87,301</td>\n",
       "    </tr>\n",
       "    <tr>\n",
       "      <th>4</th>\n",
       "      <td>2013</td>\n",
       "      <td>tt0453562</td>\n",
       "      <td>42</td>\n",
       "      <td>men</td>\n",
       "      <td>FAIL</td>\n",
       "      <td>40000000</td>\n",
       "      <td>95020213.0</td>\n",
       "      <td>40000000</td>\n",
       "      <td>95020213.0</td>\n",
       "      <td>1.0</td>\n",
       "      <td>453562</td>\n",
       "      <td>PG-13</td>\n",
       "      <td>7.6</td>\n",
       "      <td>128 min</td>\n",
       "      <td>43,608</td>\n",
       "    </tr>\n",
       "  </tbody>\n",
       "</table>\n",
       "</div>"
      ],
      "text/plain": [
       "   year       imdb             title clean_test binary    budget    domgross  \\\n",
       "0  2013  tt1711425     21 &amp; Over     notalk   FAIL  13000000  25682380.0   \n",
       "1  2012  tt1343727          Dredd 3D         ok   PASS  45000000  13414714.0   \n",
       "2  2013  tt2024544  12 Years a Slave     notalk   FAIL  20000000  53107035.0   \n",
       "3  2013  tt1272878            2 Guns     notalk   FAIL  61000000  75612460.0   \n",
       "4  2013  tt0453562                42        men   FAIL  40000000  95020213.0   \n",
       "\n",
       "   budget_2013  domgross_2013  decade_code  imdb_id  rated  imdb_rating  \\\n",
       "0     13000000     25682380.0          1.0  1711425    NaN          NaN   \n",
       "1     45658735     13611086.0          1.0  1343727    NaN          NaN   \n",
       "2     20000000     53107035.0          1.0  2024544      R          8.3   \n",
       "3     61000000     75612460.0          1.0  1272878      R          6.8   \n",
       "4     40000000     95020213.0          1.0   453562  PG-13          7.6   \n",
       "\n",
       "   runtime imdb_votes  \n",
       "0      NaN        NaN  \n",
       "1      NaN        NaN  \n",
       "2  134 min    143,446  \n",
       "3  109 min     87,301  \n",
       "4  128 min     43,608  "
      ]
     },
     "execution_count": 23,
     "metadata": {},
     "output_type": "execute_result"
    }
   ],
   "source": [
    "\n",
    "movies = pd.read_csv(\"movies.csv\")\n",
    "\n",
    "col_names_to_keep = ['year', 'imdb', 'title', 'clean_test', 'binary', 'budget',\n",
    "       'domgross', 'budget_2013', 'domgross_2013', 'decade_code', 'imdb_id',\n",
    "       'rated', 'imdb_rating', 'runtime',  'imdb_votes']\n",
    "\n",
    "movies =   movies[col_names_to_keep]\n",
    "\n",
    "#movies.dropna(axis = 0, how = 'any', inplace = True, subset=col_names_to_keep[0:9])\n",
    "\n",
    "movies.head()\n"
   ]
  },
  {
   "cell_type": "markdown",
   "metadata": {},
   "source": [
    "### Warm-up exercise 1 \n",
    "\n",
    "Starting with the `movies` DataFrame create a DataFrame called `bechdel_stats` that has statistics calculated separately for movies that failed and movies that passed the Bechdel test; i.e., `bechdel_stats` DataFrame should have two rows, the first row for movies that failed the Bechdel test and one for movies that passed the Bechdel test. \n",
    "\n",
    "The `bechdel_stats` should also have the following columns: \n",
    "\n",
    "- `mean_revenue`: The mean revenue (domgross_2013) in 2013 inflation adjusted dollars\n",
    "- `mean_budget`: The mean budget (budget_2013) in 2013 inflation adjusted dollars\n",
    "- `n`: The number of movies \n",
    "\n",
    "\n"
   ]
  },
  {
   "cell_type": "code",
   "execution_count": 2,
   "metadata": {},
   "outputs": [],
   "source": [
    "# 1: Get mean budget, mean revenue, and number of movies for movies that passed and did not pass the Bechdel test \n",
    "\n",
    "\n",
    "\n"
   ]
  },
  {
   "cell_type": "markdown",
   "metadata": {},
   "source": [
    "### Warm-up exercise 2\n",
    "\n",
    "Now calculate the ratio of the mean budgets of movies that failed the Bechdel test to the mean budget of movies that passed the Bechdel test; i.e., you should calculate $$\\frac{mean-budget-failed}{mean-budget-passed}$$\n",
    "\n",
    "Also, please think about what this value tells you. \n"
   ]
  },
  {
   "cell_type": "code",
   "execution_count": null,
   "metadata": {},
   "outputs": [],
   "source": [
    "\n",
    "\n",
    "\n"
   ]
  },
  {
   "cell_type": "markdown",
   "metadata": {},
   "source": [
    "### Warm-up exercise 3\n",
    "\n",
    "Next add a column to the `bechdel_stats` DataFrame called `prop` that has the proportion of movies that failed, and passed the Bechdel test; i.e., the first row of the `prop` column should have the proportion of movies that failed the Bechdel test and the second row should have the proportion of movies that passed the Bechdel test. \n"
   ]
  },
  {
   "cell_type": "code",
   "execution_count": null,
   "metadata": {},
   "outputs": [],
   "source": [
    "\n",
    "\n",
    "\n"
   ]
  },
  {
   "cell_type": "markdown",
   "metadata": {},
   "source": [
    "### Warm-up exercise 3\n",
    "\n",
    "Finally, the code below creates a DataFrame called `movie_ratings` that has ratings of 651 movies from the website [Rotten Tomatoes](https://www.rottentomatoes.com/), and reduces the data down to the following three columns:\n",
    "\n",
    "1. `imdb`: A ID that uniquely identifies each movie\n",
    "2. `audience_score`: The mean score that audience members gave each movie\n",
    "3. `critics_score`: The mean score that critics gave each movie.\n",
    "\n",
    "Please do the following with this `movie_ratings` DataFrame:\n",
    "\n",
    "1. Use an inner join to join/merge the Bechdel movies data (i.e., the `movies` DataFrame) with this new `movie_ratings` DataFrame using the `imdb` column. Save this joined DataFrame to the name `merged_data`.  \n",
    "2. Select only columns `binary`, `audience_score`, `critics_score` from the `merged_data` DataFrame.  \n",
    "3. Calculate mean audience and critics scores separately for movies that passed and failed the bechdel test.   \n",
    "\n",
    "Do movies that fail the Bechdel test seem to have higher audience and/or critics' scores? \n"
   ]
  },
  {
   "cell_type": "code",
   "execution_count": 27,
   "metadata": {},
   "outputs": [
    {
     "data": {
      "text/html": [
       "<div>\n",
       "<style scoped>\n",
       "    .dataframe tbody tr th:only-of-type {\n",
       "        vertical-align: middle;\n",
       "    }\n",
       "\n",
       "    .dataframe tbody tr th {\n",
       "        vertical-align: top;\n",
       "    }\n",
       "\n",
       "    .dataframe thead th {\n",
       "        text-align: right;\n",
       "    }\n",
       "</style>\n",
       "<table border=\"1\" class=\"dataframe\">\n",
       "  <thead>\n",
       "    <tr style=\"text-align: right;\">\n",
       "      <th></th>\n",
       "      <th>imdb</th>\n",
       "      <th>audience_score</th>\n",
       "      <th>critics_score</th>\n",
       "    </tr>\n",
       "  </thead>\n",
       "  <tbody>\n",
       "    <tr>\n",
       "      <th>0</th>\n",
       "      <td>tt1869425</td>\n",
       "      <td>73</td>\n",
       "      <td>45</td>\n",
       "    </tr>\n",
       "    <tr>\n",
       "      <th>1</th>\n",
       "      <td>tt0205873</td>\n",
       "      <td>81</td>\n",
       "      <td>96</td>\n",
       "    </tr>\n",
       "    <tr>\n",
       "      <th>2</th>\n",
       "      <td>tt0118111</td>\n",
       "      <td>91</td>\n",
       "      <td>91</td>\n",
       "    </tr>\n",
       "  </tbody>\n",
       "</table>\n",
       "</div>"
      ],
      "text/plain": [
       "        imdb  audience_score  critics_score\n",
       "0  tt1869425              73             45\n",
       "1  tt0205873              81             96\n",
       "2  tt0118111              91             91"
      ]
     },
     "execution_count": 27,
     "metadata": {},
     "output_type": "execute_result"
    }
   ],
   "source": [
    "movie_ratings = pd.read_csv(\"movie_ratings.csv\")\n",
    "\n",
    "movie_ratings = movie_ratings[[\"imdb\", \"audience_score\", \"critics_score\"]]\n",
    "\n",
    "movie_ratings.head(3)\n"
   ]
  },
  {
   "cell_type": "code",
   "execution_count": null,
   "metadata": {},
   "outputs": [],
   "source": [
    "\n",
    "\n",
    "\n",
    "\n",
    "\n"
   ]
  },
  {
   "cell_type": "markdown",
   "metadata": {},
   "source": [
    "## Data visualization!\n",
    "\n",
    "Let's now review and continue using matplotlib package to visualize data as well as explore additional features of this package. \n"
   ]
  },
  {
   "cell_type": "markdown",
   "metadata": {},
   "source": [
    "### Reviewing visualizing quantitative data\n",
    "\n",
    "Let's begin by reviewing visualizing quantitative data. In particular, let's create visualizations to view the distribution of budgets of movies that passed and failed the Bechdel test (rather than just looking at the mean budgets as we did in the warm-up exercises).\n",
    "\n",
    "In order to compare movies that passed and failed the Bechdel test, let's split our `movies` DataFrame into two DataFrames called:\n",
    "\n",
    "1. `bechdel_passed_df`: This DataFrame has only movies that passed the Bechdel test\n",
    "2. `bechdel_failed_df`: This DataFrame has only movies that failed the Bechdel test\n",
    "\n",
    "You can do this using Boolean masking and/or the `.query()` method.\n"
   ]
  },
  {
   "cell_type": "code",
   "execution_count": 3,
   "metadata": {},
   "outputs": [],
   "source": [
    "# Created DataFrames for movies that passed and failed the Bechdel test using Boolean subsetting\n",
    "\n",
    "\n",
    "\n",
    "\n",
    "# Alternatively, use the .query() method to create these DataFrames\n",
    "\n",
    "\n",
    "\n",
    "\n"
   ]
  },
  {
   "cell_type": "markdown",
   "metadata": {},
   "source": [
    "#### Comparing movies using boxplots\n",
    "\n",
    "Now that we have the `bechdel_passed_df` and `bechdel_failed_df` DataFrames, let's use side-by-side boxplots to compare the budgets (in 2013 dollars).\n",
    "\n",
    "Do the budgets seem similar? \n"
   ]
  },
  {
   "cell_type": "code",
   "execution_count": null,
   "metadata": {},
   "outputs": [],
   "source": [
    "\n",
    "\n",
    "\n"
   ]
  },
  {
   "cell_type": "markdown",
   "metadata": {},
   "source": [
    "#### Comparing movies using overlapping histograms\n",
    "\n",
    "We can also compare the budgets using overlapping histograms. To do this, it will be useful to set the following properties:\n",
    "\n",
    "1. `alpha = .5`: Make the histograms have some transparency.\n",
    "2. `density =  True`: Normalize the histograms to have a area equal to 1 to account for the fact that there are different numbers of movies that passed and failed the Bechdel test in our dataset. \n",
    "\n",
    "Do you think the boxplots or the histograms better contrasts the budgets of movies that passed and failed the Bechdel test? \n"
   ]
  },
  {
   "cell_type": "code",
   "execution_count": null,
   "metadata": {},
   "outputs": [],
   "source": [
    "\n",
    "\n",
    "\n",
    "\n",
    "\n"
   ]
  },
  {
   "cell_type": "markdown",
   "metadata": {},
   "source": [
    "### Movie revenue as a function of year\n",
    "\n",
    "Using our `movies` DataFrame, let's create a DataFrame called `year_revenue` that has a row for each year a movie was released (`year` column) and has the following variables:\n",
    "\n",
    "1. `mean_revenue_2013`: The mean revenue in 2013 inflation adjusted dollars\n",
    "2. `mean_revenue`: The mean revenue in non-inflation adjusted dollars\n",
    "3. `n`: The number of movies in our data set for each year\n",
    "\n",
    "\n",
    "Once we have created the `year_revenue`, plot the `mean_revenue_2013` and the `mean_revenue` as a function of the year. \n",
    "\n",
    "Question: What is the data so choppy prior to the 1990's\n"
   ]
  },
  {
   "cell_type": "code",
   "execution_count": 4,
   "metadata": {},
   "outputs": [],
   "source": [
    "\n",
    "# Create the year_revenue DataFrame\n",
    "\n",
    "\n",
    "\n",
    "\n",
    "\n",
    "\n",
    "# Visualize the time series\n",
    "\n",
    "\n",
    "\n",
    "\n",
    "\n",
    "\n"
   ]
  },
  {
   "cell_type": "markdown",
   "metadata": {},
   "source": [
    "## Scatter plots\n",
    "\n",
    "We can create a simple scatter plots using: `plt.plot()`\n",
    "\n",
    "For more complex scatter plots we can use: `plot.scatter()`\n",
    "\n",
    "Let's start by looking at the simple `plt.plot()`"
   ]
  },
  {
   "cell_type": "code",
   "execution_count": 5,
   "metadata": {},
   "outputs": [],
   "source": [
    "# Create a basic scatter plot of budget vs. revenue\n",
    "\n",
    "\n",
    "\n",
    "\n"
   ]
  },
  {
   "cell_type": "markdown",
   "metadata": {},
   "source": [
    "Let's now create a DataFrame called `movies2` which is the same as our `movies` DataFrame but it also has an additional column called `after2000`. We will use this column to plots points before the year 2000 in a different color than points after 2000. \n",
    "\n",
    "In particular, the `after2000` column should be set to the string \"red\" for movies that occur before 2000 and to the string \"green\" for points that occured after 2000. \n",
    "\n",
    "We can then use the `plt.scatter()` function to plot data colored by whether a movie was made before or after 2000.\n",
    "\n",
    "Do the results show anything interesting/interpretable? \n"
   ]
  },
  {
   "cell_type": "code",
   "execution_count": 6,
   "metadata": {},
   "outputs": [
    {
     "ename": "NameError",
     "evalue": "name 'movies' is not defined",
     "output_type": "error",
     "traceback": [
      "\u001b[1;31m---------------------------------------------------------------------------\u001b[0m",
      "\u001b[1;31mNameError\u001b[0m                                 Traceback (most recent call last)",
      "Cell \u001b[1;32mIn[6], line 4\u001b[0m\n\u001b[0;32m      1\u001b[0m \u001b[38;5;66;03m# Add a column called \"before2000\" which has values that are \u001b[39;00m\n\u001b[0;32m      2\u001b[0m \u001b[38;5;66;03m# \"green\" for years before 2000, \"red\" for years after 2000\u001b[39;00m\n\u001b[1;32m----> 4\u001b[0m movies2 \u001b[38;5;241m=\u001b[39m \u001b[43mmovies\u001b[49m\u001b[38;5;241m.\u001b[39mcopy()\n",
      "\u001b[1;31mNameError\u001b[0m: name 'movies' is not defined"
     ]
    }
   ],
   "source": [
    "# Add a column called \"before2000\" which has values that are \n",
    "# \"green\" for years before 2000, \"red\" for years after 2000\n",
    "\n",
    "movies2 = movies.copy()\n",
    "\n",
    "\n",
    "\n",
    "\n",
    "\n",
    "\n",
    "\n"
   ]
  },
  {
   "cell_type": "code",
   "execution_count": null,
   "metadata": {},
   "outputs": [],
   "source": [
    "\n",
    "\n",
    "\n",
    "\n",
    "\n"
   ]
  },
  {
   "cell_type": "markdown",
   "metadata": {},
   "source": [
    "## Subplots\n",
    "\n",
    "There are two ways to create subplots in matplotlib using either:\n",
    "\n",
    "1. The pyplot interface\n",
    "2. The axes interface\n",
    "\n",
    "To create subplots using the pyplot interface we can use the `subplot` function:\n",
    "\n",
    "- `plt.subplot(num_rows, num_cols, curr_plot_num);`\n",
    "- `plt.plot(x, y);`\n"
   ]
  },
  {
   "cell_type": "code",
   "execution_count": 7,
   "metadata": {},
   "outputs": [],
   "source": [
    "# reset the index to make \"binary\" a column in the DataFrame\n",
    "\n",
    "\n",
    "\n",
    "\n",
    "# change the figure size\n",
    "\n",
    "\n",
    "\n",
    "\n",
    "\n",
    "# subplots\n",
    "\n",
    "\n",
    "\n"
   ]
  },
  {
   "cell_type": "code",
   "execution_count": 8,
   "metadata": {},
   "outputs": [],
   "source": [
    "# using the axes interface\n",
    "\n",
    "\n",
    "\n",
    "# set the figure size\n",
    "\n",
    "\n",
    "\n",
    "\n",
    "# subplots\n",
    "\n",
    "\n",
    "\n"
   ]
  },
  {
   "cell_type": "markdown",
   "metadata": {},
   "source": [
    "## Using matplotlib as a general canvas\n",
    "\n",
    "We can use matplotlib as a general canvas to create illustrations as well. For example, in my YData baseball class we drew a baseball diamond and updated where runners were on base.\n",
    "\n",
    "Let's explore this very briefly...\n"
   ]
  },
  {
   "cell_type": "code",
   "execution_count": 38,
   "metadata": {},
   "outputs": [
    {
     "data": {
      "image/png": "[encoded data removed]",
      "text/plain": [
       "<Figure size 640x480 with 1 Axes>"
      ]
     },
     "metadata": {},
     "output_type": "display_data"
    }
   ],
   "source": [
    "        \n",
    "# draw the baseball diamond\n",
    "plt.plot([0, 1], [0, 1], color = \"black\");\n",
    "plt.plot([1, 0], [1, 2], color = \"black\");\n",
    "plt.plot([0, -1], [2, 1], color = \"black\");\n",
    "plt.plot([-1, 0], [1, 0], color = \"black\");\n",
    "\n",
    "# make the axes square\n",
    "plt.axis(\"square\");\n",
    "\n",
    "# put a runner on first\n",
    "plt.plot([1], [1], color = \"red\", marker=\".\", markersize=25);\n",
    "\n",
    "# turn off the axis\n",
    "plt.axis(\"off\");\n",
    "\n",
    "# make the field green \n",
    "plt.gcf().set_facecolor('green')      # a better hexadecimal green: '#86eb34'"
   ]
  },
  {
   "cell_type": "markdown",
   "metadata": {},
   "source": [
    "## Seaborn!\n",
    "\n",
    "[Seaborn](https://seaborn.pydata.org/index.html) is a Python data visualization library based on matplotlib. It provides a high-level interface for drawing attractive and informative statistical graphics. \n",
    "\n",
    "I.e., it is built on top of of matplotlib but produces better looking plots that are easier to create. \n",
    "\n",
    "Let's start by examining different themes which can produce better looking plots. We can do this using the `sns.set_theme()` method. \n"
   ]
  },
  {
   "cell_type": "code",
   "execution_count": 9,
   "metadata": {},
   "outputs": [],
   "source": [
    "# Import seaborn\n",
    "import seaborn as sns\n",
    "\n",
    "# Apply the default theme\n",
    "\n",
    "\n",
    "\n",
    "\n",
    "# Side note: Matplotlib also has themes\n",
    "# plt.style.available\n",
    "# plt.style.use('fivethirtyeight')\n",
    "\n",
    "\n",
    "# Re-create a line plot of gas prices over time here\n",
    "\n",
    "\n",
    "\n"
   ]
  },
  {
   "cell_type": "markdown",
   "metadata": {},
   "source": [
    "### Plotting relationships between two quantitative variables\n",
    "\n",
    "We can plot relationships between two quantitative variables using the `sns.relplot()` function\n"
   ]
  },
  {
   "cell_type": "code",
   "execution_count": 13,
   "metadata": {},
   "outputs": [],
   "source": [
    "# plot relationship between budget and revenue (domgross_2013)\n",
    "\n"
   ]
  },
  {
   "cell_type": "markdown",
   "metadata": {},
   "source": [
    "#### Penguins!\n",
    "\n",
    "Let's continue to explore the relplot using data on penguins. \n",
    "\n",
    "We will also look at mapping other features of our data onto visual properties including: \n",
    "- `x`, and `y` column names to be plotted (as we have done before)\n",
    "- `hue`: The column name to be mapped to the color of the points\n",
    "- `size`: The column name to be mapped to the size of points\n",
    "- `style`: The column name to be mapped to the style of the markers\n",
    "- `col`: fThe column name to be mapped to faceting to compare multiple subplots\n"
   ]
  },
  {
   "cell_type": "code",
   "execution_count": 41,
   "metadata": {},
   "outputs": [
    {
     "name": "stdout",
     "output_type": "stream",
     "text": [
      "<class 'pandas.core.frame.DataFrame'>\n"
     ]
    },
    {
     "data": {
      "text/html": [
       "<div>\n",
       "<style scoped>\n",
       "    .dataframe tbody tr th:only-of-type {\n",
       "        vertical-align: middle;\n",
       "    }\n",
       "\n",
       "    .dataframe tbody tr th {\n",
       "        vertical-align: top;\n",
       "    }\n",
       "\n",
       "    .dataframe thead th {\n",
       "        text-align: right;\n",
       "    }\n",
       "</style>\n",
       "<table border=\"1\" class=\"dataframe\">\n",
       "  <thead>\n",
       "    <tr style=\"text-align: right;\">\n",
       "      <th></th>\n",
       "      <th>species</th>\n",
       "      <th>island</th>\n",
       "      <th>bill_length_mm</th>\n",
       "      <th>bill_depth_mm</th>\n",
       "      <th>flipper_length_mm</th>\n",
       "      <th>body_mass_g</th>\n",
       "      <th>sex</th>\n",
       "    </tr>\n",
       "  </thead>\n",
       "  <tbody>\n",
       "    <tr>\n",
       "      <th>0</th>\n",
       "      <td>Adelie</td>\n",
       "      <td>Torgersen</td>\n",
       "      <td>39.1</td>\n",
       "      <td>18.7</td>\n",
       "      <td>181.0</td>\n",
       "      <td>3750.0</td>\n",
       "      <td>Male</td>\n",
       "    </tr>\n",
       "    <tr>\n",
       "      <th>1</th>\n",
       "      <td>Adelie</td>\n",
       "      <td>Torgersen</td>\n",
       "      <td>39.5</td>\n",
       "      <td>17.4</td>\n",
       "      <td>186.0</td>\n",
       "      <td>3800.0</td>\n",
       "      <td>Female</td>\n",
       "    </tr>\n",
       "    <tr>\n",
       "      <th>2</th>\n",
       "      <td>Adelie</td>\n",
       "      <td>Torgersen</td>\n",
       "      <td>40.3</td>\n",
       "      <td>18.0</td>\n",
       "      <td>195.0</td>\n",
       "      <td>3250.0</td>\n",
       "      <td>Female</td>\n",
       "    </tr>\n",
       "    <tr>\n",
       "      <th>3</th>\n",
       "      <td>Adelie</td>\n",
       "      <td>Torgersen</td>\n",
       "      <td>NaN</td>\n",
       "      <td>NaN</td>\n",
       "      <td>NaN</td>\n",
       "      <td>NaN</td>\n",
       "      <td>NaN</td>\n",
       "    </tr>\n",
       "    <tr>\n",
       "      <th>4</th>\n",
       "      <td>Adelie</td>\n",
       "      <td>Torgersen</td>\n",
       "      <td>36.7</td>\n",
       "      <td>19.3</td>\n",
       "      <td>193.0</td>\n",
       "      <td>3450.0</td>\n",
       "      <td>Female</td>\n",
       "    </tr>\n",
       "  </tbody>\n",
       "</table>\n",
       "</div>"
      ],
      "text/plain": [
       "  species     island  bill_length_mm  bill_depth_mm  flipper_length_mm  \\\n",
       "0  Adelie  Torgersen            39.1           18.7              181.0   \n",
       "1  Adelie  Torgersen            39.5           17.4              186.0   \n",
       "2  Adelie  Torgersen            40.3           18.0              195.0   \n",
       "3  Adelie  Torgersen             NaN            NaN                NaN   \n",
       "4  Adelie  Torgersen            36.7           19.3              193.0   \n",
       "\n",
       "   body_mass_g     sex  \n",
       "0       3750.0    Male  \n",
       "1       3800.0  Female  \n",
       "2       3250.0  Female  \n",
       "3          NaN     NaN  \n",
       "4       3450.0  Female  "
      ]
     },
     "execution_count": 41,
     "metadata": {},
     "output_type": "execute_result"
    }
   ],
   "source": [
    "# Let's look at some penguins\n",
    "penguins = sns.load_dataset(\"penguins\")\n",
    "\n",
    "print(type(penguins))\n",
    "\n",
    "penguins.head()\n"
   ]
  },
  {
   "cell_type": "code",
   "execution_count": 10,
   "metadata": {},
   "outputs": [],
   "source": [
    "# plotting bill size on x, and y axes and other properties\n",
    "\n",
    "\n",
    "\n",
    "\n",
    "\n",
    "\n"
   ]
  },
  {
   "cell_type": "markdown",
   "metadata": {},
   "source": [
    "### Plotting a single quantitative variable\n",
    "\n",
    "We can plot a single quantitative variables using the `sns.displot()` function.\n",
    "\n",
    "Properties we can set include\n",
    "- `x`: The name of the data column you want to plot\n",
    "- `hue`: The name of the column that colors each point\n",
    "- `kind` The type of plot\n",
    "\n",
    "Different options for `kind` are: “hist”, “kde”, “ecdf”\n"
   ]
  },
  {
   "cell_type": "code",
   "execution_count": 11,
   "metadata": {},
   "outputs": [],
   "source": [
    "# plot the flipper length\n",
    "\n",
    "\n",
    "\n",
    "\n"
   ]
  },
  {
   "cell_type": "markdown",
   "metadata": {},
   "source": [
    "### Plotting a quantitative variable for different categorical variable levels\n",
    "\n",
    "We can plot a quantitative variable for different categorical variable levels using the `sns.catplot()` function.\n",
    "\n",
    "We specify: \n",
    "- `x`: Cateogoral x-value column name\n",
    "- `y`: Quantitative y-value column name\n",
    "- `kind`: The type of plot\n",
    "\n",
    "The `kind` argument can be set to the following: “strip”, “swarm”, “box”, “violin”, “boxen”, “point”, “bar”, or “count”\n"
   ]
  },
  {
   "cell_type": "code",
   "execution_count": 12,
   "metadata": {},
   "outputs": [],
   "source": [
    "# plot flipper length for the different species using different kinds of plots\n",
    "\n",
    "\n",
    "\n",
    "\n",
    "\n",
    "\n",
    "# also try “strip”, “swarm”, “box”, “violin”, “boxen”, “point”, or “bar”"
   ]
  },
  {
   "cell_type": "markdown",
   "metadata": {},
   "source": [
    "<img src = \"https://i.imgflip.com/1ezfdq.jpg\">"
   ]
  }
 ],
 "metadata": {
  "anaconda-cloud": {},
  "kernelspec": {
   "display_name": "Python [conda env:ydata123_2024f] *",
   "language": "python",
   "name": "conda-env-ydata123_2024f-py"
  },
  "language_info": {
   "codemirror_mode": {
    "name": "ipython",
    "version": 3
   },
   "file_extension": ".py",
   "mimetype": "text/x-python",
   "name": "python",
   "nbconvert_exporter": "python",
   "pygments_lexer": "ipython3",
   "version": "3.11.7"
  }
 },
 "nbformat": 4,
 "nbformat_minor": 4
}
