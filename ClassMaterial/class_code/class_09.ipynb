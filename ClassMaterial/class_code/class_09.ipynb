{
 "cells": [
  {
   "cell_type": "markdown",
   "metadata": {},
   "source": [
    "# Class 9: Data visualization\n",
    "\n",
    "Plan for today:\n",
    "- Review and continuaton of data visualization using matplotlib\n",
    "- If there is time: Data visualization using seaborn\n"
   ]
  },
  {
   "cell_type": "markdown",
   "metadata": {},
   "source": [
    "## Notes on the class Jupyter setup\n",
    "\n",
    "If you have the *ydata123_2024a* environment set up correctly, you can get the class code using the code below (which presumably you've already done given that you are seeing this notebook). "
   ]
  },
  {
   "cell_type": "code",
   "execution_count": 7,
   "metadata": {},
   "outputs": [
    {
     "data": {
      "text/plain": [
       "('US_Gasoline_Prices_Weekly.csv', <http.client.HTTPMessage at 0x11258fe10>)"
      ]
     },
     "execution_count": 7,
     "metadata": {},
     "output_type": "execute_result"
    }
   ],
   "source": [
    "import YData\n",
    "\n",
    "# YData.download.download_class_code(9)   # get class code    \n",
    "# YData.download.download_class_code(9, True)  # get the code with the answers \n",
    "\n",
    "#YData.download.download_data(\"monthly_egg_prices.csv\")\n",
    "#YData.download.download_data(\"nba_salaries_2022_23.csv\")\n",
    "#YData.download.download_data(\"nba_position_names.csv\")\n",
    "#YData.download.download_data(\"US_Gasoline_Prices_Weekly.csv\")\n",
    "\n",
    "import urllib.request\n",
    "basename = \"https://raw.githubusercontent.com/emeyers/YData/main/ClassMaterial/data/\" \n",
    "urllib.request.urlretrieve(basename + \"monthly_egg_prices.csv\", \"monthly_egg_prices.csv\")\n",
    "urllib.request.urlretrieve(basename + \"nba_salaries_2022_23.csv\", \"nba_salaries_2022_23.csv\")\n",
    "urllib.request.urlretrieve(basename + \"nba_position_names.csv\", \"nba_position_names.csv\")\n",
    "urllib.request.urlretrieve(basename + \"US_Gasoline_Prices_Weekly.csv\", \"US_Gasoline_Prices_Weekly.csv\")\n",
    "\n"
   ]
  },
  {
   "cell_type": "markdown",
   "metadata": {},
   "source": [
    "There are also similar functions to download the homework:"
   ]
  },
  {
   "cell_type": "code",
   "execution_count": 9,
   "metadata": {},
   "outputs": [],
   "source": [
    "# YData.download.download_homework(4)  # downloads the homework "
   ]
  },
  {
   "cell_type": "markdown",
   "metadata": {},
   "source": [
    "If you are using colabs, you should install polars and the YData packages by uncommenting and running the code below."
   ]
  },
  {
   "cell_type": "code",
   "execution_count": 10,
   "metadata": {},
   "outputs": [],
   "source": [
    "# !pip install https://github.com/emeyers/YData_package/tarball/master"
   ]
  },
  {
   "cell_type": "markdown",
   "metadata": {},
   "source": [
    "If you are using google colabs, you should also uncomment and run the code below to mount the your google drive"
   ]
  },
  {
   "cell_type": "code",
   "execution_count": 11,
   "metadata": {},
   "outputs": [],
   "source": [
    "# from google.colab import drive\n",
    "# drive.mount('/content/drive')"
   ]
  },
  {
   "cell_type": "code",
   "execution_count": 12,
   "metadata": {},
   "outputs": [],
   "source": [
    "import pandas as pd\n",
    "import numpy as np\n",
    "\n",
    "import matplotlib.pyplot as plt\n",
    "%matplotlib inline"
   ]
  },
  {
   "cell_type": "markdown",
   "metadata": {},
   "source": [
    "### Joing review: Spelling out NBA position names\n",
    "\n",
    "As you will recall, our NBA salaries DataFrame had the different positions listed as abbreviations such as \"C\" and \"PG\". \n",
    "\n",
    "Often it is hard to tell what these abbreviations (or codes) mean, so a common use of joining is to join on to a table a list of longer names that give more meaning to abbreviations. \n",
    "\n",
    "Below we load our `nba_salaries` DataFrame along with a `nba_positions` DataFrame which has information about how each position abbreviation maps on to the position's full name.\n",
    "\n",
    "Let's merge these DataFrames together so that our `nba_salaries` DataFrame has the full position names!\n",
    "\n"
   ]
  },
  {
   "cell_type": "code",
   "execution_count": 13,
   "metadata": {},
   "outputs": [
    {
     "data": {
      "text/html": [
       "<div>\n",
       "<style scoped>\n",
       "    .dataframe tbody tr th:only-of-type {\n",
       "        vertical-align: middle;\n",
       "    }\n",
       "\n",
       "    .dataframe tbody tr th {\n",
       "        vertical-align: top;\n",
       "    }\n",
       "\n",
       "    .dataframe thead th {\n",
       "        text-align: right;\n",
       "    }\n",
       "</style>\n",
       "<table border=\"1\" class=\"dataframe\">\n",
       "  <thead>\n",
       "    <tr style=\"text-align: right;\">\n",
       "      <th></th>\n",
       "      <th>PLAYER</th>\n",
       "      <th>POSITION</th>\n",
       "      <th>TEAM</th>\n",
       "      <th>SALARY</th>\n",
       "    </tr>\n",
       "  </thead>\n",
       "  <tbody>\n",
       "    <tr>\n",
       "      <th>0</th>\n",
       "      <td>De'Andre Hunter</td>\n",
       "      <td>SF</td>\n",
       "      <td>Atlanta Hawks</td>\n",
       "      <td>9.835881</td>\n",
       "    </tr>\n",
       "    <tr>\n",
       "      <th>1</th>\n",
       "      <td>Jalen Johnson</td>\n",
       "      <td>SF</td>\n",
       "      <td>Atlanta Hawks</td>\n",
       "      <td>2.792640</td>\n",
       "    </tr>\n",
       "    <tr>\n",
       "      <th>2</th>\n",
       "      <td>AJ Griffin</td>\n",
       "      <td>SF</td>\n",
       "      <td>Atlanta Hawks</td>\n",
       "      <td>3.536160</td>\n",
       "    </tr>\n",
       "  </tbody>\n",
       "</table>\n",
       "</div>"
      ],
      "text/plain": [
       "            PLAYER POSITION           TEAM    SALARY\n",
       "0  De'Andre Hunter       SF  Atlanta Hawks  9.835881\n",
       "1    Jalen Johnson       SF  Atlanta Hawks  2.792640\n",
       "2       AJ Griffin       SF  Atlanta Hawks  3.536160"
      ]
     },
     "execution_count": 13,
     "metadata": {},
     "output_type": "execute_result"
    }
   ],
   "source": [
    "nba_salaries = pd.read_csv(\"nba_salaries_2022_23.csv\")\n",
    "\n",
    "nba_salaries.head(3)\n"
   ]
  },
  {
   "cell_type": "code",
   "execution_count": 14,
   "metadata": {},
   "outputs": [
    {
     "data": {
      "text/html": [
       "<div>\n",
       "<style scoped>\n",
       "    .dataframe tbody tr th:only-of-type {\n",
       "        vertical-align: middle;\n",
       "    }\n",
       "\n",
       "    .dataframe tbody tr th {\n",
       "        vertical-align: top;\n",
       "    }\n",
       "\n",
       "    .dataframe thead th {\n",
       "        text-align: right;\n",
       "    }\n",
       "</style>\n",
       "<table border=\"1\" class=\"dataframe\">\n",
       "  <thead>\n",
       "    <tr style=\"text-align: right;\">\n",
       "      <th></th>\n",
       "      <th>Position Abbreviation</th>\n",
       "      <th>Position Name</th>\n",
       "    </tr>\n",
       "  </thead>\n",
       "  <tbody>\n",
       "    <tr>\n",
       "      <th>0</th>\n",
       "      <td>PG</td>\n",
       "      <td>Point Guard</td>\n",
       "    </tr>\n",
       "    <tr>\n",
       "      <th>1</th>\n",
       "      <td>SG</td>\n",
       "      <td>Shooting Guard</td>\n",
       "    </tr>\n",
       "    <tr>\n",
       "      <th>2</th>\n",
       "      <td>C</td>\n",
       "      <td>Center</td>\n",
       "    </tr>\n",
       "    <tr>\n",
       "      <th>3</th>\n",
       "      <td>SF</td>\n",
       "      <td>Small Forward</td>\n",
       "    </tr>\n",
       "    <tr>\n",
       "      <th>4</th>\n",
       "      <td>PF</td>\n",
       "      <td>Power Forward</td>\n",
       "    </tr>\n",
       "  </tbody>\n",
       "</table>\n",
       "</div>"
      ],
      "text/plain": [
       "  Position Abbreviation   Position Name\n",
       "0                    PG     Point Guard\n",
       "1                    SG  Shooting Guard\n",
       "2                     C          Center\n",
       "3                    SF   Small Forward\n",
       "4                    PF   Power Forward"
      ]
     },
     "execution_count": 14,
     "metadata": {},
     "output_type": "execute_result"
    }
   ],
   "source": [
    "nba_positions = pd.read_csv(\"nba_position_names.csv\")\n",
    "nba_positions"
   ]
  },
  {
   "cell_type": "code",
   "execution_count": 15,
   "metadata": {},
   "outputs": [],
   "source": [
    "# Merge the nba_position DataFrame on to the nba_salaries DataFrame so each player's position is the full position name.\n",
    "# Think about which columns should be used when merging the data (hint: look at the DataFrames above)\n",
    "\n",
    "\n",
    "\n",
    "\n"
   ]
  },
  {
   "cell_type": "code",
   "execution_count": 16,
   "metadata": {},
   "outputs": [],
   "source": [
    "# remove unnecessary columns using the .drop(colums = )  method\n",
    "\n",
    "\n"
   ]
  },
  {
   "cell_type": "markdown",
   "metadata": {},
   "source": [
    "### Warm-up exercieses: Further exploration of the NBA salaries\n",
    "\n",
    "See if you can calculate the following quantities: \n",
    "\n",
    "1. The average salary for each position. \n",
    "2. The total salary for each team\n",
    "\n"
   ]
  },
  {
   "cell_type": "code",
   "execution_count": 17,
   "metadata": {},
   "outputs": [],
   "source": [
    "# Get the average salary for each position\n",
    "\n",
    "\n",
    "\n",
    "\n",
    "\n",
    "\n"
   ]
  },
  {
   "cell_type": "code",
   "execution_count": 18,
   "metadata": {},
   "outputs": [],
   "source": [
    "# Get the total salary for each team\n",
    "\n",
    "\n",
    "\n",
    "\n"
   ]
  },
  {
   "cell_type": "code",
   "execution_count": 19,
   "metadata": {},
   "outputs": [],
   "source": [
    "# Get just the Celtics data using the .query() method\n",
    "\n",
    "\n"
   ]
  },
  {
   "cell_type": "markdown",
   "metadata": {},
   "source": [
    "## Data visualization!\n",
    "\n",
    "Let's review and continue using additional features of the matplotlib package to visualize data. "
   ]
  },
  {
   "cell_type": "code",
   "execution_count": 20,
   "metadata": {},
   "outputs": [],
   "source": [
    "## Let's warm-up by visualizing the average NBA salary at each position using the position_ave_salary DataFrame\n",
    "## Hint: the plt.bar() function could be useful\n",
    "\n",
    "\n",
    "# Visualize the results\n",
    "\n",
    "\n",
    "\n",
    "\n"
   ]
  },
  {
   "cell_type": "markdown",
   "metadata": {},
   "source": [
    "### Let's join the Egg and Gas data and visualize them as well"
   ]
  },
  {
   "cell_type": "code",
   "execution_count": 21,
   "metadata": {},
   "outputs": [
    {
     "data": {
      "text/html": [
       "<div>\n",
       "<style scoped>\n",
       "    .dataframe tbody tr th:only-of-type {\n",
       "        vertical-align: middle;\n",
       "    }\n",
       "\n",
       "    .dataframe tbody tr th {\n",
       "        vertical-align: top;\n",
       "    }\n",
       "\n",
       "    .dataframe thead th {\n",
       "        text-align: right;\n",
       "    }\n",
       "</style>\n",
       "<table border=\"1\" class=\"dataframe\">\n",
       "  <thead>\n",
       "    <tr style=\"text-align: right;\">\n",
       "      <th></th>\n",
       "      <th>DATE</th>\n",
       "      <th>Price</th>\n",
       "    </tr>\n",
       "  </thead>\n",
       "  <tbody>\n",
       "    <tr>\n",
       "      <th>0</th>\n",
       "      <td>1980-01-01</td>\n",
       "      <td>0.879</td>\n",
       "    </tr>\n",
       "    <tr>\n",
       "      <th>1</th>\n",
       "      <td>1980-02-01</td>\n",
       "      <td>0.774</td>\n",
       "    </tr>\n",
       "    <tr>\n",
       "      <th>2</th>\n",
       "      <td>1980-03-01</td>\n",
       "      <td>0.812</td>\n",
       "    </tr>\n",
       "  </tbody>\n",
       "</table>\n",
       "</div>"
      ],
      "text/plain": [
       "        DATE  Price\n",
       "0 1980-01-01  0.879\n",
       "1 1980-02-01  0.774\n",
       "2 1980-03-01  0.812"
      ]
     },
     "execution_count": 21,
     "metadata": {},
     "output_type": "execute_result"
    }
   ],
   "source": [
    "egg_prices = pd.read_csv(\"monthly_egg_prices.csv\", parse_dates=[0], date_format=\"%m/%d/%y\")\n",
    "egg_prices.head(3)"
   ]
  },
  {
   "cell_type": "code",
   "execution_count": 22,
   "metadata": {},
   "outputs": [
    {
     "data": {
      "text/html": [
       "<div>\n",
       "<style scoped>\n",
       "    .dataframe tbody tr th:only-of-type {\n",
       "        vertical-align: middle;\n",
       "    }\n",
       "\n",
       "    .dataframe tbody tr th {\n",
       "        vertical-align: top;\n",
       "    }\n",
       "\n",
       "    .dataframe thead th {\n",
       "        text-align: right;\n",
       "    }\n",
       "</style>\n",
       "<table border=\"1\" class=\"dataframe\">\n",
       "  <thead>\n",
       "    <tr style=\"text-align: right;\">\n",
       "      <th></th>\n",
       "      <th>Week</th>\n",
       "      <th>DollarsPerGallon</th>\n",
       "    </tr>\n",
       "  </thead>\n",
       "  <tbody>\n",
       "    <tr>\n",
       "      <th>0</th>\n",
       "      <td>2024-01-15</td>\n",
       "      <td>3.058</td>\n",
       "    </tr>\n",
       "    <tr>\n",
       "      <th>1</th>\n",
       "      <td>2024-01-08</td>\n",
       "      <td>3.073</td>\n",
       "    </tr>\n",
       "    <tr>\n",
       "      <th>2</th>\n",
       "      <td>2024-01-01</td>\n",
       "      <td>3.089</td>\n",
       "    </tr>\n",
       "  </tbody>\n",
       "</table>\n",
       "</div>"
      ],
      "text/plain": [
       "        Week  DollarsPerGallon\n",
       "0 2024-01-15             3.058\n",
       "1 2024-01-08             3.073\n",
       "2 2024-01-01             3.089"
      ]
     },
     "execution_count": 22,
     "metadata": {},
     "output_type": "execute_result"
    }
   ],
   "source": [
    "gas_prices = pd.read_csv(\"US_Gasoline_Prices_Weekly.csv\", parse_dates=[0], date_format=\"%m/%d/%y\")\n",
    "gas_prices['Week'] = pd.to_datetime(gas_prices['Week'], format=\"%m/%d/%Y\")\n",
    "\n",
    "gas_prices.head(3)\n"
   ]
  },
  {
   "cell_type": "code",
   "execution_count": 23,
   "metadata": {},
   "outputs": [
    {
     "data": {
      "text/html": [
       "<div>\n",
       "<style scoped>\n",
       "    .dataframe tbody tr th:only-of-type {\n",
       "        vertical-align: middle;\n",
       "    }\n",
       "\n",
       "    .dataframe tbody tr th {\n",
       "        vertical-align: top;\n",
       "    }\n",
       "\n",
       "    .dataframe thead th {\n",
       "        text-align: right;\n",
       "    }\n",
       "</style>\n",
       "<table border=\"1\" class=\"dataframe\">\n",
       "  <thead>\n",
       "    <tr style=\"text-align: right;\">\n",
       "      <th></th>\n",
       "      <th>DATE</th>\n",
       "      <th>Price</th>\n",
       "      <th>Week</th>\n",
       "      <th>DollarsPerGallon</th>\n",
       "    </tr>\n",
       "  </thead>\n",
       "  <tbody>\n",
       "    <tr>\n",
       "      <th>0</th>\n",
       "      <td>1990-10-01</td>\n",
       "      <td>1.012</td>\n",
       "      <td>1990-10-01</td>\n",
       "      <td>1.321</td>\n",
       "    </tr>\n",
       "    <tr>\n",
       "      <th>1</th>\n",
       "      <td>1991-04-01</td>\n",
       "      <td>1.002</td>\n",
       "      <td>1991-04-01</td>\n",
       "      <td>1.052</td>\n",
       "    </tr>\n",
       "    <tr>\n",
       "      <th>2</th>\n",
       "      <td>1991-07-01</td>\n",
       "      <td>0.966</td>\n",
       "      <td>1991-07-01</td>\n",
       "      <td>1.104</td>\n",
       "    </tr>\n",
       "  </tbody>\n",
       "</table>\n",
       "</div>"
      ],
      "text/plain": [
       "        DATE  Price       Week  DollarsPerGallon\n",
       "0 1990-10-01  1.012 1990-10-01             1.321\n",
       "1 1991-04-01  1.002 1991-04-01             1.052\n",
       "2 1991-07-01  0.966 1991-07-01             1.104"
      ]
     },
     "execution_count": 23,
     "metadata": {},
     "output_type": "execute_result"
    }
   ],
   "source": [
    "# Use an inner join to merge the egg and gas prices\n",
    "# Q: what should the left_on and right_on arguments be set to?  \n",
    "prices = egg_prices.merge(gas_prices, how = \"inner\", left_on = \"DATE\", right_on = \"Week\")\n",
    "\n",
    "prices.head(3)"
   ]
  },
  {
   "cell_type": "code",
   "execution_count": 24,
   "metadata": {},
   "outputs": [
    {
     "data": {
      "text/html": [
       "<div>\n",
       "<style scoped>\n",
       "    .dataframe tbody tr th:only-of-type {\n",
       "        vertical-align: middle;\n",
       "    }\n",
       "\n",
       "    .dataframe tbody tr th {\n",
       "        vertical-align: top;\n",
       "    }\n",
       "\n",
       "    .dataframe thead th {\n",
       "        text-align: right;\n",
       "    }\n",
       "</style>\n",
       "<table border=\"1\" class=\"dataframe\">\n",
       "  <thead>\n",
       "    <tr style=\"text-align: right;\">\n",
       "      <th></th>\n",
       "      <th>Week</th>\n",
       "      <th>Price</th>\n",
       "      <th>DollarsPerGallon</th>\n",
       "    </tr>\n",
       "  </thead>\n",
       "  <tbody>\n",
       "    <tr>\n",
       "      <th>0</th>\n",
       "      <td>1990-10-01</td>\n",
       "      <td>1.012</td>\n",
       "      <td>1.321</td>\n",
       "    </tr>\n",
       "    <tr>\n",
       "      <th>1</th>\n",
       "      <td>1991-04-01</td>\n",
       "      <td>1.002</td>\n",
       "      <td>1.052</td>\n",
       "    </tr>\n",
       "    <tr>\n",
       "      <th>2</th>\n",
       "      <td>1991-07-01</td>\n",
       "      <td>0.966</td>\n",
       "      <td>1.104</td>\n",
       "    </tr>\n",
       "  </tbody>\n",
       "</table>\n",
       "</div>"
      ],
      "text/plain": [
       "        Week  Price  DollarsPerGallon\n",
       "0 1990-10-01  1.012             1.321\n",
       "1 1991-04-01  1.002             1.052\n",
       "2 1991-07-01  0.966             1.104"
      ]
     },
     "execution_count": 24,
     "metadata": {},
     "output_type": "execute_result"
    }
   ],
   "source": [
    "# only keep the columns we need which are: the week, and the prices of eggs and gas\n",
    "prices = prices[[\"Week\", \"Price\", \"DollarsPerGallon\"]]\n",
    "\n",
    "prices.head(3)"
   ]
  },
  {
   "cell_type": "code",
   "execution_count": 25,
   "metadata": {},
   "outputs": [
    {
     "data": {
      "text/html": [
       "<div>\n",
       "<style scoped>\n",
       "    .dataframe tbody tr th:only-of-type {\n",
       "        vertical-align: middle;\n",
       "    }\n",
       "\n",
       "    .dataframe tbody tr th {\n",
       "        vertical-align: top;\n",
       "    }\n",
       "\n",
       "    .dataframe thead th {\n",
       "        text-align: right;\n",
       "    }\n",
       "</style>\n",
       "<table border=\"1\" class=\"dataframe\">\n",
       "  <thead>\n",
       "    <tr style=\"text-align: right;\">\n",
       "      <th></th>\n",
       "      <th>Week</th>\n",
       "      <th>Eggs</th>\n",
       "      <th>Gas</th>\n",
       "    </tr>\n",
       "  </thead>\n",
       "  <tbody>\n",
       "    <tr>\n",
       "      <th>0</th>\n",
       "      <td>1990-10-01</td>\n",
       "      <td>1.012</td>\n",
       "      <td>1.321</td>\n",
       "    </tr>\n",
       "    <tr>\n",
       "      <th>1</th>\n",
       "      <td>1991-04-01</td>\n",
       "      <td>1.002</td>\n",
       "      <td>1.052</td>\n",
       "    </tr>\n",
       "    <tr>\n",
       "      <th>2</th>\n",
       "      <td>1991-07-01</td>\n",
       "      <td>0.966</td>\n",
       "      <td>1.104</td>\n",
       "    </tr>\n",
       "  </tbody>\n",
       "</table>\n",
       "</div>"
      ],
      "text/plain": [
       "        Week   Eggs    Gas\n",
       "0 1990-10-01  1.012  1.321\n",
       "1 1991-04-01  1.002  1.052\n",
       "2 1991-07-01  0.966  1.104"
      ]
     },
     "execution_count": 25,
     "metadata": {},
     "output_type": "execute_result"
    }
   ],
   "source": [
    "# rename the egg prices to \"Eggs\" and the gas prices to \"Gas\"\n",
    "\n",
    "prices = prices.rename(columns = {\"Price\": \"Eggs\", \"DollarsPerGallon\":\"Gas\"})\n",
    "prices.head(3)\n"
   ]
  },
  {
   "cell_type": "markdown",
   "metadata": {},
   "source": [
    "#### Now let's visualize the data!\n",
    "\n",
    "Let's now visualize the egg and gas prices.\n"
   ]
  },
  {
   "cell_type": "code",
   "execution_count": 26,
   "metadata": {},
   "outputs": [],
   "source": [
    "# Plot overlapping histograms of the egg and gas prices.\n",
    "\n",
    "\n",
    "\n",
    "\n"
   ]
  },
  {
   "cell_type": "markdown",
   "metadata": {},
   "source": [
    "### Boxplots\n",
    "\n",
    "Boxplots are a visualization of the 5 number summary which is: min, Q1, median, Q3 and max (where Q1 is the 25th quantile, and Q3 is the 75h quantile). \n",
    "\n",
    "We can get quantiles using `np.quantile(ndarray, proportion)`.\n",
    "\n",
    "We can create boxplots using the `plt.boxplot()` function. \n"
   ]
  },
  {
   "cell_type": "code",
   "execution_count": 27,
   "metadata": {},
   "outputs": [],
   "source": [
    "# Can you calculate the 5 number summary for the egg prices? \n",
    "# Hint: the np.quantile() function will be useful along with other functions.\n",
    "\n",
    "# get Q1, median, Q3\n",
    "\n",
    "\n",
    "\n",
    "# another way to get the median\n",
    "\n",
    "\n",
    "\n",
    "# get the min and max\n",
    "\n",
    "\n"
   ]
  },
  {
   "cell_type": "code",
   "execution_count": 28,
   "metadata": {},
   "outputs": [],
   "source": [
    "# boxplot of egg prices\n",
    "\n",
    "\n",
    "\n"
   ]
  },
  {
   "cell_type": "code",
   "execution_count": 29,
   "metadata": {},
   "outputs": [],
   "source": [
    "# plot side-by-side box plots\n",
    "\n",
    "\n"
   ]
  },
  {
   "cell_type": "code",
   "execution_count": 30,
   "metadata": {},
   "outputs": [],
   "source": [
    "# Let's compare gas and egg prices as time series\n",
    "\n",
    "\n",
    "\n"
   ]
  },
  {
   "cell_type": "markdown",
   "metadata": {},
   "source": [
    "### Scatter plots\n",
    "\n",
    "We can create a simple scatter plots using: `plt.plot()`\n",
    "\n",
    "For more complex scatter plots we can use: `plot.scatter()`\n",
    "\n",
    "Let's start by looking at the simple `plt.plot()`"
   ]
  },
  {
   "cell_type": "code",
   "execution_count": 31,
   "metadata": {},
   "outputs": [],
   "source": [
    "# Create a basic scatter plot of Egg prices vs. Gas prices using plt.plot()\n",
    "\n",
    "\n",
    "\n",
    "\n"
   ]
  },
  {
   "cell_type": "markdown",
   "metadata": {},
   "source": [
    "Let's now create a DataFrame called `prices2` which is the same as our `prices` DataFrame but it also has an additional column called `after2000`. We will use this column to plots points before the year 2000 in a different color than points after 2000. \n",
    "\n",
    "In particular, the `after2000` column should be set to the string \"red\" for points that occur before 2000 and to the string \"green\" for points that occured after 2000. \n"
   ]
  },
  {
   "cell_type": "code",
   "execution_count": 32,
   "metadata": {},
   "outputs": [
    {
     "data": {
      "text/html": [
       "<div>\n",
       "<style scoped>\n",
       "    .dataframe tbody tr th:only-of-type {\n",
       "        vertical-align: middle;\n",
       "    }\n",
       "\n",
       "    .dataframe tbody tr th {\n",
       "        vertical-align: top;\n",
       "    }\n",
       "\n",
       "    .dataframe thead th {\n",
       "        text-align: right;\n",
       "    }\n",
       "</style>\n",
       "<table border=\"1\" class=\"dataframe\">\n",
       "  <thead>\n",
       "    <tr style=\"text-align: right;\">\n",
       "      <th></th>\n",
       "      <th>Week</th>\n",
       "      <th>Eggs</th>\n",
       "      <th>Gas</th>\n",
       "      <th>before2000</th>\n",
       "    </tr>\n",
       "  </thead>\n",
       "  <tbody>\n",
       "    <tr>\n",
       "      <th>0</th>\n",
       "      <td>1990-10-01</td>\n",
       "      <td>1.012</td>\n",
       "      <td>1.321</td>\n",
       "      <td>red</td>\n",
       "    </tr>\n",
       "    <tr>\n",
       "      <th>1</th>\n",
       "      <td>1991-04-01</td>\n",
       "      <td>1.002</td>\n",
       "      <td>1.052</td>\n",
       "      <td>red</td>\n",
       "    </tr>\n",
       "    <tr>\n",
       "      <th>2</th>\n",
       "      <td>1991-07-01</td>\n",
       "      <td>0.966</td>\n",
       "      <td>1.104</td>\n",
       "      <td>red</td>\n",
       "    </tr>\n",
       "  </tbody>\n",
       "</table>\n",
       "</div>"
      ],
      "text/plain": [
       "        Week   Eggs    Gas before2000\n",
       "0 1990-10-01  1.012  1.321        red\n",
       "1 1991-04-01  1.002  1.052        red\n",
       "2 1991-07-01  0.966  1.104        red"
      ]
     },
     "execution_count": 32,
     "metadata": {},
     "output_type": "execute_result"
    }
   ],
   "source": [
    "# Add a column called \"before2000\" which has values that are \n",
    "# \"green\" for years before 2000, \"red\" for years after 2000\n",
    "\n",
    "prices2 = prices.copy()\n",
    "\n",
    "prices2[\"before2000\"] = \"red\"\n",
    "boolean_after_2020 = prices2.Week > np.datetime64(\"1999-12-31\")\n",
    "prices2.loc[boolean_after_2020, \"before2000\"] = \"green\"\n",
    "\n",
    "prices2.head(3)"
   ]
  },
  {
   "cell_type": "code",
   "execution_count": 33,
   "metadata": {},
   "outputs": [],
   "source": [
    "# Create a fancier scatter plot of Egg prices vs. Gas prices using plt.scatter()\n",
    "\n",
    "\n",
    "\n",
    "\n"
   ]
  },
  {
   "cell_type": "markdown",
   "metadata": {},
   "source": [
    "### Subplot: the pyplot interface\n",
    "\n",
    "There are two ways to create subplots in matplotlib using either:\n",
    "\n",
    "1. The pyplot interface\n",
    "2. The axes interface\n",
    "\n",
    "To create subplots using the pyplot interface we can use the `subplot` function:\n",
    "\n",
    "`plt.subplot(num_rows, num_cols, curr_plot_num);`\n",
    "`plt.plot(x, y);`\n"
   ]
  },
  {
   "cell_type": "code",
   "execution_count": 34,
   "metadata": {},
   "outputs": [],
   "source": [
    "# change the figure size\n",
    "\n",
    "\n",
    "# subplots\n",
    "\n",
    "\n",
    "\n",
    "\n"
   ]
  },
  {
   "cell_type": "markdown",
   "metadata": {},
   "source": [
    "### Using matplotlib as a general canvas\n",
    "\n",
    "We can use matplotlib as a general canvas to create illustrations as well. For example, in my YData baseball class we drew a baseball diamond and updated where runners were on base.\n",
    "\n",
    "Let's explore this very briefly...\n"
   ]
  },
  {
   "cell_type": "code",
   "execution_count": 35,
   "metadata": {},
   "outputs": [],
   "source": [
    "        \n",
    "# draw the baseball diamond\n",
    "#plt.plot([0, 1], [0, 1], color = \"black\");\n",
    "#plt.plot([1, 0], [1, 2], color = \"black\");\n",
    "#plt.plot([0, -1], [2, 1], color = \"black\");\n",
    "#plt.plot([-1, 0], [1, 0], color = \"black\");\n",
    "\n",
    "\n",
    "# make the axes square\n",
    "\n",
    "\n",
    "\n",
    "# put a runner on first\n",
    "\n",
    "\n",
    "\n",
    "# turn off the axis\n",
    "\n",
    "\n",
    "\n",
    "# make the field green \n",
    "\n"
   ]
  },
  {
   "cell_type": "markdown",
   "metadata": {},
   "source": [
    "## Seaborn!\n",
    "\n",
    "[Seaborn](https://seaborn.pydata.org/index.html) is a Python data visualization library based on matplotlib. It provides a high-level interface for drawing attractive and informative statistical graphics. \n",
    "\n",
    "I.e., it is built on top of of matplotlib but produces better looking plots that are easier to create. \n",
    "\n",
    "Let's start by examining different themes which can produce better looking plots. We can do this using the `sns.set_theme()` method. \n"
   ]
  },
  {
   "cell_type": "code",
   "execution_count": 36,
   "metadata": {},
   "outputs": [],
   "source": [
    "# Import seaborn\n",
    "import seaborn as sns\n",
    "\n",
    "# Apply the default theme\n",
    "# default style is 'darkgrid')\n",
    "#sns.set_theme(style='whitegrid')\n",
    "\n",
    "\n",
    "\n",
    "# Side note: Matplotlib also has themes\n",
    "# plt.style.available\n",
    "# plt.style.use('fivethirtyeight')\n",
    "\n",
    "\n",
    "# Re-create a line plot of gas prices over time here\n",
    "\n",
    "\n"
   ]
  },
  {
   "cell_type": "markdown",
   "metadata": {},
   "source": [
    "### Plotting relationships between two quantitative variables\n",
    "\n",
    "We can plot relationships between two quantitative variables using the `sns.relplot()` function\n"
   ]
  },
  {
   "cell_type": "code",
   "execution_count": 37,
   "metadata": {},
   "outputs": [],
   "source": [
    "# plot relationship between gas and egg prices\n",
    "\n"
   ]
  },
  {
   "cell_type": "markdown",
   "metadata": {},
   "source": [
    "#### Penguins!\n",
    "\n",
    "Let's continue to explore the relplot using data on penguins. \n",
    "\n",
    "We will also look at mapping other features of our data onto visual properties including: \n",
    "- `x`, and `y` column names to be plotted (as we have done before)\n",
    "- `hue`: The column name to be mapped to the color of the points\n",
    "- `size`: The column name to be mapped to the size of points\n",
    "- `style`: The column name to be mapped to the style of the markers\n",
    "- `col`: fThe column name to be mapped to faceting to compare multiple subplots\n"
   ]
  },
  {
   "cell_type": "code",
   "execution_count": 38,
   "metadata": {},
   "outputs": [
    {
     "name": "stdout",
     "output_type": "stream",
     "text": [
      "<class 'pandas.core.frame.DataFrame'>\n"
     ]
    },
    {
     "data": {
      "text/html": [
       "<div>\n",
       "<style scoped>\n",
       "    .dataframe tbody tr th:only-of-type {\n",
       "        vertical-align: middle;\n",
       "    }\n",
       "\n",
       "    .dataframe tbody tr th {\n",
       "        vertical-align: top;\n",
       "    }\n",
       "\n",
       "    .dataframe thead th {\n",
       "        text-align: right;\n",
       "    }\n",
       "</style>\n",
       "<table border=\"1\" class=\"dataframe\">\n",
       "  <thead>\n",
       "    <tr style=\"text-align: right;\">\n",
       "      <th></th>\n",
       "      <th>species</th>\n",
       "      <th>island</th>\n",
       "      <th>bill_length_mm</th>\n",
       "      <th>bill_depth_mm</th>\n",
       "      <th>flipper_length_mm</th>\n",
       "      <th>body_mass_g</th>\n",
       "      <th>sex</th>\n",
       "    </tr>\n",
       "  </thead>\n",
       "  <tbody>\n",
       "    <tr>\n",
       "      <th>0</th>\n",
       "      <td>Adelie</td>\n",
       "      <td>Torgersen</td>\n",
       "      <td>39.1</td>\n",
       "      <td>18.7</td>\n",
       "      <td>181.0</td>\n",
       "      <td>3750.0</td>\n",
       "      <td>Male</td>\n",
       "    </tr>\n",
       "    <tr>\n",
       "      <th>1</th>\n",
       "      <td>Adelie</td>\n",
       "      <td>Torgersen</td>\n",
       "      <td>39.5</td>\n",
       "      <td>17.4</td>\n",
       "      <td>186.0</td>\n",
       "      <td>3800.0</td>\n",
       "      <td>Female</td>\n",
       "    </tr>\n",
       "    <tr>\n",
       "      <th>2</th>\n",
       "      <td>Adelie</td>\n",
       "      <td>Torgersen</td>\n",
       "      <td>40.3</td>\n",
       "      <td>18.0</td>\n",
       "      <td>195.0</td>\n",
       "      <td>3250.0</td>\n",
       "      <td>Female</td>\n",
       "    </tr>\n",
       "  </tbody>\n",
       "</table>\n",
       "</div>"
      ],
      "text/plain": [
       "  species     island  bill_length_mm  bill_depth_mm  flipper_length_mm  \\\n",
       "0  Adelie  Torgersen            39.1           18.7              181.0   \n",
       "1  Adelie  Torgersen            39.5           17.4              186.0   \n",
       "2  Adelie  Torgersen            40.3           18.0              195.0   \n",
       "\n",
       "   body_mass_g     sex  \n",
       "0       3750.0    Male  \n",
       "1       3800.0  Female  \n",
       "2       3250.0  Female  "
      ]
     },
     "execution_count": 38,
     "metadata": {},
     "output_type": "execute_result"
    }
   ],
   "source": [
    "# Let's look at some penguins\n",
    "penguins = sns.load_dataset(\"penguins\")\n",
    "\n",
    "print(type(penguins))\n",
    "\n",
    "penguins.head(3)\n"
   ]
  },
  {
   "cell_type": "code",
   "execution_count": 39,
   "metadata": {},
   "outputs": [],
   "source": [
    "# plotting bill size on x, and y axes and other properties\n",
    "\n",
    "\n",
    "\n",
    "\n"
   ]
  },
  {
   "cell_type": "markdown",
   "metadata": {},
   "source": [
    "### Plotting a single quantitative variable\n",
    "\n",
    "We can plot a single quantitative variables using the `sns.displot()` function.\n",
    "\n",
    "Properties we can set include\n",
    "- `x`: The name of the data column you want to plot\n",
    "- `hue`: The name of the column that colors each point\n",
    "- `kind` The type of plot\n",
    "\n",
    "Different options for `kind` are: “hist”, “kde”, “ecdf”\n"
   ]
  },
  {
   "cell_type": "code",
   "execution_count": 40,
   "metadata": {},
   "outputs": [],
   "source": [
    "# plot the flipper length\n",
    "\n",
    "\n",
    "\n"
   ]
  },
  {
   "cell_type": "markdown",
   "metadata": {},
   "source": [
    "### Plotting a quantitative variable for different categorical variable levels\n",
    "\n",
    "We can plot a quantitative variable for different categorical variable levels using the `sns.catplot()` function.\n",
    "\n",
    "We specify: \n",
    "- `x`: Cateogoral x-value column name\n",
    "- `y`: Quantitative y-value column name\n",
    "- `kind`: The type of plot\n",
    "\n",
    "The `kind` argument can be set to the following: “strip”, “swarm”, “box”, “violin”, “boxen”, “point”, “bar”, or “count”\n"
   ]
  },
  {
   "cell_type": "code",
   "execution_count": 41,
   "metadata": {},
   "outputs": [],
   "source": [
    "# plot flipper length for the different species using different kinds of plots\n",
    "\n",
    "\n",
    "\n",
    "\n",
    "\n",
    "# also try “strip”, “swarm”, “box”, “violin”, “boxen”, “point”, or “bar”"
   ]
  },
  {
   "cell_type": "markdown",
   "metadata": {},
   "source": [
    "<img src = \"https://i.imgflip.com/1ezfdq.jpg\">"
   ]
  }
 ],
 "metadata": {
  "anaconda-cloud": {},
  "kernelspec": {
   "display_name": "Python [conda env:ydata123_2024a] *",
   "language": "python",
   "name": "conda-env-ydata123_2024a-py"
  },
  "language_info": {
   "codemirror_mode": {
    "name": "ipython",
    "version": 3
   },
   "file_extension": ".py",
   "mimetype": "text/x-python",
   "name": "python",
   "nbconvert_exporter": "python",
   "pygments_lexer": "ipython3",
   "version": "3.11.7"
  }
 },
 "nbformat": 4,
 "nbformat_minor": 4
}
