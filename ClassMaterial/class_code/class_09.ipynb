{
 "cells": [
  {
   "cell_type": "markdown",
   "metadata": {},
   "source": [
    "# Class 9: DataFrames continued\n",
    "\n",
    "Plan for today:\n",
    "- Review of pandas Series\n",
    "- Continue with pandas DataFrames\n"
   ]
  },
  {
   "cell_type": "markdown",
   "metadata": {},
   "source": [
    "## Notes on the class Jupyter setup\n",
    "\n",
    "If you have the *ydata123_2023e* environment set up correctly, you can get the class code using the code below (which presumably you've already done given that you are seeing this notebook).  "
   ]
  },
  {
   "cell_type": "code",
   "execution_count": 2,
   "metadata": {},
   "outputs": [
    {
     "name": "stdout",
     "output_type": "stream",
     "text": [
      "The file `dow.csv` already exists.\n",
      "If you would like to download a new copy of the file, please rename the existing copy of the file.\n",
      "The file `monthly_egg_prices.csv` already exists.\n",
      "If you would like to download a new copy of the file, please rename the existing copy of the file.\n",
      "The file `monthly_wheat_prices.csv` already exists.\n",
      "If you would like to download a new copy of the file, please rename the existing copy of the file.\n",
      "The file `nba_salaries_2015_16.csv` already exists.\n",
      "If you would like to download a new copy of the file, please rename the existing copy of the file.\n",
      "The file `nba_position_names.csv` already exists.\n",
      "If you would like to download a new copy of the file, please rename the existing copy of the file.\n"
     ]
    }
   ],
   "source": [
    "import YData\n",
    "\n",
    "# YData.download.download_class_code(9)   # get class code    \n",
    "\n",
    "# YData.download.download_class_code(9, TRUE) # get the code with the answers \n",
    "\n",
    "YData.download.download_data(\"dow.csv\")\n",
    "YData.download.download_data(\"monthly_egg_prices.csv\")\n",
    "YData.download.download_data(\"monthly_wheat_prices.csv\")\n",
    "YData.download.download_data(\"nba_salaries_2015_16.csv\")\n",
    "YData.download.download_data(\"nba_position_names.csv\")\n"
   ]
  },
  {
   "cell_type": "markdown",
   "metadata": {},
   "source": [
    "There are also similar functions to download the homework:"
   ]
  },
  {
   "cell_type": "code",
   "execution_count": 3,
   "metadata": {},
   "outputs": [],
   "source": [
    "YData.download.download_homework(4)  # downloads the homework "
   ]
  },
  {
   "cell_type": "markdown",
   "metadata": {},
   "source": [
    "If you are using colabs, you should install polars and the YData packages by uncommenting and running the code below."
   ]
  },
  {
   "cell_type": "code",
   "execution_count": null,
   "metadata": {},
   "outputs": [],
   "source": [
    "# !pip install https://github.com/emeyers/YData_package/tarball/master"
   ]
  },
  {
   "cell_type": "markdown",
   "metadata": {},
   "source": [
    "If you are using google colabs, you should also uncomment and run the code below to mount the your google drive"
   ]
  },
  {
   "cell_type": "code",
   "execution_count": null,
   "metadata": {},
   "outputs": [],
   "source": [
    "# from google.colab import drive\n",
    "# drive.mount('/content/drive')"
   ]
  },
  {
   "cell_type": "code",
   "execution_count": 20,
   "metadata": {},
   "outputs": [],
   "source": [
    "import pandas as pd\n",
    "import statistics\n",
    "import numpy as np\n",
    "from datetime import datetime\n",
    "\n",
    "import matplotlib.pyplot as plt\n",
    "%matplotlib inline"
   ]
  },
  {
   "cell_type": "markdown",
   "metadata": {},
   "source": [
    "## Review of pandas Series\n",
    "\n",
    "pandas Series are: One-dimensional ndarray with axis labels\n",
    "\n",
    "pandas DataFrame are: Table data\n",
    "\n",
    "Let's look at the egg and wheat price data...\n"
   ]
  },
  {
   "cell_type": "code",
   "execution_count": 4,
   "metadata": {},
   "outputs": [
    {
     "name": "stdout",
     "output_type": "stream",
     "text": [
      "<class 'pandas.core.series.Series'>\n",
      "(516,)\n"
     ]
    },
    {
     "data": {
      "text/plain": [
       "DATE\n",
       "1980-01-01    0.879\n",
       "1980-02-01    0.774\n",
       "1980-03-01    0.812\n",
       "1980-04-01    0.797\n",
       "1980-05-01    0.737\n",
       "              ...  \n",
       "2022-08-01    3.116\n",
       "2022-09-01    2.902\n",
       "2022-10-01    3.419\n",
       "2022-11-01    3.589\n",
       "2022-12-01    4.250\n",
       "Name: Price, Length: 516, dtype: float64"
      ]
     },
     "execution_count": 4,
     "metadata": {},
     "output_type": "execute_result"
    }
   ],
   "source": [
    "egg_price_series = pd.read_csv(\"monthly_egg_prices.csv\", parse_dates=True, index_col= \"DATE\").squeeze() \n",
    "\n",
    "# print the type\n",
    "print(type(egg_price_series))\n",
    "\n",
    "# print the shape\n",
    "print(egg_price_series.shape)\n",
    "\n",
    "# print the series\n",
    "egg_price_series\n"
   ]
  },
  {
   "cell_type": "markdown",
   "metadata": {},
   "source": [
    "## Warm-up problems\n",
    "\n",
    "**Problem 1:** What was the price of eggs on December 1st, 1999?"
   ]
  },
  {
   "cell_type": "code",
   "execution_count": 1,
   "metadata": {},
   "outputs": [],
   "source": [
    "# What is the price of eegs on December 1st, 1999? \n",
    "\n"
   ]
  },
  {
   "cell_type": "markdown",
   "metadata": {},
   "source": [
    "**Problem 2:**  What is the value of the 50th egg price in our Series of egg prices? "
   ]
  },
  {
   "cell_type": "code",
   "execution_count": 2,
   "metadata": {},
   "outputs": [],
   "source": [
    "# What is the value of the 50th egg price in our Series?\n",
    "\n"
   ]
  },
  {
   "cell_type": "code",
   "execution_count": 3,
   "metadata": {},
   "outputs": [],
   "source": [
    "# What is the average egg price over the whole data set? \n",
    "\n"
   ]
  },
  {
   "cell_type": "markdown",
   "metadata": {},
   "source": [
    "**Problem 3:**  Can you calculate the average egg price since Jan 1st 2000? \n",
    "\n",
    "Hints: \n",
    "- You can access the index values using `my_df.index`\n",
    "- Boolean masking could be useful (and here you can treat dates as strings)\n"
   ]
  },
  {
   "cell_type": "code",
   "execution_count": 4,
   "metadata": {},
   "outputs": [],
   "source": [
    "# What is the average egg price since January 1st 2000\n",
    "\n",
    "\n",
    "\n",
    "\n",
    "\n"
   ]
  },
  {
   "cell_type": "markdown",
   "metadata": {},
   "source": [
    "Recall, we can turn the index back into a column using `my_series.reset_index()`\n",
    "\n",
    "This turns our Series into returns a DataFrame!\n",
    "\n",
    "Let's explore DataFrames more now..."
   ]
  },
  {
   "cell_type": "code",
   "execution_count": 5,
   "metadata": {},
   "outputs": [],
   "source": [
    "# Use .reset_index() to turn the Index into a column in a DataFrame\n",
    "\n",
    "egg_price_df = ...\n",
    "\n",
    "\n"
   ]
  },
  {
   "cell_type": "markdown",
   "metadata": {},
   "source": [
    "## DataFrames!\n",
    "\n",
    "The ability to manipulate data in tables (DataFrames) is one of the most useful skills in Data Science. \n",
    "\n",
    "Pandas is the most popular package in Python for manipulating data tables so we will use this package for manipulating tables in this class. The syntax for Pandas can be a little tricky, so try to be patient if you run into errors, and as always, there should be plenty of help available at office hours and on Ed. \n",
    "\n",
    "As an example, let's look at data on the closing price of the [Dow Jones Industrial Average](https://www.marketwatch.com/investing/index/djia) which is an index of the prices of the 30 largest corporations in the US.\n",
    "\n",
    "The code below loads the DOW data into a Pandas DataFrame and displays the first 5 rows using the `head()` method. \n"
   ]
  },
  {
   "cell_type": "code",
   "execution_count": 21,
   "metadata": {},
   "outputs": [
    {
     "data": {
      "text/html": [
       "<div>\n",
       "<style scoped>\n",
       "    .dataframe tbody tr th:only-of-type {\n",
       "        vertical-align: middle;\n",
       "    }\n",
       "\n",
       "    .dataframe tbody tr th {\n",
       "        vertical-align: top;\n",
       "    }\n",
       "\n",
       "    .dataframe thead th {\n",
       "        text-align: right;\n",
       "    }\n",
       "</style>\n",
       "<table border=\"1\" class=\"dataframe\">\n",
       "  <thead>\n",
       "    <tr style=\"text-align: right;\">\n",
       "      <th></th>\n",
       "      <th>Year</th>\n",
       "      <th>Month</th>\n",
       "      <th>Day</th>\n",
       "      <th>Open</th>\n",
       "      <th>High</th>\n",
       "      <th>Low</th>\n",
       "      <th>Close</th>\n",
       "    </tr>\n",
       "    <tr>\n",
       "      <th>Date</th>\n",
       "      <th></th>\n",
       "      <th></th>\n",
       "      <th></th>\n",
       "      <th></th>\n",
       "      <th></th>\n",
       "      <th></th>\n",
       "      <th></th>\n",
       "    </tr>\n",
       "  </thead>\n",
       "  <tbody>\n",
       "    <tr>\n",
       "      <th>1/25/23</th>\n",
       "      <td>2023</td>\n",
       "      <td>1</td>\n",
       "      <td>Wednesday</td>\n",
       "      <td>33538.36</td>\n",
       "      <td>33773.09</td>\n",
       "      <td>33273.21</td>\n",
       "      <td>33743.84</td>\n",
       "    </tr>\n",
       "    <tr>\n",
       "      <th>1/24/23</th>\n",
       "      <td>2023</td>\n",
       "      <td>1</td>\n",
       "      <td>Tuesday</td>\n",
       "      <td>33444.72</td>\n",
       "      <td>33782.92</td>\n",
       "      <td>33310.56</td>\n",
       "      <td>33733.96</td>\n",
       "    </tr>\n",
       "    <tr>\n",
       "      <th>1/23/23</th>\n",
       "      <td>2023</td>\n",
       "      <td>1</td>\n",
       "      <td>Monday</td>\n",
       "      <td>33439.56</td>\n",
       "      <td>33782.88</td>\n",
       "      <td>33316.25</td>\n",
       "      <td>33629.56</td>\n",
       "    </tr>\n",
       "    <tr>\n",
       "      <th>1/20/23</th>\n",
       "      <td>2023</td>\n",
       "      <td>1</td>\n",
       "      <td>Friday</td>\n",
       "      <td>33073.46</td>\n",
       "      <td>33381.95</td>\n",
       "      <td>32948.93</td>\n",
       "      <td>33375.49</td>\n",
       "    </tr>\n",
       "    <tr>\n",
       "      <th>1/19/23</th>\n",
       "      <td>2023</td>\n",
       "      <td>1</td>\n",
       "      <td>Thursday</td>\n",
       "      <td>33171.35</td>\n",
       "      <td>33227.49</td>\n",
       "      <td>32982.05</td>\n",
       "      <td>33044.56</td>\n",
       "    </tr>\n",
       "  </tbody>\n",
       "</table>\n",
       "</div>"
      ],
      "text/plain": [
       "         Year  Month        Day      Open      High       Low     Close\n",
       "Date                                                                   \n",
       "1/25/23  2023      1  Wednesday  33538.36  33773.09  33273.21  33743.84\n",
       "1/24/23  2023      1    Tuesday  33444.72  33782.92  33310.56  33733.96\n",
       "1/23/23  2023      1     Monday  33439.56  33782.88  33316.25  33629.56\n",
       "1/20/23  2023      1     Friday  33073.46  33381.95  32948.93  33375.49\n",
       "1/19/23  2023      1   Thursday  33171.35  33227.49  32982.05  33044.56"
      ]
     },
     "execution_count": 21,
     "metadata": {},
     "output_type": "execute_result"
    }
   ],
   "source": [
    "dow = pd.read_csv(\"dow.csv\", parse_dates=True)  # parsing the dates didn't work\n",
    "\n",
    "dow = dow.set_index(\"Date\")\n",
    "\n",
    "dow.head()  # we can get the last few rows using .tail()"
   ]
  },
  {
   "cell_type": "code",
   "execution_count": 6,
   "metadata": {},
   "outputs": [],
   "source": [
    "# get the shape, and dtypes\n",
    "\n",
    "\n",
    "\n",
    "\n"
   ]
  },
  {
   "cell_type": "code",
   "execution_count": 8,
   "metadata": {},
   "outputs": [],
   "source": [
    "# get descriptive statistics on DataFrame using the .describe() method\n",
    "\n",
    "\n"
   ]
  },
  {
   "cell_type": "markdown",
   "metadata": {},
   "source": [
    "### Selecting columns from a DataFrame\n",
    "\n",
    "We can select columns from a DataFrame using the square brackets; e.g., `my_df[\"my_col\"]`\n",
    "\n",
    "If we'd like to select multiple columns we can pass a list; e.g., `my_df[[\"col1\", \"col2\"]]`\n"
   ]
  },
  {
   "cell_type": "code",
   "execution_count": 9,
   "metadata": {},
   "outputs": [],
   "source": [
    "# Get just the DOW close price\n",
    "\n",
    "\n",
    "\n"
   ]
  },
  {
   "cell_type": "code",
   "execution_count": 10,
   "metadata": {},
   "outputs": [],
   "source": [
    "# Get both the open and close price\n",
    "\n",
    "\n",
    "\n",
    "# what is the type of close_price? (use type() and .dtypes)\n",
    "\n",
    "\n"
   ]
  },
  {
   "cell_type": "markdown",
   "metadata": {},
   "source": [
    "### Getting a subset of rows from a DataFrame\n",
    "\n",
    "Similar to pandas Series, we can get particular rows from a DataFrame using:\n",
    "\n",
    "- `.loc`:  Get rows by Index values - and by Boolean masks\n",
    "- `.iloc`.:  Get rows by their index number\n",
    "\n"
   ]
  },
  {
   "cell_type": "code",
   "execution_count": 11,
   "metadata": {},
   "outputs": [],
   "source": [
    "# Extract a row based on the Index name \"1/25/23\"\n",
    "\n",
    "\n"
   ]
  },
  {
   "cell_type": "code",
   "execution_count": null,
   "metadata": {},
   "outputs": [],
   "source": [
    "# Extract a row based on the row number (get row 0)\n",
    "\n",
    "\n"
   ]
  },
  {
   "cell_type": "code",
   "execution_count": 13,
   "metadata": {},
   "outputs": [],
   "source": [
    "# We can get multiple rows that meet particular conditions using Boolean masking\n",
    "\n",
    "\n",
    "\n"
   ]
  },
  {
   "cell_type": "code",
   "execution_count": 14,
   "metadata": {},
   "outputs": [],
   "source": [
    "# extract the 2022 values using our Boolean mask\n",
    "\n",
    "\n",
    "\n"
   ]
  },
  {
   "cell_type": "code",
   "execution_count": 15,
   "metadata": {},
   "outputs": [],
   "source": [
    "# Can you get the mean DOW close value in 2022? \n",
    "\n",
    "\n",
    "\n",
    "\n",
    "\n",
    "\n"
   ]
  },
  {
   "cell_type": "markdown",
   "metadata": {},
   "source": [
    "### Sorting values in a DataFrame\n",
    "\n",
    "We can sort values in a DataFrame using `.sort_values(\"col_name\")`\n",
    "\n",
    "We can sort from highest to lowest by setting the argument `ascending = False`\n"
   ]
  },
  {
   "cell_type": "code",
   "execution_count": 16,
   "metadata": {},
   "outputs": [],
   "source": [
    "# Sort the data by the Close value\n",
    "\n",
    "\n"
   ]
  },
  {
   "cell_type": "code",
   "execution_count": 17,
   "metadata": {},
   "outputs": [],
   "source": [
    "# What is the highest the DOW has been? \n",
    "\n",
    "\n",
    "\n"
   ]
  },
  {
   "cell_type": "markdown",
   "metadata": {},
   "source": [
    "### Adding new columns to a Data Frame\n",
    "\n",
    "We can add a column to a data frame using square backets. For example: \n",
    "\n",
    "- `my_df[\"new col\"] = my_df[\"col1\"] + my_df[\"col2\"]`.\n",
    "\n",
    "\n"
   ]
  },
  {
   "cell_type": "markdown",
   "metadata": {},
   "source": [
    "Percent change is defined as: $100 * \\frac{final - initial}{initial}$\n",
    "\n",
    "Can you add a \"Percent change\" column to the dow2 data (which is a copy of the dow data comparing closing and opening prices?  What is the biggest percent change in the dow? "
   ]
  },
  {
   "cell_type": "code",
   "execution_count": 22,
   "metadata": {},
   "outputs": [],
   "source": [
    "# copy the data to dow2\n",
    "dow2 = dow.copy()\n",
    "\n",
    "# add percent change column\n",
    "\n",
    "\n",
    "\n",
    "\n",
    "# sort the data\n",
    "\n",
    "\n"
   ]
  },
  {
   "cell_type": "code",
   "execution_count": 23,
   "metadata": {},
   "outputs": [],
   "source": [
    "# sort the data from largest to smallest\n",
    "\n",
    "\n",
    "\n",
    "\n",
    "\n",
    "# This is actually not historically correct for older dates. "
   ]
  },
  {
   "cell_type": "markdown",
   "metadata": {},
   "source": [
    "We can rename columns by:\n",
    "1. Creating a `rename_dictionary` dictionary that maps old column names to new column names\n",
    "2. By passing this dictionary to the `my_df.rename(columns = rename_dictionary)` method"
   ]
  },
  {
   "cell_type": "code",
   "execution_count": 24,
   "metadata": {},
   "outputs": [],
   "source": [
    "# Rename the Percent change column\n",
    "\n",
    "\n"
   ]
  },
  {
   "cell_type": "markdown",
   "metadata": {},
   "source": [
    "### Getting aggregate statistics by group\n",
    "\n",
    "We can get aggregate statistics by group using `groupby()` and `agg` methods using the following syntax:\n",
    "\n",
    "`my_df.groupby(\"col_name\").agg(\"agg_function_name\")`\n",
    "\n",
    "Can you get the max values of the DOW each year? \n"
   ]
  },
  {
   "cell_type": "code",
   "execution_count": 25,
   "metadata": {},
   "outputs": [],
   "source": [
    "# What was the max values of the DOW each year? \n",
    "\n",
    "\n"
   ]
  },
  {
   "cell_type": "markdown",
   "metadata": {},
   "source": [
    "There are several ways to get multiple statistics by group. Perhaps the most useful way is to use the syntax:\n",
    "\n",
    "<pre>\n",
    "my_df.groupby(\"group_col_name\").agg(\n",
    "   new_col1 = ('col_name', 'statistic_name1'),\n",
    "   new_col2 = ('col_name', 'statistic_name2'),\n",
    "   new_col3 = ('col_name', 'statistic_name3')\n",
    ")\n",
    "</pre>\n",
    "\n",
    "\n",
    "Let's create a DataFrame that has the number of trading days, the minimum and the maximum DOW value for each year. \n"
   ]
  },
  {
   "cell_type": "code",
   "execution_count": 26,
   "metadata": {},
   "outputs": [],
   "source": [
    "# Calculate the count, min, and max for the DOW Close value\n",
    "\n",
    "\n",
    "\n",
    "\n",
    "\n"
   ]
  },
  {
   "cell_type": "markdown",
   "metadata": {},
   "source": [
    "### \"Joining\" DataFrames by Index\n",
    "\n",
    "To explore joining DataFrames, let's load the egg and wheat prices as DataFrames. \n",
    "\n",
    "We will also:\n",
    "- Rename the Price colomns to Egg Price and Wheat Price\n",
    "- Set the Index to be the date\n",
    "\n",
    "\n",
    "When two DataFrames have the same Index values, we can use the `.join()` method to join them."
   ]
  },
  {
   "cell_type": "code",
   "execution_count": 27,
   "metadata": {},
   "outputs": [
    {
     "data": {
      "text/html": [
       "<div>\n",
       "<style scoped>\n",
       "    .dataframe tbody tr th:only-of-type {\n",
       "        vertical-align: middle;\n",
       "    }\n",
       "\n",
       "    .dataframe tbody tr th {\n",
       "        vertical-align: top;\n",
       "    }\n",
       "\n",
       "    .dataframe thead th {\n",
       "        text-align: right;\n",
       "    }\n",
       "</style>\n",
       "<table border=\"1\" class=\"dataframe\">\n",
       "  <thead>\n",
       "    <tr style=\"text-align: right;\">\n",
       "      <th></th>\n",
       "      <th>Egg Price</th>\n",
       "    </tr>\n",
       "    <tr>\n",
       "      <th>DATE</th>\n",
       "      <th></th>\n",
       "    </tr>\n",
       "  </thead>\n",
       "  <tbody>\n",
       "    <tr>\n",
       "      <th>1980-01-01</th>\n",
       "      <td>0.879</td>\n",
       "    </tr>\n",
       "    <tr>\n",
       "      <th>1980-02-01</th>\n",
       "      <td>0.774</td>\n",
       "    </tr>\n",
       "    <tr>\n",
       "      <th>1980-03-01</th>\n",
       "      <td>0.812</td>\n",
       "    </tr>\n",
       "  </tbody>\n",
       "</table>\n",
       "</div>"
      ],
      "text/plain": [
       "            Egg Price\n",
       "DATE                 \n",
       "1980-01-01      0.879\n",
       "1980-02-01      0.774\n",
       "1980-03-01      0.812"
      ]
     },
     "execution_count": 27,
     "metadata": {},
     "output_type": "execute_result"
    }
   ],
   "source": [
    "# load the egg prices as a DataFrame\n",
    "\n",
    "egg_price_df = pd.read_csv(\"monthly_egg_prices.csv\", parse_dates=True, index_col= \"DATE\")\n",
    "egg_price_df = egg_price_df.rename(columns = {\"Price\":\"Egg Price\"})\n",
    "egg_price_df.head(3)"
   ]
  },
  {
   "cell_type": "code",
   "execution_count": 28,
   "metadata": {},
   "outputs": [
    {
     "data": {
      "text/html": [
       "<div>\n",
       "<style scoped>\n",
       "    .dataframe tbody tr th:only-of-type {\n",
       "        vertical-align: middle;\n",
       "    }\n",
       "\n",
       "    .dataframe tbody tr th {\n",
       "        vertical-align: top;\n",
       "    }\n",
       "\n",
       "    .dataframe thead th {\n",
       "        text-align: right;\n",
       "    }\n",
       "</style>\n",
       "<table border=\"1\" class=\"dataframe\">\n",
       "  <thead>\n",
       "    <tr style=\"text-align: right;\">\n",
       "      <th></th>\n",
       "      <th>Wheat Price</th>\n",
       "    </tr>\n",
       "    <tr>\n",
       "      <th>DATE</th>\n",
       "      <th></th>\n",
       "    </tr>\n",
       "  </thead>\n",
       "  <tbody>\n",
       "    <tr>\n",
       "      <th>1990-01-01</th>\n",
       "      <td>167.918579</td>\n",
       "    </tr>\n",
       "    <tr>\n",
       "      <th>1990-02-01</th>\n",
       "      <td>160.937271</td>\n",
       "    </tr>\n",
       "    <tr>\n",
       "      <th>1990-03-01</th>\n",
       "      <td>156.528030</td>\n",
       "    </tr>\n",
       "  </tbody>\n",
       "</table>\n",
       "</div>"
      ],
      "text/plain": [
       "            Wheat Price\n",
       "DATE                   \n",
       "1990-01-01   167.918579\n",
       "1990-02-01   160.937271\n",
       "1990-03-01   156.528030"
      ]
     },
     "execution_count": 28,
     "metadata": {},
     "output_type": "execute_result"
    }
   ],
   "source": [
    "# Also load the wheat prices as a DataFrame\n",
    "\n",
    "wheat_price_df = pd.read_csv(\"monthly_wheat_prices.csv\", parse_dates=True, index_col= \"DATE\")\n",
    "wheat_price_df = wheat_price_df.rename(columns = {\"Price\":\"Wheat Price\"})\n",
    "wheat_price_df.head(3)"
   ]
  },
  {
   "cell_type": "code",
   "execution_count": 30,
   "metadata": {},
   "outputs": [],
   "source": [
    "# Let's do a left join by setting how = \"left\"\n",
    "# This will give same results as an outer join b/c the egg_price_df has all (and more) index values as the wheat_prices_df\n",
    "\n",
    "\n",
    "\n"
   ]
  },
  {
   "cell_type": "code",
   "execution_count": 31,
   "metadata": {},
   "outputs": [],
   "source": [
    "# Let's do a right join by setting how = \"right\"  \n",
    "# This will give same results as an inner join b/c the egg_price_df has all (and more) index values as the wheat_prices_df\n",
    "\n",
    "\n",
    "\n"
   ]
  },
  {
   "cell_type": "markdown",
   "metadata": {},
   "source": [
    "### \"Merging\" DataFrames by column values\n",
    "\n",
    "If we want to join by value in a column rather than by Index value we can use the `.merge()` method (which is very similar to the `.join()` method). \n"
   ]
  },
  {
   "cell_type": "code",
   "execution_count": 32,
   "metadata": {},
   "outputs": [],
   "source": [
    "# reset the Index so that DATE is a column in our egg_price_df2 DataFrame\n",
    "\n",
    "egg_price_df2 = ...\n",
    "\n"
   ]
  },
  {
   "cell_type": "code",
   "execution_count": 33,
   "metadata": {},
   "outputs": [],
   "source": [
    "# reset the Index so that DATE is a column in our wheat_price_df2 DataFrame\n",
    "\n",
    "wheat_price_df2 = ...\n",
    "\n"
   ]
  },
  {
   "cell_type": "code",
   "execution_count": 34,
   "metadata": {},
   "outputs": [],
   "source": [
    "# left join the egg_price_df2 with the wheat_price_df2 using the .merge() method\n",
    "left_joined2 = ...\n",
    "\n"
   ]
  },
  {
   "cell_type": "markdown",
   "metadata": {},
   "source": [
    "#### Merging with different column names\n",
    "\n",
    "What if the columns we want to join on have different names, we can use the `left_on` and `right_on` arguments to specify which columns (i.e., keys) should be used to align the two DataFrames"
   ]
  },
  {
   "cell_type": "code",
   "execution_count": 83,
   "metadata": {},
   "outputs": [
    {
     "data": {
      "text/html": [
       "<div>\n",
       "<style scoped>\n",
       "    .dataframe tbody tr th:only-of-type {\n",
       "        vertical-align: middle;\n",
       "    }\n",
       "\n",
       "    .dataframe tbody tr th {\n",
       "        vertical-align: top;\n",
       "    }\n",
       "\n",
       "    .dataframe thead th {\n",
       "        text-align: right;\n",
       "    }\n",
       "</style>\n",
       "<table border=\"1\" class=\"dataframe\">\n",
       "  <thead>\n",
       "    <tr style=\"text-align: right;\">\n",
       "      <th></th>\n",
       "      <th>Wheat DATE</th>\n",
       "      <th>Wheat Price</th>\n",
       "    </tr>\n",
       "  </thead>\n",
       "  <tbody>\n",
       "    <tr>\n",
       "      <th>0</th>\n",
       "      <td>1990-01-01</td>\n",
       "      <td>167.918579</td>\n",
       "    </tr>\n",
       "    <tr>\n",
       "      <th>1</th>\n",
       "      <td>1990-02-01</td>\n",
       "      <td>160.937271</td>\n",
       "    </tr>\n",
       "    <tr>\n",
       "      <th>2</th>\n",
       "      <td>1990-03-01</td>\n",
       "      <td>156.528030</td>\n",
       "    </tr>\n",
       "  </tbody>\n",
       "</table>\n",
       "</div>"
      ],
      "text/plain": [
       "  Wheat DATE  Wheat Price\n",
       "0 1990-01-01   167.918579\n",
       "1 1990-02-01   160.937271\n",
       "2 1990-03-01   156.528030"
      ]
     },
     "execution_count": 83,
     "metadata": {},
     "output_type": "execute_result"
    }
   ],
   "source": [
    "# rename the columns in our DataFrames to be Egg DATESand Wheat DATE\n",
    "\n",
    "egg_price_df3 = egg_price_df2.rename(columns = {\"DATE\":\"Egg DATE\"})\n",
    "wheat_price_df3 = wheat_price_df2.rename(columns = {\"DATE\": \"Wheat DATE\"})\n",
    "\n",
    "wheat_price_df3.head(3)\n"
   ]
  },
  {
   "cell_type": "code",
   "execution_count": 84,
   "metadata": {},
   "outputs": [
    {
     "data": {
      "text/html": [
       "<div>\n",
       "<style scoped>\n",
       "    .dataframe tbody tr th:only-of-type {\n",
       "        vertical-align: middle;\n",
       "    }\n",
       "\n",
       "    .dataframe tbody tr th {\n",
       "        vertical-align: top;\n",
       "    }\n",
       "\n",
       "    .dataframe thead th {\n",
       "        text-align: right;\n",
       "    }\n",
       "</style>\n",
       "<table border=\"1\" class=\"dataframe\">\n",
       "  <thead>\n",
       "    <tr style=\"text-align: right;\">\n",
       "      <th></th>\n",
       "      <th>Egg DATE</th>\n",
       "      <th>Egg Price</th>\n",
       "    </tr>\n",
       "  </thead>\n",
       "  <tbody>\n",
       "    <tr>\n",
       "      <th>0</th>\n",
       "      <td>1980-01-01</td>\n",
       "      <td>0.879</td>\n",
       "    </tr>\n",
       "    <tr>\n",
       "      <th>1</th>\n",
       "      <td>1980-02-01</td>\n",
       "      <td>0.774</td>\n",
       "    </tr>\n",
       "    <tr>\n",
       "      <th>2</th>\n",
       "      <td>1980-03-01</td>\n",
       "      <td>0.812</td>\n",
       "    </tr>\n",
       "  </tbody>\n",
       "</table>\n",
       "</div>"
      ],
      "text/plain": [
       "    Egg DATE  Egg Price\n",
       "0 1980-01-01      0.879\n",
       "1 1980-02-01      0.774\n",
       "2 1980-03-01      0.812"
      ]
     },
     "execution_count": 84,
     "metadata": {},
     "output_type": "execute_result"
    }
   ],
   "source": [
    "egg_price_df3.head(3)"
   ]
  },
  {
   "cell_type": "code",
   "execution_count": 35,
   "metadata": {},
   "outputs": [],
   "source": [
    "# left join the data frames with the different column names using .merge() \n",
    "\n",
    "left_joined3 = ...\n",
    "\n",
    "\n"
   ]
  },
  {
   "cell_type": "markdown",
   "metadata": {},
   "source": [
    "#### Example: Spelling out NBA position names\n",
    "\n",
    "As you will recall, our NBA salaries DataFrame had the different positions listed as abbreviations such as \"C\" and \"PG\". \n",
    "\n",
    "Often it is hard to tell what these abbreviations (or codes) mean, so a common use of joining is to join on to a table a list of longer names that give more meaning to abbreviations. \n",
    "\n",
    "Below we load our `nba_salaries` DataFrame along with a `nba_positions` DataFrame which has information about how each position abbreviation maps on to the position's full name.\n",
    "\n",
    "Let's merge these DataFrames together so that our `nba_salaries` DataFrame has the full position names!\n",
    "\n"
   ]
  },
  {
   "cell_type": "code",
   "execution_count": 87,
   "metadata": {},
   "outputs": [
    {
     "data": {
      "text/html": [
       "<div>\n",
       "<style scoped>\n",
       "    .dataframe tbody tr th:only-of-type {\n",
       "        vertical-align: middle;\n",
       "    }\n",
       "\n",
       "    .dataframe tbody tr th {\n",
       "        vertical-align: top;\n",
       "    }\n",
       "\n",
       "    .dataframe thead th {\n",
       "        text-align: right;\n",
       "    }\n",
       "</style>\n",
       "<table border=\"1\" class=\"dataframe\">\n",
       "  <thead>\n",
       "    <tr style=\"text-align: right;\">\n",
       "      <th></th>\n",
       "      <th>PLAYER</th>\n",
       "      <th>POSITION</th>\n",
       "      <th>TEAM</th>\n",
       "      <th>SALARY</th>\n",
       "    </tr>\n",
       "  </thead>\n",
       "  <tbody>\n",
       "    <tr>\n",
       "      <th>0</th>\n",
       "      <td>Paul Millsap</td>\n",
       "      <td>PF</td>\n",
       "      <td>Atlanta Hawks</td>\n",
       "      <td>18.671659</td>\n",
       "    </tr>\n",
       "    <tr>\n",
       "      <th>1</th>\n",
       "      <td>Al Horford</td>\n",
       "      <td>C</td>\n",
       "      <td>Atlanta Hawks</td>\n",
       "      <td>12.000000</td>\n",
       "    </tr>\n",
       "    <tr>\n",
       "      <th>2</th>\n",
       "      <td>Tiago Splitter</td>\n",
       "      <td>C</td>\n",
       "      <td>Atlanta Hawks</td>\n",
       "      <td>9.756250</td>\n",
       "    </tr>\n",
       "  </tbody>\n",
       "</table>\n",
       "</div>"
      ],
      "text/plain": [
       "           PLAYER POSITION           TEAM     SALARY\n",
       "0    Paul Millsap       PF  Atlanta Hawks  18.671659\n",
       "1      Al Horford        C  Atlanta Hawks  12.000000\n",
       "2  Tiago Splitter        C  Atlanta Hawks   9.756250"
      ]
     },
     "execution_count": 87,
     "metadata": {},
     "output_type": "execute_result"
    }
   ],
   "source": [
    "nba_salaries = pd.read_csv(\"nba_salaries_2015_16.csv\")\n",
    "\n",
    "nba_salaries.head(3)\n"
   ]
  },
  {
   "cell_type": "code",
   "execution_count": 88,
   "metadata": {},
   "outputs": [
    {
     "data": {
      "text/html": [
       "<div>\n",
       "<style scoped>\n",
       "    .dataframe tbody tr th:only-of-type {\n",
       "        vertical-align: middle;\n",
       "    }\n",
       "\n",
       "    .dataframe tbody tr th {\n",
       "        vertical-align: top;\n",
       "    }\n",
       "\n",
       "    .dataframe thead th {\n",
       "        text-align: right;\n",
       "    }\n",
       "</style>\n",
       "<table border=\"1\" class=\"dataframe\">\n",
       "  <thead>\n",
       "    <tr style=\"text-align: right;\">\n",
       "      <th></th>\n",
       "      <th>Position Abbreviation</th>\n",
       "      <th>Position Name</th>\n",
       "    </tr>\n",
       "  </thead>\n",
       "  <tbody>\n",
       "    <tr>\n",
       "      <th>0</th>\n",
       "      <td>PF</td>\n",
       "      <td>Point Guard</td>\n",
       "    </tr>\n",
       "    <tr>\n",
       "      <th>1</th>\n",
       "      <td>SG</td>\n",
       "      <td>Shooting Guard</td>\n",
       "    </tr>\n",
       "    <tr>\n",
       "      <th>2</th>\n",
       "      <td>C</td>\n",
       "      <td>Center</td>\n",
       "    </tr>\n",
       "    <tr>\n",
       "      <th>3</th>\n",
       "      <td>SF</td>\n",
       "      <td>Small Forward</td>\n",
       "    </tr>\n",
       "    <tr>\n",
       "      <th>4</th>\n",
       "      <td>PF</td>\n",
       "      <td>Power Forward</td>\n",
       "    </tr>\n",
       "  </tbody>\n",
       "</table>\n",
       "</div>"
      ],
      "text/plain": [
       "  Position Abbreviation   Position Name\n",
       "0                    PF     Point Guard\n",
       "1                    SG  Shooting Guard\n",
       "2                     C          Center\n",
       "3                    SF   Small Forward\n",
       "4                    PF   Power Forward"
      ]
     },
     "execution_count": 88,
     "metadata": {},
     "output_type": "execute_result"
    }
   ],
   "source": [
    "nba_positions = pd.read_csv(\"nba_position_names.csv\")\n",
    "nba_positions"
   ]
  },
  {
   "cell_type": "code",
   "execution_count": 36,
   "metadata": {},
   "outputs": [],
   "source": [
    "# merge the DataFrames together so each player's position is the full position name\n",
    "\n",
    "\n",
    "\n"
   ]
  },
  {
   "cell_type": "code",
   "execution_count": 37,
   "metadata": {},
   "outputs": [],
   "source": [
    "# remove unnecessary columns using the .drop(colums = )  method\n",
    "\n",
    "\n"
   ]
  },
  {
   "cell_type": "markdown",
   "metadata": {},
   "source": [
    "![pandas](https://image.goat.com/transform/v1/attachments/product_template_additional_pictures/images/071/445/310/original/719082_01.jpg.jpeg)"
   ]
  }
 ],
 "metadata": {
  "anaconda-cloud": {},
  "kernelspec": {
   "display_name": "Python [conda env:ydata123_2023e] *",
   "language": "python",
   "name": "conda-env-ydata123_2023e-py"
  },
  "language_info": {
   "codemirror_mode": {
    "name": "ipython",
    "version": 3
   },
   "file_extension": ".py",
   "mimetype": "text/x-python",
   "name": "python",
   "nbconvert_exporter": "python",
   "pygments_lexer": "ipython3",
   "version": "3.11.0"
  }
 },
 "nbformat": 4,
 "nbformat_minor": 4
}
